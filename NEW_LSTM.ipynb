{
 "cells": [
  {
   "cell_type": "code",
   "execution_count": 1,
   "id": "f2b7870b",
   "metadata": {},
   "outputs": [
    {
     "name": "stderr",
     "output_type": "stream",
     "text": [
      "/home/amirel/.pyenv/versions/3.8.12/envs/time_series/lib/python3.8/site-packages/tqdm/auto.py:22: TqdmWarning: IProgress not found. Please update jupyter and ipywidgets. See https://ipywidgets.readthedocs.io/en/stable/user_install.html\n",
      "  from .autonotebook import tqdm as notebook_tqdm\n",
      "2022-09-13 14:18:47.025962: I tensorflow/core/platform/cpu_feature_guard.cc:193] This TensorFlow binary is optimized with oneAPI Deep Neural Network Library (oneDNN) to use the following CPU instructions in performance-critical operations:  AVX2 AVX512F AVX512_VNNI FMA\n",
      "To enable them in other operations, rebuild TensorFlow with the appropriate compiler flags.\n",
      "2022-09-13 14:18:47.138332: I tensorflow/core/util/util.cc:169] oneDNN custom operations are on. You may see slightly different numerical results due to floating-point round-off errors from different computation orders. To turn them off, set the environment variable `TF_ENABLE_ONEDNN_OPTS=0`.\n",
      "2022-09-13 14:18:47.142228: W tensorflow/stream_executor/platform/default/dso_loader.cc:64] Could not load dynamic library 'libcudart.so.11.0'; dlerror: libcudart.so.11.0: cannot open shared object file: No such file or directory\n",
      "2022-09-13 14:18:47.142239: I tensorflow/stream_executor/cuda/cudart_stub.cc:29] Ignore above cudart dlerror if you do not have a GPU set up on your machine.\n",
      "2022-09-13 14:18:47.162595: E tensorflow/stream_executor/cuda/cuda_blas.cc:2981] Unable to register cuBLAS factory: Attempting to register factory for plugin cuBLAS when one has already been registered\n",
      "2022-09-13 14:18:47.712482: W tensorflow/stream_executor/platform/default/dso_loader.cc:64] Could not load dynamic library 'libnvinfer.so.7'; dlerror: libnvinfer.so.7: cannot open shared object file: No such file or directory\n",
      "2022-09-13 14:18:47.712562: W tensorflow/stream_executor/platform/default/dso_loader.cc:64] Could not load dynamic library 'libnvinfer_plugin.so.7'; dlerror: libnvinfer_plugin.so.7: cannot open shared object file: No such file or directory\n",
      "2022-09-13 14:18:47.712567: W tensorflow/compiler/tf2tensorrt/utils/py_utils.cc:38] TF-TRT Warning: Cannot dlopen some TensorRT libraries. If you would like to use Nvidia GPU with TensorRT, please make sure the missing libraries mentioned above are installed properly.\n"
     ]
    }
   ],
   "source": [
    "import numpy as np\n",
    "import pandas as pd\n",
    "import matplotlib.pyplot as plt\n",
    "import seaborn as sns\n",
    "import torch\n",
    "import torch.nn as nn\n",
    "import torch.optim as optim\n",
    "import numpy as np\n",
    "import pandas as pd\n",
    "import shutil\n",
    "from sklearn.preprocessing import MinMaxScaler\n",
    "from tqdm import tqdm_notebook as tqdm\n",
    "\n",
    "from torch.utils.tensorboard import SummaryWriter\n",
    "import matplotlib.pyplot as plt\n",
    "\n",
    "from darts import TimeSeries\n",
    "from darts.dataprocessing.transformers import Scaler\n",
    "from darts.models import RNNModel, ExponentialSmoothing, BlockRNNModel\n",
    "from darts.metrics import mape\n",
    "from darts.utils.statistics import check_seasonality, plot_acf\n",
    "from darts.datasets import AirPassengersDataset, SunspotsDataset\n",
    "from darts.utils.timeseries_generation import datetime_attribute_timeseries\n",
    "\n",
    "import warnings\n",
    "\n",
    "warnings.filterwarnings(\"ignore\")\n",
    "import logging\n",
    "\n",
    "from tensorflow.keras.models import Sequential\n",
    "from tensorflow.keras.layers import *\n",
    "from tensorflow.keras.losses import MeanSquaredError\n",
    "from tensorflow.keras.metrics import RootMeanSquaredError\n",
    "from tensorflow.keras.optimizers import Adam\n",
    "from tensorflow.keras.optimizers.schedules import ExponentialDecay\n",
    "from tensorflow.keras.callbacks import EarlyStopping\n",
    "from tensorflow.keras.layers import BatchNormalization\n",
    "from tensorflow import expand_dims\n",
    "from tensorflow.keras.losses import MeanAbsolutePercentageError\n",
    "import tensorflow\n",
    "\n",
    "from datetime import datetime\n",
    "\n",
    "from statsmodels.graphics.tsaplots import plot_acf, plot_pacf\n",
    "\n",
    "from numpy import asarray\n",
    "from pandas import read_csv\n",
    "from pandas import DataFrame\n",
    "from pandas import concat\n",
    "from sklearn.metrics import mean_absolute_error\n",
    "from xgboost import XGBRegressor\n",
    "from matplotlib import pyplot"
   ]
  },
  {
   "cell_type": "markdown",
   "id": "be6e12a8",
   "metadata": {},
   "source": [
    "# LSTM 2017-2018\n"
   ]
  },
  {
   "cell_type": "code",
   "execution_count": 2,
   "id": "c23b009c",
   "metadata": {},
   "outputs": [],
   "source": [
    "df = pd.read_csv('../../AltInt/Inflation_prediction/raw_data/final_df.csv', index_col=0)\n"
   ]
  },
  {
   "cell_type": "code",
   "execution_count": 3,
   "id": "815075f5",
   "metadata": {},
   "outputs": [
    {
     "data": {
      "text/html": [
       "<div>\n",
       "<style scoped>\n",
       "    .dataframe tbody tr th:only-of-type {\n",
       "        vertical-align: middle;\n",
       "    }\n",
       "\n",
       "    .dataframe tbody tr th {\n",
       "        vertical-align: top;\n",
       "    }\n",
       "\n",
       "    .dataframe thead th {\n",
       "        text-align: right;\n",
       "    }\n",
       "</style>\n",
       "<table border=\"1\" class=\"dataframe\">\n",
       "  <thead>\n",
       "    <tr style=\"text-align: right;\">\n",
       "      <th></th>\n",
       "      <th>Brent_Crude_GBP</th>\n",
       "      <th>WTI_Crude_GBP</th>\n",
       "      <th>GBP Curncy</th>\n",
       "      <th>GBPEUR Curncy</th>\n",
       "      <th>UKX Index</th>\n",
       "      <th>SPX Index</th>\n",
       "      <th>SX5E Index</th>\n",
       "      <th>Natural_Gas</th>\n",
       "      <th>CPI</th>\n",
       "      <th>RPI</th>\n",
       "      <th>GBP_IRS_2y</th>\n",
       "      <th>GBP_IRS_10y</th>\n",
       "      <th>Nationwide_HPI</th>\n",
       "      <th>RPI YOY</th>\n",
       "    </tr>\n",
       "    <tr>\n",
       "      <th>Date</th>\n",
       "      <th></th>\n",
       "      <th></th>\n",
       "      <th></th>\n",
       "      <th></th>\n",
       "      <th></th>\n",
       "      <th></th>\n",
       "      <th></th>\n",
       "      <th></th>\n",
       "      <th></th>\n",
       "      <th></th>\n",
       "      <th></th>\n",
       "      <th></th>\n",
       "      <th></th>\n",
       "      <th></th>\n",
       "    </tr>\n",
       "  </thead>\n",
       "  <tbody>\n",
       "    <tr>\n",
       "      <th>2009-01-01</th>\n",
       "      <td>30.903838</td>\n",
       "      <td>33.424333</td>\n",
       "      <td>1.479027</td>\n",
       "      <td>1.099905</td>\n",
       "      <td>4308.390000</td>\n",
       "      <td>596.071497</td>\n",
       "      <td>2135.982324</td>\n",
       "      <td>12.472805</td>\n",
       "      <td>84.9</td>\n",
       "      <td>210.1</td>\n",
       "      <td>2.122545</td>\n",
       "      <td>3.757500</td>\n",
       "      <td>300.2</td>\n",
       "      <td>0.142993</td>\n",
       "    </tr>\n",
       "    <tr>\n",
       "      <th>2009-02-01</th>\n",
       "      <td>29.393166</td>\n",
       "      <td>33.617553</td>\n",
       "      <td>1.492643</td>\n",
       "      <td>1.120824</td>\n",
       "      <td>4232.114762</td>\n",
       "      <td>570.410394</td>\n",
       "      <td>2020.716905</td>\n",
       "      <td>9.467866</td>\n",
       "      <td>85.6</td>\n",
       "      <td>211.4</td>\n",
       "      <td>2.129905</td>\n",
       "      <td>3.798333</td>\n",
       "      <td>294.7</td>\n",
       "      <td>0.000000</td>\n",
       "    </tr>\n",
       "    <tr>\n",
       "      <th>2009-03-01</th>\n",
       "      <td>31.733352</td>\n",
       "      <td>36.826152</td>\n",
       "      <td>1.494241</td>\n",
       "      <td>1.097877</td>\n",
       "      <td>4107.840909</td>\n",
       "      <td>566.393975</td>\n",
       "      <td>2029.160819</td>\n",
       "      <td>8.064295</td>\n",
       "      <td>85.8</td>\n",
       "      <td>211.3</td>\n",
       "      <td>2.142045</td>\n",
       "      <td>3.872500</td>\n",
       "      <td>301.1</td>\n",
       "      <td>-0.377181</td>\n",
       "    </tr>\n",
       "    <tr>\n",
       "      <th>2009-04-01</th>\n",
       "      <td>33.990786</td>\n",
       "      <td>36.012519</td>\n",
       "      <td>1.511936</td>\n",
       "      <td>1.125327</td>\n",
       "      <td>4259.890500</td>\n",
       "      <td>588.042125</td>\n",
       "      <td>2119.383029</td>\n",
       "      <td>7.762397</td>\n",
       "      <td>86.0</td>\n",
       "      <td>211.5</td>\n",
       "      <td>2.143250</td>\n",
       "      <td>3.935500</td>\n",
       "      <td>302.9</td>\n",
       "      <td>-1.168224</td>\n",
       "    </tr>\n",
       "    <tr>\n",
       "      <th>2009-05-01</th>\n",
       "      <td>37.524515</td>\n",
       "      <td>38.801542</td>\n",
       "      <td>1.561252</td>\n",
       "      <td>1.131686</td>\n",
       "      <td>4434.719500</td>\n",
       "      <td>582.718727</td>\n",
       "      <td>2164.120107</td>\n",
       "      <td>7.757394</td>\n",
       "      <td>86.4</td>\n",
       "      <td>212.8</td>\n",
       "      <td>2.031900</td>\n",
       "      <td>3.917500</td>\n",
       "      <td>307.2</td>\n",
       "      <td>-1.069270</td>\n",
       "    </tr>\n",
       "    <tr>\n",
       "      <th>...</th>\n",
       "      <td>...</td>\n",
       "      <td>...</td>\n",
       "      <td>...</td>\n",
       "      <td>...</td>\n",
       "      <td>...</td>\n",
       "      <td>...</td>\n",
       "      <td>...</td>\n",
       "      <td>...</td>\n",
       "      <td>...</td>\n",
       "      <td>...</td>\n",
       "      <td>...</td>\n",
       "      <td>...</td>\n",
       "      <td>...</td>\n",
       "      <td>...</td>\n",
       "    </tr>\n",
       "    <tr>\n",
       "      <th>2022-05-01</th>\n",
       "      <td>89.748267</td>\n",
       "      <td>85.128666</td>\n",
       "      <td>1.247484</td>\n",
       "      <td>1.178074</td>\n",
       "      <td>7472.767778</td>\n",
       "      <td>3274.256696</td>\n",
       "      <td>3179.554466</td>\n",
       "      <td>81.073170</td>\n",
       "      <td>120.8</td>\n",
       "      <td>337.1</td>\n",
       "      <td>2.538121</td>\n",
       "      <td>2.240542</td>\n",
       "      <td>538.4</td>\n",
       "      <td>11.659490</td>\n",
       "    </tr>\n",
       "    <tr>\n",
       "      <th>2022-06-01</th>\n",
       "      <td>95.251442</td>\n",
       "      <td>87.836565</td>\n",
       "      <td>1.233611</td>\n",
       "      <td>1.167758</td>\n",
       "      <td>7238.188421</td>\n",
       "      <td>3172.340166</td>\n",
       "      <td>3058.969505</td>\n",
       "      <td>96.746393</td>\n",
       "      <td>121.8</td>\n",
       "      <td>340.0</td>\n",
       "      <td>2.933563</td>\n",
       "      <td>2.626558</td>\n",
       "      <td>541.8</td>\n",
       "      <td>11.842105</td>\n",
       "    </tr>\n",
       "    <tr>\n",
       "      <th>2022-07-01</th>\n",
       "      <td>85.363871</td>\n",
       "      <td>80.415504</td>\n",
       "      <td>1.231479</td>\n",
       "      <td>1.184589</td>\n",
       "      <td>7303.865263</td>\n",
       "      <td>3298.689210</td>\n",
       "      <td>3082.959231</td>\n",
       "      <td>128.688654</td>\n",
       "      <td>122.5</td>\n",
       "      <td>343.2</td>\n",
       "      <td>2.700779</td>\n",
       "      <td>2.302258</td>\n",
       "      <td>541.0</td>\n",
       "      <td>12.340426</td>\n",
       "    </tr>\n",
       "    <tr>\n",
       "      <th>2022-08-01</th>\n",
       "      <td>80.656541</td>\n",
       "      <td>78.913331</td>\n",
       "      <td>1.211816</td>\n",
       "      <td>1.181732</td>\n",
       "      <td>7453.987222</td>\n",
       "      <td>3446.779300</td>\n",
       "      <td>3131.457852</td>\n",
       "      <td>180.082147</td>\n",
       "      <td>NaN</td>\n",
       "      <td>NaN</td>\n",
       "      <td>3.368889</td>\n",
       "      <td>2.688500</td>\n",
       "      <td>546.1</td>\n",
       "      <td>NaN</td>\n",
       "    </tr>\n",
       "    <tr>\n",
       "      <th>2022-09-01</th>\n",
       "      <td>73.474167</td>\n",
       "      <td>80.706056</td>\n",
       "      <td>1.272420</td>\n",
       "      <td>1.180400</td>\n",
       "      <td>7403.016000</td>\n",
       "      <td>3300.260920</td>\n",
       "      <td>3208.537784</td>\n",
       "      <td>93.341821</td>\n",
       "      <td>NaN</td>\n",
       "      <td>NaN</td>\n",
       "      <td>2.475340</td>\n",
       "      <td>2.155940</td>\n",
       "      <td>NaN</td>\n",
       "      <td>NaN</td>\n",
       "    </tr>\n",
       "  </tbody>\n",
       "</table>\n",
       "<p>165 rows × 14 columns</p>\n",
       "</div>"
      ],
      "text/plain": [
       "            Brent_Crude_GBP  WTI_Crude_GBP  GBP Curncy  GBPEUR Curncy  \\\n",
       "Date                                                                    \n",
       "2009-01-01        30.903838      33.424333    1.479027       1.099905   \n",
       "2009-02-01        29.393166      33.617553    1.492643       1.120824   \n",
       "2009-03-01        31.733352      36.826152    1.494241       1.097877   \n",
       "2009-04-01        33.990786      36.012519    1.511936       1.125327   \n",
       "2009-05-01        37.524515      38.801542    1.561252       1.131686   \n",
       "...                     ...            ...         ...            ...   \n",
       "2022-05-01        89.748267      85.128666    1.247484       1.178074   \n",
       "2022-06-01        95.251442      87.836565    1.233611       1.167758   \n",
       "2022-07-01        85.363871      80.415504    1.231479       1.184589   \n",
       "2022-08-01        80.656541      78.913331    1.211816       1.181732   \n",
       "2022-09-01        73.474167      80.706056    1.272420       1.180400   \n",
       "\n",
       "              UKX Index    SPX Index   SX5E Index  Natural_Gas    CPI    RPI  \\\n",
       "Date                                                                           \n",
       "2009-01-01  4308.390000   596.071497  2135.982324    12.472805   84.9  210.1   \n",
       "2009-02-01  4232.114762   570.410394  2020.716905     9.467866   85.6  211.4   \n",
       "2009-03-01  4107.840909   566.393975  2029.160819     8.064295   85.8  211.3   \n",
       "2009-04-01  4259.890500   588.042125  2119.383029     7.762397   86.0  211.5   \n",
       "2009-05-01  4434.719500   582.718727  2164.120107     7.757394   86.4  212.8   \n",
       "...                 ...          ...          ...          ...    ...    ...   \n",
       "2022-05-01  7472.767778  3274.256696  3179.554466    81.073170  120.8  337.1   \n",
       "2022-06-01  7238.188421  3172.340166  3058.969505    96.746393  121.8  340.0   \n",
       "2022-07-01  7303.865263  3298.689210  3082.959231   128.688654  122.5  343.2   \n",
       "2022-08-01  7453.987222  3446.779300  3131.457852   180.082147    NaN    NaN   \n",
       "2022-09-01  7403.016000  3300.260920  3208.537784    93.341821    NaN    NaN   \n",
       "\n",
       "            GBP_IRS_2y  GBP_IRS_10y  Nationwide_HPI    RPI YOY  \n",
       "Date                                                            \n",
       "2009-01-01    2.122545     3.757500           300.2   0.142993  \n",
       "2009-02-01    2.129905     3.798333           294.7   0.000000  \n",
       "2009-03-01    2.142045     3.872500           301.1  -0.377181  \n",
       "2009-04-01    2.143250     3.935500           302.9  -1.168224  \n",
       "2009-05-01    2.031900     3.917500           307.2  -1.069270  \n",
       "...                ...          ...             ...        ...  \n",
       "2022-05-01    2.538121     2.240542           538.4  11.659490  \n",
       "2022-06-01    2.933563     2.626558           541.8  11.842105  \n",
       "2022-07-01    2.700779     2.302258           541.0  12.340426  \n",
       "2022-08-01    3.368889     2.688500           546.1        NaN  \n",
       "2022-09-01    2.475340     2.155940             NaN        NaN  \n",
       "\n",
       "[165 rows x 14 columns]"
      ]
     },
     "execution_count": 3,
     "metadata": {},
     "output_type": "execute_result"
    }
   ],
   "source": [
    "df.index = pd.to_datetime(df.index)\n",
    "df"
   ]
  },
  {
   "cell_type": "code",
   "execution_count": 4,
   "id": "47774425",
   "metadata": {},
   "outputs": [],
   "source": [
    "#rpi_lag = pd.read_csv('RPI_lagged.csv')\n"
   ]
  },
  {
   "cell_type": "code",
   "execution_count": 5,
   "id": "0abf9689",
   "metadata": {},
   "outputs": [],
   "source": [
    "#rpi_lag"
   ]
  },
  {
   "cell_type": "code",
   "execution_count": 6,
   "id": "006e4b0a",
   "metadata": {},
   "outputs": [],
   "source": [
    "# rpi_lag = rpi_lag.rename({'Date CO1 Comdty': 'Date'}, axis=1)\n",
    "# rpi_lag = rpi_lag.set_index('Date')\n"
   ]
  },
  {
   "cell_type": "code",
   "execution_count": 7,
   "id": "83a6fb60",
   "metadata": {},
   "outputs": [],
   "source": [
    "#rpi_lag.index = pd.to_datetime(rpi_lag.index)"
   ]
  },
  {
   "cell_type": "code",
   "execution_count": 8,
   "id": "4a478a43",
   "metadata": {},
   "outputs": [],
   "source": [
    "#rpi_lag"
   ]
  },
  {
   "cell_type": "code",
   "execution_count": 9,
   "id": "97570fd6",
   "metadata": {},
   "outputs": [],
   "source": [
    "#new_df = df.join(rpi_lag)"
   ]
  },
  {
   "cell_type": "code",
   "execution_count": 10,
   "id": "5a906132",
   "metadata": {},
   "outputs": [],
   "source": [
    "#new_df"
   ]
  },
  {
   "cell_type": "code",
   "execution_count": 5,
   "id": "e85ecf39",
   "metadata": {},
   "outputs": [],
   "source": [
    "# X = new_df.drop(columns = ['RPI', 'CPI', 'RPI YOY'])\n",
    "# y = new_df['RPI']\n",
    "\n",
    "X = df.drop(columns = ['RPI', 'CPI', 'RPI YOY'])\n",
    "y = df['RPI']"
   ]
  },
  {
   "cell_type": "code",
   "execution_count": 6,
   "id": "e169ba6b",
   "metadata": {},
   "outputs": [
    {
     "data": {
      "text/html": [
       "<div>\n",
       "<style scoped>\n",
       "    .dataframe tbody tr th:only-of-type {\n",
       "        vertical-align: middle;\n",
       "    }\n",
       "\n",
       "    .dataframe tbody tr th {\n",
       "        vertical-align: top;\n",
       "    }\n",
       "\n",
       "    .dataframe thead th {\n",
       "        text-align: right;\n",
       "    }\n",
       "</style>\n",
       "<table border=\"1\" class=\"dataframe\">\n",
       "  <thead>\n",
       "    <tr style=\"text-align: right;\">\n",
       "      <th></th>\n",
       "      <th>Brent_Crude_GBP</th>\n",
       "      <th>WTI_Crude_GBP</th>\n",
       "      <th>GBP Curncy</th>\n",
       "      <th>GBPEUR Curncy</th>\n",
       "      <th>UKX Index</th>\n",
       "      <th>SPX Index</th>\n",
       "      <th>SX5E Index</th>\n",
       "      <th>Natural_Gas</th>\n",
       "      <th>GBP_IRS_2y</th>\n",
       "      <th>GBP_IRS_10y</th>\n",
       "      <th>Nationwide_HPI</th>\n",
       "    </tr>\n",
       "    <tr>\n",
       "      <th>Date</th>\n",
       "      <th></th>\n",
       "      <th></th>\n",
       "      <th></th>\n",
       "      <th></th>\n",
       "      <th></th>\n",
       "      <th></th>\n",
       "      <th></th>\n",
       "      <th></th>\n",
       "      <th></th>\n",
       "      <th></th>\n",
       "      <th></th>\n",
       "    </tr>\n",
       "  </thead>\n",
       "  <tbody>\n",
       "    <tr>\n",
       "      <th>2015-01-01</th>\n",
       "      <td>32.818125</td>\n",
       "      <td>31.737054</td>\n",
       "      <td>1.516177</td>\n",
       "      <td>1.336264</td>\n",
       "      <td>6641.765238</td>\n",
       "      <td>1339.503656</td>\n",
       "      <td>2495.664852</td>\n",
       "      <td>13.099203</td>\n",
       "      <td>0.858274</td>\n",
       "      <td>1.684729</td>\n",
       "      <td>375.9</td>\n",
       "    </tr>\n",
       "    <tr>\n",
       "      <th>2015-02-01</th>\n",
       "      <td>38.343255</td>\n",
       "      <td>32.759207</td>\n",
       "      <td>1.533386</td>\n",
       "      <td>1.362371</td>\n",
       "      <td>6746.840476</td>\n",
       "      <td>1356.232800</td>\n",
       "      <td>2536.801725</td>\n",
       "      <td>13.938965</td>\n",
       "      <td>0.952887</td>\n",
       "      <td>1.856450</td>\n",
       "      <td>375.0</td>\n",
       "    </tr>\n",
       "    <tr>\n",
       "      <th>2015-03-01</th>\n",
       "      <td>37.866261</td>\n",
       "      <td>31.635113</td>\n",
       "      <td>1.503677</td>\n",
       "      <td>1.377568</td>\n",
       "      <td>6791.140000</td>\n",
       "      <td>1380.431518</td>\n",
       "      <td>2615.694574</td>\n",
       "      <td>13.821672</td>\n",
       "      <td>0.947216</td>\n",
       "      <td>1.783045</td>\n",
       "      <td>377.9</td>\n",
       "    </tr>\n",
       "    <tr>\n",
       "      <th>2015-04-01</th>\n",
       "      <td>40.409377</td>\n",
       "      <td>35.572047</td>\n",
       "      <td>1.512909</td>\n",
       "      <td>1.386036</td>\n",
       "      <td>6886.650952</td>\n",
       "      <td>1381.813784</td>\n",
       "      <td>2620.084413</td>\n",
       "      <td>13.690119</td>\n",
       "      <td>0.923663</td>\n",
       "      <td>1.811432</td>\n",
       "      <td>385.1</td>\n",
       "    </tr>\n",
       "    <tr>\n",
       "      <th>2015-05-01</th>\n",
       "      <td>42.505052</td>\n",
       "      <td>36.186768</td>\n",
       "      <td>1.543548</td>\n",
       "      <td>1.384014</td>\n",
       "      <td>6864.994500</td>\n",
       "      <td>1360.216539</td>\n",
       "      <td>2568.111738</td>\n",
       "      <td>13.123988</td>\n",
       "      <td>1.009908</td>\n",
       "      <td>1.971630</td>\n",
       "      <td>389.3</td>\n",
       "    </tr>\n",
       "    <tr>\n",
       "      <th>2015-06-01</th>\n",
       "      <td>41.067582</td>\n",
       "      <td>35.885473</td>\n",
       "      <td>1.552386</td>\n",
       "      <td>1.385524</td>\n",
       "      <td>6687.803500</td>\n",
       "      <td>1340.919813</td>\n",
       "      <td>2507.691659</td>\n",
       "      <td>13.023503</td>\n",
       "      <td>1.061182</td>\n",
       "      <td>2.089545</td>\n",
       "      <td>389.1</td>\n",
       "    </tr>\n",
       "    <tr>\n",
       "      <th>2015-07-01</th>\n",
       "      <td>36.726002</td>\n",
       "      <td>31.989864</td>\n",
       "      <td>1.545617</td>\n",
       "      <td>1.402913</td>\n",
       "      <td>6625.526087</td>\n",
       "      <td>1353.218881</td>\n",
       "      <td>2518.626151</td>\n",
       "      <td>13.169073</td>\n",
       "      <td>1.119989</td>\n",
       "      <td>2.051104</td>\n",
       "      <td>390.2</td>\n",
       "    </tr>\n",
       "    <tr>\n",
       "      <th>2015-08-01</th>\n",
       "      <td>31.196110</td>\n",
       "      <td>29.152671</td>\n",
       "      <td>1.545248</td>\n",
       "      <td>1.376957</td>\n",
       "      <td>6402.255000</td>\n",
       "      <td>1311.027051</td>\n",
       "      <td>2434.955959</td>\n",
       "      <td>12.478583</td>\n",
       "      <td>1.085050</td>\n",
       "      <td>1.958367</td>\n",
       "      <td>389.6</td>\n",
       "    </tr>\n",
       "    <tr>\n",
       "      <th>2015-09-01</th>\n",
       "      <td>31.774855</td>\n",
       "      <td>30.721787</td>\n",
       "      <td>1.527609</td>\n",
       "      <td>1.364657</td>\n",
       "      <td>6280.524348</td>\n",
       "      <td>1302.101893</td>\n",
       "      <td>2375.712634</td>\n",
       "      <td>12.595702</td>\n",
       "      <td>1.004023</td>\n",
       "      <td>1.908904</td>\n",
       "      <td>390.2</td>\n",
       "    </tr>\n",
       "    <tr>\n",
       "      <th>2015-10-01</th>\n",
       "      <td>32.150956</td>\n",
       "      <td>30.493892</td>\n",
       "      <td>1.533165</td>\n",
       "      <td>1.378817</td>\n",
       "      <td>6458.806957</td>\n",
       "      <td>1339.915435</td>\n",
       "      <td>2458.240837</td>\n",
       "      <td>12.291281</td>\n",
       "      <td>0.940307</td>\n",
       "      <td>1.899183</td>\n",
       "      <td>392.6</td>\n",
       "    </tr>\n",
       "    <tr>\n",
       "      <th>2015-11-01</th>\n",
       "      <td>30.159048</td>\n",
       "      <td>28.998764</td>\n",
       "      <td>1.523005</td>\n",
       "      <td>1.409255</td>\n",
       "      <td>6398.511500</td>\n",
       "      <td>1357.124134</td>\n",
       "      <td>2446.822967</td>\n",
       "      <td>12.095331</td>\n",
       "      <td>0.994821</td>\n",
       "      <td>1.897445</td>\n",
       "      <td>391.6</td>\n",
       "    </tr>\n",
       "    <tr>\n",
       "      <th>2015-12-01</th>\n",
       "      <td>25.818625</td>\n",
       "      <td>27.520854</td>\n",
       "      <td>1.506823</td>\n",
       "      <td>1.366814</td>\n",
       "      <td>6324.143500</td>\n",
       "      <td>1363.285466</td>\n",
       "      <td>2426.843201</td>\n",
       "      <td>11.423042</td>\n",
       "      <td>1.016488</td>\n",
       "      <td>1.930550</td>\n",
       "      <td>393.0</td>\n",
       "    </tr>\n",
       "    <tr>\n",
       "      <th>2016-01-01</th>\n",
       "      <td>22.809737</td>\n",
       "      <td>25.534394</td>\n",
       "      <td>1.399643</td>\n",
       "      <td>1.278787</td>\n",
       "      <td>6123.662727</td>\n",
       "      <td>1413.405854</td>\n",
       "      <td>2340.610930</td>\n",
       "      <td>9.773593</td>\n",
       "      <td>0.898800</td>\n",
       "      <td>1.504270</td>\n",
       "      <td>392.7</td>\n",
       "    </tr>\n",
       "    <tr>\n",
       "      <th>2016-02-01</th>\n",
       "      <td>24.047857</td>\n",
       "      <td>26.087339</td>\n",
       "      <td>1.394184</td>\n",
       "      <td>1.260416</td>\n",
       "      <td>6171.272222</td>\n",
       "      <td>1434.117439</td>\n",
       "      <td>2327.359810</td>\n",
       "      <td>9.383225</td>\n",
       "      <td>0.757655</td>\n",
       "      <td>1.332758</td>\n",
       "      <td>392.9</td>\n",
       "    </tr>\n",
       "    <tr>\n",
       "      <th>2016-03-01</th>\n",
       "      <td>28.183023</td>\n",
       "      <td>28.331057</td>\n",
       "      <td>1.411843</td>\n",
       "      <td>1.258433</td>\n",
       "      <td>6253.627368</td>\n",
       "      <td>1452.882656</td>\n",
       "      <td>2395.269808</td>\n",
       "      <td>9.068961</td>\n",
       "      <td>0.805940</td>\n",
       "      <td>1.375611</td>\n",
       "      <td>399.5</td>\n",
       "    </tr>\n",
       "    <tr>\n",
       "      <th>2016-04-01</th>\n",
       "      <td>30.652665</td>\n",
       "      <td>29.521709</td>\n",
       "      <td>1.413891</td>\n",
       "      <td>1.256627</td>\n",
       "      <td>6357.307727</td>\n",
       "      <td>1468.004077</td>\n",
       "      <td>2426.290431</td>\n",
       "      <td>9.156711</td>\n",
       "      <td>0.820131</td>\n",
       "      <td>1.418518</td>\n",
       "      <td>403.8</td>\n",
       "    </tr>\n",
       "    <tr>\n",
       "      <th>2016-05-01</th>\n",
       "      <td>33.610150</td>\n",
       "      <td>32.363833</td>\n",
       "      <td>1.417632</td>\n",
       "      <td>1.269523</td>\n",
       "      <td>6305.287143</td>\n",
       "      <td>1461.227431</td>\n",
       "      <td>2356.760057</td>\n",
       "      <td>9.512007</td>\n",
       "      <td>0.805012</td>\n",
       "      <td>1.354362</td>\n",
       "      <td>407.7</td>\n",
       "    </tr>\n",
       "    <tr>\n",
       "      <th>2016-06-01</th>\n",
       "      <td>35.853479</td>\n",
       "      <td>33.841453</td>\n",
       "      <td>1.392536</td>\n",
       "      <td>1.244714</td>\n",
       "      <td>6262.087727</td>\n",
       "      <td>1497.344936</td>\n",
       "      <td>2335.194660</td>\n",
       "      <td>10.313098</td>\n",
       "      <td>0.707955</td>\n",
       "      <td>1.206173</td>\n",
       "      <td>408.9</td>\n",
       "    </tr>\n",
       "    <tr>\n",
       "      <th>2016-07-01</th>\n",
       "      <td>34.979696</td>\n",
       "      <td>32.963639</td>\n",
       "      <td>1.330336</td>\n",
       "      <td>1.201241</td>\n",
       "      <td>6630.369545</td>\n",
       "      <td>1608.590787</td>\n",
       "      <td>2481.757122</td>\n",
       "      <td>10.837997</td>\n",
       "      <td>0.501131</td>\n",
       "      <td>1.021027</td>\n",
       "      <td>410.4</td>\n",
       "    </tr>\n",
       "    <tr>\n",
       "      <th>2016-08-01</th>\n",
       "      <td>35.390659</td>\n",
       "      <td>33.703121</td>\n",
       "      <td>1.332530</td>\n",
       "      <td>1.191674</td>\n",
       "      <td>6658.116818</td>\n",
       "      <td>1603.181916</td>\n",
       "      <td>2513.310834</td>\n",
       "      <td>9.386618</td>\n",
       "      <td>0.425193</td>\n",
       "      <td>0.936239</td>\n",
       "      <td>411.2</td>\n",
       "    </tr>\n",
       "    <tr>\n",
       "      <th>2016-09-01</th>\n",
       "      <td>35.650483</td>\n",
       "      <td>33.536749</td>\n",
       "      <td>1.325100</td>\n",
       "      <td>1.186100</td>\n",
       "      <td>6681.491364</td>\n",
       "      <td>1607.695474</td>\n",
       "      <td>2522.149367</td>\n",
       "      <td>10.132168</td>\n",
       "      <td>0.440250</td>\n",
       "      <td>0.959009</td>\n",
       "      <td>411.0</td>\n",
       "    </tr>\n",
       "    <tr>\n",
       "      <th>2016-10-01</th>\n",
       "      <td>40.400342</td>\n",
       "      <td>37.170194</td>\n",
       "      <td>1.271960</td>\n",
       "      <td>1.152440</td>\n",
       "      <td>6784.034000</td>\n",
       "      <td>1663.042077</td>\n",
       "      <td>2624.813005</td>\n",
       "      <td>12.497445</td>\n",
       "      <td>0.557524</td>\n",
       "      <td>1.138360</td>\n",
       "      <td>410.8</td>\n",
       "    </tr>\n",
       "    <tr>\n",
       "      <th>2016-11-01</th>\n",
       "      <td>36.390691</td>\n",
       "      <td>33.946930</td>\n",
       "      <td>1.293700</td>\n",
       "      <td>1.192923</td>\n",
       "      <td>6618.945455</td>\n",
       "      <td>1649.769763</td>\n",
       "      <td>2519.838212</td>\n",
       "      <td>12.435263</td>\n",
       "      <td>0.646977</td>\n",
       "      <td>1.316939</td>\n",
       "      <td>408.8</td>\n",
       "    </tr>\n",
       "    <tr>\n",
       "      <th>2016-12-01</th>\n",
       "      <td>42.778165</td>\n",
       "      <td>38.042859</td>\n",
       "      <td>1.283743</td>\n",
       "      <td>1.197404</td>\n",
       "      <td>6796.544286</td>\n",
       "      <td>1706.510219</td>\n",
       "      <td>2631.646533</td>\n",
       "      <td>12.452421</td>\n",
       "      <td>0.649512</td>\n",
       "      <td>1.293796</td>\n",
       "      <td>410.7</td>\n",
       "    </tr>\n",
       "  </tbody>\n",
       "</table>\n",
       "</div>"
      ],
      "text/plain": [
       "            Brent_Crude_GBP  WTI_Crude_GBP  GBP Curncy  GBPEUR Curncy  \\\n",
       "Date                                                                    \n",
       "2015-01-01        32.818125      31.737054    1.516177       1.336264   \n",
       "2015-02-01        38.343255      32.759207    1.533386       1.362371   \n",
       "2015-03-01        37.866261      31.635113    1.503677       1.377568   \n",
       "2015-04-01        40.409377      35.572047    1.512909       1.386036   \n",
       "2015-05-01        42.505052      36.186768    1.543548       1.384014   \n",
       "2015-06-01        41.067582      35.885473    1.552386       1.385524   \n",
       "2015-07-01        36.726002      31.989864    1.545617       1.402913   \n",
       "2015-08-01        31.196110      29.152671    1.545248       1.376957   \n",
       "2015-09-01        31.774855      30.721787    1.527609       1.364657   \n",
       "2015-10-01        32.150956      30.493892    1.533165       1.378817   \n",
       "2015-11-01        30.159048      28.998764    1.523005       1.409255   \n",
       "2015-12-01        25.818625      27.520854    1.506823       1.366814   \n",
       "2016-01-01        22.809737      25.534394    1.399643       1.278787   \n",
       "2016-02-01        24.047857      26.087339    1.394184       1.260416   \n",
       "2016-03-01        28.183023      28.331057    1.411843       1.258433   \n",
       "2016-04-01        30.652665      29.521709    1.413891       1.256627   \n",
       "2016-05-01        33.610150      32.363833    1.417632       1.269523   \n",
       "2016-06-01        35.853479      33.841453    1.392536       1.244714   \n",
       "2016-07-01        34.979696      32.963639    1.330336       1.201241   \n",
       "2016-08-01        35.390659      33.703121    1.332530       1.191674   \n",
       "2016-09-01        35.650483      33.536749    1.325100       1.186100   \n",
       "2016-10-01        40.400342      37.170194    1.271960       1.152440   \n",
       "2016-11-01        36.390691      33.946930    1.293700       1.192923   \n",
       "2016-12-01        42.778165      38.042859    1.283743       1.197404   \n",
       "\n",
       "              UKX Index    SPX Index   SX5E Index  Natural_Gas  GBP_IRS_2y  \\\n",
       "Date                                                                         \n",
       "2015-01-01  6641.765238  1339.503656  2495.664852    13.099203    0.858274   \n",
       "2015-02-01  6746.840476  1356.232800  2536.801725    13.938965    0.952887   \n",
       "2015-03-01  6791.140000  1380.431518  2615.694574    13.821672    0.947216   \n",
       "2015-04-01  6886.650952  1381.813784  2620.084413    13.690119    0.923663   \n",
       "2015-05-01  6864.994500  1360.216539  2568.111738    13.123988    1.009908   \n",
       "2015-06-01  6687.803500  1340.919813  2507.691659    13.023503    1.061182   \n",
       "2015-07-01  6625.526087  1353.218881  2518.626151    13.169073    1.119989   \n",
       "2015-08-01  6402.255000  1311.027051  2434.955959    12.478583    1.085050   \n",
       "2015-09-01  6280.524348  1302.101893  2375.712634    12.595702    1.004023   \n",
       "2015-10-01  6458.806957  1339.915435  2458.240837    12.291281    0.940307   \n",
       "2015-11-01  6398.511500  1357.124134  2446.822967    12.095331    0.994821   \n",
       "2015-12-01  6324.143500  1363.285466  2426.843201    11.423042    1.016488   \n",
       "2016-01-01  6123.662727  1413.405854  2340.610930     9.773593    0.898800   \n",
       "2016-02-01  6171.272222  1434.117439  2327.359810     9.383225    0.757655   \n",
       "2016-03-01  6253.627368  1452.882656  2395.269808     9.068961    0.805940   \n",
       "2016-04-01  6357.307727  1468.004077  2426.290431     9.156711    0.820131   \n",
       "2016-05-01  6305.287143  1461.227431  2356.760057     9.512007    0.805012   \n",
       "2016-06-01  6262.087727  1497.344936  2335.194660    10.313098    0.707955   \n",
       "2016-07-01  6630.369545  1608.590787  2481.757122    10.837997    0.501131   \n",
       "2016-08-01  6658.116818  1603.181916  2513.310834     9.386618    0.425193   \n",
       "2016-09-01  6681.491364  1607.695474  2522.149367    10.132168    0.440250   \n",
       "2016-10-01  6784.034000  1663.042077  2624.813005    12.497445    0.557524   \n",
       "2016-11-01  6618.945455  1649.769763  2519.838212    12.435263    0.646977   \n",
       "2016-12-01  6796.544286  1706.510219  2631.646533    12.452421    0.649512   \n",
       "\n",
       "            GBP_IRS_10y  Nationwide_HPI  \n",
       "Date                                     \n",
       "2015-01-01     1.684729           375.9  \n",
       "2015-02-01     1.856450           375.0  \n",
       "2015-03-01     1.783045           377.9  \n",
       "2015-04-01     1.811432           385.1  \n",
       "2015-05-01     1.971630           389.3  \n",
       "2015-06-01     2.089545           389.1  \n",
       "2015-07-01     2.051104           390.2  \n",
       "2015-08-01     1.958367           389.6  \n",
       "2015-09-01     1.908904           390.2  \n",
       "2015-10-01     1.899183           392.6  \n",
       "2015-11-01     1.897445           391.6  \n",
       "2015-12-01     1.930550           393.0  \n",
       "2016-01-01     1.504270           392.7  \n",
       "2016-02-01     1.332758           392.9  \n",
       "2016-03-01     1.375611           399.5  \n",
       "2016-04-01     1.418518           403.8  \n",
       "2016-05-01     1.354362           407.7  \n",
       "2016-06-01     1.206173           408.9  \n",
       "2016-07-01     1.021027           410.4  \n",
       "2016-08-01     0.936239           411.2  \n",
       "2016-09-01     0.959009           411.0  \n",
       "2016-10-01     1.138360           410.8  \n",
       "2016-11-01     1.316939           408.8  \n",
       "2016-12-01     1.293796           410.7  "
      ]
     },
     "execution_count": 6,
     "metadata": {},
     "output_type": "execute_result"
    }
   ],
   "source": [
    "X[72:96]"
   ]
  },
  {
   "cell_type": "code",
   "execution_count": 7,
   "id": "9a8a3a8d",
   "metadata": {},
   "outputs": [
    {
     "data": {
      "text/plain": [
       "((72, 11), (72,), (24, 11), (24,), (12, 11), (12,))"
      ]
     },
     "execution_count": 7,
     "metadata": {},
     "output_type": "execute_result"
    }
   ],
   "source": [
    "X_train, y_train = X[:72], y[:72]\n",
    "X_val, y_val = X[72:96], y[72:96]\n",
    "X_test, y_test = X[96:108], y[96:108]\n",
    "X_train.shape, y_train.shape, X_val.shape, y_val.shape, X_test.shape, y_test.shape"
   ]
  },
  {
   "cell_type": "code",
   "execution_count": 8,
   "id": "7a94120a",
   "metadata": {},
   "outputs": [
    {
     "name": "stderr",
     "output_type": "stream",
     "text": [
      "2022-09-13 14:19:46.187233: W tensorflow/stream_executor/platform/default/dso_loader.cc:64] Could not load dynamic library 'libcuda.so.1'; dlerror: libcuda.so.1: cannot open shared object file: No such file or directory\n",
      "2022-09-13 14:19:46.187983: W tensorflow/stream_executor/cuda/cuda_driver.cc:263] failed call to cuInit: UNKNOWN ERROR (303)\n",
      "2022-09-13 14:19:46.188030: I tensorflow/stream_executor/cuda/cuda_diagnostics.cc:156] kernel driver does not appear to be running on this host (LAPTOP-S0KUROGM): /proc/driver/nvidia/version does not exist\n",
      "2022-09-13 14:19:46.193250: I tensorflow/core/platform/cpu_feature_guard.cc:193] This TensorFlow binary is optimized with oneAPI Deep Neural Network Library (oneDNN) to use the following CPU instructions in performance-critical operations:  AVX2 AVX512F AVX512_VNNI FMA\n",
      "To enable them in other operations, rebuild TensorFlow with the appropriate compiler flags.\n"
     ]
    },
    {
     "data": {
      "text/plain": [
       "TensorShape([72, 1, 1])"
      ]
     },
     "execution_count": 8,
     "metadata": {},
     "output_type": "execute_result"
    }
   ],
   "source": [
    "y_train_x = expand_dims(y_train, -1)\n",
    "y_train_x = expand_dims(y_train_x, -1)\n",
    "\n",
    "y_train_x.shape"
   ]
  },
  {
   "cell_type": "code",
   "execution_count": 9,
   "id": "9ae3ecce",
   "metadata": {},
   "outputs": [],
   "source": [
    "y_val_x = expand_dims(y_val, -1)\n",
    "y_val_x = expand_dims(y_val_x, -1)"
   ]
  },
  {
   "cell_type": "code",
   "execution_count": 10,
   "id": "3b6942d9",
   "metadata": {
    "scrolled": true
   },
   "outputs": [
    {
     "data": {
      "text/plain": [
       "TensorShape([24, 1, 1])"
      ]
     },
     "execution_count": 10,
     "metadata": {},
     "output_type": "execute_result"
    }
   ],
   "source": [
    "y_val_x.shape"
   ]
  },
  {
   "cell_type": "code",
   "execution_count": 11,
   "id": "b63b023c",
   "metadata": {},
   "outputs": [],
   "source": [
    "X_test_x = expand_dims(X_test, -2)"
   ]
  },
  {
   "cell_type": "code",
   "execution_count": 12,
   "id": "bb80a24d",
   "metadata": {},
   "outputs": [
    {
     "data": {
      "text/plain": [
       "TensorShape([12, 1, 11])"
      ]
     },
     "execution_count": 12,
     "metadata": {},
     "output_type": "execute_result"
    }
   ],
   "source": [
    "X_test_x.shape"
   ]
  },
  {
   "cell_type": "code",
   "execution_count": 13,
   "id": "df73716d",
   "metadata": {},
   "outputs": [
    {
     "data": {
      "text/plain": [
       "TensorShape([72, 1, 11])"
      ]
     },
     "execution_count": 13,
     "metadata": {},
     "output_type": "execute_result"
    }
   ],
   "source": [
    "X_train_x = expand_dims(X_train, -2)\n",
    "X_train_x.shape"
   ]
  },
  {
   "cell_type": "code",
   "execution_count": 14,
   "id": "302296d2",
   "metadata": {},
   "outputs": [
    {
     "data": {
      "text/plain": [
       "TensorShape([24, 1, 11])"
      ]
     },
     "execution_count": 14,
     "metadata": {},
     "output_type": "execute_result"
    }
   ],
   "source": [
    "X_val_x = expand_dims(X_val, -2)\n",
    "X_val_x.shape"
   ]
  },
  {
   "cell_type": "code",
   "execution_count": 15,
   "id": "a36c23f3",
   "metadata": {},
   "outputs": [],
   "source": [
    "lr_scheduler = ExponentialDecay(initial_learning_rate=0.001, decay_steps= 10_000, decay_rate=0.7)\n",
    "adam = Adam(learning_rate=lr_scheduler)\n",
    "es = EarlyStopping(patience=50, restore_best_weights=True)"
   ]
  },
  {
   "cell_type": "code",
   "execution_count": 16,
   "id": "4935891c",
   "metadata": {},
   "outputs": [
    {
     "name": "stdout",
     "output_type": "stream",
     "text": [
      "Model: \"sequential\"\n",
      "_________________________________________________________________\n",
      " Layer (type)                Output Shape              Param #   \n",
      "=================================================================\n",
      " normalization (Normalizatio  (None, None, 11)         23        \n",
      " n)                                                              \n",
      "                                                                 \n",
      " lstm (LSTM)                 (None, None, 100)         44800     \n",
      "                                                                 \n",
      " lstm_1 (LSTM)               (None, 50)                30200     \n",
      "                                                                 \n",
      " flatten (Flatten)           (None, 50)                0         \n",
      "                                                                 \n",
      " dense (Dense)               (None, 100)               5100      \n",
      "                                                                 \n",
      " dense_1 (Dense)             (None, 50)                5050      \n",
      "                                                                 \n",
      " dense_2 (Dense)             (None, 25)                1275      \n",
      "                                                                 \n",
      " dense_3 (Dense)             (None, 1)                 26        \n",
      "                                                                 \n",
      "=================================================================\n",
      "Total params: 86,474\n",
      "Trainable params: 86,451\n",
      "Non-trainable params: 23\n",
      "_________________________________________________________________\n"
     ]
    }
   ],
   "source": [
    "normalizer = Normalization()\n",
    "normalizer.adapt(X_train_x)\n",
    "\n",
    "model1 = Sequential()\n",
    "model1.add(normalizer)\n",
    "\n",
    "model1.add(LSTM(units = 100, activation='tanh', return_sequences = True))\n",
    "model1.add(LSTM(units = 50 , activation='tanh', return_sequences = False))\n",
    "\n",
    "model1.add(Flatten())\n",
    "\n",
    "model1.add(Dense(100,activation =  'relu'))\n",
    "model1.add(Dense(50,activation =  'relu'))\n",
    "model1.add(Dense(25,activation =  'relu'))\n",
    "\n",
    "model1.add(Dense(1, activation = 'linear'))\n",
    "\n",
    "model1.summary()"
   ]
  },
  {
   "cell_type": "code",
   "execution_count": 17,
   "id": "3d96dce0",
   "metadata": {},
   "outputs": [],
   "source": [
    "mape = MeanAbsolutePercentageError()"
   ]
  },
  {
   "cell_type": "code",
   "execution_count": 18,
   "id": "5396d14d",
   "metadata": {},
   "outputs": [],
   "source": [
    "model1.compile(loss= mape, optimizer= adam, metrics=['mape'])"
   ]
  },
  {
   "cell_type": "code",
   "execution_count": 19,
   "id": "0693943f",
   "metadata": {
    "scrolled": true
   },
   "outputs": [
    {
     "name": "stdout",
     "output_type": "stream",
     "text": [
      "Epoch 1/10000\n",
      "3/3 [==============================] - 3s 319ms/step - loss: 99.9950 - mape: 99.9950 - val_loss: 99.9775 - val_mape: 99.9775\n",
      "Epoch 2/10000\n",
      "3/3 [==============================] - 0s 25ms/step - loss: 99.9762 - mape: 99.9762 - val_loss: 99.9576 - val_mape: 99.9576\n",
      "Epoch 3/10000\n",
      "3/3 [==============================] - 0s 28ms/step - loss: 99.9527 - mape: 99.9527 - val_loss: 99.9313 - val_mape: 99.9313\n",
      "Epoch 4/10000\n",
      "3/3 [==============================] - 0s 25ms/step - loss: 99.9228 - mape: 99.9228 - val_loss: 99.8966 - val_mape: 99.8966\n",
      "Epoch 5/10000\n",
      "3/3 [==============================] - 0s 24ms/step - loss: 99.8838 - mape: 99.8838 - val_loss: 99.8532 - val_mape: 99.8532\n",
      "Epoch 6/10000\n",
      "3/3 [==============================] - 0s 22ms/step - loss: 99.8350 - mape: 99.8350 - val_loss: 99.8006 - val_mape: 99.8006\n",
      "Epoch 7/10000\n",
      "3/3 [==============================] - 0s 24ms/step - loss: 99.7691 - mape: 99.7691 - val_loss: 99.7307 - val_mape: 99.7307\n",
      "Epoch 8/10000\n",
      "3/3 [==============================] - 0s 22ms/step - loss: 99.6800 - mape: 99.6800 - val_loss: 99.6396 - val_mape: 99.6396\n",
      "Epoch 9/10000\n",
      "3/3 [==============================] - 0s 24ms/step - loss: 99.5640 - mape: 99.5640 - val_loss: 99.5260 - val_mape: 99.5260\n",
      "Epoch 10/10000\n",
      "3/3 [==============================] - 0s 24ms/step - loss: 99.4031 - mape: 99.4031 - val_loss: 99.3750 - val_mape: 99.3750\n",
      "Epoch 11/10000\n",
      "3/3 [==============================] - 0s 24ms/step - loss: 99.1841 - mape: 99.1841 - val_loss: 99.1739 - val_mape: 99.1739\n",
      "Epoch 12/10000\n",
      "3/3 [==============================] - 0s 24ms/step - loss: 98.8736 - mape: 98.8736 - val_loss: 98.8946 - val_mape: 98.8946\n",
      "Epoch 13/10000\n",
      "3/3 [==============================] - 0s 20ms/step - loss: 98.4564 - mape: 98.4564 - val_loss: 98.5108 - val_mape: 98.5108\n",
      "Epoch 14/10000\n",
      "3/3 [==============================] - 0s 24ms/step - loss: 97.8896 - mape: 97.8896 - val_loss: 98.0039 - val_mape: 98.0039\n",
      "Epoch 15/10000\n",
      "3/3 [==============================] - 0s 23ms/step - loss: 97.0736 - mape: 97.0736 - val_loss: 97.3253 - val_mape: 97.3253\n",
      "Epoch 16/10000\n",
      "3/3 [==============================] - 0s 24ms/step - loss: 95.9441 - mape: 95.9441 - val_loss: 96.4344 - val_mape: 96.4344\n",
      "Epoch 17/10000\n",
      "3/3 [==============================] - 0s 26ms/step - loss: 94.5187 - mape: 94.5187 - val_loss: 95.2686 - val_mape: 95.2686\n",
      "Epoch 18/10000\n",
      "3/3 [==============================] - 0s 23ms/step - loss: 92.4637 - mape: 92.4637 - val_loss: 93.6976 - val_mape: 93.6976\n",
      "Epoch 19/10000\n",
      "3/3 [==============================] - 0s 23ms/step - loss: 89.9948 - mape: 89.9948 - val_loss: 91.6431 - val_mape: 91.6431\n",
      "Epoch 20/10000\n",
      "3/3 [==============================] - 0s 22ms/step - loss: 86.6151 - mape: 86.6151 - val_loss: 88.9412 - val_mape: 88.9412\n",
      "Epoch 21/10000\n",
      "3/3 [==============================] - 0s 21ms/step - loss: 82.2704 - mape: 82.2704 - val_loss: 85.4833 - val_mape: 85.4833\n",
      "Epoch 22/10000\n",
      "3/3 [==============================] - 0s 23ms/step - loss: 76.8920 - mape: 76.8920 - val_loss: 81.0719 - val_mape: 81.0719\n",
      "Epoch 23/10000\n",
      "3/3 [==============================] - 0s 23ms/step - loss: 70.4635 - mape: 70.4635 - val_loss: 75.5511 - val_mape: 75.5511\n",
      "Epoch 24/10000\n",
      "3/3 [==============================] - 0s 21ms/step - loss: 62.1943 - mape: 62.1943 - val_loss: 68.6017 - val_mape: 68.6017\n",
      "Epoch 25/10000\n",
      "3/3 [==============================] - 0s 23ms/step - loss: 52.3158 - mape: 52.3158 - val_loss: 60.0254 - val_mape: 60.0254\n",
      "Epoch 26/10000\n",
      "3/3 [==============================] - 0s 22ms/step - loss: 44.6524 - mape: 44.6524 - val_loss: 49.6819 - val_mape: 49.6819\n",
      "Epoch 27/10000\n",
      "3/3 [==============================] - 0s 24ms/step - loss: 39.1701 - mape: 39.1701 - val_loss: 37.7342 - val_mape: 37.7342\n",
      "Epoch 28/10000\n",
      "3/3 [==============================] - 0s 24ms/step - loss: 31.8915 - mape: 31.8915 - val_loss: 24.1220 - val_mape: 24.1220\n",
      "Epoch 29/10000\n",
      "3/3 [==============================] - 0s 25ms/step - loss: 24.1497 - mape: 24.1497 - val_loss: 15.9756 - val_mape: 15.9756\n",
      "Epoch 30/10000\n",
      "3/3 [==============================] - 0s 23ms/step - loss: 22.4201 - mape: 22.4201 - val_loss: 16.2890 - val_mape: 16.2890\n",
      "Epoch 31/10000\n",
      "3/3 [==============================] - 0s 23ms/step - loss: 23.9423 - mape: 23.9423 - val_loss: 15.8191 - val_mape: 15.8191\n",
      "Epoch 32/10000\n",
      "3/3 [==============================] - 0s 21ms/step - loss: 20.7170 - mape: 20.7170 - val_loss: 15.3318 - val_mape: 15.3318\n",
      "Epoch 33/10000\n",
      "3/3 [==============================] - 0s 26ms/step - loss: 16.2492 - mape: 16.2492 - val_loss: 18.9575 - val_mape: 18.9575\n",
      "Epoch 34/10000\n",
      "3/3 [==============================] - 0s 27ms/step - loss: 15.5466 - mape: 15.5466 - val_loss: 22.4058 - val_mape: 22.4058\n",
      "Epoch 35/10000\n",
      "3/3 [==============================] - 0s 24ms/step - loss: 16.1259 - mape: 16.1259 - val_loss: 20.9099 - val_mape: 20.9099\n",
      "Epoch 36/10000\n",
      "3/3 [==============================] - 0s 22ms/step - loss: 13.7872 - mape: 13.7872 - val_loss: 18.0611 - val_mape: 18.0611\n",
      "Epoch 37/10000\n",
      "3/3 [==============================] - 0s 21ms/step - loss: 13.2479 - mape: 13.2479 - val_loss: 18.1078 - val_mape: 18.1078\n",
      "Epoch 38/10000\n",
      "3/3 [==============================] - 0s 20ms/step - loss: 13.3951 - mape: 13.3951 - val_loss: 20.5076 - val_mape: 20.5076\n",
      "Epoch 39/10000\n",
      "3/3 [==============================] - 0s 20ms/step - loss: 12.0530 - mape: 12.0530 - val_loss: 24.6650 - val_mape: 24.6650\n",
      "Epoch 40/10000\n",
      "3/3 [==============================] - 0s 19ms/step - loss: 11.4527 - mape: 11.4527 - val_loss: 26.0449 - val_mape: 26.0449\n",
      "Epoch 41/10000\n",
      "3/3 [==============================] - 0s 21ms/step - loss: 11.1565 - mape: 11.1565 - val_loss: 25.2310 - val_mape: 25.2310\n",
      "Epoch 42/10000\n",
      "3/3 [==============================] - 0s 19ms/step - loss: 10.5955 - mape: 10.5955 - val_loss: 24.5642 - val_mape: 24.5642\n",
      "Epoch 43/10000\n",
      "3/3 [==============================] - 0s 19ms/step - loss: 10.4658 - mape: 10.4658 - val_loss: 26.1684 - val_mape: 26.1684\n",
      "Epoch 44/10000\n",
      "3/3 [==============================] - 0s 20ms/step - loss: 9.9514 - mape: 9.9514 - val_loss: 27.5089 - val_mape: 27.5089\n",
      "Epoch 45/10000\n",
      "3/3 [==============================] - 0s 24ms/step - loss: 9.7639 - mape: 9.7639 - val_loss: 26.5057 - val_mape: 26.5057\n",
      "Epoch 46/10000\n",
      "3/3 [==============================] - 0s 22ms/step - loss: 9.3329 - mape: 9.3329 - val_loss: 25.5382 - val_mape: 25.5382\n",
      "Epoch 47/10000\n",
      "3/3 [==============================] - 0s 23ms/step - loss: 9.3144 - mape: 9.3144 - val_loss: 26.6856 - val_mape: 26.6856\n",
      "Epoch 48/10000\n",
      "3/3 [==============================] - 0s 24ms/step - loss: 8.9779 - mape: 8.9779 - val_loss: 27.6717 - val_mape: 27.6717\n",
      "Epoch 49/10000\n",
      "3/3 [==============================] - 0s 23ms/step - loss: 8.7755 - mape: 8.7755 - val_loss: 26.5432 - val_mape: 26.5432\n",
      "Epoch 50/10000\n",
      "3/3 [==============================] - 0s 23ms/step - loss: 8.4889 - mape: 8.4889 - val_loss: 26.1587 - val_mape: 26.1587\n",
      "Epoch 51/10000\n",
      "3/3 [==============================] - 0s 22ms/step - loss: 8.2518 - mape: 8.2518 - val_loss: 27.6067 - val_mape: 27.6067\n",
      "Epoch 52/10000\n",
      "3/3 [==============================] - 0s 23ms/step - loss: 7.9219 - mape: 7.9219 - val_loss: 28.2581 - val_mape: 28.2581\n",
      "Epoch 53/10000\n",
      "3/3 [==============================] - 0s 22ms/step - loss: 7.7200 - mape: 7.7200 - val_loss: 26.7054 - val_mape: 26.7054\n",
      "Epoch 54/10000\n",
      "3/3 [==============================] - 0s 22ms/step - loss: 7.6359 - mape: 7.6359 - val_loss: 26.4348 - val_mape: 26.4348\n",
      "Epoch 55/10000\n",
      "3/3 [==============================] - 0s 30ms/step - loss: 7.2565 - mape: 7.2565 - val_loss: 27.6126 - val_mape: 27.6126\n",
      "Epoch 56/10000\n",
      "3/3 [==============================] - 0s 23ms/step - loss: 7.1610 - mape: 7.1610 - val_loss: 25.9080 - val_mape: 25.9080\n",
      "Epoch 57/10000\n",
      "3/3 [==============================] - 0s 21ms/step - loss: 6.7591 - mape: 6.7591 - val_loss: 24.6530 - val_mape: 24.6530\n",
      "Epoch 58/10000\n",
      "3/3 [==============================] - 0s 18ms/step - loss: 6.5721 - mape: 6.5721 - val_loss: 25.1431 - val_mape: 25.1431\n",
      "Epoch 59/10000\n",
      "3/3 [==============================] - 0s 19ms/step - loss: 6.3372 - mape: 6.3372 - val_loss: 25.3637 - val_mape: 25.3637\n",
      "Epoch 60/10000\n"
     ]
    },
    {
     "name": "stdout",
     "output_type": "stream",
     "text": [
      "3/3 [==============================] - 0s 21ms/step - loss: 6.1708 - mape: 6.1708 - val_loss: 25.0639 - val_mape: 25.0639\n",
      "Epoch 61/10000\n",
      "3/3 [==============================] - 0s 19ms/step - loss: 5.8782 - mape: 5.8782 - val_loss: 25.2462 - val_mape: 25.2462\n",
      "Epoch 62/10000\n",
      "3/3 [==============================] - 0s 20ms/step - loss: 5.6740 - mape: 5.6740 - val_loss: 24.4983 - val_mape: 24.4983\n",
      "Epoch 63/10000\n",
      "3/3 [==============================] - 0s 21ms/step - loss: 5.5713 - mape: 5.5713 - val_loss: 24.4797 - val_mape: 24.4797\n",
      "Epoch 64/10000\n",
      "3/3 [==============================] - 0s 19ms/step - loss: 5.3148 - mape: 5.3148 - val_loss: 25.4754 - val_mape: 25.4754\n",
      "Epoch 65/10000\n",
      "3/3 [==============================] - 0s 20ms/step - loss: 5.1334 - mape: 5.1334 - val_loss: 25.2864 - val_mape: 25.2864\n",
      "Epoch 66/10000\n",
      "3/3 [==============================] - 0s 22ms/step - loss: 4.8347 - mape: 4.8347 - val_loss: 24.6701 - val_mape: 24.6701\n",
      "Epoch 67/10000\n",
      "3/3 [==============================] - 0s 22ms/step - loss: 4.5990 - mape: 4.5990 - val_loss: 25.9152 - val_mape: 25.9152\n",
      "Epoch 68/10000\n",
      "3/3 [==============================] - 0s 22ms/step - loss: 4.6385 - mape: 4.6385 - val_loss: 25.4044 - val_mape: 25.4044\n",
      "Epoch 69/10000\n",
      "3/3 [==============================] - 0s 22ms/step - loss: 4.2378 - mape: 4.2378 - val_loss: 24.4549 - val_mape: 24.4549\n",
      "Epoch 70/10000\n",
      "3/3 [==============================] - 0s 23ms/step - loss: 4.0695 - mape: 4.0695 - val_loss: 25.2657 - val_mape: 25.2657\n",
      "Epoch 71/10000\n",
      "3/3 [==============================] - 0s 23ms/step - loss: 3.9948 - mape: 3.9948 - val_loss: 24.2951 - val_mape: 24.2951\n",
      "Epoch 72/10000\n",
      "3/3 [==============================] - 0s 22ms/step - loss: 3.5563 - mape: 3.5563 - val_loss: 23.1598 - val_mape: 23.1598\n",
      "Epoch 73/10000\n",
      "3/3 [==============================] - 0s 20ms/step - loss: 3.3003 - mape: 3.3003 - val_loss: 23.2535 - val_mape: 23.2535\n",
      "Epoch 74/10000\n",
      "3/3 [==============================] - 0s 23ms/step - loss: 3.0096 - mape: 3.0096 - val_loss: 23.1568 - val_mape: 23.1568\n",
      "Epoch 75/10000\n",
      "3/3 [==============================] - 0s 21ms/step - loss: 2.9003 - mape: 2.9003 - val_loss: 22.1873 - val_mape: 22.1873\n",
      "Epoch 76/10000\n",
      "3/3 [==============================] - 0s 22ms/step - loss: 2.8708 - mape: 2.8708 - val_loss: 21.9718 - val_mape: 21.9718\n",
      "Epoch 77/10000\n",
      "3/3 [==============================] - 0s 21ms/step - loss: 2.6012 - mape: 2.6012 - val_loss: 21.9039 - val_mape: 21.9039\n",
      "Epoch 78/10000\n",
      "3/3 [==============================] - 0s 20ms/step - loss: 2.6055 - mape: 2.6055 - val_loss: 19.7599 - val_mape: 19.7599\n",
      "Epoch 79/10000\n",
      "3/3 [==============================] - 0s 23ms/step - loss: 2.4236 - mape: 2.4236 - val_loss: 19.0590 - val_mape: 19.0590\n",
      "Epoch 80/10000\n",
      "3/3 [==============================] - 0s 23ms/step - loss: 2.4417 - mape: 2.4417 - val_loss: 17.4743 - val_mape: 17.4743\n",
      "Epoch 81/10000\n",
      "3/3 [==============================] - 0s 24ms/step - loss: 2.3945 - mape: 2.3945 - val_loss: 15.7906 - val_mape: 15.7906\n",
      "Epoch 82/10000\n",
      "3/3 [==============================] - 0s 22ms/step - loss: 2.2099 - mape: 2.2099 - val_loss: 14.4391 - val_mape: 14.4391\n",
      "Epoch 83/10000\n",
      "3/3 [==============================] - 0s 24ms/step - loss: 2.0902 - mape: 2.0902 - val_loss: 13.2465 - val_mape: 13.2465\n",
      "Epoch 84/10000\n",
      "3/3 [==============================] - 0s 27ms/step - loss: 2.0682 - mape: 2.0682 - val_loss: 11.6495 - val_mape: 11.6495\n",
      "Epoch 85/10000\n",
      "3/3 [==============================] - 0s 26ms/step - loss: 2.0582 - mape: 2.0582 - val_loss: 10.8257 - val_mape: 10.8257\n",
      "Epoch 86/10000\n",
      "3/3 [==============================] - 0s 26ms/step - loss: 1.9285 - mape: 1.9285 - val_loss: 10.1777 - val_mape: 10.1777\n",
      "Epoch 87/10000\n",
      "3/3 [==============================] - 0s 23ms/step - loss: 1.7966 - mape: 1.7966 - val_loss: 9.4561 - val_mape: 9.4561\n",
      "Epoch 88/10000\n",
      "3/3 [==============================] - 0s 24ms/step - loss: 1.7270 - mape: 1.7270 - val_loss: 9.0863 - val_mape: 9.0863\n",
      "Epoch 89/10000\n",
      "3/3 [==============================] - 0s 24ms/step - loss: 1.6733 - mape: 1.6733 - val_loss: 8.1922 - val_mape: 8.1922\n",
      "Epoch 90/10000\n",
      "3/3 [==============================] - 0s 21ms/step - loss: 1.9567 - mape: 1.9567 - val_loss: 8.2275 - val_mape: 8.2275\n",
      "Epoch 91/10000\n",
      "3/3 [==============================] - 0s 20ms/step - loss: 1.8360 - mape: 1.8360 - val_loss: 7.9312 - val_mape: 7.9312\n",
      "Epoch 92/10000\n",
      "3/3 [==============================] - 0s 25ms/step - loss: 1.6132 - mape: 1.6132 - val_loss: 7.3801 - val_mape: 7.3801\n",
      "Epoch 93/10000\n",
      "3/3 [==============================] - 0s 23ms/step - loss: 1.8394 - mape: 1.8394 - val_loss: 7.8328 - val_mape: 7.8328\n",
      "Epoch 94/10000\n",
      "3/3 [==============================] - 0s 21ms/step - loss: 1.9827 - mape: 1.9827 - val_loss: 7.7194 - val_mape: 7.7194\n",
      "Epoch 95/10000\n",
      "3/3 [==============================] - 0s 22ms/step - loss: 1.5626 - mape: 1.5626 - val_loss: 7.1335 - val_mape: 7.1335\n",
      "Epoch 96/10000\n",
      "3/3 [==============================] - 0s 23ms/step - loss: 1.8349 - mape: 1.8349 - val_loss: 7.3320 - val_mape: 7.3320\n",
      "Epoch 97/10000\n",
      "3/3 [==============================] - 0s 20ms/step - loss: 1.6068 - mape: 1.6068 - val_loss: 7.3817 - val_mape: 7.3817\n",
      "Epoch 98/10000\n",
      "3/3 [==============================] - 0s 24ms/step - loss: 1.2522 - mape: 1.2522 - val_loss: 6.9574 - val_mape: 6.9574\n",
      "Epoch 99/10000\n",
      "3/3 [==============================] - 0s 23ms/step - loss: 1.5173 - mape: 1.5173 - val_loss: 7.0529 - val_mape: 7.0529\n",
      "Epoch 100/10000\n",
      "3/3 [==============================] - 0s 23ms/step - loss: 1.3524 - mape: 1.3524 - val_loss: 6.7837 - val_mape: 6.7837\n",
      "Epoch 101/10000\n",
      "3/3 [==============================] - 0s 24ms/step - loss: 1.2489 - mape: 1.2489 - val_loss: 6.7699 - val_mape: 6.7699\n",
      "Epoch 102/10000\n",
      "3/3 [==============================] - 0s 22ms/step - loss: 1.1547 - mape: 1.1547 - val_loss: 6.6869 - val_mape: 6.6869\n",
      "Epoch 103/10000\n",
      "3/3 [==============================] - 0s 24ms/step - loss: 1.1417 - mape: 1.1417 - val_loss: 6.5073 - val_mape: 6.5073\n",
      "Epoch 104/10000\n",
      "3/3 [==============================] - 0s 22ms/step - loss: 1.3785 - mape: 1.3785 - val_loss: 6.4115 - val_mape: 6.4115\n",
      "Epoch 105/10000\n",
      "3/3 [==============================] - 0s 22ms/step - loss: 1.1570 - mape: 1.1570 - val_loss: 6.5902 - val_mape: 6.5902\n",
      "Epoch 106/10000\n",
      "3/3 [==============================] - 0s 23ms/step - loss: 1.2344 - mape: 1.2344 - val_loss: 6.3675 - val_mape: 6.3675\n",
      "Epoch 107/10000\n",
      "3/3 [==============================] - 0s 21ms/step - loss: 1.1506 - mape: 1.1506 - val_loss: 6.4076 - val_mape: 6.4076\n",
      "Epoch 108/10000\n",
      "3/3 [==============================] - 0s 21ms/step - loss: 1.0904 - mape: 1.0904 - val_loss: 6.4778 - val_mape: 6.4778\n",
      "Epoch 109/10000\n",
      "3/3 [==============================] - 0s 22ms/step - loss: 1.0441 - mape: 1.0441 - val_loss: 6.5031 - val_mape: 6.5031\n",
      "Epoch 110/10000\n",
      "3/3 [==============================] - 0s 21ms/step - loss: 1.0834 - mape: 1.0834 - val_loss: 6.5527 - val_mape: 6.5527\n",
      "Epoch 111/10000\n",
      "3/3 [==============================] - 0s 19ms/step - loss: 0.9602 - mape: 0.9602 - val_loss: 6.5637 - val_mape: 6.5637\n",
      "Epoch 112/10000\n",
      "3/3 [==============================] - 0s 20ms/step - loss: 1.0052 - mape: 1.0052 - val_loss: 6.7385 - val_mape: 6.7385\n",
      "Epoch 113/10000\n",
      "3/3 [==============================] - 0s 21ms/step - loss: 1.2171 - mape: 1.2171 - val_loss: 6.7923 - val_mape: 6.7923\n",
      "Epoch 114/10000\n",
      "3/3 [==============================] - 0s 20ms/step - loss: 0.9786 - mape: 0.9786 - val_loss: 6.7844 - val_mape: 6.7844\n",
      "Epoch 115/10000\n",
      "3/3 [==============================] - 0s 21ms/step - loss: 0.9717 - mape: 0.9717 - val_loss: 6.9104 - val_mape: 6.9104\n",
      "Epoch 116/10000\n",
      "3/3 [==============================] - 0s 20ms/step - loss: 1.0500 - mape: 1.0500 - val_loss: 6.6113 - val_mape: 6.6113\n",
      "Epoch 117/10000\n",
      "3/3 [==============================] - 0s 19ms/step - loss: 0.9876 - mape: 0.9876 - val_loss: 7.0167 - val_mape: 7.0167\n",
      "Epoch 118/10000\n",
      "3/3 [==============================] - 0s 23ms/step - loss: 0.9552 - mape: 0.9552 - val_loss: 6.9338 - val_mape: 6.9338\n",
      "Epoch 119/10000\n",
      "3/3 [==============================] - 0s 24ms/step - loss: 0.8552 - mape: 0.8552 - val_loss: 6.8314 - val_mape: 6.8314\n",
      "Epoch 120/10000\n"
     ]
    },
    {
     "name": "stdout",
     "output_type": "stream",
     "text": [
      "3/3 [==============================] - 0s 19ms/step - loss: 0.8315 - mape: 0.8315 - val_loss: 6.6301 - val_mape: 6.6301\n",
      "Epoch 121/10000\n",
      "3/3 [==============================] - 0s 24ms/step - loss: 0.7728 - mape: 0.7728 - val_loss: 6.2575 - val_mape: 6.2575\n",
      "Epoch 122/10000\n",
      "3/3 [==============================] - 0s 24ms/step - loss: 0.7833 - mape: 0.7833 - val_loss: 5.9592 - val_mape: 5.9592\n",
      "Epoch 123/10000\n",
      "3/3 [==============================] - 0s 25ms/step - loss: 0.8978 - mape: 0.8978 - val_loss: 5.9017 - val_mape: 5.9017\n",
      "Epoch 124/10000\n",
      "3/3 [==============================] - 0s 25ms/step - loss: 0.8784 - mape: 0.8784 - val_loss: 5.7168 - val_mape: 5.7168\n",
      "Epoch 125/10000\n",
      "3/3 [==============================] - 0s 22ms/step - loss: 0.7572 - mape: 0.7572 - val_loss: 5.6389 - val_mape: 5.6389\n",
      "Epoch 126/10000\n",
      "3/3 [==============================] - 0s 20ms/step - loss: 0.7373 - mape: 0.7373 - val_loss: 5.6331 - val_mape: 5.6331\n",
      "Epoch 127/10000\n",
      "3/3 [==============================] - 0s 19ms/step - loss: 0.9913 - mape: 0.9913 - val_loss: 5.6731 - val_mape: 5.6731\n",
      "Epoch 128/10000\n",
      "3/3 [==============================] - 0s 19ms/step - loss: 0.8117 - mape: 0.8117 - val_loss: 5.6720 - val_mape: 5.6720\n",
      "Epoch 129/10000\n",
      "3/3 [==============================] - 0s 20ms/step - loss: 0.9140 - mape: 0.9140 - val_loss: 5.8578 - val_mape: 5.8578\n",
      "Epoch 130/10000\n",
      "3/3 [==============================] - 0s 18ms/step - loss: 1.0058 - mape: 1.0058 - val_loss: 5.7792 - val_mape: 5.7792\n",
      "Epoch 131/10000\n",
      "3/3 [==============================] - 0s 19ms/step - loss: 0.8127 - mape: 0.8127 - val_loss: 5.6721 - val_mape: 5.6721\n",
      "Epoch 132/10000\n",
      "3/3 [==============================] - 0s 19ms/step - loss: 0.9967 - mape: 0.9967 - val_loss: 5.6192 - val_mape: 5.6192\n",
      "Epoch 133/10000\n",
      "3/3 [==============================] - 0s 22ms/step - loss: 1.0369 - mape: 1.0369 - val_loss: 5.4954 - val_mape: 5.4954\n",
      "Epoch 134/10000\n",
      "3/3 [==============================] - 0s 20ms/step - loss: 0.7845 - mape: 0.7845 - val_loss: 5.4261 - val_mape: 5.4261\n",
      "Epoch 135/10000\n",
      "3/3 [==============================] - 0s 21ms/step - loss: 0.8746 - mape: 0.8746 - val_loss: 5.5232 - val_mape: 5.5232\n",
      "Epoch 136/10000\n",
      "3/3 [==============================] - 0s 24ms/step - loss: 0.8461 - mape: 0.8461 - val_loss: 5.5473 - val_mape: 5.5473\n",
      "Epoch 137/10000\n",
      "3/3 [==============================] - 0s 23ms/step - loss: 0.6694 - mape: 0.6694 - val_loss: 5.6786 - val_mape: 5.6786\n",
      "Epoch 138/10000\n",
      "3/3 [==============================] - 0s 23ms/step - loss: 0.7231 - mape: 0.7231 - val_loss: 5.7753 - val_mape: 5.7753\n",
      "Epoch 139/10000\n",
      "3/3 [==============================] - 0s 23ms/step - loss: 0.6270 - mape: 0.6270 - val_loss: 5.7825 - val_mape: 5.7825\n",
      "Epoch 140/10000\n",
      "3/3 [==============================] - 0s 22ms/step - loss: 0.6063 - mape: 0.6063 - val_loss: 5.8635 - val_mape: 5.8635\n",
      "Epoch 141/10000\n",
      "3/3 [==============================] - 0s 22ms/step - loss: 0.6517 - mape: 0.6517 - val_loss: 5.7508 - val_mape: 5.7508\n",
      "Epoch 142/10000\n",
      "3/3 [==============================] - 0s 21ms/step - loss: 0.9279 - mape: 0.9279 - val_loss: 5.7182 - val_mape: 5.7182\n",
      "Epoch 143/10000\n",
      "3/3 [==============================] - 0s 19ms/step - loss: 0.7054 - mape: 0.7054 - val_loss: 5.5727 - val_mape: 5.5727\n",
      "Epoch 144/10000\n",
      "3/3 [==============================] - 0s 24ms/step - loss: 0.7054 - mape: 0.7054 - val_loss: 5.4242 - val_mape: 5.4242\n",
      "Epoch 145/10000\n",
      "3/3 [==============================] - 0s 24ms/step - loss: 0.5998 - mape: 0.5998 - val_loss: 5.3415 - val_mape: 5.3415\n",
      "Epoch 146/10000\n",
      "3/3 [==============================] - 0s 22ms/step - loss: 0.6186 - mape: 0.6186 - val_loss: 5.2638 - val_mape: 5.2638\n",
      "Epoch 147/10000\n",
      "3/3 [==============================] - 0s 19ms/step - loss: 0.6908 - mape: 0.6908 - val_loss: 5.3989 - val_mape: 5.3989\n",
      "Epoch 148/10000\n",
      "3/3 [==============================] - 0s 19ms/step - loss: 0.6969 - mape: 0.6969 - val_loss: 5.4097 - val_mape: 5.4097\n",
      "Epoch 149/10000\n",
      "3/3 [==============================] - 0s 19ms/step - loss: 0.5913 - mape: 0.5913 - val_loss: 5.4075 - val_mape: 5.4075\n",
      "Epoch 150/10000\n",
      "3/3 [==============================] - 0s 22ms/step - loss: 0.6185 - mape: 0.6185 - val_loss: 5.5741 - val_mape: 5.5741\n",
      "Epoch 151/10000\n",
      "3/3 [==============================] - 0s 23ms/step - loss: 0.6104 - mape: 0.6104 - val_loss: 5.6063 - val_mape: 5.6063\n",
      "Epoch 152/10000\n",
      "3/3 [==============================] - 0s 21ms/step - loss: 0.5813 - mape: 0.5813 - val_loss: 5.4043 - val_mape: 5.4043\n",
      "Epoch 153/10000\n",
      "3/3 [==============================] - 0s 21ms/step - loss: 0.5995 - mape: 0.5995 - val_loss: 5.3696 - val_mape: 5.3696\n",
      "Epoch 154/10000\n",
      "3/3 [==============================] - 0s 34ms/step - loss: 0.7214 - mape: 0.7214 - val_loss: 5.2499 - val_mape: 5.2499\n",
      "Epoch 155/10000\n",
      "3/3 [==============================] - 0s 20ms/step - loss: 0.6331 - mape: 0.6331 - val_loss: 5.2869 - val_mape: 5.2869\n",
      "Epoch 156/10000\n",
      "3/3 [==============================] - 0s 20ms/step - loss: 0.7642 - mape: 0.7642 - val_loss: 5.2446 - val_mape: 5.2446\n",
      "Epoch 157/10000\n",
      "3/3 [==============================] - 0s 20ms/step - loss: 0.6522 - mape: 0.6522 - val_loss: 5.3255 - val_mape: 5.3255\n",
      "Epoch 158/10000\n",
      "3/3 [==============================] - 0s 19ms/step - loss: 0.6315 - mape: 0.6315 - val_loss: 5.3818 - val_mape: 5.3818\n",
      "Epoch 159/10000\n",
      "3/3 [==============================] - 0s 21ms/step - loss: 0.7331 - mape: 0.7331 - val_loss: 5.5155 - val_mape: 5.5155\n",
      "Epoch 160/10000\n",
      "3/3 [==============================] - 0s 20ms/step - loss: 0.7095 - mape: 0.7095 - val_loss: 5.5444 - val_mape: 5.5444\n",
      "Epoch 161/10000\n",
      "3/3 [==============================] - 0s 19ms/step - loss: 0.6541 - mape: 0.6541 - val_loss: 5.3258 - val_mape: 5.3258\n",
      "Epoch 162/10000\n",
      "3/3 [==============================] - 0s 19ms/step - loss: 0.5991 - mape: 0.5991 - val_loss: 5.3299 - val_mape: 5.3299\n",
      "Epoch 163/10000\n",
      "3/3 [==============================] - 0s 21ms/step - loss: 0.6999 - mape: 0.6999 - val_loss: 5.2558 - val_mape: 5.2558\n",
      "Epoch 164/10000\n",
      "3/3 [==============================] - 0s 22ms/step - loss: 1.0097 - mape: 1.0097 - val_loss: 5.3091 - val_mape: 5.3091\n",
      "Epoch 165/10000\n",
      "3/3 [==============================] - 0s 20ms/step - loss: 0.7702 - mape: 0.7702 - val_loss: 5.3089 - val_mape: 5.3089\n",
      "Epoch 166/10000\n",
      "3/3 [==============================] - 0s 21ms/step - loss: 0.6813 - mape: 0.6813 - val_loss: 5.3168 - val_mape: 5.3168\n",
      "Epoch 167/10000\n",
      "3/3 [==============================] - 0s 23ms/step - loss: 0.6027 - mape: 0.6027 - val_loss: 5.4677 - val_mape: 5.4677\n",
      "Epoch 168/10000\n",
      "3/3 [==============================] - 0s 20ms/step - loss: 0.6287 - mape: 0.6287 - val_loss: 5.3988 - val_mape: 5.3988\n",
      "Epoch 169/10000\n",
      "3/3 [==============================] - 0s 19ms/step - loss: 0.6085 - mape: 0.6085 - val_loss: 5.5797 - val_mape: 5.5797\n",
      "Epoch 170/10000\n",
      "3/3 [==============================] - 0s 20ms/step - loss: 0.5821 - mape: 0.5821 - val_loss: 5.5132 - val_mape: 5.5132\n",
      "Epoch 171/10000\n",
      "3/3 [==============================] - 0s 22ms/step - loss: 0.5077 - mape: 0.5077 - val_loss: 5.6680 - val_mape: 5.6680\n",
      "Epoch 172/10000\n",
      "3/3 [==============================] - 0s 23ms/step - loss: 0.6888 - mape: 0.6888 - val_loss: 5.6371 - val_mape: 5.6371\n",
      "Epoch 173/10000\n",
      "3/3 [==============================] - 0s 23ms/step - loss: 0.5559 - mape: 0.5559 - val_loss: 5.6728 - val_mape: 5.6728\n",
      "Epoch 174/10000\n",
      "3/3 [==============================] - 0s 20ms/step - loss: 0.5222 - mape: 0.5222 - val_loss: 5.6186 - val_mape: 5.6186\n",
      "Epoch 175/10000\n",
      "3/3 [==============================] - 0s 20ms/step - loss: 0.4822 - mape: 0.4822 - val_loss: 5.4730 - val_mape: 5.4730\n",
      "Epoch 176/10000\n",
      "3/3 [==============================] - 0s 21ms/step - loss: 0.5294 - mape: 0.5294 - val_loss: 5.4702 - val_mape: 5.4702\n",
      "Epoch 177/10000\n",
      "3/3 [==============================] - 0s 21ms/step - loss: 0.6330 - mape: 0.6330 - val_loss: 5.4302 - val_mape: 5.4302\n",
      "Epoch 178/10000\n",
      "3/3 [==============================] - 0s 23ms/step - loss: 0.5555 - mape: 0.5555 - val_loss: 5.3091 - val_mape: 5.3091\n",
      "Epoch 179/10000\n",
      "3/3 [==============================] - 0s 21ms/step - loss: 0.6545 - mape: 0.6545 - val_loss: 5.4006 - val_mape: 5.4006\n",
      "Epoch 180/10000\n"
     ]
    },
    {
     "name": "stdout",
     "output_type": "stream",
     "text": [
      "3/3 [==============================] - 0s 20ms/step - loss: 0.5396 - mape: 0.5396 - val_loss: 5.3880 - val_mape: 5.3880\n",
      "Epoch 181/10000\n",
      "3/3 [==============================] - 0s 20ms/step - loss: 0.5598 - mape: 0.5598 - val_loss: 5.4342 - val_mape: 5.4342\n",
      "Epoch 182/10000\n",
      "3/3 [==============================] - 0s 20ms/step - loss: 0.4829 - mape: 0.4829 - val_loss: 5.5159 - val_mape: 5.5159\n",
      "Epoch 183/10000\n",
      "3/3 [==============================] - 0s 20ms/step - loss: 0.7038 - mape: 0.7038 - val_loss: 5.4939 - val_mape: 5.4939\n",
      "Epoch 184/10000\n",
      "3/3 [==============================] - 0s 20ms/step - loss: 0.4955 - mape: 0.4955 - val_loss: 5.6438 - val_mape: 5.6438\n",
      "Epoch 185/10000\n",
      "3/3 [==============================] - 0s 21ms/step - loss: 0.5740 - mape: 0.5740 - val_loss: 5.5614 - val_mape: 5.5614\n",
      "Epoch 186/10000\n",
      "3/3 [==============================] - 0s 21ms/step - loss: 0.9865 - mape: 0.9865 - val_loss: 5.9028 - val_mape: 5.9028\n",
      "Epoch 187/10000\n",
      "3/3 [==============================] - 0s 19ms/step - loss: 0.7543 - mape: 0.7543 - val_loss: 5.5628 - val_mape: 5.5628\n",
      "Epoch 188/10000\n",
      "3/3 [==============================] - 0s 20ms/step - loss: 0.6662 - mape: 0.6662 - val_loss: 5.6367 - val_mape: 5.6367\n",
      "Epoch 189/10000\n",
      "3/3 [==============================] - 0s 18ms/step - loss: 0.6133 - mape: 0.6133 - val_loss: 5.7973 - val_mape: 5.7973\n",
      "Epoch 190/10000\n",
      "3/3 [==============================] - 0s 18ms/step - loss: 0.5163 - mape: 0.5163 - val_loss: 5.5056 - val_mape: 5.5056\n",
      "Epoch 191/10000\n",
      "3/3 [==============================] - 0s 20ms/step - loss: 0.7641 - mape: 0.7641 - val_loss: 5.9160 - val_mape: 5.9160\n",
      "Epoch 192/10000\n",
      "3/3 [==============================] - 0s 21ms/step - loss: 0.7216 - mape: 0.7216 - val_loss: 5.5665 - val_mape: 5.5665\n",
      "Epoch 193/10000\n",
      "3/3 [==============================] - 0s 22ms/step - loss: 0.7399 - mape: 0.7399 - val_loss: 5.7712 - val_mape: 5.7712\n",
      "Epoch 194/10000\n",
      "3/3 [==============================] - 0s 21ms/step - loss: 0.5743 - mape: 0.5743 - val_loss: 5.8404 - val_mape: 5.8404\n",
      "Epoch 195/10000\n",
      "3/3 [==============================] - 0s 22ms/step - loss: 0.4934 - mape: 0.4934 - val_loss: 5.5813 - val_mape: 5.5813\n",
      "Epoch 196/10000\n",
      "3/3 [==============================] - 0s 21ms/step - loss: 0.5666 - mape: 0.5666 - val_loss: 5.5096 - val_mape: 5.5096\n",
      "Epoch 197/10000\n",
      "3/3 [==============================] - 0s 22ms/step - loss: 0.5707 - mape: 0.5707 - val_loss: 5.3523 - val_mape: 5.3523\n",
      "Epoch 198/10000\n",
      "3/3 [==============================] - 0s 23ms/step - loss: 0.8281 - mape: 0.8281 - val_loss: 5.6298 - val_mape: 5.6298\n",
      "Epoch 199/10000\n",
      "3/3 [==============================] - 0s 22ms/step - loss: 0.6387 - mape: 0.6387 - val_loss: 5.2825 - val_mape: 5.2825\n",
      "Epoch 200/10000\n",
      "3/3 [==============================] - 0s 22ms/step - loss: 0.9584 - mape: 0.9584 - val_loss: 5.2794 - val_mape: 5.2794\n",
      "Epoch 201/10000\n",
      "3/3 [==============================] - 0s 22ms/step - loss: 0.6109 - mape: 0.6109 - val_loss: 5.9590 - val_mape: 5.9590\n",
      "Epoch 202/10000\n",
      "3/3 [==============================] - 0s 23ms/step - loss: 0.8394 - mape: 0.8394 - val_loss: 5.2288 - val_mape: 5.2288\n",
      "Epoch 203/10000\n",
      "3/3 [==============================] - 0s 24ms/step - loss: 0.7468 - mape: 0.7468 - val_loss: 5.1546 - val_mape: 5.1546\n",
      "Epoch 204/10000\n",
      "3/3 [==============================] - 0s 22ms/step - loss: 0.6771 - mape: 0.6771 - val_loss: 5.1889 - val_mape: 5.1889\n",
      "Epoch 205/10000\n",
      "3/3 [==============================] - 0s 25ms/step - loss: 0.6026 - mape: 0.6026 - val_loss: 5.0966 - val_mape: 5.0966\n",
      "Epoch 206/10000\n",
      "3/3 [==============================] - 0s 23ms/step - loss: 0.5247 - mape: 0.5247 - val_loss: 5.1596 - val_mape: 5.1596\n",
      "Epoch 207/10000\n",
      "3/3 [==============================] - 0s 24ms/step - loss: 0.7898 - mape: 0.7898 - val_loss: 5.1027 - val_mape: 5.1027\n",
      "Epoch 208/10000\n",
      "3/3 [==============================] - 0s 22ms/step - loss: 1.1719 - mape: 1.1719 - val_loss: 5.1124 - val_mape: 5.1124\n",
      "Epoch 209/10000\n",
      "3/3 [==============================] - 0s 23ms/step - loss: 0.7986 - mape: 0.7986 - val_loss: 5.4147 - val_mape: 5.4147\n",
      "Epoch 210/10000\n",
      "3/3 [==============================] - 0s 22ms/step - loss: 0.7518 - mape: 0.7518 - val_loss: 5.1559 - val_mape: 5.1559\n",
      "Epoch 211/10000\n",
      "3/3 [==============================] - 0s 23ms/step - loss: 0.9169 - mape: 0.9169 - val_loss: 5.2974 - val_mape: 5.2974\n",
      "Epoch 212/10000\n",
      "3/3 [==============================] - 0s 21ms/step - loss: 0.9462 - mape: 0.9462 - val_loss: 5.2458 - val_mape: 5.2458\n",
      "Epoch 213/10000\n",
      "3/3 [==============================] - 0s 30ms/step - loss: 0.6456 - mape: 0.6456 - val_loss: 5.0973 - val_mape: 5.0973\n",
      "Epoch 214/10000\n",
      "3/3 [==============================] - 0s 26ms/step - loss: 0.5937 - mape: 0.5937 - val_loss: 5.1227 - val_mape: 5.1227\n",
      "Epoch 215/10000\n",
      "3/3 [==============================] - 0s 26ms/step - loss: 0.7448 - mape: 0.7448 - val_loss: 5.0086 - val_mape: 5.0086\n",
      "Epoch 216/10000\n",
      "3/3 [==============================] - 0s 22ms/step - loss: 0.9310 - mape: 0.9310 - val_loss: 5.0717 - val_mape: 5.0717\n",
      "Epoch 217/10000\n",
      "3/3 [==============================] - 0s 19ms/step - loss: 0.7180 - mape: 0.7180 - val_loss: 4.9539 - val_mape: 4.9539\n",
      "Epoch 218/10000\n",
      "3/3 [==============================] - 0s 19ms/step - loss: 0.9139 - mape: 0.9139 - val_loss: 4.9639 - val_mape: 4.9639\n",
      "Epoch 219/10000\n",
      "3/3 [==============================] - 0s 21ms/step - loss: 0.5642 - mape: 0.5642 - val_loss: 5.2406 - val_mape: 5.2406\n",
      "Epoch 220/10000\n",
      "3/3 [==============================] - 0s 19ms/step - loss: 0.7813 - mape: 0.7813 - val_loss: 4.9931 - val_mape: 4.9931\n",
      "Epoch 221/10000\n",
      "3/3 [==============================] - 0s 20ms/step - loss: 0.5646 - mape: 0.5646 - val_loss: 5.0251 - val_mape: 5.0251\n",
      "Epoch 222/10000\n",
      "3/3 [==============================] - 0s 22ms/step - loss: 0.5454 - mape: 0.5454 - val_loss: 5.1058 - val_mape: 5.1058\n",
      "Epoch 223/10000\n",
      "3/3 [==============================] - 0s 22ms/step - loss: 0.5731 - mape: 0.5731 - val_loss: 5.1272 - val_mape: 5.1272\n",
      "Epoch 224/10000\n",
      "3/3 [==============================] - 0s 20ms/step - loss: 0.4754 - mape: 0.4754 - val_loss: 5.2027 - val_mape: 5.2027\n",
      "Epoch 225/10000\n",
      "3/3 [==============================] - 0s 21ms/step - loss: 0.4904 - mape: 0.4904 - val_loss: 5.2285 - val_mape: 5.2285\n",
      "Epoch 226/10000\n",
      "3/3 [==============================] - 0s 20ms/step - loss: 0.5325 - mape: 0.5325 - val_loss: 5.4011 - val_mape: 5.4011\n",
      "Epoch 227/10000\n",
      "3/3 [==============================] - 0s 22ms/step - loss: 0.6864 - mape: 0.6864 - val_loss: 5.3258 - val_mape: 5.3258\n",
      "Epoch 228/10000\n",
      "3/3 [==============================] - 0s 24ms/step - loss: 0.5148 - mape: 0.5148 - val_loss: 5.4206 - val_mape: 5.4206\n",
      "Epoch 229/10000\n",
      "3/3 [==============================] - 0s 22ms/step - loss: 0.4502 - mape: 0.4502 - val_loss: 5.4678 - val_mape: 5.4678\n",
      "Epoch 230/10000\n",
      "3/3 [==============================] - 0s 21ms/step - loss: 0.4879 - mape: 0.4879 - val_loss: 5.4713 - val_mape: 5.4713\n",
      "Epoch 231/10000\n",
      "3/3 [==============================] - 0s 22ms/step - loss: 0.7260 - mape: 0.7260 - val_loss: 5.5074 - val_mape: 5.5074\n",
      "Epoch 232/10000\n",
      "3/3 [==============================] - 0s 21ms/step - loss: 0.5696 - mape: 0.5696 - val_loss: 5.5488 - val_mape: 5.5488\n",
      "Epoch 233/10000\n",
      "3/3 [==============================] - 0s 21ms/step - loss: 0.5642 - mape: 0.5642 - val_loss: 5.7132 - val_mape: 5.7132\n",
      "Epoch 234/10000\n",
      "3/3 [==============================] - 0s 22ms/step - loss: 0.6211 - mape: 0.6211 - val_loss: 5.4808 - val_mape: 5.4808\n",
      "Epoch 235/10000\n",
      "3/3 [==============================] - 0s 26ms/step - loss: 0.4873 - mape: 0.4873 - val_loss: 5.6777 - val_mape: 5.6777\n",
      "Epoch 236/10000\n",
      "3/3 [==============================] - 0s 28ms/step - loss: 0.4787 - mape: 0.4787 - val_loss: 5.2941 - val_mape: 5.2941\n",
      "Epoch 237/10000\n",
      "3/3 [==============================] - 0s 23ms/step - loss: 0.5357 - mape: 0.5357 - val_loss: 5.4559 - val_mape: 5.4559\n",
      "Epoch 238/10000\n",
      "3/3 [==============================] - 0s 32ms/step - loss: 0.6211 - mape: 0.6211 - val_loss: 5.2780 - val_mape: 5.2780\n",
      "Epoch 239/10000\n",
      "3/3 [==============================] - 0s 18ms/step - loss: 0.7214 - mape: 0.7214 - val_loss: 5.3432 - val_mape: 5.3432\n",
      "Epoch 240/10000\n"
     ]
    },
    {
     "name": "stdout",
     "output_type": "stream",
     "text": [
      "3/3 [==============================] - 0s 21ms/step - loss: 0.7472 - mape: 0.7472 - val_loss: 5.3258 - val_mape: 5.3258\n",
      "Epoch 241/10000\n",
      "3/3 [==============================] - 0s 20ms/step - loss: 0.5321 - mape: 0.5321 - val_loss: 5.3445 - val_mape: 5.3445\n",
      "Epoch 242/10000\n",
      "3/3 [==============================] - 0s 20ms/step - loss: 0.7907 - mape: 0.7907 - val_loss: 5.6039 - val_mape: 5.6039\n",
      "Epoch 243/10000\n",
      "3/3 [==============================] - 0s 19ms/step - loss: 0.6950 - mape: 0.6950 - val_loss: 5.3562 - val_mape: 5.3562\n",
      "Epoch 244/10000\n",
      "3/3 [==============================] - 0s 20ms/step - loss: 0.6036 - mape: 0.6036 - val_loss: 5.4250 - val_mape: 5.4250\n",
      "Epoch 245/10000\n",
      "3/3 [==============================] - 0s 22ms/step - loss: 0.4778 - mape: 0.4778 - val_loss: 5.4646 - val_mape: 5.4646\n",
      "Epoch 246/10000\n",
      "3/3 [==============================] - 0s 24ms/step - loss: 0.4361 - mape: 0.4361 - val_loss: 5.4803 - val_mape: 5.4803\n",
      "Epoch 247/10000\n",
      "3/3 [==============================] - 0s 24ms/step - loss: 0.5040 - mape: 0.5040 - val_loss: 5.6351 - val_mape: 5.6351\n",
      "Epoch 248/10000\n",
      "3/3 [==============================] - 0s 23ms/step - loss: 0.5266 - mape: 0.5266 - val_loss: 5.4290 - val_mape: 5.4290\n",
      "Epoch 249/10000\n",
      "3/3 [==============================] - 0s 23ms/step - loss: 0.4831 - mape: 0.4831 - val_loss: 5.4789 - val_mape: 5.4789\n",
      "Epoch 250/10000\n",
      "3/3 [==============================] - 0s 21ms/step - loss: 0.4550 - mape: 0.4550 - val_loss: 5.3430 - val_mape: 5.3430\n",
      "Epoch 251/10000\n",
      "3/3 [==============================] - 0s 22ms/step - loss: 0.5718 - mape: 0.5718 - val_loss: 5.4710 - val_mape: 5.4710\n",
      "Epoch 252/10000\n",
      "3/3 [==============================] - 0s 22ms/step - loss: 0.7738 - mape: 0.7738 - val_loss: 5.3214 - val_mape: 5.3214\n",
      "Epoch 253/10000\n",
      "3/3 [==============================] - 0s 21ms/step - loss: 0.6290 - mape: 0.6290 - val_loss: 5.2842 - val_mape: 5.2842\n",
      "Epoch 254/10000\n",
      "3/3 [==============================] - 0s 23ms/step - loss: 0.5731 - mape: 0.5731 - val_loss: 5.3508 - val_mape: 5.3508\n",
      "Epoch 255/10000\n",
      "3/3 [==============================] - 0s 22ms/step - loss: 0.5553 - mape: 0.5553 - val_loss: 5.4478 - val_mape: 5.4478\n",
      "Epoch 256/10000\n",
      "3/3 [==============================] - 0s 23ms/step - loss: 0.7471 - mape: 0.7471 - val_loss: 5.5362 - val_mape: 5.5362\n",
      "Epoch 257/10000\n",
      "3/3 [==============================] - 0s 22ms/step - loss: 0.4905 - mape: 0.4905 - val_loss: 5.5647 - val_mape: 5.5647\n",
      "Epoch 258/10000\n",
      "3/3 [==============================] - 0s 23ms/step - loss: 0.8457 - mape: 0.8457 - val_loss: 5.5037 - val_mape: 5.5037\n",
      "Epoch 259/10000\n",
      "3/3 [==============================] - 0s 21ms/step - loss: 0.4872 - mape: 0.4872 - val_loss: 5.5438 - val_mape: 5.5438\n",
      "Epoch 260/10000\n",
      "3/3 [==============================] - 0s 23ms/step - loss: 0.9503 - mape: 0.9503 - val_loss: 5.4160 - val_mape: 5.4160\n",
      "Epoch 261/10000\n",
      "3/3 [==============================] - 0s 22ms/step - loss: 0.5650 - mape: 0.5650 - val_loss: 5.3526 - val_mape: 5.3526\n",
      "Epoch 262/10000\n",
      "3/3 [==============================] - 0s 25ms/step - loss: 0.8600 - mape: 0.8600 - val_loss: 5.3439 - val_mape: 5.3439\n",
      "Epoch 263/10000\n",
      "3/3 [==============================] - 0s 20ms/step - loss: 0.4093 - mape: 0.4093 - val_loss: 5.3677 - val_mape: 5.3677\n",
      "Epoch 264/10000\n",
      "3/3 [==============================] - 0s 21ms/step - loss: 0.6616 - mape: 0.6616 - val_loss: 5.3440 - val_mape: 5.3440\n",
      "Epoch 265/10000\n",
      "3/3 [==============================] - 0s 25ms/step - loss: 0.4260 - mape: 0.4260 - val_loss: 5.2773 - val_mape: 5.2773\n",
      "Epoch 266/10000\n",
      "3/3 [==============================] - 0s 22ms/step - loss: 0.4341 - mape: 0.4341 - val_loss: 5.1980 - val_mape: 5.1980\n",
      "Epoch 267/10000\n",
      "3/3 [==============================] - 0s 32ms/step - loss: 0.5003 - mape: 0.5003 - val_loss: 5.1944 - val_mape: 5.1944\n"
     ]
    },
    {
     "data": {
      "text/plain": [
       "<keras.callbacks.History at 0x7fab20187b80>"
      ]
     },
     "execution_count": 19,
     "metadata": {},
     "output_type": "execute_result"
    }
   ],
   "source": [
    "model1.fit(X_train_x, y_train,batch_size = 32, validation_data=(X_val_x, y_val), epochs=10000, callbacks = (es))"
   ]
  },
  {
   "cell_type": "code",
   "execution_count": 21,
   "id": "734cb845",
   "metadata": {},
   "outputs": [
    {
     "name": "stdout",
     "output_type": "stream",
     "text": [
      "1/1 [==============================] - 2s 2s/step\n"
     ]
    },
    {
     "data": {
      "text/plain": [
       "array([[253.53896],\n",
       "       [254.80576],\n",
       "       [241.74008],\n",
       "       [251.29027],\n",
       "       [246.60593],\n",
       "       [240.78215],\n",
       "       [233.60645],\n",
       "       [230.66277],\n",
       "       [244.73901],\n",
       "       [240.51791],\n",
       "       [252.4662 ],\n",
       "       [260.5528 ]], dtype=float32)"
      ]
     },
     "execution_count": 21,
     "metadata": {},
     "output_type": "execute_result"
    }
   ],
   "source": [
    "model1.predict(X_test_x)"
   ]
  },
  {
   "cell_type": "code",
   "execution_count": 22,
   "id": "a616f9a3",
   "metadata": {
    "scrolled": true
   },
   "outputs": [
    {
     "name": "stdout",
     "output_type": "stream",
     "text": [
      "1/1 [==============================] - 0s 29ms/step\n"
     ]
    }
   ],
   "source": [
    "test_predictions = list(model1.predict(X_test_x))\n",
    "test_results = pd.DataFrame(columns = ['test_predictions', 'test_actual'])\n",
    "\n",
    "#train_predictions\n",
    "\n",
    "test_results['date'] = list(y_test.index)\n",
    "test_results['test_predictions'] = [x[0] for x in test_predictions]\n",
    "test_results['test_actual'] = list(y_test)\n"
   ]
  },
  {
   "cell_type": "code",
   "execution_count": 23,
   "id": "d7d5af01",
   "metadata": {
    "scrolled": true
   },
   "outputs": [
    {
     "data": {
      "text/html": [
       "<div>\n",
       "<style scoped>\n",
       "    .dataframe tbody tr th:only-of-type {\n",
       "        vertical-align: middle;\n",
       "    }\n",
       "\n",
       "    .dataframe tbody tr th {\n",
       "        vertical-align: top;\n",
       "    }\n",
       "\n",
       "    .dataframe thead th {\n",
       "        text-align: right;\n",
       "    }\n",
       "</style>\n",
       "<table border=\"1\" class=\"dataframe\">\n",
       "  <thead>\n",
       "    <tr style=\"text-align: right;\">\n",
       "      <th></th>\n",
       "      <th>test_predictions</th>\n",
       "      <th>test_actual</th>\n",
       "      <th>date</th>\n",
       "    </tr>\n",
       "  </thead>\n",
       "  <tbody>\n",
       "    <tr>\n",
       "      <th>0</th>\n",
       "      <td>253.538956</td>\n",
       "      <td>265.5</td>\n",
       "      <td>2017-01-01</td>\n",
       "    </tr>\n",
       "    <tr>\n",
       "      <th>1</th>\n",
       "      <td>254.805756</td>\n",
       "      <td>268.4</td>\n",
       "      <td>2017-02-01</td>\n",
       "    </tr>\n",
       "    <tr>\n",
       "      <th>2</th>\n",
       "      <td>241.740082</td>\n",
       "      <td>269.3</td>\n",
       "      <td>2017-03-01</td>\n",
       "    </tr>\n",
       "    <tr>\n",
       "      <th>3</th>\n",
       "      <td>251.290268</td>\n",
       "      <td>270.6</td>\n",
       "      <td>2017-04-01</td>\n",
       "    </tr>\n",
       "    <tr>\n",
       "      <th>4</th>\n",
       "      <td>246.605927</td>\n",
       "      <td>271.7</td>\n",
       "      <td>2017-05-01</td>\n",
       "    </tr>\n",
       "    <tr>\n",
       "      <th>5</th>\n",
       "      <td>240.782150</td>\n",
       "      <td>272.3</td>\n",
       "      <td>2017-06-01</td>\n",
       "    </tr>\n",
       "    <tr>\n",
       "      <th>6</th>\n",
       "      <td>233.606445</td>\n",
       "      <td>272.9</td>\n",
       "      <td>2017-07-01</td>\n",
       "    </tr>\n",
       "    <tr>\n",
       "      <th>7</th>\n",
       "      <td>230.662766</td>\n",
       "      <td>274.7</td>\n",
       "      <td>2017-08-01</td>\n",
       "    </tr>\n",
       "    <tr>\n",
       "      <th>8</th>\n",
       "      <td>244.739014</td>\n",
       "      <td>275.1</td>\n",
       "      <td>2017-09-01</td>\n",
       "    </tr>\n",
       "    <tr>\n",
       "      <th>9</th>\n",
       "      <td>240.517914</td>\n",
       "      <td>275.3</td>\n",
       "      <td>2017-10-01</td>\n",
       "    </tr>\n",
       "    <tr>\n",
       "      <th>10</th>\n",
       "      <td>252.466202</td>\n",
       "      <td>275.8</td>\n",
       "      <td>2017-11-01</td>\n",
       "    </tr>\n",
       "    <tr>\n",
       "      <th>11</th>\n",
       "      <td>260.552795</td>\n",
       "      <td>278.1</td>\n",
       "      <td>2017-12-01</td>\n",
       "    </tr>\n",
       "  </tbody>\n",
       "</table>\n",
       "</div>"
      ],
      "text/plain": [
       "    test_predictions  test_actual       date\n",
       "0         253.538956        265.5 2017-01-01\n",
       "1         254.805756        268.4 2017-02-01\n",
       "2         241.740082        269.3 2017-03-01\n",
       "3         251.290268        270.6 2017-04-01\n",
       "4         246.605927        271.7 2017-05-01\n",
       "5         240.782150        272.3 2017-06-01\n",
       "6         233.606445        272.9 2017-07-01\n",
       "7         230.662766        274.7 2017-08-01\n",
       "8         244.739014        275.1 2017-09-01\n",
       "9         240.517914        275.3 2017-10-01\n",
       "10        252.466202        275.8 2017-11-01\n",
       "11        260.552795        278.1 2017-12-01"
      ]
     },
     "execution_count": 23,
     "metadata": {},
     "output_type": "execute_result"
    }
   ],
   "source": [
    "test_results"
   ]
  },
  {
   "cell_type": "code",
   "execution_count": 24,
   "id": "e09c6b51",
   "metadata": {
    "scrolled": true
   },
   "outputs": [],
   "source": [
    "test_results.set_index('date', inplace=True)"
   ]
  },
  {
   "cell_type": "code",
   "execution_count": 25,
   "id": "8fb470a9",
   "metadata": {
    "scrolled": false
   },
   "outputs": [
    {
     "data": {
      "text/plain": [
       "<matplotlib.legend.Legend at 0x7fab202829a0>"
      ]
     },
     "execution_count": 25,
     "metadata": {},
     "output_type": "execute_result"
    },
    {
     "data": {
      "image/png": "[encoded data removed]",
      "text/plain": [
       "<Figure size 640x480 with 1 Axes>"
      ]
     },
     "metadata": {},
     "output_type": "display_data"
    }
   ],
   "source": [
    "import matplotlib.pyplot as plt\n",
    "\n",
    "plt.plot(y)\n",
    "plt.plot(test_results['test_predictions'], label='prediction')\n",
    "plt.plot(test_results['test_actual'], label='actual')\n",
    "plt.title('2017-18 Inflation Prediciton')\n",
    "plt.legend()\n",
    "#plt.savefig('LSTM_new')\n",
    "\n"
   ]
  },
  {
   "cell_type": "markdown",
   "id": "592badff",
   "metadata": {},
   "source": [
    "# LSTM 2018-2019"
   ]
  },
  {
   "cell_type": "code",
   "execution_count": 26,
   "id": "9d4f705a",
   "metadata": {},
   "outputs": [
    {
     "data": {
      "text/plain": [
       "((84, 11), (84,), (24, 11), (24,), (12, 11), (12,))"
      ]
     },
     "execution_count": 26,
     "metadata": {},
     "output_type": "execute_result"
    }
   ],
   "source": [
    "X_train1, y_train1 = X[:84], y[:84]\n",
    "X_val1, y_val1 = X[84:108], y[84:108]\n",
    "X_test1, y_test1 = X[108:120], y[108:120]\n",
    "X_train1.shape, y_train1.shape, X_val1.shape, y_val1.shape, X_test1.shape, y_test1.shape"
   ]
  },
  {
   "cell_type": "code",
   "execution_count": 27,
   "id": "c0a758c4",
   "metadata": {},
   "outputs": [
    {
     "data": {
      "text/plain": [
       "TensorShape([84, 1, 1])"
      ]
     },
     "execution_count": 27,
     "metadata": {},
     "output_type": "execute_result"
    }
   ],
   "source": [
    "y_train1_x = expand_dims(y_train1, -1)\n",
    "y_train1_x = expand_dims(y_train1_x, -1)\n",
    "\n",
    "y_train1_x.shape"
   ]
  },
  {
   "cell_type": "code",
   "execution_count": 28,
   "id": "eb26c948",
   "metadata": {},
   "outputs": [],
   "source": [
    "y_val1_x = expand_dims(y_val1, -1)\n",
    "y_val1_x = expand_dims(y_val1_x, -1)"
   ]
  },
  {
   "cell_type": "code",
   "execution_count": 29,
   "id": "38deec10",
   "metadata": {},
   "outputs": [],
   "source": [
    "X_test1_x = expand_dims(X_test1, -2)"
   ]
  },
  {
   "cell_type": "code",
   "execution_count": 30,
   "id": "6d04d224",
   "metadata": {},
   "outputs": [
    {
     "data": {
      "text/plain": [
       "TensorShape([84, 1, 11])"
      ]
     },
     "execution_count": 30,
     "metadata": {},
     "output_type": "execute_result"
    }
   ],
   "source": [
    "X_train1_x = expand_dims(X_train1, -2)\n",
    "X_train1_x.shape"
   ]
  },
  {
   "cell_type": "code",
   "execution_count": 31,
   "id": "b5f089c9",
   "metadata": {},
   "outputs": [
    {
     "data": {
      "text/plain": [
       "TensorShape([24, 1, 11])"
      ]
     },
     "execution_count": 31,
     "metadata": {},
     "output_type": "execute_result"
    }
   ],
   "source": [
    "X_val1_x = expand_dims(X_val1, -2)\n",
    "X_val1_x.shape"
   ]
  },
  {
   "cell_type": "code",
   "execution_count": 32,
   "id": "2be4a046",
   "metadata": {},
   "outputs": [],
   "source": [
    "lr_scheduler = ExponentialDecay(initial_learning_rate=0.001, decay_steps= 10_000, decay_rate=0.7)\n",
    "adam = Adam(learning_rate=lr_scheduler)\n",
    "es = EarlyStopping(patience=50, restore_best_weights=True)"
   ]
  },
  {
   "cell_type": "code",
   "execution_count": 33,
   "id": "d497234c",
   "metadata": {},
   "outputs": [
    {
     "name": "stdout",
     "output_type": "stream",
     "text": [
      "Model: \"sequential_1\"\n",
      "_________________________________________________________________\n",
      " Layer (type)                Output Shape              Param #   \n",
      "=================================================================\n",
      " normalization_1 (Normalizat  (None, None, 11)         23        \n",
      " ion)                                                            \n",
      "                                                                 \n",
      " lstm_2 (LSTM)               (None, None, 100)         44800     \n",
      "                                                                 \n",
      " lstm_3 (LSTM)               (None, 50)                30200     \n",
      "                                                                 \n",
      " flatten_1 (Flatten)         (None, 50)                0         \n",
      "                                                                 \n",
      " dense_4 (Dense)             (None, 100)               5100      \n",
      "                                                                 \n",
      " dense_5 (Dense)             (None, 50)                5050      \n",
      "                                                                 \n",
      " dense_6 (Dense)             (None, 25)                1275      \n",
      "                                                                 \n",
      " dense_7 (Dense)             (None, 1)                 26        \n",
      "                                                                 \n",
      "=================================================================\n",
      "Total params: 86,474\n",
      "Trainable params: 86,451\n",
      "Non-trainable params: 23\n",
      "_________________________________________________________________\n"
     ]
    }
   ],
   "source": [
    "normalizer = Normalization()\n",
    "normalizer.adapt(X_train1_x)\n",
    "\n",
    "model2 = Sequential()\n",
    "model2.add(normalizer)\n",
    "\n",
    "model2.add(LSTM(units = 100, activation='tanh', return_sequences = True))\n",
    "model2.add(LSTM(units = 50 , activation='tanh', return_sequences = False))\n",
    "\n",
    "model2.add(Flatten())\n",
    "\n",
    "model2.add(Dense(100,activation =  'relu'))\n",
    "model2.add(Dense(50,activation =  'relu'))\n",
    "model2.add(Dense(25,activation =  'relu'))\n",
    "\n",
    "model2.add(Dense(1, activation = 'linear'))\n",
    "\n",
    "model2.summary()"
   ]
  },
  {
   "cell_type": "code",
   "execution_count": 34,
   "id": "5c2ba558",
   "metadata": {},
   "outputs": [],
   "source": [
    "model2.compile(loss= mape, optimizer= adam, metrics=['mape'])"
   ]
  },
  {
   "cell_type": "code",
   "execution_count": 35,
   "id": "4a6d9c66",
   "metadata": {
    "scrolled": true
   },
   "outputs": [
    {
     "name": "stdout",
     "output_type": "stream",
     "text": [
      "Epoch 1/10000\n",
      "3/3 [==============================] - 3s 273ms/step - loss: 99.9963 - mape: 99.9963 - val_loss: 99.9839 - val_mape: 99.9839\n",
      "Epoch 2/10000\n",
      "3/3 [==============================] - 0s 25ms/step - loss: 99.9816 - mape: 99.9816 - val_loss: 99.9637 - val_mape: 99.9637\n",
      "Epoch 3/10000\n",
      "3/3 [==============================] - 0s 25ms/step - loss: 99.9622 - mape: 99.9622 - val_loss: 99.9376 - val_mape: 99.9376\n",
      "Epoch 4/10000\n",
      "3/3 [==============================] - 0s 30ms/step - loss: 99.9371 - mape: 99.9371 - val_loss: 99.9033 - val_mape: 99.9033\n",
      "Epoch 5/10000\n",
      "3/3 [==============================] - 0s 28ms/step - loss: 99.9049 - mape: 99.9049 - val_loss: 99.8549 - val_mape: 99.8549\n",
      "Epoch 6/10000\n",
      "3/3 [==============================] - 0s 21ms/step - loss: 99.8613 - mape: 99.8613 - val_loss: 99.7886 - val_mape: 99.7886\n",
      "Epoch 7/10000\n",
      "3/3 [==============================] - 0s 26ms/step - loss: 99.8044 - mape: 99.8044 - val_loss: 99.6970 - val_mape: 99.6970\n",
      "Epoch 8/10000\n",
      "3/3 [==============================] - 0s 28ms/step - loss: 99.7254 - mape: 99.7254 - val_loss: 99.5660 - val_mape: 99.5660\n",
      "Epoch 9/10000\n",
      "3/3 [==============================] - 0s 27ms/step - loss: 99.6204 - mape: 99.6204 - val_loss: 99.3743 - val_mape: 99.3743\n",
      "Epoch 10/10000\n",
      "3/3 [==============================] - 0s 25ms/step - loss: 99.4753 - mape: 99.4753 - val_loss: 99.1030 - val_mape: 99.1030\n",
      "Epoch 11/10000\n",
      "3/3 [==============================] - 0s 24ms/step - loss: 99.2729 - mape: 99.2729 - val_loss: 98.7154 - val_mape: 98.7154\n",
      "Epoch 12/10000\n",
      "3/3 [==============================] - 0s 23ms/step - loss: 98.9859 - mape: 98.9859 - val_loss: 98.1662 - val_mape: 98.1662\n",
      "Epoch 13/10000\n",
      "3/3 [==============================] - 0s 24ms/step - loss: 98.5950 - mape: 98.5950 - val_loss: 97.4050 - val_mape: 97.4050\n",
      "Epoch 14/10000\n",
      "3/3 [==============================] - 0s 22ms/step - loss: 98.0631 - mape: 98.0631 - val_loss: 96.3414 - val_mape: 96.3414\n",
      "Epoch 15/10000\n",
      "3/3 [==============================] - 0s 23ms/step - loss: 97.3542 - mape: 97.3542 - val_loss: 94.8752 - val_mape: 94.8752\n",
      "Epoch 16/10000\n",
      "3/3 [==============================] - 0s 21ms/step - loss: 96.3626 - mape: 96.3626 - val_loss: 92.9394 - val_mape: 92.9394\n",
      "Epoch 17/10000\n",
      "3/3 [==============================] - 0s 26ms/step - loss: 95.0344 - mape: 95.0344 - val_loss: 90.4583 - val_mape: 90.4583\n",
      "Epoch 18/10000\n",
      "3/3 [==============================] - 0s 26ms/step - loss: 93.3671 - mape: 93.3671 - val_loss: 87.2006 - val_mape: 87.2006\n",
      "Epoch 19/10000\n",
      "3/3 [==============================] - 0s 24ms/step - loss: 91.1341 - mape: 91.1341 - val_loss: 83.1108 - val_mape: 83.1108\n",
      "Epoch 20/10000\n",
      "3/3 [==============================] - 0s 25ms/step - loss: 88.2232 - mape: 88.2232 - val_loss: 77.9772 - val_mape: 77.9772\n",
      "Epoch 21/10000\n",
      "3/3 [==============================] - 0s 24ms/step - loss: 84.6322 - mape: 84.6322 - val_loss: 71.5764 - val_mape: 71.5764\n",
      "Epoch 22/10000\n",
      "3/3 [==============================] - 0s 25ms/step - loss: 79.8794 - mape: 79.8794 - val_loss: 63.9335 - val_mape: 63.9335\n",
      "Epoch 23/10000\n",
      "3/3 [==============================] - 0s 25ms/step - loss: 74.3511 - mape: 74.3511 - val_loss: 54.5589 - val_mape: 54.5589\n",
      "Epoch 24/10000\n",
      "3/3 [==============================] - 0s 23ms/step - loss: 67.2424 - mape: 67.2424 - val_loss: 43.6583 - val_mape: 43.6583\n",
      "Epoch 25/10000\n",
      "3/3 [==============================] - 0s 24ms/step - loss: 58.9115 - mape: 58.9115 - val_loss: 30.8544 - val_mape: 30.8544\n",
      "Epoch 26/10000\n",
      "3/3 [==============================] - 0s 22ms/step - loss: 48.7261 - mape: 48.7261 - val_loss: 16.1476 - val_mape: 16.1476\n",
      "Epoch 27/10000\n",
      "3/3 [==============================] - 0s 25ms/step - loss: 36.6528 - mape: 36.6528 - val_loss: 5.1803 - val_mape: 5.1803\n",
      "Epoch 28/10000\n",
      "3/3 [==============================] - 0s 24ms/step - loss: 27.1508 - mape: 27.1508 - val_loss: 16.4641 - val_mape: 16.4641\n",
      "Epoch 29/10000\n",
      "3/3 [==============================] - 0s 23ms/step - loss: 26.5709 - mape: 26.5709 - val_loss: 21.7002 - val_mape: 21.7002\n",
      "Epoch 30/10000\n",
      "3/3 [==============================] - 0s 24ms/step - loss: 24.3985 - mape: 24.3985 - val_loss: 19.7653 - val_mape: 19.7653\n",
      "Epoch 31/10000\n",
      "3/3 [==============================] - 0s 21ms/step - loss: 20.9087 - mape: 20.9087 - val_loss: 13.2976 - val_mape: 13.2976\n",
      "Epoch 32/10000\n",
      "3/3 [==============================] - 0s 23ms/step - loss: 16.3577 - mape: 16.3577 - val_loss: 7.6789 - val_mape: 7.6789\n",
      "Epoch 33/10000\n",
      "3/3 [==============================] - 0s 22ms/step - loss: 13.7473 - mape: 13.7473 - val_loss: 13.1492 - val_mape: 13.1492\n",
      "Epoch 34/10000\n",
      "3/3 [==============================] - 0s 23ms/step - loss: 14.7787 - mape: 14.7787 - val_loss: 16.1280 - val_mape: 16.1280\n",
      "Epoch 35/10000\n",
      "3/3 [==============================] - 0s 23ms/step - loss: 13.6814 - mape: 13.6814 - val_loss: 13.9126 - val_mape: 13.9126\n",
      "Epoch 36/10000\n",
      "3/3 [==============================] - 0s 23ms/step - loss: 11.6848 - mape: 11.6848 - val_loss: 11.2688 - val_mape: 11.2688\n",
      "Epoch 37/10000\n",
      "3/3 [==============================] - 0s 25ms/step - loss: 11.4790 - mape: 11.4790 - val_loss: 10.7683 - val_mape: 10.7683\n",
      "Epoch 38/10000\n",
      "3/3 [==============================] - 0s 21ms/step - loss: 10.9089 - mape: 10.9089 - val_loss: 13.2877 - val_mape: 13.2877\n",
      "Epoch 39/10000\n",
      "3/3 [==============================] - 0s 23ms/step - loss: 9.7978 - mape: 9.7978 - val_loss: 16.3515 - val_mape: 16.3515\n",
      "Epoch 40/10000\n",
      "3/3 [==============================] - 0s 25ms/step - loss: 9.7375 - mape: 9.7375 - val_loss: 16.7503 - val_mape: 16.7503\n",
      "Epoch 41/10000\n",
      "3/3 [==============================] - 0s 21ms/step - loss: 9.3672 - mape: 9.3672 - val_loss: 14.1203 - val_mape: 14.1203\n",
      "Epoch 42/10000\n",
      "3/3 [==============================] - 0s 23ms/step - loss: 8.5632 - mape: 8.5632 - val_loss: 11.6169 - val_mape: 11.6169\n",
      "Epoch 43/10000\n",
      "3/3 [==============================] - 0s 25ms/step - loss: 8.6184 - mape: 8.6184 - val_loss: 11.4730 - val_mape: 11.4730\n",
      "Epoch 44/10000\n",
      "3/3 [==============================] - 0s 22ms/step - loss: 7.9119 - mape: 7.9119 - val_loss: 13.7782 - val_mape: 13.7782\n",
      "Epoch 45/10000\n",
      "3/3 [==============================] - 0s 21ms/step - loss: 7.6514 - mape: 7.6514 - val_loss: 14.9141 - val_mape: 14.9141\n",
      "Epoch 46/10000\n",
      "3/3 [==============================] - 0s 23ms/step - loss: 7.3810 - mape: 7.3810 - val_loss: 12.8738 - val_mape: 12.8738\n",
      "Epoch 47/10000\n",
      "3/3 [==============================] - 0s 24ms/step - loss: 6.7677 - mape: 6.7677 - val_loss: 11.1842 - val_mape: 11.1842\n",
      "Epoch 48/10000\n",
      "3/3 [==============================] - 0s 23ms/step - loss: 6.6055 - mape: 6.6055 - val_loss: 12.2865 - val_mape: 12.2865\n",
      "Epoch 49/10000\n",
      "3/3 [==============================] - 0s 23ms/step - loss: 6.0933 - mape: 6.0933 - val_loss: 13.3020 - val_mape: 13.3020\n",
      "Epoch 50/10000\n",
      "3/3 [==============================] - 0s 24ms/step - loss: 5.8237 - mape: 5.8237 - val_loss: 12.7490 - val_mape: 12.7490\n",
      "Epoch 51/10000\n",
      "3/3 [==============================] - 0s 22ms/step - loss: 5.4822 - mape: 5.4822 - val_loss: 12.5992 - val_mape: 12.5992\n",
      "Epoch 52/10000\n",
      "3/3 [==============================] - 0s 23ms/step - loss: 5.1409 - mape: 5.1409 - val_loss: 13.3892 - val_mape: 13.3892\n",
      "Epoch 53/10000\n",
      "3/3 [==============================] - 0s 22ms/step - loss: 4.8813 - mape: 4.8813 - val_loss: 12.9603 - val_mape: 12.9603\n",
      "Epoch 54/10000\n",
      "3/3 [==============================] - 0s 24ms/step - loss: 4.5385 - mape: 4.5385 - val_loss: 12.2869 - val_mape: 12.2869\n",
      "Epoch 55/10000\n",
      "3/3 [==============================] - 0s 24ms/step - loss: 4.2506 - mape: 4.2506 - val_loss: 12.8646 - val_mape: 12.8646\n",
      "Epoch 56/10000\n",
      "3/3 [==============================] - 0s 21ms/step - loss: 3.9614 - mape: 3.9614 - val_loss: 12.8295 - val_mape: 12.8295\n",
      "Epoch 57/10000\n",
      "3/3 [==============================] - 0s 24ms/step - loss: 3.6609 - mape: 3.6609 - val_loss: 12.8081 - val_mape: 12.8081\n",
      "Epoch 58/10000\n",
      "3/3 [==============================] - 0s 22ms/step - loss: 3.3789 - mape: 3.3789 - val_loss: 11.8816 - val_mape: 11.8816\n",
      "Epoch 59/10000\n",
      "3/3 [==============================] - 0s 24ms/step - loss: 3.2266 - mape: 3.2266 - val_loss: 10.9940 - val_mape: 10.9940\n",
      "Epoch 60/10000\n"
     ]
    },
    {
     "name": "stdout",
     "output_type": "stream",
     "text": [
      "3/3 [==============================] - 0s 24ms/step - loss: 3.0694 - mape: 3.0694 - val_loss: 10.0266 - val_mape: 10.0266\n",
      "Epoch 61/10000\n",
      "3/3 [==============================] - 0s 23ms/step - loss: 2.8913 - mape: 2.8913 - val_loss: 9.6910 - val_mape: 9.6910\n",
      "Epoch 62/10000\n",
      "3/3 [==============================] - 0s 22ms/step - loss: 2.7608 - mape: 2.7608 - val_loss: 8.8875 - val_mape: 8.8875\n",
      "Epoch 63/10000\n",
      "3/3 [==============================] - 0s 23ms/step - loss: 2.6281 - mape: 2.6281 - val_loss: 8.5381 - val_mape: 8.5381\n",
      "Epoch 64/10000\n",
      "3/3 [==============================] - 0s 21ms/step - loss: 2.4111 - mape: 2.4111 - val_loss: 9.2835 - val_mape: 9.2835\n",
      "Epoch 65/10000\n",
      "3/3 [==============================] - 0s 23ms/step - loss: 2.3473 - mape: 2.3473 - val_loss: 8.7096 - val_mape: 8.7096\n",
      "Epoch 66/10000\n",
      "3/3 [==============================] - 0s 25ms/step - loss: 2.2077 - mape: 2.2077 - val_loss: 8.0549 - val_mape: 8.0549\n",
      "Epoch 67/10000\n",
      "3/3 [==============================] - 0s 23ms/step - loss: 2.1842 - mape: 2.1842 - val_loss: 8.1308 - val_mape: 8.1308\n",
      "Epoch 68/10000\n",
      "3/3 [==============================] - 0s 23ms/step - loss: 2.0972 - mape: 2.0972 - val_loss: 8.2501 - val_mape: 8.2501\n",
      "Epoch 69/10000\n",
      "3/3 [==============================] - 0s 25ms/step - loss: 2.0507 - mape: 2.0507 - val_loss: 7.4837 - val_mape: 7.4837\n",
      "Epoch 70/10000\n",
      "3/3 [==============================] - 0s 27ms/step - loss: 1.9659 - mape: 1.9659 - val_loss: 6.8579 - val_mape: 6.8579\n",
      "Epoch 71/10000\n",
      "3/3 [==============================] - 0s 25ms/step - loss: 1.9372 - mape: 1.9372 - val_loss: 6.8922 - val_mape: 6.8922\n",
      "Epoch 72/10000\n",
      "3/3 [==============================] - 0s 25ms/step - loss: 1.8499 - mape: 1.8499 - val_loss: 6.8042 - val_mape: 6.8042\n",
      "Epoch 73/10000\n",
      "3/3 [==============================] - 0s 25ms/step - loss: 1.7819 - mape: 1.7819 - val_loss: 6.4296 - val_mape: 6.4296\n",
      "Epoch 74/10000\n",
      "3/3 [==============================] - 0s 26ms/step - loss: 1.7545 - mape: 1.7545 - val_loss: 6.6519 - val_mape: 6.6519\n",
      "Epoch 75/10000\n",
      "3/3 [==============================] - 0s 19ms/step - loss: 1.6622 - mape: 1.6622 - val_loss: 6.7757 - val_mape: 6.7757\n",
      "Epoch 76/10000\n",
      "3/3 [==============================] - 0s 23ms/step - loss: 1.6305 - mape: 1.6305 - val_loss: 6.7688 - val_mape: 6.7688\n",
      "Epoch 77/10000\n",
      "3/3 [==============================] - 0s 22ms/step - loss: 1.6770 - mape: 1.6770 - val_loss: 6.3574 - val_mape: 6.3574\n"
     ]
    },
    {
     "data": {
      "text/plain": [
       "<keras.callbacks.History at 0x7faaea85a7f0>"
      ]
     },
     "execution_count": 35,
     "metadata": {},
     "output_type": "execute_result"
    }
   ],
   "source": [
    "model2.fit(X_train1_x, y_train1,batch_size = 32, validation_data=(X_val1_x, y_val1), epochs=10000, callbacks = (es))"
   ]
  },
  {
   "cell_type": "code",
   "execution_count": 36,
   "id": "5b0b4d1b",
   "metadata": {},
   "outputs": [
    {
     "name": "stdout",
     "output_type": "stream",
     "text": [
      "1/1 [==============================] - 1s 583ms/step\n"
     ]
    }
   ],
   "source": [
    "test_prediction1 = list(model2.predict(X_test1_x))"
   ]
  },
  {
   "cell_type": "code",
   "execution_count": 37,
   "id": "d690b1b9",
   "metadata": {},
   "outputs": [],
   "source": [
    "test_results1 = pd.DataFrame(columns = ['test_predictions', 'test_actual'])\n",
    "\n",
    "#train_predictions\n",
    "\n",
    "test_results1['date'] = list(y_test1.index)\n",
    "test_results1['test_predictions'] = [x[0] for x in test_prediction1]\n",
    "test_results1['test_actual'] = list(y_test1)"
   ]
  },
  {
   "cell_type": "code",
   "execution_count": 38,
   "id": "e0dc679d",
   "metadata": {},
   "outputs": [
    {
     "data": {
      "text/html": [
       "<div>\n",
       "<style scoped>\n",
       "    .dataframe tbody tr th:only-of-type {\n",
       "        vertical-align: middle;\n",
       "    }\n",
       "\n",
       "    .dataframe tbody tr th {\n",
       "        vertical-align: top;\n",
       "    }\n",
       "\n",
       "    .dataframe thead th {\n",
       "        text-align: right;\n",
       "    }\n",
       "</style>\n",
       "<table border=\"1\" class=\"dataframe\">\n",
       "  <thead>\n",
       "    <tr style=\"text-align: right;\">\n",
       "      <th></th>\n",
       "      <th>test_predictions</th>\n",
       "      <th>test_actual</th>\n",
       "      <th>date</th>\n",
       "    </tr>\n",
       "  </thead>\n",
       "  <tbody>\n",
       "    <tr>\n",
       "      <th>0</th>\n",
       "      <td>294.537445</td>\n",
       "      <td>276.0</td>\n",
       "      <td>2018-01-01</td>\n",
       "    </tr>\n",
       "    <tr>\n",
       "      <th>1</th>\n",
       "      <td>288.867493</td>\n",
       "      <td>278.1</td>\n",
       "      <td>2018-02-01</td>\n",
       "    </tr>\n",
       "    <tr>\n",
       "      <th>2</th>\n",
       "      <td>288.048523</td>\n",
       "      <td>278.3</td>\n",
       "      <td>2018-03-01</td>\n",
       "    </tr>\n",
       "    <tr>\n",
       "      <th>3</th>\n",
       "      <td>290.683624</td>\n",
       "      <td>279.7</td>\n",
       "      <td>2018-04-01</td>\n",
       "    </tr>\n",
       "    <tr>\n",
       "      <th>4</th>\n",
       "      <td>293.845734</td>\n",
       "      <td>280.7</td>\n",
       "      <td>2018-05-01</td>\n",
       "    </tr>\n",
       "    <tr>\n",
       "      <th>5</th>\n",
       "      <td>293.316010</td>\n",
       "      <td>281.5</td>\n",
       "      <td>2018-06-01</td>\n",
       "    </tr>\n",
       "    <tr>\n",
       "      <th>6</th>\n",
       "      <td>294.218353</td>\n",
       "      <td>281.7</td>\n",
       "      <td>2018-07-01</td>\n",
       "    </tr>\n",
       "    <tr>\n",
       "      <th>7</th>\n",
       "      <td>293.934204</td>\n",
       "      <td>284.2</td>\n",
       "      <td>2018-08-01</td>\n",
       "    </tr>\n",
       "    <tr>\n",
       "      <th>8</th>\n",
       "      <td>294.422760</td>\n",
       "      <td>284.1</td>\n",
       "      <td>2018-09-01</td>\n",
       "    </tr>\n",
       "    <tr>\n",
       "      <th>9</th>\n",
       "      <td>290.392944</td>\n",
       "      <td>284.5</td>\n",
       "      <td>2018-10-01</td>\n",
       "    </tr>\n",
       "    <tr>\n",
       "      <th>10</th>\n",
       "      <td>289.095520</td>\n",
       "      <td>284.6</td>\n",
       "      <td>2018-11-01</td>\n",
       "    </tr>\n",
       "    <tr>\n",
       "      <th>11</th>\n",
       "      <td>283.852661</td>\n",
       "      <td>285.6</td>\n",
       "      <td>2018-12-01</td>\n",
       "    </tr>\n",
       "  </tbody>\n",
       "</table>\n",
       "</div>"
      ],
      "text/plain": [
       "    test_predictions  test_actual       date\n",
       "0         294.537445        276.0 2018-01-01\n",
       "1         288.867493        278.1 2018-02-01\n",
       "2         288.048523        278.3 2018-03-01\n",
       "3         290.683624        279.7 2018-04-01\n",
       "4         293.845734        280.7 2018-05-01\n",
       "5         293.316010        281.5 2018-06-01\n",
       "6         294.218353        281.7 2018-07-01\n",
       "7         293.934204        284.2 2018-08-01\n",
       "8         294.422760        284.1 2018-09-01\n",
       "9         290.392944        284.5 2018-10-01\n",
       "10        289.095520        284.6 2018-11-01\n",
       "11        283.852661        285.6 2018-12-01"
      ]
     },
     "execution_count": 38,
     "metadata": {},
     "output_type": "execute_result"
    }
   ],
   "source": [
    "test_results1"
   ]
  },
  {
   "cell_type": "code",
   "execution_count": 39,
   "id": "b8f1acea",
   "metadata": {},
   "outputs": [],
   "source": [
    "test_results1.set_index('date', inplace=True)"
   ]
  },
  {
   "cell_type": "code",
   "execution_count": 40,
   "id": "af5b124b",
   "metadata": {},
   "outputs": [
    {
     "data": {
      "text/plain": [
       "<matplotlib.legend.Legend at 0x7faaea05bfd0>"
      ]
     },
     "execution_count": 40,
     "metadata": {},
     "output_type": "execute_result"
    },
    {
     "data": {
      "image/png": "[encoded data removed]",
      "text/plain": [
       "<Figure size 640x480 with 1 Axes>"
      ]
     },
     "metadata": {},
     "output_type": "display_data"
    }
   ],
   "source": [
    "plt.plot(y)\n",
    "plt.plot(test_results1['test_predictions'], label='prediction')\n",
    "plt.plot(test_results1['test_actual'], label='actual')\n",
    "plt.title('2018-19 Inflation Prediciton')\n",
    "plt.legend()"
   ]
  },
  {
   "cell_type": "markdown",
   "id": "41e9e976",
   "metadata": {},
   "source": [
    "# LSTM 2019-2020"
   ]
  },
  {
   "cell_type": "code",
   "execution_count": 41,
   "id": "63b216b4",
   "metadata": {},
   "outputs": [
    {
     "data": {
      "text/plain": [
       "((96, 11), (96,), (24, 11), (24,), (12, 11), (12,))"
      ]
     },
     "execution_count": 41,
     "metadata": {},
     "output_type": "execute_result"
    }
   ],
   "source": [
    "X_train2, y_train2 = X[:96], y[:96]\n",
    "X_val2, y_val2 = X[96:120], y[96:120]\n",
    "X_test2, y_test2 = X[120:132], y[120:132]\n",
    "X_train2.shape, y_train2.shape, X_val2.shape, y_val2.shape, X_test2.shape, y_test2.shape"
   ]
  },
  {
   "cell_type": "code",
   "execution_count": 42,
   "id": "d4b3277b",
   "metadata": {},
   "outputs": [
    {
     "data": {
      "text/plain": [
       "TensorShape([96, 1, 1])"
      ]
     },
     "execution_count": 42,
     "metadata": {},
     "output_type": "execute_result"
    }
   ],
   "source": [
    "y_train2_x = expand_dims(y_train2, -1)\n",
    "y_train2_x = expand_dims(y_train2_x, -1)\n",
    "\n",
    "y_train2_x.shape"
   ]
  },
  {
   "cell_type": "code",
   "execution_count": 43,
   "id": "0ee7b678",
   "metadata": {},
   "outputs": [],
   "source": [
    "y_val2_x = expand_dims(y_val2, -1)\n",
    "y_val2_x = expand_dims(y_val2_x, -1)"
   ]
  },
  {
   "cell_type": "code",
   "execution_count": 44,
   "id": "fd11d667",
   "metadata": {},
   "outputs": [],
   "source": [
    "X_test2_x = expand_dims(X_test2, -2)"
   ]
  },
  {
   "cell_type": "code",
   "execution_count": 45,
   "id": "7ac9ffae",
   "metadata": {},
   "outputs": [
    {
     "data": {
      "text/plain": [
       "TensorShape([96, 1, 11])"
      ]
     },
     "execution_count": 45,
     "metadata": {},
     "output_type": "execute_result"
    }
   ],
   "source": [
    "X_train2_x = expand_dims(X_train2, -2)\n",
    "X_train2_x.shape"
   ]
  },
  {
   "cell_type": "code",
   "execution_count": 46,
   "id": "c2c87f6b",
   "metadata": {},
   "outputs": [
    {
     "data": {
      "text/plain": [
       "TensorShape([24, 1, 11])"
      ]
     },
     "execution_count": 46,
     "metadata": {},
     "output_type": "execute_result"
    }
   ],
   "source": [
    "X_val2_x = expand_dims(X_val2, -2)\n",
    "X_val2_x.shape"
   ]
  },
  {
   "cell_type": "code",
   "execution_count": 47,
   "id": "84e55cfa",
   "metadata": {},
   "outputs": [
    {
     "name": "stdout",
     "output_type": "stream",
     "text": [
      "Model: \"sequential_2\"\n",
      "_________________________________________________________________\n",
      " Layer (type)                Output Shape              Param #   \n",
      "=================================================================\n",
      " normalization_2 (Normalizat  (None, None, 11)         23        \n",
      " ion)                                                            \n",
      "                                                                 \n",
      " lstm_4 (LSTM)               (None, None, 100)         44800     \n",
      "                                                                 \n",
      " lstm_5 (LSTM)               (None, 50)                30200     \n",
      "                                                                 \n",
      " flatten_2 (Flatten)         (None, 50)                0         \n",
      "                                                                 \n",
      " dense_8 (Dense)             (None, 100)               5100      \n",
      "                                                                 \n",
      " dense_9 (Dense)             (None, 50)                5050      \n",
      "                                                                 \n",
      " dense_10 (Dense)            (None, 25)                1275      \n",
      "                                                                 \n",
      " dense_11 (Dense)            (None, 1)                 26        \n",
      "                                                                 \n",
      "=================================================================\n",
      "Total params: 86,474\n",
      "Trainable params: 86,451\n",
      "Non-trainable params: 23\n",
      "_________________________________________________________________\n"
     ]
    }
   ],
   "source": [
    "normalizer = Normalization()\n",
    "normalizer.adapt(X_train2_x)\n",
    "\n",
    "model3 = Sequential()\n",
    "model3.add(normalizer)\n",
    "\n",
    "model3.add(LSTM(units = 100, activation='tanh', return_sequences = True))\n",
    "model3.add(LSTM(units = 50 , activation='tanh', return_sequences = False))\n",
    "\n",
    "model3.add(Flatten())\n",
    "\n",
    "model3.add(Dense(100,activation =  'relu'))\n",
    "model3.add(Dense(50,activation =  'relu'))\n",
    "model3.add(Dense(25,activation =  'relu'))\n",
    "\n",
    "model3.add(Dense(1, activation = 'linear'))\n",
    "\n",
    "model3.summary()"
   ]
  },
  {
   "cell_type": "code",
   "execution_count": 48,
   "id": "580ce27f",
   "metadata": {},
   "outputs": [],
   "source": [
    "model3.compile(loss= mape, optimizer= adam, metrics=['mape'])"
   ]
  },
  {
   "cell_type": "code",
   "execution_count": 49,
   "id": "33b2ed2c",
   "metadata": {},
   "outputs": [
    {
     "name": "stdout",
     "output_type": "stream",
     "text": [
      "Epoch 1/10000\n",
      "3/3 [==============================] - 2s 272ms/step - loss: 99.9905 - mape: 99.9905 - val_loss: 99.9719 - val_mape: 99.9719\n",
      "Epoch 2/10000\n",
      "3/3 [==============================] - 0s 26ms/step - loss: 99.9488 - mape: 99.9488 - val_loss: 99.9083 - val_mape: 99.9083\n",
      "Epoch 3/10000\n",
      "3/3 [==============================] - 0s 28ms/step - loss: 99.8561 - mape: 99.8561 - val_loss: 99.7680 - val_mape: 99.7680\n",
      "Epoch 4/10000\n",
      "3/3 [==============================] - 0s 24ms/step - loss: 99.6662 - mape: 99.6662 - val_loss: 99.4938 - val_mape: 99.4938\n",
      "Epoch 5/10000\n",
      "3/3 [==============================] - 0s 22ms/step - loss: 99.2665 - mape: 99.2665 - val_loss: 98.9770 - val_mape: 98.9770\n",
      "Epoch 6/10000\n",
      "3/3 [==============================] - 0s 21ms/step - loss: 98.4455 - mape: 98.4455 - val_loss: 98.0620 - val_mape: 98.0620\n",
      "Epoch 7/10000\n",
      "3/3 [==============================] - 0s 25ms/step - loss: 96.8447 - mape: 96.8447 - val_loss: 96.5891 - val_mape: 96.5891\n",
      "Epoch 8/10000\n",
      "3/3 [==============================] - 0s 24ms/step - loss: 93.9007 - mape: 93.9007 - val_loss: 94.1794 - val_mape: 94.1794\n",
      "Epoch 9/10000\n",
      "3/3 [==============================] - 0s 25ms/step - loss: 88.5852 - mape: 88.5852 - val_loss: 90.4926 - val_mape: 90.4926\n",
      "Epoch 10/10000\n",
      "3/3 [==============================] - 0s 21ms/step - loss: 79.9601 - mape: 79.9601 - val_loss: 85.2198 - val_mape: 85.2198\n",
      "Epoch 11/10000\n",
      "3/3 [==============================] - 0s 21ms/step - loss: 65.5511 - mape: 65.5511 - val_loss: 77.9139 - val_mape: 77.9139\n",
      "Epoch 12/10000\n",
      "3/3 [==============================] - 0s 23ms/step - loss: 48.5608 - mape: 48.5608 - val_loss: 67.5505 - val_mape: 67.5505\n",
      "Epoch 13/10000\n",
      "3/3 [==============================] - 0s 22ms/step - loss: 44.9971 - mape: 44.9971 - val_loss: 53.9422 - val_mape: 53.9422\n",
      "Epoch 14/10000\n",
      "3/3 [==============================] - 0s 21ms/step - loss: 39.4393 - mape: 39.4393 - val_loss: 39.8587 - val_mape: 39.8587\n",
      "Epoch 15/10000\n",
      "3/3 [==============================] - 0s 23ms/step - loss: 27.0547 - mape: 27.0547 - val_loss: 24.0786 - val_mape: 24.0786\n",
      "Epoch 16/10000\n",
      "3/3 [==============================] - 0s 25ms/step - loss: 16.6006 - mape: 16.6006 - val_loss: 4.9902 - val_mape: 4.9902\n",
      "Epoch 17/10000\n",
      "3/3 [==============================] - 0s 24ms/step - loss: 10.4243 - mape: 10.4243 - val_loss: 14.4744 - val_mape: 14.4744\n",
      "Epoch 18/10000\n",
      "3/3 [==============================] - 0s 22ms/step - loss: 12.1565 - mape: 12.1565 - val_loss: 20.6606 - val_mape: 20.6606\n",
      "Epoch 19/10000\n",
      "3/3 [==============================] - 0s 24ms/step - loss: 12.3619 - mape: 12.3619 - val_loss: 13.3899 - val_mape: 13.3899\n",
      "Epoch 20/10000\n",
      "3/3 [==============================] - 0s 26ms/step - loss: 8.7039 - mape: 8.7039 - val_loss: 2.8365 - val_mape: 2.8365\n",
      "Epoch 21/10000\n",
      "3/3 [==============================] - 0s 24ms/step - loss: 6.4597 - mape: 6.4597 - val_loss: 7.7944 - val_mape: 7.7944\n",
      "Epoch 22/10000\n",
      "3/3 [==============================] - 0s 23ms/step - loss: 6.1261 - mape: 6.1261 - val_loss: 7.5432 - val_mape: 7.5432\n",
      "Epoch 23/10000\n",
      "3/3 [==============================] - 0s 23ms/step - loss: 5.5816 - mape: 5.5816 - val_loss: 2.8441 - val_mape: 2.8441\n",
      "Epoch 24/10000\n",
      "3/3 [==============================] - 0s 21ms/step - loss: 4.3390 - mape: 4.3390 - val_loss: 2.6834 - val_mape: 2.6834\n",
      "Epoch 25/10000\n",
      "3/3 [==============================] - 0s 19ms/step - loss: 4.9119 - mape: 4.9119 - val_loss: 2.5491 - val_mape: 2.5491\n",
      "Epoch 26/10000\n",
      "3/3 [==============================] - 0s 24ms/step - loss: 3.9386 - mape: 3.9386 - val_loss: 4.5889 - val_mape: 4.5889\n",
      "Epoch 27/10000\n",
      "3/3 [==============================] - 0s 26ms/step - loss: 4.2391 - mape: 4.2391 - val_loss: 7.0889 - val_mape: 7.0889\n",
      "Epoch 28/10000\n",
      "3/3 [==============================] - 0s 27ms/step - loss: 3.7825 - mape: 3.7825 - val_loss: 2.6211 - val_mape: 2.6211\n",
      "Epoch 29/10000\n",
      "3/3 [==============================] - 0s 25ms/step - loss: 3.2876 - mape: 3.2876 - val_loss: 2.4569 - val_mape: 2.4569\n",
      "Epoch 30/10000\n",
      "3/3 [==============================] - 0s 20ms/step - loss: 3.3275 - mape: 3.3275 - val_loss: 2.5551 - val_mape: 2.5551\n",
      "Epoch 31/10000\n",
      "3/3 [==============================] - 0s 21ms/step - loss: 2.9849 - mape: 2.9849 - val_loss: 3.3808 - val_mape: 3.3808\n",
      "Epoch 32/10000\n",
      "3/3 [==============================] - 0s 19ms/step - loss: 2.9830 - mape: 2.9830 - val_loss: 3.4498 - val_mape: 3.4498\n",
      "Epoch 33/10000\n",
      "3/3 [==============================] - 0s 23ms/step - loss: 2.8214 - mape: 2.8214 - val_loss: 2.3856 - val_mape: 2.3856\n",
      "Epoch 34/10000\n",
      "3/3 [==============================] - 0s 21ms/step - loss: 2.5917 - mape: 2.5917 - val_loss: 2.6993 - val_mape: 2.6993\n",
      "Epoch 35/10000\n",
      "3/3 [==============================] - 0s 27ms/step - loss: 2.3975 - mape: 2.3975 - val_loss: 3.5280 - val_mape: 3.5280\n",
      "Epoch 36/10000\n",
      "3/3 [==============================] - 0s 23ms/step - loss: 2.3819 - mape: 2.3819 - val_loss: 2.7452 - val_mape: 2.7452\n",
      "Epoch 37/10000\n",
      "3/3 [==============================] - 0s 19ms/step - loss: 2.3132 - mape: 2.3132 - val_loss: 2.7254 - val_mape: 2.7254\n",
      "Epoch 38/10000\n",
      "3/3 [==============================] - 0s 19ms/step - loss: 2.2790 - mape: 2.2790 - val_loss: 3.0009 - val_mape: 3.0009\n",
      "Epoch 39/10000\n",
      "3/3 [==============================] - 0s 21ms/step - loss: 2.1541 - mape: 2.1541 - val_loss: 2.9001 - val_mape: 2.9001\n",
      "Epoch 40/10000\n",
      "3/3 [==============================] - 0s 21ms/step - loss: 2.2393 - mape: 2.2393 - val_loss: 2.8722 - val_mape: 2.8722\n",
      "Epoch 41/10000\n",
      "3/3 [==============================] - 0s 27ms/step - loss: 2.2074 - mape: 2.2074 - val_loss: 3.2430 - val_mape: 3.2430\n",
      "Epoch 42/10000\n",
      "3/3 [==============================] - 0s 27ms/step - loss: 2.2652 - mape: 2.2652 - val_loss: 3.7746 - val_mape: 3.7746\n",
      "Epoch 43/10000\n",
      "3/3 [==============================] - 0s 27ms/step - loss: 2.1753 - mape: 2.1753 - val_loss: 2.5124 - val_mape: 2.5124\n",
      "Epoch 44/10000\n",
      "3/3 [==============================] - 0s 20ms/step - loss: 2.1079 - mape: 2.1079 - val_loss: 3.4325 - val_mape: 3.4325\n",
      "Epoch 45/10000\n",
      "3/3 [==============================] - 0s 22ms/step - loss: 1.8602 - mape: 1.8602 - val_loss: 3.0638 - val_mape: 3.0638\n",
      "Epoch 46/10000\n",
      "3/3 [==============================] - 0s 21ms/step - loss: 1.7859 - mape: 1.7859 - val_loss: 3.8781 - val_mape: 3.8781\n",
      "Epoch 47/10000\n",
      "3/3 [==============================] - 0s 23ms/step - loss: 1.7715 - mape: 1.7715 - val_loss: 2.9796 - val_mape: 2.9796\n",
      "Epoch 48/10000\n",
      "3/3 [==============================] - 0s 21ms/step - loss: 1.7442 - mape: 1.7442 - val_loss: 3.3048 - val_mape: 3.3048\n",
      "Epoch 49/10000\n",
      "3/3 [==============================] - 0s 21ms/step - loss: 1.6880 - mape: 1.6880 - val_loss: 3.2560 - val_mape: 3.2560\n",
      "Epoch 50/10000\n",
      "3/3 [==============================] - 0s 23ms/step - loss: 1.5026 - mape: 1.5026 - val_loss: 3.5742 - val_mape: 3.5742\n",
      "Epoch 51/10000\n",
      "3/3 [==============================] - 0s 23ms/step - loss: 1.4688 - mape: 1.4688 - val_loss: 3.2215 - val_mape: 3.2215\n",
      "Epoch 52/10000\n",
      "3/3 [==============================] - 0s 23ms/step - loss: 1.5411 - mape: 1.5411 - val_loss: 3.7966 - val_mape: 3.7966\n",
      "Epoch 53/10000\n",
      "3/3 [==============================] - 0s 23ms/step - loss: 1.4255 - mape: 1.4255 - val_loss: 3.5290 - val_mape: 3.5290\n",
      "Epoch 54/10000\n",
      "3/3 [==============================] - 0s 22ms/step - loss: 1.3515 - mape: 1.3515 - val_loss: 3.3099 - val_mape: 3.3099\n",
      "Epoch 55/10000\n",
      "3/3 [==============================] - 0s 22ms/step - loss: 1.3371 - mape: 1.3371 - val_loss: 3.4678 - val_mape: 3.4678\n",
      "Epoch 56/10000\n",
      "3/3 [==============================] - 0s 22ms/step - loss: 1.3338 - mape: 1.3338 - val_loss: 4.3040 - val_mape: 4.3040\n",
      "Epoch 57/10000\n",
      "3/3 [==============================] - 0s 20ms/step - loss: 1.3194 - mape: 1.3194 - val_loss: 3.1200 - val_mape: 3.1200\n",
      "Epoch 58/10000\n",
      "3/3 [==============================] - 0s 21ms/step - loss: 1.3528 - mape: 1.3528 - val_loss: 3.7601 - val_mape: 3.7601\n",
      "Epoch 59/10000\n",
      "3/3 [==============================] - 0s 31ms/step - loss: 1.1776 - mape: 1.1776 - val_loss: 3.9267 - val_mape: 3.9267\n",
      "Epoch 60/10000\n",
      "3/3 [==============================] - 0s 21ms/step - loss: 1.1492 - mape: 1.1492 - val_loss: 3.4719 - val_mape: 3.4719\n",
      "Epoch 61/10000\n"
     ]
    },
    {
     "name": "stdout",
     "output_type": "stream",
     "text": [
      "3/3 [==============================] - 0s 19ms/step - loss: 1.1869 - mape: 1.1869 - val_loss: 3.5442 - val_mape: 3.5442\n",
      "Epoch 62/10000\n",
      "3/3 [==============================] - 0s 19ms/step - loss: 1.0922 - mape: 1.0922 - val_loss: 4.1701 - val_mape: 4.1701\n",
      "Epoch 63/10000\n",
      "3/3 [==============================] - 0s 21ms/step - loss: 1.0943 - mape: 1.0943 - val_loss: 3.8712 - val_mape: 3.8712\n",
      "Epoch 64/10000\n",
      "3/3 [==============================] - 0s 19ms/step - loss: 1.1214 - mape: 1.1214 - val_loss: 3.9160 - val_mape: 3.9160\n",
      "Epoch 65/10000\n",
      "3/3 [==============================] - 0s 20ms/step - loss: 1.0371 - mape: 1.0371 - val_loss: 3.7738 - val_mape: 3.7738\n",
      "Epoch 66/10000\n",
      "3/3 [==============================] - 0s 20ms/step - loss: 1.0561 - mape: 1.0561 - val_loss: 4.0329 - val_mape: 4.0329\n",
      "Epoch 67/10000\n",
      "3/3 [==============================] - 0s 21ms/step - loss: 1.0091 - mape: 1.0091 - val_loss: 3.5755 - val_mape: 3.5755\n",
      "Epoch 68/10000\n",
      "3/3 [==============================] - 0s 20ms/step - loss: 1.0092 - mape: 1.0092 - val_loss: 4.2239 - val_mape: 4.2239\n",
      "Epoch 69/10000\n",
      "3/3 [==============================] - 0s 23ms/step - loss: 1.0318 - mape: 1.0318 - val_loss: 3.3711 - val_mape: 3.3711\n",
      "Epoch 70/10000\n",
      "3/3 [==============================] - 0s 23ms/step - loss: 0.9929 - mape: 0.9929 - val_loss: 4.5130 - val_mape: 4.5130\n",
      "Epoch 71/10000\n",
      "3/3 [==============================] - 0s 21ms/step - loss: 0.9997 - mape: 0.9997 - val_loss: 3.9714 - val_mape: 3.9714\n",
      "Epoch 72/10000\n",
      "3/3 [==============================] - 0s 22ms/step - loss: 1.0405 - mape: 1.0405 - val_loss: 3.6040 - val_mape: 3.6040\n",
      "Epoch 73/10000\n",
      "3/3 [==============================] - 0s 21ms/step - loss: 0.8911 - mape: 0.8911 - val_loss: 4.5875 - val_mape: 4.5875\n",
      "Epoch 74/10000\n",
      "3/3 [==============================] - 0s 21ms/step - loss: 0.9157 - mape: 0.9157 - val_loss: 3.6632 - val_mape: 3.6632\n",
      "Epoch 75/10000\n",
      "3/3 [==============================] - 0s 21ms/step - loss: 0.9657 - mape: 0.9657 - val_loss: 3.6839 - val_mape: 3.6839\n",
      "Epoch 76/10000\n",
      "3/3 [==============================] - 0s 22ms/step - loss: 1.0211 - mape: 1.0211 - val_loss: 4.7650 - val_mape: 4.7650\n",
      "Epoch 77/10000\n",
      "3/3 [==============================] - 0s 22ms/step - loss: 1.0968 - mape: 1.0968 - val_loss: 3.5940 - val_mape: 3.5940\n",
      "Epoch 78/10000\n",
      "3/3 [==============================] - 0s 23ms/step - loss: 1.1056 - mape: 1.1056 - val_loss: 3.6905 - val_mape: 3.6905\n",
      "Epoch 79/10000\n",
      "3/3 [==============================] - 0s 24ms/step - loss: 1.0033 - mape: 1.0033 - val_loss: 4.8226 - val_mape: 4.8226\n",
      "Epoch 80/10000\n",
      "3/3 [==============================] - 0s 21ms/step - loss: 1.0572 - mape: 1.0572 - val_loss: 4.1923 - val_mape: 4.1923\n",
      "Epoch 81/10000\n",
      "3/3 [==============================] - 0s 22ms/step - loss: 0.9879 - mape: 0.9879 - val_loss: 3.9781 - val_mape: 3.9781\n",
      "Epoch 82/10000\n",
      "3/3 [==============================] - 0s 21ms/step - loss: 0.9356 - mape: 0.9356 - val_loss: 4.2478 - val_mape: 4.2478\n",
      "Epoch 83/10000\n",
      "3/3 [==============================] - 0s 24ms/step - loss: 0.8273 - mape: 0.8273 - val_loss: 4.8460 - val_mape: 4.8460\n"
     ]
    },
    {
     "data": {
      "text/plain": [
       "<keras.callbacks.History at 0x7faae9a5a4f0>"
      ]
     },
     "execution_count": 49,
     "metadata": {},
     "output_type": "execute_result"
    }
   ],
   "source": [
    "model3.fit(X_train2_x, y_train2,batch_size = 32, validation_data=(X_val2_x, y_val2), epochs=10000, callbacks = (es))"
   ]
  },
  {
   "cell_type": "code",
   "execution_count": 50,
   "id": "09fabd71",
   "metadata": {},
   "outputs": [
    {
     "name": "stdout",
     "output_type": "stream",
     "text": [
      "1/1 [==============================] - 1s 570ms/step\n"
     ]
    }
   ],
   "source": [
    "test_prediction2 = list(model3.predict(X_test2_x))\n"
   ]
  },
  {
   "cell_type": "code",
   "execution_count": 51,
   "id": "4bbce8f5",
   "metadata": {},
   "outputs": [],
   "source": [
    "test_results2 = pd.DataFrame(columns = ['test_predictions', 'test_actual'])\n",
    "\n",
    "#train_predictions\n",
    "\n",
    "test_results2['date'] = list(y_test2.index)\n",
    "test_results2['test_predictions'] = [x[0] for x in test_prediction2]\n",
    "test_results2['test_actual'] = list(y[120:132])"
   ]
  },
  {
   "cell_type": "code",
   "execution_count": 52,
   "id": "0f4efd14",
   "metadata": {},
   "outputs": [],
   "source": [
    "test_results2.set_index('date', inplace=True)"
   ]
  },
  {
   "cell_type": "code",
   "execution_count": 53,
   "id": "a204ba54",
   "metadata": {},
   "outputs": [
    {
     "data": {
      "text/plain": [
       "<matplotlib.legend.Legend at 0x7faae8e66eb0>"
      ]
     },
     "execution_count": 53,
     "metadata": {},
     "output_type": "execute_result"
    },
    {
     "data": {
      "image/png": "[encoded data removed]",
      "text/plain": [
       "<Figure size 640x480 with 1 Axes>"
      ]
     },
     "metadata": {},
     "output_type": "display_data"
    }
   ],
   "source": [
    "plt.plot(y)\n",
    "plt.plot(test_results2['test_predictions'], label='prediction')\n",
    "plt.plot(test_results2['test_actual'], label='actual')\n",
    "plt.title('2019-20 Inflation Prediciton')\n",
    "plt.legend()\n",
    "#plt.savefig('LSTM_2019-20')"
   ]
  },
  {
   "cell_type": "markdown",
   "id": "34885ce3",
   "metadata": {},
   "source": [
    "# LSTM 2020-2021"
   ]
  },
  {
   "cell_type": "code",
   "execution_count": 54,
   "id": "3cd9888c",
   "metadata": {},
   "outputs": [
    {
     "data": {
      "text/html": [
       "<div>\n",
       "<style scoped>\n",
       "    .dataframe tbody tr th:only-of-type {\n",
       "        vertical-align: middle;\n",
       "    }\n",
       "\n",
       "    .dataframe tbody tr th {\n",
       "        vertical-align: top;\n",
       "    }\n",
       "\n",
       "    .dataframe thead th {\n",
       "        text-align: right;\n",
       "    }\n",
       "</style>\n",
       "<table border=\"1\" class=\"dataframe\">\n",
       "  <thead>\n",
       "    <tr style=\"text-align: right;\">\n",
       "      <th></th>\n",
       "      <th>Brent_Crude_GBP</th>\n",
       "      <th>WTI_Crude_GBP</th>\n",
       "      <th>GBP Curncy</th>\n",
       "      <th>GBPEUR Curncy</th>\n",
       "      <th>UKX Index</th>\n",
       "      <th>SPX Index</th>\n",
       "      <th>SX5E Index</th>\n",
       "      <th>Natural_Gas</th>\n",
       "      <th>GBP_IRS_2y</th>\n",
       "      <th>GBP_IRS_10y</th>\n",
       "      <th>Nationwide_HPI</th>\n",
       "    </tr>\n",
       "    <tr>\n",
       "      <th>Date</th>\n",
       "      <th></th>\n",
       "      <th></th>\n",
       "      <th></th>\n",
       "      <th></th>\n",
       "      <th></th>\n",
       "      <th></th>\n",
       "      <th></th>\n",
       "      <th></th>\n",
       "      <th></th>\n",
       "      <th></th>\n",
       "      <th></th>\n",
       "    </tr>\n",
       "  </thead>\n",
       "  <tbody>\n",
       "    <tr>\n",
       "      <th>2020-01-01</th>\n",
       "      <td>49.021977</td>\n",
       "      <td>37.434634</td>\n",
       "      <td>1.298861</td>\n",
       "      <td>1.160843</td>\n",
       "      <td>7036.697727</td>\n",
       "      <td>2497.268828</td>\n",
       "      <td>3060.333106</td>\n",
       "      <td>7.781994</td>\n",
       "      <td>0.692330</td>\n",
       "      <td>0.710236</td>\n",
       "      <td>430.7</td>\n",
       "    </tr>\n",
       "    <tr>\n",
       "      <th>2020-02-01</th>\n",
       "      <td>42.943990</td>\n",
       "      <td>35.965277</td>\n",
       "      <td>1.291857</td>\n",
       "      <td>1.164014</td>\n",
       "      <td>6796.644286</td>\n",
       "      <td>2501.024605</td>\n",
       "      <td>3019.880708</td>\n",
       "      <td>7.418630</td>\n",
       "      <td>0.683318</td>\n",
       "      <td>0.645300</td>\n",
       "      <td>431.1</td>\n",
       "    </tr>\n",
       "    <tr>\n",
       "      <th>2020-03-01</th>\n",
       "      <td>27.211757</td>\n",
       "      <td>25.801736</td>\n",
       "      <td>1.239504</td>\n",
       "      <td>1.111822</td>\n",
       "      <td>5813.382174</td>\n",
       "      <td>2243.053117</td>\n",
       "      <td>2631.283557</td>\n",
       "      <td>6.975790</td>\n",
       "      <td>0.496927</td>\n",
       "      <td>0.614401</td>\n",
       "      <td>438.0</td>\n",
       "    </tr>\n",
       "    <tr>\n",
       "      <th>2020-04-01</th>\n",
       "      <td>21.072957</td>\n",
       "      <td>17.991584</td>\n",
       "      <td>1.263773</td>\n",
       "      <td>1.139632</td>\n",
       "      <td>6002.315714</td>\n",
       "      <td>2370.656764</td>\n",
       "      <td>2666.200693</td>\n",
       "      <td>5.995653</td>\n",
       "      <td>0.470125</td>\n",
       "      <td>0.524649</td>\n",
       "      <td>444.7</td>\n",
       "    </tr>\n",
       "    <tr>\n",
       "      <th>2020-05-01</th>\n",
       "      <td>25.990237</td>\n",
       "      <td>28.047836</td>\n",
       "      <td>1.247080</td>\n",
       "      <td>1.123495</td>\n",
       "      <td>6134.460000</td>\n",
       "      <td>2450.288506</td>\n",
       "      <td>2722.792714</td>\n",
       "      <td>4.950512</td>\n",
       "      <td>0.327838</td>\n",
       "      <td>0.459777</td>\n",
       "      <td>436.7</td>\n",
       "    </tr>\n",
       "    <tr>\n",
       "      <th>2020-06-01</th>\n",
       "      <td>32.338286</td>\n",
       "      <td>31.462164</td>\n",
       "      <td>1.260819</td>\n",
       "      <td>1.118319</td>\n",
       "      <td>6267.593333</td>\n",
       "      <td>2475.319143</td>\n",
       "      <td>2906.093329</td>\n",
       "      <td>5.429804</td>\n",
       "      <td>0.243187</td>\n",
       "      <td>0.453932</td>\n",
       "      <td>431.7</td>\n",
       "    </tr>\n",
       "    <tr>\n",
       "      <th>2020-07-01</th>\n",
       "      <td>33.762927</td>\n",
       "      <td>31.986664</td>\n",
       "      <td>1.280167</td>\n",
       "      <td>1.112688</td>\n",
       "      <td>6244.110000</td>\n",
       "      <td>2520.160305</td>\n",
       "      <td>2990.676103</td>\n",
       "      <td>5.291466</td>\n",
       "      <td>0.139427</td>\n",
       "      <td>0.406336</td>\n",
       "      <td>440.7</td>\n",
       "    </tr>\n",
       "    <tr>\n",
       "      <th>2020-08-01</th>\n",
       "      <td>34.536521</td>\n",
       "      <td>31.706150</td>\n",
       "      <td>1.303548</td>\n",
       "      <td>1.117148</td>\n",
       "      <td>6163.494211</td>\n",
       "      <td>2569.477068</td>\n",
       "      <td>2952.475053</td>\n",
       "      <td>6.921193</td>\n",
       "      <td>0.104939</td>\n",
       "      <td>0.457958</td>\n",
       "      <td>447.1</td>\n",
       "    </tr>\n",
       "    <tr>\n",
       "      <th>2020-09-01</th>\n",
       "      <td>32.488230</td>\n",
       "      <td>30.814480</td>\n",
       "      <td>1.288886</td>\n",
       "      <td>1.106245</td>\n",
       "      <td>6078.599545</td>\n",
       "      <td>2558.413712</td>\n",
       "      <td>2949.601847</td>\n",
       "      <td>8.556717</td>\n",
       "      <td>0.066389</td>\n",
       "      <td>0.432595</td>\n",
       "      <td>451.1</td>\n",
       "    </tr>\n",
       "    <tr>\n",
       "      <th>2020-10-01</th>\n",
       "      <td>32.041533</td>\n",
       "      <td>31.666313</td>\n",
       "      <td>1.295946</td>\n",
       "      <td>1.114825</td>\n",
       "      <td>6064.609130</td>\n",
       "      <td>2604.212440</td>\n",
       "      <td>2912.902883</td>\n",
       "      <td>9.773120</td>\n",
       "      <td>0.067569</td>\n",
       "      <td>0.456873</td>\n",
       "      <td>454.5</td>\n",
       "    </tr>\n",
       "    <tr>\n",
       "      <th>2020-11-01</th>\n",
       "      <td>33.509593</td>\n",
       "      <td>31.420306</td>\n",
       "      <td>1.312460</td>\n",
       "      <td>1.120650</td>\n",
       "      <td>6341.776000</td>\n",
       "      <td>2629.603950</td>\n",
       "      <td>3040.355151</td>\n",
       "      <td>9.288855</td>\n",
       "      <td>0.078702</td>\n",
       "      <td>0.489245</td>\n",
       "      <td>458.3</td>\n",
       "    </tr>\n",
       "    <tr>\n",
       "      <th>2020-12-01</th>\n",
       "      <td>37.848282</td>\n",
       "      <td>33.594016</td>\n",
       "      <td>1.326829</td>\n",
       "      <td>1.112471</td>\n",
       "      <td>6403.940526</td>\n",
       "      <td>2653.848113</td>\n",
       "      <td>3079.265150</td>\n",
       "      <td>10.773414</td>\n",
       "      <td>0.060186</td>\n",
       "      <td>0.463352</td>\n",
       "      <td>460.7</td>\n",
       "    </tr>\n",
       "  </tbody>\n",
       "</table>\n",
       "</div>"
      ],
      "text/plain": [
       "            Brent_Crude_GBP  WTI_Crude_GBP  GBP Curncy  GBPEUR Curncy  \\\n",
       "Date                                                                    \n",
       "2020-01-01        49.021977      37.434634    1.298861       1.160843   \n",
       "2020-02-01        42.943990      35.965277    1.291857       1.164014   \n",
       "2020-03-01        27.211757      25.801736    1.239504       1.111822   \n",
       "2020-04-01        21.072957      17.991584    1.263773       1.139632   \n",
       "2020-05-01        25.990237      28.047836    1.247080       1.123495   \n",
       "2020-06-01        32.338286      31.462164    1.260819       1.118319   \n",
       "2020-07-01        33.762927      31.986664    1.280167       1.112688   \n",
       "2020-08-01        34.536521      31.706150    1.303548       1.117148   \n",
       "2020-09-01        32.488230      30.814480    1.288886       1.106245   \n",
       "2020-10-01        32.041533      31.666313    1.295946       1.114825   \n",
       "2020-11-01        33.509593      31.420306    1.312460       1.120650   \n",
       "2020-12-01        37.848282      33.594016    1.326829       1.112471   \n",
       "\n",
       "              UKX Index    SPX Index   SX5E Index  Natural_Gas  GBP_IRS_2y  \\\n",
       "Date                                                                         \n",
       "2020-01-01  7036.697727  2497.268828  3060.333106     7.781994    0.692330   \n",
       "2020-02-01  6796.644286  2501.024605  3019.880708     7.418630    0.683318   \n",
       "2020-03-01  5813.382174  2243.053117  2631.283557     6.975790    0.496927   \n",
       "2020-04-01  6002.315714  2370.656764  2666.200693     5.995653    0.470125   \n",
       "2020-05-01  6134.460000  2450.288506  2722.792714     4.950512    0.327838   \n",
       "2020-06-01  6267.593333  2475.319143  2906.093329     5.429804    0.243187   \n",
       "2020-07-01  6244.110000  2520.160305  2990.676103     5.291466    0.139427   \n",
       "2020-08-01  6163.494211  2569.477068  2952.475053     6.921193    0.104939   \n",
       "2020-09-01  6078.599545  2558.413712  2949.601847     8.556717    0.066389   \n",
       "2020-10-01  6064.609130  2604.212440  2912.902883     9.773120    0.067569   \n",
       "2020-11-01  6341.776000  2629.603950  3040.355151     9.288855    0.078702   \n",
       "2020-12-01  6403.940526  2653.848113  3079.265150    10.773414    0.060186   \n",
       "\n",
       "            GBP_IRS_10y  Nationwide_HPI  \n",
       "Date                                     \n",
       "2020-01-01     0.710236           430.7  \n",
       "2020-02-01     0.645300           431.1  \n",
       "2020-03-01     0.614401           438.0  \n",
       "2020-04-01     0.524649           444.7  \n",
       "2020-05-01     0.459777           436.7  \n",
       "2020-06-01     0.453932           431.7  \n",
       "2020-07-01     0.406336           440.7  \n",
       "2020-08-01     0.457958           447.1  \n",
       "2020-09-01     0.432595           451.1  \n",
       "2020-10-01     0.456873           454.5  \n",
       "2020-11-01     0.489245           458.3  \n",
       "2020-12-01     0.463352           460.7  "
      ]
     },
     "execution_count": 54,
     "metadata": {},
     "output_type": "execute_result"
    }
   ],
   "source": [
    "X[132:144]"
   ]
  },
  {
   "cell_type": "code",
   "execution_count": 55,
   "id": "6dedc34e",
   "metadata": {},
   "outputs": [
    {
     "data": {
      "text/plain": [
       "((108, 11), (108,), (24, 11), (24,), (12, 11), (12,))"
      ]
     },
     "execution_count": 55,
     "metadata": {},
     "output_type": "execute_result"
    }
   ],
   "source": [
    "X_train3, y_train3 = X[:108], y[:108]\n",
    "X_val3, y_val3 = X[108:132], y[108:132]\n",
    "X_test3, y_test3 = X[132:144], y[132:144]\n",
    "X_train3.shape, y_train3.shape, X_val3.shape, y_val3.shape, X_test3.shape, y_test3.shape"
   ]
  },
  {
   "cell_type": "code",
   "execution_count": 56,
   "id": "e92697e6",
   "metadata": {},
   "outputs": [
    {
     "data": {
      "text/plain": [
       "TensorShape([108, 1, 1])"
      ]
     },
     "execution_count": 56,
     "metadata": {},
     "output_type": "execute_result"
    }
   ],
   "source": [
    "y_train3_x = expand_dims(y_train3, -1)\n",
    "y_train3_x = expand_dims(y_train3_x, -1)\n",
    "\n",
    "y_train3_x.shape"
   ]
  },
  {
   "cell_type": "code",
   "execution_count": 57,
   "id": "067fc805",
   "metadata": {},
   "outputs": [],
   "source": [
    "y_val3_x = expand_dims(y_val3, -1)\n",
    "y_val3_x = expand_dims(y_val3_x, -1)"
   ]
  },
  {
   "cell_type": "code",
   "execution_count": 58,
   "id": "02e1405c",
   "metadata": {},
   "outputs": [],
   "source": [
    "X_test3_x = expand_dims(X_test3, -2)"
   ]
  },
  {
   "cell_type": "code",
   "execution_count": 59,
   "id": "b020473f",
   "metadata": {},
   "outputs": [
    {
     "data": {
      "text/plain": [
       "TensorShape([108, 1, 11])"
      ]
     },
     "execution_count": 59,
     "metadata": {},
     "output_type": "execute_result"
    }
   ],
   "source": [
    "X_train3_x = expand_dims(X_train3, -2)\n",
    "X_train3_x.shape"
   ]
  },
  {
   "cell_type": "code",
   "execution_count": 60,
   "id": "58f0e2f8",
   "metadata": {},
   "outputs": [
    {
     "data": {
      "text/plain": [
       "TensorShape([24, 1, 11])"
      ]
     },
     "execution_count": 60,
     "metadata": {},
     "output_type": "execute_result"
    }
   ],
   "source": [
    "X_val3_x = expand_dims(X_val3, -2)\n",
    "X_val3_x.shape"
   ]
  },
  {
   "cell_type": "code",
   "execution_count": 61,
   "id": "8fc5c1ff",
   "metadata": {},
   "outputs": [
    {
     "name": "stdout",
     "output_type": "stream",
     "text": [
      "Model: \"sequential_3\"\n",
      "_________________________________________________________________\n",
      " Layer (type)                Output Shape              Param #   \n",
      "=================================================================\n",
      " normalization_3 (Normalizat  (None, None, 11)         23        \n",
      " ion)                                                            \n",
      "                                                                 \n",
      " lstm_6 (LSTM)               (None, None, 100)         44800     \n",
      "                                                                 \n",
      " lstm_7 (LSTM)               (None, 50)                30200     \n",
      "                                                                 \n",
      " flatten_3 (Flatten)         (None, 50)                0         \n",
      "                                                                 \n",
      " dense_12 (Dense)            (None, 100)               5100      \n",
      "                                                                 \n",
      " dense_13 (Dense)            (None, 50)                5050      \n",
      "                                                                 \n",
      " dense_14 (Dense)            (None, 25)                1275      \n",
      "                                                                 \n",
      " dense_15 (Dense)            (None, 1)                 26        \n",
      "                                                                 \n",
      "=================================================================\n",
      "Total params: 86,474\n",
      "Trainable params: 86,451\n",
      "Non-trainable params: 23\n",
      "_________________________________________________________________\n"
     ]
    }
   ],
   "source": [
    "normalizer = Normalization()\n",
    "normalizer.adapt(X_train3_x)\n",
    "\n",
    "model4 = Sequential()\n",
    "model4.add(normalizer)\n",
    "\n",
    "model4.add(LSTM(units = 100, activation='tanh', return_sequences = True))\n",
    "model4.add(LSTM(units = 50 , activation='tanh', return_sequences = False))\n",
    "\n",
    "model4.add(Flatten())\n",
    "\n",
    "model4.add(Dense(100,activation =  'relu'))\n",
    "model4.add(Dense(50,activation =  'relu'))\n",
    "model4.add(Dense(25,activation =  'relu'))\n",
    "\n",
    "model4.add(Dense(1, activation = 'linear'))\n",
    "\n",
    "model4.summary()"
   ]
  },
  {
   "cell_type": "code",
   "execution_count": 62,
   "id": "6c41f32c",
   "metadata": {},
   "outputs": [],
   "source": [
    "model4.compile(loss= mape, optimizer= adam, metrics=['mape'])"
   ]
  },
  {
   "cell_type": "code",
   "execution_count": 63,
   "id": "027dd637",
   "metadata": {},
   "outputs": [
    {
     "name": "stdout",
     "output_type": "stream",
     "text": [
      "Epoch 1/10000\n",
      "4/4 [==============================] - 3s 188ms/step - loss: 99.9804 - mape: 99.9804 - val_loss: 99.9061 - val_mape: 99.9061\n",
      "Epoch 2/10000\n",
      "4/4 [==============================] - 0s 20ms/step - loss: 99.8454 - mape: 99.8454 - val_loss: 99.5935 - val_mape: 99.5935\n",
      "Epoch 3/10000\n",
      "4/4 [==============================] - 0s 18ms/step - loss: 99.4253 - mape: 99.4253 - val_loss: 98.5124 - val_mape: 98.5124\n",
      "Epoch 4/10000\n",
      "4/4 [==============================] - 0s 17ms/step - loss: 98.1158 - mape: 98.1158 - val_loss: 95.3143 - val_mape: 95.3143\n",
      "Epoch 5/10000\n",
      "4/4 [==============================] - 0s 17ms/step - loss: 94.5088 - mape: 94.5088 - val_loss: 87.1796 - val_mape: 87.1796\n",
      "Epoch 6/10000\n",
      "4/4 [==============================] - 0s 18ms/step - loss: 85.7158 - mape: 85.7158 - val_loss: 70.3476 - val_mape: 70.3476\n",
      "Epoch 7/10000\n",
      "4/4 [==============================] - 0s 19ms/step - loss: 66.9014 - mape: 66.9014 - val_loss: 40.8455 - val_mape: 40.8455\n",
      "Epoch 8/10000\n",
      "4/4 [==============================] - 0s 19ms/step - loss: 36.8461 - mape: 36.8461 - val_loss: 5.8083 - val_mape: 5.8083\n",
      "Epoch 9/10000\n",
      "4/4 [==============================] - 0s 19ms/step - loss: 30.6624 - mape: 30.6624 - val_loss: 16.4002 - val_mape: 16.4002\n",
      "Epoch 10/10000\n",
      "4/4 [==============================] - 0s 18ms/step - loss: 25.6380 - mape: 25.6380 - val_loss: 6.7424 - val_mape: 6.7424\n",
      "Epoch 11/10000\n",
      "4/4 [==============================] - 0s 17ms/step - loss: 14.3415 - mape: 14.3415 - val_loss: 15.9977 - val_mape: 15.9977\n",
      "Epoch 12/10000\n",
      "4/4 [==============================] - 0s 18ms/step - loss: 12.0721 - mape: 12.0721 - val_loss: 5.2018 - val_mape: 5.2018\n",
      "Epoch 13/10000\n",
      "4/4 [==============================] - 0s 17ms/step - loss: 8.8776 - mape: 8.8776 - val_loss: 3.4918 - val_mape: 3.4918\n",
      "Epoch 14/10000\n",
      "4/4 [==============================] - 0s 19ms/step - loss: 6.7375 - mape: 6.7375 - val_loss: 12.6319 - val_mape: 12.6319\n",
      "Epoch 15/10000\n",
      "4/4 [==============================] - 0s 19ms/step - loss: 6.8168 - mape: 6.8168 - val_loss: 6.4435 - val_mape: 6.4435\n",
      "Epoch 16/10000\n",
      "4/4 [==============================] - 0s 19ms/step - loss: 5.5895 - mape: 5.5895 - val_loss: 4.9845 - val_mape: 4.9845\n",
      "Epoch 17/10000\n",
      "4/4 [==============================] - 0s 20ms/step - loss: 4.6069 - mape: 4.6069 - val_loss: 10.4567 - val_mape: 10.4567\n",
      "Epoch 18/10000\n",
      "4/4 [==============================] - 0s 17ms/step - loss: 4.2526 - mape: 4.2526 - val_loss: 7.6921 - val_mape: 7.6921\n",
      "Epoch 19/10000\n",
      "4/4 [==============================] - 0s 18ms/step - loss: 3.7430 - mape: 3.7430 - val_loss: 8.5176 - val_mape: 8.5176\n",
      "Epoch 20/10000\n",
      "4/4 [==============================] - 0s 18ms/step - loss: 3.8106 - mape: 3.8106 - val_loss: 6.8035 - val_mape: 6.8035\n",
      "Epoch 21/10000\n",
      "4/4 [==============================] - 0s 18ms/step - loss: 3.2624 - mape: 3.2624 - val_loss: 7.7649 - val_mape: 7.7649\n",
      "Epoch 22/10000\n",
      "4/4 [==============================] - 0s 17ms/step - loss: 2.9587 - mape: 2.9587 - val_loss: 7.8611 - val_mape: 7.8611\n",
      "Epoch 23/10000\n",
      "4/4 [==============================] - 0s 18ms/step - loss: 2.6388 - mape: 2.6388 - val_loss: 6.8538 - val_mape: 6.8538\n",
      "Epoch 24/10000\n",
      "4/4 [==============================] - 0s 16ms/step - loss: 2.6358 - mape: 2.6358 - val_loss: 8.1709 - val_mape: 8.1709\n",
      "Epoch 25/10000\n",
      "4/4 [==============================] - 0s 18ms/step - loss: 2.4887 - mape: 2.4887 - val_loss: 7.6247 - val_mape: 7.6247\n",
      "Epoch 26/10000\n",
      "4/4 [==============================] - 0s 18ms/step - loss: 2.1906 - mape: 2.1906 - val_loss: 6.6626 - val_mape: 6.6626\n",
      "Epoch 27/10000\n",
      "4/4 [==============================] - 0s 18ms/step - loss: 2.2620 - mape: 2.2620 - val_loss: 8.2971 - val_mape: 8.2971\n",
      "Epoch 28/10000\n",
      "4/4 [==============================] - 0s 19ms/step - loss: 2.2066 - mape: 2.2066 - val_loss: 4.6614 - val_mape: 4.6614\n",
      "Epoch 29/10000\n",
      "4/4 [==============================] - 0s 20ms/step - loss: 2.4276 - mape: 2.4276 - val_loss: 8.0387 - val_mape: 8.0387\n",
      "Epoch 30/10000\n",
      "4/4 [==============================] - 0s 17ms/step - loss: 2.1728 - mape: 2.1728 - val_loss: 7.6592 - val_mape: 7.6592\n",
      "Epoch 31/10000\n",
      "4/4 [==============================] - 0s 16ms/step - loss: 2.1874 - mape: 2.1874 - val_loss: 6.3512 - val_mape: 6.3512\n",
      "Epoch 32/10000\n",
      "4/4 [==============================] - 0s 17ms/step - loss: 2.3774 - mape: 2.3774 - val_loss: 8.7580 - val_mape: 8.7580\n",
      "Epoch 33/10000\n",
      "4/4 [==============================] - 0s 19ms/step - loss: 2.0388 - mape: 2.0388 - val_loss: 5.6774 - val_mape: 5.6774\n",
      "Epoch 34/10000\n",
      "4/4 [==============================] - 0s 20ms/step - loss: 1.7867 - mape: 1.7867 - val_loss: 7.2289 - val_mape: 7.2289\n",
      "Epoch 35/10000\n",
      "4/4 [==============================] - 0s 17ms/step - loss: 1.4336 - mape: 1.4336 - val_loss: 7.5749 - val_mape: 7.5749\n",
      "Epoch 36/10000\n",
      "4/4 [==============================] - 0s 18ms/step - loss: 1.4776 - mape: 1.4776 - val_loss: 5.9342 - val_mape: 5.9342\n",
      "Epoch 37/10000\n",
      "4/4 [==============================] - 0s 18ms/step - loss: 1.3526 - mape: 1.3526 - val_loss: 7.9297 - val_mape: 7.9297\n",
      "Epoch 38/10000\n",
      "4/4 [==============================] - 0s 18ms/step - loss: 1.2865 - mape: 1.2865 - val_loss: 7.3020 - val_mape: 7.3020\n",
      "Epoch 39/10000\n",
      "4/4 [==============================] - 0s 17ms/step - loss: 1.2146 - mape: 1.2146 - val_loss: 6.8961 - val_mape: 6.8961\n",
      "Epoch 40/10000\n",
      "4/4 [==============================] - 0s 18ms/step - loss: 1.1975 - mape: 1.1975 - val_loss: 8.1234 - val_mape: 8.1234\n",
      "Epoch 41/10000\n",
      "4/4 [==============================] - 0s 22ms/step - loss: 1.5349 - mape: 1.5349 - val_loss: 5.9503 - val_mape: 5.9503\n",
      "Epoch 42/10000\n",
      "4/4 [==============================] - 0s 14ms/step - loss: 1.6299 - mape: 1.6299 - val_loss: 8.5151 - val_mape: 8.5151\n",
      "Epoch 43/10000\n",
      "4/4 [==============================] - 0s 15ms/step - loss: 1.7142 - mape: 1.7142 - val_loss: 6.5210 - val_mape: 6.5210\n",
      "Epoch 44/10000\n",
      "4/4 [==============================] - 0s 17ms/step - loss: 1.3864 - mape: 1.3864 - val_loss: 7.1177 - val_mape: 7.1177\n",
      "Epoch 45/10000\n",
      "4/4 [==============================] - 0s 18ms/step - loss: 1.4964 - mape: 1.4964 - val_loss: 7.0823 - val_mape: 7.0823\n",
      "Epoch 46/10000\n",
      "4/4 [==============================] - 0s 17ms/step - loss: 1.6631 - mape: 1.6631 - val_loss: 6.2525 - val_mape: 6.2525\n",
      "Epoch 47/10000\n",
      "4/4 [==============================] - 0s 15ms/step - loss: 1.4769 - mape: 1.4769 - val_loss: 6.8952 - val_mape: 6.8952\n",
      "Epoch 48/10000\n",
      "4/4 [==============================] - 0s 20ms/step - loss: 1.5973 - mape: 1.5973 - val_loss: 7.2718 - val_mape: 7.2718\n",
      "Epoch 49/10000\n",
      "4/4 [==============================] - 0s 17ms/step - loss: 1.5108 - mape: 1.5108 - val_loss: 6.3287 - val_mape: 6.3287\n",
      "Epoch 50/10000\n",
      "4/4 [==============================] - 0s 17ms/step - loss: 1.2822 - mape: 1.2822 - val_loss: 6.3936 - val_mape: 6.3936\n",
      "Epoch 51/10000\n",
      "4/4 [==============================] - 0s 18ms/step - loss: 1.3710 - mape: 1.3710 - val_loss: 7.4047 - val_mape: 7.4047\n",
      "Epoch 52/10000\n",
      "4/4 [==============================] - 0s 18ms/step - loss: 1.1745 - mape: 1.1745 - val_loss: 4.9608 - val_mape: 4.9608\n",
      "Epoch 53/10000\n",
      "4/4 [==============================] - 0s 18ms/step - loss: 1.6978 - mape: 1.6978 - val_loss: 7.2782 - val_mape: 7.2782\n",
      "Epoch 54/10000\n",
      "4/4 [==============================] - 0s 16ms/step - loss: 1.2974 - mape: 1.2974 - val_loss: 6.3940 - val_mape: 6.3940\n",
      "Epoch 55/10000\n",
      "4/4 [==============================] - 0s 17ms/step - loss: 1.1392 - mape: 1.1392 - val_loss: 6.4258 - val_mape: 6.4258\n",
      "Epoch 56/10000\n",
      "4/4 [==============================] - 0s 16ms/step - loss: 1.0941 - mape: 1.0941 - val_loss: 7.1095 - val_mape: 7.1095\n",
      "Epoch 57/10000\n",
      "4/4 [==============================] - 0s 18ms/step - loss: 1.0085 - mape: 1.0085 - val_loss: 5.8411 - val_mape: 5.8411\n",
      "Epoch 58/10000\n",
      "4/4 [==============================] - 0s 17ms/step - loss: 1.0888 - mape: 1.0888 - val_loss: 7.0056 - val_mape: 7.0056\n",
      "Epoch 59/10000\n",
      "4/4 [==============================] - 0s 18ms/step - loss: 1.2598 - mape: 1.2598 - val_loss: 5.5786 - val_mape: 5.5786\n",
      "Epoch 60/10000\n",
      "4/4 [==============================] - 0s 19ms/step - loss: 1.2176 - mape: 1.2176 - val_loss: 7.2037 - val_mape: 7.2037\n",
      "Epoch 61/10000\n"
     ]
    },
    {
     "name": "stdout",
     "output_type": "stream",
     "text": [
      "4/4 [==============================] - 0s 18ms/step - loss: 1.0126 - mape: 1.0126 - val_loss: 6.4986 - val_mape: 6.4986\n",
      "Epoch 62/10000\n",
      "4/4 [==============================] - 0s 17ms/step - loss: 1.1679 - mape: 1.1679 - val_loss: 6.5701 - val_mape: 6.5701\n",
      "Epoch 63/10000\n",
      "4/4 [==============================] - 0s 19ms/step - loss: 0.9530 - mape: 0.9530 - val_loss: 5.3870 - val_mape: 5.3870\n"
     ]
    },
    {
     "data": {
      "text/plain": [
       "<keras.callbacks.History at 0x7faae8c5aca0>"
      ]
     },
     "execution_count": 63,
     "metadata": {},
     "output_type": "execute_result"
    }
   ],
   "source": [
    "model4.fit(X_train3_x, y_train3,batch_size = 32, validation_data=(X_val3_x, y_val3), epochs=10000, callbacks = (es))"
   ]
  },
  {
   "cell_type": "code",
   "execution_count": 64,
   "id": "07841331",
   "metadata": {},
   "outputs": [
    {
     "name": "stdout",
     "output_type": "stream",
     "text": [
      "1/1 [==============================] - 0s 486ms/step\n"
     ]
    }
   ],
   "source": [
    "test_prediction3 = list(model4.predict(X_test3_x))\n"
   ]
  },
  {
   "cell_type": "code",
   "execution_count": 65,
   "id": "71092688",
   "metadata": {},
   "outputs": [],
   "source": [
    "test_results3 = pd.DataFrame(columns = ['test_predictions', 'test_actual'])\n",
    "\n",
    "#train_predictions\n",
    "\n",
    "test_results3['date'] = list(y_test3.index)\n",
    "test_results3['test_predictions'] = [x[0] for x in test_prediction3]\n",
    "test_results3['test_actual'] = list(y_test3)"
   ]
  },
  {
   "cell_type": "code",
   "execution_count": 66,
   "id": "082bc6a8",
   "metadata": {},
   "outputs": [],
   "source": [
    "test_results3.set_index('date', inplace=True)"
   ]
  },
  {
   "cell_type": "code",
   "execution_count": 67,
   "id": "b4f22575",
   "metadata": {},
   "outputs": [
    {
     "data": {
      "image/png": "[encoded data removed]",
      "text/plain": [
       "<Figure size 640x480 with 1 Axes>"
      ]
     },
     "metadata": {},
     "output_type": "display_data"
    }
   ],
   "source": [
    "plt.plot(y)\n",
    "plt.plot(test_results3['test_predictions'], label='prediction')\n",
    "plt.plot(test_results3['test_actual'], label='actual')\n",
    "plt.title('2020-21 Inflation Prediciton')\n",
    "plt.legend()\n",
    "plt.savefig('LSTM_2020-21')"
   ]
  },
  {
   "cell_type": "markdown",
   "id": "f8088958",
   "metadata": {},
   "source": [
    "# LSTM 2021-2022"
   ]
  },
  {
   "cell_type": "code",
   "execution_count": 68,
   "id": "0c2be476",
   "metadata": {},
   "outputs": [
    {
     "data": {
      "text/html": [
       "<div>\n",
       "<style scoped>\n",
       "    .dataframe tbody tr th:only-of-type {\n",
       "        vertical-align: middle;\n",
       "    }\n",
       "\n",
       "    .dataframe tbody tr th {\n",
       "        vertical-align: top;\n",
       "    }\n",
       "\n",
       "    .dataframe thead th {\n",
       "        text-align: right;\n",
       "    }\n",
       "</style>\n",
       "<table border=\"1\" class=\"dataframe\">\n",
       "  <thead>\n",
       "    <tr style=\"text-align: right;\">\n",
       "      <th></th>\n",
       "      <th>Brent_Crude_GBP</th>\n",
       "      <th>WTI_Crude_GBP</th>\n",
       "      <th>GBP Curncy</th>\n",
       "      <th>GBPEUR Curncy</th>\n",
       "      <th>UKX Index</th>\n",
       "      <th>SPX Index</th>\n",
       "      <th>SX5E Index</th>\n",
       "      <th>Natural_Gas</th>\n",
       "      <th>GBP_IRS_2y</th>\n",
       "      <th>GBP_IRS_10y</th>\n",
       "      <th>Nationwide_HPI</th>\n",
       "    </tr>\n",
       "    <tr>\n",
       "      <th>Date</th>\n",
       "      <th></th>\n",
       "      <th></th>\n",
       "      <th></th>\n",
       "      <th></th>\n",
       "      <th></th>\n",
       "      <th></th>\n",
       "      <th></th>\n",
       "      <th></th>\n",
       "      <th></th>\n",
       "      <th></th>\n",
       "      <th></th>\n",
       "    </tr>\n",
       "  </thead>\n",
       "  <tbody>\n",
       "    <tr>\n",
       "      <th>2009-01-01</th>\n",
       "      <td>30.903838</td>\n",
       "      <td>33.424333</td>\n",
       "      <td>1.479027</td>\n",
       "      <td>1.099905</td>\n",
       "      <td>4308.390000</td>\n",
       "      <td>596.071497</td>\n",
       "      <td>2135.982324</td>\n",
       "      <td>12.472805</td>\n",
       "      <td>2.122545</td>\n",
       "      <td>3.757500</td>\n",
       "      <td>300.2</td>\n",
       "    </tr>\n",
       "    <tr>\n",
       "      <th>2009-02-01</th>\n",
       "      <td>29.393166</td>\n",
       "      <td>33.617553</td>\n",
       "      <td>1.492643</td>\n",
       "      <td>1.120824</td>\n",
       "      <td>4232.114762</td>\n",
       "      <td>570.410394</td>\n",
       "      <td>2020.716905</td>\n",
       "      <td>9.467866</td>\n",
       "      <td>2.129905</td>\n",
       "      <td>3.798333</td>\n",
       "      <td>294.7</td>\n",
       "    </tr>\n",
       "    <tr>\n",
       "      <th>2009-03-01</th>\n",
       "      <td>31.733352</td>\n",
       "      <td>36.826152</td>\n",
       "      <td>1.494241</td>\n",
       "      <td>1.097877</td>\n",
       "      <td>4107.840909</td>\n",
       "      <td>566.393975</td>\n",
       "      <td>2029.160819</td>\n",
       "      <td>8.064295</td>\n",
       "      <td>2.142045</td>\n",
       "      <td>3.872500</td>\n",
       "      <td>301.1</td>\n",
       "    </tr>\n",
       "    <tr>\n",
       "      <th>2009-04-01</th>\n",
       "      <td>33.990786</td>\n",
       "      <td>36.012519</td>\n",
       "      <td>1.511936</td>\n",
       "      <td>1.125327</td>\n",
       "      <td>4259.890500</td>\n",
       "      <td>588.042125</td>\n",
       "      <td>2119.383029</td>\n",
       "      <td>7.762397</td>\n",
       "      <td>2.143250</td>\n",
       "      <td>3.935500</td>\n",
       "      <td>302.9</td>\n",
       "    </tr>\n",
       "    <tr>\n",
       "      <th>2009-05-01</th>\n",
       "      <td>37.524515</td>\n",
       "      <td>38.801542</td>\n",
       "      <td>1.561252</td>\n",
       "      <td>1.131686</td>\n",
       "      <td>4434.719500</td>\n",
       "      <td>582.718727</td>\n",
       "      <td>2164.120107</td>\n",
       "      <td>7.757394</td>\n",
       "      <td>2.031900</td>\n",
       "      <td>3.917500</td>\n",
       "      <td>307.2</td>\n",
       "    </tr>\n",
       "    <tr>\n",
       "      <th>...</th>\n",
       "      <td>...</td>\n",
       "      <td>...</td>\n",
       "      <td>...</td>\n",
       "      <td>...</td>\n",
       "      <td>...</td>\n",
       "      <td>...</td>\n",
       "      <td>...</td>\n",
       "      <td>...</td>\n",
       "      <td>...</td>\n",
       "      <td>...</td>\n",
       "      <td>...</td>\n",
       "    </tr>\n",
       "    <tr>\n",
       "      <th>2022-05-01</th>\n",
       "      <td>89.748267</td>\n",
       "      <td>85.128666</td>\n",
       "      <td>1.247484</td>\n",
       "      <td>1.178074</td>\n",
       "      <td>7472.767778</td>\n",
       "      <td>3274.256696</td>\n",
       "      <td>3179.554466</td>\n",
       "      <td>81.073170</td>\n",
       "      <td>2.538121</td>\n",
       "      <td>2.240542</td>\n",
       "      <td>538.4</td>\n",
       "    </tr>\n",
       "    <tr>\n",
       "      <th>2022-06-01</th>\n",
       "      <td>95.251442</td>\n",
       "      <td>87.836565</td>\n",
       "      <td>1.233611</td>\n",
       "      <td>1.167758</td>\n",
       "      <td>7238.188421</td>\n",
       "      <td>3172.340166</td>\n",
       "      <td>3058.969505</td>\n",
       "      <td>96.746393</td>\n",
       "      <td>2.933563</td>\n",
       "      <td>2.626558</td>\n",
       "      <td>541.8</td>\n",
       "    </tr>\n",
       "    <tr>\n",
       "      <th>2022-07-01</th>\n",
       "      <td>85.363871</td>\n",
       "      <td>80.415504</td>\n",
       "      <td>1.231479</td>\n",
       "      <td>1.184589</td>\n",
       "      <td>7303.865263</td>\n",
       "      <td>3298.689210</td>\n",
       "      <td>3082.959231</td>\n",
       "      <td>128.688654</td>\n",
       "      <td>2.700779</td>\n",
       "      <td>2.302258</td>\n",
       "      <td>541.0</td>\n",
       "    </tr>\n",
       "    <tr>\n",
       "      <th>2022-08-01</th>\n",
       "      <td>80.656541</td>\n",
       "      <td>78.913331</td>\n",
       "      <td>1.211816</td>\n",
       "      <td>1.181732</td>\n",
       "      <td>7453.987222</td>\n",
       "      <td>3446.779300</td>\n",
       "      <td>3131.457852</td>\n",
       "      <td>180.082147</td>\n",
       "      <td>3.368889</td>\n",
       "      <td>2.688500</td>\n",
       "      <td>546.1</td>\n",
       "    </tr>\n",
       "    <tr>\n",
       "      <th>2022-09-01</th>\n",
       "      <td>73.474167</td>\n",
       "      <td>80.706056</td>\n",
       "      <td>1.272420</td>\n",
       "      <td>1.180400</td>\n",
       "      <td>7403.016000</td>\n",
       "      <td>3300.260920</td>\n",
       "      <td>3208.537784</td>\n",
       "      <td>93.341821</td>\n",
       "      <td>2.475340</td>\n",
       "      <td>2.155940</td>\n",
       "      <td>NaN</td>\n",
       "    </tr>\n",
       "  </tbody>\n",
       "</table>\n",
       "<p>165 rows × 11 columns</p>\n",
       "</div>"
      ],
      "text/plain": [
       "            Brent_Crude_GBP  WTI_Crude_GBP  GBP Curncy  GBPEUR Curncy  \\\n",
       "Date                                                                    \n",
       "2009-01-01        30.903838      33.424333    1.479027       1.099905   \n",
       "2009-02-01        29.393166      33.617553    1.492643       1.120824   \n",
       "2009-03-01        31.733352      36.826152    1.494241       1.097877   \n",
       "2009-04-01        33.990786      36.012519    1.511936       1.125327   \n",
       "2009-05-01        37.524515      38.801542    1.561252       1.131686   \n",
       "...                     ...            ...         ...            ...   \n",
       "2022-05-01        89.748267      85.128666    1.247484       1.178074   \n",
       "2022-06-01        95.251442      87.836565    1.233611       1.167758   \n",
       "2022-07-01        85.363871      80.415504    1.231479       1.184589   \n",
       "2022-08-01        80.656541      78.913331    1.211816       1.181732   \n",
       "2022-09-01        73.474167      80.706056    1.272420       1.180400   \n",
       "\n",
       "              UKX Index    SPX Index   SX5E Index  Natural_Gas  GBP_IRS_2y  \\\n",
       "Date                                                                         \n",
       "2009-01-01  4308.390000   596.071497  2135.982324    12.472805    2.122545   \n",
       "2009-02-01  4232.114762   570.410394  2020.716905     9.467866    2.129905   \n",
       "2009-03-01  4107.840909   566.393975  2029.160819     8.064295    2.142045   \n",
       "2009-04-01  4259.890500   588.042125  2119.383029     7.762397    2.143250   \n",
       "2009-05-01  4434.719500   582.718727  2164.120107     7.757394    2.031900   \n",
       "...                 ...          ...          ...          ...         ...   \n",
       "2022-05-01  7472.767778  3274.256696  3179.554466    81.073170    2.538121   \n",
       "2022-06-01  7238.188421  3172.340166  3058.969505    96.746393    2.933563   \n",
       "2022-07-01  7303.865263  3298.689210  3082.959231   128.688654    2.700779   \n",
       "2022-08-01  7453.987222  3446.779300  3131.457852   180.082147    3.368889   \n",
       "2022-09-01  7403.016000  3300.260920  3208.537784    93.341821    2.475340   \n",
       "\n",
       "            GBP_IRS_10y  Nationwide_HPI  \n",
       "Date                                     \n",
       "2009-01-01     3.757500           300.2  \n",
       "2009-02-01     3.798333           294.7  \n",
       "2009-03-01     3.872500           301.1  \n",
       "2009-04-01     3.935500           302.9  \n",
       "2009-05-01     3.917500           307.2  \n",
       "...                 ...             ...  \n",
       "2022-05-01     2.240542           538.4  \n",
       "2022-06-01     2.626558           541.8  \n",
       "2022-07-01     2.302258           541.0  \n",
       "2022-08-01     2.688500           546.1  \n",
       "2022-09-01     2.155940             NaN  \n",
       "\n",
       "[165 rows x 11 columns]"
      ]
     },
     "execution_count": 68,
     "metadata": {},
     "output_type": "execute_result"
    }
   ],
   "source": [
    "X[:165]"
   ]
  },
  {
   "cell_type": "code",
   "execution_count": 69,
   "id": "41840571",
   "metadata": {},
   "outputs": [
    {
     "data": {
      "text/plain": [
       "((132, 11), (132,), (24, 11), (24,), (9, 11), (9,))"
      ]
     },
     "execution_count": 69,
     "metadata": {},
     "output_type": "execute_result"
    }
   ],
   "source": [
    "X_train4, y_train4 = X[:132], y[:132]\n",
    "X_val4, y_val4 = X[132:156], y[132:156]\n",
    "X_test4, y_test4 = X[156:165], y[156:165]\n",
    "X_train4.shape, y_train4.shape, X_val4.shape, y_val4.shape, X_test4.shape, y_test4.shape"
   ]
  },
  {
   "cell_type": "code",
   "execution_count": 70,
   "id": "ddf855cf",
   "metadata": {},
   "outputs": [
    {
     "data": {
      "text/plain": [
       "TensorShape([132, 1, 1])"
      ]
     },
     "execution_count": 70,
     "metadata": {},
     "output_type": "execute_result"
    }
   ],
   "source": [
    "y_train4_x = expand_dims(y_train4, -1)\n",
    "y_train4_x = expand_dims(y_train4_x, -1)\n",
    "\n",
    "y_train4_x.shape"
   ]
  },
  {
   "cell_type": "code",
   "execution_count": 71,
   "id": "7dfc5a8c",
   "metadata": {},
   "outputs": [],
   "source": [
    "y_val4_x = expand_dims(y_val4, -1)\n",
    "y_val4_x = expand_dims(y_val4_x, -1)"
   ]
  },
  {
   "cell_type": "code",
   "execution_count": 72,
   "id": "47704ba5",
   "metadata": {},
   "outputs": [],
   "source": [
    "X_test4_x = expand_dims(X_test4, -2)"
   ]
  },
  {
   "cell_type": "code",
   "execution_count": 73,
   "id": "7486696b",
   "metadata": {},
   "outputs": [
    {
     "data": {
      "text/plain": [
       "TensorShape([132, 1, 11])"
      ]
     },
     "execution_count": 73,
     "metadata": {},
     "output_type": "execute_result"
    }
   ],
   "source": [
    "X_train4_x = expand_dims(X_train4, -2)\n",
    "X_train4_x.shape"
   ]
  },
  {
   "cell_type": "code",
   "execution_count": 74,
   "id": "c493176e",
   "metadata": {},
   "outputs": [
    {
     "data": {
      "text/plain": [
       "TensorShape([24, 1, 11])"
      ]
     },
     "execution_count": 74,
     "metadata": {},
     "output_type": "execute_result"
    }
   ],
   "source": [
    "X_val4_x = expand_dims(X_val4, -2)\n",
    "X_val4_x.shape"
   ]
  },
  {
   "cell_type": "code",
   "execution_count": 75,
   "id": "4ba8aa7c",
   "metadata": {},
   "outputs": [
    {
     "name": "stdout",
     "output_type": "stream",
     "text": [
      "Model: \"sequential_4\"\n",
      "_________________________________________________________________\n",
      " Layer (type)                Output Shape              Param #   \n",
      "=================================================================\n",
      " normalization_4 (Normalizat  (None, None, 11)         23        \n",
      " ion)                                                            \n",
      "                                                                 \n",
      " lstm_8 (LSTM)               (None, None, 100)         44800     \n",
      "                                                                 \n",
      " lstm_9 (LSTM)               (None, 50)                30200     \n",
      "                                                                 \n",
      " flatten_4 (Flatten)         (None, 50)                0         \n",
      "                                                                 \n",
      " dense_16 (Dense)            (None, 100)               5100      \n",
      "                                                                 \n",
      " dense_17 (Dense)            (None, 50)                5050      \n",
      "                                                                 \n",
      " dense_18 (Dense)            (None, 25)                1275      \n",
      "                                                                 \n",
      " dense_19 (Dense)            (None, 1)                 26        \n",
      "                                                                 \n",
      "=================================================================\n",
      "Total params: 86,474\n",
      "Trainable params: 86,451\n",
      "Non-trainable params: 23\n",
      "_________________________________________________________________\n"
     ]
    }
   ],
   "source": [
    "normalizer = Normalization()\n",
    "normalizer.adapt(X_train4_x)\n",
    "\n",
    "model5 = Sequential()\n",
    "model5.add(normalizer)\n",
    "\n",
    "model5.add(LSTM(units = 100, activation='tanh', return_sequences = True))\n",
    "model5.add(LSTM(units = 50 , activation='tanh', return_sequences = False))\n",
    "\n",
    "model5.add(Flatten())\n",
    "\n",
    "model5.add(Dense(100,activation =  'relu'))\n",
    "model5.add(Dense(50,activation =  'relu'))\n",
    "model5.add(Dense(25,activation =  'relu'))\n",
    "\n",
    "model5.add(Dense(1, activation = 'linear'))\n",
    "\n",
    "model5.summary()"
   ]
  },
  {
   "cell_type": "code",
   "execution_count": 76,
   "id": "67848a3f",
   "metadata": {},
   "outputs": [],
   "source": [
    "model5.compile(loss= mape, optimizer= adam, metrics=['mape'])"
   ]
  },
  {
   "cell_type": "code",
   "execution_count": 77,
   "id": "dd764ee8",
   "metadata": {},
   "outputs": [
    {
     "name": "stdout",
     "output_type": "stream",
     "text": [
      "Epoch 1/10000\n",
      "5/5 [==============================] - 3s 169ms/step - loss: 99.9724 - mape: 99.9724 - val_loss: 99.8834 - val_mape: 99.8834\n",
      "Epoch 2/10000\n",
      "5/5 [==============================] - 0s 17ms/step - loss: 99.7049 - mape: 99.7049 - val_loss: 99.3500 - val_mape: 99.3500\n",
      "Epoch 3/10000\n",
      "5/5 [==============================] - 0s 17ms/step - loss: 98.3905 - mape: 98.3905 - val_loss: 97.3061 - val_mape: 97.3061\n",
      "Epoch 4/10000\n",
      "5/5 [==============================] - 0s 17ms/step - loss: 92.8597 - mape: 92.8597 - val_loss: 91.5419 - val_mape: 91.5419\n",
      "Epoch 5/10000\n",
      "5/5 [==============================] - 0s 17ms/step - loss: 76.5475 - mape: 76.5475 - val_loss: 79.3488 - val_mape: 79.3488\n",
      "Epoch 6/10000\n",
      "5/5 [==============================] - 0s 16ms/step - loss: 47.3742 - mape: 47.3742 - val_loss: 54.1454 - val_mape: 54.1454\n",
      "Epoch 7/10000\n",
      "5/5 [==============================] - 0s 16ms/step - loss: 41.3957 - mape: 41.3957 - val_loss: 12.7081 - val_mape: 12.7081\n",
      "Epoch 8/10000\n",
      "5/5 [==============================] - 0s 16ms/step - loss: 14.7317 - mape: 14.7317 - val_loss: 23.2039 - val_mape: 23.2039\n",
      "Epoch 9/10000\n",
      "5/5 [==============================] - 0s 17ms/step - loss: 18.0147 - mape: 18.0147 - val_loss: 5.3731 - val_mape: 5.3731\n",
      "Epoch 10/10000\n",
      "5/5 [==============================] - 0s 16ms/step - loss: 8.6560 - mape: 8.6560 - val_loss: 5.7101 - val_mape: 5.7101\n",
      "Epoch 11/10000\n",
      "5/5 [==============================] - 0s 13ms/step - loss: 9.9366 - mape: 9.9366 - val_loss: 6.4756 - val_mape: 6.4756\n",
      "Epoch 12/10000\n",
      "5/5 [==============================] - 0s 13ms/step - loss: 6.2038 - mape: 6.2038 - val_loss: 3.6503 - val_mape: 3.6503\n",
      "Epoch 13/10000\n",
      "5/5 [==============================] - 0s 13ms/step - loss: 7.5111 - mape: 7.5111 - val_loss: 3.9710 - val_mape: 3.9710\n",
      "Epoch 14/10000\n",
      "5/5 [==============================] - 0s 14ms/step - loss: 5.6997 - mape: 5.6997 - val_loss: 3.4636 - val_mape: 3.4636\n",
      "Epoch 15/10000\n",
      "5/5 [==============================] - 0s 16ms/step - loss: 4.6390 - mape: 4.6390 - val_loss: 3.3089 - val_mape: 3.3089\n",
      "Epoch 16/10000\n",
      "5/5 [==============================] - 0s 15ms/step - loss: 4.5065 - mape: 4.5065 - val_loss: 3.9499 - val_mape: 3.9499\n",
      "Epoch 17/10000\n",
      "5/5 [==============================] - 0s 16ms/step - loss: 4.7509 - mape: 4.7509 - val_loss: 4.0553 - val_mape: 4.0553\n",
      "Epoch 18/10000\n",
      "5/5 [==============================] - 0s 15ms/step - loss: 4.0792 - mape: 4.0792 - val_loss: 3.8739 - val_mape: 3.8739\n",
      "Epoch 19/10000\n",
      "5/5 [==============================] - 0s 15ms/step - loss: 3.5789 - mape: 3.5789 - val_loss: 3.5854 - val_mape: 3.5854\n",
      "Epoch 20/10000\n",
      "5/5 [==============================] - 0s 15ms/step - loss: 3.3847 - mape: 3.3847 - val_loss: 3.5470 - val_mape: 3.5470\n",
      "Epoch 21/10000\n",
      "5/5 [==============================] - 0s 16ms/step - loss: 3.2938 - mape: 3.2938 - val_loss: 3.8660 - val_mape: 3.8660\n",
      "Epoch 22/10000\n",
      "5/5 [==============================] - 0s 16ms/step - loss: 3.1376 - mape: 3.1376 - val_loss: 4.1123 - val_mape: 4.1123\n",
      "Epoch 23/10000\n",
      "5/5 [==============================] - 0s 14ms/step - loss: 3.5368 - mape: 3.5368 - val_loss: 3.7184 - val_mape: 3.7184\n",
      "Epoch 24/10000\n",
      "5/5 [==============================] - 0s 14ms/step - loss: 2.9794 - mape: 2.9794 - val_loss: 3.7065 - val_mape: 3.7065\n",
      "Epoch 25/10000\n",
      "5/5 [==============================] - 0s 14ms/step - loss: 2.8050 - mape: 2.8050 - val_loss: 3.6491 - val_mape: 3.6491\n",
      "Epoch 26/10000\n",
      "5/5 [==============================] - 0s 13ms/step - loss: 2.8587 - mape: 2.8587 - val_loss: 4.0100 - val_mape: 4.0100\n",
      "Epoch 27/10000\n",
      "5/5 [==============================] - 0s 19ms/step - loss: 2.5835 - mape: 2.5835 - val_loss: 3.8522 - val_mape: 3.8522\n",
      "Epoch 28/10000\n",
      "5/5 [==============================] - 0s 13ms/step - loss: 2.5511 - mape: 2.5511 - val_loss: 5.0097 - val_mape: 5.0097\n",
      "Epoch 29/10000\n",
      "5/5 [==============================] - 0s 12ms/step - loss: 3.4717 - mape: 3.4717 - val_loss: 3.6724 - val_mape: 3.6724\n",
      "Epoch 30/10000\n",
      "5/5 [==============================] - 0s 14ms/step - loss: 2.7711 - mape: 2.7711 - val_loss: 3.7712 - val_mape: 3.7712\n",
      "Epoch 31/10000\n",
      "5/5 [==============================] - 0s 15ms/step - loss: 2.5551 - mape: 2.5551 - val_loss: 4.5113 - val_mape: 4.5113\n",
      "Epoch 32/10000\n",
      "5/5 [==============================] - 0s 14ms/step - loss: 2.3668 - mape: 2.3668 - val_loss: 3.6622 - val_mape: 3.6622\n",
      "Epoch 33/10000\n",
      "5/5 [==============================] - 0s 15ms/step - loss: 2.1090 - mape: 2.1090 - val_loss: 3.6631 - val_mape: 3.6631\n",
      "Epoch 34/10000\n",
      "5/5 [==============================] - 0s 14ms/step - loss: 2.0611 - mape: 2.0611 - val_loss: 3.5758 - val_mape: 3.5758\n",
      "Epoch 35/10000\n",
      "5/5 [==============================] - 0s 15ms/step - loss: 2.1879 - mape: 2.1879 - val_loss: 3.4488 - val_mape: 3.4488\n",
      "Epoch 36/10000\n",
      "5/5 [==============================] - 0s 14ms/step - loss: 1.9653 - mape: 1.9653 - val_loss: 3.7882 - val_mape: 3.7882\n",
      "Epoch 37/10000\n",
      "5/5 [==============================] - 0s 14ms/step - loss: 1.8458 - mape: 1.8458 - val_loss: 3.3540 - val_mape: 3.3540\n",
      "Epoch 38/10000\n",
      "5/5 [==============================] - 0s 14ms/step - loss: 1.7876 - mape: 1.7876 - val_loss: 3.3584 - val_mape: 3.3584\n",
      "Epoch 39/10000\n",
      "5/5 [==============================] - 0s 14ms/step - loss: 1.6589 - mape: 1.6589 - val_loss: 3.3225 - val_mape: 3.3225\n",
      "Epoch 40/10000\n",
      "5/5 [==============================] - 0s 15ms/step - loss: 1.5999 - mape: 1.5999 - val_loss: 3.4712 - val_mape: 3.4712\n",
      "Epoch 41/10000\n",
      "5/5 [==============================] - 0s 15ms/step - loss: 1.7762 - mape: 1.7762 - val_loss: 3.5912 - val_mape: 3.5912\n",
      "Epoch 42/10000\n",
      "5/5 [==============================] - 0s 16ms/step - loss: 1.8248 - mape: 1.8248 - val_loss: 3.3465 - val_mape: 3.3465\n",
      "Epoch 43/10000\n",
      "5/5 [==============================] - 0s 15ms/step - loss: 1.9751 - mape: 1.9751 - val_loss: 4.4762 - val_mape: 4.4762\n",
      "Epoch 44/10000\n",
      "5/5 [==============================] - 0s 17ms/step - loss: 1.7355 - mape: 1.7355 - val_loss: 3.4984 - val_mape: 3.4984\n",
      "Epoch 45/10000\n",
      "5/5 [==============================] - 0s 17ms/step - loss: 1.5603 - mape: 1.5603 - val_loss: 5.0614 - val_mape: 5.0614\n",
      "Epoch 46/10000\n",
      "5/5 [==============================] - 0s 15ms/step - loss: 1.8438 - mape: 1.8438 - val_loss: 3.7967 - val_mape: 3.7967\n",
      "Epoch 47/10000\n",
      "5/5 [==============================] - 0s 14ms/step - loss: 1.5027 - mape: 1.5027 - val_loss: 4.6516 - val_mape: 4.6516\n",
      "Epoch 48/10000\n",
      "5/5 [==============================] - 0s 13ms/step - loss: 1.4298 - mape: 1.4298 - val_loss: 4.3342 - val_mape: 4.3342\n",
      "Epoch 49/10000\n",
      "5/5 [==============================] - 0s 15ms/step - loss: 1.1828 - mape: 1.1828 - val_loss: 4.9315 - val_mape: 4.9315\n",
      "Epoch 50/10000\n",
      "5/5 [==============================] - 0s 14ms/step - loss: 1.2803 - mape: 1.2803 - val_loss: 4.6653 - val_mape: 4.6653\n",
      "Epoch 51/10000\n",
      "5/5 [==============================] - 0s 14ms/step - loss: 1.1575 - mape: 1.1575 - val_loss: 4.3028 - val_mape: 4.3028\n",
      "Epoch 52/10000\n",
      "5/5 [==============================] - 0s 14ms/step - loss: 1.1813 - mape: 1.1813 - val_loss: 4.0092 - val_mape: 4.0092\n",
      "Epoch 53/10000\n",
      "5/5 [==============================] - 0s 14ms/step - loss: 1.1827 - mape: 1.1827 - val_loss: 4.3202 - val_mape: 4.3202\n",
      "Epoch 54/10000\n",
      "5/5 [==============================] - 0s 14ms/step - loss: 1.1906 - mape: 1.1906 - val_loss: 4.2753 - val_mape: 4.2753\n",
      "Epoch 55/10000\n",
      "5/5 [==============================] - 0s 14ms/step - loss: 0.9680 - mape: 0.9680 - val_loss: 4.3182 - val_mape: 4.3182\n",
      "Epoch 56/10000\n",
      "5/5 [==============================] - 0s 15ms/step - loss: 1.2816 - mape: 1.2816 - val_loss: 4.6840 - val_mape: 4.6840\n",
      "Epoch 57/10000\n",
      "5/5 [==============================] - 0s 13ms/step - loss: 1.1260 - mape: 1.1260 - val_loss: 4.8724 - val_mape: 4.8724\n",
      "Epoch 58/10000\n",
      "5/5 [==============================] - 0s 14ms/step - loss: 1.1490 - mape: 1.1490 - val_loss: 4.3047 - val_mape: 4.3047\n",
      "Epoch 59/10000\n",
      "5/5 [==============================] - 0s 15ms/step - loss: 1.0463 - mape: 1.0463 - val_loss: 5.1780 - val_mape: 5.1780\n",
      "Epoch 60/10000\n",
      "5/5 [==============================] - 0s 16ms/step - loss: 0.9352 - mape: 0.9352 - val_loss: 3.9325 - val_mape: 3.9325\n",
      "Epoch 61/10000\n"
     ]
    },
    {
     "name": "stdout",
     "output_type": "stream",
     "text": [
      "5/5 [==============================] - 0s 20ms/step - loss: 0.9229 - mape: 0.9229 - val_loss: 3.8171 - val_mape: 3.8171\n",
      "Epoch 62/10000\n",
      "5/5 [==============================] - 0s 18ms/step - loss: 1.0171 - mape: 1.0171 - val_loss: 4.3317 - val_mape: 4.3317\n",
      "Epoch 63/10000\n",
      "5/5 [==============================] - 0s 17ms/step - loss: 0.9715 - mape: 0.9715 - val_loss: 3.8719 - val_mape: 3.8719\n",
      "Epoch 64/10000\n",
      "5/5 [==============================] - 0s 16ms/step - loss: 1.0953 - mape: 1.0953 - val_loss: 4.6021 - val_mape: 4.6021\n",
      "Epoch 65/10000\n",
      "5/5 [==============================] - 0s 15ms/step - loss: 0.9894 - mape: 0.9894 - val_loss: 4.0491 - val_mape: 4.0491\n"
     ]
    },
    {
     "data": {
      "text/plain": [
       "<keras.callbacks.History at 0x7faac7e13d30>"
      ]
     },
     "execution_count": 77,
     "metadata": {},
     "output_type": "execute_result"
    }
   ],
   "source": [
    "model5.fit(X_train4_x, y_train4,batch_size = 32, validation_data=(X_val4_x, y_val4), epochs=10000, callbacks = (es))"
   ]
  },
  {
   "cell_type": "code",
   "execution_count": 78,
   "id": "b225f8b3",
   "metadata": {},
   "outputs": [
    {
     "name": "stderr",
     "output_type": "stream",
     "text": [
      "2022-09-13 15:09:39 tensorflow WARNING: 5 out of the last 6 calls to <function Model.make_predict_function.<locals>.predict_function at 0x7faac7e95310> triggered tf.function retracing. Tracing is expensive and the excessive number of tracings could be due to (1) creating @tf.function repeatedly in a loop, (2) passing tensors with different shapes, (3) passing Python objects instead of tensors. For (1), please define your @tf.function outside of the loop. For (2), @tf.function has reduce_retracing=True option that can avoid unnecessary retracing. For (3), please refer to https://www.tensorflow.org/guide/function#controlling_retracing and https://www.tensorflow.org/api_docs/python/tf/function for  more details.\n"
     ]
    },
    {
     "name": "stdout",
     "output_type": "stream",
     "text": [
      "1/1 [==============================] - 1s 590ms/step\n"
     ]
    },
    {
     "data": {
      "text/plain": [
       "[array([119.62996], dtype=float32),\n",
       " array([203.55383], dtype=float32),\n",
       " array([237.39905], dtype=float32),\n",
       " array([235.8306], dtype=float32),\n",
       " array([239.38283], dtype=float32),\n",
       " array([241.57513], dtype=float32),\n",
       " array([242.18964], dtype=float32),\n",
       " array([240.72095], dtype=float32),\n",
       " array([4.28724], dtype=float32)]"
      ]
     },
     "execution_count": 78,
     "metadata": {},
     "output_type": "execute_result"
    }
   ],
   "source": [
    "test_prediction4 = list(model5.predict(X_test4_x))\n",
    "test_prediction4\n"
   ]
  },
  {
   "cell_type": "code",
   "execution_count": 79,
   "id": "e7b509a8",
   "metadata": {},
   "outputs": [],
   "source": [
    "test_results4 = pd.DataFrame(columns = ['test_predictions', 'test_actual'])\n",
    "\n",
    "#train_predictions\n",
    "\n",
    "test_results4['date'] = list(y_test4.index)\n",
    "test_results4['test_predictions'] = [x[0] for x in test_prediction4]\n",
    "test_results4['test_actual'] = list(y_test4)"
   ]
  },
  {
   "cell_type": "code",
   "execution_count": 80,
   "id": "34a9405c",
   "metadata": {},
   "outputs": [],
   "source": [
    "test_results4.set_index('date', inplace=True)"
   ]
  },
  {
   "cell_type": "code",
   "execution_count": 81,
   "id": "57248026",
   "metadata": {},
   "outputs": [
    {
     "data": {
      "text/plain": [
       "<matplotlib.legend.Legend at 0x7faac67d1f10>"
      ]
     },
     "execution_count": 81,
     "metadata": {},
     "output_type": "execute_result"
    },
    {
     "data": {
      "image/png": "[encoded data removed]",
      "text/plain": [
       "<Figure size 640x480 with 1 Axes>"
      ]
     },
     "metadata": {},
     "output_type": "display_data"
    }
   ],
   "source": [
    "plt.plot(y)\n",
    "plt.plot(test_results4['test_predictions'], label='prediction')\n",
    "plt.plot(test_results4['test_actual'], label='actual')\n",
    "plt.title('2021-22 Inflation Prediciton')\n",
    "plt.legend()"
   ]
  },
  {
   "cell_type": "markdown",
   "id": "f045b47c",
   "metadata": {},
   "source": [
    "# LSTM 2022-"
   ]
  },
  {
   "cell_type": "code",
   "execution_count": 82,
   "id": "e7335f02",
   "metadata": {},
   "outputs": [
    {
     "data": {
      "text/html": [
       "<div>\n",
       "<style scoped>\n",
       "    .dataframe tbody tr th:only-of-type {\n",
       "        vertical-align: middle;\n",
       "    }\n",
       "\n",
       "    .dataframe tbody tr th {\n",
       "        vertical-align: top;\n",
       "    }\n",
       "\n",
       "    .dataframe thead th {\n",
       "        text-align: right;\n",
       "    }\n",
       "</style>\n",
       "<table border=\"1\" class=\"dataframe\">\n",
       "  <thead>\n",
       "    <tr style=\"text-align: right;\">\n",
       "      <th></th>\n",
       "      <th>Brent_Crude_GBP</th>\n",
       "      <th>WTI_Crude_GBP</th>\n",
       "      <th>GBP Curncy</th>\n",
       "      <th>GBPEUR Curncy</th>\n",
       "      <th>UKX Index</th>\n",
       "      <th>SPX Index</th>\n",
       "      <th>SX5E Index</th>\n",
       "      <th>Natural_Gas</th>\n",
       "      <th>GBP_IRS_2y</th>\n",
       "      <th>GBP_IRS_10y</th>\n",
       "      <th>Nationwide_HPI</th>\n",
       "    </tr>\n",
       "    <tr>\n",
       "      <th>Date</th>\n",
       "      <th></th>\n",
       "      <th></th>\n",
       "      <th></th>\n",
       "      <th></th>\n",
       "      <th></th>\n",
       "      <th></th>\n",
       "      <th></th>\n",
       "      <th></th>\n",
       "      <th></th>\n",
       "      <th></th>\n",
       "      <th></th>\n",
       "    </tr>\n",
       "  </thead>\n",
       "  <tbody>\n",
       "    <tr>\n",
       "      <th>2022-04-01</th>\n",
       "      <td>82.294714</td>\n",
       "      <td>78.884404</td>\n",
       "      <td>1.287045</td>\n",
       "      <td>1.194540</td>\n",
       "      <td>7475.842222</td>\n",
       "      <td>3390.642475</td>\n",
       "      <td>3202.490777</td>\n",
       "      <td>86.613133</td>\n",
       "      <td>2.365979</td>\n",
       "      <td>2.085100</td>\n",
       "      <td>533.9</td>\n",
       "    </tr>\n",
       "    <tr>\n",
       "      <th>2022-05-01</th>\n",
       "      <td>89.748267</td>\n",
       "      <td>85.128666</td>\n",
       "      <td>1.247484</td>\n",
       "      <td>1.178074</td>\n",
       "      <td>7472.767778</td>\n",
       "      <td>3274.256696</td>\n",
       "      <td>3179.554466</td>\n",
       "      <td>81.073170</td>\n",
       "      <td>2.538121</td>\n",
       "      <td>2.240542</td>\n",
       "      <td>538.4</td>\n",
       "    </tr>\n",
       "    <tr>\n",
       "      <th>2022-06-01</th>\n",
       "      <td>95.251442</td>\n",
       "      <td>87.836565</td>\n",
       "      <td>1.233611</td>\n",
       "      <td>1.167758</td>\n",
       "      <td>7238.188421</td>\n",
       "      <td>3172.340166</td>\n",
       "      <td>3058.969505</td>\n",
       "      <td>96.746393</td>\n",
       "      <td>2.933563</td>\n",
       "      <td>2.626558</td>\n",
       "      <td>541.8</td>\n",
       "    </tr>\n",
       "    <tr>\n",
       "      <th>2022-07-01</th>\n",
       "      <td>85.363871</td>\n",
       "      <td>80.415504</td>\n",
       "      <td>1.231479</td>\n",
       "      <td>1.184589</td>\n",
       "      <td>7303.865263</td>\n",
       "      <td>3298.689210</td>\n",
       "      <td>3082.959231</td>\n",
       "      <td>128.688654</td>\n",
       "      <td>2.700779</td>\n",
       "      <td>2.302258</td>\n",
       "      <td>541.0</td>\n",
       "    </tr>\n",
       "    <tr>\n",
       "      <th>2022-08-01</th>\n",
       "      <td>80.656541</td>\n",
       "      <td>78.913331</td>\n",
       "      <td>1.211816</td>\n",
       "      <td>1.181732</td>\n",
       "      <td>7453.987222</td>\n",
       "      <td>3446.779300</td>\n",
       "      <td>3131.457852</td>\n",
       "      <td>180.082147</td>\n",
       "      <td>3.368889</td>\n",
       "      <td>2.688500</td>\n",
       "      <td>546.1</td>\n",
       "    </tr>\n",
       "    <tr>\n",
       "      <th>2022-09-01</th>\n",
       "      <td>73.474167</td>\n",
       "      <td>80.706056</td>\n",
       "      <td>1.272420</td>\n",
       "      <td>1.180400</td>\n",
       "      <td>7403.016000</td>\n",
       "      <td>3300.260920</td>\n",
       "      <td>3208.537784</td>\n",
       "      <td>93.341821</td>\n",
       "      <td>2.475340</td>\n",
       "      <td>2.155940</td>\n",
       "      <td>NaN</td>\n",
       "    </tr>\n",
       "  </tbody>\n",
       "</table>\n",
       "</div>"
      ],
      "text/plain": [
       "            Brent_Crude_GBP  WTI_Crude_GBP  GBP Curncy  GBPEUR Curncy  \\\n",
       "Date                                                                    \n",
       "2022-04-01        82.294714      78.884404    1.287045       1.194540   \n",
       "2022-05-01        89.748267      85.128666    1.247484       1.178074   \n",
       "2022-06-01        95.251442      87.836565    1.233611       1.167758   \n",
       "2022-07-01        85.363871      80.415504    1.231479       1.184589   \n",
       "2022-08-01        80.656541      78.913331    1.211816       1.181732   \n",
       "2022-09-01        73.474167      80.706056    1.272420       1.180400   \n",
       "\n",
       "              UKX Index    SPX Index   SX5E Index  Natural_Gas  GBP_IRS_2y  \\\n",
       "Date                                                                         \n",
       "2022-04-01  7475.842222  3390.642475  3202.490777    86.613133    2.365979   \n",
       "2022-05-01  7472.767778  3274.256696  3179.554466    81.073170    2.538121   \n",
       "2022-06-01  7238.188421  3172.340166  3058.969505    96.746393    2.933563   \n",
       "2022-07-01  7303.865263  3298.689210  3082.959231   128.688654    2.700779   \n",
       "2022-08-01  7453.987222  3446.779300  3131.457852   180.082147    3.368889   \n",
       "2022-09-01  7403.016000  3300.260920  3208.537784    93.341821    2.475340   \n",
       "\n",
       "            GBP_IRS_10y  Nationwide_HPI  \n",
       "Date                                     \n",
       "2022-04-01     2.085100           533.9  \n",
       "2022-05-01     2.240542           538.4  \n",
       "2022-06-01     2.626558           541.8  \n",
       "2022-07-01     2.302258           541.0  \n",
       "2022-08-01     2.688500           546.1  \n",
       "2022-09-01     2.155940             NaN  "
      ]
     },
     "execution_count": 82,
     "metadata": {},
     "output_type": "execute_result"
    }
   ],
   "source": [
    "X[159:165]"
   ]
  },
  {
   "cell_type": "code",
   "execution_count": 83,
   "id": "bd78f99d",
   "metadata": {},
   "outputs": [
    {
     "data": {
      "text/plain": [
       "((156, 11), (156,), (7, 11), (7,), (1, 11), (1,))"
      ]
     },
     "execution_count": 83,
     "metadata": {},
     "output_type": "execute_result"
    }
   ],
   "source": [
    "X_train5, y_train5 = X[:156], y[:156]\n",
    "X_val5, y_val5 = X[156:163], y[156:163]\n",
    "X_test5, y_test5 = X[163:164], y[163:164]\n",
    "X_train5.shape, y_train5.shape, X_val5.shape, y_val5.shape, X_test5.shape, y_test5.shape"
   ]
  },
  {
   "cell_type": "code",
   "execution_count": 84,
   "id": "afda4a36",
   "metadata": {},
   "outputs": [
    {
     "data": {
      "text/plain": [
       "TensorShape([156, 1, 1])"
      ]
     },
     "execution_count": 84,
     "metadata": {},
     "output_type": "execute_result"
    }
   ],
   "source": [
    "y_train5_x = expand_dims(y_train5, -1)\n",
    "y_train5_x = expand_dims(y_train5_x, -1)\n",
    "\n",
    "y_train5_x.shape"
   ]
  },
  {
   "cell_type": "code",
   "execution_count": 85,
   "id": "57c31f87",
   "metadata": {},
   "outputs": [],
   "source": [
    "y_val5_x = expand_dims(y_val5, -1)\n",
    "y_val5_x = expand_dims(y_val5_x, -1)"
   ]
  },
  {
   "cell_type": "code",
   "execution_count": 86,
   "id": "a21c658f",
   "metadata": {},
   "outputs": [],
   "source": [
    "X_test5_x = expand_dims(X_test5, -2)"
   ]
  },
  {
   "cell_type": "code",
   "execution_count": 87,
   "id": "7dc332a3",
   "metadata": {},
   "outputs": [
    {
     "data": {
      "text/plain": [
       "TensorShape([156, 1, 11])"
      ]
     },
     "execution_count": 87,
     "metadata": {},
     "output_type": "execute_result"
    }
   ],
   "source": [
    "X_train5_x = expand_dims(X_train5, -2)\n",
    "X_train5_x.shape"
   ]
  },
  {
   "cell_type": "code",
   "execution_count": 88,
   "id": "dbc08d66",
   "metadata": {},
   "outputs": [
    {
     "data": {
      "text/plain": [
       "TensorShape([7, 1, 11])"
      ]
     },
     "execution_count": 88,
     "metadata": {},
     "output_type": "execute_result"
    }
   ],
   "source": [
    "X_val5_x = expand_dims(X_val5, -2)\n",
    "X_val5_x.shape"
   ]
  },
  {
   "cell_type": "code",
   "execution_count": 89,
   "id": "2810e13e",
   "metadata": {},
   "outputs": [
    {
     "name": "stdout",
     "output_type": "stream",
     "text": [
      "Model: \"sequential_5\"\n",
      "_________________________________________________________________\n",
      " Layer (type)                Output Shape              Param #   \n",
      "=================================================================\n",
      " normalization_5 (Normalizat  (None, None, 11)         23        \n",
      " ion)                                                            \n",
      "                                                                 \n",
      " lstm_10 (LSTM)              (None, None, 110)         53680     \n",
      "                                                                 \n",
      " lstm_11 (LSTM)              (None, 50)                32200     \n",
      "                                                                 \n",
      " flatten_5 (Flatten)         (None, 50)                0         \n",
      "                                                                 \n",
      " dense_20 (Dense)            (None, 100)               5100      \n",
      "                                                                 \n",
      " dense_21 (Dense)            (None, 50)                5050      \n",
      "                                                                 \n",
      " dense_22 (Dense)            (None, 25)                1275      \n",
      "                                                                 \n",
      " dense_23 (Dense)            (None, 25)                650       \n",
      "                                                                 \n",
      " dense_24 (Dense)            (None, 12)                312       \n",
      "                                                                 \n",
      " dense_25 (Dense)            (None, 1)                 13        \n",
      "                                                                 \n",
      "=================================================================\n",
      "Total params: 98,303\n",
      "Trainable params: 98,280\n",
      "Non-trainable params: 23\n",
      "_________________________________________________________________\n"
     ]
    }
   ],
   "source": [
    "normalizer = Normalization()\n",
    "normalizer.adapt(X_train5_x)\n",
    "\n",
    "model6 = Sequential()\n",
    "model6.add(normalizer)\n",
    "\n",
    "model6.add(LSTM(units = 110, activation='tanh', return_sequences = True))\n",
    "model6.add(LSTM(units = 50 , activation='tanh', return_sequences = False))\n",
    "\n",
    "model6.add(Flatten())\n",
    "\n",
    "model6.add(Dense(100,activation =  'relu'))\n",
    "model6.add(Dense(50,activation =  'relu'))\n",
    "model6.add(Dense(25,activation =  'relu'))\n",
    "model6.add(Dense(25,activation =  'relu'))\n",
    "model6.add(Dense(12,activation =  'relu'))\n",
    "\n",
    "\n",
    "\n",
    "\n",
    "model6.add(Dense(1, activation = 'linear'))\n",
    "\n",
    "model6.summary()"
   ]
  },
  {
   "cell_type": "code",
   "execution_count": 90,
   "id": "46dbaac8",
   "metadata": {},
   "outputs": [],
   "source": [
    "model6.compile(loss= mape, optimizer= adam, metrics=['mape'])"
   ]
  },
  {
   "cell_type": "code",
   "execution_count": 91,
   "id": "6d46ee29",
   "metadata": {},
   "outputs": [
    {
     "name": "stdout",
     "output_type": "stream",
     "text": [
      "Epoch 1/10000\n",
      "10/10 [==============================] - 3s 73ms/step - loss: 99.8190 - mape: 99.8190 - val_loss: 99.3561 - val_mape: 99.3561\n",
      "Epoch 2/10000\n",
      "10/10 [==============================] - 0s 14ms/step - loss: 93.1462 - mape: 93.1462 - val_loss: 86.3387 - val_mape: 86.3387\n",
      "Epoch 3/10000\n",
      "10/10 [==============================] - 0s 13ms/step - loss: 45.3656 - mape: 45.3656 - val_loss: 12.1782 - val_mape: 12.1782\n",
      "Epoch 4/10000\n",
      "10/10 [==============================] - 0s 13ms/step - loss: 16.4871 - mape: 16.4871 - val_loss: 14.6663 - val_mape: 14.6663\n",
      "Epoch 5/10000\n",
      "10/10 [==============================] - 0s 11ms/step - loss: 12.4742 - mape: 12.4742 - val_loss: 23.8497 - val_mape: 23.8497\n",
      "Epoch 6/10000\n",
      "10/10 [==============================] - 0s 11ms/step - loss: 7.4765 - mape: 7.4765 - val_loss: 25.8768 - val_mape: 25.8768\n",
      "Epoch 7/10000\n",
      "10/10 [==============================] - 0s 11ms/step - loss: 6.3213 - mape: 6.3213 - val_loss: 16.5491 - val_mape: 16.5491\n",
      "Epoch 8/10000\n",
      "10/10 [==============================] - 0s 11ms/step - loss: 3.9351 - mape: 3.9351 - val_loss: 21.3174 - val_mape: 21.3174\n",
      "Epoch 9/10000\n",
      "10/10 [==============================] - 0s 12ms/step - loss: 3.9334 - mape: 3.9334 - val_loss: 19.4756 - val_mape: 19.4756\n",
      "Epoch 10/10000\n",
      "10/10 [==============================] - 0s 12ms/step - loss: 3.3767 - mape: 3.3767 - val_loss: 14.5348 - val_mape: 14.5348\n",
      "Epoch 11/10000\n",
      "10/10 [==============================] - 0s 12ms/step - loss: 3.0195 - mape: 3.0195 - val_loss: 8.7610 - val_mape: 8.7610\n",
      "Epoch 12/10000\n",
      "10/10 [==============================] - 0s 12ms/step - loss: 3.0755 - mape: 3.0755 - val_loss: 5.1080 - val_mape: 5.1080\n",
      "Epoch 13/10000\n",
      "10/10 [==============================] - 0s 10ms/step - loss: 2.5123 - mape: 2.5123 - val_loss: 6.7403 - val_mape: 6.7403\n",
      "Epoch 14/10000\n",
      "10/10 [==============================] - 0s 10ms/step - loss: 2.4134 - mape: 2.4134 - val_loss: 5.1367 - val_mape: 5.1367\n",
      "Epoch 15/10000\n",
      "10/10 [==============================] - 0s 10ms/step - loss: 2.0110 - mape: 2.0110 - val_loss: 5.0612 - val_mape: 5.0612\n",
      "Epoch 16/10000\n",
      "10/10 [==============================] - 0s 12ms/step - loss: 2.0227 - mape: 2.0227 - val_loss: 3.9075 - val_mape: 3.9075\n",
      "Epoch 17/10000\n",
      "10/10 [==============================] - 0s 12ms/step - loss: 1.7736 - mape: 1.7736 - val_loss: 5.5249 - val_mape: 5.5249\n",
      "Epoch 18/10000\n",
      "10/10 [==============================] - 0s 12ms/step - loss: 1.6321 - mape: 1.6321 - val_loss: 5.6205 - val_mape: 5.6205\n",
      "Epoch 19/10000\n",
      "10/10 [==============================] - 0s 11ms/step - loss: 1.4617 - mape: 1.4617 - val_loss: 3.9496 - val_mape: 3.9496\n",
      "Epoch 20/10000\n",
      "10/10 [==============================] - 0s 12ms/step - loss: 1.6138 - mape: 1.6138 - val_loss: 3.6650 - val_mape: 3.6650\n",
      "Epoch 21/10000\n",
      "10/10 [==============================] - 0s 11ms/step - loss: 1.4581 - mape: 1.4581 - val_loss: 3.6717 - val_mape: 3.6717\n",
      "Epoch 22/10000\n",
      "10/10 [==============================] - 0s 13ms/step - loss: 1.4344 - mape: 1.4344 - val_loss: 3.6710 - val_mape: 3.6710\n",
      "Epoch 23/10000\n",
      "10/10 [==============================] - 0s 11ms/step - loss: 1.4537 - mape: 1.4537 - val_loss: 3.9692 - val_mape: 3.9692\n",
      "Epoch 24/10000\n",
      "10/10 [==============================] - 0s 11ms/step - loss: 1.8102 - mape: 1.8102 - val_loss: 3.2736 - val_mape: 3.2736\n",
      "Epoch 25/10000\n",
      "10/10 [==============================] - 0s 11ms/step - loss: 1.5353 - mape: 1.5353 - val_loss: 3.3061 - val_mape: 3.3061\n",
      "Epoch 26/10000\n",
      "10/10 [==============================] - 0s 12ms/step - loss: 1.2920 - mape: 1.2920 - val_loss: 2.9939 - val_mape: 2.9939\n",
      "Epoch 27/10000\n",
      "10/10 [==============================] - 0s 12ms/step - loss: 1.2326 - mape: 1.2326 - val_loss: 3.3124 - val_mape: 3.3124\n",
      "Epoch 28/10000\n",
      "10/10 [==============================] - 0s 10ms/step - loss: 1.2969 - mape: 1.2969 - val_loss: 3.0904 - val_mape: 3.0904\n",
      "Epoch 29/10000\n",
      "10/10 [==============================] - 0s 10ms/step - loss: 1.3691 - mape: 1.3691 - val_loss: 4.6459 - val_mape: 4.6459\n",
      "Epoch 30/10000\n",
      "10/10 [==============================] - 0s 11ms/step - loss: 1.5164 - mape: 1.5164 - val_loss: 3.3513 - val_mape: 3.3513\n",
      "Epoch 31/10000\n",
      "10/10 [==============================] - 0s 11ms/step - loss: 1.2857 - mape: 1.2857 - val_loss: 3.2016 - val_mape: 3.2016\n",
      "Epoch 32/10000\n",
      "10/10 [==============================] - 0s 11ms/step - loss: 1.0814 - mape: 1.0814 - val_loss: 3.0839 - val_mape: 3.0839\n",
      "Epoch 33/10000\n",
      "10/10 [==============================] - 0s 11ms/step - loss: 1.0926 - mape: 1.0926 - val_loss: 3.1201 - val_mape: 3.1201\n",
      "Epoch 34/10000\n",
      "10/10 [==============================] - 0s 12ms/step - loss: 1.2828 - mape: 1.2828 - val_loss: 2.9795 - val_mape: 2.9795\n",
      "Epoch 35/10000\n",
      "10/10 [==============================] - 0s 11ms/step - loss: 1.2449 - mape: 1.2449 - val_loss: 3.1136 - val_mape: 3.1136\n",
      "Epoch 36/10000\n",
      "10/10 [==============================] - 0s 11ms/step - loss: 1.6146 - mape: 1.6146 - val_loss: 3.2856 - val_mape: 3.2856\n",
      "Epoch 37/10000\n",
      "10/10 [==============================] - 0s 11ms/step - loss: 1.4651 - mape: 1.4651 - val_loss: 2.7321 - val_mape: 2.7321\n",
      "Epoch 38/10000\n",
      "10/10 [==============================] - 0s 11ms/step - loss: 1.1692 - mape: 1.1692 - val_loss: 3.1618 - val_mape: 3.1618\n",
      "Epoch 39/10000\n",
      "10/10 [==============================] - 0s 10ms/step - loss: 1.0334 - mape: 1.0334 - val_loss: 3.7372 - val_mape: 3.7372\n",
      "Epoch 40/10000\n",
      "10/10 [==============================] - 0s 11ms/step - loss: 1.2591 - mape: 1.2591 - val_loss: 4.1236 - val_mape: 4.1236\n",
      "Epoch 41/10000\n",
      "10/10 [==============================] - 0s 10ms/step - loss: 0.9837 - mape: 0.9837 - val_loss: 3.7468 - val_mape: 3.7468\n",
      "Epoch 42/10000\n",
      "10/10 [==============================] - 0s 11ms/step - loss: 1.4074 - mape: 1.4074 - val_loss: 4.3886 - val_mape: 4.3886\n",
      "Epoch 43/10000\n",
      "10/10 [==============================] - 0s 11ms/step - loss: 1.0794 - mape: 1.0794 - val_loss: 4.6119 - val_mape: 4.6119\n",
      "Epoch 44/10000\n",
      "10/10 [==============================] - 0s 10ms/step - loss: 1.1914 - mape: 1.1914 - val_loss: 4.7319 - val_mape: 4.7319\n",
      "Epoch 45/10000\n",
      "10/10 [==============================] - 0s 10ms/step - loss: 1.0536 - mape: 1.0536 - val_loss: 4.7728 - val_mape: 4.7728\n",
      "Epoch 46/10000\n",
      "10/10 [==============================] - 0s 11ms/step - loss: 1.2978 - mape: 1.2978 - val_loss: 4.6935 - val_mape: 4.6935\n",
      "Epoch 47/10000\n",
      "10/10 [==============================] - 0s 10ms/step - loss: 1.1359 - mape: 1.1359 - val_loss: 4.8505 - val_mape: 4.8505\n",
      "Epoch 48/10000\n",
      "10/10 [==============================] - 0s 10ms/step - loss: 0.8975 - mape: 0.8975 - val_loss: 4.8786 - val_mape: 4.8786\n",
      "Epoch 49/10000\n",
      "10/10 [==============================] - 0s 11ms/step - loss: 0.7310 - mape: 0.7310 - val_loss: 5.7363 - val_mape: 5.7363\n",
      "Epoch 50/10000\n",
      "10/10 [==============================] - 0s 11ms/step - loss: 0.8138 - mape: 0.8138 - val_loss: 5.8442 - val_mape: 5.8442\n",
      "Epoch 51/10000\n",
      "10/10 [==============================] - 0s 11ms/step - loss: 0.8625 - mape: 0.8625 - val_loss: 6.2210 - val_mape: 6.2210\n",
      "Epoch 52/10000\n",
      "10/10 [==============================] - 0s 11ms/step - loss: 0.9343 - mape: 0.9343 - val_loss: 7.1115 - val_mape: 7.1115\n",
      "Epoch 53/10000\n",
      "10/10 [==============================] - 0s 10ms/step - loss: 0.8987 - mape: 0.8987 - val_loss: 6.7210 - val_mape: 6.7210\n",
      "Epoch 54/10000\n",
      "10/10 [==============================] - 0s 10ms/step - loss: 0.7729 - mape: 0.7729 - val_loss: 7.7589 - val_mape: 7.7589\n",
      "Epoch 55/10000\n",
      "10/10 [==============================] - 0s 10ms/step - loss: 1.1004 - mape: 1.1004 - val_loss: 7.7290 - val_mape: 7.7290\n",
      "Epoch 56/10000\n",
      "10/10 [==============================] - 0s 12ms/step - loss: 1.1642 - mape: 1.1642 - val_loss: 10.3979 - val_mape: 10.3979\n",
      "Epoch 57/10000\n",
      "10/10 [==============================] - 0s 11ms/step - loss: 1.2362 - mape: 1.2362 - val_loss: 10.7052 - val_mape: 10.7052\n",
      "Epoch 58/10000\n",
      "10/10 [==============================] - 0s 10ms/step - loss: 0.9647 - mape: 0.9647 - val_loss: 10.2214 - val_mape: 10.2214\n",
      "Epoch 59/10000\n",
      "10/10 [==============================] - 0s 10ms/step - loss: 0.8498 - mape: 0.8498 - val_loss: 9.3980 - val_mape: 9.3980\n",
      "Epoch 60/10000\n"
     ]
    },
    {
     "name": "stdout",
     "output_type": "stream",
     "text": [
      "10/10 [==============================] - 0s 12ms/step - loss: 0.7421 - mape: 0.7421 - val_loss: 8.8552 - val_mape: 8.8552\n",
      "Epoch 61/10000\n",
      "10/10 [==============================] - 0s 11ms/step - loss: 0.6584 - mape: 0.6584 - val_loss: 9.2363 - val_mape: 9.2363\n",
      "Epoch 62/10000\n",
      "10/10 [==============================] - 0s 12ms/step - loss: 0.7600 - mape: 0.7600 - val_loss: 8.4143 - val_mape: 8.4143\n",
      "Epoch 63/10000\n",
      "10/10 [==============================] - 0s 12ms/step - loss: 1.0656 - mape: 1.0656 - val_loss: 8.3302 - val_mape: 8.3302\n",
      "Epoch 64/10000\n",
      "10/10 [==============================] - 0s 10ms/step - loss: 1.1528 - mape: 1.1528 - val_loss: 10.6470 - val_mape: 10.6470\n",
      "Epoch 65/10000\n",
      "10/10 [==============================] - 0s 10ms/step - loss: 1.1076 - mape: 1.1076 - val_loss: 10.0345 - val_mape: 10.0345\n",
      "Epoch 66/10000\n",
      "10/10 [==============================] - 0s 9ms/step - loss: 0.7681 - mape: 0.7681 - val_loss: 11.4460 - val_mape: 11.4460\n",
      "Epoch 67/10000\n",
      "10/10 [==============================] - 0s 11ms/step - loss: 0.8082 - mape: 0.8082 - val_loss: 13.1387 - val_mape: 13.1387\n",
      "Epoch 68/10000\n",
      "10/10 [==============================] - 0s 9ms/step - loss: 0.7979 - mape: 0.7979 - val_loss: 12.3620 - val_mape: 12.3620\n",
      "Epoch 69/10000\n",
      "10/10 [==============================] - 0s 10ms/step - loss: 0.6045 - mape: 0.6045 - val_loss: 13.2969 - val_mape: 13.2969\n",
      "Epoch 70/10000\n",
      "10/10 [==============================] - 0s 11ms/step - loss: 0.6357 - mape: 0.6357 - val_loss: 14.7090 - val_mape: 14.7090\n",
      "Epoch 71/10000\n",
      "10/10 [==============================] - 0s 10ms/step - loss: 0.8219 - mape: 0.8219 - val_loss: 14.1130 - val_mape: 14.1130\n",
      "Epoch 72/10000\n",
      "10/10 [==============================] - 0s 10ms/step - loss: 0.7333 - mape: 0.7333 - val_loss: 17.0490 - val_mape: 17.0490\n",
      "Epoch 73/10000\n",
      "10/10 [==============================] - 0s 10ms/step - loss: 0.5657 - mape: 0.5657 - val_loss: 17.7344 - val_mape: 17.7344\n",
      "Epoch 74/10000\n",
      "10/10 [==============================] - 0s 10ms/step - loss: 0.6364 - mape: 0.6364 - val_loss: 18.0117 - val_mape: 18.0117\n",
      "Epoch 75/10000\n",
      "10/10 [==============================] - 0s 11ms/step - loss: 0.5824 - mape: 0.5824 - val_loss: 16.2248 - val_mape: 16.2248\n",
      "Epoch 76/10000\n",
      "10/10 [==============================] - 0s 12ms/step - loss: 0.5975 - mape: 0.5975 - val_loss: 16.6699 - val_mape: 16.6699\n",
      "Epoch 77/10000\n",
      "10/10 [==============================] - 0s 12ms/step - loss: 0.8854 - mape: 0.8854 - val_loss: 15.7928 - val_mape: 15.7928\n",
      "Epoch 78/10000\n",
      "10/10 [==============================] - 0s 12ms/step - loss: 0.7319 - mape: 0.7319 - val_loss: 16.9073 - val_mape: 16.9073\n",
      "Epoch 79/10000\n",
      "10/10 [==============================] - 0s 11ms/step - loss: 0.8175 - mape: 0.8175 - val_loss: 17.5220 - val_mape: 17.5220\n",
      "Epoch 80/10000\n",
      "10/10 [==============================] - 0s 10ms/step - loss: 1.0302 - mape: 1.0302 - val_loss: 18.7263 - val_mape: 18.7263\n",
      "Epoch 81/10000\n",
      "10/10 [==============================] - 0s 9ms/step - loss: 0.8415 - mape: 0.8415 - val_loss: 17.3461 - val_mape: 17.3461\n",
      "Epoch 82/10000\n",
      "10/10 [==============================] - 0s 10ms/step - loss: 0.9220 - mape: 0.9220 - val_loss: 17.1448 - val_mape: 17.1448\n",
      "Epoch 83/10000\n",
      "10/10 [==============================] - 0s 12ms/step - loss: 0.6176 - mape: 0.6176 - val_loss: 16.3537 - val_mape: 16.3537\n",
      "Epoch 84/10000\n",
      "10/10 [==============================] - 0s 11ms/step - loss: 0.5793 - mape: 0.5793 - val_loss: 15.7281 - val_mape: 15.7281\n",
      "Epoch 85/10000\n",
      "10/10 [==============================] - 0s 11ms/step - loss: 0.7120 - mape: 0.7120 - val_loss: 18.7846 - val_mape: 18.7846\n",
      "Epoch 86/10000\n",
      "10/10 [==============================] - 0s 11ms/step - loss: 0.8346 - mape: 0.8346 - val_loss: 18.9757 - val_mape: 18.9757\n",
      "Epoch 87/10000\n",
      "10/10 [==============================] - 0s 12ms/step - loss: 0.6957 - mape: 0.6957 - val_loss: 16.2907 - val_mape: 16.2907\n"
     ]
    },
    {
     "data": {
      "text/plain": [
       "<keras.callbacks.History at 0x7faac65d0cd0>"
      ]
     },
     "execution_count": 91,
     "metadata": {},
     "output_type": "execute_result"
    }
   ],
   "source": [
    "model6.fit(X_train5_x, y_train5, batch_size = 16, validation_data=(X_val5_x, y_val5), epochs=10000, callbacks = (es))"
   ]
  },
  {
   "cell_type": "code",
   "execution_count": 92,
   "id": "53016cb9",
   "metadata": {},
   "outputs": [
    {
     "name": "stderr",
     "output_type": "stream",
     "text": [
      "2022-09-13 15:10:05 tensorflow WARNING: 6 out of the last 7 calls to <function Model.make_predict_function.<locals>.predict_function at 0x7faac60ad430> triggered tf.function retracing. Tracing is expensive and the excessive number of tracings could be due to (1) creating @tf.function repeatedly in a loop, (2) passing tensors with different shapes, (3) passing Python objects instead of tensors. For (1), please define your @tf.function outside of the loop. For (2), @tf.function has reduce_retracing=True option that can avoid unnecessary retracing. For (3), please refer to https://www.tensorflow.org/guide/function#controlling_retracing and https://www.tensorflow.org/api_docs/python/tf/function for  more details.\n"
     ]
    },
    {
     "name": "stdout",
     "output_type": "stream",
     "text": [
      "1/1 [==============================] - 1s 596ms/step\n"
     ]
    }
   ],
   "source": [
    "test_prediction5 = list(model6.predict(X_test5_x))\n"
   ]
  },
  {
   "cell_type": "code",
   "execution_count": 93,
   "id": "a2d4d12e",
   "metadata": {},
   "outputs": [
    {
     "data": {
      "text/plain": [
       "[array([336.54977], dtype=float32)]"
      ]
     },
     "execution_count": 93,
     "metadata": {},
     "output_type": "execute_result"
    }
   ],
   "source": [
    "test_prediction5"
   ]
  },
  {
   "cell_type": "code",
   "execution_count": 94,
   "id": "12ce05bd",
   "metadata": {},
   "outputs": [
    {
     "data": {
      "text/plain": [
       "Date\n",
       "2022-08-01   NaN\n",
       "Name: RPI, dtype: float64"
      ]
     },
     "execution_count": 94,
     "metadata": {},
     "output_type": "execute_result"
    }
   ],
   "source": [
    "y_test5"
   ]
  },
  {
   "cell_type": "code",
   "execution_count": 95,
   "id": "af57bc6d",
   "metadata": {},
   "outputs": [],
   "source": [
    "# res = []\n",
    "# for x in range(1):\n",
    "#     val = pd.to_datetime(pd.DataFrame(y).iloc[-x,:0]).name\n",
    "#     res.append(val)"
   ]
  },
  {
   "cell_type": "code",
   "execution_count": 96,
   "id": "3fbc3f2d",
   "metadata": {},
   "outputs": [],
   "source": [
    "# res = res[1:]"
   ]
  },
  {
   "cell_type": "code",
   "execution_count": 97,
   "id": "95ff3a41",
   "metadata": {},
   "outputs": [],
   "source": [
    "from datetime import datetime, timedelta\n",
    "from dateutil.relativedelta import relativedelta"
   ]
  },
  {
   "cell_type": "code",
   "execution_count": 98,
   "id": "0e770047",
   "metadata": {},
   "outputs": [],
   "source": [
    "# list(y_test5[:-1])"
   ]
  },
  {
   "cell_type": "code",
   "execution_count": 99,
   "id": "cdd85c11",
   "metadata": {},
   "outputs": [],
   "source": [
    "# future_vals = []\n",
    "# for x in res:\n",
    "#     future_date = x + relativedelta(months=1)\n",
    "#     future_vals.append(future_date)"
   ]
  },
  {
   "cell_type": "code",
   "execution_count": 100,
   "id": "2a69b017",
   "metadata": {},
   "outputs": [],
   "source": [
    "# future_vals"
   ]
  },
  {
   "cell_type": "code",
   "execution_count": 101,
   "id": "dfe871c7",
   "metadata": {},
   "outputs": [
    {
     "name": "stdout",
     "output_type": "stream",
     "text": [
      "0   2022-08-01\n",
      "Name: date, dtype: datetime64[ns]\n"
     ]
    }
   ],
   "source": [
    "test_results5 = pd.DataFrame(columns = ['test_predictions', 'test_actual'])\n",
    "\n",
    "#train_predictions\n",
    "\n",
    "test_results5['date'] = y_test5.index\n",
    "test_results5['test_predictions'] = [x[0] for x in test_prediction5]\n",
    "print(test_results5['date'])"
   ]
  },
  {
   "cell_type": "code",
   "execution_count": 102,
   "id": "876b16d9",
   "metadata": {},
   "outputs": [],
   "source": [
    "test_results5.set_index('date', inplace=True)"
   ]
  },
  {
   "cell_type": "code",
   "execution_count": null,
   "id": "35eb299f",
   "metadata": {},
   "outputs": [],
   "source": []
  },
  {
   "cell_type": "code",
   "execution_count": 109,
   "id": "1824c0f4",
   "metadata": {},
   "outputs": [
    {
     "data": {
      "text/plain": [
       "<matplotlib.legend.Legend at 0x7fac15c60280>"
      ]
     },
     "execution_count": 109,
     "metadata": {},
     "output_type": "execute_result"
    },
    {
     "data": {
      "image/png": "[encoded data removed]",
      "text/plain": [
       "<Figure size 640x480 with 1 Axes>"
      ]
     },
     "metadata": {},
     "output_type": "display_data"
    }
   ],
   "source": [
    "plt.plot(y, label='RPI')\n",
    "plt.scatter([y_test5.index], test_results5['test_predictions'], label='prediction')\n",
    "plt.title('2022-2023 Inflation Prediciton')\n",
    "plt.legend()\n",
    "#plt.savefig('LSTM_Pred_5th_run')"
   ]
  },
  {
   "cell_type": "code",
   "execution_count": 105,
   "id": "8e131ee0",
   "metadata": {},
   "outputs": [
    {
     "name": "stdout",
     "output_type": "stream",
     "text": [
      "/home/amirel/code/amirlewagon/time_series\r\n"
     ]
    }
   ],
   "source": [
    "!pwd\n"
   ]
  },
  {
   "cell_type": "code",
   "execution_count": 106,
   "id": "69ff8a43",
   "metadata": {},
   "outputs": [
    {
     "name": "stderr",
     "output_type": "stream",
     "text": [
      "2022-09-13 15:10:25 absl WARNING: Found untraced functions such as lstm_cell_10_layer_call_fn, lstm_cell_10_layer_call_and_return_conditional_losses, lstm_cell_11_layer_call_fn, lstm_cell_11_layer_call_and_return_conditional_losses while saving (showing 4 of 4). These functions will not be directly callable after loading.\n"
     ]
    }
   ],
   "source": [
    "model6.save('time_series_final_pred')"
   ]
  },
  {
   "cell_type": "code",
   "execution_count": 115,
   "id": "1e0289dc",
   "metadata": {},
   "outputs": [
    {
     "data": {
      "image/png": "[encoded data removed]",
      "text/plain": [
       "<Figure size 640x480 with 1 Axes>"
      ]
     },
     "metadata": {},
     "output_type": "display_data"
    }
   ],
   "source": [
    "fig, ax = plt.subplots()\n",
    "ax.plot(y, label = 'RPI')\n",
    "ax.scatter([y_test5.index], test_results5['test_predictions'], label='prediction')\n",
    "ax.set_title('Inflation Prediciton')\n",
    "ax.legend()\n",
    "fig.show()"
   ]
  },
  {
   "cell_type": "code",
   "execution_count": null,
   "id": "489fa784",
   "metadata": {},
   "outputs": [],
   "source": []
  }
 ],
 "metadata": {
  "kernelspec": {
   "display_name": "Python 3 (ipykernel)",
   "language": "python",
   "name": "python3"
  },
  "language_info": {
   "codemirror_mode": {
    "name": "ipython",
    "version": 3
   },
   "file_extension": ".py",
   "mimetype": "text/x-python",
   "name": "python",
   "nbconvert_exporter": "python",
   "pygments_lexer": "ipython3",
   "version": "3.8.12"
  },
  "toc": {
   "base_numbering": 1,
   "nav_menu": {},
   "number_sections": true,
   "sideBar": true,
   "skip_h1_title": false,
   "title_cell": "Table of Contents",
   "title_sidebar": "Contents",
   "toc_cell": false,
   "toc_position": {},
   "toc_section_display": true,
   "toc_window_display": false
  }
 },
 "nbformat": 4,
 "nbformat_minor": 5
}
