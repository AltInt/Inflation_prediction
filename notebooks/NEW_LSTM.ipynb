{
 "cells": [
  {
   "cell_type": "code",
   "execution_count": 2,
   "id": "f2b7870b",
   "metadata": {},
   "outputs": [
    {
     "name": "stderr",
     "output_type": "stream",
     "text": [
      "2022-09-15 10:39:46.883728: I tensorflow/core/platform/cpu_feature_guard.cc:193] This TensorFlow binary is optimized with oneAPI Deep Neural Network Library (oneDNN) to use the following CPU instructions in performance-critical operations:  AVX2 AVX512F AVX512_VNNI FMA\n",
      "To enable them in other operations, rebuild TensorFlow with the appropriate compiler flags.\n",
      "2022-09-15 10:39:47.001378: I tensorflow/core/util/util.cc:169] oneDNN custom operations are on. You may see slightly different numerical results due to floating-point round-off errors from different computation orders. To turn them off, set the environment variable `TF_ENABLE_ONEDNN_OPTS=0`.\n",
      "2022-09-15 10:39:47.005158: W tensorflow/stream_executor/platform/default/dso_loader.cc:64] Could not load dynamic library 'libcudart.so.11.0'; dlerror: libcudart.so.11.0: cannot open shared object file: No such file or directory\n",
      "2022-09-15 10:39:47.005169: I tensorflow/stream_executor/cuda/cudart_stub.cc:29] Ignore above cudart dlerror if you do not have a GPU set up on your machine.\n",
      "2022-09-15 10:39:47.033436: E tensorflow/stream_executor/cuda/cuda_blas.cc:2981] Unable to register cuBLAS factory: Attempting to register factory for plugin cuBLAS when one has already been registered\n",
      "2022-09-15 10:39:47.645411: W tensorflow/stream_executor/platform/default/dso_loader.cc:64] Could not load dynamic library 'libnvinfer.so.7'; dlerror: libnvinfer.so.7: cannot open shared object file: No such file or directory\n",
      "2022-09-15 10:39:47.645495: W tensorflow/stream_executor/platform/default/dso_loader.cc:64] Could not load dynamic library 'libnvinfer_plugin.so.7'; dlerror: libnvinfer_plugin.so.7: cannot open shared object file: No such file or directory\n",
      "2022-09-15 10:39:47.645501: W tensorflow/compiler/tf2tensorrt/utils/py_utils.cc:38] TF-TRT Warning: Cannot dlopen some TensorRT libraries. If you would like to use Nvidia GPU with TensorRT, please make sure the missing libraries mentioned above are installed properly.\n"
     ]
    }
   ],
   "source": [
    "import numpy as np\n",
    "import pandas as pd\n",
    "import matplotlib.pyplot as plt\n",
    "import seaborn as sns\n",
    "\n",
    "import numpy as np\n",
    "import pandas as pd\n",
    "from sklearn.preprocessing import MinMaxScaler\n",
    "\n",
    "import matplotlib.pyplot as plt\n",
    "\n",
    "\n",
    "\n",
    "\n",
    "\n",
    "\n",
    "from tensorflow.keras.models import Sequential\n",
    "from tensorflow.keras.layers import *\n",
    "from tensorflow.keras.losses import MeanSquaredError\n",
    "from tensorflow.keras.metrics import RootMeanSquaredError\n",
    "from tensorflow.keras.optimizers import Adam\n",
    "from tensorflow.keras.optimizers.schedules import ExponentialDecay\n",
    "from tensorflow.keras.callbacks import EarlyStopping\n",
    "from tensorflow.keras.layers import BatchNormalization\n",
    "from tensorflow import expand_dims\n",
    "from tensorflow.keras.losses import MeanAbsolutePercentageError\n",
    "import tensorflow\n",
    "\n",
    "from datetime import datetime\n",
    "\n",
    "from statsmodels.graphics.tsaplots import plot_acf, plot_pacf\n",
    "\n",
    "\n",
    "from matplotlib import pyplot"
   ]
  },
  {
   "cell_type": "code",
   "execution_count": null,
   "id": "b3eb8db7",
   "metadata": {},
   "outputs": [],
   "source": []
  },
  {
   "cell_type": "markdown",
   "id": "be6e12a8",
   "metadata": {},
   "source": [
    "# LSTM 2017-2018\n"
   ]
  },
  {
   "cell_type": "code",
   "execution_count": 3,
   "id": "bafb6ceb",
   "metadata": {},
   "outputs": [
    {
     "data": {
      "text/plain": [
       "'/home/amirel/code/AltInt/Inflation_prediction/notebooks'"
      ]
     },
     "execution_count": 3,
     "metadata": {},
     "output_type": "execute_result"
    }
   ],
   "source": [
    "pwd"
   ]
  },
  {
   "cell_type": "code",
   "execution_count": 5,
   "id": "c23b009c",
   "metadata": {},
   "outputs": [],
   "source": [
    "df = pd.read_csv('../data/final_df.csv', index_col=0)\n"
   ]
  },
  {
   "cell_type": "code",
   "execution_count": 6,
   "id": "815075f5",
   "metadata": {},
   "outputs": [
    {
     "data": {
      "text/html": [
       "<div>\n",
       "<style scoped>\n",
       "    .dataframe tbody tr th:only-of-type {\n",
       "        vertical-align: middle;\n",
       "    }\n",
       "\n",
       "    .dataframe tbody tr th {\n",
       "        vertical-align: top;\n",
       "    }\n",
       "\n",
       "    .dataframe thead th {\n",
       "        text-align: right;\n",
       "    }\n",
       "</style>\n",
       "<table border=\"1\" class=\"dataframe\">\n",
       "  <thead>\n",
       "    <tr style=\"text-align: right;\">\n",
       "      <th></th>\n",
       "      <th>Brent_Crude_GBP</th>\n",
       "      <th>WTI_Crude_GBP</th>\n",
       "      <th>GBP Curncy</th>\n",
       "      <th>GBPEUR Curncy</th>\n",
       "      <th>UKX Index</th>\n",
       "      <th>SPX Index</th>\n",
       "      <th>SX5E Index</th>\n",
       "      <th>Natural_Gas</th>\n",
       "      <th>CPI</th>\n",
       "      <th>RPI</th>\n",
       "      <th>GBP_IRS_2y</th>\n",
       "      <th>GBP_IRS_10y</th>\n",
       "      <th>Nationwide_HPI</th>\n",
       "      <th>RPI YOY</th>\n",
       "    </tr>\n",
       "    <tr>\n",
       "      <th>Date</th>\n",
       "      <th></th>\n",
       "      <th></th>\n",
       "      <th></th>\n",
       "      <th></th>\n",
       "      <th></th>\n",
       "      <th></th>\n",
       "      <th></th>\n",
       "      <th></th>\n",
       "      <th></th>\n",
       "      <th></th>\n",
       "      <th></th>\n",
       "      <th></th>\n",
       "      <th></th>\n",
       "      <th></th>\n",
       "    </tr>\n",
       "  </thead>\n",
       "  <tbody>\n",
       "    <tr>\n",
       "      <th>2009-01-01</th>\n",
       "      <td>30.903838</td>\n",
       "      <td>33.424333</td>\n",
       "      <td>1.479027</td>\n",
       "      <td>1.099905</td>\n",
       "      <td>4308.390000</td>\n",
       "      <td>596.071497</td>\n",
       "      <td>2135.982324</td>\n",
       "      <td>12.472805</td>\n",
       "      <td>84.9</td>\n",
       "      <td>210.1</td>\n",
       "      <td>2.122545</td>\n",
       "      <td>3.757500</td>\n",
       "      <td>300.2</td>\n",
       "      <td>0.142993</td>\n",
       "    </tr>\n",
       "    <tr>\n",
       "      <th>2009-02-01</th>\n",
       "      <td>29.393166</td>\n",
       "      <td>33.617553</td>\n",
       "      <td>1.492643</td>\n",
       "      <td>1.120824</td>\n",
       "      <td>4232.114762</td>\n",
       "      <td>570.410394</td>\n",
       "      <td>2020.716905</td>\n",
       "      <td>9.467866</td>\n",
       "      <td>85.6</td>\n",
       "      <td>211.4</td>\n",
       "      <td>2.129905</td>\n",
       "      <td>3.798333</td>\n",
       "      <td>294.7</td>\n",
       "      <td>0.000000</td>\n",
       "    </tr>\n",
       "    <tr>\n",
       "      <th>2009-03-01</th>\n",
       "      <td>31.733352</td>\n",
       "      <td>36.826152</td>\n",
       "      <td>1.494241</td>\n",
       "      <td>1.097877</td>\n",
       "      <td>4107.840909</td>\n",
       "      <td>566.393975</td>\n",
       "      <td>2029.160819</td>\n",
       "      <td>8.064295</td>\n",
       "      <td>85.8</td>\n",
       "      <td>211.3</td>\n",
       "      <td>2.142045</td>\n",
       "      <td>3.872500</td>\n",
       "      <td>301.1</td>\n",
       "      <td>-0.377181</td>\n",
       "    </tr>\n",
       "    <tr>\n",
       "      <th>2009-04-01</th>\n",
       "      <td>33.990786</td>\n",
       "      <td>36.012519</td>\n",
       "      <td>1.511936</td>\n",
       "      <td>1.125327</td>\n",
       "      <td>4259.890500</td>\n",
       "      <td>588.042125</td>\n",
       "      <td>2119.383029</td>\n",
       "      <td>7.762397</td>\n",
       "      <td>86.0</td>\n",
       "      <td>211.5</td>\n",
       "      <td>2.143250</td>\n",
       "      <td>3.935500</td>\n",
       "      <td>302.9</td>\n",
       "      <td>-1.168224</td>\n",
       "    </tr>\n",
       "    <tr>\n",
       "      <th>2009-05-01</th>\n",
       "      <td>37.524515</td>\n",
       "      <td>38.801542</td>\n",
       "      <td>1.561252</td>\n",
       "      <td>1.131686</td>\n",
       "      <td>4434.719500</td>\n",
       "      <td>582.718727</td>\n",
       "      <td>2164.120107</td>\n",
       "      <td>7.757394</td>\n",
       "      <td>86.4</td>\n",
       "      <td>212.8</td>\n",
       "      <td>2.031900</td>\n",
       "      <td>3.917500</td>\n",
       "      <td>307.2</td>\n",
       "      <td>-1.069270</td>\n",
       "    </tr>\n",
       "    <tr>\n",
       "      <th>...</th>\n",
       "      <td>...</td>\n",
       "      <td>...</td>\n",
       "      <td>...</td>\n",
       "      <td>...</td>\n",
       "      <td>...</td>\n",
       "      <td>...</td>\n",
       "      <td>...</td>\n",
       "      <td>...</td>\n",
       "      <td>...</td>\n",
       "      <td>...</td>\n",
       "      <td>...</td>\n",
       "      <td>...</td>\n",
       "      <td>...</td>\n",
       "      <td>...</td>\n",
       "    </tr>\n",
       "    <tr>\n",
       "      <th>2022-05-01</th>\n",
       "      <td>89.748267</td>\n",
       "      <td>85.128666</td>\n",
       "      <td>1.247484</td>\n",
       "      <td>1.178074</td>\n",
       "      <td>7472.767778</td>\n",
       "      <td>3274.256696</td>\n",
       "      <td>3179.554466</td>\n",
       "      <td>81.073170</td>\n",
       "      <td>120.8</td>\n",
       "      <td>337.1</td>\n",
       "      <td>2.538121</td>\n",
       "      <td>2.240542</td>\n",
       "      <td>538.4</td>\n",
       "      <td>11.659490</td>\n",
       "    </tr>\n",
       "    <tr>\n",
       "      <th>2022-06-01</th>\n",
       "      <td>95.251442</td>\n",
       "      <td>87.836565</td>\n",
       "      <td>1.233611</td>\n",
       "      <td>1.167758</td>\n",
       "      <td>7238.188421</td>\n",
       "      <td>3172.340166</td>\n",
       "      <td>3058.969505</td>\n",
       "      <td>96.746393</td>\n",
       "      <td>121.8</td>\n",
       "      <td>340.0</td>\n",
       "      <td>2.933563</td>\n",
       "      <td>2.626558</td>\n",
       "      <td>541.8</td>\n",
       "      <td>11.842105</td>\n",
       "    </tr>\n",
       "    <tr>\n",
       "      <th>2022-07-01</th>\n",
       "      <td>85.363871</td>\n",
       "      <td>80.415504</td>\n",
       "      <td>1.231479</td>\n",
       "      <td>1.184589</td>\n",
       "      <td>7303.865263</td>\n",
       "      <td>3298.689210</td>\n",
       "      <td>3082.959231</td>\n",
       "      <td>128.688654</td>\n",
       "      <td>122.5</td>\n",
       "      <td>343.2</td>\n",
       "      <td>2.700779</td>\n",
       "      <td>2.302258</td>\n",
       "      <td>541.0</td>\n",
       "      <td>12.340426</td>\n",
       "    </tr>\n",
       "    <tr>\n",
       "      <th>2022-08-01</th>\n",
       "      <td>80.656541</td>\n",
       "      <td>78.913331</td>\n",
       "      <td>1.211816</td>\n",
       "      <td>1.181732</td>\n",
       "      <td>7453.987222</td>\n",
       "      <td>3446.779300</td>\n",
       "      <td>3131.457852</td>\n",
       "      <td>180.082147</td>\n",
       "      <td>NaN</td>\n",
       "      <td>NaN</td>\n",
       "      <td>3.368889</td>\n",
       "      <td>2.688500</td>\n",
       "      <td>546.1</td>\n",
       "      <td>NaN</td>\n",
       "    </tr>\n",
       "    <tr>\n",
       "      <th>2022-09-01</th>\n",
       "      <td>73.474167</td>\n",
       "      <td>80.706056</td>\n",
       "      <td>1.272420</td>\n",
       "      <td>1.180400</td>\n",
       "      <td>7403.016000</td>\n",
       "      <td>3300.260920</td>\n",
       "      <td>3208.537784</td>\n",
       "      <td>93.341821</td>\n",
       "      <td>NaN</td>\n",
       "      <td>NaN</td>\n",
       "      <td>2.475340</td>\n",
       "      <td>2.155940</td>\n",
       "      <td>NaN</td>\n",
       "      <td>NaN</td>\n",
       "    </tr>\n",
       "  </tbody>\n",
       "</table>\n",
       "<p>165 rows × 14 columns</p>\n",
       "</div>"
      ],
      "text/plain": [
       "            Brent_Crude_GBP  WTI_Crude_GBP  GBP Curncy  GBPEUR Curncy  \\\n",
       "Date                                                                    \n",
       "2009-01-01        30.903838      33.424333    1.479027       1.099905   \n",
       "2009-02-01        29.393166      33.617553    1.492643       1.120824   \n",
       "2009-03-01        31.733352      36.826152    1.494241       1.097877   \n",
       "2009-04-01        33.990786      36.012519    1.511936       1.125327   \n",
       "2009-05-01        37.524515      38.801542    1.561252       1.131686   \n",
       "...                     ...            ...         ...            ...   \n",
       "2022-05-01        89.748267      85.128666    1.247484       1.178074   \n",
       "2022-06-01        95.251442      87.836565    1.233611       1.167758   \n",
       "2022-07-01        85.363871      80.415504    1.231479       1.184589   \n",
       "2022-08-01        80.656541      78.913331    1.211816       1.181732   \n",
       "2022-09-01        73.474167      80.706056    1.272420       1.180400   \n",
       "\n",
       "              UKX Index    SPX Index   SX5E Index  Natural_Gas    CPI    RPI  \\\n",
       "Date                                                                           \n",
       "2009-01-01  4308.390000   596.071497  2135.982324    12.472805   84.9  210.1   \n",
       "2009-02-01  4232.114762   570.410394  2020.716905     9.467866   85.6  211.4   \n",
       "2009-03-01  4107.840909   566.393975  2029.160819     8.064295   85.8  211.3   \n",
       "2009-04-01  4259.890500   588.042125  2119.383029     7.762397   86.0  211.5   \n",
       "2009-05-01  4434.719500   582.718727  2164.120107     7.757394   86.4  212.8   \n",
       "...                 ...          ...          ...          ...    ...    ...   \n",
       "2022-05-01  7472.767778  3274.256696  3179.554466    81.073170  120.8  337.1   \n",
       "2022-06-01  7238.188421  3172.340166  3058.969505    96.746393  121.8  340.0   \n",
       "2022-07-01  7303.865263  3298.689210  3082.959231   128.688654  122.5  343.2   \n",
       "2022-08-01  7453.987222  3446.779300  3131.457852   180.082147    NaN    NaN   \n",
       "2022-09-01  7403.016000  3300.260920  3208.537784    93.341821    NaN    NaN   \n",
       "\n",
       "            GBP_IRS_2y  GBP_IRS_10y  Nationwide_HPI    RPI YOY  \n",
       "Date                                                            \n",
       "2009-01-01    2.122545     3.757500           300.2   0.142993  \n",
       "2009-02-01    2.129905     3.798333           294.7   0.000000  \n",
       "2009-03-01    2.142045     3.872500           301.1  -0.377181  \n",
       "2009-04-01    2.143250     3.935500           302.9  -1.168224  \n",
       "2009-05-01    2.031900     3.917500           307.2  -1.069270  \n",
       "...                ...          ...             ...        ...  \n",
       "2022-05-01    2.538121     2.240542           538.4  11.659490  \n",
       "2022-06-01    2.933563     2.626558           541.8  11.842105  \n",
       "2022-07-01    2.700779     2.302258           541.0  12.340426  \n",
       "2022-08-01    3.368889     2.688500           546.1        NaN  \n",
       "2022-09-01    2.475340     2.155940             NaN        NaN  \n",
       "\n",
       "[165 rows x 14 columns]"
      ]
     },
     "execution_count": 6,
     "metadata": {},
     "output_type": "execute_result"
    }
   ],
   "source": [
    "df.index = pd.to_datetime(df.index)\n",
    "df"
   ]
  },
  {
   "cell_type": "code",
   "execution_count": 7,
   "id": "47774425",
   "metadata": {},
   "outputs": [],
   "source": [
    "#rpi_lag = pd.read_csv('RPI_lagged.csv')\n"
   ]
  },
  {
   "cell_type": "code",
   "execution_count": 8,
   "id": "0abf9689",
   "metadata": {},
   "outputs": [],
   "source": [
    "#rpi_lag"
   ]
  },
  {
   "cell_type": "code",
   "execution_count": 9,
   "id": "006e4b0a",
   "metadata": {},
   "outputs": [],
   "source": [
    "# rpi_lag = rpi_lag.rename({'Date CO1 Comdty': 'Date'}, axis=1)\n",
    "# rpi_lag = rpi_lag.set_index('Date')\n"
   ]
  },
  {
   "cell_type": "code",
   "execution_count": 10,
   "id": "83a6fb60",
   "metadata": {},
   "outputs": [],
   "source": [
    "#rpi_lag.index = pd.to_datetime(rpi_lag.index)"
   ]
  },
  {
   "cell_type": "code",
   "execution_count": 11,
   "id": "4a478a43",
   "metadata": {},
   "outputs": [],
   "source": [
    "#rpi_lag"
   ]
  },
  {
   "cell_type": "code",
   "execution_count": 12,
   "id": "97570fd6",
   "metadata": {},
   "outputs": [],
   "source": [
    "#new_df = df.join(rpi_lag)"
   ]
  },
  {
   "cell_type": "code",
   "execution_count": 13,
   "id": "5a906132",
   "metadata": {},
   "outputs": [],
   "source": [
    "#new_df"
   ]
  },
  {
   "cell_type": "code",
   "execution_count": 14,
   "id": "e85ecf39",
   "metadata": {},
   "outputs": [],
   "source": [
    "# X = new_df.drop(columns = ['RPI', 'CPI', 'RPI YOY'])\n",
    "# y = new_df['RPI']\n",
    "\n",
    "X = df.drop(columns = ['RPI', 'CPI', 'RPI YOY'])\n",
    "y = df['RPI']"
   ]
  },
  {
   "cell_type": "code",
   "execution_count": 15,
   "id": "e169ba6b",
   "metadata": {},
   "outputs": [
    {
     "data": {
      "text/html": [
       "<div>\n",
       "<style scoped>\n",
       "    .dataframe tbody tr th:only-of-type {\n",
       "        vertical-align: middle;\n",
       "    }\n",
       "\n",
       "    .dataframe tbody tr th {\n",
       "        vertical-align: top;\n",
       "    }\n",
       "\n",
       "    .dataframe thead th {\n",
       "        text-align: right;\n",
       "    }\n",
       "</style>\n",
       "<table border=\"1\" class=\"dataframe\">\n",
       "  <thead>\n",
       "    <tr style=\"text-align: right;\">\n",
       "      <th></th>\n",
       "      <th>Brent_Crude_GBP</th>\n",
       "      <th>WTI_Crude_GBP</th>\n",
       "      <th>GBP Curncy</th>\n",
       "      <th>GBPEUR Curncy</th>\n",
       "      <th>UKX Index</th>\n",
       "      <th>SPX Index</th>\n",
       "      <th>SX5E Index</th>\n",
       "      <th>Natural_Gas</th>\n",
       "      <th>GBP_IRS_2y</th>\n",
       "      <th>GBP_IRS_10y</th>\n",
       "      <th>Nationwide_HPI</th>\n",
       "    </tr>\n",
       "    <tr>\n",
       "      <th>Date</th>\n",
       "      <th></th>\n",
       "      <th></th>\n",
       "      <th></th>\n",
       "      <th></th>\n",
       "      <th></th>\n",
       "      <th></th>\n",
       "      <th></th>\n",
       "      <th></th>\n",
       "      <th></th>\n",
       "      <th></th>\n",
       "      <th></th>\n",
       "    </tr>\n",
       "  </thead>\n",
       "  <tbody>\n",
       "    <tr>\n",
       "      <th>2015-01-01</th>\n",
       "      <td>32.818125</td>\n",
       "      <td>31.737054</td>\n",
       "      <td>1.516177</td>\n",
       "      <td>1.336264</td>\n",
       "      <td>6641.765238</td>\n",
       "      <td>1339.503656</td>\n",
       "      <td>2495.664852</td>\n",
       "      <td>13.099203</td>\n",
       "      <td>0.858274</td>\n",
       "      <td>1.684729</td>\n",
       "      <td>375.9</td>\n",
       "    </tr>\n",
       "    <tr>\n",
       "      <th>2015-02-01</th>\n",
       "      <td>38.343255</td>\n",
       "      <td>32.759207</td>\n",
       "      <td>1.533386</td>\n",
       "      <td>1.362371</td>\n",
       "      <td>6746.840476</td>\n",
       "      <td>1356.232800</td>\n",
       "      <td>2536.801725</td>\n",
       "      <td>13.938965</td>\n",
       "      <td>0.952887</td>\n",
       "      <td>1.856450</td>\n",
       "      <td>375.0</td>\n",
       "    </tr>\n",
       "    <tr>\n",
       "      <th>2015-03-01</th>\n",
       "      <td>37.866261</td>\n",
       "      <td>31.635113</td>\n",
       "      <td>1.503677</td>\n",
       "      <td>1.377568</td>\n",
       "      <td>6791.140000</td>\n",
       "      <td>1380.431518</td>\n",
       "      <td>2615.694574</td>\n",
       "      <td>13.821672</td>\n",
       "      <td>0.947216</td>\n",
       "      <td>1.783045</td>\n",
       "      <td>377.9</td>\n",
       "    </tr>\n",
       "    <tr>\n",
       "      <th>2015-04-01</th>\n",
       "      <td>40.409377</td>\n",
       "      <td>35.572047</td>\n",
       "      <td>1.512909</td>\n",
       "      <td>1.386036</td>\n",
       "      <td>6886.650952</td>\n",
       "      <td>1381.813784</td>\n",
       "      <td>2620.084413</td>\n",
       "      <td>13.690119</td>\n",
       "      <td>0.923663</td>\n",
       "      <td>1.811432</td>\n",
       "      <td>385.1</td>\n",
       "    </tr>\n",
       "    <tr>\n",
       "      <th>2015-05-01</th>\n",
       "      <td>42.505052</td>\n",
       "      <td>36.186768</td>\n",
       "      <td>1.543548</td>\n",
       "      <td>1.384014</td>\n",
       "      <td>6864.994500</td>\n",
       "      <td>1360.216539</td>\n",
       "      <td>2568.111738</td>\n",
       "      <td>13.123988</td>\n",
       "      <td>1.009908</td>\n",
       "      <td>1.971630</td>\n",
       "      <td>389.3</td>\n",
       "    </tr>\n",
       "    <tr>\n",
       "      <th>2015-06-01</th>\n",
       "      <td>41.067582</td>\n",
       "      <td>35.885473</td>\n",
       "      <td>1.552386</td>\n",
       "      <td>1.385524</td>\n",
       "      <td>6687.803500</td>\n",
       "      <td>1340.919813</td>\n",
       "      <td>2507.691659</td>\n",
       "      <td>13.023503</td>\n",
       "      <td>1.061182</td>\n",
       "      <td>2.089545</td>\n",
       "      <td>389.1</td>\n",
       "    </tr>\n",
       "    <tr>\n",
       "      <th>2015-07-01</th>\n",
       "      <td>36.726002</td>\n",
       "      <td>31.989864</td>\n",
       "      <td>1.545617</td>\n",
       "      <td>1.402913</td>\n",
       "      <td>6625.526087</td>\n",
       "      <td>1353.218881</td>\n",
       "      <td>2518.626151</td>\n",
       "      <td>13.169073</td>\n",
       "      <td>1.119989</td>\n",
       "      <td>2.051104</td>\n",
       "      <td>390.2</td>\n",
       "    </tr>\n",
       "    <tr>\n",
       "      <th>2015-08-01</th>\n",
       "      <td>31.196110</td>\n",
       "      <td>29.152671</td>\n",
       "      <td>1.545248</td>\n",
       "      <td>1.376957</td>\n",
       "      <td>6402.255000</td>\n",
       "      <td>1311.027051</td>\n",
       "      <td>2434.955959</td>\n",
       "      <td>12.478583</td>\n",
       "      <td>1.085050</td>\n",
       "      <td>1.958367</td>\n",
       "      <td>389.6</td>\n",
       "    </tr>\n",
       "    <tr>\n",
       "      <th>2015-09-01</th>\n",
       "      <td>31.774855</td>\n",
       "      <td>30.721787</td>\n",
       "      <td>1.527609</td>\n",
       "      <td>1.364657</td>\n",
       "      <td>6280.524348</td>\n",
       "      <td>1302.101893</td>\n",
       "      <td>2375.712634</td>\n",
       "      <td>12.595702</td>\n",
       "      <td>1.004023</td>\n",
       "      <td>1.908904</td>\n",
       "      <td>390.2</td>\n",
       "    </tr>\n",
       "    <tr>\n",
       "      <th>2015-10-01</th>\n",
       "      <td>32.150956</td>\n",
       "      <td>30.493892</td>\n",
       "      <td>1.533165</td>\n",
       "      <td>1.378817</td>\n",
       "      <td>6458.806957</td>\n",
       "      <td>1339.915435</td>\n",
       "      <td>2458.240837</td>\n",
       "      <td>12.291281</td>\n",
       "      <td>0.940307</td>\n",
       "      <td>1.899183</td>\n",
       "      <td>392.6</td>\n",
       "    </tr>\n",
       "    <tr>\n",
       "      <th>2015-11-01</th>\n",
       "      <td>30.159048</td>\n",
       "      <td>28.998764</td>\n",
       "      <td>1.523005</td>\n",
       "      <td>1.409255</td>\n",
       "      <td>6398.511500</td>\n",
       "      <td>1357.124134</td>\n",
       "      <td>2446.822967</td>\n",
       "      <td>12.095331</td>\n",
       "      <td>0.994821</td>\n",
       "      <td>1.897445</td>\n",
       "      <td>391.6</td>\n",
       "    </tr>\n",
       "    <tr>\n",
       "      <th>2015-12-01</th>\n",
       "      <td>25.818625</td>\n",
       "      <td>27.520854</td>\n",
       "      <td>1.506823</td>\n",
       "      <td>1.366814</td>\n",
       "      <td>6324.143500</td>\n",
       "      <td>1363.285466</td>\n",
       "      <td>2426.843201</td>\n",
       "      <td>11.423042</td>\n",
       "      <td>1.016488</td>\n",
       "      <td>1.930550</td>\n",
       "      <td>393.0</td>\n",
       "    </tr>\n",
       "    <tr>\n",
       "      <th>2016-01-01</th>\n",
       "      <td>22.809737</td>\n",
       "      <td>25.534394</td>\n",
       "      <td>1.399643</td>\n",
       "      <td>1.278787</td>\n",
       "      <td>6123.662727</td>\n",
       "      <td>1413.405854</td>\n",
       "      <td>2340.610930</td>\n",
       "      <td>9.773593</td>\n",
       "      <td>0.898800</td>\n",
       "      <td>1.504270</td>\n",
       "      <td>392.7</td>\n",
       "    </tr>\n",
       "    <tr>\n",
       "      <th>2016-02-01</th>\n",
       "      <td>24.047857</td>\n",
       "      <td>26.087339</td>\n",
       "      <td>1.394184</td>\n",
       "      <td>1.260416</td>\n",
       "      <td>6171.272222</td>\n",
       "      <td>1434.117439</td>\n",
       "      <td>2327.359810</td>\n",
       "      <td>9.383225</td>\n",
       "      <td>0.757655</td>\n",
       "      <td>1.332758</td>\n",
       "      <td>392.9</td>\n",
       "    </tr>\n",
       "    <tr>\n",
       "      <th>2016-03-01</th>\n",
       "      <td>28.183023</td>\n",
       "      <td>28.331057</td>\n",
       "      <td>1.411843</td>\n",
       "      <td>1.258433</td>\n",
       "      <td>6253.627368</td>\n",
       "      <td>1452.882656</td>\n",
       "      <td>2395.269808</td>\n",
       "      <td>9.068961</td>\n",
       "      <td>0.805940</td>\n",
       "      <td>1.375611</td>\n",
       "      <td>399.5</td>\n",
       "    </tr>\n",
       "    <tr>\n",
       "      <th>2016-04-01</th>\n",
       "      <td>30.652665</td>\n",
       "      <td>29.521709</td>\n",
       "      <td>1.413891</td>\n",
       "      <td>1.256627</td>\n",
       "      <td>6357.307727</td>\n",
       "      <td>1468.004077</td>\n",
       "      <td>2426.290431</td>\n",
       "      <td>9.156711</td>\n",
       "      <td>0.820131</td>\n",
       "      <td>1.418518</td>\n",
       "      <td>403.8</td>\n",
       "    </tr>\n",
       "    <tr>\n",
       "      <th>2016-05-01</th>\n",
       "      <td>33.610150</td>\n",
       "      <td>32.363833</td>\n",
       "      <td>1.417632</td>\n",
       "      <td>1.269523</td>\n",
       "      <td>6305.287143</td>\n",
       "      <td>1461.227431</td>\n",
       "      <td>2356.760057</td>\n",
       "      <td>9.512007</td>\n",
       "      <td>0.805012</td>\n",
       "      <td>1.354362</td>\n",
       "      <td>407.7</td>\n",
       "    </tr>\n",
       "    <tr>\n",
       "      <th>2016-06-01</th>\n",
       "      <td>35.853479</td>\n",
       "      <td>33.841453</td>\n",
       "      <td>1.392536</td>\n",
       "      <td>1.244714</td>\n",
       "      <td>6262.087727</td>\n",
       "      <td>1497.344936</td>\n",
       "      <td>2335.194660</td>\n",
       "      <td>10.313098</td>\n",
       "      <td>0.707955</td>\n",
       "      <td>1.206173</td>\n",
       "      <td>408.9</td>\n",
       "    </tr>\n",
       "    <tr>\n",
       "      <th>2016-07-01</th>\n",
       "      <td>34.979696</td>\n",
       "      <td>32.963639</td>\n",
       "      <td>1.330336</td>\n",
       "      <td>1.201241</td>\n",
       "      <td>6630.369545</td>\n",
       "      <td>1608.590787</td>\n",
       "      <td>2481.757122</td>\n",
       "      <td>10.837997</td>\n",
       "      <td>0.501131</td>\n",
       "      <td>1.021027</td>\n",
       "      <td>410.4</td>\n",
       "    </tr>\n",
       "    <tr>\n",
       "      <th>2016-08-01</th>\n",
       "      <td>35.390659</td>\n",
       "      <td>33.703121</td>\n",
       "      <td>1.332530</td>\n",
       "      <td>1.191674</td>\n",
       "      <td>6658.116818</td>\n",
       "      <td>1603.181916</td>\n",
       "      <td>2513.310834</td>\n",
       "      <td>9.386618</td>\n",
       "      <td>0.425193</td>\n",
       "      <td>0.936239</td>\n",
       "      <td>411.2</td>\n",
       "    </tr>\n",
       "    <tr>\n",
       "      <th>2016-09-01</th>\n",
       "      <td>35.650483</td>\n",
       "      <td>33.536749</td>\n",
       "      <td>1.325100</td>\n",
       "      <td>1.186100</td>\n",
       "      <td>6681.491364</td>\n",
       "      <td>1607.695474</td>\n",
       "      <td>2522.149367</td>\n",
       "      <td>10.132168</td>\n",
       "      <td>0.440250</td>\n",
       "      <td>0.959009</td>\n",
       "      <td>411.0</td>\n",
       "    </tr>\n",
       "    <tr>\n",
       "      <th>2016-10-01</th>\n",
       "      <td>40.400342</td>\n",
       "      <td>37.170194</td>\n",
       "      <td>1.271960</td>\n",
       "      <td>1.152440</td>\n",
       "      <td>6784.034000</td>\n",
       "      <td>1663.042077</td>\n",
       "      <td>2624.813005</td>\n",
       "      <td>12.497445</td>\n",
       "      <td>0.557524</td>\n",
       "      <td>1.138360</td>\n",
       "      <td>410.8</td>\n",
       "    </tr>\n",
       "    <tr>\n",
       "      <th>2016-11-01</th>\n",
       "      <td>36.390691</td>\n",
       "      <td>33.946930</td>\n",
       "      <td>1.293700</td>\n",
       "      <td>1.192923</td>\n",
       "      <td>6618.945455</td>\n",
       "      <td>1649.769763</td>\n",
       "      <td>2519.838212</td>\n",
       "      <td>12.435263</td>\n",
       "      <td>0.646977</td>\n",
       "      <td>1.316939</td>\n",
       "      <td>408.8</td>\n",
       "    </tr>\n",
       "    <tr>\n",
       "      <th>2016-12-01</th>\n",
       "      <td>42.778165</td>\n",
       "      <td>38.042859</td>\n",
       "      <td>1.283743</td>\n",
       "      <td>1.197404</td>\n",
       "      <td>6796.544286</td>\n",
       "      <td>1706.510219</td>\n",
       "      <td>2631.646533</td>\n",
       "      <td>12.452421</td>\n",
       "      <td>0.649512</td>\n",
       "      <td>1.293796</td>\n",
       "      <td>410.7</td>\n",
       "    </tr>\n",
       "  </tbody>\n",
       "</table>\n",
       "</div>"
      ],
      "text/plain": [
       "            Brent_Crude_GBP  WTI_Crude_GBP  GBP Curncy  GBPEUR Curncy  \\\n",
       "Date                                                                    \n",
       "2015-01-01        32.818125      31.737054    1.516177       1.336264   \n",
       "2015-02-01        38.343255      32.759207    1.533386       1.362371   \n",
       "2015-03-01        37.866261      31.635113    1.503677       1.377568   \n",
       "2015-04-01        40.409377      35.572047    1.512909       1.386036   \n",
       "2015-05-01        42.505052      36.186768    1.543548       1.384014   \n",
       "2015-06-01        41.067582      35.885473    1.552386       1.385524   \n",
       "2015-07-01        36.726002      31.989864    1.545617       1.402913   \n",
       "2015-08-01        31.196110      29.152671    1.545248       1.376957   \n",
       "2015-09-01        31.774855      30.721787    1.527609       1.364657   \n",
       "2015-10-01        32.150956      30.493892    1.533165       1.378817   \n",
       "2015-11-01        30.159048      28.998764    1.523005       1.409255   \n",
       "2015-12-01        25.818625      27.520854    1.506823       1.366814   \n",
       "2016-01-01        22.809737      25.534394    1.399643       1.278787   \n",
       "2016-02-01        24.047857      26.087339    1.394184       1.260416   \n",
       "2016-03-01        28.183023      28.331057    1.411843       1.258433   \n",
       "2016-04-01        30.652665      29.521709    1.413891       1.256627   \n",
       "2016-05-01        33.610150      32.363833    1.417632       1.269523   \n",
       "2016-06-01        35.853479      33.841453    1.392536       1.244714   \n",
       "2016-07-01        34.979696      32.963639    1.330336       1.201241   \n",
       "2016-08-01        35.390659      33.703121    1.332530       1.191674   \n",
       "2016-09-01        35.650483      33.536749    1.325100       1.186100   \n",
       "2016-10-01        40.400342      37.170194    1.271960       1.152440   \n",
       "2016-11-01        36.390691      33.946930    1.293700       1.192923   \n",
       "2016-12-01        42.778165      38.042859    1.283743       1.197404   \n",
       "\n",
       "              UKX Index    SPX Index   SX5E Index  Natural_Gas  GBP_IRS_2y  \\\n",
       "Date                                                                         \n",
       "2015-01-01  6641.765238  1339.503656  2495.664852    13.099203    0.858274   \n",
       "2015-02-01  6746.840476  1356.232800  2536.801725    13.938965    0.952887   \n",
       "2015-03-01  6791.140000  1380.431518  2615.694574    13.821672    0.947216   \n",
       "2015-04-01  6886.650952  1381.813784  2620.084413    13.690119    0.923663   \n",
       "2015-05-01  6864.994500  1360.216539  2568.111738    13.123988    1.009908   \n",
       "2015-06-01  6687.803500  1340.919813  2507.691659    13.023503    1.061182   \n",
       "2015-07-01  6625.526087  1353.218881  2518.626151    13.169073    1.119989   \n",
       "2015-08-01  6402.255000  1311.027051  2434.955959    12.478583    1.085050   \n",
       "2015-09-01  6280.524348  1302.101893  2375.712634    12.595702    1.004023   \n",
       "2015-10-01  6458.806957  1339.915435  2458.240837    12.291281    0.940307   \n",
       "2015-11-01  6398.511500  1357.124134  2446.822967    12.095331    0.994821   \n",
       "2015-12-01  6324.143500  1363.285466  2426.843201    11.423042    1.016488   \n",
       "2016-01-01  6123.662727  1413.405854  2340.610930     9.773593    0.898800   \n",
       "2016-02-01  6171.272222  1434.117439  2327.359810     9.383225    0.757655   \n",
       "2016-03-01  6253.627368  1452.882656  2395.269808     9.068961    0.805940   \n",
       "2016-04-01  6357.307727  1468.004077  2426.290431     9.156711    0.820131   \n",
       "2016-05-01  6305.287143  1461.227431  2356.760057     9.512007    0.805012   \n",
       "2016-06-01  6262.087727  1497.344936  2335.194660    10.313098    0.707955   \n",
       "2016-07-01  6630.369545  1608.590787  2481.757122    10.837997    0.501131   \n",
       "2016-08-01  6658.116818  1603.181916  2513.310834     9.386618    0.425193   \n",
       "2016-09-01  6681.491364  1607.695474  2522.149367    10.132168    0.440250   \n",
       "2016-10-01  6784.034000  1663.042077  2624.813005    12.497445    0.557524   \n",
       "2016-11-01  6618.945455  1649.769763  2519.838212    12.435263    0.646977   \n",
       "2016-12-01  6796.544286  1706.510219  2631.646533    12.452421    0.649512   \n",
       "\n",
       "            GBP_IRS_10y  Nationwide_HPI  \n",
       "Date                                     \n",
       "2015-01-01     1.684729           375.9  \n",
       "2015-02-01     1.856450           375.0  \n",
       "2015-03-01     1.783045           377.9  \n",
       "2015-04-01     1.811432           385.1  \n",
       "2015-05-01     1.971630           389.3  \n",
       "2015-06-01     2.089545           389.1  \n",
       "2015-07-01     2.051104           390.2  \n",
       "2015-08-01     1.958367           389.6  \n",
       "2015-09-01     1.908904           390.2  \n",
       "2015-10-01     1.899183           392.6  \n",
       "2015-11-01     1.897445           391.6  \n",
       "2015-12-01     1.930550           393.0  \n",
       "2016-01-01     1.504270           392.7  \n",
       "2016-02-01     1.332758           392.9  \n",
       "2016-03-01     1.375611           399.5  \n",
       "2016-04-01     1.418518           403.8  \n",
       "2016-05-01     1.354362           407.7  \n",
       "2016-06-01     1.206173           408.9  \n",
       "2016-07-01     1.021027           410.4  \n",
       "2016-08-01     0.936239           411.2  \n",
       "2016-09-01     0.959009           411.0  \n",
       "2016-10-01     1.138360           410.8  \n",
       "2016-11-01     1.316939           408.8  \n",
       "2016-12-01     1.293796           410.7  "
      ]
     },
     "execution_count": 15,
     "metadata": {},
     "output_type": "execute_result"
    }
   ],
   "source": [
    "X[72:96]"
   ]
  },
  {
   "cell_type": "code",
   "execution_count": 16,
   "id": "9a8a3a8d",
   "metadata": {},
   "outputs": [
    {
     "data": {
      "text/plain": [
       "((72, 11), (72,), (24, 11), (24,), (12, 11), (12,))"
      ]
     },
     "execution_count": 16,
     "metadata": {},
     "output_type": "execute_result"
    }
   ],
   "source": [
    "X_train, y_train = X[:72], y[:72]\n",
    "X_val, y_val = X[72:96], y[72:96]\n",
    "X_test, y_test = X[96:108], y[96:108]\n",
    "X_train.shape, y_train.shape, X_val.shape, y_val.shape, X_test.shape, y_test.shape"
   ]
  },
  {
   "cell_type": "code",
   "execution_count": 17,
   "id": "7a94120a",
   "metadata": {},
   "outputs": [
    {
     "name": "stderr",
     "output_type": "stream",
     "text": [
      "2022-09-15 10:40:11.283264: W tensorflow/stream_executor/platform/default/dso_loader.cc:64] Could not load dynamic library 'libcuda.so.1'; dlerror: libcuda.so.1: cannot open shared object file: No such file or directory\n",
      "2022-09-15 10:40:11.283333: W tensorflow/stream_executor/cuda/cuda_driver.cc:263] failed call to cuInit: UNKNOWN ERROR (303)\n",
      "2022-09-15 10:40:11.283356: I tensorflow/stream_executor/cuda/cuda_diagnostics.cc:156] kernel driver does not appear to be running on this host (LAPTOP-S0KUROGM): /proc/driver/nvidia/version does not exist\n",
      "2022-09-15 10:40:11.283846: I tensorflow/core/platform/cpu_feature_guard.cc:193] This TensorFlow binary is optimized with oneAPI Deep Neural Network Library (oneDNN) to use the following CPU instructions in performance-critical operations:  AVX2 AVX512F AVX512_VNNI FMA\n",
      "To enable them in other operations, rebuild TensorFlow with the appropriate compiler flags.\n"
     ]
    },
    {
     "data": {
      "text/plain": [
       "TensorShape([72, 1, 1])"
      ]
     },
     "execution_count": 17,
     "metadata": {},
     "output_type": "execute_result"
    }
   ],
   "source": [
    "y_train_x = expand_dims(y_train, -1)\n",
    "y_train_x = expand_dims(y_train_x, -1)\n",
    "\n",
    "y_train_x.shape"
   ]
  },
  {
   "cell_type": "code",
   "execution_count": 18,
   "id": "9ae3ecce",
   "metadata": {},
   "outputs": [],
   "source": [
    "y_val_x = expand_dims(y_val, -1)\n",
    "y_val_x = expand_dims(y_val_x, -1)"
   ]
  },
  {
   "cell_type": "code",
   "execution_count": 19,
   "id": "3b6942d9",
   "metadata": {
    "scrolled": true
   },
   "outputs": [
    {
     "data": {
      "text/plain": [
       "TensorShape([24, 1, 1])"
      ]
     },
     "execution_count": 19,
     "metadata": {},
     "output_type": "execute_result"
    }
   ],
   "source": [
    "y_val_x.shape"
   ]
  },
  {
   "cell_type": "code",
   "execution_count": 20,
   "id": "b63b023c",
   "metadata": {},
   "outputs": [],
   "source": [
    "X_test_x = expand_dims(X_test, -2)"
   ]
  },
  {
   "cell_type": "code",
   "execution_count": 21,
   "id": "bb80a24d",
   "metadata": {},
   "outputs": [
    {
     "data": {
      "text/plain": [
       "TensorShape([12, 1, 11])"
      ]
     },
     "execution_count": 21,
     "metadata": {},
     "output_type": "execute_result"
    }
   ],
   "source": [
    "X_test_x.shape"
   ]
  },
  {
   "cell_type": "code",
   "execution_count": 22,
   "id": "df73716d",
   "metadata": {},
   "outputs": [
    {
     "data": {
      "text/plain": [
       "TensorShape([72, 1, 11])"
      ]
     },
     "execution_count": 22,
     "metadata": {},
     "output_type": "execute_result"
    }
   ],
   "source": [
    "X_train_x = expand_dims(X_train, -2)\n",
    "X_train_x.shape"
   ]
  },
  {
   "cell_type": "code",
   "execution_count": 23,
   "id": "302296d2",
   "metadata": {},
   "outputs": [
    {
     "data": {
      "text/plain": [
       "TensorShape([24, 1, 11])"
      ]
     },
     "execution_count": 23,
     "metadata": {},
     "output_type": "execute_result"
    }
   ],
   "source": [
    "X_val_x = expand_dims(X_val, -2)\n",
    "X_val_x.shape"
   ]
  },
  {
   "cell_type": "code",
   "execution_count": 24,
   "id": "a36c23f3",
   "metadata": {},
   "outputs": [],
   "source": [
    "lr_scheduler = ExponentialDecay(initial_learning_rate=0.001, decay_steps= 10_000, decay_rate=0.7)\n",
    "adam = Adam(learning_rate=lr_scheduler)\n",
    "es = EarlyStopping(patience=50, restore_best_weights=True)"
   ]
  },
  {
   "cell_type": "code",
   "execution_count": 26,
   "id": "4935891c",
   "metadata": {},
   "outputs": [
    {
     "name": "stdout",
     "output_type": "stream",
     "text": [
      "Model: \"sequential\"\n",
      "_________________________________________________________________\n",
      " Layer (type)                Output Shape              Param #   \n",
      "=================================================================\n",
      " normalization (Normalizatio  (None, None, 11)         23        \n",
      " n)                                                              \n",
      "                                                                 \n",
      " lstm (LSTM)                 (None, None, 100)         44800     \n",
      "                                                                 \n",
      " lstm_1 (LSTM)               (None, 50)                30200     \n",
      "                                                                 \n",
      " flatten (Flatten)           (None, 50)                0         \n",
      "                                                                 \n",
      " dense (Dense)               (None, 100)               5100      \n",
      "                                                                 \n",
      " dense_1 (Dense)             (None, 50)                5050      \n",
      "                                                                 \n",
      " dense_2 (Dense)             (None, 25)                1275      \n",
      "                                                                 \n",
      " dense_3 (Dense)             (None, 1)                 26        \n",
      "                                                                 \n",
      "=================================================================\n",
      "Total params: 86,474\n",
      "Trainable params: 86,451\n",
      "Non-trainable params: 23\n",
      "_________________________________________________________________\n"
     ]
    }
   ],
   "source": [
    "normalizer = Normalization()\n",
    "normalizer.adapt(X_train_x)\n",
    "\n",
    "model1 = Sequential()\n",
    "model1.add(normalizer)\n",
    "\n",
    "model1.add(LSTM(units = 100, activation='tanh', return_sequences = True))\n",
    "model1.add(LSTM(units = 50 , activation='tanh', return_sequences = False))\n",
    "\n",
    "model1.add(Flatten())\n",
    "\n",
    "model1.add(Dense(100,activation =  'relu'))\n",
    "model1.add(Dense(50,activation =  'relu'))\n",
    "model1.add(Dense(25,activation =  'relu'))\n",
    "\n",
    "model1.add(Dense(1, activation = 'linear'))\n",
    "\n",
    "model1.summary()"
   ]
  },
  {
   "cell_type": "code",
   "execution_count": 27,
   "id": "3d96dce0",
   "metadata": {},
   "outputs": [],
   "source": [
    "mape = MeanAbsolutePercentageError()"
   ]
  },
  {
   "cell_type": "code",
   "execution_count": 28,
   "id": "5396d14d",
   "metadata": {},
   "outputs": [],
   "source": [
    "model1.compile(loss= mape, optimizer= adam, metrics=['mape'])"
   ]
  },
  {
   "cell_type": "code",
   "execution_count": 29,
   "id": "0693943f",
   "metadata": {
    "scrolled": true
   },
   "outputs": [
    {
     "name": "stdout",
     "output_type": "stream",
     "text": [
      "Epoch 1/10000\n",
      "3/3 [==============================] - 5s 482ms/step - loss: 99.9919 - mape: 99.9919 - val_loss: 99.9679 - val_mape: 99.9679\n",
      "Epoch 2/10000\n",
      "3/3 [==============================] - 0s 28ms/step - loss: 99.9704 - mape: 99.9704 - val_loss: 99.9456 - val_mape: 99.9456\n",
      "Epoch 3/10000\n",
      "3/3 [==============================] - 0s 26ms/step - loss: 99.9417 - mape: 99.9417 - val_loss: 99.9190 - val_mape: 99.9190\n",
      "Epoch 4/10000\n",
      "3/3 [==============================] - 0s 26ms/step - loss: 99.9033 - mape: 99.9033 - val_loss: 99.8852 - val_mape: 99.8852\n",
      "Epoch 5/10000\n",
      "3/3 [==============================] - 0s 26ms/step - loss: 99.8531 - mape: 99.8531 - val_loss: 99.8415 - val_mape: 99.8415\n",
      "Epoch 6/10000\n",
      "3/3 [==============================] - 0s 24ms/step - loss: 99.7858 - mape: 99.7858 - val_loss: 99.7872 - val_mape: 99.7872\n",
      "Epoch 7/10000\n",
      "3/3 [==============================] - 0s 26ms/step - loss: 99.6920 - mape: 99.6920 - val_loss: 99.7180 - val_mape: 99.7180\n",
      "Epoch 8/10000\n",
      "3/3 [==============================] - 0s 23ms/step - loss: 99.5639 - mape: 99.5639 - val_loss: 99.6303 - val_mape: 99.6303\n",
      "Epoch 9/10000\n",
      "3/3 [==============================] - 0s 25ms/step - loss: 99.3771 - mape: 99.3771 - val_loss: 99.5136 - val_mape: 99.5136\n",
      "Epoch 10/10000\n",
      "3/3 [==============================] - 0s 26ms/step - loss: 99.1297 - mape: 99.1297 - val_loss: 99.3601 - val_mape: 99.3601\n",
      "Epoch 11/10000\n",
      "3/3 [==============================] - 0s 25ms/step - loss: 98.7862 - mape: 98.7862 - val_loss: 99.1586 - val_mape: 99.1586\n",
      "Epoch 12/10000\n",
      "3/3 [==============================] - 0s 24ms/step - loss: 98.3091 - mape: 98.3091 - val_loss: 98.8940 - val_mape: 98.8940\n",
      "Epoch 13/10000\n",
      "3/3 [==============================] - 0s 24ms/step - loss: 97.6566 - mape: 97.6566 - val_loss: 98.5345 - val_mape: 98.5345\n",
      "Epoch 14/10000\n",
      "3/3 [==============================] - 0s 21ms/step - loss: 96.7538 - mape: 96.7538 - val_loss: 98.0507 - val_mape: 98.0507\n",
      "Epoch 15/10000\n",
      "3/3 [==============================] - 0s 22ms/step - loss: 95.5125 - mape: 95.5125 - val_loss: 97.3998 - val_mape: 97.3998\n",
      "Epoch 16/10000\n",
      "3/3 [==============================] - 0s 22ms/step - loss: 93.9461 - mape: 93.9461 - val_loss: 96.5370 - val_mape: 96.5370\n",
      "Epoch 17/10000\n",
      "3/3 [==============================] - 0s 24ms/step - loss: 91.7990 - mape: 91.7990 - val_loss: 95.4018 - val_mape: 95.4018\n",
      "Epoch 18/10000\n",
      "3/3 [==============================] - 0s 24ms/step - loss: 88.9776 - mape: 88.9776 - val_loss: 93.8994 - val_mape: 93.8994\n",
      "Epoch 19/10000\n",
      "3/3 [==============================] - 0s 23ms/step - loss: 85.3066 - mape: 85.3066 - val_loss: 91.9310 - val_mape: 91.9310\n",
      "Epoch 20/10000\n",
      "3/3 [==============================] - 0s 24ms/step - loss: 80.9588 - mape: 80.9588 - val_loss: 89.4125 - val_mape: 89.4125\n",
      "Epoch 21/10000\n",
      "3/3 [==============================] - 0s 21ms/step - loss: 75.3733 - mape: 75.3733 - val_loss: 86.1736 - val_mape: 86.1736\n",
      "Epoch 22/10000\n",
      "3/3 [==============================] - 0s 20ms/step - loss: 68.6905 - mape: 68.6905 - val_loss: 82.0362 - val_mape: 82.0362\n",
      "Epoch 23/10000\n",
      "3/3 [==============================] - 0s 20ms/step - loss: 60.5775 - mape: 60.5775 - val_loss: 76.9390 - val_mape: 76.9390\n",
      "Epoch 24/10000\n",
      "3/3 [==============================] - 0s 23ms/step - loss: 54.0151 - mape: 54.0151 - val_loss: 70.7263 - val_mape: 70.7263\n",
      "Epoch 25/10000\n",
      "3/3 [==============================] - 0s 20ms/step - loss: 49.2709 - mape: 49.2709 - val_loss: 63.1713 - val_mape: 63.1713\n",
      "Epoch 26/10000\n",
      "3/3 [==============================] - 0s 22ms/step - loss: 45.2197 - mape: 45.2197 - val_loss: 53.7003 - val_mape: 53.7003\n",
      "Epoch 27/10000\n",
      "3/3 [==============================] - 0s 27ms/step - loss: 39.7638 - mape: 39.7638 - val_loss: 42.2654 - val_mape: 42.2654\n",
      "Epoch 28/10000\n",
      "3/3 [==============================] - 0s 24ms/step - loss: 33.0845 - mape: 33.0845 - val_loss: 29.0200 - val_mape: 29.0200\n",
      "Epoch 29/10000\n",
      "3/3 [==============================] - 0s 24ms/step - loss: 24.7016 - mape: 24.7016 - val_loss: 14.0839 - val_mape: 14.0839\n",
      "Epoch 30/10000\n",
      "3/3 [==============================] - 0s 25ms/step - loss: 19.2520 - mape: 19.2520 - val_loss: 11.4987 - val_mape: 11.4987\n",
      "Epoch 31/10000\n",
      "3/3 [==============================] - 0s 24ms/step - loss: 22.4061 - mape: 22.4061 - val_loss: 10.4822 - val_mape: 10.4822\n",
      "Epoch 32/10000\n",
      "3/3 [==============================] - 0s 19ms/step - loss: 20.8211 - mape: 20.8211 - val_loss: 9.3960 - val_mape: 9.3960\n",
      "Epoch 33/10000\n",
      "3/3 [==============================] - 0s 20ms/step - loss: 16.6037 - mape: 16.6037 - val_loss: 13.0672 - val_mape: 13.0672\n",
      "Epoch 34/10000\n",
      "3/3 [==============================] - 0s 19ms/step - loss: 15.9475 - mape: 15.9475 - val_loss: 16.1745 - val_mape: 16.1745\n",
      "Epoch 35/10000\n",
      "3/3 [==============================] - 0s 20ms/step - loss: 16.8869 - mape: 16.8869 - val_loss: 13.6392 - val_mape: 13.6392\n",
      "Epoch 36/10000\n",
      "3/3 [==============================] - 0s 21ms/step - loss: 14.6388 - mape: 14.6388 - val_loss: 8.6319 - val_mape: 8.6319\n",
      "Epoch 37/10000\n",
      "3/3 [==============================] - 0s 19ms/step - loss: 14.3221 - mape: 14.3221 - val_loss: 7.5131 - val_mape: 7.5131\n",
      "Epoch 38/10000\n",
      "3/3 [==============================] - 0s 20ms/step - loss: 14.5531 - mape: 14.5531 - val_loss: 8.1830 - val_mape: 8.1830\n",
      "Epoch 39/10000\n",
      "3/3 [==============================] - 0s 19ms/step - loss: 12.7905 - mape: 12.7905 - val_loss: 11.2262 - val_mape: 11.2262\n",
      "Epoch 40/10000\n",
      "3/3 [==============================] - 0s 20ms/step - loss: 13.0084 - mape: 13.0084 - val_loss: 12.2398 - val_mape: 12.2398\n",
      "Epoch 41/10000\n",
      "3/3 [==============================] - 0s 19ms/step - loss: 12.6650 - mape: 12.6650 - val_loss: 9.4836 - val_mape: 9.4836\n",
      "Epoch 42/10000\n",
      "3/3 [==============================] - 0s 20ms/step - loss: 11.5568 - mape: 11.5568 - val_loss: 7.5568 - val_mape: 7.5568\n",
      "Epoch 43/10000\n",
      "3/3 [==============================] - 0s 20ms/step - loss: 11.9773 - mape: 11.9773 - val_loss: 7.8266 - val_mape: 7.8266\n",
      "Epoch 44/10000\n",
      "3/3 [==============================] - 0s 19ms/step - loss: 11.0769 - mape: 11.0769 - val_loss: 10.1664 - val_mape: 10.1664\n",
      "Epoch 45/10000\n",
      "3/3 [==============================] - 0s 19ms/step - loss: 11.1677 - mape: 11.1677 - val_loss: 10.2672 - val_mape: 10.2672\n",
      "Epoch 46/10000\n",
      "3/3 [==============================] - 0s 20ms/step - loss: 10.8016 - mape: 10.8016 - val_loss: 8.1102 - val_mape: 8.1102\n",
      "Epoch 47/10000\n",
      "3/3 [==============================] - 0s 19ms/step - loss: 10.0577 - mape: 10.0577 - val_loss: 7.3976 - val_mape: 7.3976\n",
      "Epoch 48/10000\n",
      "3/3 [==============================] - 0s 19ms/step - loss: 9.8777 - mape: 9.8777 - val_loss: 8.1010 - val_mape: 8.1010\n",
      "Epoch 49/10000\n",
      "3/3 [==============================] - 0s 20ms/step - loss: 9.7051 - mape: 9.7051 - val_loss: 7.0831 - val_mape: 7.0831\n",
      "Epoch 50/10000\n",
      "3/3 [==============================] - 0s 20ms/step - loss: 9.5009 - mape: 9.5009 - val_loss: 6.6240 - val_mape: 6.6240\n",
      "Epoch 51/10000\n",
      "3/3 [==============================] - 0s 19ms/step - loss: 9.2119 - mape: 9.2119 - val_loss: 7.2922 - val_mape: 7.2922\n",
      "Epoch 52/10000\n",
      "3/3 [==============================] - 0s 25ms/step - loss: 8.9641 - mape: 8.9641 - val_loss: 6.8525 - val_mape: 6.8525\n",
      "Epoch 53/10000\n",
      "3/3 [==============================] - 0s 25ms/step - loss: 8.5894 - mape: 8.5894 - val_loss: 6.2593 - val_mape: 6.2593\n",
      "Epoch 54/10000\n",
      "3/3 [==============================] - 0s 20ms/step - loss: 8.3703 - mape: 8.3703 - val_loss: 6.8825 - val_mape: 6.8825\n",
      "Epoch 55/10000\n",
      "3/3 [==============================] - 0s 22ms/step - loss: 8.3522 - mape: 8.3522 - val_loss: 6.5677 - val_mape: 6.5677\n",
      "Epoch 56/10000\n",
      "3/3 [==============================] - 0s 22ms/step - loss: 8.0313 - mape: 8.0313 - val_loss: 6.0642 - val_mape: 6.0642\n",
      "Epoch 57/10000\n",
      "3/3 [==============================] - 0s 21ms/step - loss: 7.8713 - mape: 7.8713 - val_loss: 6.1751 - val_mape: 6.1751\n",
      "Epoch 58/10000\n",
      "3/3 [==============================] - 0s 22ms/step - loss: 7.6650 - mape: 7.6650 - val_loss: 5.9972 - val_mape: 5.9972\n",
      "Epoch 59/10000\n",
      "3/3 [==============================] - 0s 32ms/step - loss: 7.4541 - mape: 7.4541 - val_loss: 5.8942 - val_mape: 5.8942\n",
      "Epoch 60/10000\n"
     ]
    },
    {
     "name": "stdout",
     "output_type": "stream",
     "text": [
      "3/3 [==============================] - 0s 19ms/step - loss: 7.2388 - mape: 7.2388 - val_loss: 5.6387 - val_mape: 5.6387\n",
      "Epoch 61/10000\n",
      "3/3 [==============================] - 0s 20ms/step - loss: 7.0511 - mape: 7.0511 - val_loss: 5.7571 - val_mape: 5.7571\n",
      "Epoch 62/10000\n",
      "3/3 [==============================] - 0s 22ms/step - loss: 6.8438 - mape: 6.8438 - val_loss: 5.9137 - val_mape: 5.9137\n",
      "Epoch 63/10000\n",
      "3/3 [==============================] - 0s 22ms/step - loss: 6.8180 - mape: 6.8180 - val_loss: 5.5713 - val_mape: 5.5713\n",
      "Epoch 64/10000\n",
      "3/3 [==============================] - 0s 24ms/step - loss: 6.4991 - mape: 6.4991 - val_loss: 5.2413 - val_mape: 5.2413\n",
      "Epoch 65/10000\n",
      "3/3 [==============================] - 0s 23ms/step - loss: 6.4263 - mape: 6.4263 - val_loss: 5.7782 - val_mape: 5.7782\n",
      "Epoch 66/10000\n",
      "3/3 [==============================] - 0s 24ms/step - loss: 6.2984 - mape: 6.2984 - val_loss: 5.6929 - val_mape: 5.6929\n",
      "Epoch 67/10000\n",
      "3/3 [==============================] - 0s 22ms/step - loss: 6.0706 - mape: 6.0706 - val_loss: 5.2946 - val_mape: 5.2946\n",
      "Epoch 68/10000\n",
      "3/3 [==============================] - 0s 23ms/step - loss: 5.9129 - mape: 5.9129 - val_loss: 5.3783 - val_mape: 5.3783\n",
      "Epoch 69/10000\n",
      "3/3 [==============================] - 0s 23ms/step - loss: 5.6994 - mape: 5.6994 - val_loss: 5.5120 - val_mape: 5.5120\n",
      "Epoch 70/10000\n",
      "3/3 [==============================] - 0s 24ms/step - loss: 5.5301 - mape: 5.5301 - val_loss: 5.5909 - val_mape: 5.5909\n",
      "Epoch 71/10000\n",
      "3/3 [==============================] - 0s 22ms/step - loss: 5.4378 - mape: 5.4378 - val_loss: 5.1372 - val_mape: 5.1372\n",
      "Epoch 72/10000\n",
      "3/3 [==============================] - 0s 21ms/step - loss: 5.2674 - mape: 5.2674 - val_loss: 5.2061 - val_mape: 5.2061\n",
      "Epoch 73/10000\n",
      "3/3 [==============================] - 0s 24ms/step - loss: 5.0995 - mape: 5.0995 - val_loss: 5.2057 - val_mape: 5.2057\n",
      "Epoch 74/10000\n",
      "3/3 [==============================] - 0s 22ms/step - loss: 4.9702 - mape: 4.9702 - val_loss: 4.9475 - val_mape: 4.9475\n",
      "Epoch 75/10000\n",
      "3/3 [==============================] - 0s 22ms/step - loss: 4.8286 - mape: 4.8286 - val_loss: 5.3683 - val_mape: 5.3683\n",
      "Epoch 76/10000\n",
      "3/3 [==============================] - 0s 22ms/step - loss: 5.0645 - mape: 5.0645 - val_loss: 5.2655 - val_mape: 5.2655\n",
      "Epoch 77/10000\n",
      "3/3 [==============================] - 0s 23ms/step - loss: 4.7239 - mape: 4.7239 - val_loss: 4.8117 - val_mape: 4.8117\n",
      "Epoch 78/10000\n",
      "3/3 [==============================] - 0s 24ms/step - loss: 4.5596 - mape: 4.5596 - val_loss: 4.9068 - val_mape: 4.9068\n",
      "Epoch 79/10000\n",
      "3/3 [==============================] - 0s 24ms/step - loss: 4.2865 - mape: 4.2865 - val_loss: 4.6844 - val_mape: 4.6844\n",
      "Epoch 80/10000\n",
      "3/3 [==============================] - 0s 23ms/step - loss: 4.2129 - mape: 4.2129 - val_loss: 4.7780 - val_mape: 4.7780\n",
      "Epoch 81/10000\n",
      "3/3 [==============================] - 0s 21ms/step - loss: 3.9717 - mape: 3.9717 - val_loss: 4.7408 - val_mape: 4.7408\n",
      "Epoch 82/10000\n",
      "3/3 [==============================] - 0s 22ms/step - loss: 3.8754 - mape: 3.8754 - val_loss: 4.7198 - val_mape: 4.7198\n",
      "Epoch 83/10000\n",
      "3/3 [==============================] - 0s 21ms/step - loss: 3.7196 - mape: 3.7196 - val_loss: 4.7029 - val_mape: 4.7029\n",
      "Epoch 84/10000\n",
      "3/3 [==============================] - 0s 21ms/step - loss: 3.5928 - mape: 3.5928 - val_loss: 4.6814 - val_mape: 4.6814\n",
      "Epoch 85/10000\n",
      "3/3 [==============================] - 0s 22ms/step - loss: 3.4203 - mape: 3.4203 - val_loss: 4.7977 - val_mape: 4.7977\n",
      "Epoch 86/10000\n",
      "3/3 [==============================] - 0s 24ms/step - loss: 3.3042 - mape: 3.3042 - val_loss: 4.6132 - val_mape: 4.6132\n",
      "Epoch 87/10000\n",
      "3/3 [==============================] - 0s 22ms/step - loss: 3.2280 - mape: 3.2280 - val_loss: 4.7552 - val_mape: 4.7552\n",
      "Epoch 88/10000\n",
      "3/3 [==============================] - 0s 21ms/step - loss: 3.1000 - mape: 3.1000 - val_loss: 4.6806 - val_mape: 4.6806\n",
      "Epoch 89/10000\n",
      "3/3 [==============================] - 0s 20ms/step - loss: 2.9478 - mape: 2.9478 - val_loss: 4.6369 - val_mape: 4.6369\n",
      "Epoch 90/10000\n",
      "3/3 [==============================] - 0s 22ms/step - loss: 2.8872 - mape: 2.8872 - val_loss: 4.5854 - val_mape: 4.5854\n",
      "Epoch 91/10000\n",
      "3/3 [==============================] - 0s 22ms/step - loss: 2.7990 - mape: 2.7990 - val_loss: 4.5026 - val_mape: 4.5026\n",
      "Epoch 92/10000\n",
      "3/3 [==============================] - 0s 23ms/step - loss: 2.8395 - mape: 2.8395 - val_loss: 4.4542 - val_mape: 4.4542\n",
      "Epoch 93/10000\n",
      "3/3 [==============================] - 0s 23ms/step - loss: 2.6216 - mape: 2.6216 - val_loss: 4.2973 - val_mape: 4.2973\n",
      "Epoch 94/10000\n",
      "3/3 [==============================] - 0s 24ms/step - loss: 2.4807 - mape: 2.4807 - val_loss: 4.2858 - val_mape: 4.2858\n",
      "Epoch 95/10000\n",
      "3/3 [==============================] - 0s 22ms/step - loss: 2.8746 - mape: 2.8746 - val_loss: 4.0862 - val_mape: 4.0862\n",
      "Epoch 96/10000\n",
      "3/3 [==============================] - 0s 23ms/step - loss: 2.3454 - mape: 2.3454 - val_loss: 3.9867 - val_mape: 3.9867\n",
      "Epoch 97/10000\n",
      "3/3 [==============================] - 0s 22ms/step - loss: 2.3948 - mape: 2.3948 - val_loss: 3.9821 - val_mape: 3.9821\n",
      "Epoch 98/10000\n",
      "3/3 [==============================] - 0s 20ms/step - loss: 2.2253 - mape: 2.2253 - val_loss: 3.9005 - val_mape: 3.9005\n",
      "Epoch 99/10000\n",
      "3/3 [==============================] - 0s 20ms/step - loss: 1.9832 - mape: 1.9832 - val_loss: 3.9142 - val_mape: 3.9142\n",
      "Epoch 100/10000\n",
      "3/3 [==============================] - 0s 22ms/step - loss: 1.9857 - mape: 1.9857 - val_loss: 3.9747 - val_mape: 3.9747\n",
      "Epoch 101/10000\n",
      "3/3 [==============================] - 0s 21ms/step - loss: 1.8006 - mape: 1.8006 - val_loss: 4.0578 - val_mape: 4.0578\n",
      "Epoch 102/10000\n",
      "3/3 [==============================] - 0s 23ms/step - loss: 1.7173 - mape: 1.7173 - val_loss: 4.0838 - val_mape: 4.0838\n",
      "Epoch 103/10000\n",
      "3/3 [==============================] - 0s 23ms/step - loss: 1.6952 - mape: 1.6952 - val_loss: 4.0657 - val_mape: 4.0657\n",
      "Epoch 104/10000\n",
      "3/3 [==============================] - 0s 22ms/step - loss: 1.5726 - mape: 1.5726 - val_loss: 4.0858 - val_mape: 4.0858\n",
      "Epoch 105/10000\n",
      "3/3 [==============================] - 0s 21ms/step - loss: 1.5835 - mape: 1.5835 - val_loss: 4.1069 - val_mape: 4.1069\n",
      "Epoch 106/10000\n",
      "3/3 [==============================] - 0s 23ms/step - loss: 1.5211 - mape: 1.5211 - val_loss: 4.1123 - val_mape: 4.1123\n",
      "Epoch 107/10000\n",
      "3/3 [==============================] - 0s 21ms/step - loss: 1.4219 - mape: 1.4219 - val_loss: 4.0855 - val_mape: 4.0855\n",
      "Epoch 108/10000\n",
      "3/3 [==============================] - 0s 23ms/step - loss: 1.4735 - mape: 1.4735 - val_loss: 4.1239 - val_mape: 4.1239\n",
      "Epoch 109/10000\n",
      "3/3 [==============================] - 0s 21ms/step - loss: 1.5060 - mape: 1.5060 - val_loss: 4.0649 - val_mape: 4.0649\n",
      "Epoch 110/10000\n",
      "3/3 [==============================] - 0s 21ms/step - loss: 1.4508 - mape: 1.4508 - val_loss: 4.0370 - val_mape: 4.0370\n",
      "Epoch 111/10000\n",
      "3/3 [==============================] - 0s 22ms/step - loss: 1.4199 - mape: 1.4199 - val_loss: 3.9592 - val_mape: 3.9592\n",
      "Epoch 112/10000\n",
      "3/3 [==============================] - 0s 22ms/step - loss: 1.3563 - mape: 1.3563 - val_loss: 3.9089 - val_mape: 3.9089\n",
      "Epoch 113/10000\n",
      "3/3 [==============================] - 0s 21ms/step - loss: 1.2494 - mape: 1.2494 - val_loss: 3.9094 - val_mape: 3.9094\n",
      "Epoch 114/10000\n",
      "3/3 [==============================] - 0s 21ms/step - loss: 1.4556 - mape: 1.4556 - val_loss: 3.9672 - val_mape: 3.9672\n",
      "Epoch 115/10000\n",
      "3/3 [==============================] - 0s 21ms/step - loss: 1.3021 - mape: 1.3021 - val_loss: 4.1052 - val_mape: 4.1052\n",
      "Epoch 116/10000\n",
      "3/3 [==============================] - 0s 20ms/step - loss: 1.6254 - mape: 1.6254 - val_loss: 4.1940 - val_mape: 4.1940\n",
      "Epoch 117/10000\n",
      "3/3 [==============================] - 0s 23ms/step - loss: 1.2831 - mape: 1.2831 - val_loss: 4.2013 - val_mape: 4.2013\n",
      "Epoch 118/10000\n",
      "3/3 [==============================] - 0s 23ms/step - loss: 1.4135 - mape: 1.4135 - val_loss: 4.2891 - val_mape: 4.2891\n",
      "Epoch 119/10000\n",
      "3/3 [==============================] - 0s 27ms/step - loss: 1.3060 - mape: 1.3060 - val_loss: 4.2389 - val_mape: 4.2389\n",
      "Epoch 120/10000\n"
     ]
    },
    {
     "name": "stdout",
     "output_type": "stream",
     "text": [
      "3/3 [==============================] - 0s 24ms/step - loss: 1.0536 - mape: 1.0536 - val_loss: 4.1656 - val_mape: 4.1656\n",
      "Epoch 121/10000\n",
      "3/3 [==============================] - 0s 23ms/step - loss: 1.3013 - mape: 1.3013 - val_loss: 4.1219 - val_mape: 4.1219\n",
      "Epoch 122/10000\n",
      "3/3 [==============================] - 0s 19ms/step - loss: 1.2456 - mape: 1.2456 - val_loss: 4.2027 - val_mape: 4.2027\n",
      "Epoch 123/10000\n",
      "3/3 [==============================] - 0s 20ms/step - loss: 1.2714 - mape: 1.2714 - val_loss: 4.0269 - val_mape: 4.0269\n",
      "Epoch 124/10000\n",
      "3/3 [==============================] - 0s 20ms/step - loss: 1.2487 - mape: 1.2487 - val_loss: 4.0305 - val_mape: 4.0305\n",
      "Epoch 125/10000\n",
      "3/3 [==============================] - 0s 19ms/step - loss: 0.9802 - mape: 0.9802 - val_loss: 3.9804 - val_mape: 3.9804\n",
      "Epoch 126/10000\n",
      "3/3 [==============================] - 0s 20ms/step - loss: 0.9092 - mape: 0.9092 - val_loss: 3.9594 - val_mape: 3.9594\n",
      "Epoch 127/10000\n",
      "3/3 [==============================] - 0s 19ms/step - loss: 0.8981 - mape: 0.8981 - val_loss: 3.9412 - val_mape: 3.9412\n",
      "Epoch 128/10000\n",
      "3/3 [==============================] - 0s 23ms/step - loss: 0.9156 - mape: 0.9156 - val_loss: 3.9443 - val_mape: 3.9443\n",
      "Epoch 129/10000\n",
      "3/3 [==============================] - 0s 21ms/step - loss: 0.8243 - mape: 0.8243 - val_loss: 3.9767 - val_mape: 3.9767\n",
      "Epoch 130/10000\n",
      "3/3 [==============================] - 0s 19ms/step - loss: 1.0439 - mape: 1.0439 - val_loss: 4.0273 - val_mape: 4.0273\n",
      "Epoch 131/10000\n",
      "3/3 [==============================] - 0s 19ms/step - loss: 0.8782 - mape: 0.8782 - val_loss: 4.0326 - val_mape: 4.0326\n",
      "Epoch 132/10000\n",
      "3/3 [==============================] - 0s 21ms/step - loss: 0.9855 - mape: 0.9855 - val_loss: 4.0716 - val_mape: 4.0716\n",
      "Epoch 133/10000\n",
      "3/3 [==============================] - 0s 21ms/step - loss: 0.7951 - mape: 0.7951 - val_loss: 4.1333 - val_mape: 4.1333\n",
      "Epoch 134/10000\n",
      "3/3 [==============================] - 0s 21ms/step - loss: 0.7901 - mape: 0.7901 - val_loss: 4.0853 - val_mape: 4.0853\n",
      "Epoch 135/10000\n",
      "3/3 [==============================] - 0s 19ms/step - loss: 0.7860 - mape: 0.7860 - val_loss: 4.1429 - val_mape: 4.1429\n",
      "Epoch 136/10000\n",
      "3/3 [==============================] - 0s 20ms/step - loss: 1.1144 - mape: 1.1144 - val_loss: 4.0085 - val_mape: 4.0085\n",
      "Epoch 137/10000\n",
      "3/3 [==============================] - 0s 19ms/step - loss: 0.8861 - mape: 0.8861 - val_loss: 4.0018 - val_mape: 4.0018\n",
      "Epoch 138/10000\n",
      "3/3 [==============================] - 0s 21ms/step - loss: 0.8064 - mape: 0.8064 - val_loss: 3.9962 - val_mape: 3.9962\n",
      "Epoch 139/10000\n",
      "3/3 [==============================] - 0s 21ms/step - loss: 0.7184 - mape: 0.7184 - val_loss: 3.9317 - val_mape: 3.9317\n",
      "Epoch 140/10000\n",
      "3/3 [==============================] - 0s 21ms/step - loss: 0.7201 - mape: 0.7201 - val_loss: 3.9349 - val_mape: 3.9349\n",
      "Epoch 141/10000\n",
      "3/3 [==============================] - 0s 25ms/step - loss: 0.8804 - mape: 0.8804 - val_loss: 3.8515 - val_mape: 3.8515\n",
      "Epoch 142/10000\n",
      "3/3 [==============================] - 0s 25ms/step - loss: 0.6889 - mape: 0.6889 - val_loss: 3.7790 - val_mape: 3.7790\n",
      "Epoch 143/10000\n",
      "3/3 [==============================] - 0s 20ms/step - loss: 0.7237 - mape: 0.7237 - val_loss: 3.9104 - val_mape: 3.9104\n",
      "Epoch 144/10000\n",
      "3/3 [==============================] - 0s 20ms/step - loss: 0.7291 - mape: 0.7291 - val_loss: 3.7628 - val_mape: 3.7628\n",
      "Epoch 145/10000\n",
      "3/3 [==============================] - 0s 21ms/step - loss: 0.6983 - mape: 0.6983 - val_loss: 3.7626 - val_mape: 3.7626\n",
      "Epoch 146/10000\n",
      "3/3 [==============================] - 0s 21ms/step - loss: 0.6108 - mape: 0.6108 - val_loss: 3.7560 - val_mape: 3.7560\n",
      "Epoch 147/10000\n",
      "3/3 [==============================] - 0s 23ms/step - loss: 0.6366 - mape: 0.6366 - val_loss: 3.7326 - val_mape: 3.7326\n",
      "Epoch 148/10000\n",
      "3/3 [==============================] - 0s 31ms/step - loss: 0.6330 - mape: 0.6330 - val_loss: 3.7127 - val_mape: 3.7127\n",
      "Epoch 149/10000\n",
      "3/3 [==============================] - 0s 22ms/step - loss: 0.6178 - mape: 0.6178 - val_loss: 3.6507 - val_mape: 3.6507\n",
      "Epoch 150/10000\n",
      "3/3 [==============================] - 0s 25ms/step - loss: 0.6557 - mape: 0.6557 - val_loss: 3.6355 - val_mape: 3.6355\n",
      "Epoch 151/10000\n",
      "3/3 [==============================] - 0s 24ms/step - loss: 0.6362 - mape: 0.6362 - val_loss: 3.6164 - val_mape: 3.6164\n",
      "Epoch 152/10000\n",
      "3/3 [==============================] - 0s 19ms/step - loss: 0.7137 - mape: 0.7137 - val_loss: 3.6180 - val_mape: 3.6180\n",
      "Epoch 153/10000\n",
      "3/3 [==============================] - 0s 20ms/step - loss: 0.6846 - mape: 0.6846 - val_loss: 3.6033 - val_mape: 3.6033\n",
      "Epoch 154/10000\n",
      "3/3 [==============================] - 0s 20ms/step - loss: 0.6216 - mape: 0.6216 - val_loss: 3.5416 - val_mape: 3.5416\n",
      "Epoch 155/10000\n",
      "3/3 [==============================] - 0s 23ms/step - loss: 0.7058 - mape: 0.7058 - val_loss: 3.5352 - val_mape: 3.5352\n",
      "Epoch 156/10000\n",
      "3/3 [==============================] - 0s 22ms/step - loss: 0.7105 - mape: 0.7105 - val_loss: 3.5002 - val_mape: 3.5002\n",
      "Epoch 157/10000\n",
      "3/3 [==============================] - 0s 19ms/step - loss: 0.7400 - mape: 0.7400 - val_loss: 3.5204 - val_mape: 3.5204\n",
      "Epoch 158/10000\n",
      "3/3 [==============================] - 0s 19ms/step - loss: 0.5924 - mape: 0.5924 - val_loss: 3.5415 - val_mape: 3.5415\n",
      "Epoch 159/10000\n",
      "3/3 [==============================] - 0s 19ms/step - loss: 0.6785 - mape: 0.6785 - val_loss: 3.4998 - val_mape: 3.4998\n",
      "Epoch 160/10000\n",
      "3/3 [==============================] - 0s 18ms/step - loss: 0.6522 - mape: 0.6522 - val_loss: 3.5532 - val_mape: 3.5532\n",
      "Epoch 161/10000\n",
      "3/3 [==============================] - 0s 22ms/step - loss: 0.6437 - mape: 0.6437 - val_loss: 3.5449 - val_mape: 3.5449\n",
      "Epoch 162/10000\n",
      "3/3 [==============================] - 0s 21ms/step - loss: 0.7054 - mape: 0.7054 - val_loss: 3.5903 - val_mape: 3.5903\n",
      "Epoch 163/10000\n",
      "3/3 [==============================] - 0s 19ms/step - loss: 1.0514 - mape: 1.0514 - val_loss: 3.5513 - val_mape: 3.5513\n",
      "Epoch 164/10000\n",
      "3/3 [==============================] - 0s 20ms/step - loss: 0.8038 - mape: 0.8038 - val_loss: 3.6701 - val_mape: 3.6701\n",
      "Epoch 165/10000\n",
      "3/3 [==============================] - 0s 21ms/step - loss: 0.7742 - mape: 0.7742 - val_loss: 3.5081 - val_mape: 3.5081\n",
      "Epoch 166/10000\n",
      "3/3 [==============================] - 0s 20ms/step - loss: 0.5819 - mape: 0.5819 - val_loss: 3.5478 - val_mape: 3.5478\n",
      "Epoch 167/10000\n",
      "3/3 [==============================] - 0s 22ms/step - loss: 0.6707 - mape: 0.6707 - val_loss: 3.4291 - val_mape: 3.4291\n",
      "Epoch 168/10000\n",
      "3/3 [==============================] - 0s 21ms/step - loss: 0.7915 - mape: 0.7915 - val_loss: 3.4938 - val_mape: 3.4938\n",
      "Epoch 169/10000\n",
      "3/3 [==============================] - 0s 21ms/step - loss: 0.8029 - mape: 0.8029 - val_loss: 3.4662 - val_mape: 3.4662\n",
      "Epoch 170/10000\n",
      "3/3 [==============================] - 0s 23ms/step - loss: 0.8957 - mape: 0.8957 - val_loss: 3.4233 - val_mape: 3.4233\n",
      "Epoch 171/10000\n",
      "3/3 [==============================] - 0s 23ms/step - loss: 0.7467 - mape: 0.7467 - val_loss: 3.4346 - val_mape: 3.4346\n",
      "Epoch 172/10000\n",
      "3/3 [==============================] - 0s 22ms/step - loss: 0.7918 - mape: 0.7918 - val_loss: 3.3558 - val_mape: 3.3558\n",
      "Epoch 173/10000\n",
      "3/3 [==============================] - 0s 21ms/step - loss: 0.9558 - mape: 0.9558 - val_loss: 3.4613 - val_mape: 3.4613\n",
      "Epoch 174/10000\n",
      "3/3 [==============================] - 0s 19ms/step - loss: 0.7183 - mape: 0.7183 - val_loss: 3.2839 - val_mape: 3.2839\n",
      "Epoch 175/10000\n",
      "3/3 [==============================] - 0s 21ms/step - loss: 0.8730 - mape: 0.8730 - val_loss: 3.3302 - val_mape: 3.3302\n",
      "Epoch 176/10000\n",
      "3/3 [==============================] - 0s 21ms/step - loss: 0.6334 - mape: 0.6334 - val_loss: 3.3137 - val_mape: 3.3137\n",
      "Epoch 177/10000\n",
      "3/3 [==============================] - 0s 22ms/step - loss: 0.6201 - mape: 0.6201 - val_loss: 3.2656 - val_mape: 3.2656\n",
      "Epoch 178/10000\n",
      "3/3 [==============================] - 0s 22ms/step - loss: 0.6439 - mape: 0.6439 - val_loss: 3.2880 - val_mape: 3.2880\n",
      "Epoch 179/10000\n",
      "3/3 [==============================] - 0s 22ms/step - loss: 0.5663 - mape: 0.5663 - val_loss: 3.2621 - val_mape: 3.2621\n",
      "Epoch 180/10000\n"
     ]
    },
    {
     "name": "stdout",
     "output_type": "stream",
     "text": [
      "3/3 [==============================] - 0s 22ms/step - loss: 0.5260 - mape: 0.5260 - val_loss: 3.2178 - val_mape: 3.2178\n",
      "Epoch 181/10000\n",
      "3/3 [==============================] - 0s 21ms/step - loss: 0.5586 - mape: 0.5586 - val_loss: 3.2175 - val_mape: 3.2175\n",
      "Epoch 182/10000\n",
      "3/3 [==============================] - 0s 20ms/step - loss: 0.5353 - mape: 0.5353 - val_loss: 3.2182 - val_mape: 3.2182\n",
      "Epoch 183/10000\n",
      "3/3 [==============================] - 0s 18ms/step - loss: 0.4873 - mape: 0.4873 - val_loss: 3.2491 - val_mape: 3.2491\n",
      "Epoch 184/10000\n",
      "3/3 [==============================] - 0s 22ms/step - loss: 0.4824 - mape: 0.4824 - val_loss: 3.3250 - val_mape: 3.3250\n",
      "Epoch 185/10000\n",
      "3/3 [==============================] - 0s 21ms/step - loss: 0.4837 - mape: 0.4837 - val_loss: 3.3221 - val_mape: 3.3221\n",
      "Epoch 186/10000\n",
      "3/3 [==============================] - 0s 20ms/step - loss: 0.5586 - mape: 0.5586 - val_loss: 3.3681 - val_mape: 3.3681\n",
      "Epoch 187/10000\n",
      "3/3 [==============================] - 0s 20ms/step - loss: 0.5750 - mape: 0.5750 - val_loss: 3.3310 - val_mape: 3.3310\n",
      "Epoch 188/10000\n",
      "3/3 [==============================] - 0s 21ms/step - loss: 0.7642 - mape: 0.7642 - val_loss: 3.3848 - val_mape: 3.3848\n",
      "Epoch 189/10000\n",
      "3/3 [==============================] - 0s 19ms/step - loss: 0.6532 - mape: 0.6532 - val_loss: 3.3875 - val_mape: 3.3875\n",
      "Epoch 190/10000\n",
      "3/3 [==============================] - 0s 22ms/step - loss: 0.6733 - mape: 0.6733 - val_loss: 3.3829 - val_mape: 3.3829\n",
      "Epoch 191/10000\n",
      "3/3 [==============================] - 0s 22ms/step - loss: 0.6307 - mape: 0.6307 - val_loss: 3.3619 - val_mape: 3.3619\n",
      "Epoch 192/10000\n",
      "3/3 [==============================] - 0s 20ms/step - loss: 0.5757 - mape: 0.5757 - val_loss: 3.3101 - val_mape: 3.3101\n",
      "Epoch 193/10000\n",
      "3/3 [==============================] - 0s 20ms/step - loss: 0.4738 - mape: 0.4738 - val_loss: 3.2472 - val_mape: 3.2472\n",
      "Epoch 194/10000\n",
      "3/3 [==============================] - 0s 20ms/step - loss: 0.5071 - mape: 0.5071 - val_loss: 3.2684 - val_mape: 3.2684\n",
      "Epoch 195/10000\n",
      "3/3 [==============================] - 0s 21ms/step - loss: 0.5731 - mape: 0.5731 - val_loss: 3.2256 - val_mape: 3.2256\n",
      "Epoch 196/10000\n",
      "3/3 [==============================] - 0s 21ms/step - loss: 0.6981 - mape: 0.6981 - val_loss: 3.3687 - val_mape: 3.3687\n",
      "Epoch 197/10000\n",
      "3/3 [==============================] - 0s 22ms/step - loss: 0.8156 - mape: 0.8156 - val_loss: 3.2622 - val_mape: 3.2622\n",
      "Epoch 198/10000\n",
      "3/3 [==============================] - 0s 18ms/step - loss: 0.8027 - mape: 0.8027 - val_loss: 3.2764 - val_mape: 3.2764\n",
      "Epoch 199/10000\n",
      "3/3 [==============================] - 0s 20ms/step - loss: 0.6913 - mape: 0.6913 - val_loss: 3.3855 - val_mape: 3.3855\n",
      "Epoch 200/10000\n",
      "3/3 [==============================] - 0s 20ms/step - loss: 0.6546 - mape: 0.6546 - val_loss: 3.3207 - val_mape: 3.3207\n",
      "Epoch 201/10000\n",
      "3/3 [==============================] - 0s 21ms/step - loss: 0.5066 - mape: 0.5066 - val_loss: 3.4083 - val_mape: 3.4083\n",
      "Epoch 202/10000\n",
      "3/3 [==============================] - 0s 22ms/step - loss: 0.5870 - mape: 0.5870 - val_loss: 3.3112 - val_mape: 3.3112\n",
      "Epoch 203/10000\n",
      "3/3 [==============================] - 0s 21ms/step - loss: 0.7806 - mape: 0.7806 - val_loss: 3.4392 - val_mape: 3.4392\n",
      "Epoch 204/10000\n",
      "3/3 [==============================] - 0s 21ms/step - loss: 0.6033 - mape: 0.6033 - val_loss: 3.3930 - val_mape: 3.3930\n",
      "Epoch 205/10000\n",
      "3/3 [==============================] - 0s 21ms/step - loss: 0.6245 - mape: 0.6245 - val_loss: 3.3813 - val_mape: 3.3813\n",
      "Epoch 206/10000\n",
      "3/3 [==============================] - 0s 20ms/step - loss: 0.6738 - mape: 0.6738 - val_loss: 3.4999 - val_mape: 3.4999\n",
      "Epoch 207/10000\n",
      "3/3 [==============================] - 0s 23ms/step - loss: 0.6015 - mape: 0.6015 - val_loss: 3.4781 - val_mape: 3.4781\n",
      "Epoch 208/10000\n",
      "3/3 [==============================] - 0s 22ms/step - loss: 0.5633 - mape: 0.5633 - val_loss: 3.5476 - val_mape: 3.5476\n",
      "Epoch 209/10000\n",
      "3/3 [==============================] - 0s 23ms/step - loss: 0.8992 - mape: 0.8992 - val_loss: 3.3509 - val_mape: 3.3509\n",
      "Epoch 210/10000\n",
      "3/3 [==============================] - 0s 25ms/step - loss: 0.8926 - mape: 0.8926 - val_loss: 3.4099 - val_mape: 3.4099\n",
      "Epoch 211/10000\n",
      "3/3 [==============================] - 0s 25ms/step - loss: 0.7377 - mape: 0.7377 - val_loss: 3.5668 - val_mape: 3.5668\n",
      "Epoch 212/10000\n",
      "3/3 [==============================] - 0s 24ms/step - loss: 0.6561 - mape: 0.6561 - val_loss: 3.2866 - val_mape: 3.2866\n",
      "Epoch 213/10000\n",
      "3/3 [==============================] - 0s 23ms/step - loss: 0.8808 - mape: 0.8808 - val_loss: 3.4738 - val_mape: 3.4738\n",
      "Epoch 214/10000\n",
      "3/3 [==============================] - 0s 20ms/step - loss: 0.7543 - mape: 0.7543 - val_loss: 3.3666 - val_mape: 3.3666\n",
      "Epoch 215/10000\n",
      "3/3 [==============================] - 0s 20ms/step - loss: 0.4240 - mape: 0.4240 - val_loss: 3.3648 - val_mape: 3.3648\n",
      "Epoch 216/10000\n",
      "3/3 [==============================] - 0s 21ms/step - loss: 0.4232 - mape: 0.4232 - val_loss: 3.3854 - val_mape: 3.3854\n",
      "Epoch 217/10000\n",
      "3/3 [==============================] - 0s 21ms/step - loss: 0.4959 - mape: 0.4959 - val_loss: 3.3044 - val_mape: 3.3044\n",
      "Epoch 218/10000\n",
      "3/3 [==============================] - 0s 20ms/step - loss: 0.4766 - mape: 0.4766 - val_loss: 3.2408 - val_mape: 3.2408\n",
      "Epoch 219/10000\n",
      "3/3 [==============================] - 0s 19ms/step - loss: 0.4717 - mape: 0.4717 - val_loss: 3.2291 - val_mape: 3.2291\n",
      "Epoch 220/10000\n",
      "3/3 [==============================] - 0s 23ms/step - loss: 0.4126 - mape: 0.4126 - val_loss: 3.2061 - val_mape: 3.2061\n",
      "Epoch 221/10000\n",
      "3/3 [==============================] - 0s 21ms/step - loss: 0.4098 - mape: 0.4098 - val_loss: 3.2219 - val_mape: 3.2219\n",
      "Epoch 222/10000\n",
      "3/3 [==============================] - 0s 22ms/step - loss: 0.3930 - mape: 0.3930 - val_loss: 3.2060 - val_mape: 3.2060\n",
      "Epoch 223/10000\n",
      "3/3 [==============================] - 0s 23ms/step - loss: 0.4135 - mape: 0.4135 - val_loss: 3.2127 - val_mape: 3.2127\n",
      "Epoch 224/10000\n",
      "3/3 [==============================] - 0s 23ms/step - loss: 0.4045 - mape: 0.4045 - val_loss: 3.1978 - val_mape: 3.1978\n",
      "Epoch 225/10000\n",
      "3/3 [==============================] - 0s 22ms/step - loss: 0.5092 - mape: 0.5092 - val_loss: 3.2478 - val_mape: 3.2478\n",
      "Epoch 226/10000\n",
      "3/3 [==============================] - 0s 20ms/step - loss: 0.5649 - mape: 0.5649 - val_loss: 3.2620 - val_mape: 3.2620\n",
      "Epoch 227/10000\n",
      "3/3 [==============================] - 0s 19ms/step - loss: 0.5379 - mape: 0.5379 - val_loss: 3.2792 - val_mape: 3.2792\n",
      "Epoch 228/10000\n",
      "3/3 [==============================] - 0s 21ms/step - loss: 0.4407 - mape: 0.4407 - val_loss: 3.4200 - val_mape: 3.4200\n",
      "Epoch 229/10000\n",
      "3/3 [==============================] - 0s 30ms/step - loss: 0.5049 - mape: 0.5049 - val_loss: 3.3797 - val_mape: 3.3797\n",
      "Epoch 230/10000\n",
      "3/3 [==============================] - 0s 20ms/step - loss: 0.5403 - mape: 0.5403 - val_loss: 3.5536 - val_mape: 3.5536\n",
      "Epoch 231/10000\n",
      "3/3 [==============================] - 0s 21ms/step - loss: 0.6504 - mape: 0.6504 - val_loss: 3.3855 - val_mape: 3.3855\n",
      "Epoch 232/10000\n",
      "3/3 [==============================] - 0s 25ms/step - loss: 0.4855 - mape: 0.4855 - val_loss: 3.3763 - val_mape: 3.3763\n",
      "Epoch 233/10000\n",
      "3/3 [==============================] - 0s 23ms/step - loss: 0.4771 - mape: 0.4771 - val_loss: 3.3373 - val_mape: 3.3373\n",
      "Epoch 234/10000\n",
      "3/3 [==============================] - 0s 20ms/step - loss: 0.4264 - mape: 0.4264 - val_loss: 3.1918 - val_mape: 3.1918\n",
      "Epoch 235/10000\n",
      "3/3 [==============================] - 0s 19ms/step - loss: 0.4208 - mape: 0.4208 - val_loss: 3.1141 - val_mape: 3.1141\n",
      "Epoch 236/10000\n",
      "3/3 [==============================] - 0s 20ms/step - loss: 0.3829 - mape: 0.3829 - val_loss: 3.0517 - val_mape: 3.0517\n",
      "Epoch 237/10000\n",
      "3/3 [==============================] - 0s 25ms/step - loss: 0.3899 - mape: 0.3899 - val_loss: 3.1083 - val_mape: 3.1083\n",
      "Epoch 238/10000\n",
      "3/3 [==============================] - 0s 21ms/step - loss: 0.5064 - mape: 0.5064 - val_loss: 3.0233 - val_mape: 3.0233\n",
      "Epoch 239/10000\n",
      "3/3 [==============================] - 0s 22ms/step - loss: 0.4093 - mape: 0.4093 - val_loss: 3.1002 - val_mape: 3.1002\n",
      "Epoch 240/10000\n"
     ]
    },
    {
     "name": "stdout",
     "output_type": "stream",
     "text": [
      "3/3 [==============================] - 0s 22ms/step - loss: 0.5265 - mape: 0.5265 - val_loss: 3.0632 - val_mape: 3.0632\n",
      "Epoch 241/10000\n",
      "3/3 [==============================] - 0s 21ms/step - loss: 0.4586 - mape: 0.4586 - val_loss: 3.1947 - val_mape: 3.1947\n",
      "Epoch 242/10000\n",
      "3/3 [==============================] - 0s 19ms/step - loss: 0.5283 - mape: 0.5283 - val_loss: 3.1000 - val_mape: 3.1000\n",
      "Epoch 243/10000\n",
      "3/3 [==============================] - 0s 21ms/step - loss: 0.5245 - mape: 0.5245 - val_loss: 3.2392 - val_mape: 3.2392\n",
      "Epoch 244/10000\n",
      "3/3 [==============================] - 0s 19ms/step - loss: 0.4539 - mape: 0.4539 - val_loss: 3.1614 - val_mape: 3.1614\n",
      "Epoch 245/10000\n",
      "3/3 [==============================] - 0s 20ms/step - loss: 0.5586 - mape: 0.5586 - val_loss: 3.2517 - val_mape: 3.2517\n",
      "Epoch 246/10000\n",
      "3/3 [==============================] - 0s 22ms/step - loss: 0.4581 - mape: 0.4581 - val_loss: 3.2751 - val_mape: 3.2751\n",
      "Epoch 247/10000\n",
      "3/3 [==============================] - 0s 23ms/step - loss: 0.5940 - mape: 0.5940 - val_loss: 3.2183 - val_mape: 3.2183\n",
      "Epoch 248/10000\n",
      "3/3 [==============================] - 0s 23ms/step - loss: 0.5805 - mape: 0.5805 - val_loss: 3.1676 - val_mape: 3.1676\n",
      "Epoch 249/10000\n",
      "3/3 [==============================] - 0s 24ms/step - loss: 0.5102 - mape: 0.5102 - val_loss: 3.3043 - val_mape: 3.3043\n",
      "Epoch 250/10000\n",
      "3/3 [==============================] - 0s 22ms/step - loss: 0.3975 - mape: 0.3975 - val_loss: 3.1912 - val_mape: 3.1912\n",
      "Epoch 251/10000\n",
      "3/3 [==============================] - 0s 22ms/step - loss: 0.4990 - mape: 0.4990 - val_loss: 3.3180 - val_mape: 3.3180\n",
      "Epoch 252/10000\n",
      "3/3 [==============================] - 0s 24ms/step - loss: 0.4601 - mape: 0.4601 - val_loss: 3.2741 - val_mape: 3.2741\n",
      "Epoch 253/10000\n",
      "3/3 [==============================] - 0s 23ms/step - loss: 0.3729 - mape: 0.3729 - val_loss: 3.2627 - val_mape: 3.2627\n",
      "Epoch 254/10000\n",
      "3/3 [==============================] - 0s 23ms/step - loss: 0.4853 - mape: 0.4853 - val_loss: 3.3858 - val_mape: 3.3858\n",
      "Epoch 255/10000\n",
      "3/3 [==============================] - 0s 21ms/step - loss: 0.6785 - mape: 0.6785 - val_loss: 3.2348 - val_mape: 3.2348\n",
      "Epoch 256/10000\n",
      "3/3 [==============================] - 0s 22ms/step - loss: 0.4759 - mape: 0.4759 - val_loss: 3.3317 - val_mape: 3.3317\n",
      "Epoch 257/10000\n",
      "3/3 [==============================] - 0s 21ms/step - loss: 0.6618 - mape: 0.6618 - val_loss: 3.2496 - val_mape: 3.2496\n",
      "Epoch 258/10000\n",
      "3/3 [==============================] - 0s 21ms/step - loss: 0.3942 - mape: 0.3942 - val_loss: 3.3721 - val_mape: 3.3721\n",
      "Epoch 259/10000\n",
      "3/3 [==============================] - 0s 21ms/step - loss: 0.3823 - mape: 0.3823 - val_loss: 3.2987 - val_mape: 3.2987\n",
      "Epoch 260/10000\n",
      "3/3 [==============================] - 0s 21ms/step - loss: 0.5351 - mape: 0.5351 - val_loss: 3.3940 - val_mape: 3.3940\n",
      "Epoch 261/10000\n",
      "3/3 [==============================] - 0s 20ms/step - loss: 0.3432 - mape: 0.3432 - val_loss: 3.5087 - val_mape: 3.5087\n",
      "Epoch 262/10000\n",
      "3/3 [==============================] - 0s 23ms/step - loss: 0.4345 - mape: 0.4345 - val_loss: 3.4987 - val_mape: 3.4987\n",
      "Epoch 263/10000\n",
      "3/3 [==============================] - 0s 23ms/step - loss: 0.3765 - mape: 0.3765 - val_loss: 3.5433 - val_mape: 3.5433\n",
      "Epoch 264/10000\n",
      "3/3 [==============================] - 0s 22ms/step - loss: 0.3438 - mape: 0.3438 - val_loss: 3.4949 - val_mape: 3.4949\n",
      "Epoch 265/10000\n",
      "3/3 [==============================] - 0s 23ms/step - loss: 0.4137 - mape: 0.4137 - val_loss: 3.5490 - val_mape: 3.5490\n",
      "Epoch 266/10000\n",
      "3/3 [==============================] - 0s 23ms/step - loss: 0.4309 - mape: 0.4309 - val_loss: 3.5597 - val_mape: 3.5597\n",
      "Epoch 267/10000\n",
      "3/3 [==============================] - 0s 22ms/step - loss: 0.4131 - mape: 0.4131 - val_loss: 3.4127 - val_mape: 3.4127\n",
      "Epoch 268/10000\n",
      "3/3 [==============================] - 0s 20ms/step - loss: 0.4613 - mape: 0.4613 - val_loss: 3.4622 - val_mape: 3.4622\n",
      "Epoch 269/10000\n",
      "3/3 [==============================] - 0s 22ms/step - loss: 0.3439 - mape: 0.3439 - val_loss: 3.3274 - val_mape: 3.3274\n",
      "Epoch 270/10000\n",
      "3/3 [==============================] - 0s 22ms/step - loss: 0.3778 - mape: 0.3778 - val_loss: 3.3951 - val_mape: 3.3951\n",
      "Epoch 271/10000\n",
      "3/3 [==============================] - 0s 23ms/step - loss: 0.4011 - mape: 0.4011 - val_loss: 3.2664 - val_mape: 3.2664\n",
      "Epoch 272/10000\n",
      "3/3 [==============================] - 0s 21ms/step - loss: 0.5685 - mape: 0.5685 - val_loss: 3.3488 - val_mape: 3.3488\n",
      "Epoch 273/10000\n",
      "3/3 [==============================] - 0s 21ms/step - loss: 0.5661 - mape: 0.5661 - val_loss: 3.2249 - val_mape: 3.2249\n",
      "Epoch 274/10000\n",
      "3/3 [==============================] - 0s 20ms/step - loss: 0.3965 - mape: 0.3965 - val_loss: 3.4491 - val_mape: 3.4491\n",
      "Epoch 275/10000\n",
      "3/3 [==============================] - 0s 20ms/step - loss: 0.6828 - mape: 0.6828 - val_loss: 3.2971 - val_mape: 3.2971\n",
      "Epoch 276/10000\n",
      "3/3 [==============================] - 0s 21ms/step - loss: 0.4521 - mape: 0.4521 - val_loss: 3.2315 - val_mape: 3.2315\n",
      "Epoch 277/10000\n",
      "3/3 [==============================] - 0s 20ms/step - loss: 0.4009 - mape: 0.4009 - val_loss: 3.4648 - val_mape: 3.4648\n",
      "Epoch 278/10000\n",
      "3/3 [==============================] - 0s 21ms/step - loss: 0.6181 - mape: 0.6181 - val_loss: 3.2249 - val_mape: 3.2249\n",
      "Epoch 279/10000\n",
      "3/3 [==============================] - 0s 21ms/step - loss: 0.6420 - mape: 0.6420 - val_loss: 3.3429 - val_mape: 3.3429\n",
      "Epoch 280/10000\n",
      "3/3 [==============================] - 0s 22ms/step - loss: 0.5467 - mape: 0.5467 - val_loss: 3.5182 - val_mape: 3.5182\n",
      "Epoch 281/10000\n",
      "3/3 [==============================] - 0s 20ms/step - loss: 0.4461 - mape: 0.4461 - val_loss: 3.4146 - val_mape: 3.4146\n",
      "Epoch 282/10000\n",
      "3/3 [==============================] - 0s 21ms/step - loss: 0.4545 - mape: 0.4545 - val_loss: 3.5269 - val_mape: 3.5269\n",
      "Epoch 283/10000\n",
      "3/3 [==============================] - 0s 21ms/step - loss: 0.5621 - mape: 0.5621 - val_loss: 3.3414 - val_mape: 3.3414\n",
      "Epoch 284/10000\n",
      "3/3 [==============================] - 0s 23ms/step - loss: 0.5990 - mape: 0.5990 - val_loss: 3.4817 - val_mape: 3.4817\n",
      "Epoch 285/10000\n",
      "3/3 [==============================] - 0s 23ms/step - loss: 0.6430 - mape: 0.6430 - val_loss: 3.2923 - val_mape: 3.2923\n",
      "Epoch 286/10000\n",
      "3/3 [==============================] - 0s 22ms/step - loss: 0.5379 - mape: 0.5379 - val_loss: 3.4235 - val_mape: 3.4235\n",
      "Epoch 287/10000\n",
      "3/3 [==============================] - 0s 22ms/step - loss: 0.5622 - mape: 0.5622 - val_loss: 3.3357 - val_mape: 3.3357\n",
      "Epoch 288/10000\n",
      "3/3 [==============================] - 0s 28ms/step - loss: 0.5712 - mape: 0.5712 - val_loss: 3.6715 - val_mape: 3.6715\n"
     ]
    },
    {
     "data": {
      "text/plain": [
       "<keras.callbacks.History at 0x7f0b08123f70>"
      ]
     },
     "execution_count": 29,
     "metadata": {},
     "output_type": "execute_result"
    }
   ],
   "source": [
    "model1.fit(X_train_x, y_train,batch_size = 32, validation_data=(X_val_x, y_val), epochs=10000, callbacks = (es))"
   ]
  },
  {
   "cell_type": "code",
   "execution_count": 30,
   "id": "734cb845",
   "metadata": {},
   "outputs": [
    {
     "name": "stdout",
     "output_type": "stream",
     "text": [
      "1/1 [==============================] - 1s 828ms/step\n"
     ]
    },
    {
     "data": {
      "text/plain": [
       "array([[259.94223],\n",
       "       [260.7297 ],\n",
       "       [257.87268],\n",
       "       [260.57758],\n",
       "       [260.12   ],\n",
       "       [259.447  ],\n",
       "       [258.78946],\n",
       "       [258.53094],\n",
       "       [260.3737 ],\n",
       "       [260.12274],\n",
       "       [262.21927],\n",
       "       [264.92996]], dtype=float32)"
      ]
     },
     "execution_count": 30,
     "metadata": {},
     "output_type": "execute_result"
    }
   ],
   "source": [
    "model1.predict(X_test_x)"
   ]
  },
  {
   "cell_type": "code",
   "execution_count": 31,
   "id": "a616f9a3",
   "metadata": {
    "scrolled": true
   },
   "outputs": [
    {
     "name": "stdout",
     "output_type": "stream",
     "text": [
      "1/1 [==============================] - 0s 23ms/step\n"
     ]
    }
   ],
   "source": [
    "test_predictions = list(model1.predict(X_test_x))\n",
    "test_results = pd.DataFrame(columns = ['test_predictions', 'test_actual'])\n",
    "\n",
    "#train_predictions\n",
    "\n",
    "test_results['date'] = list(y_test.index)\n",
    "test_results['test_predictions'] = [x[0] for x in test_predictions]\n",
    "test_results['test_actual'] = list(y_test)\n"
   ]
  },
  {
   "cell_type": "code",
   "execution_count": 32,
   "id": "d7d5af01",
   "metadata": {
    "scrolled": true
   },
   "outputs": [
    {
     "data": {
      "text/html": [
       "<div>\n",
       "<style scoped>\n",
       "    .dataframe tbody tr th:only-of-type {\n",
       "        vertical-align: middle;\n",
       "    }\n",
       "\n",
       "    .dataframe tbody tr th {\n",
       "        vertical-align: top;\n",
       "    }\n",
       "\n",
       "    .dataframe thead th {\n",
       "        text-align: right;\n",
       "    }\n",
       "</style>\n",
       "<table border=\"1\" class=\"dataframe\">\n",
       "  <thead>\n",
       "    <tr style=\"text-align: right;\">\n",
       "      <th></th>\n",
       "      <th>test_predictions</th>\n",
       "      <th>test_actual</th>\n",
       "      <th>date</th>\n",
       "    </tr>\n",
       "  </thead>\n",
       "  <tbody>\n",
       "    <tr>\n",
       "      <th>0</th>\n",
       "      <td>259.942230</td>\n",
       "      <td>265.5</td>\n",
       "      <td>2017-01-01</td>\n",
       "    </tr>\n",
       "    <tr>\n",
       "      <th>1</th>\n",
       "      <td>260.729706</td>\n",
       "      <td>268.4</td>\n",
       "      <td>2017-02-01</td>\n",
       "    </tr>\n",
       "    <tr>\n",
       "      <th>2</th>\n",
       "      <td>257.872681</td>\n",
       "      <td>269.3</td>\n",
       "      <td>2017-03-01</td>\n",
       "    </tr>\n",
       "    <tr>\n",
       "      <th>3</th>\n",
       "      <td>260.577576</td>\n",
       "      <td>270.6</td>\n",
       "      <td>2017-04-01</td>\n",
       "    </tr>\n",
       "    <tr>\n",
       "      <th>4</th>\n",
       "      <td>260.119995</td>\n",
       "      <td>271.7</td>\n",
       "      <td>2017-05-01</td>\n",
       "    </tr>\n",
       "    <tr>\n",
       "      <th>5</th>\n",
       "      <td>259.446991</td>\n",
       "      <td>272.3</td>\n",
       "      <td>2017-06-01</td>\n",
       "    </tr>\n",
       "    <tr>\n",
       "      <th>6</th>\n",
       "      <td>258.789459</td>\n",
       "      <td>272.9</td>\n",
       "      <td>2017-07-01</td>\n",
       "    </tr>\n",
       "    <tr>\n",
       "      <th>7</th>\n",
       "      <td>258.530945</td>\n",
       "      <td>274.7</td>\n",
       "      <td>2017-08-01</td>\n",
       "    </tr>\n",
       "    <tr>\n",
       "      <th>8</th>\n",
       "      <td>260.373688</td>\n",
       "      <td>275.1</td>\n",
       "      <td>2017-09-01</td>\n",
       "    </tr>\n",
       "    <tr>\n",
       "      <th>9</th>\n",
       "      <td>260.122742</td>\n",
       "      <td>275.3</td>\n",
       "      <td>2017-10-01</td>\n",
       "    </tr>\n",
       "    <tr>\n",
       "      <th>10</th>\n",
       "      <td>262.219269</td>\n",
       "      <td>275.8</td>\n",
       "      <td>2017-11-01</td>\n",
       "    </tr>\n",
       "    <tr>\n",
       "      <th>11</th>\n",
       "      <td>264.929962</td>\n",
       "      <td>278.1</td>\n",
       "      <td>2017-12-01</td>\n",
       "    </tr>\n",
       "  </tbody>\n",
       "</table>\n",
       "</div>"
      ],
      "text/plain": [
       "    test_predictions  test_actual       date\n",
       "0         259.942230        265.5 2017-01-01\n",
       "1         260.729706        268.4 2017-02-01\n",
       "2         257.872681        269.3 2017-03-01\n",
       "3         260.577576        270.6 2017-04-01\n",
       "4         260.119995        271.7 2017-05-01\n",
       "5         259.446991        272.3 2017-06-01\n",
       "6         258.789459        272.9 2017-07-01\n",
       "7         258.530945        274.7 2017-08-01\n",
       "8         260.373688        275.1 2017-09-01\n",
       "9         260.122742        275.3 2017-10-01\n",
       "10        262.219269        275.8 2017-11-01\n",
       "11        264.929962        278.1 2017-12-01"
      ]
     },
     "execution_count": 32,
     "metadata": {},
     "output_type": "execute_result"
    }
   ],
   "source": [
    "test_results"
   ]
  },
  {
   "cell_type": "code",
   "execution_count": 33,
   "id": "e09c6b51",
   "metadata": {
    "scrolled": true
   },
   "outputs": [],
   "source": [
    "test_results.set_index('date', inplace=True)"
   ]
  },
  {
   "cell_type": "code",
   "execution_count": 34,
   "id": "8fb470a9",
   "metadata": {
    "scrolled": false
   },
   "outputs": [
    {
     "data": {
      "text/plain": [
       "<matplotlib.legend.Legend at 0x7f0ae8d968e0>"
      ]
     },
     "execution_count": 34,
     "metadata": {},
     "output_type": "execute_result"
    },
    {
     "data": {
      "image/png": "[encoded data removed]",
      "text/plain": [
       "<Figure size 640x480 with 1 Axes>"
      ]
     },
     "metadata": {},
     "output_type": "display_data"
    }
   ],
   "source": [
    "import matplotlib.pyplot as plt\n",
    "\n",
    "plt.plot(y)\n",
    "plt.plot(test_results['test_predictions'], label='prediction')\n",
    "plt.plot(test_results['test_actual'], label='actual')\n",
    "plt.title('2017-18 Inflation Prediciton')\n",
    "plt.legend()\n",
    "#plt.savefig('LSTM_new')\n",
    "\n"
   ]
  },
  {
   "cell_type": "markdown",
   "id": "592badff",
   "metadata": {},
   "source": [
    "# LSTM 2018-2019"
   ]
  },
  {
   "cell_type": "code",
   "execution_count": 35,
   "id": "9d4f705a",
   "metadata": {},
   "outputs": [
    {
     "data": {
      "text/plain": [
       "((84, 11), (84,), (24, 11), (24,), (12, 11), (12,))"
      ]
     },
     "execution_count": 35,
     "metadata": {},
     "output_type": "execute_result"
    }
   ],
   "source": [
    "X_train1, y_train1 = X[:84], y[:84]\n",
    "X_val1, y_val1 = X[84:108], y[84:108]\n",
    "X_test1, y_test1 = X[108:120], y[108:120]\n",
    "X_train1.shape, y_train1.shape, X_val1.shape, y_val1.shape, X_test1.shape, y_test1.shape"
   ]
  },
  {
   "cell_type": "code",
   "execution_count": 36,
   "id": "c0a758c4",
   "metadata": {},
   "outputs": [
    {
     "data": {
      "text/plain": [
       "TensorShape([84, 1, 1])"
      ]
     },
     "execution_count": 36,
     "metadata": {},
     "output_type": "execute_result"
    }
   ],
   "source": [
    "y_train1_x = expand_dims(y_train1, -1)\n",
    "y_train1_x = expand_dims(y_train1_x, -1)\n",
    "\n",
    "y_train1_x.shape"
   ]
  },
  {
   "cell_type": "code",
   "execution_count": 37,
   "id": "eb26c948",
   "metadata": {},
   "outputs": [],
   "source": [
    "y_val1_x = expand_dims(y_val1, -1)\n",
    "y_val1_x = expand_dims(y_val1_x, -1)"
   ]
  },
  {
   "cell_type": "code",
   "execution_count": 38,
   "id": "38deec10",
   "metadata": {},
   "outputs": [],
   "source": [
    "X_test1_x = expand_dims(X_test1, -2)"
   ]
  },
  {
   "cell_type": "code",
   "execution_count": 39,
   "id": "6d04d224",
   "metadata": {},
   "outputs": [
    {
     "data": {
      "text/plain": [
       "TensorShape([84, 1, 11])"
      ]
     },
     "execution_count": 39,
     "metadata": {},
     "output_type": "execute_result"
    }
   ],
   "source": [
    "X_train1_x = expand_dims(X_train1, -2)\n",
    "X_train1_x.shape"
   ]
  },
  {
   "cell_type": "code",
   "execution_count": 40,
   "id": "b5f089c9",
   "metadata": {},
   "outputs": [
    {
     "data": {
      "text/plain": [
       "TensorShape([24, 1, 11])"
      ]
     },
     "execution_count": 40,
     "metadata": {},
     "output_type": "execute_result"
    }
   ],
   "source": [
    "X_val1_x = expand_dims(X_val1, -2)\n",
    "X_val1_x.shape"
   ]
  },
  {
   "cell_type": "code",
   "execution_count": 41,
   "id": "2be4a046",
   "metadata": {},
   "outputs": [],
   "source": [
    "lr_scheduler = ExponentialDecay(initial_learning_rate=0.001, decay_steps= 10_000, decay_rate=0.7)\n",
    "adam = Adam(learning_rate=lr_scheduler)\n",
    "es = EarlyStopping(patience=50, restore_best_weights=True)"
   ]
  },
  {
   "cell_type": "code",
   "execution_count": 42,
   "id": "d497234c",
   "metadata": {},
   "outputs": [
    {
     "name": "stdout",
     "output_type": "stream",
     "text": [
      "Model: \"sequential_1\"\n",
      "_________________________________________________________________\n",
      " Layer (type)                Output Shape              Param #   \n",
      "=================================================================\n",
      " normalization_1 (Normalizat  (None, None, 11)         23        \n",
      " ion)                                                            \n",
      "                                                                 \n",
      " lstm_2 (LSTM)               (None, None, 100)         44800     \n",
      "                                                                 \n",
      " lstm_3 (LSTM)               (None, 50)                30200     \n",
      "                                                                 \n",
      " flatten_1 (Flatten)         (None, 50)                0         \n",
      "                                                                 \n",
      " dense_4 (Dense)             (None, 100)               5100      \n",
      "                                                                 \n",
      " dense_5 (Dense)             (None, 50)                5050      \n",
      "                                                                 \n",
      " dense_6 (Dense)             (None, 25)                1275      \n",
      "                                                                 \n",
      " dense_7 (Dense)             (None, 1)                 26        \n",
      "                                                                 \n",
      "=================================================================\n",
      "Total params: 86,474\n",
      "Trainable params: 86,451\n",
      "Non-trainable params: 23\n",
      "_________________________________________________________________\n"
     ]
    }
   ],
   "source": [
    "normalizer = Normalization()\n",
    "normalizer.adapt(X_train1_x)\n",
    "\n",
    "model2 = Sequential()\n",
    "model2.add(normalizer)\n",
    "\n",
    "model2.add(LSTM(units = 100, activation='tanh', return_sequences = True))\n",
    "model2.add(LSTM(units = 50 , activation='tanh', return_sequences = False))\n",
    "\n",
    "model2.add(Flatten())\n",
    "\n",
    "model2.add(Dense(100,activation =  'relu'))\n",
    "model2.add(Dense(50,activation =  'relu'))\n",
    "model2.add(Dense(25,activation =  'relu'))\n",
    "\n",
    "model2.add(Dense(1, activation = 'linear'))\n",
    "\n",
    "model2.summary()"
   ]
  },
  {
   "cell_type": "code",
   "execution_count": 43,
   "id": "5c2ba558",
   "metadata": {},
   "outputs": [],
   "source": [
    "model2.compile(loss= mape, optimizer= adam, metrics=['mape'])"
   ]
  },
  {
   "cell_type": "code",
   "execution_count": 44,
   "id": "4a6d9c66",
   "metadata": {
    "scrolled": true
   },
   "outputs": [
    {
     "name": "stdout",
     "output_type": "stream",
     "text": [
      "Epoch 1/10000\n",
      "3/3 [==============================] - 4s 437ms/step - loss: 99.9953 - mape: 99.9953 - val_loss: 99.9821 - val_mape: 99.9821\n",
      "Epoch 2/10000\n",
      "3/3 [==============================] - 0s 25ms/step - loss: 99.9808 - mape: 99.9808 - val_loss: 99.9657 - val_mape: 99.9657\n",
      "Epoch 3/10000\n",
      "3/3 [==============================] - 0s 27ms/step - loss: 99.9632 - mape: 99.9632 - val_loss: 99.9433 - val_mape: 99.9433\n",
      "Epoch 4/10000\n",
      "3/3 [==============================] - 0s 26ms/step - loss: 99.9400 - mape: 99.9400 - val_loss: 99.9127 - val_mape: 99.9127\n",
      "Epoch 5/10000\n",
      "3/3 [==============================] - 0s 25ms/step - loss: 99.9105 - mape: 99.9105 - val_loss: 99.8733 - val_mape: 99.8733\n",
      "Epoch 6/10000\n",
      "3/3 [==============================] - 0s 25ms/step - loss: 99.8732 - mape: 99.8732 - val_loss: 99.8239 - val_mape: 99.8239\n",
      "Epoch 7/10000\n",
      "3/3 [==============================] - 0s 26ms/step - loss: 99.8231 - mape: 99.8231 - val_loss: 99.7574 - val_mape: 99.7574\n",
      "Epoch 8/10000\n",
      "3/3 [==============================] - 0s 24ms/step - loss: 99.7568 - mape: 99.7568 - val_loss: 99.6692 - val_mape: 99.6692\n",
      "Epoch 9/10000\n",
      "3/3 [==============================] - 0s 21ms/step - loss: 99.6664 - mape: 99.6664 - val_loss: 99.5489 - val_mape: 99.5489\n",
      "Epoch 10/10000\n",
      "3/3 [==============================] - 0s 25ms/step - loss: 99.5400 - mape: 99.5400 - val_loss: 99.3859 - val_mape: 99.3859\n",
      "Epoch 11/10000\n",
      "3/3 [==============================] - 0s 23ms/step - loss: 99.3709 - mape: 99.3709 - val_loss: 99.1657 - val_mape: 99.1657\n",
      "Epoch 12/10000\n",
      "3/3 [==============================] - 0s 23ms/step - loss: 99.1401 - mape: 99.1401 - val_loss: 98.8703 - val_mape: 98.8703\n",
      "Epoch 13/10000\n",
      "3/3 [==============================] - 0s 31ms/step - loss: 98.8375 - mape: 98.8375 - val_loss: 98.4692 - val_mape: 98.4692\n",
      "Epoch 14/10000\n",
      "3/3 [==============================] - 0s 25ms/step - loss: 98.3893 - mape: 98.3893 - val_loss: 97.9462 - val_mape: 97.9462\n",
      "Epoch 15/10000\n",
      "3/3 [==============================] - 0s 24ms/step - loss: 97.8170 - mape: 97.8170 - val_loss: 97.2425 - val_mape: 97.2425\n",
      "Epoch 16/10000\n",
      "3/3 [==============================] - 0s 21ms/step - loss: 97.0541 - mape: 97.0541 - val_loss: 96.3582 - val_mape: 96.3582\n",
      "Epoch 17/10000\n",
      "3/3 [==============================] - 0s 20ms/step - loss: 96.0122 - mape: 96.0122 - val_loss: 95.2889 - val_mape: 95.2889\n",
      "Epoch 18/10000\n",
      "3/3 [==============================] - 0s 22ms/step - loss: 94.6453 - mape: 94.6453 - val_loss: 93.9331 - val_mape: 93.9331\n",
      "Epoch 19/10000\n",
      "3/3 [==============================] - 0s 22ms/step - loss: 92.9204 - mape: 92.9204 - val_loss: 92.2334 - val_mape: 92.2334\n",
      "Epoch 20/10000\n",
      "3/3 [==============================] - 0s 23ms/step - loss: 90.6858 - mape: 90.6858 - val_loss: 90.1973 - val_mape: 90.1973\n",
      "Epoch 21/10000\n",
      "3/3 [==============================] - 0s 21ms/step - loss: 87.8909 - mape: 87.8909 - val_loss: 87.7593 - val_mape: 87.7593\n",
      "Epoch 22/10000\n",
      "3/3 [==============================] - 0s 22ms/step - loss: 84.2288 - mape: 84.2288 - val_loss: 84.9142 - val_mape: 84.9142\n",
      "Epoch 23/10000\n",
      "3/3 [==============================] - 0s 22ms/step - loss: 80.1312 - mape: 80.1312 - val_loss: 81.4774 - val_mape: 81.4774\n",
      "Epoch 24/10000\n",
      "3/3 [==============================] - 0s 22ms/step - loss: 74.6255 - mape: 74.6255 - val_loss: 77.4691 - val_mape: 77.4691\n",
      "Epoch 25/10000\n",
      "3/3 [==============================] - 0s 21ms/step - loss: 68.3890 - mape: 68.3890 - val_loss: 72.8567 - val_mape: 72.8567\n",
      "Epoch 26/10000\n",
      "3/3 [==============================] - 0s 21ms/step - loss: 60.7270 - mape: 60.7270 - val_loss: 67.4699 - val_mape: 67.4699\n",
      "Epoch 27/10000\n",
      "3/3 [==============================] - 0s 21ms/step - loss: 52.6612 - mape: 52.6612 - val_loss: 61.3145 - val_mape: 61.3145\n",
      "Epoch 28/10000\n",
      "3/3 [==============================] - 0s 20ms/step - loss: 46.3430 - mape: 46.3430 - val_loss: 53.9801 - val_mape: 53.9801\n",
      "Epoch 29/10000\n",
      "3/3 [==============================] - 0s 22ms/step - loss: 41.6310 - mape: 41.6310 - val_loss: 45.3457 - val_mape: 45.3457\n",
      "Epoch 30/10000\n",
      "3/3 [==============================] - 0s 21ms/step - loss: 37.3376 - mape: 37.3376 - val_loss: 35.4966 - val_mape: 35.4966\n",
      "Epoch 31/10000\n",
      "3/3 [==============================] - 0s 21ms/step - loss: 32.3860 - mape: 32.3860 - val_loss: 24.7870 - val_mape: 24.7870\n",
      "Epoch 32/10000\n",
      "3/3 [==============================] - 0s 20ms/step - loss: 26.3985 - mape: 26.3985 - val_loss: 13.1614 - val_mape: 13.1614\n",
      "Epoch 33/10000\n",
      "3/3 [==============================] - 0s 20ms/step - loss: 19.3554 - mape: 19.3554 - val_loss: 2.7927 - val_mape: 2.7927\n",
      "Epoch 34/10000\n",
      "3/3 [==============================] - 0s 20ms/step - loss: 12.8786 - mape: 12.8786 - val_loss: 11.4555 - val_mape: 11.4555\n",
      "Epoch 35/10000\n",
      "3/3 [==============================] - 0s 21ms/step - loss: 13.0044 - mape: 13.0044 - val_loss: 16.3536 - val_mape: 16.3536\n",
      "Epoch 36/10000\n",
      "3/3 [==============================] - 0s 20ms/step - loss: 13.6149 - mape: 13.6149 - val_loss: 14.7010 - val_mape: 14.7010\n",
      "Epoch 37/10000\n",
      "3/3 [==============================] - 0s 20ms/step - loss: 11.8828 - mape: 11.8828 - val_loss: 8.4262 - val_mape: 8.4262\n",
      "Epoch 38/10000\n",
      "3/3 [==============================] - 0s 20ms/step - loss: 8.6938 - mape: 8.6938 - val_loss: 3.2831 - val_mape: 3.2831\n",
      "Epoch 39/10000\n",
      "3/3 [==============================] - 0s 21ms/step - loss: 6.8128 - mape: 6.8128 - val_loss: 5.4441 - val_mape: 5.4441\n",
      "Epoch 40/10000\n",
      "3/3 [==============================] - 0s 20ms/step - loss: 7.0297 - mape: 7.0297 - val_loss: 6.1864 - val_mape: 6.1864\n",
      "Epoch 41/10000\n",
      "3/3 [==============================] - 0s 20ms/step - loss: 6.7132 - mape: 6.7132 - val_loss: 4.4304 - val_mape: 4.4304\n",
      "Epoch 42/10000\n",
      "3/3 [==============================] - 0s 18ms/step - loss: 6.1189 - mape: 6.1189 - val_loss: 3.1445 - val_mape: 3.1445\n",
      "Epoch 43/10000\n",
      "3/3 [==============================] - 0s 18ms/step - loss: 5.4002 - mape: 5.4002 - val_loss: 2.9864 - val_mape: 2.9864\n",
      "Epoch 44/10000\n",
      "3/3 [==============================] - 0s 21ms/step - loss: 5.3278 - mape: 5.3278 - val_loss: 2.9066 - val_mape: 2.9066\n",
      "Epoch 45/10000\n",
      "3/3 [==============================] - 0s 20ms/step - loss: 4.9349 - mape: 4.9349 - val_loss: 2.8950 - val_mape: 2.8950\n",
      "Epoch 46/10000\n",
      "3/3 [==============================] - 0s 19ms/step - loss: 4.6100 - mape: 4.6100 - val_loss: 3.0045 - val_mape: 3.0045\n",
      "Epoch 47/10000\n",
      "3/3 [==============================] - 0s 20ms/step - loss: 4.3532 - mape: 4.3532 - val_loss: 3.7374 - val_mape: 3.7374\n",
      "Epoch 48/10000\n",
      "3/3 [==============================] - 0s 19ms/step - loss: 4.1760 - mape: 4.1760 - val_loss: 2.9473 - val_mape: 2.9473\n",
      "Epoch 49/10000\n",
      "3/3 [==============================] - 0s 18ms/step - loss: 3.9591 - mape: 3.9591 - val_loss: 2.7380 - val_mape: 2.7380\n",
      "Epoch 50/10000\n",
      "3/3 [==============================] - 0s 20ms/step - loss: 3.8529 - mape: 3.8529 - val_loss: 2.9397 - val_mape: 2.9397\n",
      "Epoch 51/10000\n",
      "3/3 [==============================] - 0s 20ms/step - loss: 3.6769 - mape: 3.6769 - val_loss: 3.1262 - val_mape: 3.1262\n",
      "Epoch 52/10000\n",
      "3/3 [==============================] - 0s 21ms/step - loss: 3.6153 - mape: 3.6153 - val_loss: 3.5395 - val_mape: 3.5395\n",
      "Epoch 53/10000\n",
      "3/3 [==============================] - 0s 23ms/step - loss: 3.3803 - mape: 3.3803 - val_loss: 4.0297 - val_mape: 4.0297\n",
      "Epoch 54/10000\n",
      "3/3 [==============================] - 0s 22ms/step - loss: 3.4846 - mape: 3.4846 - val_loss: 3.2638 - val_mape: 3.2638\n",
      "Epoch 55/10000\n",
      "3/3 [==============================] - 0s 25ms/step - loss: 3.2722 - mape: 3.2722 - val_loss: 3.0055 - val_mape: 3.0055\n",
      "Epoch 56/10000\n",
      "3/3 [==============================] - 0s 22ms/step - loss: 3.0721 - mape: 3.0721 - val_loss: 3.7183 - val_mape: 3.7183\n",
      "Epoch 57/10000\n",
      "3/3 [==============================] - 0s 22ms/step - loss: 3.0228 - mape: 3.0228 - val_loss: 3.7557 - val_mape: 3.7557\n",
      "Epoch 58/10000\n",
      "3/3 [==============================] - 0s 21ms/step - loss: 2.9349 - mape: 2.9349 - val_loss: 3.5368 - val_mape: 3.5368\n",
      "Epoch 59/10000\n",
      "3/3 [==============================] - 0s 22ms/step - loss: 2.8255 - mape: 2.8255 - val_loss: 3.3006 - val_mape: 3.3006\n",
      "Epoch 60/10000\n",
      "3/3 [==============================] - 0s 21ms/step - loss: 2.7973 - mape: 2.7973 - val_loss: 3.4796 - val_mape: 3.4796\n"
     ]
    },
    {
     "name": "stdout",
     "output_type": "stream",
     "text": [
      "Epoch 61/10000\n",
      "3/3 [==============================] - 0s 22ms/step - loss: 2.6619 - mape: 2.6619 - val_loss: 3.3299 - val_mape: 3.3299\n",
      "Epoch 62/10000\n",
      "3/3 [==============================] - 0s 22ms/step - loss: 2.6013 - mape: 2.6013 - val_loss: 3.0458 - val_mape: 3.0458\n",
      "Epoch 63/10000\n",
      "3/3 [==============================] - 0s 21ms/step - loss: 2.5153 - mape: 2.5153 - val_loss: 3.1466 - val_mape: 3.1466\n",
      "Epoch 64/10000\n",
      "3/3 [==============================] - 0s 23ms/step - loss: 2.4561 - mape: 2.4561 - val_loss: 2.9979 - val_mape: 2.9979\n",
      "Epoch 65/10000\n",
      "3/3 [==============================] - 0s 24ms/step - loss: 2.4109 - mape: 2.4109 - val_loss: 2.9029 - val_mape: 2.9029\n",
      "Epoch 66/10000\n",
      "3/3 [==============================] - 0s 24ms/step - loss: 2.3228 - mape: 2.3228 - val_loss: 3.8699 - val_mape: 3.8699\n",
      "Epoch 67/10000\n",
      "3/3 [==============================] - 0s 23ms/step - loss: 2.3519 - mape: 2.3519 - val_loss: 3.5669 - val_mape: 3.5669\n",
      "Epoch 68/10000\n",
      "3/3 [==============================] - 0s 23ms/step - loss: 2.2644 - mape: 2.2644 - val_loss: 2.3936 - val_mape: 2.3936\n",
      "Epoch 69/10000\n",
      "3/3 [==============================] - 0s 20ms/step - loss: 2.2722 - mape: 2.2722 - val_loss: 3.5627 - val_mape: 3.5627\n",
      "Epoch 70/10000\n",
      "3/3 [==============================] - 0s 19ms/step - loss: 2.1349 - mape: 2.1349 - val_loss: 3.1917 - val_mape: 3.1917\n",
      "Epoch 71/10000\n",
      "3/3 [==============================] - 0s 20ms/step - loss: 2.0434 - mape: 2.0434 - val_loss: 3.0798 - val_mape: 3.0798\n",
      "Epoch 72/10000\n",
      "3/3 [==============================] - 0s 24ms/step - loss: 1.9829 - mape: 1.9829 - val_loss: 3.4278 - val_mape: 3.4278\n",
      "Epoch 73/10000\n",
      "3/3 [==============================] - 0s 22ms/step - loss: 1.9836 - mape: 1.9836 - val_loss: 3.1687 - val_mape: 3.1687\n",
      "Epoch 74/10000\n",
      "3/3 [==============================] - 0s 22ms/step - loss: 1.9148 - mape: 1.9148 - val_loss: 2.6962 - val_mape: 2.6962\n",
      "Epoch 75/10000\n",
      "3/3 [==============================] - 0s 23ms/step - loss: 1.8571 - mape: 1.8571 - val_loss: 3.3015 - val_mape: 3.3015\n",
      "Epoch 76/10000\n",
      "3/3 [==============================] - 0s 23ms/step - loss: 1.7463 - mape: 1.7463 - val_loss: 2.7639 - val_mape: 2.7639\n",
      "Epoch 77/10000\n",
      "3/3 [==============================] - 0s 23ms/step - loss: 1.7888 - mape: 1.7888 - val_loss: 3.4156 - val_mape: 3.4156\n",
      "Epoch 78/10000\n",
      "3/3 [==============================] - 0s 23ms/step - loss: 1.7414 - mape: 1.7414 - val_loss: 2.9611 - val_mape: 2.9611\n",
      "Epoch 79/10000\n",
      "3/3 [==============================] - 0s 20ms/step - loss: 1.6582 - mape: 1.6582 - val_loss: 3.2823 - val_mape: 3.2823\n",
      "Epoch 80/10000\n",
      "3/3 [==============================] - 0s 23ms/step - loss: 1.5887 - mape: 1.5887 - val_loss: 3.8378 - val_mape: 3.8378\n",
      "Epoch 81/10000\n",
      "3/3 [==============================] - 0s 20ms/step - loss: 1.5939 - mape: 1.5939 - val_loss: 3.0525 - val_mape: 3.0525\n",
      "Epoch 82/10000\n",
      "3/3 [==============================] - 0s 24ms/step - loss: 1.5644 - mape: 1.5644 - val_loss: 2.8685 - val_mape: 2.8685\n",
      "Epoch 83/10000\n",
      "3/3 [==============================] - 0s 26ms/step - loss: 1.5222 - mape: 1.5222 - val_loss: 3.0691 - val_mape: 3.0691\n",
      "Epoch 84/10000\n",
      "3/3 [==============================] - 0s 26ms/step - loss: 1.4647 - mape: 1.4647 - val_loss: 3.4357 - val_mape: 3.4357\n",
      "Epoch 85/10000\n",
      "3/3 [==============================] - 0s 27ms/step - loss: 1.3841 - mape: 1.3841 - val_loss: 2.8953 - val_mape: 2.8953\n",
      "Epoch 86/10000\n",
      "3/3 [==============================] - 0s 21ms/step - loss: 1.3509 - mape: 1.3509 - val_loss: 3.3067 - val_mape: 3.3067\n",
      "Epoch 87/10000\n",
      "3/3 [==============================] - 0s 20ms/step - loss: 1.3084 - mape: 1.3084 - val_loss: 3.4231 - val_mape: 3.4231\n",
      "Epoch 88/10000\n",
      "3/3 [==============================] - 0s 20ms/step - loss: 1.2874 - mape: 1.2874 - val_loss: 3.5705 - val_mape: 3.5705\n",
      "Epoch 89/10000\n",
      "3/3 [==============================] - 0s 19ms/step - loss: 1.2931 - mape: 1.2931 - val_loss: 3.1584 - val_mape: 3.1584\n",
      "Epoch 90/10000\n",
      "3/3 [==============================] - 0s 19ms/step - loss: 1.2286 - mape: 1.2286 - val_loss: 4.1008 - val_mape: 4.1008\n",
      "Epoch 91/10000\n",
      "3/3 [==============================] - 0s 19ms/step - loss: 1.2286 - mape: 1.2286 - val_loss: 3.2592 - val_mape: 3.2592\n",
      "Epoch 92/10000\n",
      "3/3 [==============================] - 0s 21ms/step - loss: 1.1700 - mape: 1.1700 - val_loss: 3.8162 - val_mape: 3.8162\n",
      "Epoch 93/10000\n",
      "3/3 [==============================] - 0s 20ms/step - loss: 1.2176 - mape: 1.2176 - val_loss: 3.4910 - val_mape: 3.4910\n",
      "Epoch 94/10000\n",
      "3/3 [==============================] - 0s 20ms/step - loss: 1.2191 - mape: 1.2191 - val_loss: 3.8131 - val_mape: 3.8131\n",
      "Epoch 95/10000\n",
      "3/3 [==============================] - 0s 19ms/step - loss: 1.0724 - mape: 1.0724 - val_loss: 3.3587 - val_mape: 3.3587\n",
      "Epoch 96/10000\n",
      "3/3 [==============================] - 0s 18ms/step - loss: 1.0984 - mape: 1.0984 - val_loss: 3.4921 - val_mape: 3.4921\n",
      "Epoch 97/10000\n",
      "3/3 [==============================] - 0s 20ms/step - loss: 1.3229 - mape: 1.3229 - val_loss: 3.0700 - val_mape: 3.0700\n",
      "Epoch 98/10000\n",
      "3/3 [==============================] - 0s 21ms/step - loss: 1.0982 - mape: 1.0982 - val_loss: 3.7183 - val_mape: 3.7183\n",
      "Epoch 99/10000\n",
      "3/3 [==============================] - 0s 19ms/step - loss: 1.0565 - mape: 1.0565 - val_loss: 3.6608 - val_mape: 3.6608\n",
      "Epoch 100/10000\n",
      "3/3 [==============================] - 0s 20ms/step - loss: 0.9890 - mape: 0.9890 - val_loss: 3.3964 - val_mape: 3.3964\n",
      "Epoch 101/10000\n",
      "3/3 [==============================] - 0s 21ms/step - loss: 0.9918 - mape: 0.9918 - val_loss: 3.7889 - val_mape: 3.7889\n",
      "Epoch 102/10000\n",
      "3/3 [==============================] - 0s 27ms/step - loss: 1.0518 - mape: 1.0518 - val_loss: 3.4390 - val_mape: 3.4390\n",
      "Epoch 103/10000\n",
      "3/3 [==============================] - 0s 30ms/step - loss: 0.9204 - mape: 0.9204 - val_loss: 3.6761 - val_mape: 3.6761\n",
      "Epoch 104/10000\n",
      "3/3 [==============================] - 0s 24ms/step - loss: 0.9385 - mape: 0.9385 - val_loss: 3.2658 - val_mape: 3.2658\n",
      "Epoch 105/10000\n",
      "3/3 [==============================] - 0s 23ms/step - loss: 0.9305 - mape: 0.9305 - val_loss: 3.9599 - val_mape: 3.9599\n",
      "Epoch 106/10000\n",
      "3/3 [==============================] - 0s 23ms/step - loss: 0.9613 - mape: 0.9613 - val_loss: 3.0957 - val_mape: 3.0957\n",
      "Epoch 107/10000\n",
      "3/3 [==============================] - 0s 21ms/step - loss: 0.9593 - mape: 0.9593 - val_loss: 3.9380 - val_mape: 3.9380\n",
      "Epoch 108/10000\n",
      "3/3 [==============================] - 0s 18ms/step - loss: 0.8411 - mape: 0.8411 - val_loss: 2.9385 - val_mape: 2.9385\n",
      "Epoch 109/10000\n",
      "3/3 [==============================] - 0s 18ms/step - loss: 0.8609 - mape: 0.8609 - val_loss: 3.8921 - val_mape: 3.8921\n",
      "Epoch 110/10000\n",
      "3/3 [==============================] - 0s 20ms/step - loss: 0.8946 - mape: 0.8946 - val_loss: 2.8995 - val_mape: 2.8995\n",
      "Epoch 111/10000\n",
      "3/3 [==============================] - 0s 19ms/step - loss: 1.1344 - mape: 1.1344 - val_loss: 3.8746 - val_mape: 3.8746\n",
      "Epoch 112/10000\n",
      "3/3 [==============================] - 0s 21ms/step - loss: 1.0479 - mape: 1.0479 - val_loss: 3.9002 - val_mape: 3.9002\n",
      "Epoch 113/10000\n",
      "3/3 [==============================] - 0s 25ms/step - loss: 0.9234 - mape: 0.9234 - val_loss: 2.1620 - val_mape: 2.1620\n",
      "Epoch 114/10000\n",
      "3/3 [==============================] - 0s 22ms/step - loss: 1.0569 - mape: 1.0569 - val_loss: 3.7326 - val_mape: 3.7326\n",
      "Epoch 115/10000\n",
      "3/3 [==============================] - 0s 36ms/step - loss: 1.0149 - mape: 1.0149 - val_loss: 3.1759 - val_mape: 3.1759\n",
      "Epoch 116/10000\n",
      "3/3 [==============================] - 0s 21ms/step - loss: 0.8944 - mape: 0.8944 - val_loss: 2.8732 - val_mape: 2.8732\n",
      "Epoch 117/10000\n",
      "3/3 [==============================] - 0s 19ms/step - loss: 0.9785 - mape: 0.9785 - val_loss: 4.0121 - val_mape: 4.0121\n",
      "Epoch 118/10000\n",
      "3/3 [==============================] - 0s 21ms/step - loss: 0.8509 - mape: 0.8509 - val_loss: 4.3329 - val_mape: 4.3329\n",
      "Epoch 119/10000\n",
      "3/3 [==============================] - 0s 19ms/step - loss: 0.8142 - mape: 0.8142 - val_loss: 3.3511 - val_mape: 3.3511\n",
      "Epoch 120/10000\n",
      "3/3 [==============================] - 0s 20ms/step - loss: 0.8860 - mape: 0.8860 - val_loss: 2.9535 - val_mape: 2.9535\n",
      "Epoch 121/10000\n"
     ]
    },
    {
     "name": "stdout",
     "output_type": "stream",
     "text": [
      "3/3 [==============================] - 0s 22ms/step - loss: 0.8242 - mape: 0.8242 - val_loss: 4.5353 - val_mape: 4.5353\n",
      "Epoch 122/10000\n",
      "3/3 [==============================] - 0s 21ms/step - loss: 0.8202 - mape: 0.8202 - val_loss: 3.7035 - val_mape: 3.7035\n",
      "Epoch 123/10000\n",
      "3/3 [==============================] - 0s 22ms/step - loss: 0.7320 - mape: 0.7320 - val_loss: 3.6534 - val_mape: 3.6534\n",
      "Epoch 124/10000\n",
      "3/3 [==============================] - 0s 22ms/step - loss: 0.6617 - mape: 0.6617 - val_loss: 3.8609 - val_mape: 3.8609\n",
      "Epoch 125/10000\n",
      "3/3 [==============================] - 0s 23ms/step - loss: 0.6668 - mape: 0.6668 - val_loss: 3.7931 - val_mape: 3.7931\n",
      "Epoch 126/10000\n",
      "3/3 [==============================] - 0s 24ms/step - loss: 0.6274 - mape: 0.6274 - val_loss: 3.7825 - val_mape: 3.7825\n",
      "Epoch 127/10000\n",
      "3/3 [==============================] - 0s 24ms/step - loss: 0.6716 - mape: 0.6716 - val_loss: 4.0844 - val_mape: 4.0844\n",
      "Epoch 128/10000\n",
      "3/3 [==============================] - 0s 23ms/step - loss: 0.7003 - mape: 0.7003 - val_loss: 3.5972 - val_mape: 3.5972\n",
      "Epoch 129/10000\n",
      "3/3 [==============================] - 0s 21ms/step - loss: 0.8414 - mape: 0.8414 - val_loss: 3.6870 - val_mape: 3.6870\n",
      "Epoch 130/10000\n",
      "3/3 [==============================] - 0s 21ms/step - loss: 0.7752 - mape: 0.7752 - val_loss: 3.6603 - val_mape: 3.6603\n",
      "Epoch 131/10000\n",
      "3/3 [==============================] - 0s 20ms/step - loss: 0.6276 - mape: 0.6276 - val_loss: 3.7864 - val_mape: 3.7864\n",
      "Epoch 132/10000\n",
      "3/3 [==============================] - 0s 19ms/step - loss: 0.7177 - mape: 0.7177 - val_loss: 3.6257 - val_mape: 3.6257\n",
      "Epoch 133/10000\n",
      "3/3 [==============================] - 0s 20ms/step - loss: 0.6083 - mape: 0.6083 - val_loss: 3.8188 - val_mape: 3.8188\n",
      "Epoch 134/10000\n",
      "3/3 [==============================] - 0s 23ms/step - loss: 0.7136 - mape: 0.7136 - val_loss: 3.1166 - val_mape: 3.1166\n",
      "Epoch 135/10000\n",
      "3/3 [==============================] - 0s 20ms/step - loss: 0.6553 - mape: 0.6553 - val_loss: 4.0740 - val_mape: 4.0740\n",
      "Epoch 136/10000\n",
      "3/3 [==============================] - 0s 21ms/step - loss: 0.6425 - mape: 0.6425 - val_loss: 2.6899 - val_mape: 2.6899\n",
      "Epoch 137/10000\n",
      "3/3 [==============================] - 0s 20ms/step - loss: 0.6795 - mape: 0.6795 - val_loss: 3.7540 - val_mape: 3.7540\n",
      "Epoch 138/10000\n",
      "3/3 [==============================] - 0s 21ms/step - loss: 0.6889 - mape: 0.6889 - val_loss: 3.2593 - val_mape: 3.2593\n",
      "Epoch 139/10000\n",
      "3/3 [==============================] - 0s 22ms/step - loss: 0.5855 - mape: 0.5855 - val_loss: 3.5015 - val_mape: 3.5015\n",
      "Epoch 140/10000\n",
      "3/3 [==============================] - 0s 22ms/step - loss: 0.5546 - mape: 0.5546 - val_loss: 4.1235 - val_mape: 4.1235\n",
      "Epoch 141/10000\n",
      "3/3 [==============================] - 0s 22ms/step - loss: 0.5439 - mape: 0.5439 - val_loss: 3.9086 - val_mape: 3.9086\n",
      "Epoch 142/10000\n",
      "3/3 [==============================] - 0s 21ms/step - loss: 0.5486 - mape: 0.5486 - val_loss: 4.0329 - val_mape: 4.0329\n",
      "Epoch 143/10000\n",
      "3/3 [==============================] - 0s 21ms/step - loss: 0.5583 - mape: 0.5583 - val_loss: 3.7354 - val_mape: 3.7354\n",
      "Epoch 144/10000\n",
      "3/3 [==============================] - 0s 19ms/step - loss: 0.5657 - mape: 0.5657 - val_loss: 3.6820 - val_mape: 3.6820\n",
      "Epoch 145/10000\n",
      "3/3 [==============================] - 0s 20ms/step - loss: 0.5666 - mape: 0.5666 - val_loss: 3.9467 - val_mape: 3.9467\n",
      "Epoch 146/10000\n",
      "3/3 [==============================] - 0s 20ms/step - loss: 0.5665 - mape: 0.5665 - val_loss: 3.5491 - val_mape: 3.5491\n",
      "Epoch 147/10000\n",
      "3/3 [==============================] - 0s 19ms/step - loss: 0.5185 - mape: 0.5185 - val_loss: 3.8791 - val_mape: 3.8791\n",
      "Epoch 148/10000\n",
      "3/3 [==============================] - 0s 18ms/step - loss: 0.5188 - mape: 0.5188 - val_loss: 3.8866 - val_mape: 3.8866\n",
      "Epoch 149/10000\n",
      "3/3 [==============================] - 0s 20ms/step - loss: 0.5267 - mape: 0.5267 - val_loss: 3.8962 - val_mape: 3.8962\n",
      "Epoch 150/10000\n",
      "3/3 [==============================] - 0s 20ms/step - loss: 0.5409 - mape: 0.5409 - val_loss: 4.1313 - val_mape: 4.1313\n",
      "Epoch 151/10000\n",
      "3/3 [==============================] - 0s 22ms/step - loss: 0.5923 - mape: 0.5923 - val_loss: 3.0388 - val_mape: 3.0388\n",
      "Epoch 152/10000\n",
      "3/3 [==============================] - 0s 22ms/step - loss: 0.5713 - mape: 0.5713 - val_loss: 4.0937 - val_mape: 4.0937\n",
      "Epoch 153/10000\n",
      "3/3 [==============================] - 0s 22ms/step - loss: 0.6248 - mape: 0.6248 - val_loss: 2.7692 - val_mape: 2.7692\n",
      "Epoch 154/10000\n",
      "3/3 [==============================] - 0s 22ms/step - loss: 0.6345 - mape: 0.6345 - val_loss: 3.6070 - val_mape: 3.6070\n",
      "Epoch 155/10000\n",
      "3/3 [==============================] - 0s 22ms/step - loss: 0.5802 - mape: 0.5802 - val_loss: 3.7252 - val_mape: 3.7252\n",
      "Epoch 156/10000\n",
      "3/3 [==============================] - 0s 21ms/step - loss: 0.5373 - mape: 0.5373 - val_loss: 4.0675 - val_mape: 4.0675\n",
      "Epoch 157/10000\n",
      "3/3 [==============================] - 0s 25ms/step - loss: 0.6885 - mape: 0.6885 - val_loss: 3.3199 - val_mape: 3.3199\n",
      "Epoch 158/10000\n",
      "3/3 [==============================] - 0s 21ms/step - loss: 0.6047 - mape: 0.6047 - val_loss: 4.1554 - val_mape: 4.1554\n",
      "Epoch 159/10000\n",
      "3/3 [==============================] - 0s 20ms/step - loss: 0.6323 - mape: 0.6323 - val_loss: 2.9832 - val_mape: 2.9832\n",
      "Epoch 160/10000\n",
      "3/3 [==============================] - 0s 21ms/step - loss: 0.6112 - mape: 0.6112 - val_loss: 3.8451 - val_mape: 3.8451\n",
      "Epoch 161/10000\n",
      "3/3 [==============================] - 0s 20ms/step - loss: 0.5368 - mape: 0.5368 - val_loss: 3.3897 - val_mape: 3.3897\n",
      "Epoch 162/10000\n",
      "3/3 [==============================] - 0s 21ms/step - loss: 0.5523 - mape: 0.5523 - val_loss: 4.4434 - val_mape: 4.4434\n",
      "Epoch 163/10000\n",
      "3/3 [==============================] - 0s 22ms/step - loss: 0.6841 - mape: 0.6841 - val_loss: 3.0982 - val_mape: 3.0982\n"
     ]
    },
    {
     "data": {
      "text/plain": [
       "<keras.callbacks.History at 0x7f0ae88604f0>"
      ]
     },
     "execution_count": 44,
     "metadata": {},
     "output_type": "execute_result"
    }
   ],
   "source": [
    "model2.fit(X_train1_x, y_train1,batch_size = 32, validation_data=(X_val1_x, y_val1), epochs=10000, callbacks = (es))"
   ]
  },
  {
   "cell_type": "code",
   "execution_count": 45,
   "id": "5b0b4d1b",
   "metadata": {},
   "outputs": [
    {
     "name": "stdout",
     "output_type": "stream",
     "text": [
      "1/1 [==============================] - 1s 783ms/step\n"
     ]
    }
   ],
   "source": [
    "test_prediction1 = list(model2.predict(X_test1_x))"
   ]
  },
  {
   "cell_type": "code",
   "execution_count": 46,
   "id": "d690b1b9",
   "metadata": {},
   "outputs": [],
   "source": [
    "test_results1 = pd.DataFrame(columns = ['test_predictions', 'test_actual'])\n",
    "\n",
    "#train_predictions\n",
    "\n",
    "test_results1['date'] = list(y_test1.index)\n",
    "test_results1['test_predictions'] = [x[0] for x in test_prediction1]\n",
    "test_results1['test_actual'] = list(y_test1)"
   ]
  },
  {
   "cell_type": "code",
   "execution_count": 47,
   "id": "e0dc679d",
   "metadata": {},
   "outputs": [
    {
     "data": {
      "text/html": [
       "<div>\n",
       "<style scoped>\n",
       "    .dataframe tbody tr th:only-of-type {\n",
       "        vertical-align: middle;\n",
       "    }\n",
       "\n",
       "    .dataframe tbody tr th {\n",
       "        vertical-align: top;\n",
       "    }\n",
       "\n",
       "    .dataframe thead th {\n",
       "        text-align: right;\n",
       "    }\n",
       "</style>\n",
       "<table border=\"1\" class=\"dataframe\">\n",
       "  <thead>\n",
       "    <tr style=\"text-align: right;\">\n",
       "      <th></th>\n",
       "      <th>test_predictions</th>\n",
       "      <th>test_actual</th>\n",
       "      <th>date</th>\n",
       "    </tr>\n",
       "  </thead>\n",
       "  <tbody>\n",
       "    <tr>\n",
       "      <th>0</th>\n",
       "      <td>269.630249</td>\n",
       "      <td>276.0</td>\n",
       "      <td>2018-01-01</td>\n",
       "    </tr>\n",
       "    <tr>\n",
       "      <th>1</th>\n",
       "      <td>266.867493</td>\n",
       "      <td>278.1</td>\n",
       "      <td>2018-02-01</td>\n",
       "    </tr>\n",
       "    <tr>\n",
       "      <th>2</th>\n",
       "      <td>266.646637</td>\n",
       "      <td>278.3</td>\n",
       "      <td>2018-03-01</td>\n",
       "    </tr>\n",
       "    <tr>\n",
       "      <th>3</th>\n",
       "      <td>267.247772</td>\n",
       "      <td>279.7</td>\n",
       "      <td>2018-04-01</td>\n",
       "    </tr>\n",
       "    <tr>\n",
       "      <th>4</th>\n",
       "      <td>266.834595</td>\n",
       "      <td>280.7</td>\n",
       "      <td>2018-05-01</td>\n",
       "    </tr>\n",
       "    <tr>\n",
       "      <th>5</th>\n",
       "      <td>266.673462</td>\n",
       "      <td>281.5</td>\n",
       "      <td>2018-06-01</td>\n",
       "    </tr>\n",
       "    <tr>\n",
       "      <th>6</th>\n",
       "      <td>267.234619</td>\n",
       "      <td>281.7</td>\n",
       "      <td>2018-07-01</td>\n",
       "    </tr>\n",
       "    <tr>\n",
       "      <th>7</th>\n",
       "      <td>265.907959</td>\n",
       "      <td>284.2</td>\n",
       "      <td>2018-08-01</td>\n",
       "    </tr>\n",
       "    <tr>\n",
       "      <th>8</th>\n",
       "      <td>266.322388</td>\n",
       "      <td>284.1</td>\n",
       "      <td>2018-09-01</td>\n",
       "    </tr>\n",
       "    <tr>\n",
       "      <th>9</th>\n",
       "      <td>262.966614</td>\n",
       "      <td>284.5</td>\n",
       "      <td>2018-10-01</td>\n",
       "    </tr>\n",
       "    <tr>\n",
       "      <th>10</th>\n",
       "      <td>262.759216</td>\n",
       "      <td>284.6</td>\n",
       "      <td>2018-11-01</td>\n",
       "    </tr>\n",
       "    <tr>\n",
       "      <th>11</th>\n",
       "      <td>261.408569</td>\n",
       "      <td>285.6</td>\n",
       "      <td>2018-12-01</td>\n",
       "    </tr>\n",
       "  </tbody>\n",
       "</table>\n",
       "</div>"
      ],
      "text/plain": [
       "    test_predictions  test_actual       date\n",
       "0         269.630249        276.0 2018-01-01\n",
       "1         266.867493        278.1 2018-02-01\n",
       "2         266.646637        278.3 2018-03-01\n",
       "3         267.247772        279.7 2018-04-01\n",
       "4         266.834595        280.7 2018-05-01\n",
       "5         266.673462        281.5 2018-06-01\n",
       "6         267.234619        281.7 2018-07-01\n",
       "7         265.907959        284.2 2018-08-01\n",
       "8         266.322388        284.1 2018-09-01\n",
       "9         262.966614        284.5 2018-10-01\n",
       "10        262.759216        284.6 2018-11-01\n",
       "11        261.408569        285.6 2018-12-01"
      ]
     },
     "execution_count": 47,
     "metadata": {},
     "output_type": "execute_result"
    }
   ],
   "source": [
    "test_results1"
   ]
  },
  {
   "cell_type": "code",
   "execution_count": 48,
   "id": "b8f1acea",
   "metadata": {},
   "outputs": [],
   "source": [
    "test_results1.set_index('date', inplace=True)"
   ]
  },
  {
   "cell_type": "code",
   "execution_count": 49,
   "id": "af5b124b",
   "metadata": {},
   "outputs": [
    {
     "data": {
      "text/plain": [
       "<matplotlib.legend.Legend at 0x7f0acb095ee0>"
      ]
     },
     "execution_count": 49,
     "metadata": {},
     "output_type": "execute_result"
    },
    {
     "data": {
      "image/png": "[encoded data removed]",
      "text/plain": [
       "<Figure size 640x480 with 1 Axes>"
      ]
     },
     "metadata": {},
     "output_type": "display_data"
    }
   ],
   "source": [
    "plt.plot(y)\n",
    "plt.plot(test_results1['test_predictions'], label='prediction')\n",
    "plt.plot(test_results1['test_actual'], label='actual')\n",
    "plt.title('2018-19 Inflation Prediciton')\n",
    "plt.legend()"
   ]
  },
  {
   "cell_type": "markdown",
   "id": "41e9e976",
   "metadata": {},
   "source": [
    "# LSTM 2019-2020"
   ]
  },
  {
   "cell_type": "code",
   "execution_count": 50,
   "id": "63b216b4",
   "metadata": {},
   "outputs": [
    {
     "data": {
      "text/plain": [
       "((96, 11), (96,), (24, 11), (24,), (12, 11), (12,))"
      ]
     },
     "execution_count": 50,
     "metadata": {},
     "output_type": "execute_result"
    }
   ],
   "source": [
    "X_train2, y_train2 = X[:96], y[:96]\n",
    "X_val2, y_val2 = X[96:120], y[96:120]\n",
    "X_test2, y_test2 = X[120:132], y[120:132]\n",
    "X_train2.shape, y_train2.shape, X_val2.shape, y_val2.shape, X_test2.shape, y_test2.shape"
   ]
  },
  {
   "cell_type": "code",
   "execution_count": 51,
   "id": "d4b3277b",
   "metadata": {},
   "outputs": [
    {
     "data": {
      "text/plain": [
       "TensorShape([96, 1, 1])"
      ]
     },
     "execution_count": 51,
     "metadata": {},
     "output_type": "execute_result"
    }
   ],
   "source": [
    "y_train2_x = expand_dims(y_train2, -1)\n",
    "y_train2_x = expand_dims(y_train2_x, -1)\n",
    "\n",
    "y_train2_x.shape"
   ]
  },
  {
   "cell_type": "code",
   "execution_count": 52,
   "id": "0ee7b678",
   "metadata": {},
   "outputs": [],
   "source": [
    "y_val2_x = expand_dims(y_val2, -1)\n",
    "y_val2_x = expand_dims(y_val2_x, -1)"
   ]
  },
  {
   "cell_type": "code",
   "execution_count": 53,
   "id": "fd11d667",
   "metadata": {},
   "outputs": [],
   "source": [
    "X_test2_x = expand_dims(X_test2, -2)"
   ]
  },
  {
   "cell_type": "code",
   "execution_count": 54,
   "id": "7ac9ffae",
   "metadata": {},
   "outputs": [
    {
     "data": {
      "text/plain": [
       "TensorShape([96, 1, 11])"
      ]
     },
     "execution_count": 54,
     "metadata": {},
     "output_type": "execute_result"
    }
   ],
   "source": [
    "X_train2_x = expand_dims(X_train2, -2)\n",
    "X_train2_x.shape"
   ]
  },
  {
   "cell_type": "code",
   "execution_count": 55,
   "id": "c2c87f6b",
   "metadata": {},
   "outputs": [
    {
     "data": {
      "text/plain": [
       "TensorShape([24, 1, 11])"
      ]
     },
     "execution_count": 55,
     "metadata": {},
     "output_type": "execute_result"
    }
   ],
   "source": [
    "X_val2_x = expand_dims(X_val2, -2)\n",
    "X_val2_x.shape"
   ]
  },
  {
   "cell_type": "code",
   "execution_count": 56,
   "id": "84e55cfa",
   "metadata": {},
   "outputs": [
    {
     "name": "stdout",
     "output_type": "stream",
     "text": [
      "Model: \"sequential_2\"\n",
      "_________________________________________________________________\n",
      " Layer (type)                Output Shape              Param #   \n",
      "=================================================================\n",
      " normalization_2 (Normalizat  (None, None, 11)         23        \n",
      " ion)                                                            \n",
      "                                                                 \n",
      " lstm_4 (LSTM)               (None, None, 100)         44800     \n",
      "                                                                 \n",
      " lstm_5 (LSTM)               (None, 50)                30200     \n",
      "                                                                 \n",
      " flatten_2 (Flatten)         (None, 50)                0         \n",
      "                                                                 \n",
      " dense_8 (Dense)             (None, 100)               5100      \n",
      "                                                                 \n",
      " dense_9 (Dense)             (None, 50)                5050      \n",
      "                                                                 \n",
      " dense_10 (Dense)            (None, 25)                1275      \n",
      "                                                                 \n",
      " dense_11 (Dense)            (None, 1)                 26        \n",
      "                                                                 \n",
      "=================================================================\n",
      "Total params: 86,474\n",
      "Trainable params: 86,451\n",
      "Non-trainable params: 23\n",
      "_________________________________________________________________\n"
     ]
    }
   ],
   "source": [
    "normalizer = Normalization()\n",
    "normalizer.adapt(X_train2_x)\n",
    "\n",
    "model3 = Sequential()\n",
    "model3.add(normalizer)\n",
    "\n",
    "model3.add(LSTM(units = 100, activation='tanh', return_sequences = True))\n",
    "model3.add(LSTM(units = 50 , activation='tanh', return_sequences = False))\n",
    "\n",
    "model3.add(Flatten())\n",
    "\n",
    "model3.add(Dense(100,activation =  'relu'))\n",
    "model3.add(Dense(50,activation =  'relu'))\n",
    "model3.add(Dense(25,activation =  'relu'))\n",
    "\n",
    "model3.add(Dense(1, activation = 'linear'))\n",
    "\n",
    "model3.summary()"
   ]
  },
  {
   "cell_type": "code",
   "execution_count": 57,
   "id": "580ce27f",
   "metadata": {},
   "outputs": [],
   "source": [
    "model3.compile(loss= mape, optimizer= adam, metrics=['mape'])"
   ]
  },
  {
   "cell_type": "code",
   "execution_count": 58,
   "id": "33b2ed2c",
   "metadata": {},
   "outputs": [
    {
     "name": "stdout",
     "output_type": "stream",
     "text": [
      "Epoch 1/10000\n",
      "3/3 [==============================] - 4s 397ms/step - loss: 99.9921 - mape: 99.9921 - val_loss: 99.9586 - val_mape: 99.9586\n",
      "Epoch 2/10000\n",
      "3/3 [==============================] - 0s 25ms/step - loss: 99.9423 - mape: 99.9423 - val_loss: 99.8464 - val_mape: 99.8464\n",
      "Epoch 3/10000\n",
      "3/3 [==============================] - 0s 25ms/step - loss: 99.8245 - mape: 99.8245 - val_loss: 99.5630 - val_mape: 99.5630\n",
      "Epoch 4/10000\n",
      "3/3 [==============================] - 0s 23ms/step - loss: 99.5522 - mape: 99.5522 - val_loss: 98.8228 - val_mape: 98.8228\n",
      "Epoch 5/10000\n",
      "3/3 [==============================] - 0s 24ms/step - loss: 98.9265 - mape: 98.9265 - val_loss: 97.1153 - val_mape: 97.1153\n",
      "Epoch 6/10000\n",
      "3/3 [==============================] - 0s 23ms/step - loss: 97.5683 - mape: 97.5683 - val_loss: 93.4772 - val_mape: 93.4772\n",
      "Epoch 7/10000\n",
      "3/3 [==============================] - 0s 23ms/step - loss: 94.8603 - mape: 94.8603 - val_loss: 86.8516 - val_mape: 86.8516\n",
      "Epoch 8/10000\n",
      "3/3 [==============================] - 0s 22ms/step - loss: 89.6958 - mape: 89.6958 - val_loss: 76.3054 - val_mape: 76.3054\n",
      "Epoch 9/10000\n",
      "3/3 [==============================] - 0s 21ms/step - loss: 80.6867 - mape: 80.6867 - val_loss: 60.5138 - val_mape: 60.5138\n",
      "Epoch 10/10000\n",
      "3/3 [==============================] - 0s 22ms/step - loss: 65.5974 - mape: 65.5974 - val_loss: 38.2423 - val_mape: 38.2423\n",
      "Epoch 11/10000\n",
      "3/3 [==============================] - 0s 22ms/step - loss: 42.1413 - mape: 42.1413 - val_loss: 8.4455 - val_mape: 8.4455\n",
      "Epoch 12/10000\n",
      "3/3 [==============================] - 0s 22ms/step - loss: 19.4079 - mape: 19.4079 - val_loss: 21.9585 - val_mape: 21.9585\n",
      "Epoch 13/10000\n",
      "3/3 [==============================] - 0s 22ms/step - loss: 23.5047 - mape: 23.5047 - val_loss: 29.9967 - val_mape: 29.9967\n",
      "Epoch 14/10000\n",
      "3/3 [==============================] - 0s 20ms/step - loss: 19.7808 - mape: 19.7808 - val_loss: 16.8671 - val_mape: 16.8671\n",
      "Epoch 15/10000\n",
      "3/3 [==============================] - 0s 22ms/step - loss: 9.9550 - mape: 9.9550 - val_loss: 2.2989 - val_mape: 2.2989\n",
      "Epoch 16/10000\n",
      "3/3 [==============================] - 0s 20ms/step - loss: 11.3427 - mape: 11.3427 - val_loss: 7.4769 - val_mape: 7.4769\n",
      "Epoch 17/10000\n",
      "3/3 [==============================] - 0s 21ms/step - loss: 9.2557 - mape: 9.2557 - val_loss: 1.8731 - val_mape: 1.8731\n",
      "Epoch 18/10000\n",
      "3/3 [==============================] - 0s 21ms/step - loss: 7.0401 - mape: 7.0401 - val_loss: 4.2769 - val_mape: 4.2769\n",
      "Epoch 19/10000\n",
      "3/3 [==============================] - 0s 22ms/step - loss: 7.5037 - mape: 7.5037 - val_loss: 3.7293 - val_mape: 3.7293\n",
      "Epoch 20/10000\n",
      "3/3 [==============================] - 0s 23ms/step - loss: 6.0547 - mape: 6.0547 - val_loss: 8.9392 - val_mape: 8.9392\n",
      "Epoch 21/10000\n",
      "3/3 [==============================] - 0s 21ms/step - loss: 6.3462 - mape: 6.3462 - val_loss: 4.5776 - val_mape: 4.5776\n",
      "Epoch 22/10000\n",
      "3/3 [==============================] - 0s 31ms/step - loss: 4.3038 - mape: 4.3038 - val_loss: 3.0427 - val_mape: 3.0427\n",
      "Epoch 23/10000\n",
      "3/3 [==============================] - 0s 22ms/step - loss: 4.8551 - mape: 4.8551 - val_loss: 1.7766 - val_mape: 1.7766\n",
      "Epoch 24/10000\n",
      "3/3 [==============================] - 0s 23ms/step - loss: 3.8082 - mape: 3.8082 - val_loss: 3.5540 - val_mape: 3.5540\n",
      "Epoch 25/10000\n",
      "3/3 [==============================] - 0s 23ms/step - loss: 3.9794 - mape: 3.9794 - val_loss: 1.8365 - val_mape: 1.8365\n",
      "Epoch 26/10000\n",
      "3/3 [==============================] - 0s 20ms/step - loss: 3.3952 - mape: 3.3952 - val_loss: 1.8409 - val_mape: 1.8409\n",
      "Epoch 27/10000\n",
      "3/3 [==============================] - 0s 21ms/step - loss: 2.8349 - mape: 2.8349 - val_loss: 3.3272 - val_mape: 3.3272\n",
      "Epoch 28/10000\n",
      "3/3 [==============================] - 0s 23ms/step - loss: 2.8729 - mape: 2.8729 - val_loss: 2.4593 - val_mape: 2.4593\n",
      "Epoch 29/10000\n",
      "3/3 [==============================] - 0s 23ms/step - loss: 2.7406 - mape: 2.7406 - val_loss: 1.7820 - val_mape: 1.7820\n",
      "Epoch 30/10000\n",
      "3/3 [==============================] - 0s 23ms/step - loss: 2.7009 - mape: 2.7009 - val_loss: 3.1843 - val_mape: 3.1843\n",
      "Epoch 31/10000\n",
      "3/3 [==============================] - 0s 24ms/step - loss: 2.2096 - mape: 2.2096 - val_loss: 2.7810 - val_mape: 2.7810\n",
      "Epoch 32/10000\n",
      "3/3 [==============================] - 0s 26ms/step - loss: 2.1858 - mape: 2.1858 - val_loss: 2.5550 - val_mape: 2.5550\n",
      "Epoch 33/10000\n",
      "3/3 [==============================] - 0s 23ms/step - loss: 1.9337 - mape: 1.9337 - val_loss: 2.3784 - val_mape: 2.3784\n",
      "Epoch 34/10000\n",
      "3/3 [==============================] - 0s 24ms/step - loss: 1.9036 - mape: 1.9036 - val_loss: 2.6681 - val_mape: 2.6681\n",
      "Epoch 35/10000\n",
      "3/3 [==============================] - 0s 23ms/step - loss: 1.6999 - mape: 1.6999 - val_loss: 3.4624 - val_mape: 3.4624\n",
      "Epoch 36/10000\n",
      "3/3 [==============================] - 0s 20ms/step - loss: 1.6547 - mape: 1.6547 - val_loss: 3.6450 - val_mape: 3.6450\n",
      "Epoch 37/10000\n",
      "3/3 [==============================] - 0s 19ms/step - loss: 1.5101 - mape: 1.5101 - val_loss: 2.7801 - val_mape: 2.7801\n",
      "Epoch 38/10000\n",
      "3/3 [==============================] - 0s 20ms/step - loss: 1.4092 - mape: 1.4092 - val_loss: 3.5272 - val_mape: 3.5272\n",
      "Epoch 39/10000\n",
      "3/3 [==============================] - 0s 20ms/step - loss: 1.3789 - mape: 1.3789 - val_loss: 3.3842 - val_mape: 3.3842\n",
      "Epoch 40/10000\n",
      "3/3 [==============================] - 0s 20ms/step - loss: 1.3163 - mape: 1.3163 - val_loss: 3.5774 - val_mape: 3.5774\n",
      "Epoch 41/10000\n",
      "3/3 [==============================] - 0s 21ms/step - loss: 1.3191 - mape: 1.3191 - val_loss: 3.1904 - val_mape: 3.1904\n",
      "Epoch 42/10000\n",
      "3/3 [==============================] - 0s 21ms/step - loss: 1.2636 - mape: 1.2636 - val_loss: 4.3974 - val_mape: 4.3974\n",
      "Epoch 43/10000\n",
      "3/3 [==============================] - 0s 22ms/step - loss: 1.2876 - mape: 1.2876 - val_loss: 3.2948 - val_mape: 3.2948\n",
      "Epoch 44/10000\n",
      "3/3 [==============================] - 0s 22ms/step - loss: 1.2675 - mape: 1.2675 - val_loss: 3.0118 - val_mape: 3.0118\n",
      "Epoch 45/10000\n",
      "3/3 [==============================] - 0s 23ms/step - loss: 1.1465 - mape: 1.1465 - val_loss: 5.0600 - val_mape: 5.0600\n",
      "Epoch 46/10000\n",
      "3/3 [==============================] - 0s 23ms/step - loss: 1.1461 - mape: 1.1461 - val_loss: 3.7828 - val_mape: 3.7828\n",
      "Epoch 47/10000\n",
      "3/3 [==============================] - 0s 19ms/step - loss: 0.9844 - mape: 0.9844 - val_loss: 3.7290 - val_mape: 3.7290\n",
      "Epoch 48/10000\n",
      "3/3 [==============================] - 0s 20ms/step - loss: 1.0437 - mape: 1.0437 - val_loss: 5.0020 - val_mape: 5.0020\n",
      "Epoch 49/10000\n",
      "3/3 [==============================] - 0s 22ms/step - loss: 0.9459 - mape: 0.9459 - val_loss: 3.9254 - val_mape: 3.9254\n",
      "Epoch 50/10000\n",
      "3/3 [==============================] - 0s 23ms/step - loss: 0.9178 - mape: 0.9178 - val_loss: 4.7716 - val_mape: 4.7716\n",
      "Epoch 51/10000\n",
      "3/3 [==============================] - 0s 21ms/step - loss: 0.9148 - mape: 0.9148 - val_loss: 4.2560 - val_mape: 4.2560\n",
      "Epoch 52/10000\n",
      "3/3 [==============================] - 0s 21ms/step - loss: 0.8483 - mape: 0.8483 - val_loss: 3.8966 - val_mape: 3.8966\n",
      "Epoch 53/10000\n",
      "3/3 [==============================] - 0s 21ms/step - loss: 0.8474 - mape: 0.8474 - val_loss: 4.0723 - val_mape: 4.0723\n",
      "Epoch 54/10000\n",
      "3/3 [==============================] - 0s 21ms/step - loss: 0.7874 - mape: 0.7874 - val_loss: 4.9147 - val_mape: 4.9147\n",
      "Epoch 55/10000\n",
      "3/3 [==============================] - 0s 24ms/step - loss: 0.9394 - mape: 0.9394 - val_loss: 3.5993 - val_mape: 3.5993\n",
      "Epoch 56/10000\n",
      "3/3 [==============================] - 0s 21ms/step - loss: 1.2587 - mape: 1.2587 - val_loss: 5.2458 - val_mape: 5.2458\n",
      "Epoch 57/10000\n",
      "3/3 [==============================] - 0s 20ms/step - loss: 0.9193 - mape: 0.9193 - val_loss: 4.2002 - val_mape: 4.2002\n",
      "Epoch 58/10000\n",
      "3/3 [==============================] - 0s 19ms/step - loss: 0.7204 - mape: 0.7204 - val_loss: 4.4442 - val_mape: 4.4442\n",
      "Epoch 59/10000\n",
      "3/3 [==============================] - 0s 19ms/step - loss: 0.7111 - mape: 0.7111 - val_loss: 4.5055 - val_mape: 4.5055\n",
      "Epoch 60/10000\n",
      "3/3 [==============================] - 0s 21ms/step - loss: 0.7286 - mape: 0.7286 - val_loss: 4.6889 - val_mape: 4.6889\n",
      "Epoch 61/10000\n"
     ]
    },
    {
     "name": "stdout",
     "output_type": "stream",
     "text": [
      "3/3 [==============================] - 0s 20ms/step - loss: 0.7089 - mape: 0.7089 - val_loss: 4.2971 - val_mape: 4.2971\n",
      "Epoch 62/10000\n",
      "3/3 [==============================] - 0s 21ms/step - loss: 0.7788 - mape: 0.7788 - val_loss: 4.4234 - val_mape: 4.4234\n",
      "Epoch 63/10000\n",
      "3/3 [==============================] - 0s 22ms/step - loss: 0.6860 - mape: 0.6860 - val_loss: 4.4843 - val_mape: 4.4843\n",
      "Epoch 64/10000\n",
      "3/3 [==============================] - 0s 23ms/step - loss: 0.7000 - mape: 0.7000 - val_loss: 4.9001 - val_mape: 4.9001\n",
      "Epoch 65/10000\n",
      "3/3 [==============================] - 0s 24ms/step - loss: 0.7775 - mape: 0.7775 - val_loss: 4.6408 - val_mape: 4.6408\n",
      "Epoch 66/10000\n",
      "3/3 [==============================] - 0s 21ms/step - loss: 0.6668 - mape: 0.6668 - val_loss: 4.2227 - val_mape: 4.2227\n",
      "Epoch 67/10000\n",
      "3/3 [==============================] - 0s 23ms/step - loss: 0.7868 - mape: 0.7868 - val_loss: 4.6142 - val_mape: 4.6142\n",
      "Epoch 68/10000\n",
      "3/3 [==============================] - 0s 21ms/step - loss: 0.7406 - mape: 0.7406 - val_loss: 4.3514 - val_mape: 4.3514\n",
      "Epoch 69/10000\n",
      "3/3 [==============================] - 0s 23ms/step - loss: 0.7912 - mape: 0.7912 - val_loss: 4.9514 - val_mape: 4.9514\n",
      "Epoch 70/10000\n",
      "3/3 [==============================] - 0s 22ms/step - loss: 0.7611 - mape: 0.7611 - val_loss: 4.3801 - val_mape: 4.3801\n",
      "Epoch 71/10000\n",
      "3/3 [==============================] - 0s 21ms/step - loss: 0.7043 - mape: 0.7043 - val_loss: 4.4306 - val_mape: 4.4306\n",
      "Epoch 72/10000\n",
      "3/3 [==============================] - 0s 21ms/step - loss: 0.7560 - mape: 0.7560 - val_loss: 5.2490 - val_mape: 5.2490\n",
      "Epoch 73/10000\n",
      "3/3 [==============================] - 0s 22ms/step - loss: 0.7253 - mape: 0.7253 - val_loss: 4.0841 - val_mape: 4.0841\n"
     ]
    },
    {
     "data": {
      "text/plain": [
       "<keras.callbacks.History at 0x7f0acbb743d0>"
      ]
     },
     "execution_count": 58,
     "metadata": {},
     "output_type": "execute_result"
    }
   ],
   "source": [
    "model3.fit(X_train2_x, y_train2,batch_size = 32, validation_data=(X_val2_x, y_val2), epochs=10000, callbacks = (es))"
   ]
  },
  {
   "cell_type": "code",
   "execution_count": 59,
   "id": "09fabd71",
   "metadata": {},
   "outputs": [
    {
     "name": "stdout",
     "output_type": "stream",
     "text": [
      "1/1 [==============================] - 1s 781ms/step\n"
     ]
    }
   ],
   "source": [
    "test_prediction2 = list(model3.predict(X_test2_x))\n"
   ]
  },
  {
   "cell_type": "code",
   "execution_count": 60,
   "id": "4bbce8f5",
   "metadata": {},
   "outputs": [],
   "source": [
    "test_results2 = pd.DataFrame(columns = ['test_predictions', 'test_actual'])\n",
    "\n",
    "#train_predictions\n",
    "\n",
    "test_results2['date'] = list(y_test2.index)\n",
    "test_results2['test_predictions'] = [x[0] for x in test_prediction2]\n",
    "test_results2['test_actual'] = list(y[120:132])"
   ]
  },
  {
   "cell_type": "code",
   "execution_count": 61,
   "id": "0f4efd14",
   "metadata": {},
   "outputs": [],
   "source": [
    "test_results2.set_index('date', inplace=True)"
   ]
  },
  {
   "cell_type": "code",
   "execution_count": 62,
   "id": "a204ba54",
   "metadata": {},
   "outputs": [
    {
     "data": {
      "text/plain": [
       "<matplotlib.legend.Legend at 0x7f0ac99b9df0>"
      ]
     },
     "execution_count": 62,
     "metadata": {},
     "output_type": "execute_result"
    },
    {
     "data": {
      "image/png": "[encoded data removed]",
      "text/plain": [
       "<Figure size 640x480 with 1 Axes>"
      ]
     },
     "metadata": {},
     "output_type": "display_data"
    }
   ],
   "source": [
    "plt.plot(y)\n",
    "plt.plot(test_results2['test_predictions'], label='prediction')\n",
    "plt.plot(test_results2['test_actual'], label='actual')\n",
    "plt.title('2019-20 Inflation Prediciton')\n",
    "plt.legend()\n",
    "#plt.savefig('LSTM_2019-20')"
   ]
  },
  {
   "cell_type": "markdown",
   "id": "34885ce3",
   "metadata": {},
   "source": [
    "# LSTM 2020-2021"
   ]
  },
  {
   "cell_type": "code",
   "execution_count": 63,
   "id": "3cd9888c",
   "metadata": {},
   "outputs": [
    {
     "data": {
      "text/html": [
       "<div>\n",
       "<style scoped>\n",
       "    .dataframe tbody tr th:only-of-type {\n",
       "        vertical-align: middle;\n",
       "    }\n",
       "\n",
       "    .dataframe tbody tr th {\n",
       "        vertical-align: top;\n",
       "    }\n",
       "\n",
       "    .dataframe thead th {\n",
       "        text-align: right;\n",
       "    }\n",
       "</style>\n",
       "<table border=\"1\" class=\"dataframe\">\n",
       "  <thead>\n",
       "    <tr style=\"text-align: right;\">\n",
       "      <th></th>\n",
       "      <th>Brent_Crude_GBP</th>\n",
       "      <th>WTI_Crude_GBP</th>\n",
       "      <th>GBP Curncy</th>\n",
       "      <th>GBPEUR Curncy</th>\n",
       "      <th>UKX Index</th>\n",
       "      <th>SPX Index</th>\n",
       "      <th>SX5E Index</th>\n",
       "      <th>Natural_Gas</th>\n",
       "      <th>GBP_IRS_2y</th>\n",
       "      <th>GBP_IRS_10y</th>\n",
       "      <th>Nationwide_HPI</th>\n",
       "    </tr>\n",
       "    <tr>\n",
       "      <th>Date</th>\n",
       "      <th></th>\n",
       "      <th></th>\n",
       "      <th></th>\n",
       "      <th></th>\n",
       "      <th></th>\n",
       "      <th></th>\n",
       "      <th></th>\n",
       "      <th></th>\n",
       "      <th></th>\n",
       "      <th></th>\n",
       "      <th></th>\n",
       "    </tr>\n",
       "  </thead>\n",
       "  <tbody>\n",
       "    <tr>\n",
       "      <th>2020-01-01</th>\n",
       "      <td>49.021977</td>\n",
       "      <td>37.434634</td>\n",
       "      <td>1.298861</td>\n",
       "      <td>1.160843</td>\n",
       "      <td>7036.697727</td>\n",
       "      <td>2497.268828</td>\n",
       "      <td>3060.333106</td>\n",
       "      <td>7.781994</td>\n",
       "      <td>0.692330</td>\n",
       "      <td>0.710236</td>\n",
       "      <td>430.7</td>\n",
       "    </tr>\n",
       "    <tr>\n",
       "      <th>2020-02-01</th>\n",
       "      <td>42.943990</td>\n",
       "      <td>35.965277</td>\n",
       "      <td>1.291857</td>\n",
       "      <td>1.164014</td>\n",
       "      <td>6796.644286</td>\n",
       "      <td>2501.024605</td>\n",
       "      <td>3019.880708</td>\n",
       "      <td>7.418630</td>\n",
       "      <td>0.683318</td>\n",
       "      <td>0.645300</td>\n",
       "      <td>431.1</td>\n",
       "    </tr>\n",
       "    <tr>\n",
       "      <th>2020-03-01</th>\n",
       "      <td>27.211757</td>\n",
       "      <td>25.801736</td>\n",
       "      <td>1.239504</td>\n",
       "      <td>1.111822</td>\n",
       "      <td>5813.382174</td>\n",
       "      <td>2243.053117</td>\n",
       "      <td>2631.283557</td>\n",
       "      <td>6.975790</td>\n",
       "      <td>0.496927</td>\n",
       "      <td>0.614401</td>\n",
       "      <td>438.0</td>\n",
       "    </tr>\n",
       "    <tr>\n",
       "      <th>2020-04-01</th>\n",
       "      <td>21.072957</td>\n",
       "      <td>17.991584</td>\n",
       "      <td>1.263773</td>\n",
       "      <td>1.139632</td>\n",
       "      <td>6002.315714</td>\n",
       "      <td>2370.656764</td>\n",
       "      <td>2666.200693</td>\n",
       "      <td>5.995653</td>\n",
       "      <td>0.470125</td>\n",
       "      <td>0.524649</td>\n",
       "      <td>444.7</td>\n",
       "    </tr>\n",
       "    <tr>\n",
       "      <th>2020-05-01</th>\n",
       "      <td>25.990237</td>\n",
       "      <td>28.047836</td>\n",
       "      <td>1.247080</td>\n",
       "      <td>1.123495</td>\n",
       "      <td>6134.460000</td>\n",
       "      <td>2450.288506</td>\n",
       "      <td>2722.792714</td>\n",
       "      <td>4.950512</td>\n",
       "      <td>0.327838</td>\n",
       "      <td>0.459777</td>\n",
       "      <td>436.7</td>\n",
       "    </tr>\n",
       "    <tr>\n",
       "      <th>2020-06-01</th>\n",
       "      <td>32.338286</td>\n",
       "      <td>31.462164</td>\n",
       "      <td>1.260819</td>\n",
       "      <td>1.118319</td>\n",
       "      <td>6267.593333</td>\n",
       "      <td>2475.319143</td>\n",
       "      <td>2906.093329</td>\n",
       "      <td>5.429804</td>\n",
       "      <td>0.243187</td>\n",
       "      <td>0.453932</td>\n",
       "      <td>431.7</td>\n",
       "    </tr>\n",
       "    <tr>\n",
       "      <th>2020-07-01</th>\n",
       "      <td>33.762927</td>\n",
       "      <td>31.986664</td>\n",
       "      <td>1.280167</td>\n",
       "      <td>1.112688</td>\n",
       "      <td>6244.110000</td>\n",
       "      <td>2520.160305</td>\n",
       "      <td>2990.676103</td>\n",
       "      <td>5.291466</td>\n",
       "      <td>0.139427</td>\n",
       "      <td>0.406336</td>\n",
       "      <td>440.7</td>\n",
       "    </tr>\n",
       "    <tr>\n",
       "      <th>2020-08-01</th>\n",
       "      <td>34.536521</td>\n",
       "      <td>31.706150</td>\n",
       "      <td>1.303548</td>\n",
       "      <td>1.117148</td>\n",
       "      <td>6163.494211</td>\n",
       "      <td>2569.477068</td>\n",
       "      <td>2952.475053</td>\n",
       "      <td>6.921193</td>\n",
       "      <td>0.104939</td>\n",
       "      <td>0.457958</td>\n",
       "      <td>447.1</td>\n",
       "    </tr>\n",
       "    <tr>\n",
       "      <th>2020-09-01</th>\n",
       "      <td>32.488230</td>\n",
       "      <td>30.814480</td>\n",
       "      <td>1.288886</td>\n",
       "      <td>1.106245</td>\n",
       "      <td>6078.599545</td>\n",
       "      <td>2558.413712</td>\n",
       "      <td>2949.601847</td>\n",
       "      <td>8.556717</td>\n",
       "      <td>0.066389</td>\n",
       "      <td>0.432595</td>\n",
       "      <td>451.1</td>\n",
       "    </tr>\n",
       "    <tr>\n",
       "      <th>2020-10-01</th>\n",
       "      <td>32.041533</td>\n",
       "      <td>31.666313</td>\n",
       "      <td>1.295946</td>\n",
       "      <td>1.114825</td>\n",
       "      <td>6064.609130</td>\n",
       "      <td>2604.212440</td>\n",
       "      <td>2912.902883</td>\n",
       "      <td>9.773120</td>\n",
       "      <td>0.067569</td>\n",
       "      <td>0.456873</td>\n",
       "      <td>454.5</td>\n",
       "    </tr>\n",
       "    <tr>\n",
       "      <th>2020-11-01</th>\n",
       "      <td>33.509593</td>\n",
       "      <td>31.420306</td>\n",
       "      <td>1.312460</td>\n",
       "      <td>1.120650</td>\n",
       "      <td>6341.776000</td>\n",
       "      <td>2629.603950</td>\n",
       "      <td>3040.355151</td>\n",
       "      <td>9.288855</td>\n",
       "      <td>0.078702</td>\n",
       "      <td>0.489245</td>\n",
       "      <td>458.3</td>\n",
       "    </tr>\n",
       "    <tr>\n",
       "      <th>2020-12-01</th>\n",
       "      <td>37.848282</td>\n",
       "      <td>33.594016</td>\n",
       "      <td>1.326829</td>\n",
       "      <td>1.112471</td>\n",
       "      <td>6403.940526</td>\n",
       "      <td>2653.848113</td>\n",
       "      <td>3079.265150</td>\n",
       "      <td>10.773414</td>\n",
       "      <td>0.060186</td>\n",
       "      <td>0.463352</td>\n",
       "      <td>460.7</td>\n",
       "    </tr>\n",
       "  </tbody>\n",
       "</table>\n",
       "</div>"
      ],
      "text/plain": [
       "            Brent_Crude_GBP  WTI_Crude_GBP  GBP Curncy  GBPEUR Curncy  \\\n",
       "Date                                                                    \n",
       "2020-01-01        49.021977      37.434634    1.298861       1.160843   \n",
       "2020-02-01        42.943990      35.965277    1.291857       1.164014   \n",
       "2020-03-01        27.211757      25.801736    1.239504       1.111822   \n",
       "2020-04-01        21.072957      17.991584    1.263773       1.139632   \n",
       "2020-05-01        25.990237      28.047836    1.247080       1.123495   \n",
       "2020-06-01        32.338286      31.462164    1.260819       1.118319   \n",
       "2020-07-01        33.762927      31.986664    1.280167       1.112688   \n",
       "2020-08-01        34.536521      31.706150    1.303548       1.117148   \n",
       "2020-09-01        32.488230      30.814480    1.288886       1.106245   \n",
       "2020-10-01        32.041533      31.666313    1.295946       1.114825   \n",
       "2020-11-01        33.509593      31.420306    1.312460       1.120650   \n",
       "2020-12-01        37.848282      33.594016    1.326829       1.112471   \n",
       "\n",
       "              UKX Index    SPX Index   SX5E Index  Natural_Gas  GBP_IRS_2y  \\\n",
       "Date                                                                         \n",
       "2020-01-01  7036.697727  2497.268828  3060.333106     7.781994    0.692330   \n",
       "2020-02-01  6796.644286  2501.024605  3019.880708     7.418630    0.683318   \n",
       "2020-03-01  5813.382174  2243.053117  2631.283557     6.975790    0.496927   \n",
       "2020-04-01  6002.315714  2370.656764  2666.200693     5.995653    0.470125   \n",
       "2020-05-01  6134.460000  2450.288506  2722.792714     4.950512    0.327838   \n",
       "2020-06-01  6267.593333  2475.319143  2906.093329     5.429804    0.243187   \n",
       "2020-07-01  6244.110000  2520.160305  2990.676103     5.291466    0.139427   \n",
       "2020-08-01  6163.494211  2569.477068  2952.475053     6.921193    0.104939   \n",
       "2020-09-01  6078.599545  2558.413712  2949.601847     8.556717    0.066389   \n",
       "2020-10-01  6064.609130  2604.212440  2912.902883     9.773120    0.067569   \n",
       "2020-11-01  6341.776000  2629.603950  3040.355151     9.288855    0.078702   \n",
       "2020-12-01  6403.940526  2653.848113  3079.265150    10.773414    0.060186   \n",
       "\n",
       "            GBP_IRS_10y  Nationwide_HPI  \n",
       "Date                                     \n",
       "2020-01-01     0.710236           430.7  \n",
       "2020-02-01     0.645300           431.1  \n",
       "2020-03-01     0.614401           438.0  \n",
       "2020-04-01     0.524649           444.7  \n",
       "2020-05-01     0.459777           436.7  \n",
       "2020-06-01     0.453932           431.7  \n",
       "2020-07-01     0.406336           440.7  \n",
       "2020-08-01     0.457958           447.1  \n",
       "2020-09-01     0.432595           451.1  \n",
       "2020-10-01     0.456873           454.5  \n",
       "2020-11-01     0.489245           458.3  \n",
       "2020-12-01     0.463352           460.7  "
      ]
     },
     "execution_count": 63,
     "metadata": {},
     "output_type": "execute_result"
    }
   ],
   "source": [
    "X[132:144]"
   ]
  },
  {
   "cell_type": "code",
   "execution_count": 64,
   "id": "6dedc34e",
   "metadata": {},
   "outputs": [
    {
     "data": {
      "text/plain": [
       "((108, 11), (108,), (24, 11), (24,), (12, 11), (12,))"
      ]
     },
     "execution_count": 64,
     "metadata": {},
     "output_type": "execute_result"
    }
   ],
   "source": [
    "X_train3, y_train3 = X[:108], y[:108]\n",
    "X_val3, y_val3 = X[108:132], y[108:132]\n",
    "X_test3, y_test3 = X[132:144], y[132:144]\n",
    "X_train3.shape, y_train3.shape, X_val3.shape, y_val3.shape, X_test3.shape, y_test3.shape"
   ]
  },
  {
   "cell_type": "code",
   "execution_count": 65,
   "id": "e92697e6",
   "metadata": {},
   "outputs": [
    {
     "data": {
      "text/plain": [
       "TensorShape([108, 1, 1])"
      ]
     },
     "execution_count": 65,
     "metadata": {},
     "output_type": "execute_result"
    }
   ],
   "source": [
    "y_train3_x = expand_dims(y_train3, -1)\n",
    "y_train3_x = expand_dims(y_train3_x, -1)\n",
    "\n",
    "y_train3_x.shape"
   ]
  },
  {
   "cell_type": "code",
   "execution_count": 66,
   "id": "067fc805",
   "metadata": {},
   "outputs": [],
   "source": [
    "y_val3_x = expand_dims(y_val3, -1)\n",
    "y_val3_x = expand_dims(y_val3_x, -1)"
   ]
  },
  {
   "cell_type": "code",
   "execution_count": 67,
   "id": "02e1405c",
   "metadata": {},
   "outputs": [],
   "source": [
    "X_test3_x = expand_dims(X_test3, -2)"
   ]
  },
  {
   "cell_type": "code",
   "execution_count": 68,
   "id": "b020473f",
   "metadata": {},
   "outputs": [
    {
     "data": {
      "text/plain": [
       "TensorShape([108, 1, 11])"
      ]
     },
     "execution_count": 68,
     "metadata": {},
     "output_type": "execute_result"
    }
   ],
   "source": [
    "X_train3_x = expand_dims(X_train3, -2)\n",
    "X_train3_x.shape"
   ]
  },
  {
   "cell_type": "code",
   "execution_count": 69,
   "id": "58f0e2f8",
   "metadata": {},
   "outputs": [
    {
     "data": {
      "text/plain": [
       "TensorShape([24, 1, 11])"
      ]
     },
     "execution_count": 69,
     "metadata": {},
     "output_type": "execute_result"
    }
   ],
   "source": [
    "X_val3_x = expand_dims(X_val3, -2)\n",
    "X_val3_x.shape"
   ]
  },
  {
   "cell_type": "code",
   "execution_count": 70,
   "id": "8fc5c1ff",
   "metadata": {},
   "outputs": [
    {
     "name": "stdout",
     "output_type": "stream",
     "text": [
      "Model: \"sequential_3\"\n",
      "_________________________________________________________________\n",
      " Layer (type)                Output Shape              Param #   \n",
      "=================================================================\n",
      " normalization_3 (Normalizat  (None, None, 11)         23        \n",
      " ion)                                                            \n",
      "                                                                 \n",
      " lstm_6 (LSTM)               (None, None, 100)         44800     \n",
      "                                                                 \n",
      " lstm_7 (LSTM)               (None, 50)                30200     \n",
      "                                                                 \n",
      " flatten_3 (Flatten)         (None, 50)                0         \n",
      "                                                                 \n",
      " dense_12 (Dense)            (None, 100)               5100      \n",
      "                                                                 \n",
      " dense_13 (Dense)            (None, 50)                5050      \n",
      "                                                                 \n",
      " dense_14 (Dense)            (None, 25)                1275      \n",
      "                                                                 \n",
      " dense_15 (Dense)            (None, 1)                 26        \n",
      "                                                                 \n",
      "=================================================================\n",
      "Total params: 86,474\n",
      "Trainable params: 86,451\n",
      "Non-trainable params: 23\n",
      "_________________________________________________________________\n"
     ]
    }
   ],
   "source": [
    "normalizer = Normalization()\n",
    "normalizer.adapt(X_train3_x)\n",
    "\n",
    "model4 = Sequential()\n",
    "model4.add(normalizer)\n",
    "\n",
    "model4.add(LSTM(units = 100, activation='tanh', return_sequences = True))\n",
    "model4.add(LSTM(units = 50 , activation='tanh', return_sequences = False))\n",
    "\n",
    "model4.add(Flatten())\n",
    "\n",
    "model4.add(Dense(100,activation =  'relu'))\n",
    "model4.add(Dense(50,activation =  'relu'))\n",
    "model4.add(Dense(25,activation =  'relu'))\n",
    "\n",
    "model4.add(Dense(1, activation = 'linear'))\n",
    "\n",
    "model4.summary()"
   ]
  },
  {
   "cell_type": "code",
   "execution_count": 71,
   "id": "6c41f32c",
   "metadata": {},
   "outputs": [],
   "source": [
    "model4.compile(loss= mape, optimizer= adam, metrics=['mape'])"
   ]
  },
  {
   "cell_type": "code",
   "execution_count": 72,
   "id": "027dd637",
   "metadata": {},
   "outputs": [
    {
     "name": "stdout",
     "output_type": "stream",
     "text": [
      "Epoch 1/10000\n",
      "4/4 [==============================] - 5s 315ms/step - loss: 99.9771 - mape: 99.9771 - val_loss: 99.9111 - val_mape: 99.9111\n",
      "Epoch 2/10000\n",
      "4/4 [==============================] - 0s 20ms/step - loss: 99.7972 - mape: 99.7972 - val_loss: 99.6103 - val_mape: 99.6103\n",
      "Epoch 3/10000\n",
      "4/4 [==============================] - 0s 19ms/step - loss: 99.1383 - mape: 99.1383 - val_loss: 98.5702 - val_mape: 98.5702\n",
      "Epoch 4/10000\n",
      "4/4 [==============================] - 0s 18ms/step - loss: 96.6223 - mape: 96.6223 - val_loss: 95.7757 - val_mape: 95.7757\n",
      "Epoch 5/10000\n",
      "4/4 [==============================] - 0s 18ms/step - loss: 89.0518 - mape: 89.0518 - val_loss: 89.5031 - val_mape: 89.5031\n",
      "Epoch 6/10000\n",
      "4/4 [==============================] - 0s 17ms/step - loss: 69.5361 - mape: 69.5361 - val_loss: 77.2417 - val_mape: 77.2417\n",
      "Epoch 7/10000\n",
      "4/4 [==============================] - 0s 19ms/step - loss: 42.9987 - mape: 42.9987 - val_loss: 55.5874 - val_mape: 55.5874\n",
      "Epoch 8/10000\n",
      "4/4 [==============================] - 0s 19ms/step - loss: 41.9045 - mape: 41.9045 - val_loss: 27.7056 - val_mape: 27.7056\n",
      "Epoch 9/10000\n",
      "4/4 [==============================] - 0s 20ms/step - loss: 18.8069 - mape: 18.8069 - val_loss: 2.7381 - val_mape: 2.7381\n",
      "Epoch 10/10000\n",
      "4/4 [==============================] - 0s 18ms/step - loss: 16.7108 - mape: 16.7108 - val_loss: 8.6814 - val_mape: 8.6814\n",
      "Epoch 11/10000\n",
      "4/4 [==============================] - 0s 17ms/step - loss: 13.4371 - mape: 13.4371 - val_loss: 2.5080 - val_mape: 2.5080\n",
      "Epoch 12/10000\n",
      "4/4 [==============================] - 0s 17ms/step - loss: 8.1229 - mape: 8.1229 - val_loss: 15.0258 - val_mape: 15.0258\n",
      "Epoch 13/10000\n",
      "4/4 [==============================] - 0s 16ms/step - loss: 9.4563 - mape: 9.4563 - val_loss: 12.9436 - val_mape: 12.9436\n",
      "Epoch 14/10000\n",
      "4/4 [==============================] - 0s 17ms/step - loss: 6.3217 - mape: 6.3217 - val_loss: 1.8425 - val_mape: 1.8425\n",
      "Epoch 15/10000\n",
      "4/4 [==============================] - 0s 17ms/step - loss: 6.8424 - mape: 6.8424 - val_loss: 2.8841 - val_mape: 2.8841\n",
      "Epoch 16/10000\n",
      "4/4 [==============================] - 0s 17ms/step - loss: 5.7350 - mape: 5.7350 - val_loss: 9.6229 - val_mape: 9.6229\n",
      "Epoch 17/10000\n",
      "4/4 [==============================] - 0s 15ms/step - loss: 4.6382 - mape: 4.6382 - val_loss: 3.5583 - val_mape: 3.5583\n",
      "Epoch 18/10000\n",
      "4/4 [==============================] - 0s 16ms/step - loss: 5.0361 - mape: 5.0361 - val_loss: 7.7842 - val_mape: 7.7842\n",
      "Epoch 19/10000\n",
      "4/4 [==============================] - 0s 16ms/step - loss: 3.7109 - mape: 3.7109 - val_loss: 3.8514 - val_mape: 3.8514\n",
      "Epoch 20/10000\n",
      "4/4 [==============================] - 0s 17ms/step - loss: 3.3323 - mape: 3.3323 - val_loss: 7.7401 - val_mape: 7.7401\n",
      "Epoch 21/10000\n",
      "4/4 [==============================] - 0s 18ms/step - loss: 3.3849 - mape: 3.3849 - val_loss: 5.5749 - val_mape: 5.5749\n",
      "Epoch 22/10000\n",
      "4/4 [==============================] - 0s 18ms/step - loss: 2.8411 - mape: 2.8411 - val_loss: 5.2835 - val_mape: 5.2835\n",
      "Epoch 23/10000\n",
      "4/4 [==============================] - 0s 17ms/step - loss: 2.4757 - mape: 2.4757 - val_loss: 6.1738 - val_mape: 6.1738\n",
      "Epoch 24/10000\n",
      "4/4 [==============================] - 0s 17ms/step - loss: 2.3850 - mape: 2.3850 - val_loss: 4.1275 - val_mape: 4.1275\n",
      "Epoch 25/10000\n",
      "4/4 [==============================] - 0s 18ms/step - loss: 2.2751 - mape: 2.2751 - val_loss: 6.2187 - val_mape: 6.2187\n",
      "Epoch 26/10000\n",
      "4/4 [==============================] - 0s 16ms/step - loss: 2.2261 - mape: 2.2261 - val_loss: 3.8053 - val_mape: 3.8053\n",
      "Epoch 27/10000\n",
      "4/4 [==============================] - 0s 16ms/step - loss: 2.3387 - mape: 2.3387 - val_loss: 5.7701 - val_mape: 5.7701\n",
      "Epoch 28/10000\n",
      "4/4 [==============================] - 0s 16ms/step - loss: 2.0931 - mape: 2.0931 - val_loss: 4.0416 - val_mape: 4.0416\n",
      "Epoch 29/10000\n",
      "4/4 [==============================] - 0s 16ms/step - loss: 2.0245 - mape: 2.0245 - val_loss: 5.3025 - val_mape: 5.3025\n",
      "Epoch 30/10000\n",
      "4/4 [==============================] - 0s 17ms/step - loss: 1.9230 - mape: 1.9230 - val_loss: 5.1747 - val_mape: 5.1747\n",
      "Epoch 31/10000\n",
      "4/4 [==============================] - 0s 19ms/step - loss: 1.8870 - mape: 1.8870 - val_loss: 4.4452 - val_mape: 4.4452\n",
      "Epoch 32/10000\n",
      "4/4 [==============================] - 0s 18ms/step - loss: 1.6890 - mape: 1.6890 - val_loss: 5.8952 - val_mape: 5.8952\n",
      "Epoch 33/10000\n",
      "4/4 [==============================] - 0s 17ms/step - loss: 1.8118 - mape: 1.8118 - val_loss: 4.8779 - val_mape: 4.8779\n",
      "Epoch 34/10000\n",
      "4/4 [==============================] - 0s 16ms/step - loss: 1.7084 - mape: 1.7084 - val_loss: 5.4739 - val_mape: 5.4739\n",
      "Epoch 35/10000\n",
      "4/4 [==============================] - 0s 16ms/step - loss: 1.7029 - mape: 1.7029 - val_loss: 4.0314 - val_mape: 4.0314\n",
      "Epoch 36/10000\n",
      "4/4 [==============================] - 0s 16ms/step - loss: 1.6664 - mape: 1.6664 - val_loss: 5.1058 - val_mape: 5.1058\n",
      "Epoch 37/10000\n",
      "4/4 [==============================] - 0s 17ms/step - loss: 1.5353 - mape: 1.5353 - val_loss: 4.8380 - val_mape: 4.8380\n",
      "Epoch 38/10000\n",
      "4/4 [==============================] - 0s 18ms/step - loss: 1.4578 - mape: 1.4578 - val_loss: 4.5756 - val_mape: 4.5756\n",
      "Epoch 39/10000\n",
      "4/4 [==============================] - 0s 18ms/step - loss: 1.4319 - mape: 1.4319 - val_loss: 4.5036 - val_mape: 4.5036\n",
      "Epoch 40/10000\n",
      "4/4 [==============================] - 0s 15ms/step - loss: 1.3766 - mape: 1.3766 - val_loss: 4.7809 - val_mape: 4.7809\n",
      "Epoch 41/10000\n",
      "4/4 [==============================] - 0s 17ms/step - loss: 1.3511 - mape: 1.3511 - val_loss: 5.4149 - val_mape: 5.4149\n",
      "Epoch 42/10000\n",
      "4/4 [==============================] - 0s 18ms/step - loss: 1.2784 - mape: 1.2784 - val_loss: 4.1887 - val_mape: 4.1887\n",
      "Epoch 43/10000\n",
      "4/4 [==============================] - 0s 16ms/step - loss: 1.2557 - mape: 1.2557 - val_loss: 4.9635 - val_mape: 4.9635\n",
      "Epoch 44/10000\n",
      "4/4 [==============================] - 0s 16ms/step - loss: 1.2692 - mape: 1.2692 - val_loss: 4.3095 - val_mape: 4.3095\n",
      "Epoch 45/10000\n",
      "4/4 [==============================] - 0s 18ms/step - loss: 1.2229 - mape: 1.2229 - val_loss: 5.0760 - val_mape: 5.0760\n",
      "Epoch 46/10000\n",
      "4/4 [==============================] - 0s 19ms/step - loss: 1.5540 - mape: 1.5540 - val_loss: 3.3958 - val_mape: 3.3958\n",
      "Epoch 47/10000\n",
      "4/4 [==============================] - 0s 17ms/step - loss: 1.5933 - mape: 1.5933 - val_loss: 5.2237 - val_mape: 5.2237\n",
      "Epoch 48/10000\n",
      "4/4 [==============================] - 0s 17ms/step - loss: 1.2617 - mape: 1.2617 - val_loss: 3.4333 - val_mape: 3.4333\n",
      "Epoch 49/10000\n",
      "4/4 [==============================] - 0s 18ms/step - loss: 1.4545 - mape: 1.4545 - val_loss: 4.6973 - val_mape: 4.6973\n",
      "Epoch 50/10000\n",
      "4/4 [==============================] - 0s 18ms/step - loss: 1.3686 - mape: 1.3686 - val_loss: 4.2575 - val_mape: 4.2575\n",
      "Epoch 51/10000\n",
      "4/4 [==============================] - 0s 19ms/step - loss: 1.3861 - mape: 1.3861 - val_loss: 4.7415 - val_mape: 4.7415\n",
      "Epoch 52/10000\n",
      "4/4 [==============================] - 0s 19ms/step - loss: 1.2596 - mape: 1.2596 - val_loss: 4.4553 - val_mape: 4.4553\n",
      "Epoch 53/10000\n",
      "4/4 [==============================] - 0s 21ms/step - loss: 1.4394 - mape: 1.4394 - val_loss: 3.2194 - val_mape: 3.2194\n",
      "Epoch 54/10000\n",
      "4/4 [==============================] - 0s 18ms/step - loss: 1.4028 - mape: 1.4028 - val_loss: 5.1016 - val_mape: 5.1016\n",
      "Epoch 55/10000\n",
      "4/4 [==============================] - 0s 16ms/step - loss: 1.2374 - mape: 1.2374 - val_loss: 3.5192 - val_mape: 3.5192\n",
      "Epoch 56/10000\n",
      "4/4 [==============================] - 0s 14ms/step - loss: 1.1247 - mape: 1.1247 - val_loss: 5.0752 - val_mape: 5.0752\n",
      "Epoch 57/10000\n",
      "4/4 [==============================] - 0s 15ms/step - loss: 0.9491 - mape: 0.9491 - val_loss: 3.7082 - val_mape: 3.7082\n",
      "Epoch 58/10000\n",
      "4/4 [==============================] - 0s 17ms/step - loss: 0.8937 - mape: 0.8937 - val_loss: 4.0006 - val_mape: 4.0006\n",
      "Epoch 59/10000\n",
      "4/4 [==============================] - 0s 15ms/step - loss: 1.0833 - mape: 1.0833 - val_loss: 4.6763 - val_mape: 4.6763\n",
      "Epoch 60/10000\n",
      "4/4 [==============================] - 0s 16ms/step - loss: 1.0290 - mape: 1.0290 - val_loss: 4.4574 - val_mape: 4.4574\n",
      "Epoch 61/10000\n"
     ]
    },
    {
     "name": "stdout",
     "output_type": "stream",
     "text": [
      "4/4 [==============================] - 0s 15ms/step - loss: 1.0320 - mape: 1.0320 - val_loss: 4.0834 - val_mape: 4.0834\n",
      "Epoch 62/10000\n",
      "4/4 [==============================] - 0s 16ms/step - loss: 0.7875 - mape: 0.7875 - val_loss: 3.6802 - val_mape: 3.6802\n",
      "Epoch 63/10000\n",
      "4/4 [==============================] - 0s 15ms/step - loss: 0.8032 - mape: 0.8032 - val_loss: 3.8730 - val_mape: 3.8730\n",
      "Epoch 64/10000\n",
      "4/4 [==============================] - 0s 17ms/step - loss: 0.7273 - mape: 0.7273 - val_loss: 3.8850 - val_mape: 3.8850\n"
     ]
    },
    {
     "data": {
      "text/plain": [
       "<keras.callbacks.History at 0x7f0aca0068e0>"
      ]
     },
     "execution_count": 72,
     "metadata": {},
     "output_type": "execute_result"
    }
   ],
   "source": [
    "model4.fit(X_train3_x, y_train3,batch_size = 32, validation_data=(X_val3_x, y_val3), epochs=10000, callbacks = (es))"
   ]
  },
  {
   "cell_type": "code",
   "execution_count": 73,
   "id": "07841331",
   "metadata": {},
   "outputs": [
    {
     "name": "stdout",
     "output_type": "stream",
     "text": [
      "1/1 [==============================] - 1s 796ms/step\n"
     ]
    }
   ],
   "source": [
    "test_prediction3 = list(model4.predict(X_test3_x))\n"
   ]
  },
  {
   "cell_type": "code",
   "execution_count": 74,
   "id": "71092688",
   "metadata": {},
   "outputs": [],
   "source": [
    "test_results3 = pd.DataFrame(columns = ['test_predictions', 'test_actual'])\n",
    "\n",
    "#train_predictions\n",
    "\n",
    "test_results3['date'] = list(y_test3.index)\n",
    "test_results3['test_predictions'] = [x[0] for x in test_prediction3]\n",
    "test_results3['test_actual'] = list(y_test3)"
   ]
  },
  {
   "cell_type": "code",
   "execution_count": 75,
   "id": "082bc6a8",
   "metadata": {},
   "outputs": [],
   "source": [
    "test_results3.set_index('date', inplace=True)"
   ]
  },
  {
   "cell_type": "code",
   "execution_count": 76,
   "id": "b4f22575",
   "metadata": {},
   "outputs": [
    {
     "data": {
      "image/png": "[encoded data removed]",
      "text/plain": [
       "<Figure size 640x480 with 1 Axes>"
      ]
     },
     "metadata": {},
     "output_type": "display_data"
    }
   ],
   "source": [
    "plt.plot(y)\n",
    "plt.plot(test_results3['test_predictions'], label='prediction')\n",
    "plt.plot(test_results3['test_actual'], label='actual')\n",
    "plt.title('2020-21 Inflation Prediciton')\n",
    "plt.legend()\n",
    "plt.savefig('LSTM_2020-21')"
   ]
  },
  {
   "cell_type": "markdown",
   "id": "f8088958",
   "metadata": {},
   "source": [
    "# LSTM 2021-2022"
   ]
  },
  {
   "cell_type": "code",
   "execution_count": 77,
   "id": "0c2be476",
   "metadata": {},
   "outputs": [
    {
     "data": {
      "text/html": [
       "<div>\n",
       "<style scoped>\n",
       "    .dataframe tbody tr th:only-of-type {\n",
       "        vertical-align: middle;\n",
       "    }\n",
       "\n",
       "    .dataframe tbody tr th {\n",
       "        vertical-align: top;\n",
       "    }\n",
       "\n",
       "    .dataframe thead th {\n",
       "        text-align: right;\n",
       "    }\n",
       "</style>\n",
       "<table border=\"1\" class=\"dataframe\">\n",
       "  <thead>\n",
       "    <tr style=\"text-align: right;\">\n",
       "      <th></th>\n",
       "      <th>Brent_Crude_GBP</th>\n",
       "      <th>WTI_Crude_GBP</th>\n",
       "      <th>GBP Curncy</th>\n",
       "      <th>GBPEUR Curncy</th>\n",
       "      <th>UKX Index</th>\n",
       "      <th>SPX Index</th>\n",
       "      <th>SX5E Index</th>\n",
       "      <th>Natural_Gas</th>\n",
       "      <th>GBP_IRS_2y</th>\n",
       "      <th>GBP_IRS_10y</th>\n",
       "      <th>Nationwide_HPI</th>\n",
       "    </tr>\n",
       "    <tr>\n",
       "      <th>Date</th>\n",
       "      <th></th>\n",
       "      <th></th>\n",
       "      <th></th>\n",
       "      <th></th>\n",
       "      <th></th>\n",
       "      <th></th>\n",
       "      <th></th>\n",
       "      <th></th>\n",
       "      <th></th>\n",
       "      <th></th>\n",
       "      <th></th>\n",
       "    </tr>\n",
       "  </thead>\n",
       "  <tbody>\n",
       "    <tr>\n",
       "      <th>2009-01-01</th>\n",
       "      <td>30.903838</td>\n",
       "      <td>33.424333</td>\n",
       "      <td>1.479027</td>\n",
       "      <td>1.099905</td>\n",
       "      <td>4308.390000</td>\n",
       "      <td>596.071497</td>\n",
       "      <td>2135.982324</td>\n",
       "      <td>12.472805</td>\n",
       "      <td>2.122545</td>\n",
       "      <td>3.757500</td>\n",
       "      <td>300.2</td>\n",
       "    </tr>\n",
       "    <tr>\n",
       "      <th>2009-02-01</th>\n",
       "      <td>29.393166</td>\n",
       "      <td>33.617553</td>\n",
       "      <td>1.492643</td>\n",
       "      <td>1.120824</td>\n",
       "      <td>4232.114762</td>\n",
       "      <td>570.410394</td>\n",
       "      <td>2020.716905</td>\n",
       "      <td>9.467866</td>\n",
       "      <td>2.129905</td>\n",
       "      <td>3.798333</td>\n",
       "      <td>294.7</td>\n",
       "    </tr>\n",
       "    <tr>\n",
       "      <th>2009-03-01</th>\n",
       "      <td>31.733352</td>\n",
       "      <td>36.826152</td>\n",
       "      <td>1.494241</td>\n",
       "      <td>1.097877</td>\n",
       "      <td>4107.840909</td>\n",
       "      <td>566.393975</td>\n",
       "      <td>2029.160819</td>\n",
       "      <td>8.064295</td>\n",
       "      <td>2.142045</td>\n",
       "      <td>3.872500</td>\n",
       "      <td>301.1</td>\n",
       "    </tr>\n",
       "    <tr>\n",
       "      <th>2009-04-01</th>\n",
       "      <td>33.990786</td>\n",
       "      <td>36.012519</td>\n",
       "      <td>1.511936</td>\n",
       "      <td>1.125327</td>\n",
       "      <td>4259.890500</td>\n",
       "      <td>588.042125</td>\n",
       "      <td>2119.383029</td>\n",
       "      <td>7.762397</td>\n",
       "      <td>2.143250</td>\n",
       "      <td>3.935500</td>\n",
       "      <td>302.9</td>\n",
       "    </tr>\n",
       "    <tr>\n",
       "      <th>2009-05-01</th>\n",
       "      <td>37.524515</td>\n",
       "      <td>38.801542</td>\n",
       "      <td>1.561252</td>\n",
       "      <td>1.131686</td>\n",
       "      <td>4434.719500</td>\n",
       "      <td>582.718727</td>\n",
       "      <td>2164.120107</td>\n",
       "      <td>7.757394</td>\n",
       "      <td>2.031900</td>\n",
       "      <td>3.917500</td>\n",
       "      <td>307.2</td>\n",
       "    </tr>\n",
       "    <tr>\n",
       "      <th>...</th>\n",
       "      <td>...</td>\n",
       "      <td>...</td>\n",
       "      <td>...</td>\n",
       "      <td>...</td>\n",
       "      <td>...</td>\n",
       "      <td>...</td>\n",
       "      <td>...</td>\n",
       "      <td>...</td>\n",
       "      <td>...</td>\n",
       "      <td>...</td>\n",
       "      <td>...</td>\n",
       "    </tr>\n",
       "    <tr>\n",
       "      <th>2022-05-01</th>\n",
       "      <td>89.748267</td>\n",
       "      <td>85.128666</td>\n",
       "      <td>1.247484</td>\n",
       "      <td>1.178074</td>\n",
       "      <td>7472.767778</td>\n",
       "      <td>3274.256696</td>\n",
       "      <td>3179.554466</td>\n",
       "      <td>81.073170</td>\n",
       "      <td>2.538121</td>\n",
       "      <td>2.240542</td>\n",
       "      <td>538.4</td>\n",
       "    </tr>\n",
       "    <tr>\n",
       "      <th>2022-06-01</th>\n",
       "      <td>95.251442</td>\n",
       "      <td>87.836565</td>\n",
       "      <td>1.233611</td>\n",
       "      <td>1.167758</td>\n",
       "      <td>7238.188421</td>\n",
       "      <td>3172.340166</td>\n",
       "      <td>3058.969505</td>\n",
       "      <td>96.746393</td>\n",
       "      <td>2.933563</td>\n",
       "      <td>2.626558</td>\n",
       "      <td>541.8</td>\n",
       "    </tr>\n",
       "    <tr>\n",
       "      <th>2022-07-01</th>\n",
       "      <td>85.363871</td>\n",
       "      <td>80.415504</td>\n",
       "      <td>1.231479</td>\n",
       "      <td>1.184589</td>\n",
       "      <td>7303.865263</td>\n",
       "      <td>3298.689210</td>\n",
       "      <td>3082.959231</td>\n",
       "      <td>128.688654</td>\n",
       "      <td>2.700779</td>\n",
       "      <td>2.302258</td>\n",
       "      <td>541.0</td>\n",
       "    </tr>\n",
       "    <tr>\n",
       "      <th>2022-08-01</th>\n",
       "      <td>80.656541</td>\n",
       "      <td>78.913331</td>\n",
       "      <td>1.211816</td>\n",
       "      <td>1.181732</td>\n",
       "      <td>7453.987222</td>\n",
       "      <td>3446.779300</td>\n",
       "      <td>3131.457852</td>\n",
       "      <td>180.082147</td>\n",
       "      <td>3.368889</td>\n",
       "      <td>2.688500</td>\n",
       "      <td>546.1</td>\n",
       "    </tr>\n",
       "    <tr>\n",
       "      <th>2022-09-01</th>\n",
       "      <td>73.474167</td>\n",
       "      <td>80.706056</td>\n",
       "      <td>1.272420</td>\n",
       "      <td>1.180400</td>\n",
       "      <td>7403.016000</td>\n",
       "      <td>3300.260920</td>\n",
       "      <td>3208.537784</td>\n",
       "      <td>93.341821</td>\n",
       "      <td>2.475340</td>\n",
       "      <td>2.155940</td>\n",
       "      <td>NaN</td>\n",
       "    </tr>\n",
       "  </tbody>\n",
       "</table>\n",
       "<p>165 rows × 11 columns</p>\n",
       "</div>"
      ],
      "text/plain": [
       "            Brent_Crude_GBP  WTI_Crude_GBP  GBP Curncy  GBPEUR Curncy  \\\n",
       "Date                                                                    \n",
       "2009-01-01        30.903838      33.424333    1.479027       1.099905   \n",
       "2009-02-01        29.393166      33.617553    1.492643       1.120824   \n",
       "2009-03-01        31.733352      36.826152    1.494241       1.097877   \n",
       "2009-04-01        33.990786      36.012519    1.511936       1.125327   \n",
       "2009-05-01        37.524515      38.801542    1.561252       1.131686   \n",
       "...                     ...            ...         ...            ...   \n",
       "2022-05-01        89.748267      85.128666    1.247484       1.178074   \n",
       "2022-06-01        95.251442      87.836565    1.233611       1.167758   \n",
       "2022-07-01        85.363871      80.415504    1.231479       1.184589   \n",
       "2022-08-01        80.656541      78.913331    1.211816       1.181732   \n",
       "2022-09-01        73.474167      80.706056    1.272420       1.180400   \n",
       "\n",
       "              UKX Index    SPX Index   SX5E Index  Natural_Gas  GBP_IRS_2y  \\\n",
       "Date                                                                         \n",
       "2009-01-01  4308.390000   596.071497  2135.982324    12.472805    2.122545   \n",
       "2009-02-01  4232.114762   570.410394  2020.716905     9.467866    2.129905   \n",
       "2009-03-01  4107.840909   566.393975  2029.160819     8.064295    2.142045   \n",
       "2009-04-01  4259.890500   588.042125  2119.383029     7.762397    2.143250   \n",
       "2009-05-01  4434.719500   582.718727  2164.120107     7.757394    2.031900   \n",
       "...                 ...          ...          ...          ...         ...   \n",
       "2022-05-01  7472.767778  3274.256696  3179.554466    81.073170    2.538121   \n",
       "2022-06-01  7238.188421  3172.340166  3058.969505    96.746393    2.933563   \n",
       "2022-07-01  7303.865263  3298.689210  3082.959231   128.688654    2.700779   \n",
       "2022-08-01  7453.987222  3446.779300  3131.457852   180.082147    3.368889   \n",
       "2022-09-01  7403.016000  3300.260920  3208.537784    93.341821    2.475340   \n",
       "\n",
       "            GBP_IRS_10y  Nationwide_HPI  \n",
       "Date                                     \n",
       "2009-01-01     3.757500           300.2  \n",
       "2009-02-01     3.798333           294.7  \n",
       "2009-03-01     3.872500           301.1  \n",
       "2009-04-01     3.935500           302.9  \n",
       "2009-05-01     3.917500           307.2  \n",
       "...                 ...             ...  \n",
       "2022-05-01     2.240542           538.4  \n",
       "2022-06-01     2.626558           541.8  \n",
       "2022-07-01     2.302258           541.0  \n",
       "2022-08-01     2.688500           546.1  \n",
       "2022-09-01     2.155940             NaN  \n",
       "\n",
       "[165 rows x 11 columns]"
      ]
     },
     "execution_count": 77,
     "metadata": {},
     "output_type": "execute_result"
    }
   ],
   "source": [
    "X[:165]"
   ]
  },
  {
   "cell_type": "code",
   "execution_count": 78,
   "id": "41840571",
   "metadata": {},
   "outputs": [
    {
     "data": {
      "text/plain": [
       "((132, 11), (132,), (24, 11), (24,), (9, 11), (9,))"
      ]
     },
     "execution_count": 78,
     "metadata": {},
     "output_type": "execute_result"
    }
   ],
   "source": [
    "X_train4, y_train4 = X[:132], y[:132]\n",
    "X_val4, y_val4 = X[132:156], y[132:156]\n",
    "X_test4, y_test4 = X[156:165], y[156:165]\n",
    "X_train4.shape, y_train4.shape, X_val4.shape, y_val4.shape, X_test4.shape, y_test4.shape"
   ]
  },
  {
   "cell_type": "code",
   "execution_count": 79,
   "id": "ddf855cf",
   "metadata": {},
   "outputs": [
    {
     "data": {
      "text/plain": [
       "TensorShape([132, 1, 1])"
      ]
     },
     "execution_count": 79,
     "metadata": {},
     "output_type": "execute_result"
    }
   ],
   "source": [
    "y_train4_x = expand_dims(y_train4, -1)\n",
    "y_train4_x = expand_dims(y_train4_x, -1)\n",
    "\n",
    "y_train4_x.shape"
   ]
  },
  {
   "cell_type": "code",
   "execution_count": 80,
   "id": "7dfc5a8c",
   "metadata": {},
   "outputs": [],
   "source": [
    "y_val4_x = expand_dims(y_val4, -1)\n",
    "y_val4_x = expand_dims(y_val4_x, -1)"
   ]
  },
  {
   "cell_type": "code",
   "execution_count": 81,
   "id": "47704ba5",
   "metadata": {},
   "outputs": [],
   "source": [
    "X_test4_x = expand_dims(X_test4, -2)"
   ]
  },
  {
   "cell_type": "code",
   "execution_count": 82,
   "id": "7486696b",
   "metadata": {},
   "outputs": [
    {
     "data": {
      "text/plain": [
       "TensorShape([132, 1, 11])"
      ]
     },
     "execution_count": 82,
     "metadata": {},
     "output_type": "execute_result"
    }
   ],
   "source": [
    "X_train4_x = expand_dims(X_train4, -2)\n",
    "X_train4_x.shape"
   ]
  },
  {
   "cell_type": "code",
   "execution_count": 83,
   "id": "c493176e",
   "metadata": {},
   "outputs": [
    {
     "data": {
      "text/plain": [
       "TensorShape([24, 1, 11])"
      ]
     },
     "execution_count": 83,
     "metadata": {},
     "output_type": "execute_result"
    }
   ],
   "source": [
    "X_val4_x = expand_dims(X_val4, -2)\n",
    "X_val4_x.shape"
   ]
  },
  {
   "cell_type": "code",
   "execution_count": 84,
   "id": "4ba8aa7c",
   "metadata": {},
   "outputs": [
    {
     "name": "stdout",
     "output_type": "stream",
     "text": [
      "Model: \"sequential_4\"\n",
      "_________________________________________________________________\n",
      " Layer (type)                Output Shape              Param #   \n",
      "=================================================================\n",
      " normalization_4 (Normalizat  (None, None, 11)         23        \n",
      " ion)                                                            \n",
      "                                                                 \n",
      " lstm_8 (LSTM)               (None, None, 100)         44800     \n",
      "                                                                 \n",
      " lstm_9 (LSTM)               (None, 50)                30200     \n",
      "                                                                 \n",
      " flatten_4 (Flatten)         (None, 50)                0         \n",
      "                                                                 \n",
      " dense_16 (Dense)            (None, 100)               5100      \n",
      "                                                                 \n",
      " dense_17 (Dense)            (None, 50)                5050      \n",
      "                                                                 \n",
      " dense_18 (Dense)            (None, 25)                1275      \n",
      "                                                                 \n",
      " dense_19 (Dense)            (None, 1)                 26        \n",
      "                                                                 \n",
      "=================================================================\n",
      "Total params: 86,474\n",
      "Trainable params: 86,451\n",
      "Non-trainable params: 23\n",
      "_________________________________________________________________\n"
     ]
    }
   ],
   "source": [
    "normalizer = Normalization()\n",
    "normalizer.adapt(X_train4_x)\n",
    "\n",
    "model5 = Sequential()\n",
    "model5.add(normalizer)\n",
    "\n",
    "model5.add(LSTM(units = 100, activation='tanh', return_sequences = True))\n",
    "model5.add(LSTM(units = 50 , activation='tanh', return_sequences = False))\n",
    "\n",
    "model5.add(Flatten())\n",
    "\n",
    "model5.add(Dense(100,activation =  'relu'))\n",
    "model5.add(Dense(50,activation =  'relu'))\n",
    "model5.add(Dense(25,activation =  'relu'))\n",
    "\n",
    "model5.add(Dense(1, activation = 'linear'))\n",
    "\n",
    "model5.summary()"
   ]
  },
  {
   "cell_type": "code",
   "execution_count": 85,
   "id": "67848a3f",
   "metadata": {},
   "outputs": [],
   "source": [
    "model5.compile(loss= mape, optimizer= adam, metrics=['mape'])"
   ]
  },
  {
   "cell_type": "code",
   "execution_count": 86,
   "id": "dd764ee8",
   "metadata": {},
   "outputs": [
    {
     "name": "stdout",
     "output_type": "stream",
     "text": [
      "Epoch 1/10000\n",
      "5/5 [==============================] - 5s 248ms/step - loss: 99.9693 - mape: 99.9693 - val_loss: 99.8518 - val_mape: 99.8518\n",
      "Epoch 2/10000\n",
      "5/5 [==============================] - 0s 17ms/step - loss: 99.6394 - mape: 99.6394 - val_loss: 99.0200 - val_mape: 99.0200\n",
      "Epoch 3/10000\n",
      "5/5 [==============================] - 0s 19ms/step - loss: 97.7091 - mape: 97.7091 - val_loss: 95.6598 - val_mape: 95.6598\n",
      "Epoch 4/10000\n",
      "5/5 [==============================] - 0s 18ms/step - loss: 89.2303 - mape: 89.2303 - val_loss: 85.6272 - val_mape: 85.6272\n",
      "Epoch 5/10000\n",
      "5/5 [==============================] - 0s 15ms/step - loss: 63.9343 - mape: 63.9343 - val_loss: 62.3165 - val_mape: 62.3165\n",
      "Epoch 6/10000\n",
      "5/5 [==============================] - 0s 14ms/step - loss: 36.8268 - mape: 36.8268 - val_loss: 15.2233 - val_mape: 15.2233\n",
      "Epoch 7/10000\n",
      "5/5 [==============================] - 0s 13ms/step - loss: 17.9083 - mape: 17.9083 - val_loss: 18.9977 - val_mape: 18.9977\n",
      "Epoch 8/10000\n",
      "5/5 [==============================] - 0s 13ms/step - loss: 15.3932 - mape: 15.3932 - val_loss: 8.7547 - val_mape: 8.7547\n",
      "Epoch 9/10000\n",
      "5/5 [==============================] - 0s 15ms/step - loss: 10.8968 - mape: 10.8968 - val_loss: 3.5094 - val_mape: 3.5094\n",
      "Epoch 10/10000\n",
      "5/5 [==============================] - 0s 16ms/step - loss: 8.7923 - mape: 8.7923 - val_loss: 2.9159 - val_mape: 2.9159\n",
      "Epoch 11/10000\n",
      "5/5 [==============================] - 0s 14ms/step - loss: 5.4972 - mape: 5.4972 - val_loss: 3.0223 - val_mape: 3.0223\n",
      "Epoch 12/10000\n",
      "5/5 [==============================] - 0s 14ms/step - loss: 4.8379 - mape: 4.8379 - val_loss: 3.2323 - val_mape: 3.2323\n",
      "Epoch 13/10000\n",
      "5/5 [==============================] - 0s 14ms/step - loss: 5.3107 - mape: 5.3107 - val_loss: 4.5101 - val_mape: 4.5101\n",
      "Epoch 14/10000\n",
      "5/5 [==============================] - 0s 14ms/step - loss: 5.0809 - mape: 5.0809 - val_loss: 3.0295 - val_mape: 3.0295\n",
      "Epoch 15/10000\n",
      "5/5 [==============================] - 0s 16ms/step - loss: 4.1396 - mape: 4.1396 - val_loss: 4.0313 - val_mape: 4.0313\n",
      "Epoch 16/10000\n",
      "5/5 [==============================] - 0s 15ms/step - loss: 4.0761 - mape: 4.0761 - val_loss: 2.6151 - val_mape: 2.6151\n",
      "Epoch 17/10000\n",
      "5/5 [==============================] - 0s 15ms/step - loss: 3.3951 - mape: 3.3951 - val_loss: 3.6367 - val_mape: 3.6367\n",
      "Epoch 18/10000\n",
      "5/5 [==============================] - 0s 13ms/step - loss: 3.7557 - mape: 3.7557 - val_loss: 3.1853 - val_mape: 3.1853\n",
      "Epoch 19/10000\n",
      "5/5 [==============================] - 0s 14ms/step - loss: 2.9453 - mape: 2.9453 - val_loss: 4.8315 - val_mape: 4.8315\n",
      "Epoch 20/10000\n",
      "5/5 [==============================] - 0s 14ms/step - loss: 3.2644 - mape: 3.2644 - val_loss: 3.5041 - val_mape: 3.5041\n",
      "Epoch 21/10000\n",
      "5/5 [==============================] - 0s 15ms/step - loss: 3.5840 - mape: 3.5840 - val_loss: 4.8388 - val_mape: 4.8388\n",
      "Epoch 22/10000\n",
      "5/5 [==============================] - 0s 14ms/step - loss: 2.8190 - mape: 2.8190 - val_loss: 5.3065 - val_mape: 5.3065\n",
      "Epoch 23/10000\n",
      "5/5 [==============================] - 0s 15ms/step - loss: 2.7498 - mape: 2.7498 - val_loss: 4.0488 - val_mape: 4.0488\n",
      "Epoch 24/10000\n",
      "5/5 [==============================] - 0s 14ms/step - loss: 2.5144 - mape: 2.5144 - val_loss: 5.3346 - val_mape: 5.3346\n",
      "Epoch 25/10000\n",
      "5/5 [==============================] - 0s 13ms/step - loss: 2.5918 - mape: 2.5918 - val_loss: 5.5315 - val_mape: 5.5315\n",
      "Epoch 26/10000\n",
      "5/5 [==============================] - 0s 14ms/step - loss: 2.6096 - mape: 2.6096 - val_loss: 5.1468 - val_mape: 5.1468\n",
      "Epoch 27/10000\n",
      "5/5 [==============================] - 0s 14ms/step - loss: 2.5038 - mape: 2.5038 - val_loss: 3.7825 - val_mape: 3.7825\n",
      "Epoch 28/10000\n",
      "5/5 [==============================] - 0s 14ms/step - loss: 2.7852 - mape: 2.7852 - val_loss: 5.4185 - val_mape: 5.4185\n",
      "Epoch 29/10000\n",
      "5/5 [==============================] - 0s 17ms/step - loss: 2.2917 - mape: 2.2917 - val_loss: 3.2740 - val_mape: 3.2740\n",
      "Epoch 30/10000\n",
      "5/5 [==============================] - 0s 16ms/step - loss: 2.5228 - mape: 2.5228 - val_loss: 5.1210 - val_mape: 5.1210\n",
      "Epoch 31/10000\n",
      "5/5 [==============================] - 0s 16ms/step - loss: 2.1945 - mape: 2.1945 - val_loss: 4.0843 - val_mape: 4.0843\n",
      "Epoch 32/10000\n",
      "5/5 [==============================] - 0s 15ms/step - loss: 2.1177 - mape: 2.1177 - val_loss: 3.5703 - val_mape: 3.5703\n",
      "Epoch 33/10000\n",
      "5/5 [==============================] - 0s 13ms/step - loss: 2.1046 - mape: 2.1046 - val_loss: 4.7277 - val_mape: 4.7277\n",
      "Epoch 34/10000\n",
      "5/5 [==============================] - 0s 13ms/step - loss: 1.9281 - mape: 1.9281 - val_loss: 4.7925 - val_mape: 4.7925\n",
      "Epoch 35/10000\n",
      "5/5 [==============================] - 0s 13ms/step - loss: 1.8834 - mape: 1.8834 - val_loss: 2.8955 - val_mape: 2.8955\n",
      "Epoch 36/10000\n",
      "5/5 [==============================] - 0s 15ms/step - loss: 1.9900 - mape: 1.9900 - val_loss: 4.1876 - val_mape: 4.1876\n",
      "Epoch 37/10000\n",
      "5/5 [==============================] - 0s 14ms/step - loss: 1.5388 - mape: 1.5388 - val_loss: 5.7128 - val_mape: 5.7128\n",
      "Epoch 38/10000\n",
      "5/5 [==============================] - 0s 15ms/step - loss: 1.7260 - mape: 1.7260 - val_loss: 3.0325 - val_mape: 3.0325\n",
      "Epoch 39/10000\n",
      "5/5 [==============================] - 0s 14ms/step - loss: 1.4929 - mape: 1.4929 - val_loss: 4.4355 - val_mape: 4.4355\n",
      "Epoch 40/10000\n",
      "5/5 [==============================] - 0s 13ms/step - loss: 1.3589 - mape: 1.3589 - val_loss: 4.9387 - val_mape: 4.9387\n",
      "Epoch 41/10000\n",
      "5/5 [==============================] - 0s 14ms/step - loss: 1.4620 - mape: 1.4620 - val_loss: 4.0562 - val_mape: 4.0562\n",
      "Epoch 42/10000\n",
      "5/5 [==============================] - 0s 14ms/step - loss: 1.2741 - mape: 1.2741 - val_loss: 6.2233 - val_mape: 6.2233\n",
      "Epoch 43/10000\n",
      "5/5 [==============================] - 0s 14ms/step - loss: 1.4402 - mape: 1.4402 - val_loss: 5.3766 - val_mape: 5.3766\n",
      "Epoch 44/10000\n",
      "5/5 [==============================] - 0s 14ms/step - loss: 1.3375 - mape: 1.3375 - val_loss: 4.1002 - val_mape: 4.1002\n",
      "Epoch 45/10000\n",
      "5/5 [==============================] - 0s 12ms/step - loss: 2.0356 - mape: 2.0356 - val_loss: 6.7874 - val_mape: 6.7874\n",
      "Epoch 46/10000\n",
      "5/5 [==============================] - 0s 14ms/step - loss: 1.5285 - mape: 1.5285 - val_loss: 4.1425 - val_mape: 4.1425\n",
      "Epoch 47/10000\n",
      "5/5 [==============================] - 0s 14ms/step - loss: 1.6295 - mape: 1.6295 - val_loss: 6.2432 - val_mape: 6.2432\n",
      "Epoch 48/10000\n",
      "5/5 [==============================] - 0s 15ms/step - loss: 1.6739 - mape: 1.6739 - val_loss: 5.7494 - val_mape: 5.7494\n",
      "Epoch 49/10000\n",
      "5/5 [==============================] - 0s 15ms/step - loss: 1.2482 - mape: 1.2482 - val_loss: 4.0105 - val_mape: 4.0105\n",
      "Epoch 50/10000\n",
      "5/5 [==============================] - 0s 12ms/step - loss: 2.0366 - mape: 2.0366 - val_loss: 4.3608 - val_mape: 4.3608\n",
      "Epoch 51/10000\n",
      "5/5 [==============================] - 0s 13ms/step - loss: 1.6054 - mape: 1.6054 - val_loss: 7.6054 - val_mape: 7.6054\n",
      "Epoch 52/10000\n",
      "5/5 [==============================] - 0s 13ms/step - loss: 1.5034 - mape: 1.5034 - val_loss: 3.8298 - val_mape: 3.8298\n",
      "Epoch 53/10000\n",
      "5/5 [==============================] - 0s 13ms/step - loss: 1.1278 - mape: 1.1278 - val_loss: 5.0984 - val_mape: 5.0984\n",
      "Epoch 54/10000\n",
      "5/5 [==============================] - 0s 12ms/step - loss: 1.2163 - mape: 1.2163 - val_loss: 5.9407 - val_mape: 5.9407\n",
      "Epoch 55/10000\n",
      "5/5 [==============================] - 0s 12ms/step - loss: 1.2385 - mape: 1.2385 - val_loss: 4.2599 - val_mape: 4.2599\n",
      "Epoch 56/10000\n",
      "5/5 [==============================] - 0s 12ms/step - loss: 1.4328 - mape: 1.4328 - val_loss: 5.1780 - val_mape: 5.1780\n",
      "Epoch 57/10000\n",
      "5/5 [==============================] - 0s 14ms/step - loss: 1.0365 - mape: 1.0365 - val_loss: 5.7329 - val_mape: 5.7329\n",
      "Epoch 58/10000\n",
      "5/5 [==============================] - 0s 14ms/step - loss: 1.0729 - mape: 1.0729 - val_loss: 5.4030 - val_mape: 5.4030\n",
      "Epoch 59/10000\n",
      "5/5 [==============================] - 0s 14ms/step - loss: 0.8565 - mape: 0.8565 - val_loss: 4.2778 - val_mape: 4.2778\n",
      "Epoch 60/10000\n",
      "5/5 [==============================] - 0s 13ms/step - loss: 1.2351 - mape: 1.2351 - val_loss: 6.7367 - val_mape: 6.7367\n",
      "Epoch 61/10000\n"
     ]
    },
    {
     "name": "stdout",
     "output_type": "stream",
     "text": [
      "5/5 [==============================] - 0s 14ms/step - loss: 1.5085 - mape: 1.5085 - val_loss: 4.3378 - val_mape: 4.3378\n",
      "Epoch 62/10000\n",
      "5/5 [==============================] - 0s 13ms/step - loss: 1.0666 - mape: 1.0666 - val_loss: 6.2235 - val_mape: 6.2235\n",
      "Epoch 63/10000\n",
      "5/5 [==============================] - 0s 13ms/step - loss: 1.2044 - mape: 1.2044 - val_loss: 4.5685 - val_mape: 4.5685\n",
      "Epoch 64/10000\n",
      "5/5 [==============================] - 0s 12ms/step - loss: 1.0626 - mape: 1.0626 - val_loss: 4.6139 - val_mape: 4.6139\n",
      "Epoch 65/10000\n",
      "5/5 [==============================] - 0s 13ms/step - loss: 1.2506 - mape: 1.2506 - val_loss: 6.4298 - val_mape: 6.4298\n",
      "Epoch 66/10000\n",
      "5/5 [==============================] - 0s 16ms/step - loss: 1.3366 - mape: 1.3366 - val_loss: 4.6457 - val_mape: 4.6457\n"
     ]
    },
    {
     "data": {
      "text/plain": [
       "<keras.callbacks.History at 0x7f0abe397730>"
      ]
     },
     "execution_count": 86,
     "metadata": {},
     "output_type": "execute_result"
    }
   ],
   "source": [
    "model5.fit(X_train4_x, y_train4,batch_size = 32, validation_data=(X_val4_x, y_val4), epochs=10000, callbacks = (es))"
   ]
  },
  {
   "cell_type": "code",
   "execution_count": 87,
   "id": "b225f8b3",
   "metadata": {},
   "outputs": [
    {
     "name": "stdout",
     "output_type": "stream",
     "text": [
      "WARNING:tensorflow:5 out of the last 6 calls to <function Model.make_predict_function.<locals>.predict_function at 0x7f0a53590280> triggered tf.function retracing. Tracing is expensive and the excessive number of tracings could be due to (1) creating @tf.function repeatedly in a loop, (2) passing tensors with different shapes, (3) passing Python objects instead of tensors. For (1), please define your @tf.function outside of the loop. For (2), @tf.function has reduce_retracing=True option that can avoid unnecessary retracing. For (3), please refer to https://www.tensorflow.org/guide/function#controlling_retracing and https://www.tensorflow.org/api_docs/python/tf/function for  more details.\n",
      "1/1 [==============================] - 1s 903ms/step\n"
     ]
    },
    {
     "data": {
      "text/plain": [
       "[array([204.44473], dtype=float32),\n",
       " array([234.52707], dtype=float32),\n",
       " array([247.2835], dtype=float32),\n",
       " array([246.1918], dtype=float32),\n",
       " array([248.52383], dtype=float32),\n",
       " array([252.56546], dtype=float32),\n",
       " array([251.78424], dtype=float32),\n",
       " array([253.58572], dtype=float32),\n",
       " array([4.680316], dtype=float32)]"
      ]
     },
     "execution_count": 87,
     "metadata": {},
     "output_type": "execute_result"
    }
   ],
   "source": [
    "test_prediction4 = list(model5.predict(X_test4_x))\n",
    "test_prediction4\n"
   ]
  },
  {
   "cell_type": "code",
   "execution_count": 88,
   "id": "e7b509a8",
   "metadata": {},
   "outputs": [],
   "source": [
    "test_results4 = pd.DataFrame(columns = ['test_predictions', 'test_actual'])\n",
    "\n",
    "#train_predictions\n",
    "\n",
    "test_results4['date'] = list(y_test4.index)\n",
    "test_results4['test_predictions'] = [x[0] for x in test_prediction4]\n",
    "test_results4['test_actual'] = list(y_test4)"
   ]
  },
  {
   "cell_type": "code",
   "execution_count": 89,
   "id": "34a9405c",
   "metadata": {},
   "outputs": [],
   "source": [
    "test_results4.set_index('date', inplace=True)"
   ]
  },
  {
   "cell_type": "code",
   "execution_count": 90,
   "id": "57248026",
   "metadata": {},
   "outputs": [
    {
     "data": {
      "text/plain": [
       "<matplotlib.legend.Legend at 0x7f0ab6999fa0>"
      ]
     },
     "execution_count": 90,
     "metadata": {},
     "output_type": "execute_result"
    },
    {
     "data": {
      "image/png": "[encoded data removed]",
      "text/plain": [
       "<Figure size 640x480 with 1 Axes>"
      ]
     },
     "metadata": {},
     "output_type": "display_data"
    }
   ],
   "source": [
    "plt.plot(y)\n",
    "plt.plot(test_results4['test_predictions'], label='prediction')\n",
    "plt.plot(test_results4['test_actual'], label='actual')\n",
    "plt.title('2021-22 Inflation Prediciton')\n",
    "plt.legend()"
   ]
  },
  {
   "cell_type": "markdown",
   "id": "f045b47c",
   "metadata": {},
   "source": [
    "# LSTM 2022-"
   ]
  },
  {
   "cell_type": "code",
   "execution_count": 91,
   "id": "e7335f02",
   "metadata": {},
   "outputs": [
    {
     "data": {
      "text/html": [
       "<div>\n",
       "<style scoped>\n",
       "    .dataframe tbody tr th:only-of-type {\n",
       "        vertical-align: middle;\n",
       "    }\n",
       "\n",
       "    .dataframe tbody tr th {\n",
       "        vertical-align: top;\n",
       "    }\n",
       "\n",
       "    .dataframe thead th {\n",
       "        text-align: right;\n",
       "    }\n",
       "</style>\n",
       "<table border=\"1\" class=\"dataframe\">\n",
       "  <thead>\n",
       "    <tr style=\"text-align: right;\">\n",
       "      <th></th>\n",
       "      <th>Brent_Crude_GBP</th>\n",
       "      <th>WTI_Crude_GBP</th>\n",
       "      <th>GBP Curncy</th>\n",
       "      <th>GBPEUR Curncy</th>\n",
       "      <th>UKX Index</th>\n",
       "      <th>SPX Index</th>\n",
       "      <th>SX5E Index</th>\n",
       "      <th>Natural_Gas</th>\n",
       "      <th>GBP_IRS_2y</th>\n",
       "      <th>GBP_IRS_10y</th>\n",
       "      <th>Nationwide_HPI</th>\n",
       "    </tr>\n",
       "    <tr>\n",
       "      <th>Date</th>\n",
       "      <th></th>\n",
       "      <th></th>\n",
       "      <th></th>\n",
       "      <th></th>\n",
       "      <th></th>\n",
       "      <th></th>\n",
       "      <th></th>\n",
       "      <th></th>\n",
       "      <th></th>\n",
       "      <th></th>\n",
       "      <th></th>\n",
       "    </tr>\n",
       "  </thead>\n",
       "  <tbody>\n",
       "    <tr>\n",
       "      <th>2022-04-01</th>\n",
       "      <td>82.294714</td>\n",
       "      <td>78.884404</td>\n",
       "      <td>1.287045</td>\n",
       "      <td>1.194540</td>\n",
       "      <td>7475.842222</td>\n",
       "      <td>3390.642475</td>\n",
       "      <td>3202.490777</td>\n",
       "      <td>86.613133</td>\n",
       "      <td>2.365979</td>\n",
       "      <td>2.085100</td>\n",
       "      <td>533.9</td>\n",
       "    </tr>\n",
       "    <tr>\n",
       "      <th>2022-05-01</th>\n",
       "      <td>89.748267</td>\n",
       "      <td>85.128666</td>\n",
       "      <td>1.247484</td>\n",
       "      <td>1.178074</td>\n",
       "      <td>7472.767778</td>\n",
       "      <td>3274.256696</td>\n",
       "      <td>3179.554466</td>\n",
       "      <td>81.073170</td>\n",
       "      <td>2.538121</td>\n",
       "      <td>2.240542</td>\n",
       "      <td>538.4</td>\n",
       "    </tr>\n",
       "    <tr>\n",
       "      <th>2022-06-01</th>\n",
       "      <td>95.251442</td>\n",
       "      <td>87.836565</td>\n",
       "      <td>1.233611</td>\n",
       "      <td>1.167758</td>\n",
       "      <td>7238.188421</td>\n",
       "      <td>3172.340166</td>\n",
       "      <td>3058.969505</td>\n",
       "      <td>96.746393</td>\n",
       "      <td>2.933563</td>\n",
       "      <td>2.626558</td>\n",
       "      <td>541.8</td>\n",
       "    </tr>\n",
       "    <tr>\n",
       "      <th>2022-07-01</th>\n",
       "      <td>85.363871</td>\n",
       "      <td>80.415504</td>\n",
       "      <td>1.231479</td>\n",
       "      <td>1.184589</td>\n",
       "      <td>7303.865263</td>\n",
       "      <td>3298.689210</td>\n",
       "      <td>3082.959231</td>\n",
       "      <td>128.688654</td>\n",
       "      <td>2.700779</td>\n",
       "      <td>2.302258</td>\n",
       "      <td>541.0</td>\n",
       "    </tr>\n",
       "    <tr>\n",
       "      <th>2022-08-01</th>\n",
       "      <td>80.656541</td>\n",
       "      <td>78.913331</td>\n",
       "      <td>1.211816</td>\n",
       "      <td>1.181732</td>\n",
       "      <td>7453.987222</td>\n",
       "      <td>3446.779300</td>\n",
       "      <td>3131.457852</td>\n",
       "      <td>180.082147</td>\n",
       "      <td>3.368889</td>\n",
       "      <td>2.688500</td>\n",
       "      <td>546.1</td>\n",
       "    </tr>\n",
       "    <tr>\n",
       "      <th>2022-09-01</th>\n",
       "      <td>73.474167</td>\n",
       "      <td>80.706056</td>\n",
       "      <td>1.272420</td>\n",
       "      <td>1.180400</td>\n",
       "      <td>7403.016000</td>\n",
       "      <td>3300.260920</td>\n",
       "      <td>3208.537784</td>\n",
       "      <td>93.341821</td>\n",
       "      <td>2.475340</td>\n",
       "      <td>2.155940</td>\n",
       "      <td>NaN</td>\n",
       "    </tr>\n",
       "  </tbody>\n",
       "</table>\n",
       "</div>"
      ],
      "text/plain": [
       "            Brent_Crude_GBP  WTI_Crude_GBP  GBP Curncy  GBPEUR Curncy  \\\n",
       "Date                                                                    \n",
       "2022-04-01        82.294714      78.884404    1.287045       1.194540   \n",
       "2022-05-01        89.748267      85.128666    1.247484       1.178074   \n",
       "2022-06-01        95.251442      87.836565    1.233611       1.167758   \n",
       "2022-07-01        85.363871      80.415504    1.231479       1.184589   \n",
       "2022-08-01        80.656541      78.913331    1.211816       1.181732   \n",
       "2022-09-01        73.474167      80.706056    1.272420       1.180400   \n",
       "\n",
       "              UKX Index    SPX Index   SX5E Index  Natural_Gas  GBP_IRS_2y  \\\n",
       "Date                                                                         \n",
       "2022-04-01  7475.842222  3390.642475  3202.490777    86.613133    2.365979   \n",
       "2022-05-01  7472.767778  3274.256696  3179.554466    81.073170    2.538121   \n",
       "2022-06-01  7238.188421  3172.340166  3058.969505    96.746393    2.933563   \n",
       "2022-07-01  7303.865263  3298.689210  3082.959231   128.688654    2.700779   \n",
       "2022-08-01  7453.987222  3446.779300  3131.457852   180.082147    3.368889   \n",
       "2022-09-01  7403.016000  3300.260920  3208.537784    93.341821    2.475340   \n",
       "\n",
       "            GBP_IRS_10y  Nationwide_HPI  \n",
       "Date                                     \n",
       "2022-04-01     2.085100           533.9  \n",
       "2022-05-01     2.240542           538.4  \n",
       "2022-06-01     2.626558           541.8  \n",
       "2022-07-01     2.302258           541.0  \n",
       "2022-08-01     2.688500           546.1  \n",
       "2022-09-01     2.155940             NaN  "
      ]
     },
     "execution_count": 91,
     "metadata": {},
     "output_type": "execute_result"
    }
   ],
   "source": [
    "X[159:165]"
   ]
  },
  {
   "cell_type": "code",
   "execution_count": 92,
   "id": "bd78f99d",
   "metadata": {},
   "outputs": [
    {
     "data": {
      "text/plain": [
       "((156, 11), (156,), (7, 11), (7,), (1, 11), (1,))"
      ]
     },
     "execution_count": 92,
     "metadata": {},
     "output_type": "execute_result"
    }
   ],
   "source": [
    "X_train5, y_train5 = X[:156], y[:156]\n",
    "X_val5, y_val5 = X[156:163], y[156:163]\n",
    "X_test5, y_test5 = X[163:164], y[163:164]\n",
    "X_train5.shape, y_train5.shape, X_val5.shape, y_val5.shape, X_test5.shape, y_test5.shape"
   ]
  },
  {
   "cell_type": "code",
   "execution_count": 93,
   "id": "afda4a36",
   "metadata": {},
   "outputs": [
    {
     "data": {
      "text/plain": [
       "TensorShape([156, 1, 1])"
      ]
     },
     "execution_count": 93,
     "metadata": {},
     "output_type": "execute_result"
    }
   ],
   "source": [
    "y_train5_x = expand_dims(y_train5, -1)\n",
    "y_train5_x = expand_dims(y_train5_x, -1)\n",
    "\n",
    "y_train5_x.shape"
   ]
  },
  {
   "cell_type": "code",
   "execution_count": 94,
   "id": "57c31f87",
   "metadata": {},
   "outputs": [],
   "source": [
    "y_val5_x = expand_dims(y_val5, -1)\n",
    "y_val5_x = expand_dims(y_val5_x, -1)"
   ]
  },
  {
   "cell_type": "code",
   "execution_count": 95,
   "id": "a21c658f",
   "metadata": {},
   "outputs": [],
   "source": [
    "X_test5_x = expand_dims(X_test5, -2)"
   ]
  },
  {
   "cell_type": "code",
   "execution_count": 96,
   "id": "7dc332a3",
   "metadata": {},
   "outputs": [
    {
     "data": {
      "text/plain": [
       "TensorShape([156, 1, 11])"
      ]
     },
     "execution_count": 96,
     "metadata": {},
     "output_type": "execute_result"
    }
   ],
   "source": [
    "X_train5_x = expand_dims(X_train5, -2)\n",
    "X_train5_x.shape"
   ]
  },
  {
   "cell_type": "code",
   "execution_count": 97,
   "id": "dbc08d66",
   "metadata": {},
   "outputs": [
    {
     "data": {
      "text/plain": [
       "TensorShape([7, 1, 11])"
      ]
     },
     "execution_count": 97,
     "metadata": {},
     "output_type": "execute_result"
    }
   ],
   "source": [
    "X_val5_x = expand_dims(X_val5, -2)\n",
    "X_val5_x.shape"
   ]
  },
  {
   "cell_type": "code",
   "execution_count": 98,
   "id": "2810e13e",
   "metadata": {},
   "outputs": [
    {
     "name": "stdout",
     "output_type": "stream",
     "text": [
      "Model: \"sequential_5\"\n",
      "_________________________________________________________________\n",
      " Layer (type)                Output Shape              Param #   \n",
      "=================================================================\n",
      " normalization_5 (Normalizat  (None, None, 11)         23        \n",
      " ion)                                                            \n",
      "                                                                 \n",
      " lstm_10 (LSTM)              (None, None, 110)         53680     \n",
      "                                                                 \n",
      " lstm_11 (LSTM)              (None, 50)                32200     \n",
      "                                                                 \n",
      " flatten_5 (Flatten)         (None, 50)                0         \n",
      "                                                                 \n",
      " dense_20 (Dense)            (None, 100)               5100      \n",
      "                                                                 \n",
      " dense_21 (Dense)            (None, 50)                5050      \n",
      "                                                                 \n",
      " dense_22 (Dense)            (None, 25)                1275      \n",
      "                                                                 \n",
      " dense_23 (Dense)            (None, 25)                650       \n",
      "                                                                 \n",
      " dense_24 (Dense)            (None, 12)                312       \n",
      "                                                                 \n",
      " dense_25 (Dense)            (None, 1)                 13        \n",
      "                                                                 \n",
      "=================================================================\n",
      "Total params: 98,303\n",
      "Trainable params: 98,280\n",
      "Non-trainable params: 23\n",
      "_________________________________________________________________\n"
     ]
    }
   ],
   "source": [
    "normalizer = Normalization()\n",
    "normalizer.adapt(X_train5_x)\n",
    "\n",
    "model6 = Sequential()\n",
    "model6.add(normalizer)\n",
    "\n",
    "model6.add(LSTM(units = 110, activation='tanh', return_sequences = True))\n",
    "model6.add(LSTM(units = 50 , activation='tanh', return_sequences = False))\n",
    "\n",
    "model6.add(Flatten())\n",
    "\n",
    "model6.add(Dense(100,activation =  'relu'))\n",
    "model6.add(Dense(50,activation =  'relu'))\n",
    "model6.add(Dense(25,activation =  'relu'))\n",
    "model6.add(Dense(25,activation =  'relu'))\n",
    "model6.add(Dense(12,activation =  'relu'))\n",
    "\n",
    "\n",
    "\n",
    "\n",
    "model6.add(Dense(1, activation = 'linear'))\n",
    "\n",
    "model6.summary()"
   ]
  },
  {
   "cell_type": "code",
   "execution_count": 99,
   "id": "46dbaac8",
   "metadata": {},
   "outputs": [],
   "source": [
    "model6.compile(loss= mape, optimizer= adam, metrics=['mape'])"
   ]
  },
  {
   "cell_type": "code",
   "execution_count": 100,
   "id": "6d46ee29",
   "metadata": {},
   "outputs": [
    {
     "name": "stdout",
     "output_type": "stream",
     "text": [
      "Epoch 1/10000\n",
      "10/10 [==============================] - 5s 170ms/step - loss: 99.7188 - mape: 99.7188 - val_loss: 98.5804 - val_mape: 98.5804\n",
      "Epoch 2/10000\n",
      "10/10 [==============================] - 0s 14ms/step - loss: 83.9688 - mape: 83.9688 - val_loss: 46.2703 - val_mape: 46.2703\n",
      "Epoch 3/10000\n",
      "10/10 [==============================] - 0s 10ms/step - loss: 23.5779 - mape: 23.5779 - val_loss: 53.7956 - val_mape: 53.7956\n",
      "Epoch 4/10000\n",
      "10/10 [==============================] - 0s 10ms/step - loss: 15.6294 - mape: 15.6294 - val_loss: 48.8892 - val_mape: 48.8892\n",
      "Epoch 5/10000\n",
      "10/10 [==============================] - 0s 10ms/step - loss: 13.3412 - mape: 13.3412 - val_loss: 27.2787 - val_mape: 27.2787\n",
      "Epoch 6/10000\n",
      "10/10 [==============================] - 0s 11ms/step - loss: 9.9685 - mape: 9.9685 - val_loss: 29.5880 - val_mape: 29.5880\n",
      "Epoch 7/10000\n",
      "10/10 [==============================] - 0s 10ms/step - loss: 6.5980 - mape: 6.5980 - val_loss: 16.3217 - val_mape: 16.3217\n",
      "Epoch 8/10000\n",
      "10/10 [==============================] - 0s 10ms/step - loss: 4.8059 - mape: 4.8059 - val_loss: 11.2038 - val_mape: 11.2038\n",
      "Epoch 9/10000\n",
      "10/10 [==============================] - 0s 10ms/step - loss: 4.8431 - mape: 4.8431 - val_loss: 8.1176 - val_mape: 8.1176\n",
      "Epoch 10/10000\n",
      "10/10 [==============================] - 0s 10ms/step - loss: 3.7021 - mape: 3.7021 - val_loss: 7.7893 - val_mape: 7.7893\n",
      "Epoch 11/10000\n",
      "10/10 [==============================] - 0s 11ms/step - loss: 3.8229 - mape: 3.8229 - val_loss: 9.3767 - val_mape: 9.3767\n",
      "Epoch 12/10000\n",
      "10/10 [==============================] - 0s 11ms/step - loss: 3.1323 - mape: 3.1323 - val_loss: 3.8816 - val_mape: 3.8816\n",
      "Epoch 13/10000\n",
      "10/10 [==============================] - 0s 11ms/step - loss: 2.9724 - mape: 2.9724 - val_loss: 3.6743 - val_mape: 3.6743\n",
      "Epoch 14/10000\n",
      "10/10 [==============================] - 0s 10ms/step - loss: 2.4217 - mape: 2.4217 - val_loss: 3.2236 - val_mape: 3.2236\n",
      "Epoch 15/10000\n",
      "10/10 [==============================] - 0s 10ms/step - loss: 3.1028 - mape: 3.1028 - val_loss: 3.3190 - val_mape: 3.3190\n",
      "Epoch 16/10000\n",
      "10/10 [==============================] - 0s 11ms/step - loss: 2.3167 - mape: 2.3167 - val_loss: 3.2236 - val_mape: 3.2236\n",
      "Epoch 17/10000\n",
      "10/10 [==============================] - 0s 10ms/step - loss: 1.8023 - mape: 1.8023 - val_loss: 2.9303 - val_mape: 2.9303\n",
      "Epoch 18/10000\n",
      "10/10 [==============================] - 0s 9ms/step - loss: 1.7858 - mape: 1.7858 - val_loss: 3.1820 - val_mape: 3.1820\n",
      "Epoch 19/10000\n",
      "10/10 [==============================] - 0s 10ms/step - loss: 1.8740 - mape: 1.8740 - val_loss: 3.2501 - val_mape: 3.2501\n",
      "Epoch 20/10000\n",
      "10/10 [==============================] - 0s 10ms/step - loss: 1.8189 - mape: 1.8189 - val_loss: 3.2704 - val_mape: 3.2704\n",
      "Epoch 21/10000\n",
      "10/10 [==============================] - 0s 12ms/step - loss: 1.6384 - mape: 1.6384 - val_loss: 2.7544 - val_mape: 2.7544\n",
      "Epoch 22/10000\n",
      "10/10 [==============================] - 0s 11ms/step - loss: 1.7189 - mape: 1.7189 - val_loss: 3.1454 - val_mape: 3.1454\n",
      "Epoch 23/10000\n",
      "10/10 [==============================] - 0s 10ms/step - loss: 1.6616 - mape: 1.6616 - val_loss: 2.5462 - val_mape: 2.5462\n",
      "Epoch 24/10000\n",
      "10/10 [==============================] - 0s 10ms/step - loss: 1.6344 - mape: 1.6344 - val_loss: 3.0314 - val_mape: 3.0314\n",
      "Epoch 25/10000\n",
      "10/10 [==============================] - 0s 10ms/step - loss: 1.6036 - mape: 1.6036 - val_loss: 3.7904 - val_mape: 3.7904\n",
      "Epoch 26/10000\n",
      "10/10 [==============================] - 0s 11ms/step - loss: 1.5459 - mape: 1.5459 - val_loss: 5.4613 - val_mape: 5.4613\n",
      "Epoch 27/10000\n",
      "10/10 [==============================] - 0s 12ms/step - loss: 1.7207 - mape: 1.7207 - val_loss: 4.2676 - val_mape: 4.2676\n",
      "Epoch 28/10000\n",
      "10/10 [==============================] - 0s 11ms/step - loss: 1.8117 - mape: 1.8117 - val_loss: 6.3197 - val_mape: 6.3197\n",
      "Epoch 29/10000\n",
      "10/10 [==============================] - 0s 9ms/step - loss: 1.8478 - mape: 1.8478 - val_loss: 4.2021 - val_mape: 4.2021\n",
      "Epoch 30/10000\n",
      "10/10 [==============================] - 0s 9ms/step - loss: 1.7930 - mape: 1.7930 - val_loss: 5.0442 - val_mape: 5.0442\n",
      "Epoch 31/10000\n",
      "10/10 [==============================] - 0s 10ms/step - loss: 1.4766 - mape: 1.4766 - val_loss: 6.7153 - val_mape: 6.7153\n",
      "Epoch 32/10000\n",
      "10/10 [==============================] - 0s 11ms/step - loss: 1.6681 - mape: 1.6681 - val_loss: 6.1829 - val_mape: 6.1829\n",
      "Epoch 33/10000\n",
      "10/10 [==============================] - 0s 10ms/step - loss: 1.5960 - mape: 1.5960 - val_loss: 5.9579 - val_mape: 5.9579\n",
      "Epoch 34/10000\n",
      "10/10 [==============================] - 0s 11ms/step - loss: 1.0595 - mape: 1.0595 - val_loss: 6.4388 - val_mape: 6.4388\n",
      "Epoch 35/10000\n",
      "10/10 [==============================] - 0s 11ms/step - loss: 1.0045 - mape: 1.0045 - val_loss: 6.7548 - val_mape: 6.7548\n",
      "Epoch 36/10000\n",
      "10/10 [==============================] - 0s 12ms/step - loss: 1.0299 - mape: 1.0299 - val_loss: 7.6720 - val_mape: 7.6720\n",
      "Epoch 37/10000\n",
      "10/10 [==============================] - 0s 12ms/step - loss: 1.1365 - mape: 1.1365 - val_loss: 10.2751 - val_mape: 10.2751\n",
      "Epoch 38/10000\n",
      "10/10 [==============================] - 0s 11ms/step - loss: 0.9468 - mape: 0.9468 - val_loss: 9.6754 - val_mape: 9.6754\n",
      "Epoch 39/10000\n",
      "10/10 [==============================] - 0s 10ms/step - loss: 0.9769 - mape: 0.9769 - val_loss: 10.4315 - val_mape: 10.4315\n",
      "Epoch 40/10000\n",
      "10/10 [==============================] - 0s 11ms/step - loss: 0.8256 - mape: 0.8256 - val_loss: 14.2338 - val_mape: 14.2338\n",
      "Epoch 41/10000\n",
      "10/10 [==============================] - 0s 10ms/step - loss: 0.9155 - mape: 0.9155 - val_loss: 13.7327 - val_mape: 13.7327\n",
      "Epoch 42/10000\n",
      "10/10 [==============================] - 0s 11ms/step - loss: 0.9535 - mape: 0.9535 - val_loss: 14.5029 - val_mape: 14.5029\n",
      "Epoch 43/10000\n",
      "10/10 [==============================] - 0s 10ms/step - loss: 0.8246 - mape: 0.8246 - val_loss: 15.7403 - val_mape: 15.7403\n",
      "Epoch 44/10000\n",
      "10/10 [==============================] - 0s 9ms/step - loss: 1.0231 - mape: 1.0231 - val_loss: 16.8920 - val_mape: 16.8920\n",
      "Epoch 45/10000\n",
      "10/10 [==============================] - 0s 10ms/step - loss: 0.8865 - mape: 0.8865 - val_loss: 15.1103 - val_mape: 15.1103\n",
      "Epoch 46/10000\n",
      "10/10 [==============================] - 0s 10ms/step - loss: 1.0185 - mape: 1.0185 - val_loss: 12.0703 - val_mape: 12.0703\n",
      "Epoch 47/10000\n",
      "10/10 [==============================] - 0s 11ms/step - loss: 0.8552 - mape: 0.8552 - val_loss: 10.7639 - val_mape: 10.7639\n",
      "Epoch 48/10000\n",
      "10/10 [==============================] - 0s 13ms/step - loss: 0.7778 - mape: 0.7778 - val_loss: 10.4427 - val_mape: 10.4427\n",
      "Epoch 49/10000\n",
      "10/10 [==============================] - 0s 11ms/step - loss: 1.0247 - mape: 1.0247 - val_loss: 13.4290 - val_mape: 13.4290\n",
      "Epoch 50/10000\n",
      "10/10 [==============================] - 0s 10ms/step - loss: 1.3029 - mape: 1.3029 - val_loss: 11.0921 - val_mape: 11.0921\n",
      "Epoch 51/10000\n",
      "10/10 [==============================] - 0s 10ms/step - loss: 0.8976 - mape: 0.8976 - val_loss: 10.1216 - val_mape: 10.1216\n",
      "Epoch 52/10000\n",
      "10/10 [==============================] - 0s 11ms/step - loss: 1.2745 - mape: 1.2745 - val_loss: 11.4145 - val_mape: 11.4145\n",
      "Epoch 53/10000\n",
      "10/10 [==============================] - 0s 9ms/step - loss: 0.8748 - mape: 0.8748 - val_loss: 10.8649 - val_mape: 10.8649\n",
      "Epoch 54/10000\n",
      "10/10 [==============================] - 0s 9ms/step - loss: 0.9246 - mape: 0.9246 - val_loss: 10.5722 - val_mape: 10.5722\n",
      "Epoch 55/10000\n",
      "10/10 [==============================] - 0s 9ms/step - loss: 0.7507 - mape: 0.7507 - val_loss: 11.6158 - val_mape: 11.6158\n",
      "Epoch 56/10000\n",
      "10/10 [==============================] - 0s 10ms/step - loss: 0.7643 - mape: 0.7643 - val_loss: 11.0353 - val_mape: 11.0353\n",
      "Epoch 57/10000\n",
      "10/10 [==============================] - 0s 10ms/step - loss: 0.7025 - mape: 0.7025 - val_loss: 11.3578 - val_mape: 11.3578\n",
      "Epoch 58/10000\n",
      "10/10 [==============================] - 0s 10ms/step - loss: 0.8370 - mape: 0.8370 - val_loss: 12.3501 - val_mape: 12.3501\n",
      "Epoch 59/10000\n",
      "10/10 [==============================] - 0s 10ms/step - loss: 1.0505 - mape: 1.0505 - val_loss: 12.1592 - val_mape: 12.1592\n",
      "Epoch 60/10000\n"
     ]
    },
    {
     "name": "stdout",
     "output_type": "stream",
     "text": [
      "10/10 [==============================] - 0s 11ms/step - loss: 0.9983 - mape: 0.9983 - val_loss: 12.7890 - val_mape: 12.7890\n",
      "Epoch 61/10000\n",
      "10/10 [==============================] - 0s 10ms/step - loss: 1.3008 - mape: 1.3008 - val_loss: 12.4216 - val_mape: 12.4216\n",
      "Epoch 62/10000\n",
      "10/10 [==============================] - 0s 9ms/step - loss: 0.8394 - mape: 0.8394 - val_loss: 13.1918 - val_mape: 13.1918\n",
      "Epoch 63/10000\n",
      "10/10 [==============================] - 0s 10ms/step - loss: 1.0314 - mape: 1.0314 - val_loss: 13.5522 - val_mape: 13.5522\n",
      "Epoch 64/10000\n",
      "10/10 [==============================] - 0s 10ms/step - loss: 0.9077 - mape: 0.9077 - val_loss: 14.8841 - val_mape: 14.8841\n",
      "Epoch 65/10000\n",
      "10/10 [==============================] - 0s 11ms/step - loss: 0.7375 - mape: 0.7375 - val_loss: 14.9495 - val_mape: 14.9495\n",
      "Epoch 66/10000\n",
      "10/10 [==============================] - 0s 10ms/step - loss: 0.9873 - mape: 0.9873 - val_loss: 15.8813 - val_mape: 15.8813\n",
      "Epoch 67/10000\n",
      "10/10 [==============================] - 0s 10ms/step - loss: 1.0161 - mape: 1.0161 - val_loss: 14.4261 - val_mape: 14.4261\n",
      "Epoch 68/10000\n",
      "10/10 [==============================] - 0s 11ms/step - loss: 0.7202 - mape: 0.7202 - val_loss: 17.0517 - val_mape: 17.0517\n",
      "Epoch 69/10000\n",
      "10/10 [==============================] - 0s 11ms/step - loss: 1.2198 - mape: 1.2198 - val_loss: 12.0806 - val_mape: 12.0806\n",
      "Epoch 70/10000\n",
      "10/10 [==============================] - 0s 11ms/step - loss: 1.4537 - mape: 1.4537 - val_loss: 12.6641 - val_mape: 12.6641\n",
      "Epoch 71/10000\n",
      "10/10 [==============================] - 0s 11ms/step - loss: 0.8167 - mape: 0.8167 - val_loss: 12.2345 - val_mape: 12.2345\n",
      "Epoch 72/10000\n",
      "10/10 [==============================] - 0s 10ms/step - loss: 0.6886 - mape: 0.6886 - val_loss: 13.7573 - val_mape: 13.7573\n",
      "Epoch 73/10000\n",
      "10/10 [==============================] - 0s 10ms/step - loss: 0.7033 - mape: 0.7033 - val_loss: 11.6221 - val_mape: 11.6221\n"
     ]
    },
    {
     "data": {
      "text/plain": [
       "<keras.callbacks.History at 0x7f0ab5c26ac0>"
      ]
     },
     "execution_count": 100,
     "metadata": {},
     "output_type": "execute_result"
    }
   ],
   "source": [
    "model6.fit(X_train5_x, y_train5, batch_size = 16, validation_data=(X_val5_x, y_val5), epochs=10000, callbacks = (es))"
   ]
  },
  {
   "cell_type": "code",
   "execution_count": 101,
   "id": "53016cb9",
   "metadata": {},
   "outputs": [
    {
     "name": "stdout",
     "output_type": "stream",
     "text": [
      "WARNING:tensorflow:6 out of the last 7 calls to <function Model.make_predict_function.<locals>.predict_function at 0x7f0a533e1e50> triggered tf.function retracing. Tracing is expensive and the excessive number of tracings could be due to (1) creating @tf.function repeatedly in a loop, (2) passing tensors with different shapes, (3) passing Python objects instead of tensors. For (1), please define your @tf.function outside of the loop. For (2), @tf.function has reduce_retracing=True option that can avoid unnecessary retracing. For (3), please refer to https://www.tensorflow.org/guide/function#controlling_retracing and https://www.tensorflow.org/api_docs/python/tf/function for  more details.\n",
      "1/1 [==============================] - 1s 789ms/step\n"
     ]
    }
   ],
   "source": [
    "test_prediction5 = list(model6.predict(X_test5_x))\n"
   ]
  },
  {
   "cell_type": "code",
   "execution_count": 102,
   "id": "a2d4d12e",
   "metadata": {},
   "outputs": [
    {
     "data": {
      "text/plain": [
       "[array([332.37424], dtype=float32)]"
      ]
     },
     "execution_count": 102,
     "metadata": {},
     "output_type": "execute_result"
    }
   ],
   "source": [
    "test_prediction5"
   ]
  },
  {
   "cell_type": "code",
   "execution_count": 103,
   "id": "12ce05bd",
   "metadata": {},
   "outputs": [
    {
     "data": {
      "text/plain": [
       "Date\n",
       "2022-08-01   NaN\n",
       "Name: RPI, dtype: float64"
      ]
     },
     "execution_count": 103,
     "metadata": {},
     "output_type": "execute_result"
    }
   ],
   "source": [
    "y_test5"
   ]
  },
  {
   "cell_type": "code",
   "execution_count": 104,
   "id": "af57bc6d",
   "metadata": {},
   "outputs": [],
   "source": [
    "# res = []\n",
    "# for x in range(1):\n",
    "#     val = pd.to_datetime(pd.DataFrame(y).iloc[-x,:0]).name\n",
    "#     res.append(val)"
   ]
  },
  {
   "cell_type": "code",
   "execution_count": 105,
   "id": "3fbc3f2d",
   "metadata": {},
   "outputs": [],
   "source": [
    "# res = res[1:]"
   ]
  },
  {
   "cell_type": "code",
   "execution_count": 106,
   "id": "95ff3a41",
   "metadata": {},
   "outputs": [],
   "source": [
    "from datetime import datetime, timedelta\n",
    "from dateutil.relativedelta import relativedelta"
   ]
  },
  {
   "cell_type": "code",
   "execution_count": 107,
   "id": "0e770047",
   "metadata": {},
   "outputs": [],
   "source": [
    "# list(y_test5[:-1])"
   ]
  },
  {
   "cell_type": "code",
   "execution_count": 108,
   "id": "cdd85c11",
   "metadata": {},
   "outputs": [],
   "source": [
    "# future_vals = []\n",
    "# for x in res:\n",
    "#     future_date = x + relativedelta(months=1)\n",
    "#     future_vals.append(future_date)"
   ]
  },
  {
   "cell_type": "code",
   "execution_count": 109,
   "id": "2a69b017",
   "metadata": {},
   "outputs": [],
   "source": [
    "# future_vals"
   ]
  },
  {
   "cell_type": "code",
   "execution_count": 110,
   "id": "dfe871c7",
   "metadata": {},
   "outputs": [
    {
     "name": "stdout",
     "output_type": "stream",
     "text": [
      "0   2022-08-01\n",
      "Name: date, dtype: datetime64[ns]\n"
     ]
    }
   ],
   "source": [
    "test_results5 = pd.DataFrame(columns = ['test_predictions', 'test_actual'])\n",
    "\n",
    "#train_predictions\n",
    "\n",
    "test_results5['date'] = y_test5.index\n",
    "test_results5['test_predictions'] = [x[0] for x in test_prediction5]\n",
    "print(test_results5['date'])"
   ]
  },
  {
   "cell_type": "code",
   "execution_count": 111,
   "id": "876b16d9",
   "metadata": {},
   "outputs": [],
   "source": [
    "test_results5.set_index('date', inplace=True)"
   ]
  },
  {
   "cell_type": "code",
   "execution_count": 112,
   "id": "35eb299f",
   "metadata": {},
   "outputs": [
    {
     "name": "stdout",
     "output_type": "stream",
     "text": [
      "            test_predictions test_actual\n",
      "date                                    \n",
      "2022-08-01        332.374237         NaN\n"
     ]
    }
   ],
   "source": [
    "print(test_results5)"
   ]
  },
  {
   "cell_type": "code",
   "execution_count": 115,
   "id": "ea944f30",
   "metadata": {},
   "outputs": [
    {
     "data": {
      "text/plain": [
       "Date\n",
       "2009-01-01    210.1\n",
       "2009-02-01    211.4\n",
       "2009-03-01    211.3\n",
       "2009-04-01    211.5\n",
       "2009-05-01    212.8\n",
       "              ...  \n",
       "2022-05-01    337.1\n",
       "2022-06-01    340.0\n",
       "2022-07-01    343.2\n",
       "2022-08-01      NaN\n",
       "2022-09-01      NaN\n",
       "Name: RPI, Length: 165, dtype: float64"
      ]
     },
     "execution_count": 115,
     "metadata": {},
     "output_type": "execute_result"
    }
   ],
   "source": [
    "y"
   ]
  },
  {
   "cell_type": "code",
   "execution_count": 113,
   "id": "1824c0f4",
   "metadata": {
    "scrolled": true
   },
   "outputs": [
    {
     "data": {
      "image/png": "[encoded data removed]",
      "text/plain": [
       "<Figure size 640x480 with 1 Axes>"
      ]
     },
     "metadata": {},
     "output_type": "display_data"
    }
   ],
   "source": [
    "plt.plot(y)\n",
    "plt.scatter([y_test5.index], test_results5['test_predictions'], label='prediction')\n",
    "#plt.plot(test_results5['test_predictions'], label='prediction')\n",
    "plt.plot(test_results5['test_actual'], label='actual')\n",
    "plt.title('2022-2023 Inflation Prediciton')\n",
    "plt.legend()\n",
    "plt.savefig('LSTM_Pred_5th_run')"
   ]
  },
  {
   "cell_type": "code",
   "execution_count": 121,
   "id": "8e131ee0",
   "metadata": {},
   "outputs": [],
   "source": [
    "import plotly.express as px\n",
    "import plotly.graph_objects as go"
   ]
  },
  {
   "cell_type": "code",
   "execution_count": 123,
   "id": "bc96f721",
   "metadata": {},
   "outputs": [
    {
     "data": {
      "text/plain": [
       "[DatetimeIndex(['2022-08-01'], dtype='datetime64[ns]', name='Date', freq=None)]"
      ]
     },
     "execution_count": 123,
     "metadata": {},
     "output_type": "execute_result"
    }
   ],
   "source": [
    "[y_test5.index]"
   ]
  },
  {
   "cell_type": "code",
   "execution_count": 124,
   "id": "38c0a0a1",
   "metadata": {},
   "outputs": [
    {
     "data": {
      "text/plain": [
       "date\n",
       "2022-08-01    332.374237\n",
       "Name: test_predictions, dtype: float32"
      ]
     },
     "execution_count": 124,
     "metadata": {},
     "output_type": "execute_result"
    }
   ],
   "source": [
    " test_results5['test_predictions']"
   ]
  },
  {
   "cell_type": "code",
   "execution_count": 125,
   "id": "1d122937",
   "metadata": {},
   "outputs": [
    {
     "data": {
      "application/vnd.plotly.v1+json": {
       "config": {
        "plotlyServerURL": "https://plot.ly"
       },
       "data": [
        {
         "hovertemplate": "x=%{x}<br>index=%{y}<extra></extra>",
         "legendgroup": "",
         "marker": {
          "color": "#636efa",
          "symbol": "circle"
         },
         "mode": "markers",
         "name": "",
         "orientation": "h",
         "showlegend": false,
         "type": "scatter",
         "x": [
          332.3742370605469
         ],
         "xaxis": "x",
         "y": [
          0
         ],
         "yaxis": "y"
        }
       ],
       "layout": {
        "legend": {
         "tracegroupgap": 0
        },
        "margin": {
         "t": 60
        },
        "template": {
         "data": {
          "bar": [
           {
            "error_x": {
             "color": "#2a3f5f"
            },
            "error_y": {
             "color": "#2a3f5f"
            },
            "marker": {
             "line": {
              "color": "#E5ECF6",
              "width": 0.5
             },
             "pattern": {
              "fillmode": "overlay",
              "size": 10,
              "solidity": 0.2
             }
            },
            "type": "bar"
           }
          ],
          "barpolar": [
           {
            "marker": {
             "line": {
              "color": "#E5ECF6",
              "width": 0.5
             },
             "pattern": {
              "fillmode": "overlay",
              "size": 10,
              "solidity": 0.2
             }
            },
            "type": "barpolar"
           }
          ],
          "carpet": [
           {
            "aaxis": {
             "endlinecolor": "#2a3f5f",
             "gridcolor": "white",
             "linecolor": "white",
             "minorgridcolor": "white",
             "startlinecolor": "#2a3f5f"
            },
            "baxis": {
             "endlinecolor": "#2a3f5f",
             "gridcolor": "white",
             "linecolor": "white",
             "minorgridcolor": "white",
             "startlinecolor": "#2a3f5f"
            },
            "type": "carpet"
           }
          ],
          "choropleth": [
           {
            "colorbar": {
             "outlinewidth": 0,
             "ticks": ""
            },
            "type": "choropleth"
           }
          ],
          "contour": [
           {
            "colorbar": {
             "outlinewidth": 0,
             "ticks": ""
            },
            "colorscale": [
             [
              0,
              "#0d0887"
             ],
             [
              0.1111111111111111,
              "#46039f"
             ],
             [
              0.2222222222222222,
              "#7201a8"
             ],
             [
              0.3333333333333333,
              "#9c179e"
             ],
             [
              0.4444444444444444,
              "#bd3786"
             ],
             [
              0.5555555555555556,
              "#d8576b"
             ],
             [
              0.6666666666666666,
              "#ed7953"
             ],
             [
              0.7777777777777778,
              "#fb9f3a"
             ],
             [
              0.8888888888888888,
              "#fdca26"
             ],
             [
              1,
              "#f0f921"
             ]
            ],
            "type": "contour"
           }
          ],
          "contourcarpet": [
           {
            "colorbar": {
             "outlinewidth": 0,
             "ticks": ""
            },
            "type": "contourcarpet"
           }
          ],
          "heatmap": [
           {
            "colorbar": {
             "outlinewidth": 0,
             "ticks": ""
            },
            "colorscale": [
             [
              0,
              "#0d0887"
             ],
             [
              0.1111111111111111,
              "#46039f"
             ],
             [
              0.2222222222222222,
              "#7201a8"
             ],
             [
              0.3333333333333333,
              "#9c179e"
             ],
             [
              0.4444444444444444,
              "#bd3786"
             ],
             [
              0.5555555555555556,
              "#d8576b"
             ],
             [
              0.6666666666666666,
              "#ed7953"
             ],
             [
              0.7777777777777778,
              "#fb9f3a"
             ],
             [
              0.8888888888888888,
              "#fdca26"
             ],
             [
              1,
              "#f0f921"
             ]
            ],
            "type": "heatmap"
           }
          ],
          "heatmapgl": [
           {
            "colorbar": {
             "outlinewidth": 0,
             "ticks": ""
            },
            "colorscale": [
             [
              0,
              "#0d0887"
             ],
             [
              0.1111111111111111,
              "#46039f"
             ],
             [
              0.2222222222222222,
              "#7201a8"
             ],
             [
              0.3333333333333333,
              "#9c179e"
             ],
             [
              0.4444444444444444,
              "#bd3786"
             ],
             [
              0.5555555555555556,
              "#d8576b"
             ],
             [
              0.6666666666666666,
              "#ed7953"
             ],
             [
              0.7777777777777778,
              "#fb9f3a"
             ],
             [
              0.8888888888888888,
              "#fdca26"
             ],
             [
              1,
              "#f0f921"
             ]
            ],
            "type": "heatmapgl"
           }
          ],
          "histogram": [
           {
            "marker": {
             "pattern": {
              "fillmode": "overlay",
              "size": 10,
              "solidity": 0.2
             }
            },
            "type": "histogram"
           }
          ],
          "histogram2d": [
           {
            "colorbar": {
             "outlinewidth": 0,
             "ticks": ""
            },
            "colorscale": [
             [
              0,
              "#0d0887"
             ],
             [
              0.1111111111111111,
              "#46039f"
             ],
             [
              0.2222222222222222,
              "#7201a8"
             ],
             [
              0.3333333333333333,
              "#9c179e"
             ],
             [
              0.4444444444444444,
              "#bd3786"
             ],
             [
              0.5555555555555556,
              "#d8576b"
             ],
             [
              0.6666666666666666,
              "#ed7953"
             ],
             [
              0.7777777777777778,
              "#fb9f3a"
             ],
             [
              0.8888888888888888,
              "#fdca26"
             ],
             [
              1,
              "#f0f921"
             ]
            ],
            "type": "histogram2d"
           }
          ],
          "histogram2dcontour": [
           {
            "colorbar": {
             "outlinewidth": 0,
             "ticks": ""
            },
            "colorscale": [
             [
              0,
              "#0d0887"
             ],
             [
              0.1111111111111111,
              "#46039f"
             ],
             [
              0.2222222222222222,
              "#7201a8"
             ],
             [
              0.3333333333333333,
              "#9c179e"
             ],
             [
              0.4444444444444444,
              "#bd3786"
             ],
             [
              0.5555555555555556,
              "#d8576b"
             ],
             [
              0.6666666666666666,
              "#ed7953"
             ],
             [
              0.7777777777777778,
              "#fb9f3a"
             ],
             [
              0.8888888888888888,
              "#fdca26"
             ],
             [
              1,
              "#f0f921"
             ]
            ],
            "type": "histogram2dcontour"
           }
          ],
          "mesh3d": [
           {
            "colorbar": {
             "outlinewidth": 0,
             "ticks": ""
            },
            "type": "mesh3d"
           }
          ],
          "parcoords": [
           {
            "line": {
             "colorbar": {
              "outlinewidth": 0,
              "ticks": ""
             }
            },
            "type": "parcoords"
           }
          ],
          "pie": [
           {
            "automargin": true,
            "type": "pie"
           }
          ],
          "scatter": [
           {
            "fillpattern": {
             "fillmode": "overlay",
             "size": 10,
             "solidity": 0.2
            },
            "type": "scatter"
           }
          ],
          "scatter3d": [
           {
            "line": {
             "colorbar": {
              "outlinewidth": 0,
              "ticks": ""
             }
            },
            "marker": {
             "colorbar": {
              "outlinewidth": 0,
              "ticks": ""
             }
            },
            "type": "scatter3d"
           }
          ],
          "scattercarpet": [
           {
            "marker": {
             "colorbar": {
              "outlinewidth": 0,
              "ticks": ""
             }
            },
            "type": "scattercarpet"
           }
          ],
          "scattergeo": [
           {
            "marker": {
             "colorbar": {
              "outlinewidth": 0,
              "ticks": ""
             }
            },
            "type": "scattergeo"
           }
          ],
          "scattergl": [
           {
            "marker": {
             "colorbar": {
              "outlinewidth": 0,
              "ticks": ""
             }
            },
            "type": "scattergl"
           }
          ],
          "scattermapbox": [
           {
            "marker": {
             "colorbar": {
              "outlinewidth": 0,
              "ticks": ""
             }
            },
            "type": "scattermapbox"
           }
          ],
          "scatterpolar": [
           {
            "marker": {
             "colorbar": {
              "outlinewidth": 0,
              "ticks": ""
             }
            },
            "type": "scatterpolar"
           }
          ],
          "scatterpolargl": [
           {
            "marker": {
             "colorbar": {
              "outlinewidth": 0,
              "ticks": ""
             }
            },
            "type": "scatterpolargl"
           }
          ],
          "scatterternary": [
           {
            "marker": {
             "colorbar": {
              "outlinewidth": 0,
              "ticks": ""
             }
            },
            "type": "scatterternary"
           }
          ],
          "surface": [
           {
            "colorbar": {
             "outlinewidth": 0,
             "ticks": ""
            },
            "colorscale": [
             [
              0,
              "#0d0887"
             ],
             [
              0.1111111111111111,
              "#46039f"
             ],
             [
              0.2222222222222222,
              "#7201a8"
             ],
             [
              0.3333333333333333,
              "#9c179e"
             ],
             [
              0.4444444444444444,
              "#bd3786"
             ],
             [
              0.5555555555555556,
              "#d8576b"
             ],
             [
              0.6666666666666666,
              "#ed7953"
             ],
             [
              0.7777777777777778,
              "#fb9f3a"
             ],
             [
              0.8888888888888888,
              "#fdca26"
             ],
             [
              1,
              "#f0f921"
             ]
            ],
            "type": "surface"
           }
          ],
          "table": [
           {
            "cells": {
             "fill": {
              "color": "#EBF0F8"
             },
             "line": {
              "color": "white"
             }
            },
            "header": {
             "fill": {
              "color": "#C8D4E3"
             },
             "line": {
              "color": "white"
             }
            },
            "type": "table"
           }
          ]
         },
         "layout": {
          "annotationdefaults": {
           "arrowcolor": "#2a3f5f",
           "arrowhead": 0,
           "arrowwidth": 1
          },
          "autotypenumbers": "strict",
          "coloraxis": {
           "colorbar": {
            "outlinewidth": 0,
            "ticks": ""
           }
          },
          "colorscale": {
           "diverging": [
            [
             0,
             "#8e0152"
            ],
            [
             0.1,
             "#c51b7d"
            ],
            [
             0.2,
             "#de77ae"
            ],
            [
             0.3,
             "#f1b6da"
            ],
            [
             0.4,
             "#fde0ef"
            ],
            [
             0.5,
             "#f7f7f7"
            ],
            [
             0.6,
             "#e6f5d0"
            ],
            [
             0.7,
             "#b8e186"
            ],
            [
             0.8,
             "#7fbc41"
            ],
            [
             0.9,
             "#4d9221"
            ],
            [
             1,
             "#276419"
            ]
           ],
           "sequential": [
            [
             0,
             "#0d0887"
            ],
            [
             0.1111111111111111,
             "#46039f"
            ],
            [
             0.2222222222222222,
             "#7201a8"
            ],
            [
             0.3333333333333333,
             "#9c179e"
            ],
            [
             0.4444444444444444,
             "#bd3786"
            ],
            [
             0.5555555555555556,
             "#d8576b"
            ],
            [
             0.6666666666666666,
             "#ed7953"
            ],
            [
             0.7777777777777778,
             "#fb9f3a"
            ],
            [
             0.8888888888888888,
             "#fdca26"
            ],
            [
             1,
             "#f0f921"
            ]
           ],
           "sequentialminus": [
            [
             0,
             "#0d0887"
            ],
            [
             0.1111111111111111,
             "#46039f"
            ],
            [
             0.2222222222222222,
             "#7201a8"
            ],
            [
             0.3333333333333333,
             "#9c179e"
            ],
            [
             0.4444444444444444,
             "#bd3786"
            ],
            [
             0.5555555555555556,
             "#d8576b"
            ],
            [
             0.6666666666666666,
             "#ed7953"
            ],
            [
             0.7777777777777778,
             "#fb9f3a"
            ],
            [
             0.8888888888888888,
             "#fdca26"
            ],
            [
             1,
             "#f0f921"
            ]
           ]
          },
          "colorway": [
           "#636efa",
           "#EF553B",
           "#00cc96",
           "#ab63fa",
           "#FFA15A",
           "#19d3f3",
           "#FF6692",
           "#B6E880",
           "#FF97FF",
           "#FECB52"
          ],
          "font": {
           "color": "#2a3f5f"
          },
          "geo": {
           "bgcolor": "white",
           "lakecolor": "white",
           "landcolor": "#E5ECF6",
           "showlakes": true,
           "showland": true,
           "subunitcolor": "white"
          },
          "hoverlabel": {
           "align": "left"
          },
          "hovermode": "closest",
          "mapbox": {
           "style": "light"
          },
          "paper_bgcolor": "white",
          "plot_bgcolor": "#E5ECF6",
          "polar": {
           "angularaxis": {
            "gridcolor": "white",
            "linecolor": "white",
            "ticks": ""
           },
           "bgcolor": "#E5ECF6",
           "radialaxis": {
            "gridcolor": "white",
            "linecolor": "white",
            "ticks": ""
           }
          },
          "scene": {
           "xaxis": {
            "backgroundcolor": "#E5ECF6",
            "gridcolor": "white",
            "gridwidth": 2,
            "linecolor": "white",
            "showbackground": true,
            "ticks": "",
            "zerolinecolor": "white"
           },
           "yaxis": {
            "backgroundcolor": "#E5ECF6",
            "gridcolor": "white",
            "gridwidth": 2,
            "linecolor": "white",
            "showbackground": true,
            "ticks": "",
            "zerolinecolor": "white"
           },
           "zaxis": {
            "backgroundcolor": "#E5ECF6",
            "gridcolor": "white",
            "gridwidth": 2,
            "linecolor": "white",
            "showbackground": true,
            "ticks": "",
            "zerolinecolor": "white"
           }
          },
          "shapedefaults": {
           "line": {
            "color": "#2a3f5f"
           }
          },
          "ternary": {
           "aaxis": {
            "gridcolor": "white",
            "linecolor": "white",
            "ticks": ""
           },
           "baxis": {
            "gridcolor": "white",
            "linecolor": "white",
            "ticks": ""
           },
           "bgcolor": "#E5ECF6",
           "caxis": {
            "gridcolor": "white",
            "linecolor": "white",
            "ticks": ""
           }
          },
          "title": {
           "x": 0.05
          },
          "xaxis": {
           "automargin": true,
           "gridcolor": "white",
           "linecolor": "white",
           "ticks": "",
           "title": {
            "standoff": 15
           },
           "zerolinecolor": "white",
           "zerolinewidth": 2
          },
          "yaxis": {
           "automargin": true,
           "gridcolor": "white",
           "linecolor": "white",
           "ticks": "",
           "title": {
            "standoff": 15
           },
           "zerolinecolor": "white",
           "zerolinewidth": 2
          }
         }
        },
        "xaxis": {
         "anchor": "y",
         "domain": [
          0,
          1
         ],
         "title": {
          "text": "x"
         }
        },
        "yaxis": {
         "anchor": "x",
         "domain": [
          0,
          1
         ],
         "title": {
          "text": "index"
         }
        }
       }
      },
      "text/html": [
       "<div>                            <div id=\"90d1a021-a1e1-42aa-b3f0-6f2fad374a87\" class=\"plotly-graph-div\" style=\"height:525px; width:100%;\"></div>            <script type=\"text/javascript\">                require([\"plotly\"], function(Plotly) {                    window.PLOTLYENV=window.PLOTLYENV || {};                                    if (document.getElementById(\"90d1a021-a1e1-42aa-b3f0-6f2fad374a87\")) {                    Plotly.newPlot(                        \"90d1a021-a1e1-42aa-b3f0-6f2fad374a87\",                        [{\"hovertemplate\":\"x=%{x}<br>index=%{y}<extra></extra>\",\"legendgroup\":\"\",\"marker\":{\"color\":\"#636efa\",\"symbol\":\"circle\"},\"mode\":\"markers\",\"name\":\"\",\"orientation\":\"h\",\"showlegend\":false,\"x\":[332.3742370605469],\"xaxis\":\"x\",\"y\":[0],\"yaxis\":\"y\",\"type\":\"scatter\"}],                        {\"template\":{\"data\":{\"histogram2dcontour\":[{\"type\":\"histogram2dcontour\",\"colorbar\":{\"outlinewidth\":0,\"ticks\":\"\"},\"colorscale\":[[0.0,\"#0d0887\"],[0.1111111111111111,\"#46039f\"],[0.2222222222222222,\"#7201a8\"],[0.3333333333333333,\"#9c179e\"],[0.4444444444444444,\"#bd3786\"],[0.5555555555555556,\"#d8576b\"],[0.6666666666666666,\"#ed7953\"],[0.7777777777777778,\"#fb9f3a\"],[0.8888888888888888,\"#fdca26\"],[1.0,\"#f0f921\"]]}],\"choropleth\":[{\"type\":\"choropleth\",\"colorbar\":{\"outlinewidth\":0,\"ticks\":\"\"}}],\"histogram2d\":[{\"type\":\"histogram2d\",\"colorbar\":{\"outlinewidth\":0,\"ticks\":\"\"},\"colorscale\":[[0.0,\"#0d0887\"],[0.1111111111111111,\"#46039f\"],[0.2222222222222222,\"#7201a8\"],[0.3333333333333333,\"#9c179e\"],[0.4444444444444444,\"#bd3786\"],[0.5555555555555556,\"#d8576b\"],[0.6666666666666666,\"#ed7953\"],[0.7777777777777778,\"#fb9f3a\"],[0.8888888888888888,\"#fdca26\"],[1.0,\"#f0f921\"]]}],\"heatmap\":[{\"type\":\"heatmap\",\"colorbar\":{\"outlinewidth\":0,\"ticks\":\"\"},\"colorscale\":[[0.0,\"#0d0887\"],[0.1111111111111111,\"#46039f\"],[0.2222222222222222,\"#7201a8\"],[0.3333333333333333,\"#9c179e\"],[0.4444444444444444,\"#bd3786\"],[0.5555555555555556,\"#d8576b\"],[0.6666666666666666,\"#ed7953\"],[0.7777777777777778,\"#fb9f3a\"],[0.8888888888888888,\"#fdca26\"],[1.0,\"#f0f921\"]]}],\"heatmapgl\":[{\"type\":\"heatmapgl\",\"colorbar\":{\"outlinewidth\":0,\"ticks\":\"\"},\"colorscale\":[[0.0,\"#0d0887\"],[0.1111111111111111,\"#46039f\"],[0.2222222222222222,\"#7201a8\"],[0.3333333333333333,\"#9c179e\"],[0.4444444444444444,\"#bd3786\"],[0.5555555555555556,\"#d8576b\"],[0.6666666666666666,\"#ed7953\"],[0.7777777777777778,\"#fb9f3a\"],[0.8888888888888888,\"#fdca26\"],[1.0,\"#f0f921\"]]}],\"contourcarpet\":[{\"type\":\"contourcarpet\",\"colorbar\":{\"outlinewidth\":0,\"ticks\":\"\"}}],\"contour\":[{\"type\":\"contour\",\"colorbar\":{\"outlinewidth\":0,\"ticks\":\"\"},\"colorscale\":[[0.0,\"#0d0887\"],[0.1111111111111111,\"#46039f\"],[0.2222222222222222,\"#7201a8\"],[0.3333333333333333,\"#9c179e\"],[0.4444444444444444,\"#bd3786\"],[0.5555555555555556,\"#d8576b\"],[0.6666666666666666,\"#ed7953\"],[0.7777777777777778,\"#fb9f3a\"],[0.8888888888888888,\"#fdca26\"],[1.0,\"#f0f921\"]]}],\"surface\":[{\"type\":\"surface\",\"colorbar\":{\"outlinewidth\":0,\"ticks\":\"\"},\"colorscale\":[[0.0,\"#0d0887\"],[0.1111111111111111,\"#46039f\"],[0.2222222222222222,\"#7201a8\"],[0.3333333333333333,\"#9c179e\"],[0.4444444444444444,\"#bd3786\"],[0.5555555555555556,\"#d8576b\"],[0.6666666666666666,\"#ed7953\"],[0.7777777777777778,\"#fb9f3a\"],[0.8888888888888888,\"#fdca26\"],[1.0,\"#f0f921\"]]}],\"mesh3d\":[{\"type\":\"mesh3d\",\"colorbar\":{\"outlinewidth\":0,\"ticks\":\"\"}}],\"scatter\":[{\"fillpattern\":{\"fillmode\":\"overlay\",\"size\":10,\"solidity\":0.2},\"type\":\"scatter\"}],\"parcoords\":[{\"type\":\"parcoords\",\"line\":{\"colorbar\":{\"outlinewidth\":0,\"ticks\":\"\"}}}],\"scatterpolargl\":[{\"type\":\"scatterpolargl\",\"marker\":{\"colorbar\":{\"outlinewidth\":0,\"ticks\":\"\"}}}],\"bar\":[{\"error_x\":{\"color\":\"#2a3f5f\"},\"error_y\":{\"color\":\"#2a3f5f\"},\"marker\":{\"line\":{\"color\":\"#E5ECF6\",\"width\":0.5},\"pattern\":{\"fillmode\":\"overlay\",\"size\":10,\"solidity\":0.2}},\"type\":\"bar\"}],\"scattergeo\":[{\"type\":\"scattergeo\",\"marker\":{\"colorbar\":{\"outlinewidth\":0,\"ticks\":\"\"}}}],\"scatterpolar\":[{\"type\":\"scatterpolar\",\"marker\":{\"colorbar\":{\"outlinewidth\":0,\"ticks\":\"\"}}}],\"histogram\":[{\"marker\":{\"pattern\":{\"fillmode\":\"overlay\",\"size\":10,\"solidity\":0.2}},\"type\":\"histogram\"}],\"scattergl\":[{\"type\":\"scattergl\",\"marker\":{\"colorbar\":{\"outlinewidth\":0,\"ticks\":\"\"}}}],\"scatter3d\":[{\"type\":\"scatter3d\",\"line\":{\"colorbar\":{\"outlinewidth\":0,\"ticks\":\"\"}},\"marker\":{\"colorbar\":{\"outlinewidth\":0,\"ticks\":\"\"}}}],\"scattermapbox\":[{\"type\":\"scattermapbox\",\"marker\":{\"colorbar\":{\"outlinewidth\":0,\"ticks\":\"\"}}}],\"scatterternary\":[{\"type\":\"scatterternary\",\"marker\":{\"colorbar\":{\"outlinewidth\":0,\"ticks\":\"\"}}}],\"scattercarpet\":[{\"type\":\"scattercarpet\",\"marker\":{\"colorbar\":{\"outlinewidth\":0,\"ticks\":\"\"}}}],\"carpet\":[{\"aaxis\":{\"endlinecolor\":\"#2a3f5f\",\"gridcolor\":\"white\",\"linecolor\":\"white\",\"minorgridcolor\":\"white\",\"startlinecolor\":\"#2a3f5f\"},\"baxis\":{\"endlinecolor\":\"#2a3f5f\",\"gridcolor\":\"white\",\"linecolor\":\"white\",\"minorgridcolor\":\"white\",\"startlinecolor\":\"#2a3f5f\"},\"type\":\"carpet\"}],\"table\":[{\"cells\":{\"fill\":{\"color\":\"#EBF0F8\"},\"line\":{\"color\":\"white\"}},\"header\":{\"fill\":{\"color\":\"#C8D4E3\"},\"line\":{\"color\":\"white\"}},\"type\":\"table\"}],\"barpolar\":[{\"marker\":{\"line\":{\"color\":\"#E5ECF6\",\"width\":0.5},\"pattern\":{\"fillmode\":\"overlay\",\"size\":10,\"solidity\":0.2}},\"type\":\"barpolar\"}],\"pie\":[{\"automargin\":true,\"type\":\"pie\"}]},\"layout\":{\"autotypenumbers\":\"strict\",\"colorway\":[\"#636efa\",\"#EF553B\",\"#00cc96\",\"#ab63fa\",\"#FFA15A\",\"#19d3f3\",\"#FF6692\",\"#B6E880\",\"#FF97FF\",\"#FECB52\"],\"font\":{\"color\":\"#2a3f5f\"},\"hovermode\":\"closest\",\"hoverlabel\":{\"align\":\"left\"},\"paper_bgcolor\":\"white\",\"plot_bgcolor\":\"#E5ECF6\",\"polar\":{\"bgcolor\":\"#E5ECF6\",\"angularaxis\":{\"gridcolor\":\"white\",\"linecolor\":\"white\",\"ticks\":\"\"},\"radialaxis\":{\"gridcolor\":\"white\",\"linecolor\":\"white\",\"ticks\":\"\"}},\"ternary\":{\"bgcolor\":\"#E5ECF6\",\"aaxis\":{\"gridcolor\":\"white\",\"linecolor\":\"white\",\"ticks\":\"\"},\"baxis\":{\"gridcolor\":\"white\",\"linecolor\":\"white\",\"ticks\":\"\"},\"caxis\":{\"gridcolor\":\"white\",\"linecolor\":\"white\",\"ticks\":\"\"}},\"coloraxis\":{\"colorbar\":{\"outlinewidth\":0,\"ticks\":\"\"}},\"colorscale\":{\"sequential\":[[0.0,\"#0d0887\"],[0.1111111111111111,\"#46039f\"],[0.2222222222222222,\"#7201a8\"],[0.3333333333333333,\"#9c179e\"],[0.4444444444444444,\"#bd3786\"],[0.5555555555555556,\"#d8576b\"],[0.6666666666666666,\"#ed7953\"],[0.7777777777777778,\"#fb9f3a\"],[0.8888888888888888,\"#fdca26\"],[1.0,\"#f0f921\"]],\"sequentialminus\":[[0.0,\"#0d0887\"],[0.1111111111111111,\"#46039f\"],[0.2222222222222222,\"#7201a8\"],[0.3333333333333333,\"#9c179e\"],[0.4444444444444444,\"#bd3786\"],[0.5555555555555556,\"#d8576b\"],[0.6666666666666666,\"#ed7953\"],[0.7777777777777778,\"#fb9f3a\"],[0.8888888888888888,\"#fdca26\"],[1.0,\"#f0f921\"]],\"diverging\":[[0,\"#8e0152\"],[0.1,\"#c51b7d\"],[0.2,\"#de77ae\"],[0.3,\"#f1b6da\"],[0.4,\"#fde0ef\"],[0.5,\"#f7f7f7\"],[0.6,\"#e6f5d0\"],[0.7,\"#b8e186\"],[0.8,\"#7fbc41\"],[0.9,\"#4d9221\"],[1,\"#276419\"]]},\"xaxis\":{\"gridcolor\":\"white\",\"linecolor\":\"white\",\"ticks\":\"\",\"title\":{\"standoff\":15},\"zerolinecolor\":\"white\",\"automargin\":true,\"zerolinewidth\":2},\"yaxis\":{\"gridcolor\":\"white\",\"linecolor\":\"white\",\"ticks\":\"\",\"title\":{\"standoff\":15},\"zerolinecolor\":\"white\",\"automargin\":true,\"zerolinewidth\":2},\"scene\":{\"xaxis\":{\"backgroundcolor\":\"#E5ECF6\",\"gridcolor\":\"white\",\"linecolor\":\"white\",\"showbackground\":true,\"ticks\":\"\",\"zerolinecolor\":\"white\",\"gridwidth\":2},\"yaxis\":{\"backgroundcolor\":\"#E5ECF6\",\"gridcolor\":\"white\",\"linecolor\":\"white\",\"showbackground\":true,\"ticks\":\"\",\"zerolinecolor\":\"white\",\"gridwidth\":2},\"zaxis\":{\"backgroundcolor\":\"#E5ECF6\",\"gridcolor\":\"white\",\"linecolor\":\"white\",\"showbackground\":true,\"ticks\":\"\",\"zerolinecolor\":\"white\",\"gridwidth\":2}},\"shapedefaults\":{\"line\":{\"color\":\"#2a3f5f\"}},\"annotationdefaults\":{\"arrowcolor\":\"#2a3f5f\",\"arrowhead\":0,\"arrowwidth\":1},\"geo\":{\"bgcolor\":\"white\",\"landcolor\":\"#E5ECF6\",\"subunitcolor\":\"white\",\"showland\":true,\"showlakes\":true,\"lakecolor\":\"white\"},\"title\":{\"x\":0.05},\"mapbox\":{\"style\":\"light\"}}},\"xaxis\":{\"anchor\":\"y\",\"domain\":[0.0,1.0],\"title\":{\"text\":\"x\"}},\"yaxis\":{\"anchor\":\"x\",\"domain\":[0.0,1.0],\"title\":{\"text\":\"index\"}},\"legend\":{\"tracegroupgap\":0},\"margin\":{\"t\":60}},                        {\"responsive\": true}                    ).then(function(){\n",
       "                            \n",
       "var gd = document.getElementById('90d1a021-a1e1-42aa-b3f0-6f2fad374a87');\n",
       "var x = new MutationObserver(function (mutations, observer) {{\n",
       "        var display = window.getComputedStyle(gd).display;\n",
       "        if (!display || display === 'none') {{\n",
       "            console.log([gd, 'removed!']);\n",
       "            Plotly.purge(gd);\n",
       "            observer.disconnect();\n",
       "        }}\n",
       "}});\n",
       "\n",
       "// Listen for the removal of the full notebook cells\n",
       "var notebookContainer = gd.closest('#notebook-container');\n",
       "if (notebookContainer) {{\n",
       "    x.observe(notebookContainer, {childList: true});\n",
       "}}\n",
       "\n",
       "// Listen for the clearing of the current output cell\n",
       "var outputEl = gd.closest('.output');\n",
       "if (outputEl) {{\n",
       "    x.observe(outputEl, {childList: true});\n",
       "}}\n",
       "\n",
       "                        })                };                });            </script>        </div>"
      ]
     },
     "metadata": {},
     "output_type": "display_data"
    }
   ],
   "source": [
    "fig2"
   ]
  },
  {
   "cell_type": "code",
   "execution_count": 135,
   "id": "60cc4a40",
   "metadata": {},
   "outputs": [
    {
     "data": {
      "text/plain": [
       "date\n",
       "2022-08-01    332.374237\n",
       "Name: test_predictions, dtype: float32"
      ]
     },
     "execution_count": 135,
     "metadata": {},
     "output_type": "execute_result"
    }
   ],
   "source": [
    "test_results5['test_predictions']"
   ]
  },
  {
   "cell_type": "code",
   "execution_count": 134,
   "id": "89817ac9",
   "metadata": {},
   "outputs": [
    {
     "data": {
      "text/plain": [
       "Date\n",
       "2022-08-01   NaN\n",
       "Name: RPI, dtype: float64"
      ]
     },
     "execution_count": 134,
     "metadata": {},
     "output_type": "execute_result"
    }
   ],
   "source": [
    "y_test5"
   ]
  },
  {
   "cell_type": "code",
   "execution_count": 140,
   "id": "cf04e95a",
   "metadata": {},
   "outputs": [
    {
     "data": {
      "text/plain": [
       "Date\n",
       "2009-01-01    210.1\n",
       "2009-02-01    211.4\n",
       "2009-03-01    211.3\n",
       "2009-04-01    211.5\n",
       "2009-05-01    212.8\n",
       "              ...  \n",
       "2022-05-01    337.1\n",
       "2022-06-01    340.0\n",
       "2022-07-01    343.2\n",
       "2022-08-01      NaN\n",
       "2022-09-01      NaN\n",
       "Name: RPI, Length: 165, dtype: float64"
      ]
     },
     "execution_count": 140,
     "metadata": {},
     "output_type": "execute_result"
    }
   ],
   "source": [
    "y"
   ]
  },
  {
   "cell_type": "code",
   "execution_count": 143,
   "id": "8b92ba60",
   "metadata": {},
   "outputs": [
    {
     "data": {
      "text/plain": [
       "date\n",
       "2022-08-01    332.374237\n",
       "Name: test_predictions, dtype: float32"
      ]
     },
     "execution_count": 143,
     "metadata": {},
     "output_type": "execute_result"
    }
   ],
   "source": [
    "test_results5[\"test_predictions\"]"
   ]
  },
  {
   "cell_type": "code",
   "execution_count": 147,
   "id": "abffa8db",
   "metadata": {},
   "outputs": [
    {
     "data": {
      "application/vnd.plotly.v1+json": {
       "config": {
        "plotlyServerURL": "https://plot.ly"
       },
       "data": [
        {
         "hovertemplate": "variable=RPI<br>Date=%{x}<br>value=%{y}<extra></extra>",
         "legendgroup": "RPI",
         "line": {
          "color": "#636efa",
          "dash": "solid"
         },
         "marker": {
          "symbol": "circle"
         },
         "mode": "lines",
         "name": "RPI",
         "orientation": "v",
         "showlegend": true,
         "type": "scatter",
         "x": [
          "2009-01-01T00:00:00",
          "2009-02-01T00:00:00",
          "2009-03-01T00:00:00",
          "2009-04-01T00:00:00",
          "2009-05-01T00:00:00",
          "2009-06-01T00:00:00",
          "2009-07-01T00:00:00",
          "2009-08-01T00:00:00",
          "2009-09-01T00:00:00",
          "2009-10-01T00:00:00",
          "2009-11-01T00:00:00",
          "2009-12-01T00:00:00",
          "2010-01-01T00:00:00",
          "2010-02-01T00:00:00",
          "2010-03-01T00:00:00",
          "2010-04-01T00:00:00",
          "2010-05-01T00:00:00",
          "2010-06-01T00:00:00",
          "2010-07-01T00:00:00",
          "2010-08-01T00:00:00",
          "2010-09-01T00:00:00",
          "2010-10-01T00:00:00",
          "2010-11-01T00:00:00",
          "2010-12-01T00:00:00",
          "2011-01-01T00:00:00",
          "2011-02-01T00:00:00",
          "2011-03-01T00:00:00",
          "2011-04-01T00:00:00",
          "2011-05-01T00:00:00",
          "2011-06-01T00:00:00",
          "2011-07-01T00:00:00",
          "2011-08-01T00:00:00",
          "2011-09-01T00:00:00",
          "2011-10-01T00:00:00",
          "2011-11-01T00:00:00",
          "2011-12-01T00:00:00",
          "2012-01-01T00:00:00",
          "2012-02-01T00:00:00",
          "2012-03-01T00:00:00",
          "2012-04-01T00:00:00",
          "2012-05-01T00:00:00",
          "2012-06-01T00:00:00",
          "2012-07-01T00:00:00",
          "2012-08-01T00:00:00",
          "2012-09-01T00:00:00",
          "2012-10-01T00:00:00",
          "2012-11-01T00:00:00",
          "2012-12-01T00:00:00",
          "2013-01-01T00:00:00",
          "2013-02-01T00:00:00",
          "2013-03-01T00:00:00",
          "2013-04-01T00:00:00",
          "2013-05-01T00:00:00",
          "2013-06-01T00:00:00",
          "2013-07-01T00:00:00",
          "2013-08-01T00:00:00",
          "2013-09-01T00:00:00",
          "2013-10-01T00:00:00",
          "2013-11-01T00:00:00",
          "2013-12-01T00:00:00",
          "2014-01-01T00:00:00",
          "2014-02-01T00:00:00",
          "2014-03-01T00:00:00",
          "2014-04-01T00:00:00",
          "2014-05-01T00:00:00",
          "2014-06-01T00:00:00",
          "2014-07-01T00:00:00",
          "2014-08-01T00:00:00",
          "2014-09-01T00:00:00",
          "2014-10-01T00:00:00",
          "2014-11-01T00:00:00",
          "2014-12-01T00:00:00",
          "2015-01-01T00:00:00",
          "2015-02-01T00:00:00",
          "2015-03-01T00:00:00",
          "2015-04-01T00:00:00",
          "2015-05-01T00:00:00",
          "2015-06-01T00:00:00",
          "2015-07-01T00:00:00",
          "2015-08-01T00:00:00",
          "2015-09-01T00:00:00",
          "2015-10-01T00:00:00",
          "2015-11-01T00:00:00",
          "2015-12-01T00:00:00",
          "2016-01-01T00:00:00",
          "2016-02-01T00:00:00",
          "2016-03-01T00:00:00",
          "2016-04-01T00:00:00",
          "2016-05-01T00:00:00",
          "2016-06-01T00:00:00",
          "2016-07-01T00:00:00",
          "2016-08-01T00:00:00",
          "2016-09-01T00:00:00",
          "2016-10-01T00:00:00",
          "2016-11-01T00:00:00",
          "2016-12-01T00:00:00",
          "2017-01-01T00:00:00",
          "2017-02-01T00:00:00",
          "2017-03-01T00:00:00",
          "2017-04-01T00:00:00",
          "2017-05-01T00:00:00",
          "2017-06-01T00:00:00",
          "2017-07-01T00:00:00",
          "2017-08-01T00:00:00",
          "2017-09-01T00:00:00",
          "2017-10-01T00:00:00",
          "2017-11-01T00:00:00",
          "2017-12-01T00:00:00",
          "2018-01-01T00:00:00",
          "2018-02-01T00:00:00",
          "2018-03-01T00:00:00",
          "2018-04-01T00:00:00",
          "2018-05-01T00:00:00",
          "2018-06-01T00:00:00",
          "2018-07-01T00:00:00",
          "2018-08-01T00:00:00",
          "2018-09-01T00:00:00",
          "2018-10-01T00:00:00",
          "2018-11-01T00:00:00",
          "2018-12-01T00:00:00",
          "2019-01-01T00:00:00",
          "2019-02-01T00:00:00",
          "2019-03-01T00:00:00",
          "2019-04-01T00:00:00",
          "2019-05-01T00:00:00",
          "2019-06-01T00:00:00",
          "2019-07-01T00:00:00",
          "2019-08-01T00:00:00",
          "2019-09-01T00:00:00",
          "2019-10-01T00:00:00",
          "2019-11-01T00:00:00",
          "2019-12-01T00:00:00",
          "2020-01-01T00:00:00",
          "2020-02-01T00:00:00",
          "2020-03-01T00:00:00",
          "2020-04-01T00:00:00",
          "2020-05-01T00:00:00",
          "2020-06-01T00:00:00",
          "2020-07-01T00:00:00",
          "2020-08-01T00:00:00",
          "2020-09-01T00:00:00",
          "2020-10-01T00:00:00",
          "2020-11-01T00:00:00",
          "2020-12-01T00:00:00",
          "2021-01-01T00:00:00",
          "2021-02-01T00:00:00",
          "2021-03-01T00:00:00",
          "2021-04-01T00:00:00",
          "2021-05-01T00:00:00",
          "2021-06-01T00:00:00",
          "2021-07-01T00:00:00",
          "2021-08-01T00:00:00",
          "2021-09-01T00:00:00",
          "2021-10-01T00:00:00",
          "2021-11-01T00:00:00",
          "2021-12-01T00:00:00",
          "2022-01-01T00:00:00",
          "2022-02-01T00:00:00",
          "2022-03-01T00:00:00",
          "2022-04-01T00:00:00",
          "2022-05-01T00:00:00",
          "2022-06-01T00:00:00",
          "2022-07-01T00:00:00",
          "2022-08-01T00:00:00",
          "2022-09-01T00:00:00"
         ],
         "xaxis": "x",
         "y": [
          210.1,
          211.4,
          211.3,
          211.5,
          212.8,
          213.4,
          213.4,
          214.4,
          215.3,
          216,
          216.6,
          218,
          217.9,
          219.2,
          220.7,
          222.8,
          223.6,
          224.1,
          223.6,
          224.5,
          225.3,
          225.8,
          226.8,
          228.4,
          229,
          231.3,
          232.5,
          234.4,
          235.2,
          235.2,
          234.7,
          236.1,
          237.9,
          238,
          238.5,
          239.4,
          238,
          239.9,
          240.8,
          242.5,
          242.4,
          241.8,
          242.1,
          243,
          244.2,
          245.6,
          245.6,
          246.8,
          245.8,
          247.6,
          248.7,
          249.5,
          250,
          249.7,
          249.7,
          251,
          251.9,
          251.9,
          252.1,
          253.4,
          252.6,
          254.2,
          254.8,
          255.7,
          255.9,
          256.3,
          256,
          257,
          257.6,
          257.7,
          257.1,
          257.5,
          255.4,
          256.7,
          257.1,
          258,
          258.5,
          258.9,
          258.6,
          259.8,
          259.6,
          259.5,
          259.8,
          260.6,
          258.8,
          260,
          261.1,
          261.4,
          262.1,
          263.1,
          263.4,
          264.4,
          264.9,
          264.8,
          265.5,
          267.1,
          265.5,
          268.4,
          269.3,
          270.6,
          271.7,
          272.3,
          272.9,
          274.7,
          275.1,
          275.3,
          275.8,
          278.1,
          276,
          278.1,
          278.3,
          279.7,
          280.7,
          281.5,
          281.7,
          284.2,
          284.1,
          284.5,
          284.6,
          285.6,
          283,
          285,
          285.1,
          288.2,
          289.2,
          289.6,
          289.5,
          291.7,
          291,
          290.4,
          291,
          291.9,
          290.6,
          292,
          292.6,
          292.6,
          292.2,
          292.7,
          294.2,
          293.3,
          294.3,
          294.3,
          293.5,
          295.4,
          294.6,
          296,
          296.9,
          301.1,
          301.9,
          304,
          305.5,
          307.4,
          308.6,
          312,
          314.3,
          317.7,
          317.7,
          320.2,
          323.5,
          334.6,
          337.1,
          340,
          343.2,
          null,
          null
         ],
         "yaxis": "y"
        },
        {
         "hovertemplate": "variable=test_predictions<br>date=%{x}<br>value=%{y}<extra></extra>",
         "legendgroup": "test_predictions",
         "marker": {
          "color": "#636efa",
          "symbol": "circle"
         },
         "mode": "markers",
         "name": "test_predictions",
         "orientation": "v",
         "showlegend": true,
         "type": "scatter",
         "x": [
          "2022-08-01T00:00:00"
         ],
         "xaxis": "x",
         "y": [
          332.3742370605469
         ],
         "yaxis": "y"
        }
       ],
       "layout": {
        "template": {
         "data": {
          "bar": [
           {
            "error_x": {
             "color": "#2a3f5f"
            },
            "error_y": {
             "color": "#2a3f5f"
            },
            "marker": {
             "line": {
              "color": "#E5ECF6",
              "width": 0.5
             },
             "pattern": {
              "fillmode": "overlay",
              "size": 10,
              "solidity": 0.2
             }
            },
            "type": "bar"
           }
          ],
          "barpolar": [
           {
            "marker": {
             "line": {
              "color": "#E5ECF6",
              "width": 0.5
             },
             "pattern": {
              "fillmode": "overlay",
              "size": 10,
              "solidity": 0.2
             }
            },
            "type": "barpolar"
           }
          ],
          "carpet": [
           {
            "aaxis": {
             "endlinecolor": "#2a3f5f",
             "gridcolor": "white",
             "linecolor": "white",
             "minorgridcolor": "white",
             "startlinecolor": "#2a3f5f"
            },
            "baxis": {
             "endlinecolor": "#2a3f5f",
             "gridcolor": "white",
             "linecolor": "white",
             "minorgridcolor": "white",
             "startlinecolor": "#2a3f5f"
            },
            "type": "carpet"
           }
          ],
          "choropleth": [
           {
            "colorbar": {
             "outlinewidth": 0,
             "ticks": ""
            },
            "type": "choropleth"
           }
          ],
          "contour": [
           {
            "colorbar": {
             "outlinewidth": 0,
             "ticks": ""
            },
            "colorscale": [
             [
              0,
              "#0d0887"
             ],
             [
              0.1111111111111111,
              "#46039f"
             ],
             [
              0.2222222222222222,
              "#7201a8"
             ],
             [
              0.3333333333333333,
              "#9c179e"
             ],
             [
              0.4444444444444444,
              "#bd3786"
             ],
             [
              0.5555555555555556,
              "#d8576b"
             ],
             [
              0.6666666666666666,
              "#ed7953"
             ],
             [
              0.7777777777777778,
              "#fb9f3a"
             ],
             [
              0.8888888888888888,
              "#fdca26"
             ],
             [
              1,
              "#f0f921"
             ]
            ],
            "type": "contour"
           }
          ],
          "contourcarpet": [
           {
            "colorbar": {
             "outlinewidth": 0,
             "ticks": ""
            },
            "type": "contourcarpet"
           }
          ],
          "heatmap": [
           {
            "colorbar": {
             "outlinewidth": 0,
             "ticks": ""
            },
            "colorscale": [
             [
              0,
              "#0d0887"
             ],
             [
              0.1111111111111111,
              "#46039f"
             ],
             [
              0.2222222222222222,
              "#7201a8"
             ],
             [
              0.3333333333333333,
              "#9c179e"
             ],
             [
              0.4444444444444444,
              "#bd3786"
             ],
             [
              0.5555555555555556,
              "#d8576b"
             ],
             [
              0.6666666666666666,
              "#ed7953"
             ],
             [
              0.7777777777777778,
              "#fb9f3a"
             ],
             [
              0.8888888888888888,
              "#fdca26"
             ],
             [
              1,
              "#f0f921"
             ]
            ],
            "type": "heatmap"
           }
          ],
          "heatmapgl": [
           {
            "colorbar": {
             "outlinewidth": 0,
             "ticks": ""
            },
            "colorscale": [
             [
              0,
              "#0d0887"
             ],
             [
              0.1111111111111111,
              "#46039f"
             ],
             [
              0.2222222222222222,
              "#7201a8"
             ],
             [
              0.3333333333333333,
              "#9c179e"
             ],
             [
              0.4444444444444444,
              "#bd3786"
             ],
             [
              0.5555555555555556,
              "#d8576b"
             ],
             [
              0.6666666666666666,
              "#ed7953"
             ],
             [
              0.7777777777777778,
              "#fb9f3a"
             ],
             [
              0.8888888888888888,
              "#fdca26"
             ],
             [
              1,
              "#f0f921"
             ]
            ],
            "type": "heatmapgl"
           }
          ],
          "histogram": [
           {
            "marker": {
             "pattern": {
              "fillmode": "overlay",
              "size": 10,
              "solidity": 0.2
             }
            },
            "type": "histogram"
           }
          ],
          "histogram2d": [
           {
            "colorbar": {
             "outlinewidth": 0,
             "ticks": ""
            },
            "colorscale": [
             [
              0,
              "#0d0887"
             ],
             [
              0.1111111111111111,
              "#46039f"
             ],
             [
              0.2222222222222222,
              "#7201a8"
             ],
             [
              0.3333333333333333,
              "#9c179e"
             ],
             [
              0.4444444444444444,
              "#bd3786"
             ],
             [
              0.5555555555555556,
              "#d8576b"
             ],
             [
              0.6666666666666666,
              "#ed7953"
             ],
             [
              0.7777777777777778,
              "#fb9f3a"
             ],
             [
              0.8888888888888888,
              "#fdca26"
             ],
             [
              1,
              "#f0f921"
             ]
            ],
            "type": "histogram2d"
           }
          ],
          "histogram2dcontour": [
           {
            "colorbar": {
             "outlinewidth": 0,
             "ticks": ""
            },
            "colorscale": [
             [
              0,
              "#0d0887"
             ],
             [
              0.1111111111111111,
              "#46039f"
             ],
             [
              0.2222222222222222,
              "#7201a8"
             ],
             [
              0.3333333333333333,
              "#9c179e"
             ],
             [
              0.4444444444444444,
              "#bd3786"
             ],
             [
              0.5555555555555556,
              "#d8576b"
             ],
             [
              0.6666666666666666,
              "#ed7953"
             ],
             [
              0.7777777777777778,
              "#fb9f3a"
             ],
             [
              0.8888888888888888,
              "#fdca26"
             ],
             [
              1,
              "#f0f921"
             ]
            ],
            "type": "histogram2dcontour"
           }
          ],
          "mesh3d": [
           {
            "colorbar": {
             "outlinewidth": 0,
             "ticks": ""
            },
            "type": "mesh3d"
           }
          ],
          "parcoords": [
           {
            "line": {
             "colorbar": {
              "outlinewidth": 0,
              "ticks": ""
             }
            },
            "type": "parcoords"
           }
          ],
          "pie": [
           {
            "automargin": true,
            "type": "pie"
           }
          ],
          "scatter": [
           {
            "fillpattern": {
             "fillmode": "overlay",
             "size": 10,
             "solidity": 0.2
            },
            "type": "scatter"
           }
          ],
          "scatter3d": [
           {
            "line": {
             "colorbar": {
              "outlinewidth": 0,
              "ticks": ""
             }
            },
            "marker": {
             "colorbar": {
              "outlinewidth": 0,
              "ticks": ""
             }
            },
            "type": "scatter3d"
           }
          ],
          "scattercarpet": [
           {
            "marker": {
             "colorbar": {
              "outlinewidth": 0,
              "ticks": ""
             }
            },
            "type": "scattercarpet"
           }
          ],
          "scattergeo": [
           {
            "marker": {
             "colorbar": {
              "outlinewidth": 0,
              "ticks": ""
             }
            },
            "type": "scattergeo"
           }
          ],
          "scattergl": [
           {
            "marker": {
             "colorbar": {
              "outlinewidth": 0,
              "ticks": ""
             }
            },
            "type": "scattergl"
           }
          ],
          "scattermapbox": [
           {
            "marker": {
             "colorbar": {
              "outlinewidth": 0,
              "ticks": ""
             }
            },
            "type": "scattermapbox"
           }
          ],
          "scatterpolar": [
           {
            "marker": {
             "colorbar": {
              "outlinewidth": 0,
              "ticks": ""
             }
            },
            "type": "scatterpolar"
           }
          ],
          "scatterpolargl": [
           {
            "marker": {
             "colorbar": {
              "outlinewidth": 0,
              "ticks": ""
             }
            },
            "type": "scatterpolargl"
           }
          ],
          "scatterternary": [
           {
            "marker": {
             "colorbar": {
              "outlinewidth": 0,
              "ticks": ""
             }
            },
            "type": "scatterternary"
           }
          ],
          "surface": [
           {
            "colorbar": {
             "outlinewidth": 0,
             "ticks": ""
            },
            "colorscale": [
             [
              0,
              "#0d0887"
             ],
             [
              0.1111111111111111,
              "#46039f"
             ],
             [
              0.2222222222222222,
              "#7201a8"
             ],
             [
              0.3333333333333333,
              "#9c179e"
             ],
             [
              0.4444444444444444,
              "#bd3786"
             ],
             [
              0.5555555555555556,
              "#d8576b"
             ],
             [
              0.6666666666666666,
              "#ed7953"
             ],
             [
              0.7777777777777778,
              "#fb9f3a"
             ],
             [
              0.8888888888888888,
              "#fdca26"
             ],
             [
              1,
              "#f0f921"
             ]
            ],
            "type": "surface"
           }
          ],
          "table": [
           {
            "cells": {
             "fill": {
              "color": "#EBF0F8"
             },
             "line": {
              "color": "white"
             }
            },
            "header": {
             "fill": {
              "color": "#C8D4E3"
             },
             "line": {
              "color": "white"
             }
            },
            "type": "table"
           }
          ]
         },
         "layout": {
          "annotationdefaults": {
           "arrowcolor": "#2a3f5f",
           "arrowhead": 0,
           "arrowwidth": 1
          },
          "autotypenumbers": "strict",
          "coloraxis": {
           "colorbar": {
            "outlinewidth": 0,
            "ticks": ""
           }
          },
          "colorscale": {
           "diverging": [
            [
             0,
             "#8e0152"
            ],
            [
             0.1,
             "#c51b7d"
            ],
            [
             0.2,
             "#de77ae"
            ],
            [
             0.3,
             "#f1b6da"
            ],
            [
             0.4,
             "#fde0ef"
            ],
            [
             0.5,
             "#f7f7f7"
            ],
            [
             0.6,
             "#e6f5d0"
            ],
            [
             0.7,
             "#b8e186"
            ],
            [
             0.8,
             "#7fbc41"
            ],
            [
             0.9,
             "#4d9221"
            ],
            [
             1,
             "#276419"
            ]
           ],
           "sequential": [
            [
             0,
             "#0d0887"
            ],
            [
             0.1111111111111111,
             "#46039f"
            ],
            [
             0.2222222222222222,
             "#7201a8"
            ],
            [
             0.3333333333333333,
             "#9c179e"
            ],
            [
             0.4444444444444444,
             "#bd3786"
            ],
            [
             0.5555555555555556,
             "#d8576b"
            ],
            [
             0.6666666666666666,
             "#ed7953"
            ],
            [
             0.7777777777777778,
             "#fb9f3a"
            ],
            [
             0.8888888888888888,
             "#fdca26"
            ],
            [
             1,
             "#f0f921"
            ]
           ],
           "sequentialminus": [
            [
             0,
             "#0d0887"
            ],
            [
             0.1111111111111111,
             "#46039f"
            ],
            [
             0.2222222222222222,
             "#7201a8"
            ],
            [
             0.3333333333333333,
             "#9c179e"
            ],
            [
             0.4444444444444444,
             "#bd3786"
            ],
            [
             0.5555555555555556,
             "#d8576b"
            ],
            [
             0.6666666666666666,
             "#ed7953"
            ],
            [
             0.7777777777777778,
             "#fb9f3a"
            ],
            [
             0.8888888888888888,
             "#fdca26"
            ],
            [
             1,
             "#f0f921"
            ]
           ]
          },
          "colorway": [
           "#636efa",
           "#EF553B",
           "#00cc96",
           "#ab63fa",
           "#FFA15A",
           "#19d3f3",
           "#FF6692",
           "#B6E880",
           "#FF97FF",
           "#FECB52"
          ],
          "font": {
           "color": "#2a3f5f"
          },
          "geo": {
           "bgcolor": "white",
           "lakecolor": "white",
           "landcolor": "#E5ECF6",
           "showlakes": true,
           "showland": true,
           "subunitcolor": "white"
          },
          "hoverlabel": {
           "align": "left"
          },
          "hovermode": "closest",
          "mapbox": {
           "style": "light"
          },
          "paper_bgcolor": "white",
          "plot_bgcolor": "#E5ECF6",
          "polar": {
           "angularaxis": {
            "gridcolor": "white",
            "linecolor": "white",
            "ticks": ""
           },
           "bgcolor": "#E5ECF6",
           "radialaxis": {
            "gridcolor": "white",
            "linecolor": "white",
            "ticks": ""
           }
          },
          "scene": {
           "xaxis": {
            "backgroundcolor": "#E5ECF6",
            "gridcolor": "white",
            "gridwidth": 2,
            "linecolor": "white",
            "showbackground": true,
            "ticks": "",
            "zerolinecolor": "white"
           },
           "yaxis": {
            "backgroundcolor": "#E5ECF6",
            "gridcolor": "white",
            "gridwidth": 2,
            "linecolor": "white",
            "showbackground": true,
            "ticks": "",
            "zerolinecolor": "white"
           },
           "zaxis": {
            "backgroundcolor": "#E5ECF6",
            "gridcolor": "white",
            "gridwidth": 2,
            "linecolor": "white",
            "showbackground": true,
            "ticks": "",
            "zerolinecolor": "white"
           }
          },
          "shapedefaults": {
           "line": {
            "color": "#2a3f5f"
           }
          },
          "ternary": {
           "aaxis": {
            "gridcolor": "white",
            "linecolor": "white",
            "ticks": ""
           },
           "baxis": {
            "gridcolor": "white",
            "linecolor": "white",
            "ticks": ""
           },
           "bgcolor": "#E5ECF6",
           "caxis": {
            "gridcolor": "white",
            "linecolor": "white",
            "ticks": ""
           }
          },
          "title": {
           "x": 0.05
          },
          "xaxis": {
           "automargin": true,
           "gridcolor": "white",
           "linecolor": "white",
           "ticks": "",
           "title": {
            "standoff": 15
           },
           "zerolinecolor": "white",
           "zerolinewidth": 2
          },
          "yaxis": {
           "automargin": true,
           "gridcolor": "white",
           "linecolor": "white",
           "ticks": "",
           "title": {
            "standoff": 15
           },
           "zerolinecolor": "white",
           "zerolinewidth": 2
          }
         }
        }
       }
      },
      "text/html": [
       "<div>                            <div id=\"03320f5c-1b16-4f74-91db-19a0494b8525\" class=\"plotly-graph-div\" style=\"height:525px; width:100%;\"></div>            <script type=\"text/javascript\">                require([\"plotly\"], function(Plotly) {                    window.PLOTLYENV=window.PLOTLYENV || {};                                    if (document.getElementById(\"03320f5c-1b16-4f74-91db-19a0494b8525\")) {                    Plotly.newPlot(                        \"03320f5c-1b16-4f74-91db-19a0494b8525\",                        [{\"hovertemplate\":\"variable=RPI<br>Date=%{x}<br>value=%{y}<extra></extra>\",\"legendgroup\":\"RPI\",\"line\":{\"color\":\"#636efa\",\"dash\":\"solid\"},\"marker\":{\"symbol\":\"circle\"},\"mode\":\"lines\",\"name\":\"RPI\",\"orientation\":\"v\",\"showlegend\":true,\"x\":[\"2009-01-01T00:00:00\",\"2009-02-01T00:00:00\",\"2009-03-01T00:00:00\",\"2009-04-01T00:00:00\",\"2009-05-01T00:00:00\",\"2009-06-01T00:00:00\",\"2009-07-01T00:00:00\",\"2009-08-01T00:00:00\",\"2009-09-01T00:00:00\",\"2009-10-01T00:00:00\",\"2009-11-01T00:00:00\",\"2009-12-01T00:00:00\",\"2010-01-01T00:00:00\",\"2010-02-01T00:00:00\",\"2010-03-01T00:00:00\",\"2010-04-01T00:00:00\",\"2010-05-01T00:00:00\",\"2010-06-01T00:00:00\",\"2010-07-01T00:00:00\",\"2010-08-01T00:00:00\",\"2010-09-01T00:00:00\",\"2010-10-01T00:00:00\",\"2010-11-01T00:00:00\",\"2010-12-01T00:00:00\",\"2011-01-01T00:00:00\",\"2011-02-01T00:00:00\",\"2011-03-01T00:00:00\",\"2011-04-01T00:00:00\",\"2011-05-01T00:00:00\",\"2011-06-01T00:00:00\",\"2011-07-01T00:00:00\",\"2011-08-01T00:00:00\",\"2011-09-01T00:00:00\",\"2011-10-01T00:00:00\",\"2011-11-01T00:00:00\",\"2011-12-01T00:00:00\",\"2012-01-01T00:00:00\",\"2012-02-01T00:00:00\",\"2012-03-01T00:00:00\",\"2012-04-01T00:00:00\",\"2012-05-01T00:00:00\",\"2012-06-01T00:00:00\",\"2012-07-01T00:00:00\",\"2012-08-01T00:00:00\",\"2012-09-01T00:00:00\",\"2012-10-01T00:00:00\",\"2012-11-01T00:00:00\",\"2012-12-01T00:00:00\",\"2013-01-01T00:00:00\",\"2013-02-01T00:00:00\",\"2013-03-01T00:00:00\",\"2013-04-01T00:00:00\",\"2013-05-01T00:00:00\",\"2013-06-01T00:00:00\",\"2013-07-01T00:00:00\",\"2013-08-01T00:00:00\",\"2013-09-01T00:00:00\",\"2013-10-01T00:00:00\",\"2013-11-01T00:00:00\",\"2013-12-01T00:00:00\",\"2014-01-01T00:00:00\",\"2014-02-01T00:00:00\",\"2014-03-01T00:00:00\",\"2014-04-01T00:00:00\",\"2014-05-01T00:00:00\",\"2014-06-01T00:00:00\",\"2014-07-01T00:00:00\",\"2014-08-01T00:00:00\",\"2014-09-01T00:00:00\",\"2014-10-01T00:00:00\",\"2014-11-01T00:00:00\",\"2014-12-01T00:00:00\",\"2015-01-01T00:00:00\",\"2015-02-01T00:00:00\",\"2015-03-01T00:00:00\",\"2015-04-01T00:00:00\",\"2015-05-01T00:00:00\",\"2015-06-01T00:00:00\",\"2015-07-01T00:00:00\",\"2015-08-01T00:00:00\",\"2015-09-01T00:00:00\",\"2015-10-01T00:00:00\",\"2015-11-01T00:00:00\",\"2015-12-01T00:00:00\",\"2016-01-01T00:00:00\",\"2016-02-01T00:00:00\",\"2016-03-01T00:00:00\",\"2016-04-01T00:00:00\",\"2016-05-01T00:00:00\",\"2016-06-01T00:00:00\",\"2016-07-01T00:00:00\",\"2016-08-01T00:00:00\",\"2016-09-01T00:00:00\",\"2016-10-01T00:00:00\",\"2016-11-01T00:00:00\",\"2016-12-01T00:00:00\",\"2017-01-01T00:00:00\",\"2017-02-01T00:00:00\",\"2017-03-01T00:00:00\",\"2017-04-01T00:00:00\",\"2017-05-01T00:00:00\",\"2017-06-01T00:00:00\",\"2017-07-01T00:00:00\",\"2017-08-01T00:00:00\",\"2017-09-01T00:00:00\",\"2017-10-01T00:00:00\",\"2017-11-01T00:00:00\",\"2017-12-01T00:00:00\",\"2018-01-01T00:00:00\",\"2018-02-01T00:00:00\",\"2018-03-01T00:00:00\",\"2018-04-01T00:00:00\",\"2018-05-01T00:00:00\",\"2018-06-01T00:00:00\",\"2018-07-01T00:00:00\",\"2018-08-01T00:00:00\",\"2018-09-01T00:00:00\",\"2018-10-01T00:00:00\",\"2018-11-01T00:00:00\",\"2018-12-01T00:00:00\",\"2019-01-01T00:00:00\",\"2019-02-01T00:00:00\",\"2019-03-01T00:00:00\",\"2019-04-01T00:00:00\",\"2019-05-01T00:00:00\",\"2019-06-01T00:00:00\",\"2019-07-01T00:00:00\",\"2019-08-01T00:00:00\",\"2019-09-01T00:00:00\",\"2019-10-01T00:00:00\",\"2019-11-01T00:00:00\",\"2019-12-01T00:00:00\",\"2020-01-01T00:00:00\",\"2020-02-01T00:00:00\",\"2020-03-01T00:00:00\",\"2020-04-01T00:00:00\",\"2020-05-01T00:00:00\",\"2020-06-01T00:00:00\",\"2020-07-01T00:00:00\",\"2020-08-01T00:00:00\",\"2020-09-01T00:00:00\",\"2020-10-01T00:00:00\",\"2020-11-01T00:00:00\",\"2020-12-01T00:00:00\",\"2021-01-01T00:00:00\",\"2021-02-01T00:00:00\",\"2021-03-01T00:00:00\",\"2021-04-01T00:00:00\",\"2021-05-01T00:00:00\",\"2021-06-01T00:00:00\",\"2021-07-01T00:00:00\",\"2021-08-01T00:00:00\",\"2021-09-01T00:00:00\",\"2021-10-01T00:00:00\",\"2021-11-01T00:00:00\",\"2021-12-01T00:00:00\",\"2022-01-01T00:00:00\",\"2022-02-01T00:00:00\",\"2022-03-01T00:00:00\",\"2022-04-01T00:00:00\",\"2022-05-01T00:00:00\",\"2022-06-01T00:00:00\",\"2022-07-01T00:00:00\",\"2022-08-01T00:00:00\",\"2022-09-01T00:00:00\"],\"xaxis\":\"x\",\"y\":[210.1,211.4,211.3,211.5,212.8,213.4,213.4,214.4,215.3,216.0,216.6,218.0,217.9,219.2,220.7,222.8,223.6,224.1,223.6,224.5,225.3,225.8,226.8,228.4,229.0,231.3,232.5,234.4,235.2,235.2,234.7,236.1,237.9,238.0,238.5,239.4,238.0,239.9,240.8,242.5,242.4,241.8,242.1,243.0,244.2,245.6,245.6,246.8,245.8,247.6,248.7,249.5,250.0,249.7,249.7,251.0,251.9,251.9,252.1,253.4,252.6,254.2,254.8,255.7,255.9,256.3,256.0,257.0,257.6,257.7,257.1,257.5,255.4,256.7,257.1,258.0,258.5,258.9,258.6,259.8,259.6,259.5,259.8,260.6,258.8,260.0,261.1,261.4,262.1,263.1,263.4,264.4,264.9,264.8,265.5,267.1,265.5,268.4,269.3,270.6,271.7,272.3,272.9,274.7,275.1,275.3,275.8,278.1,276.0,278.1,278.3,279.7,280.7,281.5,281.7,284.2,284.1,284.5,284.6,285.6,283.0,285.0,285.1,288.2,289.2,289.6,289.5,291.7,291.0,290.4,291.0,291.9,290.6,292.0,292.6,292.6,292.2,292.7,294.2,293.3,294.3,294.3,293.5,295.4,294.6,296.0,296.9,301.1,301.9,304.0,305.5,307.4,308.6,312.0,314.3,317.7,317.7,320.2,323.5,334.6,337.1,340.0,343.2,null,null],\"yaxis\":\"y\",\"type\":\"scatter\"},{\"hovertemplate\":\"variable=test_predictions<br>date=%{x}<br>value=%{y}<extra></extra>\",\"legendgroup\":\"test_predictions\",\"marker\":{\"color\":\"#636efa\",\"symbol\":\"circle\"},\"mode\":\"markers\",\"name\":\"test_predictions\",\"orientation\":\"v\",\"showlegend\":true,\"x\":[\"2022-08-01T00:00:00\"],\"xaxis\":\"x\",\"y\":[332.3742370605469],\"yaxis\":\"y\",\"type\":\"scatter\"}],                        {\"template\":{\"data\":{\"histogram2dcontour\":[{\"type\":\"histogram2dcontour\",\"colorbar\":{\"outlinewidth\":0,\"ticks\":\"\"},\"colorscale\":[[0.0,\"#0d0887\"],[0.1111111111111111,\"#46039f\"],[0.2222222222222222,\"#7201a8\"],[0.3333333333333333,\"#9c179e\"],[0.4444444444444444,\"#bd3786\"],[0.5555555555555556,\"#d8576b\"],[0.6666666666666666,\"#ed7953\"],[0.7777777777777778,\"#fb9f3a\"],[0.8888888888888888,\"#fdca26\"],[1.0,\"#f0f921\"]]}],\"choropleth\":[{\"type\":\"choropleth\",\"colorbar\":{\"outlinewidth\":0,\"ticks\":\"\"}}],\"histogram2d\":[{\"type\":\"histogram2d\",\"colorbar\":{\"outlinewidth\":0,\"ticks\":\"\"},\"colorscale\":[[0.0,\"#0d0887\"],[0.1111111111111111,\"#46039f\"],[0.2222222222222222,\"#7201a8\"],[0.3333333333333333,\"#9c179e\"],[0.4444444444444444,\"#bd3786\"],[0.5555555555555556,\"#d8576b\"],[0.6666666666666666,\"#ed7953\"],[0.7777777777777778,\"#fb9f3a\"],[0.8888888888888888,\"#fdca26\"],[1.0,\"#f0f921\"]]}],\"heatmap\":[{\"type\":\"heatmap\",\"colorbar\":{\"outlinewidth\":0,\"ticks\":\"\"},\"colorscale\":[[0.0,\"#0d0887\"],[0.1111111111111111,\"#46039f\"],[0.2222222222222222,\"#7201a8\"],[0.3333333333333333,\"#9c179e\"],[0.4444444444444444,\"#bd3786\"],[0.5555555555555556,\"#d8576b\"],[0.6666666666666666,\"#ed7953\"],[0.7777777777777778,\"#fb9f3a\"],[0.8888888888888888,\"#fdca26\"],[1.0,\"#f0f921\"]]}],\"heatmapgl\":[{\"type\":\"heatmapgl\",\"colorbar\":{\"outlinewidth\":0,\"ticks\":\"\"},\"colorscale\":[[0.0,\"#0d0887\"],[0.1111111111111111,\"#46039f\"],[0.2222222222222222,\"#7201a8\"],[0.3333333333333333,\"#9c179e\"],[0.4444444444444444,\"#bd3786\"],[0.5555555555555556,\"#d8576b\"],[0.6666666666666666,\"#ed7953\"],[0.7777777777777778,\"#fb9f3a\"],[0.8888888888888888,\"#fdca26\"],[1.0,\"#f0f921\"]]}],\"contourcarpet\":[{\"type\":\"contourcarpet\",\"colorbar\":{\"outlinewidth\":0,\"ticks\":\"\"}}],\"contour\":[{\"type\":\"contour\",\"colorbar\":{\"outlinewidth\":0,\"ticks\":\"\"},\"colorscale\":[[0.0,\"#0d0887\"],[0.1111111111111111,\"#46039f\"],[0.2222222222222222,\"#7201a8\"],[0.3333333333333333,\"#9c179e\"],[0.4444444444444444,\"#bd3786\"],[0.5555555555555556,\"#d8576b\"],[0.6666666666666666,\"#ed7953\"],[0.7777777777777778,\"#fb9f3a\"],[0.8888888888888888,\"#fdca26\"],[1.0,\"#f0f921\"]]}],\"surface\":[{\"type\":\"surface\",\"colorbar\":{\"outlinewidth\":0,\"ticks\":\"\"},\"colorscale\":[[0.0,\"#0d0887\"],[0.1111111111111111,\"#46039f\"],[0.2222222222222222,\"#7201a8\"],[0.3333333333333333,\"#9c179e\"],[0.4444444444444444,\"#bd3786\"],[0.5555555555555556,\"#d8576b\"],[0.6666666666666666,\"#ed7953\"],[0.7777777777777778,\"#fb9f3a\"],[0.8888888888888888,\"#fdca26\"],[1.0,\"#f0f921\"]]}],\"mesh3d\":[{\"type\":\"mesh3d\",\"colorbar\":{\"outlinewidth\":0,\"ticks\":\"\"}}],\"scatter\":[{\"fillpattern\":{\"fillmode\":\"overlay\",\"size\":10,\"solidity\":0.2},\"type\":\"scatter\"}],\"parcoords\":[{\"type\":\"parcoords\",\"line\":{\"colorbar\":{\"outlinewidth\":0,\"ticks\":\"\"}}}],\"scatterpolargl\":[{\"type\":\"scatterpolargl\",\"marker\":{\"colorbar\":{\"outlinewidth\":0,\"ticks\":\"\"}}}],\"bar\":[{\"error_x\":{\"color\":\"#2a3f5f\"},\"error_y\":{\"color\":\"#2a3f5f\"},\"marker\":{\"line\":{\"color\":\"#E5ECF6\",\"width\":0.5},\"pattern\":{\"fillmode\":\"overlay\",\"size\":10,\"solidity\":0.2}},\"type\":\"bar\"}],\"scattergeo\":[{\"type\":\"scattergeo\",\"marker\":{\"colorbar\":{\"outlinewidth\":0,\"ticks\":\"\"}}}],\"scatterpolar\":[{\"type\":\"scatterpolar\",\"marker\":{\"colorbar\":{\"outlinewidth\":0,\"ticks\":\"\"}}}],\"histogram\":[{\"marker\":{\"pattern\":{\"fillmode\":\"overlay\",\"size\":10,\"solidity\":0.2}},\"type\":\"histogram\"}],\"scattergl\":[{\"type\":\"scattergl\",\"marker\":{\"colorbar\":{\"outlinewidth\":0,\"ticks\":\"\"}}}],\"scatter3d\":[{\"type\":\"scatter3d\",\"line\":{\"colorbar\":{\"outlinewidth\":0,\"ticks\":\"\"}},\"marker\":{\"colorbar\":{\"outlinewidth\":0,\"ticks\":\"\"}}}],\"scattermapbox\":[{\"type\":\"scattermapbox\",\"marker\":{\"colorbar\":{\"outlinewidth\":0,\"ticks\":\"\"}}}],\"scatterternary\":[{\"type\":\"scatterternary\",\"marker\":{\"colorbar\":{\"outlinewidth\":0,\"ticks\":\"\"}}}],\"scattercarpet\":[{\"type\":\"scattercarpet\",\"marker\":{\"colorbar\":{\"outlinewidth\":0,\"ticks\":\"\"}}}],\"carpet\":[{\"aaxis\":{\"endlinecolor\":\"#2a3f5f\",\"gridcolor\":\"white\",\"linecolor\":\"white\",\"minorgridcolor\":\"white\",\"startlinecolor\":\"#2a3f5f\"},\"baxis\":{\"endlinecolor\":\"#2a3f5f\",\"gridcolor\":\"white\",\"linecolor\":\"white\",\"minorgridcolor\":\"white\",\"startlinecolor\":\"#2a3f5f\"},\"type\":\"carpet\"}],\"table\":[{\"cells\":{\"fill\":{\"color\":\"#EBF0F8\"},\"line\":{\"color\":\"white\"}},\"header\":{\"fill\":{\"color\":\"#C8D4E3\"},\"line\":{\"color\":\"white\"}},\"type\":\"table\"}],\"barpolar\":[{\"marker\":{\"line\":{\"color\":\"#E5ECF6\",\"width\":0.5},\"pattern\":{\"fillmode\":\"overlay\",\"size\":10,\"solidity\":0.2}},\"type\":\"barpolar\"}],\"pie\":[{\"automargin\":true,\"type\":\"pie\"}]},\"layout\":{\"autotypenumbers\":\"strict\",\"colorway\":[\"#636efa\",\"#EF553B\",\"#00cc96\",\"#ab63fa\",\"#FFA15A\",\"#19d3f3\",\"#FF6692\",\"#B6E880\",\"#FF97FF\",\"#FECB52\"],\"font\":{\"color\":\"#2a3f5f\"},\"hovermode\":\"closest\",\"hoverlabel\":{\"align\":\"left\"},\"paper_bgcolor\":\"white\",\"plot_bgcolor\":\"#E5ECF6\",\"polar\":{\"bgcolor\":\"#E5ECF6\",\"angularaxis\":{\"gridcolor\":\"white\",\"linecolor\":\"white\",\"ticks\":\"\"},\"radialaxis\":{\"gridcolor\":\"white\",\"linecolor\":\"white\",\"ticks\":\"\"}},\"ternary\":{\"bgcolor\":\"#E5ECF6\",\"aaxis\":{\"gridcolor\":\"white\",\"linecolor\":\"white\",\"ticks\":\"\"},\"baxis\":{\"gridcolor\":\"white\",\"linecolor\":\"white\",\"ticks\":\"\"},\"caxis\":{\"gridcolor\":\"white\",\"linecolor\":\"white\",\"ticks\":\"\"}},\"coloraxis\":{\"colorbar\":{\"outlinewidth\":0,\"ticks\":\"\"}},\"colorscale\":{\"sequential\":[[0.0,\"#0d0887\"],[0.1111111111111111,\"#46039f\"],[0.2222222222222222,\"#7201a8\"],[0.3333333333333333,\"#9c179e\"],[0.4444444444444444,\"#bd3786\"],[0.5555555555555556,\"#d8576b\"],[0.6666666666666666,\"#ed7953\"],[0.7777777777777778,\"#fb9f3a\"],[0.8888888888888888,\"#fdca26\"],[1.0,\"#f0f921\"]],\"sequentialminus\":[[0.0,\"#0d0887\"],[0.1111111111111111,\"#46039f\"],[0.2222222222222222,\"#7201a8\"],[0.3333333333333333,\"#9c179e\"],[0.4444444444444444,\"#bd3786\"],[0.5555555555555556,\"#d8576b\"],[0.6666666666666666,\"#ed7953\"],[0.7777777777777778,\"#fb9f3a\"],[0.8888888888888888,\"#fdca26\"],[1.0,\"#f0f921\"]],\"diverging\":[[0,\"#8e0152\"],[0.1,\"#c51b7d\"],[0.2,\"#de77ae\"],[0.3,\"#f1b6da\"],[0.4,\"#fde0ef\"],[0.5,\"#f7f7f7\"],[0.6,\"#e6f5d0\"],[0.7,\"#b8e186\"],[0.8,\"#7fbc41\"],[0.9,\"#4d9221\"],[1,\"#276419\"]]},\"xaxis\":{\"gridcolor\":\"white\",\"linecolor\":\"white\",\"ticks\":\"\",\"title\":{\"standoff\":15},\"zerolinecolor\":\"white\",\"automargin\":true,\"zerolinewidth\":2},\"yaxis\":{\"gridcolor\":\"white\",\"linecolor\":\"white\",\"ticks\":\"\",\"title\":{\"standoff\":15},\"zerolinecolor\":\"white\",\"automargin\":true,\"zerolinewidth\":2},\"scene\":{\"xaxis\":{\"backgroundcolor\":\"#E5ECF6\",\"gridcolor\":\"white\",\"linecolor\":\"white\",\"showbackground\":true,\"ticks\":\"\",\"zerolinecolor\":\"white\",\"gridwidth\":2},\"yaxis\":{\"backgroundcolor\":\"#E5ECF6\",\"gridcolor\":\"white\",\"linecolor\":\"white\",\"showbackground\":true,\"ticks\":\"\",\"zerolinecolor\":\"white\",\"gridwidth\":2},\"zaxis\":{\"backgroundcolor\":\"#E5ECF6\",\"gridcolor\":\"white\",\"linecolor\":\"white\",\"showbackground\":true,\"ticks\":\"\",\"zerolinecolor\":\"white\",\"gridwidth\":2}},\"shapedefaults\":{\"line\":{\"color\":\"#2a3f5f\"}},\"annotationdefaults\":{\"arrowcolor\":\"#2a3f5f\",\"arrowhead\":0,\"arrowwidth\":1},\"geo\":{\"bgcolor\":\"white\",\"landcolor\":\"#E5ECF6\",\"subunitcolor\":\"white\",\"showland\":true,\"showlakes\":true,\"lakecolor\":\"white\"},\"title\":{\"x\":0.05},\"mapbox\":{\"style\":\"light\"}}}},                        {\"responsive\": true}                    ).then(function(){\n",
       "                            \n",
       "var gd = document.getElementById('03320f5c-1b16-4f74-91db-19a0494b8525');\n",
       "var x = new MutationObserver(function (mutations, observer) {{\n",
       "        var display = window.getComputedStyle(gd).display;\n",
       "        if (!display || display === 'none') {{\n",
       "            console.log([gd, 'removed!']);\n",
       "            Plotly.purge(gd);\n",
       "            observer.disconnect();\n",
       "        }}\n",
       "}});\n",
       "\n",
       "// Listen for the removal of the full notebook cells\n",
       "var notebookContainer = gd.closest('#notebook-container');\n",
       "if (notebookContainer) {{\n",
       "    x.observe(notebookContainer, {childList: true});\n",
       "}}\n",
       "\n",
       "// Listen for the clearing of the current output cell\n",
       "var outputEl = gd.closest('.output');\n",
       "if (outputEl) {{\n",
       "    x.observe(outputEl, {childList: true});\n",
       "}}\n",
       "\n",
       "                        })                };                });            </script>        </div>"
      ]
     },
     "metadata": {},
     "output_type": "display_data"
    }
   ],
   "source": [
    "fig1 = px.line(y)\n",
    "fig2 = px.scatter(test_results5[\"test_predictions\"], color_continuous_scale='Inferno')\n",
    "go.Figure(data=fig1.data + fig2.data)\n"
   ]
  },
  {
   "cell_type": "code",
   "execution_count": null,
   "id": "c4ec3e5a",
   "metadata": {},
   "outputs": [],
   "source": []
  }
 ],
 "metadata": {
  "kernelspec": {
   "display_name": "Python 3 (ipykernel)",
   "language": "python",
   "name": "python3"
  },
  "language_info": {
   "codemirror_mode": {
    "name": "ipython",
    "version": 3
   },
   "file_extension": ".py",
   "mimetype": "text/x-python",
   "name": "python",
   "nbconvert_exporter": "python",
   "pygments_lexer": "ipython3",
   "version": "3.8.12"
  },
  "toc": {
   "base_numbering": 1,
   "nav_menu": {},
   "number_sections": true,
   "sideBar": true,
   "skip_h1_title": false,
   "title_cell": "Table of Contents",
   "title_sidebar": "Contents",
   "toc_cell": false,
   "toc_position": {},
   "toc_section_display": true,
   "toc_window_display": false
  },
  "vscode": {
   "interpreter": {
    "hash": "97f47389aaa999f6f284136b139897b4e2f3d56d4c1e5ba43dfc4e4d9705d7c7"
   }
  }
 },
 "nbformat": 4,
 "nbformat_minor": 5
}
