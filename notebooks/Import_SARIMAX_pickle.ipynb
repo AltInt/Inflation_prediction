{
 "cells": [
  {
   "cell_type": "code",
   "execution_count": 4,
   "id": "763a409c",
   "metadata": {},
   "outputs": [],
   "source": [
    "import pickle\n",
    "from statsmodels.tsa.statespace.sarimax import SARIMAXResults"
   ]
  },
  {
   "cell_type": "code",
   "execution_count": 5,
   "id": "33931a10",
   "metadata": {},
   "outputs": [],
   "source": [
    "new_results = SARIMAXResults.load('sarimax-monthly.pickle')"
   ]
  },
  {
   "cell_type": "code",
   "execution_count": 6,
   "id": "2c43ee77",
   "metadata": {},
   "outputs": [
    {
     "data": {
      "text/plain": [
       "163    345.711563\n",
       "dtype: float64"
      ]
     },
     "execution_count": 6,
     "metadata": {},
     "output_type": "execute_result"
    }
   ],
   "source": [
    "new_results.predict(start=60)"
   ]
  },
  {
   "cell_type": "code",
   "execution_count": null,
   "id": "c0f9e50f",
   "metadata": {},
   "outputs": [],
   "source": []
  }
 ],
 "metadata": {
  "kernelspec": {
   "display_name": "Python 3 (ipykernel)",
   "language": "python",
   "name": "python3"
  },
  "language_info": {
   "codemirror_mode": {
    "name": "ipython",
    "version": 3
   },
   "file_extension": ".py",
   "mimetype": "text/x-python",
   "name": "python",
   "nbconvert_exporter": "python",
   "pygments_lexer": "ipython3",
   "version": "3.8.12"
  },
  "toc": {
   "base_numbering": 1,
   "nav_menu": {},
   "number_sections": true,
   "sideBar": true,
   "skip_h1_title": false,
   "title_cell": "Table of Contents",
   "title_sidebar": "Contents",
   "toc_cell": false,
   "toc_position": {},
   "toc_section_display": true,
   "toc_window_display": false
  }
 },
 "nbformat": 4,
 "nbformat_minor": 5
}
