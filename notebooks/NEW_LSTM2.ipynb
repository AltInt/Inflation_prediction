{
 "cells": [
  {
   "cell_type": "code",
   "execution_count": 18,
   "id": "f2b7870b",
   "metadata": {},
   "outputs": [],
   "source": [
    "import numpy as np\n",
    "import pandas as pd\n",
    "import matplotlib.pyplot as plt\n",
    "import seaborn as sns\n",
    "import numpy as np\n",
    "import pandas as pd\n",
    "from sklearn.preprocessing import MinMaxScaler\n",
    "\n",
    "\n",
    "import matplotlib.pyplot as plt\n",
    "\n",
    "# from darts import TimeSeries\n",
    "# from darts.dataprocessing.transformers import Scaler\n",
    "# from darts.models import RNNModel, ExponentialSmoothing, BlockRNNModel\n",
    "# from darts.metrics import mape\n",
    "# from darts.utils.statistics import check_seasonality, plot_acf\n",
    "# from darts.datasets import AirPassengersDataset, SunspotsDataset\n",
    "# from darts.utils.timeseries_generation import datetime_attribute_timeseries\n",
    "\n",
    "# import warnings\n",
    "\n",
    "# warnings.filterwarnings(\"ignore\")\n",
    "import logging\n",
    "\n",
    "import tensorflow\n",
    "from tensorflow import expand_dims\n",
    "\n",
    "\n",
    "\n",
    "from datetime import datetime\n",
    "\n",
    "from statsmodels.graphics.tsaplots import plot_acf, plot_pacf\n",
    "\n",
    "from xgboost import XGBRegressor\n",
    "from matplotlib import pyplot"
   ]
  },
  {
   "cell_type": "markdown",
   "id": "be6e12a8",
   "metadata": {},
   "source": [
    "# LSTM 2017-2018\n"
   ]
  },
  {
   "cell_type": "code",
   "execution_count": 5,
   "id": "c23b009c",
   "metadata": {},
   "outputs": [],
   "source": [
    "df = pd.read_csv('../raw_data/final_df.csv', index_col=0)\n"
   ]
  },
  {
   "cell_type": "code",
   "execution_count": 6,
   "id": "815075f5",
   "metadata": {},
   "outputs": [
    {
     "data": {
      "text/html": [
       "<div>\n",
       "<style scoped>\n",
       "    .dataframe tbody tr th:only-of-type {\n",
       "        vertical-align: middle;\n",
       "    }\n",
       "\n",
       "    .dataframe tbody tr th {\n",
       "        vertical-align: top;\n",
       "    }\n",
       "\n",
       "    .dataframe thead th {\n",
       "        text-align: right;\n",
       "    }\n",
       "</style>\n",
       "<table border=\"1\" class=\"dataframe\">\n",
       "  <thead>\n",
       "    <tr style=\"text-align: right;\">\n",
       "      <th></th>\n",
       "      <th>Brent_Crude_GBP</th>\n",
       "      <th>WTI_Crude_GBP</th>\n",
       "      <th>GBP Curncy</th>\n",
       "      <th>GBPEUR Curncy</th>\n",
       "      <th>UKX Index</th>\n",
       "      <th>SPX Index</th>\n",
       "      <th>SX5E Index</th>\n",
       "      <th>Natural_Gas</th>\n",
       "      <th>CPI</th>\n",
       "      <th>RPI</th>\n",
       "      <th>GBP_IRS_2y</th>\n",
       "      <th>GBP_IRS_10y</th>\n",
       "      <th>Nationwide_HPI</th>\n",
       "      <th>RPI YOY</th>\n",
       "    </tr>\n",
       "    <tr>\n",
       "      <th>Date</th>\n",
       "      <th></th>\n",
       "      <th></th>\n",
       "      <th></th>\n",
       "      <th></th>\n",
       "      <th></th>\n",
       "      <th></th>\n",
       "      <th></th>\n",
       "      <th></th>\n",
       "      <th></th>\n",
       "      <th></th>\n",
       "      <th></th>\n",
       "      <th></th>\n",
       "      <th></th>\n",
       "      <th></th>\n",
       "    </tr>\n",
       "  </thead>\n",
       "  <tbody>\n",
       "    <tr>\n",
       "      <th>2009-01-01</th>\n",
       "      <td>30.903838</td>\n",
       "      <td>33.424333</td>\n",
       "      <td>1.479027</td>\n",
       "      <td>1.099905</td>\n",
       "      <td>4308.390000</td>\n",
       "      <td>596.071497</td>\n",
       "      <td>2135.982324</td>\n",
       "      <td>12.472805</td>\n",
       "      <td>84.9</td>\n",
       "      <td>210.1</td>\n",
       "      <td>2.122545</td>\n",
       "      <td>3.757500</td>\n",
       "      <td>300.2</td>\n",
       "      <td>0.142993</td>\n",
       "    </tr>\n",
       "    <tr>\n",
       "      <th>2009-02-01</th>\n",
       "      <td>29.393166</td>\n",
       "      <td>33.617553</td>\n",
       "      <td>1.492643</td>\n",
       "      <td>1.120824</td>\n",
       "      <td>4232.114762</td>\n",
       "      <td>570.410394</td>\n",
       "      <td>2020.716905</td>\n",
       "      <td>9.467866</td>\n",
       "      <td>85.6</td>\n",
       "      <td>211.4</td>\n",
       "      <td>2.129905</td>\n",
       "      <td>3.798333</td>\n",
       "      <td>294.7</td>\n",
       "      <td>0.000000</td>\n",
       "    </tr>\n",
       "    <tr>\n",
       "      <th>2009-03-01</th>\n",
       "      <td>31.733352</td>\n",
       "      <td>36.826152</td>\n",
       "      <td>1.494241</td>\n",
       "      <td>1.097877</td>\n",
       "      <td>4107.840909</td>\n",
       "      <td>566.393975</td>\n",
       "      <td>2029.160819</td>\n",
       "      <td>8.064295</td>\n",
       "      <td>85.8</td>\n",
       "      <td>211.3</td>\n",
       "      <td>2.142045</td>\n",
       "      <td>3.872500</td>\n",
       "      <td>301.1</td>\n",
       "      <td>-0.377181</td>\n",
       "    </tr>\n",
       "    <tr>\n",
       "      <th>2009-04-01</th>\n",
       "      <td>33.990786</td>\n",
       "      <td>36.012519</td>\n",
       "      <td>1.511936</td>\n",
       "      <td>1.125327</td>\n",
       "      <td>4259.890500</td>\n",
       "      <td>588.042125</td>\n",
       "      <td>2119.383029</td>\n",
       "      <td>7.762397</td>\n",
       "      <td>86.0</td>\n",
       "      <td>211.5</td>\n",
       "      <td>2.143250</td>\n",
       "      <td>3.935500</td>\n",
       "      <td>302.9</td>\n",
       "      <td>-1.168224</td>\n",
       "    </tr>\n",
       "    <tr>\n",
       "      <th>2009-05-01</th>\n",
       "      <td>37.524515</td>\n",
       "      <td>38.801542</td>\n",
       "      <td>1.561252</td>\n",
       "      <td>1.131686</td>\n",
       "      <td>4434.719500</td>\n",
       "      <td>582.718727</td>\n",
       "      <td>2164.120107</td>\n",
       "      <td>7.757394</td>\n",
       "      <td>86.4</td>\n",
       "      <td>212.8</td>\n",
       "      <td>2.031900</td>\n",
       "      <td>3.917500</td>\n",
       "      <td>307.2</td>\n",
       "      <td>-1.069270</td>\n",
       "    </tr>\n",
       "    <tr>\n",
       "      <th>...</th>\n",
       "      <td>...</td>\n",
       "      <td>...</td>\n",
       "      <td>...</td>\n",
       "      <td>...</td>\n",
       "      <td>...</td>\n",
       "      <td>...</td>\n",
       "      <td>...</td>\n",
       "      <td>...</td>\n",
       "      <td>...</td>\n",
       "      <td>...</td>\n",
       "      <td>...</td>\n",
       "      <td>...</td>\n",
       "      <td>...</td>\n",
       "      <td>...</td>\n",
       "    </tr>\n",
       "    <tr>\n",
       "      <th>2022-05-01</th>\n",
       "      <td>89.748267</td>\n",
       "      <td>85.128666</td>\n",
       "      <td>1.247484</td>\n",
       "      <td>1.178074</td>\n",
       "      <td>7472.767778</td>\n",
       "      <td>3274.256696</td>\n",
       "      <td>3179.554466</td>\n",
       "      <td>81.073170</td>\n",
       "      <td>120.8</td>\n",
       "      <td>337.1</td>\n",
       "      <td>2.538121</td>\n",
       "      <td>2.240542</td>\n",
       "      <td>538.4</td>\n",
       "      <td>11.659490</td>\n",
       "    </tr>\n",
       "    <tr>\n",
       "      <th>2022-06-01</th>\n",
       "      <td>95.251442</td>\n",
       "      <td>87.836565</td>\n",
       "      <td>1.233611</td>\n",
       "      <td>1.167758</td>\n",
       "      <td>7238.188421</td>\n",
       "      <td>3172.340166</td>\n",
       "      <td>3058.969505</td>\n",
       "      <td>96.746393</td>\n",
       "      <td>121.8</td>\n",
       "      <td>340.0</td>\n",
       "      <td>2.933563</td>\n",
       "      <td>2.626558</td>\n",
       "      <td>541.8</td>\n",
       "      <td>11.842105</td>\n",
       "    </tr>\n",
       "    <tr>\n",
       "      <th>2022-07-01</th>\n",
       "      <td>85.363871</td>\n",
       "      <td>80.415504</td>\n",
       "      <td>1.231479</td>\n",
       "      <td>1.184589</td>\n",
       "      <td>7303.865263</td>\n",
       "      <td>3298.689210</td>\n",
       "      <td>3082.959231</td>\n",
       "      <td>128.688654</td>\n",
       "      <td>122.5</td>\n",
       "      <td>343.2</td>\n",
       "      <td>2.700779</td>\n",
       "      <td>2.302258</td>\n",
       "      <td>541.0</td>\n",
       "      <td>12.340426</td>\n",
       "    </tr>\n",
       "    <tr>\n",
       "      <th>2022-08-01</th>\n",
       "      <td>80.656541</td>\n",
       "      <td>78.913331</td>\n",
       "      <td>1.211816</td>\n",
       "      <td>1.181732</td>\n",
       "      <td>7453.987222</td>\n",
       "      <td>3446.779300</td>\n",
       "      <td>3131.457852</td>\n",
       "      <td>180.082147</td>\n",
       "      <td>NaN</td>\n",
       "      <td>NaN</td>\n",
       "      <td>3.368889</td>\n",
       "      <td>2.688500</td>\n",
       "      <td>546.1</td>\n",
       "      <td>NaN</td>\n",
       "    </tr>\n",
       "    <tr>\n",
       "      <th>2022-09-01</th>\n",
       "      <td>73.474167</td>\n",
       "      <td>80.706056</td>\n",
       "      <td>1.272420</td>\n",
       "      <td>1.180400</td>\n",
       "      <td>7403.016000</td>\n",
       "      <td>3300.260920</td>\n",
       "      <td>3208.537784</td>\n",
       "      <td>93.341821</td>\n",
       "      <td>NaN</td>\n",
       "      <td>NaN</td>\n",
       "      <td>2.475340</td>\n",
       "      <td>2.155940</td>\n",
       "      <td>NaN</td>\n",
       "      <td>NaN</td>\n",
       "    </tr>\n",
       "  </tbody>\n",
       "</table>\n",
       "<p>165 rows × 14 columns</p>\n",
       "</div>"
      ],
      "text/plain": [
       "            Brent_Crude_GBP  WTI_Crude_GBP  GBP Curncy  GBPEUR Curncy  \\\n",
       "Date                                                                    \n",
       "2009-01-01        30.903838      33.424333    1.479027       1.099905   \n",
       "2009-02-01        29.393166      33.617553    1.492643       1.120824   \n",
       "2009-03-01        31.733352      36.826152    1.494241       1.097877   \n",
       "2009-04-01        33.990786      36.012519    1.511936       1.125327   \n",
       "2009-05-01        37.524515      38.801542    1.561252       1.131686   \n",
       "...                     ...            ...         ...            ...   \n",
       "2022-05-01        89.748267      85.128666    1.247484       1.178074   \n",
       "2022-06-01        95.251442      87.836565    1.233611       1.167758   \n",
       "2022-07-01        85.363871      80.415504    1.231479       1.184589   \n",
       "2022-08-01        80.656541      78.913331    1.211816       1.181732   \n",
       "2022-09-01        73.474167      80.706056    1.272420       1.180400   \n",
       "\n",
       "              UKX Index    SPX Index   SX5E Index  Natural_Gas    CPI    RPI  \\\n",
       "Date                                                                           \n",
       "2009-01-01  4308.390000   596.071497  2135.982324    12.472805   84.9  210.1   \n",
       "2009-02-01  4232.114762   570.410394  2020.716905     9.467866   85.6  211.4   \n",
       "2009-03-01  4107.840909   566.393975  2029.160819     8.064295   85.8  211.3   \n",
       "2009-04-01  4259.890500   588.042125  2119.383029     7.762397   86.0  211.5   \n",
       "2009-05-01  4434.719500   582.718727  2164.120107     7.757394   86.4  212.8   \n",
       "...                 ...          ...          ...          ...    ...    ...   \n",
       "2022-05-01  7472.767778  3274.256696  3179.554466    81.073170  120.8  337.1   \n",
       "2022-06-01  7238.188421  3172.340166  3058.969505    96.746393  121.8  340.0   \n",
       "2022-07-01  7303.865263  3298.689210  3082.959231   128.688654  122.5  343.2   \n",
       "2022-08-01  7453.987222  3446.779300  3131.457852   180.082147    NaN    NaN   \n",
       "2022-09-01  7403.016000  3300.260920  3208.537784    93.341821    NaN    NaN   \n",
       "\n",
       "            GBP_IRS_2y  GBP_IRS_10y  Nationwide_HPI    RPI YOY  \n",
       "Date                                                            \n",
       "2009-01-01    2.122545     3.757500           300.2   0.142993  \n",
       "2009-02-01    2.129905     3.798333           294.7   0.000000  \n",
       "2009-03-01    2.142045     3.872500           301.1  -0.377181  \n",
       "2009-04-01    2.143250     3.935500           302.9  -1.168224  \n",
       "2009-05-01    2.031900     3.917500           307.2  -1.069270  \n",
       "...                ...          ...             ...        ...  \n",
       "2022-05-01    2.538121     2.240542           538.4  11.659490  \n",
       "2022-06-01    2.933563     2.626558           541.8  11.842105  \n",
       "2022-07-01    2.700779     2.302258           541.0  12.340426  \n",
       "2022-08-01    3.368889     2.688500           546.1        NaN  \n",
       "2022-09-01    2.475340     2.155940             NaN        NaN  \n",
       "\n",
       "[165 rows x 14 columns]"
      ]
     },
     "execution_count": 6,
     "metadata": {},
     "output_type": "execute_result"
    }
   ],
   "source": [
    "df.index = pd.to_datetime(df.index)\n",
    "df"
   ]
  },
  {
   "cell_type": "code",
   "execution_count": 7,
   "id": "47774425",
   "metadata": {},
   "outputs": [],
   "source": [
    "#rpi_lag = pd.read_csv('RPI_lagged.csv')\n"
   ]
  },
  {
   "cell_type": "code",
   "execution_count": 8,
   "id": "0abf9689",
   "metadata": {},
   "outputs": [],
   "source": [
    "#rpi_lag"
   ]
  },
  {
   "cell_type": "code",
   "execution_count": 9,
   "id": "006e4b0a",
   "metadata": {},
   "outputs": [],
   "source": [
    "# rpi_lag = rpi_lag.rename({'Date CO1 Comdty': 'Date'}, axis=1)\n",
    "# rpi_lag = rpi_lag.set_index('Date')\n"
   ]
  },
  {
   "cell_type": "code",
   "execution_count": 10,
   "id": "83a6fb60",
   "metadata": {},
   "outputs": [],
   "source": [
    "#rpi_lag.index = pd.to_datetime(rpi_lag.index)"
   ]
  },
  {
   "cell_type": "code",
   "execution_count": 11,
   "id": "4a478a43",
   "metadata": {},
   "outputs": [],
   "source": [
    "#rpi_lag"
   ]
  },
  {
   "cell_type": "code",
   "execution_count": 12,
   "id": "97570fd6",
   "metadata": {},
   "outputs": [],
   "source": [
    "#new_df = df.join(rpi_lag)"
   ]
  },
  {
   "cell_type": "code",
   "execution_count": 13,
   "id": "5a906132",
   "metadata": {},
   "outputs": [],
   "source": [
    "#new_df"
   ]
  },
  {
   "cell_type": "code",
   "execution_count": 14,
   "id": "e85ecf39",
   "metadata": {},
   "outputs": [],
   "source": [
    "# X = new_df.drop(columns = ['RPI', 'CPI', 'RPI YOY'])\n",
    "# y = new_df['RPI']\n",
    "\n",
    "X = df.drop(columns = ['RPI', 'CPI', 'RPI YOY'])\n",
    "y = df['RPI']"
   ]
  },
  {
   "cell_type": "code",
   "execution_count": 15,
   "id": "e169ba6b",
   "metadata": {},
   "outputs": [
    {
     "data": {
      "text/html": [
       "<div>\n",
       "<style scoped>\n",
       "    .dataframe tbody tr th:only-of-type {\n",
       "        vertical-align: middle;\n",
       "    }\n",
       "\n",
       "    .dataframe tbody tr th {\n",
       "        vertical-align: top;\n",
       "    }\n",
       "\n",
       "    .dataframe thead th {\n",
       "        text-align: right;\n",
       "    }\n",
       "</style>\n",
       "<table border=\"1\" class=\"dataframe\">\n",
       "  <thead>\n",
       "    <tr style=\"text-align: right;\">\n",
       "      <th></th>\n",
       "      <th>Brent_Crude_GBP</th>\n",
       "      <th>WTI_Crude_GBP</th>\n",
       "      <th>GBP Curncy</th>\n",
       "      <th>GBPEUR Curncy</th>\n",
       "      <th>UKX Index</th>\n",
       "      <th>SPX Index</th>\n",
       "      <th>SX5E Index</th>\n",
       "      <th>Natural_Gas</th>\n",
       "      <th>GBP_IRS_2y</th>\n",
       "      <th>GBP_IRS_10y</th>\n",
       "      <th>Nationwide_HPI</th>\n",
       "    </tr>\n",
       "    <tr>\n",
       "      <th>Date</th>\n",
       "      <th></th>\n",
       "      <th></th>\n",
       "      <th></th>\n",
       "      <th></th>\n",
       "      <th></th>\n",
       "      <th></th>\n",
       "      <th></th>\n",
       "      <th></th>\n",
       "      <th></th>\n",
       "      <th></th>\n",
       "      <th></th>\n",
       "    </tr>\n",
       "  </thead>\n",
       "  <tbody>\n",
       "    <tr>\n",
       "      <th>2015-01-01</th>\n",
       "      <td>32.818125</td>\n",
       "      <td>31.737054</td>\n",
       "      <td>1.516177</td>\n",
       "      <td>1.336264</td>\n",
       "      <td>6641.765238</td>\n",
       "      <td>1339.503656</td>\n",
       "      <td>2495.664852</td>\n",
       "      <td>13.099203</td>\n",
       "      <td>0.858274</td>\n",
       "      <td>1.684729</td>\n",
       "      <td>375.9</td>\n",
       "    </tr>\n",
       "    <tr>\n",
       "      <th>2015-02-01</th>\n",
       "      <td>38.343255</td>\n",
       "      <td>32.759207</td>\n",
       "      <td>1.533386</td>\n",
       "      <td>1.362371</td>\n",
       "      <td>6746.840476</td>\n",
       "      <td>1356.232800</td>\n",
       "      <td>2536.801725</td>\n",
       "      <td>13.938965</td>\n",
       "      <td>0.952887</td>\n",
       "      <td>1.856450</td>\n",
       "      <td>375.0</td>\n",
       "    </tr>\n",
       "    <tr>\n",
       "      <th>2015-03-01</th>\n",
       "      <td>37.866261</td>\n",
       "      <td>31.635113</td>\n",
       "      <td>1.503677</td>\n",
       "      <td>1.377568</td>\n",
       "      <td>6791.140000</td>\n",
       "      <td>1380.431518</td>\n",
       "      <td>2615.694574</td>\n",
       "      <td>13.821672</td>\n",
       "      <td>0.947216</td>\n",
       "      <td>1.783045</td>\n",
       "      <td>377.9</td>\n",
       "    </tr>\n",
       "    <tr>\n",
       "      <th>2015-04-01</th>\n",
       "      <td>40.409377</td>\n",
       "      <td>35.572047</td>\n",
       "      <td>1.512909</td>\n",
       "      <td>1.386036</td>\n",
       "      <td>6886.650952</td>\n",
       "      <td>1381.813784</td>\n",
       "      <td>2620.084413</td>\n",
       "      <td>13.690119</td>\n",
       "      <td>0.923663</td>\n",
       "      <td>1.811432</td>\n",
       "      <td>385.1</td>\n",
       "    </tr>\n",
       "    <tr>\n",
       "      <th>2015-05-01</th>\n",
       "      <td>42.505052</td>\n",
       "      <td>36.186768</td>\n",
       "      <td>1.543548</td>\n",
       "      <td>1.384014</td>\n",
       "      <td>6864.994500</td>\n",
       "      <td>1360.216539</td>\n",
       "      <td>2568.111738</td>\n",
       "      <td>13.123988</td>\n",
       "      <td>1.009908</td>\n",
       "      <td>1.971630</td>\n",
       "      <td>389.3</td>\n",
       "    </tr>\n",
       "    <tr>\n",
       "      <th>2015-06-01</th>\n",
       "      <td>41.067582</td>\n",
       "      <td>35.885473</td>\n",
       "      <td>1.552386</td>\n",
       "      <td>1.385524</td>\n",
       "      <td>6687.803500</td>\n",
       "      <td>1340.919813</td>\n",
       "      <td>2507.691659</td>\n",
       "      <td>13.023503</td>\n",
       "      <td>1.061182</td>\n",
       "      <td>2.089545</td>\n",
       "      <td>389.1</td>\n",
       "    </tr>\n",
       "    <tr>\n",
       "      <th>2015-07-01</th>\n",
       "      <td>36.726002</td>\n",
       "      <td>31.989864</td>\n",
       "      <td>1.545617</td>\n",
       "      <td>1.402913</td>\n",
       "      <td>6625.526087</td>\n",
       "      <td>1353.218881</td>\n",
       "      <td>2518.626151</td>\n",
       "      <td>13.169073</td>\n",
       "      <td>1.119989</td>\n",
       "      <td>2.051104</td>\n",
       "      <td>390.2</td>\n",
       "    </tr>\n",
       "    <tr>\n",
       "      <th>2015-08-01</th>\n",
       "      <td>31.196110</td>\n",
       "      <td>29.152671</td>\n",
       "      <td>1.545248</td>\n",
       "      <td>1.376957</td>\n",
       "      <td>6402.255000</td>\n",
       "      <td>1311.027051</td>\n",
       "      <td>2434.955959</td>\n",
       "      <td>12.478583</td>\n",
       "      <td>1.085050</td>\n",
       "      <td>1.958367</td>\n",
       "      <td>389.6</td>\n",
       "    </tr>\n",
       "    <tr>\n",
       "      <th>2015-09-01</th>\n",
       "      <td>31.774855</td>\n",
       "      <td>30.721787</td>\n",
       "      <td>1.527609</td>\n",
       "      <td>1.364657</td>\n",
       "      <td>6280.524348</td>\n",
       "      <td>1302.101893</td>\n",
       "      <td>2375.712634</td>\n",
       "      <td>12.595702</td>\n",
       "      <td>1.004023</td>\n",
       "      <td>1.908904</td>\n",
       "      <td>390.2</td>\n",
       "    </tr>\n",
       "    <tr>\n",
       "      <th>2015-10-01</th>\n",
       "      <td>32.150956</td>\n",
       "      <td>30.493892</td>\n",
       "      <td>1.533165</td>\n",
       "      <td>1.378817</td>\n",
       "      <td>6458.806957</td>\n",
       "      <td>1339.915435</td>\n",
       "      <td>2458.240837</td>\n",
       "      <td>12.291281</td>\n",
       "      <td>0.940307</td>\n",
       "      <td>1.899183</td>\n",
       "      <td>392.6</td>\n",
       "    </tr>\n",
       "    <tr>\n",
       "      <th>2015-11-01</th>\n",
       "      <td>30.159048</td>\n",
       "      <td>28.998764</td>\n",
       "      <td>1.523005</td>\n",
       "      <td>1.409255</td>\n",
       "      <td>6398.511500</td>\n",
       "      <td>1357.124134</td>\n",
       "      <td>2446.822967</td>\n",
       "      <td>12.095331</td>\n",
       "      <td>0.994821</td>\n",
       "      <td>1.897445</td>\n",
       "      <td>391.6</td>\n",
       "    </tr>\n",
       "    <tr>\n",
       "      <th>2015-12-01</th>\n",
       "      <td>25.818625</td>\n",
       "      <td>27.520854</td>\n",
       "      <td>1.506823</td>\n",
       "      <td>1.366814</td>\n",
       "      <td>6324.143500</td>\n",
       "      <td>1363.285466</td>\n",
       "      <td>2426.843201</td>\n",
       "      <td>11.423042</td>\n",
       "      <td>1.016488</td>\n",
       "      <td>1.930550</td>\n",
       "      <td>393.0</td>\n",
       "    </tr>\n",
       "    <tr>\n",
       "      <th>2016-01-01</th>\n",
       "      <td>22.809737</td>\n",
       "      <td>25.534394</td>\n",
       "      <td>1.399643</td>\n",
       "      <td>1.278787</td>\n",
       "      <td>6123.662727</td>\n",
       "      <td>1413.405854</td>\n",
       "      <td>2340.610930</td>\n",
       "      <td>9.773593</td>\n",
       "      <td>0.898800</td>\n",
       "      <td>1.504270</td>\n",
       "      <td>392.7</td>\n",
       "    </tr>\n",
       "    <tr>\n",
       "      <th>2016-02-01</th>\n",
       "      <td>24.047857</td>\n",
       "      <td>26.087339</td>\n",
       "      <td>1.394184</td>\n",
       "      <td>1.260416</td>\n",
       "      <td>6171.272222</td>\n",
       "      <td>1434.117439</td>\n",
       "      <td>2327.359810</td>\n",
       "      <td>9.383225</td>\n",
       "      <td>0.757655</td>\n",
       "      <td>1.332758</td>\n",
       "      <td>392.9</td>\n",
       "    </tr>\n",
       "    <tr>\n",
       "      <th>2016-03-01</th>\n",
       "      <td>28.183023</td>\n",
       "      <td>28.331057</td>\n",
       "      <td>1.411843</td>\n",
       "      <td>1.258433</td>\n",
       "      <td>6253.627368</td>\n",
       "      <td>1452.882656</td>\n",
       "      <td>2395.269808</td>\n",
       "      <td>9.068961</td>\n",
       "      <td>0.805940</td>\n",
       "      <td>1.375611</td>\n",
       "      <td>399.5</td>\n",
       "    </tr>\n",
       "    <tr>\n",
       "      <th>2016-04-01</th>\n",
       "      <td>30.652665</td>\n",
       "      <td>29.521709</td>\n",
       "      <td>1.413891</td>\n",
       "      <td>1.256627</td>\n",
       "      <td>6357.307727</td>\n",
       "      <td>1468.004077</td>\n",
       "      <td>2426.290431</td>\n",
       "      <td>9.156711</td>\n",
       "      <td>0.820131</td>\n",
       "      <td>1.418518</td>\n",
       "      <td>403.8</td>\n",
       "    </tr>\n",
       "    <tr>\n",
       "      <th>2016-05-01</th>\n",
       "      <td>33.610150</td>\n",
       "      <td>32.363833</td>\n",
       "      <td>1.417632</td>\n",
       "      <td>1.269523</td>\n",
       "      <td>6305.287143</td>\n",
       "      <td>1461.227431</td>\n",
       "      <td>2356.760057</td>\n",
       "      <td>9.512007</td>\n",
       "      <td>0.805012</td>\n",
       "      <td>1.354362</td>\n",
       "      <td>407.7</td>\n",
       "    </tr>\n",
       "    <tr>\n",
       "      <th>2016-06-01</th>\n",
       "      <td>35.853479</td>\n",
       "      <td>33.841453</td>\n",
       "      <td>1.392536</td>\n",
       "      <td>1.244714</td>\n",
       "      <td>6262.087727</td>\n",
       "      <td>1497.344936</td>\n",
       "      <td>2335.194660</td>\n",
       "      <td>10.313098</td>\n",
       "      <td>0.707955</td>\n",
       "      <td>1.206173</td>\n",
       "      <td>408.9</td>\n",
       "    </tr>\n",
       "    <tr>\n",
       "      <th>2016-07-01</th>\n",
       "      <td>34.979696</td>\n",
       "      <td>32.963639</td>\n",
       "      <td>1.330336</td>\n",
       "      <td>1.201241</td>\n",
       "      <td>6630.369545</td>\n",
       "      <td>1608.590787</td>\n",
       "      <td>2481.757122</td>\n",
       "      <td>10.837997</td>\n",
       "      <td>0.501131</td>\n",
       "      <td>1.021027</td>\n",
       "      <td>410.4</td>\n",
       "    </tr>\n",
       "    <tr>\n",
       "      <th>2016-08-01</th>\n",
       "      <td>35.390659</td>\n",
       "      <td>33.703121</td>\n",
       "      <td>1.332530</td>\n",
       "      <td>1.191674</td>\n",
       "      <td>6658.116818</td>\n",
       "      <td>1603.181916</td>\n",
       "      <td>2513.310834</td>\n",
       "      <td>9.386618</td>\n",
       "      <td>0.425193</td>\n",
       "      <td>0.936239</td>\n",
       "      <td>411.2</td>\n",
       "    </tr>\n",
       "    <tr>\n",
       "      <th>2016-09-01</th>\n",
       "      <td>35.650483</td>\n",
       "      <td>33.536749</td>\n",
       "      <td>1.325100</td>\n",
       "      <td>1.186100</td>\n",
       "      <td>6681.491364</td>\n",
       "      <td>1607.695474</td>\n",
       "      <td>2522.149367</td>\n",
       "      <td>10.132168</td>\n",
       "      <td>0.440250</td>\n",
       "      <td>0.959009</td>\n",
       "      <td>411.0</td>\n",
       "    </tr>\n",
       "    <tr>\n",
       "      <th>2016-10-01</th>\n",
       "      <td>40.400342</td>\n",
       "      <td>37.170194</td>\n",
       "      <td>1.271960</td>\n",
       "      <td>1.152440</td>\n",
       "      <td>6784.034000</td>\n",
       "      <td>1663.042077</td>\n",
       "      <td>2624.813005</td>\n",
       "      <td>12.497445</td>\n",
       "      <td>0.557524</td>\n",
       "      <td>1.138360</td>\n",
       "      <td>410.8</td>\n",
       "    </tr>\n",
       "    <tr>\n",
       "      <th>2016-11-01</th>\n",
       "      <td>36.390691</td>\n",
       "      <td>33.946930</td>\n",
       "      <td>1.293700</td>\n",
       "      <td>1.192923</td>\n",
       "      <td>6618.945455</td>\n",
       "      <td>1649.769763</td>\n",
       "      <td>2519.838212</td>\n",
       "      <td>12.435263</td>\n",
       "      <td>0.646977</td>\n",
       "      <td>1.316939</td>\n",
       "      <td>408.8</td>\n",
       "    </tr>\n",
       "    <tr>\n",
       "      <th>2016-12-01</th>\n",
       "      <td>42.778165</td>\n",
       "      <td>38.042859</td>\n",
       "      <td>1.283743</td>\n",
       "      <td>1.197404</td>\n",
       "      <td>6796.544286</td>\n",
       "      <td>1706.510219</td>\n",
       "      <td>2631.646533</td>\n",
       "      <td>12.452421</td>\n",
       "      <td>0.649512</td>\n",
       "      <td>1.293796</td>\n",
       "      <td>410.7</td>\n",
       "    </tr>\n",
       "  </tbody>\n",
       "</table>\n",
       "</div>"
      ],
      "text/plain": [
       "            Brent_Crude_GBP  WTI_Crude_GBP  GBP Curncy  GBPEUR Curncy  \\\n",
       "Date                                                                    \n",
       "2015-01-01        32.818125      31.737054    1.516177       1.336264   \n",
       "2015-02-01        38.343255      32.759207    1.533386       1.362371   \n",
       "2015-03-01        37.866261      31.635113    1.503677       1.377568   \n",
       "2015-04-01        40.409377      35.572047    1.512909       1.386036   \n",
       "2015-05-01        42.505052      36.186768    1.543548       1.384014   \n",
       "2015-06-01        41.067582      35.885473    1.552386       1.385524   \n",
       "2015-07-01        36.726002      31.989864    1.545617       1.402913   \n",
       "2015-08-01        31.196110      29.152671    1.545248       1.376957   \n",
       "2015-09-01        31.774855      30.721787    1.527609       1.364657   \n",
       "2015-10-01        32.150956      30.493892    1.533165       1.378817   \n",
       "2015-11-01        30.159048      28.998764    1.523005       1.409255   \n",
       "2015-12-01        25.818625      27.520854    1.506823       1.366814   \n",
       "2016-01-01        22.809737      25.534394    1.399643       1.278787   \n",
       "2016-02-01        24.047857      26.087339    1.394184       1.260416   \n",
       "2016-03-01        28.183023      28.331057    1.411843       1.258433   \n",
       "2016-04-01        30.652665      29.521709    1.413891       1.256627   \n",
       "2016-05-01        33.610150      32.363833    1.417632       1.269523   \n",
       "2016-06-01        35.853479      33.841453    1.392536       1.244714   \n",
       "2016-07-01        34.979696      32.963639    1.330336       1.201241   \n",
       "2016-08-01        35.390659      33.703121    1.332530       1.191674   \n",
       "2016-09-01        35.650483      33.536749    1.325100       1.186100   \n",
       "2016-10-01        40.400342      37.170194    1.271960       1.152440   \n",
       "2016-11-01        36.390691      33.946930    1.293700       1.192923   \n",
       "2016-12-01        42.778165      38.042859    1.283743       1.197404   \n",
       "\n",
       "              UKX Index    SPX Index   SX5E Index  Natural_Gas  GBP_IRS_2y  \\\n",
       "Date                                                                         \n",
       "2015-01-01  6641.765238  1339.503656  2495.664852    13.099203    0.858274   \n",
       "2015-02-01  6746.840476  1356.232800  2536.801725    13.938965    0.952887   \n",
       "2015-03-01  6791.140000  1380.431518  2615.694574    13.821672    0.947216   \n",
       "2015-04-01  6886.650952  1381.813784  2620.084413    13.690119    0.923663   \n",
       "2015-05-01  6864.994500  1360.216539  2568.111738    13.123988    1.009908   \n",
       "2015-06-01  6687.803500  1340.919813  2507.691659    13.023503    1.061182   \n",
       "2015-07-01  6625.526087  1353.218881  2518.626151    13.169073    1.119989   \n",
       "2015-08-01  6402.255000  1311.027051  2434.955959    12.478583    1.085050   \n",
       "2015-09-01  6280.524348  1302.101893  2375.712634    12.595702    1.004023   \n",
       "2015-10-01  6458.806957  1339.915435  2458.240837    12.291281    0.940307   \n",
       "2015-11-01  6398.511500  1357.124134  2446.822967    12.095331    0.994821   \n",
       "2015-12-01  6324.143500  1363.285466  2426.843201    11.423042    1.016488   \n",
       "2016-01-01  6123.662727  1413.405854  2340.610930     9.773593    0.898800   \n",
       "2016-02-01  6171.272222  1434.117439  2327.359810     9.383225    0.757655   \n",
       "2016-03-01  6253.627368  1452.882656  2395.269808     9.068961    0.805940   \n",
       "2016-04-01  6357.307727  1468.004077  2426.290431     9.156711    0.820131   \n",
       "2016-05-01  6305.287143  1461.227431  2356.760057     9.512007    0.805012   \n",
       "2016-06-01  6262.087727  1497.344936  2335.194660    10.313098    0.707955   \n",
       "2016-07-01  6630.369545  1608.590787  2481.757122    10.837997    0.501131   \n",
       "2016-08-01  6658.116818  1603.181916  2513.310834     9.386618    0.425193   \n",
       "2016-09-01  6681.491364  1607.695474  2522.149367    10.132168    0.440250   \n",
       "2016-10-01  6784.034000  1663.042077  2624.813005    12.497445    0.557524   \n",
       "2016-11-01  6618.945455  1649.769763  2519.838212    12.435263    0.646977   \n",
       "2016-12-01  6796.544286  1706.510219  2631.646533    12.452421    0.649512   \n",
       "\n",
       "            GBP_IRS_10y  Nationwide_HPI  \n",
       "Date                                     \n",
       "2015-01-01     1.684729           375.9  \n",
       "2015-02-01     1.856450           375.0  \n",
       "2015-03-01     1.783045           377.9  \n",
       "2015-04-01     1.811432           385.1  \n",
       "2015-05-01     1.971630           389.3  \n",
       "2015-06-01     2.089545           389.1  \n",
       "2015-07-01     2.051104           390.2  \n",
       "2015-08-01     1.958367           389.6  \n",
       "2015-09-01     1.908904           390.2  \n",
       "2015-10-01     1.899183           392.6  \n",
       "2015-11-01     1.897445           391.6  \n",
       "2015-12-01     1.930550           393.0  \n",
       "2016-01-01     1.504270           392.7  \n",
       "2016-02-01     1.332758           392.9  \n",
       "2016-03-01     1.375611           399.5  \n",
       "2016-04-01     1.418518           403.8  \n",
       "2016-05-01     1.354362           407.7  \n",
       "2016-06-01     1.206173           408.9  \n",
       "2016-07-01     1.021027           410.4  \n",
       "2016-08-01     0.936239           411.2  \n",
       "2016-09-01     0.959009           411.0  \n",
       "2016-10-01     1.138360           410.8  \n",
       "2016-11-01     1.316939           408.8  \n",
       "2016-12-01     1.293796           410.7  "
      ]
     },
     "execution_count": 15,
     "metadata": {},
     "output_type": "execute_result"
    }
   ],
   "source": [
    "X[72:96]"
   ]
  },
  {
   "cell_type": "code",
   "execution_count": 16,
   "id": "9a8a3a8d",
   "metadata": {},
   "outputs": [
    {
     "data": {
      "text/plain": [
       "((72, 11), (72,), (24, 11), (24,), (12, 11), (12,))"
      ]
     },
     "execution_count": 16,
     "metadata": {},
     "output_type": "execute_result"
    }
   ],
   "source": [
    "X_train, y_train = X[:72], y[:72]\n",
    "X_val, y_val = X[72:96], y[72:96]\n",
    "X_test, y_test = X[96:108], y[96:108]\n",
    "X_train.shape, y_train.shape, X_val.shape, y_val.shape, X_test.shape, y_test.shape"
   ]
  },
  {
   "cell_type": "code",
   "execution_count": 21,
   "id": "7a94120a",
   "metadata": {},
   "outputs": [
    {
     "data": {
      "text/plain": [
       "TensorShape([72, 1, 1])"
      ]
     },
     "execution_count": 21,
     "metadata": {},
     "output_type": "execute_result"
    }
   ],
   "source": [
    "\n",
    "y_train_x = expand_dims(y_train, -1)\n",
    "y_train_x = expand_dims(y_train_x, -1)\n",
    "\n",
    "y_train_x.shape"
   ]
  },
  {
   "cell_type": "code",
   "execution_count": 22,
   "id": "9ae3ecce",
   "metadata": {},
   "outputs": [],
   "source": [
    "y_val_x = expand_dims(y_val, -1)\n",
    "y_val_x = expand_dims(y_val_x, -1)"
   ]
  },
  {
   "cell_type": "code",
   "execution_count": 23,
   "id": "3b6942d9",
   "metadata": {
    "scrolled": true
   },
   "outputs": [
    {
     "data": {
      "text/plain": [
       "TensorShape([24, 1, 1])"
      ]
     },
     "execution_count": 23,
     "metadata": {},
     "output_type": "execute_result"
    }
   ],
   "source": [
    "y_val_x.shape"
   ]
  },
  {
   "cell_type": "code",
   "execution_count": 24,
   "id": "b63b023c",
   "metadata": {},
   "outputs": [],
   "source": [
    "X_test_x = expand_dims(X_test, -2)"
   ]
  },
  {
   "cell_type": "code",
   "execution_count": 25,
   "id": "bb80a24d",
   "metadata": {},
   "outputs": [
    {
     "data": {
      "text/plain": [
       "TensorShape([12, 1, 11])"
      ]
     },
     "execution_count": 25,
     "metadata": {},
     "output_type": "execute_result"
    }
   ],
   "source": [
    "X_test_x.shape"
   ]
  },
  {
   "cell_type": "code",
   "execution_count": 26,
   "id": "df73716d",
   "metadata": {},
   "outputs": [
    {
     "data": {
      "text/plain": [
       "TensorShape([72, 1, 11])"
      ]
     },
     "execution_count": 26,
     "metadata": {},
     "output_type": "execute_result"
    }
   ],
   "source": [
    "X_train_x = expand_dims(X_train, -2)\n",
    "X_train_x.shape"
   ]
  },
  {
   "cell_type": "code",
   "execution_count": 27,
   "id": "302296d2",
   "metadata": {},
   "outputs": [
    {
     "data": {
      "text/plain": [
       "TensorShape([24, 1, 11])"
      ]
     },
     "execution_count": 27,
     "metadata": {},
     "output_type": "execute_result"
    }
   ],
   "source": [
    "X_val_x = expand_dims(X_val, -2)\n",
    "X_val_x.shape"
   ]
  },
  {
   "cell_type": "code",
   "execution_count": 31,
   "id": "a36c23f3",
   "metadata": {},
   "outputs": [],
   "source": [
    "from tensorflow.keras.optimizers.schedules import ExponentialDecay\n",
    "from tensorflow.keras.optimizers import Adam\n",
    "from tensorflow.keras.callbacks import EarlyStopping\n",
    "\n",
    "lr_scheduler = ExponentialDecay(initial_learning_rate=0.001, decay_steps= 10_000, decay_rate=0.7)\n",
    "adam = Adam(learning_rate=lr_scheduler)\n",
    "es = EarlyStopping(patience=50, restore_best_weights=True)"
   ]
  },
  {
   "cell_type": "code",
   "execution_count": 32,
   "id": "4935891c",
   "metadata": {},
   "outputs": [
    {
     "ename": "ImportError",
     "evalue": "cannot import name 'Normalization' from 'tensorflow.keras.layers' (/Users/gwh/.pyenv/versions/3.8.12/envs/lewagon/lib/python3.8/site-packages/tensorflow/keras/layers/__init__.py)",
     "output_type": "error",
     "traceback": [
      "\u001b[0;31m---------------------------------------------------------------------------\u001b[0m",
      "\u001b[0;31mImportError\u001b[0m                               Traceback (most recent call last)",
      "\u001b[0;32m/var/folders/wv/znl2vtzn0150xwlyckjyk_kh0000gn/T/ipykernel_32530/2046597509.py\u001b[0m in \u001b[0;36m<module>\u001b[0;34m\u001b[0m\n\u001b[0;32m----> 1\u001b[0;31m \u001b[0;32mfrom\u001b[0m \u001b[0mtensorflow\u001b[0m\u001b[0;34m.\u001b[0m\u001b[0mkeras\u001b[0m\u001b[0;34m.\u001b[0m\u001b[0mlayers\u001b[0m \u001b[0;32mimport\u001b[0m \u001b[0mNormalization\u001b[0m\u001b[0;34m\u001b[0m\u001b[0;34m\u001b[0m\u001b[0m\n\u001b[0m\u001b[1;32m      2\u001b[0m \u001b[0;34m\u001b[0m\u001b[0m\n\u001b[1;32m      3\u001b[0m \u001b[0mnormalizer\u001b[0m \u001b[0;34m=\u001b[0m \u001b[0mNormalization\u001b[0m\u001b[0;34m(\u001b[0m\u001b[0;34m)\u001b[0m\u001b[0;34m\u001b[0m\u001b[0;34m\u001b[0m\u001b[0m\n\u001b[1;32m      4\u001b[0m \u001b[0mnormalizer\u001b[0m\u001b[0;34m.\u001b[0m\u001b[0madapt\u001b[0m\u001b[0;34m(\u001b[0m\u001b[0mX_train_x\u001b[0m\u001b[0;34m)\u001b[0m\u001b[0;34m\u001b[0m\u001b[0;34m\u001b[0m\u001b[0m\n\u001b[1;32m      5\u001b[0m \u001b[0;34m\u001b[0m\u001b[0m\n",
      "\u001b[0;31mImportError\u001b[0m: cannot import name 'Normalization' from 'tensorflow.keras.layers' (/Users/gwh/.pyenv/versions/3.8.12/envs/lewagon/lib/python3.8/site-packages/tensorflow/keras/layers/__init__.py)"
     ]
    }
   ],
   "source": [
    "from tensorflow.keras.layers import Normalization\n",
    "\n",
    "normalizer = Normalization()\n",
    "normalizer.adapt(X_train_x)\n",
    "\n",
    "model1 = Sequential()\n",
    "model1.add(normalizer)\n",
    "\n",
    "model1.add(LSTM(units = 100, activation='tanh', return_sequences = True))\n",
    "model1.add(LSTM(units = 50 , activation='tanh', return_sequences = False))\n",
    "\n",
    "model1.add(Flatten())\n",
    "\n",
    "model1.add(Dense(100,activation =  'relu'))\n",
    "model1.add(Dense(50,activation =  'relu'))\n",
    "model1.add(Dense(25,activation =  'relu'))\n",
    "\n",
    "model1.add(Dense(1, activation = 'linear'))\n",
    "\n",
    "model1.summary()"
   ]
  },
  {
   "cell_type": "code",
   "execution_count": 29,
   "id": "3d96dce0",
   "metadata": {},
   "outputs": [
    {
     "ename": "NameError",
     "evalue": "name 'MeanAbsolutePercentageError' is not defined",
     "output_type": "error",
     "traceback": [
      "\u001b[0;31m---------------------------------------------------------------------------\u001b[0m",
      "\u001b[0;31mNameError\u001b[0m                                 Traceback (most recent call last)",
      "\u001b[0;32m/var/folders/wv/znl2vtzn0150xwlyckjyk_kh0000gn/T/ipykernel_32530/653007331.py\u001b[0m in \u001b[0;36m<module>\u001b[0;34m\u001b[0m\n\u001b[0;32m----> 1\u001b[0;31m \u001b[0mmape\u001b[0m \u001b[0;34m=\u001b[0m \u001b[0mMeanAbsolutePercentageError\u001b[0m\u001b[0;34m(\u001b[0m\u001b[0;34m)\u001b[0m\u001b[0;34m\u001b[0m\u001b[0;34m\u001b[0m\u001b[0m\n\u001b[0m",
      "\u001b[0;31mNameError\u001b[0m: name 'MeanAbsolutePercentageError' is not defined"
     ]
    }
   ],
   "source": [
    "mape = MeanAbsolutePercentageError()"
   ]
  },
  {
   "cell_type": "code",
   "execution_count": null,
   "id": "5396d14d",
   "metadata": {},
   "outputs": [
    {
     "ename": "",
     "evalue": "",
     "output_type": "error",
     "traceback": [
      "\u001b[1;31mRunning cells with 'Python 3.8.12 64-bit ('inflation-env')' requires ipykernel package.\n",
      "\u001b[1;31mRun the following command to install 'ipykernel' into the Python environment. \n",
      "\u001b[1;31mCommand: '/Users/gwh/.pyenv/versions/3.8.12/envs/inflation-env/bin/python -m pip install ipykernel -U --force-reinstall'"
     ]
    }
   ],
   "source": [
    "model1.compile(loss= mape, optimizer= adam, metrics=['mape'])"
   ]
  },
  {
   "cell_type": "code",
   "execution_count": null,
   "id": "0693943f",
   "metadata": {
    "scrolled": true
   },
   "outputs": [
    {
     "ename": "",
     "evalue": "",
     "output_type": "error",
     "traceback": [
      "\u001b[1;31mRunning cells with 'Python 3.8.12 64-bit ('inflation-env')' requires ipykernel package.\n",
      "\u001b[1;31mRun the following command to install 'ipykernel' into the Python environment. \n",
      "\u001b[1;31mCommand: '/Users/gwh/.pyenv/versions/3.8.12/envs/inflation-env/bin/python -m pip install ipykernel -U --force-reinstall'"
     ]
    }
   ],
   "source": [
    "model1.fit(X_train_x, y_train,batch_size = 32, validation_data=(X_val_x, y_val), epochs=10000, callbacks = (es))"
   ]
  },
  {
   "cell_type": "code",
   "execution_count": null,
   "id": "734cb845",
   "metadata": {},
   "outputs": [
    {
     "ename": "",
     "evalue": "",
     "output_type": "error",
     "traceback": [
      "\u001b[1;31mRunning cells with 'Python 3.8.12 64-bit ('inflation-env')' requires ipykernel package.\n",
      "\u001b[1;31mRun the following command to install 'ipykernel' into the Python environment. \n",
      "\u001b[1;31mCommand: '/Users/gwh/.pyenv/versions/3.8.12/envs/inflation-env/bin/python -m pip install ipykernel -U --force-reinstall'"
     ]
    }
   ],
   "source": [
    "model1.predict(X_test_x)"
   ]
  },
  {
   "cell_type": "code",
   "execution_count": null,
   "id": "a616f9a3",
   "metadata": {
    "scrolled": true
   },
   "outputs": [
    {
     "ename": "",
     "evalue": "",
     "output_type": "error",
     "traceback": [
      "\u001b[1;31mRunning cells with 'Python 3.8.12 64-bit ('inflation-env')' requires ipykernel package.\n",
      "\u001b[1;31mRun the following command to install 'ipykernel' into the Python environment. \n",
      "\u001b[1;31mCommand: '/Users/gwh/.pyenv/versions/3.8.12/envs/inflation-env/bin/python -m pip install ipykernel -U --force-reinstall'"
     ]
    }
   ],
   "source": [
    "test_predictions = list(model1.predict(X_test_x))\n",
    "test_results = pd.DataFrame(columns = ['test_predictions', 'test_actual'])\n",
    "\n",
    "#train_predictions\n",
    "\n",
    "test_results['date'] = list(y_test.index)\n",
    "test_results['test_predictions'] = [x[0] for x in test_predictions]\n",
    "test_results['test_actual'] = list(y_test)\n"
   ]
  },
  {
   "cell_type": "code",
   "execution_count": null,
   "id": "d7d5af01",
   "metadata": {
    "scrolled": true
   },
   "outputs": [
    {
     "ename": "",
     "evalue": "",
     "output_type": "error",
     "traceback": [
      "\u001b[1;31mRunning cells with 'Python 3.8.12 64-bit ('inflation-env')' requires ipykernel package.\n",
      "\u001b[1;31mRun the following command to install 'ipykernel' into the Python environment. \n",
      "\u001b[1;31mCommand: '/Users/gwh/.pyenv/versions/3.8.12/envs/inflation-env/bin/python -m pip install ipykernel -U --force-reinstall'"
     ]
    }
   ],
   "source": [
    "test_results"
   ]
  },
  {
   "cell_type": "code",
   "execution_count": null,
   "id": "e09c6b51",
   "metadata": {
    "scrolled": true
   },
   "outputs": [
    {
     "ename": "",
     "evalue": "",
     "output_type": "error",
     "traceback": [
      "\u001b[1;31mRunning cells with 'Python 3.8.12 64-bit ('inflation-env')' requires ipykernel package.\n",
      "\u001b[1;31mRun the following command to install 'ipykernel' into the Python environment. \n",
      "\u001b[1;31mCommand: '/Users/gwh/.pyenv/versions/3.8.12/envs/inflation-env/bin/python -m pip install ipykernel -U --force-reinstall'"
     ]
    }
   ],
   "source": [
    "test_results.set_index('date', inplace=True)"
   ]
  },
  {
   "cell_type": "code",
   "execution_count": null,
   "id": "8fb470a9",
   "metadata": {
    "scrolled": false
   },
   "outputs": [
    {
     "ename": "",
     "evalue": "",
     "output_type": "error",
     "traceback": [
      "\u001b[1;31mRunning cells with 'Python 3.8.12 64-bit ('inflation-env')' requires ipykernel package.\n",
      "\u001b[1;31mRun the following command to install 'ipykernel' into the Python environment. \n",
      "\u001b[1;31mCommand: '/Users/gwh/.pyenv/versions/3.8.12/envs/inflation-env/bin/python -m pip install ipykernel -U --force-reinstall'"
     ]
    }
   ],
   "source": [
    "import matplotlib.pyplot as plt\n",
    "\n",
    "plt.plot(y)\n",
    "plt.plot(test_results['test_predictions'], label='prediction')\n",
    "plt.plot(test_results['test_actual'], label='actual')\n",
    "plt.title('2017-18 Inflation Prediciton')\n",
    "plt.legend()\n",
    "#plt.savefig('LSTM_new')\n",
    "\n"
   ]
  },
  {
   "cell_type": "markdown",
   "id": "592badff",
   "metadata": {},
   "source": [
    "# LSTM 2018-2019"
   ]
  },
  {
   "cell_type": "code",
   "execution_count": null,
   "id": "9d4f705a",
   "metadata": {},
   "outputs": [
    {
     "ename": "",
     "evalue": "",
     "output_type": "error",
     "traceback": [
      "\u001b[1;31mRunning cells with 'Python 3.8.12 64-bit ('inflation-env')' requires ipykernel package.\n",
      "\u001b[1;31mRun the following command to install 'ipykernel' into the Python environment. \n",
      "\u001b[1;31mCommand: '/Users/gwh/.pyenv/versions/3.8.12/envs/inflation-env/bin/python -m pip install ipykernel -U --force-reinstall'"
     ]
    }
   ],
   "source": [
    "X_train1, y_train1 = X[:84], y[:84]\n",
    "X_val1, y_val1 = X[84:108], y[84:108]\n",
    "X_test1, y_test1 = X[108:120], y[108:120]\n",
    "X_train1.shape, y_train1.shape, X_val1.shape, y_val1.shape, X_test1.shape, y_test1.shape"
   ]
  },
  {
   "cell_type": "code",
   "execution_count": null,
   "id": "c0a758c4",
   "metadata": {},
   "outputs": [
    {
     "ename": "",
     "evalue": "",
     "output_type": "error",
     "traceback": [
      "\u001b[1;31mRunning cells with 'Python 3.8.12 64-bit ('inflation-env')' requires ipykernel package.\n",
      "\u001b[1;31mRun the following command to install 'ipykernel' into the Python environment. \n",
      "\u001b[1;31mCommand: '/Users/gwh/.pyenv/versions/3.8.12/envs/inflation-env/bin/python -m pip install ipykernel -U --force-reinstall'"
     ]
    }
   ],
   "source": [
    "y_train1_x = expand_dims(y_train1, -1)\n",
    "y_train1_x = expand_dims(y_train1_x, -1)\n",
    "\n",
    "y_train1_x.shape"
   ]
  },
  {
   "cell_type": "code",
   "execution_count": null,
   "id": "eb26c948",
   "metadata": {},
   "outputs": [
    {
     "ename": "",
     "evalue": "",
     "output_type": "error",
     "traceback": [
      "\u001b[1;31mRunning cells with 'Python 3.8.12 64-bit ('inflation-env')' requires ipykernel package.\n",
      "\u001b[1;31mRun the following command to install 'ipykernel' into the Python environment. \n",
      "\u001b[1;31mCommand: '/Users/gwh/.pyenv/versions/3.8.12/envs/inflation-env/bin/python -m pip install ipykernel -U --force-reinstall'"
     ]
    }
   ],
   "source": [
    "y_val1_x = expand_dims(y_val1, -1)\n",
    "y_val1_x = expand_dims(y_val1_x, -1)"
   ]
  },
  {
   "cell_type": "code",
   "execution_count": null,
   "id": "38deec10",
   "metadata": {},
   "outputs": [
    {
     "ename": "",
     "evalue": "",
     "output_type": "error",
     "traceback": [
      "\u001b[1;31mRunning cells with 'Python 3.8.12 64-bit ('inflation-env')' requires ipykernel package.\n",
      "\u001b[1;31mRun the following command to install 'ipykernel' into the Python environment. \n",
      "\u001b[1;31mCommand: '/Users/gwh/.pyenv/versions/3.8.12/envs/inflation-env/bin/python -m pip install ipykernel -U --force-reinstall'"
     ]
    }
   ],
   "source": [
    "X_test1_x = expand_dims(X_test1, -2)"
   ]
  },
  {
   "cell_type": "code",
   "execution_count": null,
   "id": "6d04d224",
   "metadata": {},
   "outputs": [
    {
     "ename": "",
     "evalue": "",
     "output_type": "error",
     "traceback": [
      "\u001b[1;31mRunning cells with 'Python 3.8.12 64-bit ('inflation-env')' requires ipykernel package.\n",
      "\u001b[1;31mRun the following command to install 'ipykernel' into the Python environment. \n",
      "\u001b[1;31mCommand: '/Users/gwh/.pyenv/versions/3.8.12/envs/inflation-env/bin/python -m pip install ipykernel -U --force-reinstall'"
     ]
    }
   ],
   "source": [
    "X_train1_x = expand_dims(X_train1, -2)\n",
    "X_train1_x.shape"
   ]
  },
  {
   "cell_type": "code",
   "execution_count": null,
   "id": "b5f089c9",
   "metadata": {},
   "outputs": [
    {
     "ename": "",
     "evalue": "",
     "output_type": "error",
     "traceback": [
      "\u001b[1;31mRunning cells with 'Python 3.8.12 64-bit ('inflation-env')' requires ipykernel package.\n",
      "\u001b[1;31mRun the following command to install 'ipykernel' into the Python environment. \n",
      "\u001b[1;31mCommand: '/Users/gwh/.pyenv/versions/3.8.12/envs/inflation-env/bin/python -m pip install ipykernel -U --force-reinstall'"
     ]
    }
   ],
   "source": [
    "X_val1_x = expand_dims(X_val1, -2)\n",
    "X_val1_x.shape"
   ]
  },
  {
   "cell_type": "code",
   "execution_count": null,
   "id": "2be4a046",
   "metadata": {},
   "outputs": [
    {
     "ename": "",
     "evalue": "",
     "output_type": "error",
     "traceback": [
      "\u001b[1;31mRunning cells with 'Python 3.8.12 64-bit ('inflation-env')' requires ipykernel package.\n",
      "\u001b[1;31mRun the following command to install 'ipykernel' into the Python environment. \n",
      "\u001b[1;31mCommand: '/Users/gwh/.pyenv/versions/3.8.12/envs/inflation-env/bin/python -m pip install ipykernel -U --force-reinstall'"
     ]
    }
   ],
   "source": [
    "lr_scheduler = ExponentialDecay(initial_learning_rate=0.001, decay_steps= 10_000, decay_rate=0.7)\n",
    "adam = Adam(learning_rate=lr_scheduler)\n",
    "es = EarlyStopping(patience=50, restore_best_weights=True)"
   ]
  },
  {
   "cell_type": "code",
   "execution_count": null,
   "id": "d497234c",
   "metadata": {},
   "outputs": [
    {
     "ename": "",
     "evalue": "",
     "output_type": "error",
     "traceback": [
      "\u001b[1;31mRunning cells with 'Python 3.8.12 64-bit ('inflation-env')' requires ipykernel package.\n",
      "\u001b[1;31mRun the following command to install 'ipykernel' into the Python environment. \n",
      "\u001b[1;31mCommand: '/Users/gwh/.pyenv/versions/3.8.12/envs/inflation-env/bin/python -m pip install ipykernel -U --force-reinstall'"
     ]
    }
   ],
   "source": [
    "normalizer = Normalization()\n",
    "normalizer.adapt(X_train1_x)\n",
    "\n",
    "model2 = Sequential()\n",
    "model2.add(normalizer)\n",
    "\n",
    "model2.add(LSTM(units = 100, activation='tanh', return_sequences = True))\n",
    "model2.add(LSTM(units = 50 , activation='tanh', return_sequences = False))\n",
    "\n",
    "model2.add(Flatten())\n",
    "\n",
    "model2.add(Dense(100,activation =  'relu'))\n",
    "model2.add(Dense(50,activation =  'relu'))\n",
    "model2.add(Dense(25,activation =  'relu'))\n",
    "\n",
    "model2.add(Dense(1, activation = 'linear'))\n",
    "\n",
    "model2.summary()"
   ]
  },
  {
   "cell_type": "code",
   "execution_count": null,
   "id": "5c2ba558",
   "metadata": {},
   "outputs": [
    {
     "ename": "",
     "evalue": "",
     "output_type": "error",
     "traceback": [
      "\u001b[1;31mRunning cells with 'Python 3.8.12 64-bit ('inflation-env')' requires ipykernel package.\n",
      "\u001b[1;31mRun the following command to install 'ipykernel' into the Python environment. \n",
      "\u001b[1;31mCommand: '/Users/gwh/.pyenv/versions/3.8.12/envs/inflation-env/bin/python -m pip install ipykernel -U --force-reinstall'"
     ]
    }
   ],
   "source": [
    "model2.compile(loss= mape, optimizer= adam, metrics=['mape'])"
   ]
  },
  {
   "cell_type": "code",
   "execution_count": null,
   "id": "4a6d9c66",
   "metadata": {
    "scrolled": true
   },
   "outputs": [
    {
     "ename": "",
     "evalue": "",
     "output_type": "error",
     "traceback": [
      "\u001b[1;31mRunning cells with 'Python 3.8.12 64-bit ('inflation-env')' requires ipykernel package.\n",
      "\u001b[1;31mRun the following command to install 'ipykernel' into the Python environment. \n",
      "\u001b[1;31mCommand: '/Users/gwh/.pyenv/versions/3.8.12/envs/inflation-env/bin/python -m pip install ipykernel -U --force-reinstall'"
     ]
    }
   ],
   "source": [
    "model2.fit(X_train1_x, y_train1,batch_size = 32, validation_data=(X_val1_x, y_val1), epochs=10000, callbacks = (es))"
   ]
  },
  {
   "cell_type": "code",
   "execution_count": null,
   "id": "5b0b4d1b",
   "metadata": {},
   "outputs": [
    {
     "ename": "",
     "evalue": "",
     "output_type": "error",
     "traceback": [
      "\u001b[1;31mRunning cells with 'Python 3.8.12 64-bit ('inflation-env')' requires ipykernel package.\n",
      "\u001b[1;31mRun the following command to install 'ipykernel' into the Python environment. \n",
      "\u001b[1;31mCommand: '/Users/gwh/.pyenv/versions/3.8.12/envs/inflation-env/bin/python -m pip install ipykernel -U --force-reinstall'"
     ]
    }
   ],
   "source": [
    "test_prediction1 = list(model2.predict(X_test1_x))"
   ]
  },
  {
   "cell_type": "code",
   "execution_count": null,
   "id": "d690b1b9",
   "metadata": {},
   "outputs": [
    {
     "ename": "",
     "evalue": "",
     "output_type": "error",
     "traceback": [
      "\u001b[1;31mRunning cells with 'Python 3.8.12 64-bit ('inflation-env')' requires ipykernel package.\n",
      "\u001b[1;31mRun the following command to install 'ipykernel' into the Python environment. \n",
      "\u001b[1;31mCommand: '/Users/gwh/.pyenv/versions/3.8.12/envs/inflation-env/bin/python -m pip install ipykernel -U --force-reinstall'"
     ]
    }
   ],
   "source": [
    "test_results1 = pd.DataFrame(columns = ['test_predictions', 'test_actual'])\n",
    "\n",
    "#train_predictions\n",
    "\n",
    "test_results1['date'] = list(y_test1.index)\n",
    "test_results1['test_predictions'] = [x[0] for x in test_prediction1]\n",
    "test_results1['test_actual'] = list(y_test1)"
   ]
  },
  {
   "cell_type": "code",
   "execution_count": null,
   "id": "e0dc679d",
   "metadata": {},
   "outputs": [
    {
     "ename": "",
     "evalue": "",
     "output_type": "error",
     "traceback": [
      "\u001b[1;31mRunning cells with 'Python 3.8.12 64-bit ('inflation-env')' requires ipykernel package.\n",
      "\u001b[1;31mRun the following command to install 'ipykernel' into the Python environment. \n",
      "\u001b[1;31mCommand: '/Users/gwh/.pyenv/versions/3.8.12/envs/inflation-env/bin/python -m pip install ipykernel -U --force-reinstall'"
     ]
    }
   ],
   "source": [
    "test_results1"
   ]
  },
  {
   "cell_type": "code",
   "execution_count": null,
   "id": "b8f1acea",
   "metadata": {},
   "outputs": [
    {
     "ename": "",
     "evalue": "",
     "output_type": "error",
     "traceback": [
      "\u001b[1;31mRunning cells with 'Python 3.8.12 64-bit ('inflation-env')' requires ipykernel package.\n",
      "\u001b[1;31mRun the following command to install 'ipykernel' into the Python environment. \n",
      "\u001b[1;31mCommand: '/Users/gwh/.pyenv/versions/3.8.12/envs/inflation-env/bin/python -m pip install ipykernel -U --force-reinstall'"
     ]
    }
   ],
   "source": [
    "test_results1.set_index('date', inplace=True)"
   ]
  },
  {
   "cell_type": "code",
   "execution_count": null,
   "id": "af5b124b",
   "metadata": {},
   "outputs": [
    {
     "ename": "",
     "evalue": "",
     "output_type": "error",
     "traceback": [
      "\u001b[1;31mRunning cells with 'Python 3.8.12 64-bit ('inflation-env')' requires ipykernel package.\n",
      "\u001b[1;31mRun the following command to install 'ipykernel' into the Python environment. \n",
      "\u001b[1;31mCommand: '/Users/gwh/.pyenv/versions/3.8.12/envs/inflation-env/bin/python -m pip install ipykernel -U --force-reinstall'"
     ]
    }
   ],
   "source": [
    "plt.plot(y)\n",
    "plt.plot(test_results1['test_predictions'], label='prediction')\n",
    "plt.plot(test_results1['test_actual'], label='actual')\n",
    "plt.title('2018-19 Inflation Prediciton')\n",
    "plt.legend()"
   ]
  },
  {
   "cell_type": "markdown",
   "id": "41e9e976",
   "metadata": {},
   "source": [
    "# LSTM 2019-2020"
   ]
  },
  {
   "cell_type": "code",
   "execution_count": null,
   "id": "63b216b4",
   "metadata": {},
   "outputs": [
    {
     "ename": "",
     "evalue": "",
     "output_type": "error",
     "traceback": [
      "\u001b[1;31mRunning cells with 'Python 3.8.12 64-bit ('inflation-env')' requires ipykernel package.\n",
      "\u001b[1;31mRun the following command to install 'ipykernel' into the Python environment. \n",
      "\u001b[1;31mCommand: '/Users/gwh/.pyenv/versions/3.8.12/envs/inflation-env/bin/python -m pip install ipykernel -U --force-reinstall'"
     ]
    }
   ],
   "source": [
    "X_train2, y_train2 = X[:96], y[:96]\n",
    "X_val2, y_val2 = X[96:120], y[96:120]\n",
    "X_test2, y_test2 = X[120:132], y[120:132]\n",
    "X_train2.shape, y_train2.shape, X_val2.shape, y_val2.shape, X_test2.shape, y_test2.shape"
   ]
  },
  {
   "cell_type": "code",
   "execution_count": null,
   "id": "d4b3277b",
   "metadata": {},
   "outputs": [
    {
     "ename": "",
     "evalue": "",
     "output_type": "error",
     "traceback": [
      "\u001b[1;31mRunning cells with 'Python 3.8.12 64-bit ('inflation-env')' requires ipykernel package.\n",
      "\u001b[1;31mRun the following command to install 'ipykernel' into the Python environment. \n",
      "\u001b[1;31mCommand: '/Users/gwh/.pyenv/versions/3.8.12/envs/inflation-env/bin/python -m pip install ipykernel -U --force-reinstall'"
     ]
    }
   ],
   "source": [
    "y_train2_x = expand_dims(y_train2, -1)\n",
    "y_train2_x = expand_dims(y_train2_x, -1)\n",
    "\n",
    "y_train2_x.shape"
   ]
  },
  {
   "cell_type": "code",
   "execution_count": null,
   "id": "0ee7b678",
   "metadata": {},
   "outputs": [
    {
     "ename": "",
     "evalue": "",
     "output_type": "error",
     "traceback": [
      "\u001b[1;31mRunning cells with 'Python 3.8.12 64-bit ('inflation-env')' requires ipykernel package.\n",
      "\u001b[1;31mRun the following command to install 'ipykernel' into the Python environment. \n",
      "\u001b[1;31mCommand: '/Users/gwh/.pyenv/versions/3.8.12/envs/inflation-env/bin/python -m pip install ipykernel -U --force-reinstall'"
     ]
    }
   ],
   "source": [
    "y_val2_x = expand_dims(y_val2, -1)\n",
    "y_val2_x = expand_dims(y_val2_x, -1)"
   ]
  },
  {
   "cell_type": "code",
   "execution_count": null,
   "id": "fd11d667",
   "metadata": {},
   "outputs": [
    {
     "ename": "",
     "evalue": "",
     "output_type": "error",
     "traceback": [
      "\u001b[1;31mRunning cells with 'Python 3.8.12 64-bit ('inflation-env')' requires ipykernel package.\n",
      "\u001b[1;31mRun the following command to install 'ipykernel' into the Python environment. \n",
      "\u001b[1;31mCommand: '/Users/gwh/.pyenv/versions/3.8.12/envs/inflation-env/bin/python -m pip install ipykernel -U --force-reinstall'"
     ]
    }
   ],
   "source": [
    "X_test2_x = expand_dims(X_test2, -2)"
   ]
  },
  {
   "cell_type": "code",
   "execution_count": null,
   "id": "7ac9ffae",
   "metadata": {},
   "outputs": [
    {
     "ename": "",
     "evalue": "",
     "output_type": "error",
     "traceback": [
      "\u001b[1;31mRunning cells with 'Python 3.8.12 64-bit ('inflation-env')' requires ipykernel package.\n",
      "\u001b[1;31mRun the following command to install 'ipykernel' into the Python environment. \n",
      "\u001b[1;31mCommand: '/Users/gwh/.pyenv/versions/3.8.12/envs/inflation-env/bin/python -m pip install ipykernel -U --force-reinstall'"
     ]
    }
   ],
   "source": [
    "X_train2_x = expand_dims(X_train2, -2)\n",
    "X_train2_x.shape"
   ]
  },
  {
   "cell_type": "code",
   "execution_count": null,
   "id": "c2c87f6b",
   "metadata": {},
   "outputs": [
    {
     "ename": "",
     "evalue": "",
     "output_type": "error",
     "traceback": [
      "\u001b[1;31mRunning cells with 'Python 3.8.12 64-bit ('inflation-env')' requires ipykernel package.\n",
      "\u001b[1;31mRun the following command to install 'ipykernel' into the Python environment. \n",
      "\u001b[1;31mCommand: '/Users/gwh/.pyenv/versions/3.8.12/envs/inflation-env/bin/python -m pip install ipykernel -U --force-reinstall'"
     ]
    }
   ],
   "source": [
    "X_val2_x = expand_dims(X_val2, -2)\n",
    "X_val2_x.shape"
   ]
  },
  {
   "cell_type": "code",
   "execution_count": null,
   "id": "84e55cfa",
   "metadata": {},
   "outputs": [
    {
     "ename": "",
     "evalue": "",
     "output_type": "error",
     "traceback": [
      "\u001b[1;31mRunning cells with 'Python 3.8.12 64-bit ('inflation-env')' requires ipykernel package.\n",
      "\u001b[1;31mRun the following command to install 'ipykernel' into the Python environment. \n",
      "\u001b[1;31mCommand: '/Users/gwh/.pyenv/versions/3.8.12/envs/inflation-env/bin/python -m pip install ipykernel -U --force-reinstall'"
     ]
    }
   ],
   "source": [
    "normalizer = Normalization()\n",
    "normalizer.adapt(X_train2_x)\n",
    "\n",
    "model3 = Sequential()\n",
    "model3.add(normalizer)\n",
    "\n",
    "model3.add(LSTM(units = 100, activation='tanh', return_sequences = True))\n",
    "model3.add(LSTM(units = 50 , activation='tanh', return_sequences = False))\n",
    "\n",
    "model3.add(Flatten())\n",
    "\n",
    "model3.add(Dense(100,activation =  'relu'))\n",
    "model3.add(Dense(50,activation =  'relu'))\n",
    "model3.add(Dense(25,activation =  'relu'))\n",
    "\n",
    "model3.add(Dense(1, activation = 'linear'))\n",
    "\n",
    "model3.summary()"
   ]
  },
  {
   "cell_type": "code",
   "execution_count": null,
   "id": "580ce27f",
   "metadata": {},
   "outputs": [
    {
     "ename": "",
     "evalue": "",
     "output_type": "error",
     "traceback": [
      "\u001b[1;31mRunning cells with 'Python 3.8.12 64-bit ('inflation-env')' requires ipykernel package.\n",
      "\u001b[1;31mRun the following command to install 'ipykernel' into the Python environment. \n",
      "\u001b[1;31mCommand: '/Users/gwh/.pyenv/versions/3.8.12/envs/inflation-env/bin/python -m pip install ipykernel -U --force-reinstall'"
     ]
    }
   ],
   "source": [
    "model3.compile(loss= mape, optimizer= adam, metrics=['mape'])"
   ]
  },
  {
   "cell_type": "code",
   "execution_count": null,
   "id": "33b2ed2c",
   "metadata": {},
   "outputs": [
    {
     "ename": "",
     "evalue": "",
     "output_type": "error",
     "traceback": [
      "\u001b[1;31mRunning cells with 'Python 3.8.12 64-bit ('inflation-env')' requires ipykernel package.\n",
      "\u001b[1;31mRun the following command to install 'ipykernel' into the Python environment. \n",
      "\u001b[1;31mCommand: '/Users/gwh/.pyenv/versions/3.8.12/envs/inflation-env/bin/python -m pip install ipykernel -U --force-reinstall'"
     ]
    }
   ],
   "source": [
    "model3.fit(X_train2_x, y_train2,batch_size = 32, validation_data=(X_val2_x, y_val2), epochs=10000, callbacks = (es))"
   ]
  },
  {
   "cell_type": "code",
   "execution_count": null,
   "id": "09fabd71",
   "metadata": {},
   "outputs": [
    {
     "ename": "",
     "evalue": "",
     "output_type": "error",
     "traceback": [
      "\u001b[1;31mRunning cells with 'Python 3.8.12 64-bit ('inflation-env')' requires ipykernel package.\n",
      "\u001b[1;31mRun the following command to install 'ipykernel' into the Python environment. \n",
      "\u001b[1;31mCommand: '/Users/gwh/.pyenv/versions/3.8.12/envs/inflation-env/bin/python -m pip install ipykernel -U --force-reinstall'"
     ]
    }
   ],
   "source": [
    "test_prediction2 = list(model3.predict(X_test2_x))\n"
   ]
  },
  {
   "cell_type": "code",
   "execution_count": null,
   "id": "4bbce8f5",
   "metadata": {},
   "outputs": [
    {
     "ename": "",
     "evalue": "",
     "output_type": "error",
     "traceback": [
      "\u001b[1;31mRunning cells with 'Python 3.8.12 64-bit ('inflation-env')' requires ipykernel package.\n",
      "\u001b[1;31mRun the following command to install 'ipykernel' into the Python environment. \n",
      "\u001b[1;31mCommand: '/Users/gwh/.pyenv/versions/3.8.12/envs/inflation-env/bin/python -m pip install ipykernel -U --force-reinstall'"
     ]
    }
   ],
   "source": [
    "test_results2 = pd.DataFrame(columns = ['test_predictions', 'test_actual'])\n",
    "\n",
    "#train_predictions\n",
    "\n",
    "test_results2['date'] = list(y_test2.index)\n",
    "test_results2['test_predictions'] = [x[0] for x in test_prediction2]\n",
    "test_results2['test_actual'] = list(y[120:132])"
   ]
  },
  {
   "cell_type": "code",
   "execution_count": null,
   "id": "0f4efd14",
   "metadata": {},
   "outputs": [
    {
     "ename": "",
     "evalue": "",
     "output_type": "error",
     "traceback": [
      "\u001b[1;31mRunning cells with 'Python 3.8.12 64-bit ('inflation-env')' requires ipykernel package.\n",
      "\u001b[1;31mRun the following command to install 'ipykernel' into the Python environment. \n",
      "\u001b[1;31mCommand: '/Users/gwh/.pyenv/versions/3.8.12/envs/inflation-env/bin/python -m pip install ipykernel -U --force-reinstall'"
     ]
    }
   ],
   "source": [
    "test_results2.set_index('date', inplace=True)"
   ]
  },
  {
   "cell_type": "code",
   "execution_count": null,
   "id": "a204ba54",
   "metadata": {},
   "outputs": [
    {
     "ename": "",
     "evalue": "",
     "output_type": "error",
     "traceback": [
      "\u001b[1;31mRunning cells with 'Python 3.8.12 64-bit ('inflation-env')' requires ipykernel package.\n",
      "\u001b[1;31mRun the following command to install 'ipykernel' into the Python environment. \n",
      "\u001b[1;31mCommand: '/Users/gwh/.pyenv/versions/3.8.12/envs/inflation-env/bin/python -m pip install ipykernel -U --force-reinstall'"
     ]
    }
   ],
   "source": [
    "plt.plot(y)\n",
    "plt.plot(test_results2['test_predictions'], label='prediction')\n",
    "plt.plot(test_results2['test_actual'], label='actual')\n",
    "plt.title('2019-20 Inflation Prediciton')\n",
    "plt.legend()\n",
    "#plt.savefig('LSTM_2019-20')"
   ]
  },
  {
   "cell_type": "markdown",
   "id": "34885ce3",
   "metadata": {},
   "source": [
    "# LSTM 2020-2021"
   ]
  },
  {
   "cell_type": "code",
   "execution_count": null,
   "id": "3cd9888c",
   "metadata": {},
   "outputs": [
    {
     "ename": "",
     "evalue": "",
     "output_type": "error",
     "traceback": [
      "\u001b[1;31mRunning cells with 'Python 3.8.12 64-bit ('inflation-env')' requires ipykernel package.\n",
      "\u001b[1;31mRun the following command to install 'ipykernel' into the Python environment. \n",
      "\u001b[1;31mCommand: '/Users/gwh/.pyenv/versions/3.8.12/envs/inflation-env/bin/python -m pip install ipykernel -U --force-reinstall'"
     ]
    }
   ],
   "source": [
    "X[132:144]"
   ]
  },
  {
   "cell_type": "code",
   "execution_count": null,
   "id": "6dedc34e",
   "metadata": {},
   "outputs": [
    {
     "ename": "",
     "evalue": "",
     "output_type": "error",
     "traceback": [
      "\u001b[1;31mRunning cells with 'Python 3.8.12 64-bit ('inflation-env')' requires ipykernel package.\n",
      "\u001b[1;31mRun the following command to install 'ipykernel' into the Python environment. \n",
      "\u001b[1;31mCommand: '/Users/gwh/.pyenv/versions/3.8.12/envs/inflation-env/bin/python -m pip install ipykernel -U --force-reinstall'"
     ]
    }
   ],
   "source": [
    "X_train3, y_train3 = X[:108], y[:108]\n",
    "X_val3, y_val3 = X[108:132], y[108:132]\n",
    "X_test3, y_test3 = X[132:144], y[132:144]\n",
    "X_train3.shape, y_train3.shape, X_val3.shape, y_val3.shape, X_test3.shape, y_test3.shape"
   ]
  },
  {
   "cell_type": "code",
   "execution_count": null,
   "id": "e92697e6",
   "metadata": {},
   "outputs": [
    {
     "ename": "",
     "evalue": "",
     "output_type": "error",
     "traceback": [
      "\u001b[1;31mRunning cells with 'Python 3.8.12 64-bit ('inflation-env')' requires ipykernel package.\n",
      "\u001b[1;31mRun the following command to install 'ipykernel' into the Python environment. \n",
      "\u001b[1;31mCommand: '/Users/gwh/.pyenv/versions/3.8.12/envs/inflation-env/bin/python -m pip install ipykernel -U --force-reinstall'"
     ]
    }
   ],
   "source": [
    "y_train3_x = expand_dims(y_train3, -1)\n",
    "y_train3_x = expand_dims(y_train3_x, -1)\n",
    "\n",
    "y_train3_x.shape"
   ]
  },
  {
   "cell_type": "code",
   "execution_count": null,
   "id": "067fc805",
   "metadata": {},
   "outputs": [
    {
     "ename": "",
     "evalue": "",
     "output_type": "error",
     "traceback": [
      "\u001b[1;31mRunning cells with 'Python 3.8.12 64-bit ('inflation-env')' requires ipykernel package.\n",
      "\u001b[1;31mRun the following command to install 'ipykernel' into the Python environment. \n",
      "\u001b[1;31mCommand: '/Users/gwh/.pyenv/versions/3.8.12/envs/inflation-env/bin/python -m pip install ipykernel -U --force-reinstall'"
     ]
    }
   ],
   "source": [
    "y_val3_x = expand_dims(y_val3, -1)\n",
    "y_val3_x = expand_dims(y_val3_x, -1)"
   ]
  },
  {
   "cell_type": "code",
   "execution_count": null,
   "id": "02e1405c",
   "metadata": {},
   "outputs": [
    {
     "ename": "",
     "evalue": "",
     "output_type": "error",
     "traceback": [
      "\u001b[1;31mRunning cells with 'Python 3.8.12 64-bit ('inflation-env')' requires ipykernel package.\n",
      "\u001b[1;31mRun the following command to install 'ipykernel' into the Python environment. \n",
      "\u001b[1;31mCommand: '/Users/gwh/.pyenv/versions/3.8.12/envs/inflation-env/bin/python -m pip install ipykernel -U --force-reinstall'"
     ]
    }
   ],
   "source": [
    "X_test3_x = expand_dims(X_test3, -2)"
   ]
  },
  {
   "cell_type": "code",
   "execution_count": null,
   "id": "b020473f",
   "metadata": {},
   "outputs": [
    {
     "ename": "",
     "evalue": "",
     "output_type": "error",
     "traceback": [
      "\u001b[1;31mRunning cells with 'Python 3.8.12 64-bit ('inflation-env')' requires ipykernel package.\n",
      "\u001b[1;31mRun the following command to install 'ipykernel' into the Python environment. \n",
      "\u001b[1;31mCommand: '/Users/gwh/.pyenv/versions/3.8.12/envs/inflation-env/bin/python -m pip install ipykernel -U --force-reinstall'"
     ]
    }
   ],
   "source": [
    "X_train3_x = expand_dims(X_train3, -2)\n",
    "X_train3_x.shape"
   ]
  },
  {
   "cell_type": "code",
   "execution_count": null,
   "id": "58f0e2f8",
   "metadata": {},
   "outputs": [
    {
     "ename": "",
     "evalue": "",
     "output_type": "error",
     "traceback": [
      "\u001b[1;31mRunning cells with 'Python 3.8.12 64-bit ('inflation-env')' requires ipykernel package.\n",
      "\u001b[1;31mRun the following command to install 'ipykernel' into the Python environment. \n",
      "\u001b[1;31mCommand: '/Users/gwh/.pyenv/versions/3.8.12/envs/inflation-env/bin/python -m pip install ipykernel -U --force-reinstall'"
     ]
    }
   ],
   "source": [
    "X_val3_x = expand_dims(X_val3, -2)\n",
    "X_val3_x.shape"
   ]
  },
  {
   "cell_type": "code",
   "execution_count": null,
   "id": "8fc5c1ff",
   "metadata": {},
   "outputs": [
    {
     "ename": "",
     "evalue": "",
     "output_type": "error",
     "traceback": [
      "\u001b[1;31mRunning cells with 'Python 3.8.12 64-bit ('inflation-env')' requires ipykernel package.\n",
      "\u001b[1;31mRun the following command to install 'ipykernel' into the Python environment. \n",
      "\u001b[1;31mCommand: '/Users/gwh/.pyenv/versions/3.8.12/envs/inflation-env/bin/python -m pip install ipykernel -U --force-reinstall'"
     ]
    }
   ],
   "source": [
    "normalizer = Normalization()\n",
    "normalizer.adapt(X_train3_x)\n",
    "\n",
    "model4 = Sequential()\n",
    "model4.add(normalizer)\n",
    "\n",
    "model4.add(LSTM(units = 100, activation='tanh', return_sequences = True))\n",
    "model4.add(LSTM(units = 50 , activation='tanh', return_sequences = False))\n",
    "\n",
    "model4.add(Flatten())\n",
    "\n",
    "model4.add(Dense(100,activation =  'relu'))\n",
    "model4.add(Dense(50,activation =  'relu'))\n",
    "model4.add(Dense(25,activation =  'relu'))\n",
    "\n",
    "model4.add(Dense(1, activation = 'linear'))\n",
    "\n",
    "model4.summary()"
   ]
  },
  {
   "cell_type": "code",
   "execution_count": null,
   "id": "6c41f32c",
   "metadata": {},
   "outputs": [
    {
     "ename": "",
     "evalue": "",
     "output_type": "error",
     "traceback": [
      "\u001b[1;31mRunning cells with 'Python 3.8.12 64-bit ('inflation-env')' requires ipykernel package.\n",
      "\u001b[1;31mRun the following command to install 'ipykernel' into the Python environment. \n",
      "\u001b[1;31mCommand: '/Users/gwh/.pyenv/versions/3.8.12/envs/inflation-env/bin/python -m pip install ipykernel -U --force-reinstall'"
     ]
    }
   ],
   "source": [
    "model4.compile(loss= mape, optimizer= adam, metrics=['mape'])"
   ]
  },
  {
   "cell_type": "code",
   "execution_count": null,
   "id": "027dd637",
   "metadata": {},
   "outputs": [
    {
     "ename": "",
     "evalue": "",
     "output_type": "error",
     "traceback": [
      "\u001b[1;31mRunning cells with 'Python 3.8.12 64-bit ('inflation-env')' requires ipykernel package.\n",
      "\u001b[1;31mRun the following command to install 'ipykernel' into the Python environment. \n",
      "\u001b[1;31mCommand: '/Users/gwh/.pyenv/versions/3.8.12/envs/inflation-env/bin/python -m pip install ipykernel -U --force-reinstall'"
     ]
    }
   ],
   "source": [
    "model4.fit(X_train3_x, y_train3,batch_size = 32, validation_data=(X_val3_x, y_val3), epochs=10000, callbacks = (es))"
   ]
  },
  {
   "cell_type": "code",
   "execution_count": null,
   "id": "07841331",
   "metadata": {},
   "outputs": [
    {
     "ename": "",
     "evalue": "",
     "output_type": "error",
     "traceback": [
      "\u001b[1;31mRunning cells with 'Python 3.8.12 64-bit ('inflation-env')' requires ipykernel package.\n",
      "\u001b[1;31mRun the following command to install 'ipykernel' into the Python environment. \n",
      "\u001b[1;31mCommand: '/Users/gwh/.pyenv/versions/3.8.12/envs/inflation-env/bin/python -m pip install ipykernel -U --force-reinstall'"
     ]
    }
   ],
   "source": [
    "test_prediction3 = list(model4.predict(X_test3_x))\n"
   ]
  },
  {
   "cell_type": "code",
   "execution_count": null,
   "id": "71092688",
   "metadata": {},
   "outputs": [
    {
     "ename": "",
     "evalue": "",
     "output_type": "error",
     "traceback": [
      "\u001b[1;31mRunning cells with 'Python 3.8.12 64-bit ('inflation-env')' requires ipykernel package.\n",
      "\u001b[1;31mRun the following command to install 'ipykernel' into the Python environment. \n",
      "\u001b[1;31mCommand: '/Users/gwh/.pyenv/versions/3.8.12/envs/inflation-env/bin/python -m pip install ipykernel -U --force-reinstall'"
     ]
    }
   ],
   "source": [
    "test_results3 = pd.DataFrame(columns = ['test_predictions', 'test_actual'])\n",
    "\n",
    "#train_predictions\n",
    "\n",
    "test_results3['date'] = list(y_test3.index)\n",
    "test_results3['test_predictions'] = [x[0] for x in test_prediction3]\n",
    "test_results3['test_actual'] = list(y_test3)"
   ]
  },
  {
   "cell_type": "code",
   "execution_count": null,
   "id": "082bc6a8",
   "metadata": {},
   "outputs": [
    {
     "ename": "",
     "evalue": "",
     "output_type": "error",
     "traceback": [
      "\u001b[1;31mRunning cells with 'Python 3.8.12 64-bit ('inflation-env')' requires ipykernel package.\n",
      "\u001b[1;31mRun the following command to install 'ipykernel' into the Python environment. \n",
      "\u001b[1;31mCommand: '/Users/gwh/.pyenv/versions/3.8.12/envs/inflation-env/bin/python -m pip install ipykernel -U --force-reinstall'"
     ]
    }
   ],
   "source": [
    "test_results3.set_index('date', inplace=True)"
   ]
  },
  {
   "cell_type": "code",
   "execution_count": null,
   "id": "b4f22575",
   "metadata": {},
   "outputs": [
    {
     "ename": "",
     "evalue": "",
     "output_type": "error",
     "traceback": [
      "\u001b[1;31mRunning cells with 'Python 3.8.12 64-bit ('inflation-env')' requires ipykernel package.\n",
      "\u001b[1;31mRun the following command to install 'ipykernel' into the Python environment. \n",
      "\u001b[1;31mCommand: '/Users/gwh/.pyenv/versions/3.8.12/envs/inflation-env/bin/python -m pip install ipykernel -U --force-reinstall'"
     ]
    }
   ],
   "source": [
    "plt.plot(y)\n",
    "plt.plot(test_results3['test_predictions'], label='prediction')\n",
    "plt.plot(test_results3['test_actual'], label='actual')\n",
    "plt.title('2020-21 Inflation Prediciton')\n",
    "plt.legend()\n",
    "plt.savefig('LSTM_2020-21')"
   ]
  },
  {
   "cell_type": "markdown",
   "id": "f8088958",
   "metadata": {},
   "source": [
    "# LSTM 2021-2022"
   ]
  },
  {
   "cell_type": "code",
   "execution_count": null,
   "id": "0c2be476",
   "metadata": {},
   "outputs": [
    {
     "ename": "",
     "evalue": "",
     "output_type": "error",
     "traceback": [
      "\u001b[1;31mRunning cells with 'Python 3.8.12 64-bit ('inflation-env')' requires ipykernel package.\n",
      "\u001b[1;31mRun the following command to install 'ipykernel' into the Python environment. \n",
      "\u001b[1;31mCommand: '/Users/gwh/.pyenv/versions/3.8.12/envs/inflation-env/bin/python -m pip install ipykernel -U --force-reinstall'"
     ]
    }
   ],
   "source": [
    "X[:165]"
   ]
  },
  {
   "cell_type": "code",
   "execution_count": null,
   "id": "41840571",
   "metadata": {},
   "outputs": [
    {
     "ename": "",
     "evalue": "",
     "output_type": "error",
     "traceback": [
      "\u001b[1;31mRunning cells with 'Python 3.8.12 64-bit ('inflation-env')' requires ipykernel package.\n",
      "\u001b[1;31mRun the following command to install 'ipykernel' into the Python environment. \n",
      "\u001b[1;31mCommand: '/Users/gwh/.pyenv/versions/3.8.12/envs/inflation-env/bin/python -m pip install ipykernel -U --force-reinstall'"
     ]
    }
   ],
   "source": [
    "X_train4, y_train4 = X[:132], y[:132]\n",
    "X_val4, y_val4 = X[132:156], y[132:156]\n",
    "X_test4, y_test4 = X[156:165], y[156:165]\n",
    "X_train4.shape, y_train4.shape, X_val4.shape, y_val4.shape, X_test4.shape, y_test4.shape"
   ]
  },
  {
   "cell_type": "code",
   "execution_count": null,
   "id": "ddf855cf",
   "metadata": {},
   "outputs": [
    {
     "ename": "",
     "evalue": "",
     "output_type": "error",
     "traceback": [
      "\u001b[1;31mRunning cells with 'Python 3.8.12 64-bit ('inflation-env')' requires ipykernel package.\n",
      "\u001b[1;31mRun the following command to install 'ipykernel' into the Python environment. \n",
      "\u001b[1;31mCommand: '/Users/gwh/.pyenv/versions/3.8.12/envs/inflation-env/bin/python -m pip install ipykernel -U --force-reinstall'"
     ]
    }
   ],
   "source": [
    "y_train4_x = expand_dims(y_train4, -1)\n",
    "y_train4_x = expand_dims(y_train4_x, -1)\n",
    "\n",
    "y_train4_x.shape"
   ]
  },
  {
   "cell_type": "code",
   "execution_count": null,
   "id": "7dfc5a8c",
   "metadata": {},
   "outputs": [
    {
     "ename": "",
     "evalue": "",
     "output_type": "error",
     "traceback": [
      "\u001b[1;31mRunning cells with 'Python 3.8.12 64-bit ('inflation-env')' requires ipykernel package.\n",
      "\u001b[1;31mRun the following command to install 'ipykernel' into the Python environment. \n",
      "\u001b[1;31mCommand: '/Users/gwh/.pyenv/versions/3.8.12/envs/inflation-env/bin/python -m pip install ipykernel -U --force-reinstall'"
     ]
    }
   ],
   "source": [
    "y_val4_x = expand_dims(y_val4, -1)\n",
    "y_val4_x = expand_dims(y_val4_x, -1)"
   ]
  },
  {
   "cell_type": "code",
   "execution_count": null,
   "id": "47704ba5",
   "metadata": {},
   "outputs": [
    {
     "ename": "",
     "evalue": "",
     "output_type": "error",
     "traceback": [
      "\u001b[1;31mRunning cells with 'Python 3.8.12 64-bit ('inflation-env')' requires ipykernel package.\n",
      "\u001b[1;31mRun the following command to install 'ipykernel' into the Python environment. \n",
      "\u001b[1;31mCommand: '/Users/gwh/.pyenv/versions/3.8.12/envs/inflation-env/bin/python -m pip install ipykernel -U --force-reinstall'"
     ]
    }
   ],
   "source": [
    "X_test4_x = expand_dims(X_test4, -2)"
   ]
  },
  {
   "cell_type": "code",
   "execution_count": null,
   "id": "7486696b",
   "metadata": {},
   "outputs": [
    {
     "ename": "",
     "evalue": "",
     "output_type": "error",
     "traceback": [
      "\u001b[1;31mRunning cells with 'Python 3.8.12 64-bit ('inflation-env')' requires ipykernel package.\n",
      "\u001b[1;31mRun the following command to install 'ipykernel' into the Python environment. \n",
      "\u001b[1;31mCommand: '/Users/gwh/.pyenv/versions/3.8.12/envs/inflation-env/bin/python -m pip install ipykernel -U --force-reinstall'"
     ]
    }
   ],
   "source": [
    "X_train4_x = expand_dims(X_train4, -2)\n",
    "X_train4_x.shape"
   ]
  },
  {
   "cell_type": "code",
   "execution_count": null,
   "id": "c493176e",
   "metadata": {},
   "outputs": [
    {
     "ename": "",
     "evalue": "",
     "output_type": "error",
     "traceback": [
      "\u001b[1;31mRunning cells with 'Python 3.8.12 64-bit ('inflation-env')' requires ipykernel package.\n",
      "\u001b[1;31mRun the following command to install 'ipykernel' into the Python environment. \n",
      "\u001b[1;31mCommand: '/Users/gwh/.pyenv/versions/3.8.12/envs/inflation-env/bin/python -m pip install ipykernel -U --force-reinstall'"
     ]
    }
   ],
   "source": [
    "X_val4_x = expand_dims(X_val4, -2)\n",
    "X_val4_x.shape"
   ]
  },
  {
   "cell_type": "code",
   "execution_count": null,
   "id": "4ba8aa7c",
   "metadata": {},
   "outputs": [
    {
     "ename": "",
     "evalue": "",
     "output_type": "error",
     "traceback": [
      "\u001b[1;31mRunning cells with 'Python 3.8.12 64-bit ('inflation-env')' requires ipykernel package.\n",
      "\u001b[1;31mRun the following command to install 'ipykernel' into the Python environment. \n",
      "\u001b[1;31mCommand: '/Users/gwh/.pyenv/versions/3.8.12/envs/inflation-env/bin/python -m pip install ipykernel -U --force-reinstall'"
     ]
    }
   ],
   "source": [
    "normalizer = Normalization()\n",
    "normalizer.adapt(X_train4_x)\n",
    "\n",
    "model5 = Sequential()\n",
    "model5.add(normalizer)\n",
    "\n",
    "model5.add(LSTM(units = 100, activation='tanh', return_sequences = True))\n",
    "model5.add(LSTM(units = 50 , activation='tanh', return_sequences = False))\n",
    "\n",
    "model5.add(Flatten())\n",
    "\n",
    "model5.add(Dense(100,activation =  'relu'))\n",
    "model5.add(Dense(50,activation =  'relu'))\n",
    "model5.add(Dense(25,activation =  'relu'))\n",
    "\n",
    "model5.add(Dense(1, activation = 'linear'))\n",
    "\n",
    "model5.summary()"
   ]
  },
  {
   "cell_type": "code",
   "execution_count": null,
   "id": "67848a3f",
   "metadata": {},
   "outputs": [
    {
     "ename": "",
     "evalue": "",
     "output_type": "error",
     "traceback": [
      "\u001b[1;31mRunning cells with 'Python 3.8.12 64-bit ('inflation-env')' requires ipykernel package.\n",
      "\u001b[1;31mRun the following command to install 'ipykernel' into the Python environment. \n",
      "\u001b[1;31mCommand: '/Users/gwh/.pyenv/versions/3.8.12/envs/inflation-env/bin/python -m pip install ipykernel -U --force-reinstall'"
     ]
    }
   ],
   "source": [
    "model5.compile(loss= mape, optimizer= adam, metrics=['mape'])"
   ]
  },
  {
   "cell_type": "code",
   "execution_count": null,
   "id": "dd764ee8",
   "metadata": {},
   "outputs": [
    {
     "ename": "",
     "evalue": "",
     "output_type": "error",
     "traceback": [
      "\u001b[1;31mRunning cells with 'Python 3.8.12 64-bit ('inflation-env')' requires ipykernel package.\n",
      "\u001b[1;31mRun the following command to install 'ipykernel' into the Python environment. \n",
      "\u001b[1;31mCommand: '/Users/gwh/.pyenv/versions/3.8.12/envs/inflation-env/bin/python -m pip install ipykernel -U --force-reinstall'"
     ]
    }
   ],
   "source": [
    "model5.fit(X_train4_x, y_train4,batch_size = 32, validation_data=(X_val4_x, y_val4), epochs=10000, callbacks = (es))"
   ]
  },
  {
   "cell_type": "code",
   "execution_count": null,
   "id": "b225f8b3",
   "metadata": {},
   "outputs": [
    {
     "ename": "",
     "evalue": "",
     "output_type": "error",
     "traceback": [
      "\u001b[1;31mRunning cells with 'Python 3.8.12 64-bit ('inflation-env')' requires ipykernel package.\n",
      "\u001b[1;31mRun the following command to install 'ipykernel' into the Python environment. \n",
      "\u001b[1;31mCommand: '/Users/gwh/.pyenv/versions/3.8.12/envs/inflation-env/bin/python -m pip install ipykernel -U --force-reinstall'"
     ]
    }
   ],
   "source": [
    "test_prediction4 = list(model5.predict(X_test4_x))\n",
    "test_prediction4\n"
   ]
  },
  {
   "cell_type": "code",
   "execution_count": null,
   "id": "e7b509a8",
   "metadata": {},
   "outputs": [
    {
     "ename": "",
     "evalue": "",
     "output_type": "error",
     "traceback": [
      "\u001b[1;31mRunning cells with 'Python 3.8.12 64-bit ('inflation-env')' requires ipykernel package.\n",
      "\u001b[1;31mRun the following command to install 'ipykernel' into the Python environment. \n",
      "\u001b[1;31mCommand: '/Users/gwh/.pyenv/versions/3.8.12/envs/inflation-env/bin/python -m pip install ipykernel -U --force-reinstall'"
     ]
    }
   ],
   "source": [
    "test_results4 = pd.DataFrame(columns = ['test_predictions', 'test_actual'])\n",
    "\n",
    "#train_predictions\n",
    "\n",
    "test_results4['date'] = list(y_test4.index)\n",
    "test_results4['test_predictions'] = [x[0] for x in test_prediction4]\n",
    "test_results4['test_actual'] = list(y_test4)"
   ]
  },
  {
   "cell_type": "code",
   "execution_count": null,
   "id": "34a9405c",
   "metadata": {},
   "outputs": [
    {
     "ename": "",
     "evalue": "",
     "output_type": "error",
     "traceback": [
      "\u001b[1;31mRunning cells with 'Python 3.8.12 64-bit ('inflation-env')' requires ipykernel package.\n",
      "\u001b[1;31mRun the following command to install 'ipykernel' into the Python environment. \n",
      "\u001b[1;31mCommand: '/Users/gwh/.pyenv/versions/3.8.12/envs/inflation-env/bin/python -m pip install ipykernel -U --force-reinstall'"
     ]
    }
   ],
   "source": [
    "test_results4.set_index('date', inplace=True)"
   ]
  },
  {
   "cell_type": "code",
   "execution_count": null,
   "id": "57248026",
   "metadata": {},
   "outputs": [
    {
     "ename": "",
     "evalue": "",
     "output_type": "error",
     "traceback": [
      "\u001b[1;31mRunning cells with 'Python 3.8.12 64-bit ('inflation-env')' requires ipykernel package.\n",
      "\u001b[1;31mRun the following command to install 'ipykernel' into the Python environment. \n",
      "\u001b[1;31mCommand: '/Users/gwh/.pyenv/versions/3.8.12/envs/inflation-env/bin/python -m pip install ipykernel -U --force-reinstall'"
     ]
    }
   ],
   "source": [
    "plt.plot(y)\n",
    "plt.plot(test_results4['test_predictions'], label='prediction')\n",
    "plt.plot(test_results4['test_actual'], label='actual')\n",
    "plt.title('2021-22 Inflation Prediciton')\n",
    "plt.legend()"
   ]
  },
  {
   "cell_type": "markdown",
   "id": "f045b47c",
   "metadata": {},
   "source": [
    "# LSTM 2022-"
   ]
  },
  {
   "cell_type": "code",
   "execution_count": null,
   "id": "e7335f02",
   "metadata": {},
   "outputs": [
    {
     "ename": "",
     "evalue": "",
     "output_type": "error",
     "traceback": [
      "\u001b[1;31mRunning cells with 'Python 3.8.12 64-bit ('inflation-env')' requires ipykernel package.\n",
      "\u001b[1;31mRun the following command to install 'ipykernel' into the Python environment. \n",
      "\u001b[1;31mCommand: '/Users/gwh/.pyenv/versions/3.8.12/envs/inflation-env/bin/python -m pip install ipykernel -U --force-reinstall'"
     ]
    }
   ],
   "source": [
    "X[159:165]"
   ]
  },
  {
   "cell_type": "code",
   "execution_count": null,
   "id": "bd78f99d",
   "metadata": {},
   "outputs": [
    {
     "ename": "",
     "evalue": "",
     "output_type": "error",
     "traceback": [
      "\u001b[1;31mRunning cells with 'Python 3.8.12 64-bit ('inflation-env')' requires ipykernel package.\n",
      "\u001b[1;31mRun the following command to install 'ipykernel' into the Python environment. \n",
      "\u001b[1;31mCommand: '/Users/gwh/.pyenv/versions/3.8.12/envs/inflation-env/bin/python -m pip install ipykernel -U --force-reinstall'"
     ]
    }
   ],
   "source": [
    "X_train5, y_train5 = X[:156], y[:156]\n",
    "X_val5, y_val5 = X[156:163], y[156:163]\n",
    "X_test5, y_test5 = X[163:164], y[163:164]\n",
    "X_train5.shape, y_train5.shape, X_val5.shape, y_val5.shape, X_test5.shape, y_test5.shape"
   ]
  },
  {
   "cell_type": "code",
   "execution_count": null,
   "id": "afda4a36",
   "metadata": {},
   "outputs": [
    {
     "ename": "",
     "evalue": "",
     "output_type": "error",
     "traceback": [
      "\u001b[1;31mRunning cells with 'Python 3.8.12 64-bit ('inflation-env')' requires ipykernel package.\n",
      "\u001b[1;31mRun the following command to install 'ipykernel' into the Python environment. \n",
      "\u001b[1;31mCommand: '/Users/gwh/.pyenv/versions/3.8.12/envs/inflation-env/bin/python -m pip install ipykernel -U --force-reinstall'"
     ]
    }
   ],
   "source": [
    "y_train5_x = expand_dims(y_train5, -1)\n",
    "y_train5_x = expand_dims(y_train5_x, -1)\n",
    "\n",
    "y_train5_x.shape"
   ]
  },
  {
   "cell_type": "code",
   "execution_count": null,
   "id": "57c31f87",
   "metadata": {},
   "outputs": [
    {
     "ename": "",
     "evalue": "",
     "output_type": "error",
     "traceback": [
      "\u001b[1;31mRunning cells with 'Python 3.8.12 64-bit ('inflation-env')' requires ipykernel package.\n",
      "\u001b[1;31mRun the following command to install 'ipykernel' into the Python environment. \n",
      "\u001b[1;31mCommand: '/Users/gwh/.pyenv/versions/3.8.12/envs/inflation-env/bin/python -m pip install ipykernel -U --force-reinstall'"
     ]
    }
   ],
   "source": [
    "y_val5_x = expand_dims(y_val5, -1)\n",
    "y_val5_x = expand_dims(y_val5_x, -1)"
   ]
  },
  {
   "cell_type": "code",
   "execution_count": null,
   "id": "a21c658f",
   "metadata": {},
   "outputs": [
    {
     "ename": "",
     "evalue": "",
     "output_type": "error",
     "traceback": [
      "\u001b[1;31mRunning cells with 'Python 3.8.12 64-bit ('inflation-env')' requires ipykernel package.\n",
      "\u001b[1;31mRun the following command to install 'ipykernel' into the Python environment. \n",
      "\u001b[1;31mCommand: '/Users/gwh/.pyenv/versions/3.8.12/envs/inflation-env/bin/python -m pip install ipykernel -U --force-reinstall'"
     ]
    }
   ],
   "source": [
    "X_test5_x = expand_dims(X_test5, -2)"
   ]
  },
  {
   "cell_type": "code",
   "execution_count": null,
   "id": "7dc332a3",
   "metadata": {},
   "outputs": [
    {
     "ename": "",
     "evalue": "",
     "output_type": "error",
     "traceback": [
      "\u001b[1;31mRunning cells with 'Python 3.8.12 64-bit ('inflation-env')' requires ipykernel package.\n",
      "\u001b[1;31mRun the following command to install 'ipykernel' into the Python environment. \n",
      "\u001b[1;31mCommand: '/Users/gwh/.pyenv/versions/3.8.12/envs/inflation-env/bin/python -m pip install ipykernel -U --force-reinstall'"
     ]
    }
   ],
   "source": [
    "X_train5_x = expand_dims(X_train5, -2)\n",
    "X_train5_x.shape"
   ]
  },
  {
   "cell_type": "code",
   "execution_count": null,
   "id": "dbc08d66",
   "metadata": {},
   "outputs": [
    {
     "ename": "",
     "evalue": "",
     "output_type": "error",
     "traceback": [
      "\u001b[1;31mRunning cells with 'Python 3.8.12 64-bit ('inflation-env')' requires ipykernel package.\n",
      "\u001b[1;31mRun the following command to install 'ipykernel' into the Python environment. \n",
      "\u001b[1;31mCommand: '/Users/gwh/.pyenv/versions/3.8.12/envs/inflation-env/bin/python -m pip install ipykernel -U --force-reinstall'"
     ]
    }
   ],
   "source": [
    "X_val5_x = expand_dims(X_val5, -2)\n",
    "X_val5_x.shape"
   ]
  },
  {
   "cell_type": "code",
   "execution_count": null,
   "id": "2810e13e",
   "metadata": {},
   "outputs": [
    {
     "ename": "",
     "evalue": "",
     "output_type": "error",
     "traceback": [
      "\u001b[1;31mRunning cells with 'Python 3.8.12 64-bit ('inflation-env')' requires ipykernel package.\n",
      "\u001b[1;31mRun the following command to install 'ipykernel' into the Python environment. \n",
      "\u001b[1;31mCommand: '/Users/gwh/.pyenv/versions/3.8.12/envs/inflation-env/bin/python -m pip install ipykernel -U --force-reinstall'"
     ]
    }
   ],
   "source": [
    "normalizer = Normalization()\n",
    "normalizer.adapt(X_train5_x)\n",
    "\n",
    "model6 = Sequential()\n",
    "model6.add(normalizer)\n",
    "\n",
    "model6.add(LSTM(units = 110, activation='tanh', return_sequences = True))\n",
    "model6.add(LSTM(units = 50 , activation='tanh', return_sequences = False))\n",
    "\n",
    "model6.add(Flatten())\n",
    "\n",
    "model6.add(Dense(100,activation =  'relu'))\n",
    "model6.add(Dense(50,activation =  'relu'))\n",
    "model6.add(Dense(25,activation =  'relu'))\n",
    "model6.add(Dense(25,activation =  'relu'))\n",
    "model6.add(Dense(12,activation =  'relu'))\n",
    "\n",
    "\n",
    "\n",
    "\n",
    "model6.add(Dense(1, activation = 'linear'))\n",
    "\n",
    "model6.summary()"
   ]
  },
  {
   "cell_type": "code",
   "execution_count": null,
   "id": "46dbaac8",
   "metadata": {},
   "outputs": [
    {
     "ename": "",
     "evalue": "",
     "output_type": "error",
     "traceback": [
      "\u001b[1;31mRunning cells with 'Python 3.8.12 64-bit ('inflation-env')' requires ipykernel package.\n",
      "\u001b[1;31mRun the following command to install 'ipykernel' into the Python environment. \n",
      "\u001b[1;31mCommand: '/Users/gwh/.pyenv/versions/3.8.12/envs/inflation-env/bin/python -m pip install ipykernel -U --force-reinstall'"
     ]
    }
   ],
   "source": [
    "model6.compile(loss= mape, optimizer= adam, metrics=['mape'])"
   ]
  },
  {
   "cell_type": "code",
   "execution_count": null,
   "id": "6d46ee29",
   "metadata": {},
   "outputs": [
    {
     "ename": "",
     "evalue": "",
     "output_type": "error",
     "traceback": [
      "\u001b[1;31mRunning cells with 'Python 3.8.12 64-bit ('inflation-env')' requires ipykernel package.\n",
      "\u001b[1;31mRun the following command to install 'ipykernel' into the Python environment. \n",
      "\u001b[1;31mCommand: '/Users/gwh/.pyenv/versions/3.8.12/envs/inflation-env/bin/python -m pip install ipykernel -U --force-reinstall'"
     ]
    }
   ],
   "source": [
    "model6.fit(X_train5_x, y_train5, batch_size = 16, validation_data=(X_val5_x, y_val5), epochs=10000, callbacks = (es))"
   ]
  },
  {
   "cell_type": "code",
   "execution_count": null,
   "id": "53016cb9",
   "metadata": {},
   "outputs": [
    {
     "ename": "",
     "evalue": "",
     "output_type": "error",
     "traceback": [
      "\u001b[1;31mRunning cells with 'Python 3.8.12 64-bit ('inflation-env')' requires ipykernel package.\n",
      "\u001b[1;31mRun the following command to install 'ipykernel' into the Python environment. \n",
      "\u001b[1;31mCommand: '/Users/gwh/.pyenv/versions/3.8.12/envs/inflation-env/bin/python -m pip install ipykernel -U --force-reinstall'"
     ]
    }
   ],
   "source": [
    "test_prediction5 = list(model6.predict(X_test5_x))\n"
   ]
  },
  {
   "cell_type": "code",
   "execution_count": null,
   "id": "a2d4d12e",
   "metadata": {},
   "outputs": [
    {
     "ename": "",
     "evalue": "",
     "output_type": "error",
     "traceback": [
      "\u001b[1;31mRunning cells with 'Python 3.8.12 64-bit ('inflation-env')' requires ipykernel package.\n",
      "\u001b[1;31mRun the following command to install 'ipykernel' into the Python environment. \n",
      "\u001b[1;31mCommand: '/Users/gwh/.pyenv/versions/3.8.12/envs/inflation-env/bin/python -m pip install ipykernel -U --force-reinstall'"
     ]
    }
   ],
   "source": [
    "test_prediction5"
   ]
  },
  {
   "cell_type": "code",
   "execution_count": null,
   "id": "12ce05bd",
   "metadata": {},
   "outputs": [
    {
     "ename": "",
     "evalue": "",
     "output_type": "error",
     "traceback": [
      "\u001b[1;31mRunning cells with 'Python 3.8.12 64-bit ('inflation-env')' requires ipykernel package.\n",
      "\u001b[1;31mRun the following command to install 'ipykernel' into the Python environment. \n",
      "\u001b[1;31mCommand: '/Users/gwh/.pyenv/versions/3.8.12/envs/inflation-env/bin/python -m pip install ipykernel -U --force-reinstall'"
     ]
    }
   ],
   "source": [
    "y_test5"
   ]
  },
  {
   "cell_type": "code",
   "execution_count": null,
   "id": "af57bc6d",
   "metadata": {},
   "outputs": [
    {
     "ename": "",
     "evalue": "",
     "output_type": "error",
     "traceback": [
      "\u001b[1;31mRunning cells with 'Python 3.8.12 64-bit ('inflation-env')' requires ipykernel package.\n",
      "\u001b[1;31mRun the following command to install 'ipykernel' into the Python environment. \n",
      "\u001b[1;31mCommand: '/Users/gwh/.pyenv/versions/3.8.12/envs/inflation-env/bin/python -m pip install ipykernel -U --force-reinstall'"
     ]
    }
   ],
   "source": [
    "# res = []\n",
    "# for x in range(1):\n",
    "#     val = pd.to_datetime(pd.DataFrame(y).iloc[-x,:0]).name\n",
    "#     res.append(val)"
   ]
  },
  {
   "cell_type": "code",
   "execution_count": null,
   "id": "3fbc3f2d",
   "metadata": {},
   "outputs": [
    {
     "ename": "",
     "evalue": "",
     "output_type": "error",
     "traceback": [
      "\u001b[1;31mRunning cells with 'Python 3.8.12 64-bit ('inflation-env')' requires ipykernel package.\n",
      "\u001b[1;31mRun the following command to install 'ipykernel' into the Python environment. \n",
      "\u001b[1;31mCommand: '/Users/gwh/.pyenv/versions/3.8.12/envs/inflation-env/bin/python -m pip install ipykernel -U --force-reinstall'"
     ]
    }
   ],
   "source": [
    "# res = res[1:]"
   ]
  },
  {
   "cell_type": "code",
   "execution_count": null,
   "id": "95ff3a41",
   "metadata": {},
   "outputs": [
    {
     "ename": "",
     "evalue": "",
     "output_type": "error",
     "traceback": [
      "\u001b[1;31mRunning cells with 'Python 3.8.12 64-bit ('inflation-env')' requires ipykernel package.\n",
      "\u001b[1;31mRun the following command to install 'ipykernel' into the Python environment. \n",
      "\u001b[1;31mCommand: '/Users/gwh/.pyenv/versions/3.8.12/envs/inflation-env/bin/python -m pip install ipykernel -U --force-reinstall'"
     ]
    }
   ],
   "source": [
    "from datetime import datetime, timedelta\n",
    "from dateutil.relativedelta import relativedelta"
   ]
  },
  {
   "cell_type": "code",
   "execution_count": null,
   "id": "0e770047",
   "metadata": {},
   "outputs": [
    {
     "ename": "",
     "evalue": "",
     "output_type": "error",
     "traceback": [
      "\u001b[1;31mRunning cells with 'Python 3.8.12 64-bit ('inflation-env')' requires ipykernel package.\n",
      "\u001b[1;31mRun the following command to install 'ipykernel' into the Python environment. \n",
      "\u001b[1;31mCommand: '/Users/gwh/.pyenv/versions/3.8.12/envs/inflation-env/bin/python -m pip install ipykernel -U --force-reinstall'"
     ]
    }
   ],
   "source": [
    "# list(y_test5[:-1])"
   ]
  },
  {
   "cell_type": "code",
   "execution_count": null,
   "id": "cdd85c11",
   "metadata": {},
   "outputs": [
    {
     "ename": "",
     "evalue": "",
     "output_type": "error",
     "traceback": [
      "\u001b[1;31mRunning cells with 'Python 3.8.12 64-bit ('inflation-env')' requires ipykernel package.\n",
      "\u001b[1;31mRun the following command to install 'ipykernel' into the Python environment. \n",
      "\u001b[1;31mCommand: '/Users/gwh/.pyenv/versions/3.8.12/envs/inflation-env/bin/python -m pip install ipykernel -U --force-reinstall'"
     ]
    }
   ],
   "source": [
    "# future_vals = []\n",
    "# for x in res:\n",
    "#     future_date = x + relativedelta(months=1)\n",
    "#     future_vals.append(future_date)"
   ]
  },
  {
   "cell_type": "code",
   "execution_count": null,
   "id": "2a69b017",
   "metadata": {},
   "outputs": [
    {
     "ename": "",
     "evalue": "",
     "output_type": "error",
     "traceback": [
      "\u001b[1;31mRunning cells with 'Python 3.8.12 64-bit ('inflation-env')' requires ipykernel package.\n",
      "\u001b[1;31mRun the following command to install 'ipykernel' into the Python environment. \n",
      "\u001b[1;31mCommand: '/Users/gwh/.pyenv/versions/3.8.12/envs/inflation-env/bin/python -m pip install ipykernel -U --force-reinstall'"
     ]
    }
   ],
   "source": [
    "# future_vals"
   ]
  },
  {
   "cell_type": "code",
   "execution_count": null,
   "id": "dfe871c7",
   "metadata": {},
   "outputs": [
    {
     "ename": "",
     "evalue": "",
     "output_type": "error",
     "traceback": [
      "\u001b[1;31mRunning cells with 'Python 3.8.12 64-bit ('inflation-env')' requires ipykernel package.\n",
      "\u001b[1;31mRun the following command to install 'ipykernel' into the Python environment. \n",
      "\u001b[1;31mCommand: '/Users/gwh/.pyenv/versions/3.8.12/envs/inflation-env/bin/python -m pip install ipykernel -U --force-reinstall'"
     ]
    }
   ],
   "source": [
    "test_results5 = pd.DataFrame(columns = ['test_predictions', 'test_actual'])\n",
    "\n",
    "#train_predictions\n",
    "\n",
    "test_results5['date'] = y_test5.index\n",
    "test_results5['test_predictions'] = [x[0] for x in test_prediction5]\n",
    "print(test_results5['date'])"
   ]
  },
  {
   "cell_type": "code",
   "execution_count": null,
   "id": "876b16d9",
   "metadata": {},
   "outputs": [
    {
     "ename": "",
     "evalue": "",
     "output_type": "error",
     "traceback": [
      "\u001b[1;31mRunning cells with 'Python 3.8.12 64-bit ('inflation-env')' requires ipykernel package.\n",
      "\u001b[1;31mRun the following command to install 'ipykernel' into the Python environment. \n",
      "\u001b[1;31mCommand: '/Users/gwh/.pyenv/versions/3.8.12/envs/inflation-env/bin/python -m pip install ipykernel -U --force-reinstall'"
     ]
    }
   ],
   "source": [
    "test_results5.set_index('date', inplace=True)"
   ]
  },
  {
   "cell_type": "code",
   "execution_count": null,
   "id": "35eb299f",
   "metadata": {},
   "outputs": [
    {
     "ename": "",
     "evalue": "",
     "output_type": "error",
     "traceback": [
      "\u001b[1;31mRunning cells with 'Python 3.8.12 64-bit ('inflation-env')' requires ipykernel package.\n",
      "\u001b[1;31mRun the following command to install 'ipykernel' into the Python environment. \n",
      "\u001b[1;31mCommand: '/Users/gwh/.pyenv/versions/3.8.12/envs/inflation-env/bin/python -m pip install ipykernel -U --force-reinstall'"
     ]
    }
   ],
   "source": []
  },
  {
   "cell_type": "code",
   "execution_count": null,
   "id": "1824c0f4",
   "metadata": {},
   "outputs": [
    {
     "ename": "",
     "evalue": "",
     "output_type": "error",
     "traceback": [
      "\u001b[1;31mRunning cells with 'Python 3.8.12 64-bit ('inflation-env')' requires ipykernel package.\n",
      "\u001b[1;31mRun the following command to install 'ipykernel' into the Python environment. \n",
      "\u001b[1;31mCommand: '/Users/gwh/.pyenv/versions/3.8.12/envs/inflation-env/bin/python -m pip install ipykernel -U --force-reinstall'"
     ]
    }
   ],
   "source": [
    "plt.plot(y, label='RPI')\n",
    "plt.scatter([y_test5.index], test_results5['test_predictions'], label='prediction')\n",
    "plt.title('2022-2023 Inflation Prediciton')\n",
    "plt.legend()\n",
    "#plt.savefig('LSTM_Pred_5th_run')"
   ]
  },
  {
   "cell_type": "code",
   "execution_count": null,
   "id": "8e131ee0",
   "metadata": {},
   "outputs": [
    {
     "ename": "",
     "evalue": "",
     "output_type": "error",
     "traceback": [
      "\u001b[1;31mRunning cells with 'Python 3.8.12 64-bit ('inflation-env')' requires ipykernel package.\n",
      "\u001b[1;31mRun the following command to install 'ipykernel' into the Python environment. \n",
      "\u001b[1;31mCommand: '/Users/gwh/.pyenv/versions/3.8.12/envs/inflation-env/bin/python -m pip install ipykernel -U --force-reinstall'"
     ]
    }
   ],
   "source": [
    "!pwd\n"
   ]
  },
  {
   "cell_type": "code",
   "execution_count": null,
   "id": "69ff8a43",
   "metadata": {},
   "outputs": [
    {
     "ename": "",
     "evalue": "",
     "output_type": "error",
     "traceback": [
      "\u001b[1;31mRunning cells with 'Python 3.8.12 64-bit ('inflation-env')' requires ipykernel package.\n",
      "\u001b[1;31mRun the following command to install 'ipykernel' into the Python environment. \n",
      "\u001b[1;31mCommand: '/Users/gwh/.pyenv/versions/3.8.12/envs/inflation-env/bin/python -m pip install ipykernel -U --force-reinstall'"
     ]
    }
   ],
   "source": [
    "model6.save('../data/time_series_final_pred.h5')"
   ]
  },
  {
   "cell_type": "code",
   "execution_count": null,
   "id": "1e0289dc",
   "metadata": {},
   "outputs": [
    {
     "ename": "",
     "evalue": "",
     "output_type": "error",
     "traceback": [
      "\u001b[1;31mRunning cells with 'Python 3.8.12 64-bit ('inflation-env')' requires ipykernel package.\n",
      "\u001b[1;31mRun the following command to install 'ipykernel' into the Python environment. \n",
      "\u001b[1;31mCommand: '/Users/gwh/.pyenv/versions/3.8.12/envs/inflation-env/bin/python -m pip install ipykernel -U --force-reinstall'"
     ]
    }
   ],
   "source": [
    "fig, ax = plt.subplots()\n",
    "ax.plot(y, label = 'RPI')\n",
    "ax.scatter([y_test5.index], test_results5['test_predictions'], label='prediction')\n",
    "ax.set_title('Inflation Prediciton')\n",
    "ax.legend()\n",
    "fig.show()"
   ]
  },
  {
   "cell_type": "code",
   "execution_count": null,
   "id": "489fa784",
   "metadata": {},
   "outputs": [
    {
     "ename": "",
     "evalue": "",
     "output_type": "error",
     "traceback": [
      "\u001b[1;31mRunning cells with 'Python 3.8.12 64-bit ('inflation-env')' requires ipykernel package.\n",
      "\u001b[1;31mRun the following command to install 'ipykernel' into the Python environment. \n",
      "\u001b[1;31mCommand: '/Users/gwh/.pyenv/versions/3.8.12/envs/inflation-env/bin/python -m pip install ipykernel -U --force-reinstall'"
     ]
    }
   ],
   "source": []
  }
 ],
 "metadata": {
  "kernelspec": {
   "display_name": "Python 3 (ipykernel)",
   "language": "python",
   "name": "python3"
  },
  "language_info": {
   "codemirror_mode": {
    "name": "ipython",
    "version": 3
   },
   "file_extension": ".py",
   "mimetype": "text/x-python",
   "name": "python",
   "nbconvert_exporter": "python",
   "pygments_lexer": "ipython3",
   "version": "3.8.12"
  },
  "toc": {
   "base_numbering": 1,
   "nav_menu": {},
   "number_sections": true,
   "sideBar": true,
   "skip_h1_title": false,
   "title_cell": "Table of Contents",
   "title_sidebar": "Contents",
   "toc_cell": false,
   "toc_position": {},
   "toc_section_display": true,
   "toc_window_display": false
  },
  "vscode": {
   "interpreter": {
    "hash": "b1ba3e2aeddfbbd89edcc7aa36b2358f60b0994b16064def9ca2a7d8e106369a"
   }
  }
 },
 "nbformat": 4,
 "nbformat_minor": 5
}
