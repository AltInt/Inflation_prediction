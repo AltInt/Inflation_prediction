{
 "cells": [
  {
   "cell_type": "code",
   "execution_count": 93,
   "id": "eb228b63",
   "metadata": {},
   "outputs": [],
   "source": [
    "import pandas as pd\n",
    "import numpy as np\n",
    "import matplotlib.pyplot as plt\n",
    "import seaborn as sns"
   ]
  },
  {
   "cell_type": "code",
   "execution_count": 65,
   "id": "564b5359",
   "metadata": {},
   "outputs": [],
   "source": [
    "path = 'raw_data/final_df.csv'\n",
    "\n",
    "data = pd.read_csv(path)"
   ]
  },
  {
   "cell_type": "code",
   "execution_count": 66,
   "id": "d98269d0",
   "metadata": {},
   "outputs": [],
   "source": [
    "df = data.set_index('Date')"
   ]
  },
  {
   "cell_type": "code",
   "execution_count": 67,
   "id": "b99b2063",
   "metadata": {},
   "outputs": [],
   "source": [
    "df.index = pd.to_datetime(df.index)"
   ]
  },
  {
   "cell_type": "code",
   "execution_count": 68,
   "id": "9610e4f5",
   "metadata": {},
   "outputs": [
    {
     "name": "stdout",
     "output_type": "stream",
     "text": [
      "<class 'pandas.core.frame.DataFrame'>\n",
      "DatetimeIndex: 165 entries, 2009-01-01 to 2022-09-01\n",
      "Data columns (total 14 columns):\n",
      " #   Column           Non-Null Count  Dtype  \n",
      "---  ------           --------------  -----  \n",
      " 0   Brent_Crude_GBP  165 non-null    float64\n",
      " 1   WTI_Crude_GBP    165 non-null    float64\n",
      " 2   GBP Curncy       165 non-null    float64\n",
      " 3   GBPEUR Curncy    165 non-null    float64\n",
      " 4   UKX Index        165 non-null    float64\n",
      " 5   SPX Index        165 non-null    float64\n",
      " 6   SX5E Index       165 non-null    float64\n",
      " 7   Natural_Gas      165 non-null    float64\n",
      " 8   CPI              163 non-null    float64\n",
      " 9   RPI              163 non-null    float64\n",
      " 10  GBP_IRS_2y       165 non-null    float64\n",
      " 11  GBP_IRS_10y      165 non-null    float64\n",
      " 12  Nationwide_HPI   164 non-null    float64\n",
      " 13  RPI YOY          163 non-null    float64\n",
      "dtypes: float64(14)\n",
      "memory usage: 19.3 KB\n"
     ]
    }
   ],
   "source": [
    "df.info()"
   ]
  },
  {
   "cell_type": "code",
   "execution_count": 69,
   "id": "ed52a2ae",
   "metadata": {},
   "outputs": [
    {
     "data": {
      "text/html": [
       "<div>\n",
       "<style scoped>\n",
       "    .dataframe tbody tr th:only-of-type {\n",
       "        vertical-align: middle;\n",
       "    }\n",
       "\n",
       "    .dataframe tbody tr th {\n",
       "        vertical-align: top;\n",
       "    }\n",
       "\n",
       "    .dataframe thead th {\n",
       "        text-align: right;\n",
       "    }\n",
       "</style>\n",
       "<table border=\"1\" class=\"dataframe\">\n",
       "  <thead>\n",
       "    <tr style=\"text-align: right;\">\n",
       "      <th></th>\n",
       "      <th>Brent_Crude_GBP</th>\n",
       "      <th>WTI_Crude_GBP</th>\n",
       "      <th>GBP Curncy</th>\n",
       "      <th>GBPEUR Curncy</th>\n",
       "      <th>UKX Index</th>\n",
       "      <th>SPX Index</th>\n",
       "      <th>SX5E Index</th>\n",
       "      <th>Natural_Gas</th>\n",
       "      <th>CPI</th>\n",
       "      <th>RPI</th>\n",
       "      <th>GBP_IRS_2y</th>\n",
       "      <th>GBP_IRS_10y</th>\n",
       "      <th>Nationwide_HPI</th>\n",
       "      <th>RPI YOY</th>\n",
       "    </tr>\n",
       "    <tr>\n",
       "      <th>Date</th>\n",
       "      <th></th>\n",
       "      <th></th>\n",
       "      <th></th>\n",
       "      <th></th>\n",
       "      <th></th>\n",
       "      <th></th>\n",
       "      <th></th>\n",
       "      <th></th>\n",
       "      <th></th>\n",
       "      <th></th>\n",
       "      <th></th>\n",
       "      <th></th>\n",
       "      <th></th>\n",
       "      <th></th>\n",
       "    </tr>\n",
       "  </thead>\n",
       "  <tbody>\n",
       "    <tr>\n",
       "      <th>2009-01-01</th>\n",
       "      <td>30.903838</td>\n",
       "      <td>33.424333</td>\n",
       "      <td>1.479027</td>\n",
       "      <td>1.099905</td>\n",
       "      <td>4308.390000</td>\n",
       "      <td>596.071497</td>\n",
       "      <td>2135.982324</td>\n",
       "      <td>12.472805</td>\n",
       "      <td>84.9</td>\n",
       "      <td>210.1</td>\n",
       "      <td>2.122545</td>\n",
       "      <td>3.757500</td>\n",
       "      <td>300.2</td>\n",
       "      <td>0.142993</td>\n",
       "    </tr>\n",
       "    <tr>\n",
       "      <th>2009-02-01</th>\n",
       "      <td>29.393166</td>\n",
       "      <td>33.617553</td>\n",
       "      <td>1.492643</td>\n",
       "      <td>1.120824</td>\n",
       "      <td>4232.114762</td>\n",
       "      <td>570.410394</td>\n",
       "      <td>2020.716905</td>\n",
       "      <td>9.467866</td>\n",
       "      <td>85.6</td>\n",
       "      <td>211.4</td>\n",
       "      <td>2.129905</td>\n",
       "      <td>3.798333</td>\n",
       "      <td>294.7</td>\n",
       "      <td>0.000000</td>\n",
       "    </tr>\n",
       "    <tr>\n",
       "      <th>2009-03-01</th>\n",
       "      <td>31.733352</td>\n",
       "      <td>36.826152</td>\n",
       "      <td>1.494241</td>\n",
       "      <td>1.097877</td>\n",
       "      <td>4107.840909</td>\n",
       "      <td>566.393975</td>\n",
       "      <td>2029.160819</td>\n",
       "      <td>8.064295</td>\n",
       "      <td>85.8</td>\n",
       "      <td>211.3</td>\n",
       "      <td>2.142045</td>\n",
       "      <td>3.872500</td>\n",
       "      <td>301.1</td>\n",
       "      <td>-0.377181</td>\n",
       "    </tr>\n",
       "    <tr>\n",
       "      <th>2009-04-01</th>\n",
       "      <td>33.990786</td>\n",
       "      <td>36.012519</td>\n",
       "      <td>1.511936</td>\n",
       "      <td>1.125327</td>\n",
       "      <td>4259.890500</td>\n",
       "      <td>588.042125</td>\n",
       "      <td>2119.383029</td>\n",
       "      <td>7.762397</td>\n",
       "      <td>86.0</td>\n",
       "      <td>211.5</td>\n",
       "      <td>2.143250</td>\n",
       "      <td>3.935500</td>\n",
       "      <td>302.9</td>\n",
       "      <td>-1.168224</td>\n",
       "    </tr>\n",
       "    <tr>\n",
       "      <th>2009-05-01</th>\n",
       "      <td>37.524515</td>\n",
       "      <td>38.801542</td>\n",
       "      <td>1.561252</td>\n",
       "      <td>1.131686</td>\n",
       "      <td>4434.719500</td>\n",
       "      <td>582.718727</td>\n",
       "      <td>2164.120107</td>\n",
       "      <td>7.757394</td>\n",
       "      <td>86.4</td>\n",
       "      <td>212.8</td>\n",
       "      <td>2.031900</td>\n",
       "      <td>3.917500</td>\n",
       "      <td>307.2</td>\n",
       "      <td>-1.069270</td>\n",
       "    </tr>\n",
       "    <tr>\n",
       "      <th>...</th>\n",
       "      <td>...</td>\n",
       "      <td>...</td>\n",
       "      <td>...</td>\n",
       "      <td>...</td>\n",
       "      <td>...</td>\n",
       "      <td>...</td>\n",
       "      <td>...</td>\n",
       "      <td>...</td>\n",
       "      <td>...</td>\n",
       "      <td>...</td>\n",
       "      <td>...</td>\n",
       "      <td>...</td>\n",
       "      <td>...</td>\n",
       "      <td>...</td>\n",
       "    </tr>\n",
       "    <tr>\n",
       "      <th>2022-05-01</th>\n",
       "      <td>89.748267</td>\n",
       "      <td>85.128666</td>\n",
       "      <td>1.247484</td>\n",
       "      <td>1.178074</td>\n",
       "      <td>7472.767778</td>\n",
       "      <td>3274.256696</td>\n",
       "      <td>3179.554466</td>\n",
       "      <td>81.073170</td>\n",
       "      <td>120.8</td>\n",
       "      <td>337.1</td>\n",
       "      <td>2.538121</td>\n",
       "      <td>2.240542</td>\n",
       "      <td>538.4</td>\n",
       "      <td>11.659490</td>\n",
       "    </tr>\n",
       "    <tr>\n",
       "      <th>2022-06-01</th>\n",
       "      <td>95.251442</td>\n",
       "      <td>87.836565</td>\n",
       "      <td>1.233611</td>\n",
       "      <td>1.167758</td>\n",
       "      <td>7238.188421</td>\n",
       "      <td>3172.340166</td>\n",
       "      <td>3058.969505</td>\n",
       "      <td>96.746393</td>\n",
       "      <td>121.8</td>\n",
       "      <td>340.0</td>\n",
       "      <td>2.933563</td>\n",
       "      <td>2.626558</td>\n",
       "      <td>541.8</td>\n",
       "      <td>11.842105</td>\n",
       "    </tr>\n",
       "    <tr>\n",
       "      <th>2022-07-01</th>\n",
       "      <td>85.363871</td>\n",
       "      <td>80.415504</td>\n",
       "      <td>1.231479</td>\n",
       "      <td>1.184589</td>\n",
       "      <td>7303.865263</td>\n",
       "      <td>3298.689210</td>\n",
       "      <td>3082.959231</td>\n",
       "      <td>128.688654</td>\n",
       "      <td>122.5</td>\n",
       "      <td>343.2</td>\n",
       "      <td>2.700779</td>\n",
       "      <td>2.302258</td>\n",
       "      <td>541.0</td>\n",
       "      <td>12.340426</td>\n",
       "    </tr>\n",
       "    <tr>\n",
       "      <th>2022-08-01</th>\n",
       "      <td>80.656541</td>\n",
       "      <td>78.913331</td>\n",
       "      <td>1.211816</td>\n",
       "      <td>1.181732</td>\n",
       "      <td>7453.987222</td>\n",
       "      <td>3446.779300</td>\n",
       "      <td>3131.457852</td>\n",
       "      <td>180.082147</td>\n",
       "      <td>NaN</td>\n",
       "      <td>NaN</td>\n",
       "      <td>3.368889</td>\n",
       "      <td>2.688500</td>\n",
       "      <td>546.1</td>\n",
       "      <td>NaN</td>\n",
       "    </tr>\n",
       "    <tr>\n",
       "      <th>2022-09-01</th>\n",
       "      <td>73.474167</td>\n",
       "      <td>80.706056</td>\n",
       "      <td>1.272420</td>\n",
       "      <td>1.180400</td>\n",
       "      <td>7403.016000</td>\n",
       "      <td>3300.260920</td>\n",
       "      <td>3208.537784</td>\n",
       "      <td>93.341821</td>\n",
       "      <td>NaN</td>\n",
       "      <td>NaN</td>\n",
       "      <td>2.475340</td>\n",
       "      <td>2.155940</td>\n",
       "      <td>NaN</td>\n",
       "      <td>NaN</td>\n",
       "    </tr>\n",
       "  </tbody>\n",
       "</table>\n",
       "<p>165 rows × 14 columns</p>\n",
       "</div>"
      ],
      "text/plain": [
       "            Brent_Crude_GBP  WTI_Crude_GBP  GBP Curncy  GBPEUR Curncy  \\\n",
       "Date                                                                    \n",
       "2009-01-01        30.903838      33.424333    1.479027       1.099905   \n",
       "2009-02-01        29.393166      33.617553    1.492643       1.120824   \n",
       "2009-03-01        31.733352      36.826152    1.494241       1.097877   \n",
       "2009-04-01        33.990786      36.012519    1.511936       1.125327   \n",
       "2009-05-01        37.524515      38.801542    1.561252       1.131686   \n",
       "...                     ...            ...         ...            ...   \n",
       "2022-05-01        89.748267      85.128666    1.247484       1.178074   \n",
       "2022-06-01        95.251442      87.836565    1.233611       1.167758   \n",
       "2022-07-01        85.363871      80.415504    1.231479       1.184589   \n",
       "2022-08-01        80.656541      78.913331    1.211816       1.181732   \n",
       "2022-09-01        73.474167      80.706056    1.272420       1.180400   \n",
       "\n",
       "              UKX Index    SPX Index   SX5E Index  Natural_Gas    CPI    RPI  \\\n",
       "Date                                                                           \n",
       "2009-01-01  4308.390000   596.071497  2135.982324    12.472805   84.9  210.1   \n",
       "2009-02-01  4232.114762   570.410394  2020.716905     9.467866   85.6  211.4   \n",
       "2009-03-01  4107.840909   566.393975  2029.160819     8.064295   85.8  211.3   \n",
       "2009-04-01  4259.890500   588.042125  2119.383029     7.762397   86.0  211.5   \n",
       "2009-05-01  4434.719500   582.718727  2164.120107     7.757394   86.4  212.8   \n",
       "...                 ...          ...          ...          ...    ...    ...   \n",
       "2022-05-01  7472.767778  3274.256696  3179.554466    81.073170  120.8  337.1   \n",
       "2022-06-01  7238.188421  3172.340166  3058.969505    96.746393  121.8  340.0   \n",
       "2022-07-01  7303.865263  3298.689210  3082.959231   128.688654  122.5  343.2   \n",
       "2022-08-01  7453.987222  3446.779300  3131.457852   180.082147    NaN    NaN   \n",
       "2022-09-01  7403.016000  3300.260920  3208.537784    93.341821    NaN    NaN   \n",
       "\n",
       "            GBP_IRS_2y  GBP_IRS_10y  Nationwide_HPI    RPI YOY  \n",
       "Date                                                            \n",
       "2009-01-01    2.122545     3.757500           300.2   0.142993  \n",
       "2009-02-01    2.129905     3.798333           294.7   0.000000  \n",
       "2009-03-01    2.142045     3.872500           301.1  -0.377181  \n",
       "2009-04-01    2.143250     3.935500           302.9  -1.168224  \n",
       "2009-05-01    2.031900     3.917500           307.2  -1.069270  \n",
       "...                ...          ...             ...        ...  \n",
       "2022-05-01    2.538121     2.240542           538.4  11.659490  \n",
       "2022-06-01    2.933563     2.626558           541.8  11.842105  \n",
       "2022-07-01    2.700779     2.302258           541.0  12.340426  \n",
       "2022-08-01    3.368889     2.688500           546.1        NaN  \n",
       "2022-09-01    2.475340     2.155940             NaN        NaN  \n",
       "\n",
       "[165 rows x 14 columns]"
      ]
     },
     "execution_count": 69,
     "metadata": {},
     "output_type": "execute_result"
    }
   ],
   "source": [
    "df"
   ]
  },
  {
   "cell_type": "markdown",
   "id": "8ebe204c",
   "metadata": {},
   "source": [
    "# XGBOOST"
   ]
  },
  {
   "cell_type": "code",
   "execution_count": 70,
   "id": "afc22130",
   "metadata": {},
   "outputs": [],
   "source": [
    "import xgboost as xgb\n",
    "from xgboost import plot_importance, plot_tree\n",
    "from sklearn.metrics import mean_squared_error, mean_absolute_error\n",
    "plt.style.use('seaborn-whitegrid')"
   ]
  },
  {
   "cell_type": "code",
   "execution_count": 71,
   "id": "169ee63a",
   "metadata": {},
   "outputs": [],
   "source": [
    "### We are only considering time after the stock market crash. Hence, the \"split_date\"\n",
    "\n",
    "cutoff_date = \"2022-07-01\"\n",
    "XGB_df = df.loc[df.index <= cutoff_date].copy()"
   ]
  },
  {
   "cell_type": "code",
   "execution_count": 72,
   "id": "6d643bf9",
   "metadata": {},
   "outputs": [
    {
     "data": {
      "text/plain": [
       "Brent_Crude_GBP    0\n",
       "WTI_Crude_GBP      0\n",
       "GBP Curncy         0\n",
       "GBPEUR Curncy      0\n",
       "UKX Index          0\n",
       "SPX Index          0\n",
       "SX5E Index         0\n",
       "Natural_Gas        0\n",
       "CPI                0\n",
       "RPI                0\n",
       "GBP_IRS_2y         0\n",
       "GBP_IRS_10y        0\n",
       "Nationwide_HPI     0\n",
       "RPI YOY            0\n",
       "dtype: int64"
      ]
     },
     "execution_count": 72,
     "metadata": {},
     "output_type": "execute_result"
    }
   ],
   "source": [
    "XGB_df.isna().sum()"
   ]
  },
  {
   "cell_type": "code",
   "execution_count": 73,
   "id": "af25914f",
   "metadata": {},
   "outputs": [
    {
     "data": {
      "image/png": "[encoded data removed]",
      "text/plain": [
       "<Figure size 1080x360 with 1 Axes>"
      ]
     },
     "metadata": {},
     "output_type": "display_data"
    }
   ],
   "source": [
    "_ = XGB_df.plot( figsize=(15,5), title='Time-series data of all index')\n",
    "plt.legend(loc='best')\n",
    "plt.yscale('log')"
   ]
  },
  {
   "cell_type": "markdown",
   "id": "bb8e4972",
   "metadata": {},
   "source": [
    "## Train test split"
   ]
  },
  {
   "cell_type": "code",
   "execution_count": 74,
   "id": "6fe2a488",
   "metadata": {},
   "outputs": [],
   "source": [
    "XGB_train = XGB_df.iloc[:84]\n",
    "XGB_test = XGB_df.iloc[84:]"
   ]
  },
  {
   "cell_type": "code",
   "execution_count": 75,
   "id": "b78a1951",
   "metadata": {
    "scrolled": false
   },
   "outputs": [
    {
     "data": {
      "image/png": "[encoded data removed]",
      "text/plain": [
       "<Figure size 432x288 with 1 Axes>"
      ]
     },
     "metadata": {},
     "output_type": "display_data"
    }
   ],
   "source": [
    "plt.plot(XGB_train)\n",
    "plt.plot(XGB_test)\n",
    "plt.yscale('log')"
   ]
  },
  {
   "cell_type": "code",
   "execution_count": 76,
   "id": "1c9d3ba1",
   "metadata": {},
   "outputs": [],
   "source": [
    "# from statsmodels.tsa.seasonal import seasonal_decompose\n",
    "\n",
    "# TTFG_decomp_train = seasonal_decompose(XGB_train['TTFG1MON Index'],model = 'multiplicative')\n",
    "# TTFG_decomp_test = seasonal_decompose(XGB_test['TTFG1MON Index'],model = 'multiplicative')"
   ]
  },
  {
   "cell_type": "code",
   "execution_count": 77,
   "id": "59cce8f2",
   "metadata": {
    "scrolled": true
   },
   "outputs": [
    {
     "data": {
      "text/plain": [
       "Date\n",
       "2009-01-01    210.1\n",
       "2009-02-01    211.4\n",
       "2009-03-01    211.3\n",
       "2009-04-01    211.5\n",
       "2009-05-01    212.8\n",
       "              ...  \n",
       "2015-08-01    259.8\n",
       "2015-09-01    259.6\n",
       "2015-10-01    259.5\n",
       "2015-11-01    259.8\n",
       "2015-12-01    260.6\n",
       "Name: RPI, Length: 84, dtype: float64"
      ]
     },
     "execution_count": 77,
     "metadata": {},
     "output_type": "execute_result"
    }
   ],
   "source": [
    "XGB_train['RPI']"
   ]
  },
  {
   "cell_type": "code",
   "execution_count": 78,
   "id": "27903e1b",
   "metadata": {},
   "outputs": [],
   "source": [
    "# from statsmodels.tsa.forecasting.stl import STLForecast\n",
    "# from statsmodels.tsa.arima.model import ARIMA\n",
    "\n",
    "# STLF = STLForecast(endog = X_train, model= xgb.XGBRegressor)"
   ]
  },
  {
   "cell_type": "code",
   "execution_count": 79,
   "id": "38a8e2b2",
   "metadata": {},
   "outputs": [],
   "source": [
    "#STLF.fit()"
   ]
  },
  {
   "cell_type": "code",
   "execution_count": 80,
   "id": "e316ca7d",
   "metadata": {},
   "outputs": [],
   "source": [
    "# TTFG_decomp_train.resid.dropna(inplace = True)\n",
    "# TTFG_decomp_test.resid.dropna(inplace = True)"
   ]
  },
  {
   "cell_type": "code",
   "execution_count": 81,
   "id": "07613d48",
   "metadata": {},
   "outputs": [],
   "source": [
    "### Credits to Rob Mulla from Kaggle: https://www.kaggle.com/code/robikscube/tutorial-time-series-forecasting-with-xgboost\n",
    "def create_features(df, label=None):\n",
    "    \"\"\"\n",
    "    Creates time series features from datetime index\n",
    "    \"\"\"\n",
    "    df['date'] = df.index\n",
    "    df['hour'] = df['date'].dt.hour\n",
    "    df['dayofweek'] = df['date'].dt.dayofweek\n",
    "    df['quarter'] = df['date'].dt.quarter\n",
    "    df['month'] = df['date'].dt.month\n",
    "    df['year'] = df['date'].dt.year\n",
    "    df['dayofyear'] = df['date'].dt.dayofyear\n",
    "    df['dayofmonth'] = df['date'].dt.day\n",
    "    df['weekofyear'] = df['date'].dt.weekofyear\n",
    "    \n",
    "    X = df[['quarter','month','year',]]\n",
    "    if label:\n",
    "        y = df[label]\n",
    "        return X, y\n",
    "    return X"
   ]
  },
  {
   "cell_type": "code",
   "execution_count": 82,
   "id": "6cda477b",
   "metadata": {
    "scrolled": true
   },
   "outputs": [
    {
     "name": "stderr",
     "output_type": "stream",
     "text": [
      "/var/folders/wv/znl2vtzn0150xwlyckjyk_kh0000gn/T/ipykernel_5328/4263416481.py:6: SettingWithCopyWarning: \n",
      "A value is trying to be set on a copy of a slice from a DataFrame.\n",
      "Try using .loc[row_indexer,col_indexer] = value instead\n",
      "\n",
      "See the caveats in the documentation: https://pandas.pydata.org/pandas-docs/stable/user_guide/indexing.html#returning-a-view-versus-a-copy\n",
      "  df['date'] = df.index\n",
      "/var/folders/wv/znl2vtzn0150xwlyckjyk_kh0000gn/T/ipykernel_5328/4263416481.py:7: SettingWithCopyWarning: \n",
      "A value is trying to be set on a copy of a slice from a DataFrame.\n",
      "Try using .loc[row_indexer,col_indexer] = value instead\n",
      "\n",
      "See the caveats in the documentation: https://pandas.pydata.org/pandas-docs/stable/user_guide/indexing.html#returning-a-view-versus-a-copy\n",
      "  df['hour'] = df['date'].dt.hour\n",
      "/var/folders/wv/znl2vtzn0150xwlyckjyk_kh0000gn/T/ipykernel_5328/4263416481.py:8: SettingWithCopyWarning: \n",
      "A value is trying to be set on a copy of a slice from a DataFrame.\n",
      "Try using .loc[row_indexer,col_indexer] = value instead\n",
      "\n",
      "See the caveats in the documentation: https://pandas.pydata.org/pandas-docs/stable/user_guide/indexing.html#returning-a-view-versus-a-copy\n",
      "  df['dayofweek'] = df['date'].dt.dayofweek\n",
      "/var/folders/wv/znl2vtzn0150xwlyckjyk_kh0000gn/T/ipykernel_5328/4263416481.py:9: SettingWithCopyWarning: \n",
      "A value is trying to be set on a copy of a slice from a DataFrame.\n",
      "Try using .loc[row_indexer,col_indexer] = value instead\n",
      "\n",
      "See the caveats in the documentation: https://pandas.pydata.org/pandas-docs/stable/user_guide/indexing.html#returning-a-view-versus-a-copy\n",
      "  df['quarter'] = df['date'].dt.quarter\n",
      "/var/folders/wv/znl2vtzn0150xwlyckjyk_kh0000gn/T/ipykernel_5328/4263416481.py:10: SettingWithCopyWarning: \n",
      "A value is trying to be set on a copy of a slice from a DataFrame.\n",
      "Try using .loc[row_indexer,col_indexer] = value instead\n",
      "\n",
      "See the caveats in the documentation: https://pandas.pydata.org/pandas-docs/stable/user_guide/indexing.html#returning-a-view-versus-a-copy\n",
      "  df['month'] = df['date'].dt.month\n",
      "/var/folders/wv/znl2vtzn0150xwlyckjyk_kh0000gn/T/ipykernel_5328/4263416481.py:11: SettingWithCopyWarning: \n",
      "A value is trying to be set on a copy of a slice from a DataFrame.\n",
      "Try using .loc[row_indexer,col_indexer] = value instead\n",
      "\n",
      "See the caveats in the documentation: https://pandas.pydata.org/pandas-docs/stable/user_guide/indexing.html#returning-a-view-versus-a-copy\n",
      "  df['year'] = df['date'].dt.year\n",
      "/var/folders/wv/znl2vtzn0150xwlyckjyk_kh0000gn/T/ipykernel_5328/4263416481.py:12: SettingWithCopyWarning: \n",
      "A value is trying to be set on a copy of a slice from a DataFrame.\n",
      "Try using .loc[row_indexer,col_indexer] = value instead\n",
      "\n",
      "See the caveats in the documentation: https://pandas.pydata.org/pandas-docs/stable/user_guide/indexing.html#returning-a-view-versus-a-copy\n",
      "  df['dayofyear'] = df['date'].dt.dayofyear\n",
      "/var/folders/wv/znl2vtzn0150xwlyckjyk_kh0000gn/T/ipykernel_5328/4263416481.py:13: SettingWithCopyWarning: \n",
      "A value is trying to be set on a copy of a slice from a DataFrame.\n",
      "Try using .loc[row_indexer,col_indexer] = value instead\n",
      "\n",
      "See the caveats in the documentation: https://pandas.pydata.org/pandas-docs/stable/user_guide/indexing.html#returning-a-view-versus-a-copy\n",
      "  df['dayofmonth'] = df['date'].dt.day\n",
      "/var/folders/wv/znl2vtzn0150xwlyckjyk_kh0000gn/T/ipykernel_5328/4263416481.py:14: FutureWarning: Series.dt.weekofyear and Series.dt.week have been deprecated.  Please use Series.dt.isocalendar().week instead.\n",
      "  df['weekofyear'] = df['date'].dt.weekofyear\n",
      "/var/folders/wv/znl2vtzn0150xwlyckjyk_kh0000gn/T/ipykernel_5328/4263416481.py:14: SettingWithCopyWarning: \n",
      "A value is trying to be set on a copy of a slice from a DataFrame.\n",
      "Try using .loc[row_indexer,col_indexer] = value instead\n",
      "\n",
      "See the caveats in the documentation: https://pandas.pydata.org/pandas-docs/stable/user_guide/indexing.html#returning-a-view-versus-a-copy\n",
      "  df['weekofyear'] = df['date'].dt.weekofyear\n"
     ]
    }
   ],
   "source": [
    "X_train,y_train= create_features(XGB_train, label = 'RPI')\n",
    "X_test, y_test = create_features(XGB_test, label = 'RPI')"
   ]
  },
  {
   "cell_type": "code",
   "execution_count": 83,
   "id": "fc6b6664",
   "metadata": {},
   "outputs": [
    {
     "data": {
      "text/html": [
       "<div>\n",
       "<style scoped>\n",
       "    .dataframe tbody tr th:only-of-type {\n",
       "        vertical-align: middle;\n",
       "    }\n",
       "\n",
       "    .dataframe tbody tr th {\n",
       "        vertical-align: top;\n",
       "    }\n",
       "\n",
       "    .dataframe thead th {\n",
       "        text-align: right;\n",
       "    }\n",
       "</style>\n",
       "<table border=\"1\" class=\"dataframe\">\n",
       "  <thead>\n",
       "    <tr style=\"text-align: right;\">\n",
       "      <th></th>\n",
       "      <th>quarter</th>\n",
       "      <th>month</th>\n",
       "      <th>year</th>\n",
       "    </tr>\n",
       "    <tr>\n",
       "      <th>Date</th>\n",
       "      <th></th>\n",
       "      <th></th>\n",
       "      <th></th>\n",
       "    </tr>\n",
       "  </thead>\n",
       "  <tbody>\n",
       "    <tr>\n",
       "      <th>2009-01-01</th>\n",
       "      <td>1</td>\n",
       "      <td>1</td>\n",
       "      <td>2009</td>\n",
       "    </tr>\n",
       "    <tr>\n",
       "      <th>2009-02-01</th>\n",
       "      <td>1</td>\n",
       "      <td>2</td>\n",
       "      <td>2009</td>\n",
       "    </tr>\n",
       "    <tr>\n",
       "      <th>2009-03-01</th>\n",
       "      <td>1</td>\n",
       "      <td>3</td>\n",
       "      <td>2009</td>\n",
       "    </tr>\n",
       "    <tr>\n",
       "      <th>2009-04-01</th>\n",
       "      <td>2</td>\n",
       "      <td>4</td>\n",
       "      <td>2009</td>\n",
       "    </tr>\n",
       "    <tr>\n",
       "      <th>2009-05-01</th>\n",
       "      <td>2</td>\n",
       "      <td>5</td>\n",
       "      <td>2009</td>\n",
       "    </tr>\n",
       "    <tr>\n",
       "      <th>...</th>\n",
       "      <td>...</td>\n",
       "      <td>...</td>\n",
       "      <td>...</td>\n",
       "    </tr>\n",
       "    <tr>\n",
       "      <th>2015-08-01</th>\n",
       "      <td>3</td>\n",
       "      <td>8</td>\n",
       "      <td>2015</td>\n",
       "    </tr>\n",
       "    <tr>\n",
       "      <th>2015-09-01</th>\n",
       "      <td>3</td>\n",
       "      <td>9</td>\n",
       "      <td>2015</td>\n",
       "    </tr>\n",
       "    <tr>\n",
       "      <th>2015-10-01</th>\n",
       "      <td>4</td>\n",
       "      <td>10</td>\n",
       "      <td>2015</td>\n",
       "    </tr>\n",
       "    <tr>\n",
       "      <th>2015-11-01</th>\n",
       "      <td>4</td>\n",
       "      <td>11</td>\n",
       "      <td>2015</td>\n",
       "    </tr>\n",
       "    <tr>\n",
       "      <th>2015-12-01</th>\n",
       "      <td>4</td>\n",
       "      <td>12</td>\n",
       "      <td>2015</td>\n",
       "    </tr>\n",
       "  </tbody>\n",
       "</table>\n",
       "<p>84 rows × 3 columns</p>\n",
       "</div>"
      ],
      "text/plain": [
       "            quarter  month  year\n",
       "Date                            \n",
       "2009-01-01        1      1  2009\n",
       "2009-02-01        1      2  2009\n",
       "2009-03-01        1      3  2009\n",
       "2009-04-01        2      4  2009\n",
       "2009-05-01        2      5  2009\n",
       "...             ...    ...   ...\n",
       "2015-08-01        3      8  2015\n",
       "2015-09-01        3      9  2015\n",
       "2015-10-01        4     10  2015\n",
       "2015-11-01        4     11  2015\n",
       "2015-12-01        4     12  2015\n",
       "\n",
       "[84 rows x 3 columns]"
      ]
     },
     "execution_count": 83,
     "metadata": {},
     "output_type": "execute_result"
    }
   ],
   "source": [
    "X_train"
   ]
  },
  {
   "cell_type": "code",
   "execution_count": 84,
   "id": "609abaf3",
   "metadata": {},
   "outputs": [
    {
     "data": {
      "text/html": [
       "<div>\n",
       "<style scoped>\n",
       "    .dataframe tbody tr th:only-of-type {\n",
       "        vertical-align: middle;\n",
       "    }\n",
       "\n",
       "    .dataframe tbody tr th {\n",
       "        vertical-align: top;\n",
       "    }\n",
       "\n",
       "    .dataframe thead th {\n",
       "        text-align: right;\n",
       "    }\n",
       "</style>\n",
       "<table border=\"1\" class=\"dataframe\">\n",
       "  <thead>\n",
       "    <tr style=\"text-align: right;\">\n",
       "      <th></th>\n",
       "      <th>quarter</th>\n",
       "      <th>month</th>\n",
       "      <th>year</th>\n",
       "    </tr>\n",
       "    <tr>\n",
       "      <th>Date</th>\n",
       "      <th></th>\n",
       "      <th></th>\n",
       "      <th></th>\n",
       "    </tr>\n",
       "  </thead>\n",
       "  <tbody>\n",
       "    <tr>\n",
       "      <th>2009-01-01</th>\n",
       "      <td>1</td>\n",
       "      <td>1</td>\n",
       "      <td>2009</td>\n",
       "    </tr>\n",
       "    <tr>\n",
       "      <th>2009-02-01</th>\n",
       "      <td>1</td>\n",
       "      <td>2</td>\n",
       "      <td>2009</td>\n",
       "    </tr>\n",
       "    <tr>\n",
       "      <th>2009-03-01</th>\n",
       "      <td>1</td>\n",
       "      <td>3</td>\n",
       "      <td>2009</td>\n",
       "    </tr>\n",
       "    <tr>\n",
       "      <th>2009-04-01</th>\n",
       "      <td>2</td>\n",
       "      <td>4</td>\n",
       "      <td>2009</td>\n",
       "    </tr>\n",
       "    <tr>\n",
       "      <th>2009-05-01</th>\n",
       "      <td>2</td>\n",
       "      <td>5</td>\n",
       "      <td>2009</td>\n",
       "    </tr>\n",
       "    <tr>\n",
       "      <th>...</th>\n",
       "      <td>...</td>\n",
       "      <td>...</td>\n",
       "      <td>...</td>\n",
       "    </tr>\n",
       "    <tr>\n",
       "      <th>2015-08-01</th>\n",
       "      <td>3</td>\n",
       "      <td>8</td>\n",
       "      <td>2015</td>\n",
       "    </tr>\n",
       "    <tr>\n",
       "      <th>2015-09-01</th>\n",
       "      <td>3</td>\n",
       "      <td>9</td>\n",
       "      <td>2015</td>\n",
       "    </tr>\n",
       "    <tr>\n",
       "      <th>2015-10-01</th>\n",
       "      <td>4</td>\n",
       "      <td>10</td>\n",
       "      <td>2015</td>\n",
       "    </tr>\n",
       "    <tr>\n",
       "      <th>2015-11-01</th>\n",
       "      <td>4</td>\n",
       "      <td>11</td>\n",
       "      <td>2015</td>\n",
       "    </tr>\n",
       "    <tr>\n",
       "      <th>2015-12-01</th>\n",
       "      <td>4</td>\n",
       "      <td>12</td>\n",
       "      <td>2015</td>\n",
       "    </tr>\n",
       "  </tbody>\n",
       "</table>\n",
       "<p>84 rows × 3 columns</p>\n",
       "</div>"
      ],
      "text/plain": [
       "            quarter  month  year\n",
       "Date                            \n",
       "2009-01-01        1      1  2009\n",
       "2009-02-01        1      2  2009\n",
       "2009-03-01        1      3  2009\n",
       "2009-04-01        2      4  2009\n",
       "2009-05-01        2      5  2009\n",
       "...             ...    ...   ...\n",
       "2015-08-01        3      8  2015\n",
       "2015-09-01        3      9  2015\n",
       "2015-10-01        4     10  2015\n",
       "2015-11-01        4     11  2015\n",
       "2015-12-01        4     12  2015\n",
       "\n",
       "[84 rows x 3 columns]"
      ]
     },
     "execution_count": 84,
     "metadata": {},
     "output_type": "execute_result"
    }
   ],
   "source": [
    "X_train"
   ]
  },
  {
   "cell_type": "code",
   "execution_count": 85,
   "id": "fce7803e",
   "metadata": {},
   "outputs": [],
   "source": [
    "from statsmodels.tsa.seasonal import seasonal_decompose\n",
    "\n",
    "RPI_decomp_train = seasonal_decompose(XGB_train['RPI'],model = 'multiplicative')\n",
    "RPI_decomp_test = seasonal_decompose(XGB_test['RPI'],model = 'multiplicative')\n"
   ]
  },
  {
   "cell_type": "code",
   "execution_count": 86,
   "id": "22d6261c",
   "metadata": {},
   "outputs": [
    {
     "data": {
      "text/plain": [
       "XGBRegressor(base_score=0.5, booster='gbtree', colsample_bylevel=1,\n",
       "             colsample_bynode=1, colsample_bytree=1, enable_categorical=False,\n",
       "             gamma=0, gpu_id=-1, importance_type=None,\n",
       "             interaction_constraints='', learning_rate=0.300000012,\n",
       "             max_delta_step=0, max_depth=6, min_child_weight=1, missing=nan,\n",
       "             monotone_constraints='()', n_estimators=1000, n_jobs=8,\n",
       "             num_parallel_tree=1, predictor='auto', random_state=0, reg_alpha=0,\n",
       "             reg_lambda=1, scale_pos_weight=1, subsample=1, tree_method='exact',\n",
       "             validate_parameters=1, verbosity=None)"
      ]
     },
     "execution_count": 86,
     "metadata": {},
     "output_type": "execute_result"
    }
   ],
   "source": [
    "reg = xgb.XGBRegressor(n_estimators=1000)\n",
    "reg.fit(X_train, y_train,\n",
    "        eval_set=[(X_train, y_train), (X_test, y_test)],\n",
    "        early_stopping_rounds=50,\n",
    "       verbose=False)"
   ]
  },
  {
   "cell_type": "code",
   "execution_count": 87,
   "id": "2c94b162",
   "metadata": {},
   "outputs": [
    {
     "name": "stdout",
     "output_type": "stream",
     "text": [
      "(84, 3) (84,) (79, 3) (79,)\n"
     ]
    }
   ],
   "source": [
    "print(X_train.shape,y_train.shape,X_test.shape,y_test.shape)"
   ]
  },
  {
   "cell_type": "code",
   "execution_count": 88,
   "id": "35f2d136",
   "metadata": {
    "scrolled": true
   },
   "outputs": [
    {
     "data": {
      "image/png": "[encoded data removed]",
      "text/plain": [
       "<Figure size 432x288 with 1 Axes>"
      ]
     },
     "metadata": {},
     "output_type": "display_data"
    }
   ],
   "source": [
    "### Feature importance rank\n",
    "_ = plot_importance(reg, height=0.9)"
   ]
  },
  {
   "cell_type": "code",
   "execution_count": 89,
   "id": "5e3d68d1",
   "metadata": {},
   "outputs": [],
   "source": [
    "prediction = pd.Series(reg.predict(X_test))\n",
    "\n",
    "prediction.index = y_test.index"
   ]
  },
  {
   "cell_type": "code",
   "execution_count": 90,
   "id": "c6dbea22",
   "metadata": {},
   "outputs": [
    {
     "data": {
      "text/plain": [
       "[<matplotlib.lines.Line2D at 0x14cc7dd90>]"
      ]
     },
     "execution_count": 90,
     "metadata": {},
     "output_type": "execute_result"
    },
    {
     "data": {
      "image/png": "[encoded data removed]",
      "text/plain": [
       "<Figure size 1152x1080 with 1 Axes>"
      ]
     },
     "metadata": {},
     "output_type": "display_data"
    }
   ],
   "source": [
    "plt.figure(figsize=(16,15))\n",
    "plt.plot(y_test)\n",
    "plt.plot(prediction)\n",
    "plt.plot(y_train)"
   ]
  },
  {
   "cell_type": "code",
   "execution_count": 95,
   "id": "17292910",
   "metadata": {},
   "outputs": [
    {
     "name": "stdout",
     "output_type": "stream",
     "text": [
      "0\n",
      "1\n",
      "2\n",
      "3\n",
      "4\n"
     ]
    }
   ],
   "source": [
    "\n",
    "for i in range(5):\n",
    "    \n",
    "    start_year = 2009 \n",
    "    [df.loc[f\"{start_year + i}-01-01\":f\"{start_year + i + 5}-01-01\"]\n",
    "    \n",
    "           \n",
    "        "
   ]
  },
  {
   "cell_type": "code",
   "execution_count": null,
   "id": "6fa50a08",
   "metadata": {},
   "outputs": [],
   "source": [
    "train_list = \n",
    "predicted_list = \n",
    "test_list = \n",
    "\n",
    "#### training data for 5 years \n",
    "for i in range(5):\n",
    "    printi\n"
   ]
  },
  {
   "cell_type": "code",
   "execution_count": null,
   "id": "268cc0fd",
   "metadata": {},
   "outputs": [],
   "source": [
    "{train_data: ,predicted_data:, test_data:, }\n",
    "\n",
    "# For loop iterating and appending into dictionaries of keys\n",
    "# Defining the ranges: 5 years then 1 year predicting\n",
    "# 2009-2014 pred 2015, 2010-2015, pred 2016\n",
    "\n",
    "# Plotting all three of these data_storage objects with corresponding indexes"
   ]
  },
  {
   "cell_type": "markdown",
   "id": "8e83a393",
   "metadata": {},
   "source": [
    "## Looking closely at Predicted vs Actual"
   ]
  },
  {
   "cell_type": "code",
   "execution_count": 39,
   "id": "e7be2976",
   "metadata": {},
   "outputs": [
    {
     "ename": "NameError",
     "evalue": "name 'd' is not defined",
     "output_type": "error",
     "traceback": [
      "\u001b[0;31m---------------------------------------------------------------------------\u001b[0m",
      "\u001b[0;31mNameError\u001b[0m                                 Traceback (most recent call last)",
      "\u001b[0;32m/var/folders/wv/znl2vtzn0150xwlyckjyk_kh0000gn/T/ipykernel_5328/540214586.py\u001b[0m in \u001b[0;36m<module>\u001b[0;34m\u001b[0m\n\u001b[1;32m      3\u001b[0m \u001b[0mf\u001b[0m\u001b[0;34m.\u001b[0m\u001b[0mset_figheight\u001b[0m\u001b[0;34m(\u001b[0m\u001b[0;36m5\u001b[0m\u001b[0;34m)\u001b[0m\u001b[0;34m\u001b[0m\u001b[0;34m\u001b[0m\u001b[0m\n\u001b[1;32m      4\u001b[0m \u001b[0mf\u001b[0m\u001b[0;34m.\u001b[0m\u001b[0mset_figwidth\u001b[0m\u001b[0;34m(\u001b[0m\u001b[0;36m15\u001b[0m\u001b[0;34m)\u001b[0m\u001b[0;34m\u001b[0m\u001b[0;34m\u001b[0m\u001b[0m\n\u001b[0;32m----> 5\u001b[0;31m _ = d[['TTFG1MON Index After S.decomp','TTFG1MON_Prediction']].plot(ax=ax,\n\u001b[0m\u001b[1;32m      6\u001b[0m                                               style=['-','.'])\n\u001b[1;32m      7\u001b[0m \u001b[0max\u001b[0m\u001b[0;34m.\u001b[0m\u001b[0mset_xbound\u001b[0m\u001b[0;34m(\u001b[0m\u001b[0mlower\u001b[0m\u001b[0;34m=\u001b[0m\u001b[0;34m'01-01-2019'\u001b[0m\u001b[0;34m,\u001b[0m \u001b[0mupper\u001b[0m\u001b[0;34m=\u001b[0m\u001b[0;34m'04-01-2020'\u001b[0m\u001b[0;34m)\u001b[0m\u001b[0;34m\u001b[0m\u001b[0;34m\u001b[0m\u001b[0m\n",
      "\u001b[0;31mNameError\u001b[0m: name 'd' is not defined"
     ]
    },
    {
     "data": {
      "image/png": "[encoded data removed]",
      "text/plain": [
       "<Figure size 1080x360 with 1 Axes>"
      ]
     },
     "metadata": {},
     "output_type": "display_data"
    }
   ],
   "source": [
    "# Plotting\n",
    "f, ax = plt.subplots(1)\n",
    "f.set_figheight(5)\n",
    "f.set_figwidth(15)\n",
    "_ = d[['TTFG1MON Index After S.decomp','TTFG1MON_Prediction']].plot(ax=ax,\n",
    "                                              style=['-','.'])\n",
    "ax.set_xbound(lower='01-01-2019', upper='04-01-2020')\n",
    "plot = plt.suptitle('01-01-2019 to 04-01-2020 Forecast vs Actuals')"
   ]
  },
  {
   "cell_type": "markdown",
   "id": "151667b9",
   "metadata": {},
   "source": [
    "## Metrics for XGB_test"
   ]
  },
  {
   "cell_type": "code",
   "execution_count": 40,
   "id": "b0a0397b",
   "metadata": {},
   "outputs": [
    {
     "ename": "NameError",
     "evalue": "name 'd' is not defined",
     "output_type": "error",
     "traceback": [
      "\u001b[0;31m---------------------------------------------------------------------------\u001b[0m",
      "\u001b[0;31mNameError\u001b[0m                                 Traceback (most recent call last)",
      "\u001b[0;32m/var/folders/wv/znl2vtzn0150xwlyckjyk_kh0000gn/T/ipykernel_5328/1050612858.py\u001b[0m in \u001b[0;36m<module>\u001b[0;34m\u001b[0m\n\u001b[1;32m      2\u001b[0m \u001b[0;32mfrom\u001b[0m \u001b[0msklearn\u001b[0m\u001b[0;34m.\u001b[0m\u001b[0mmetrics\u001b[0m  \u001b[0;32mimport\u001b[0m \u001b[0mmean_absolute_percentage_error\u001b[0m\u001b[0;34m\u001b[0m\u001b[0;34m\u001b[0m\u001b[0m\n\u001b[1;32m      3\u001b[0m \u001b[0;34m\u001b[0m\u001b[0m\n\u001b[0;32m----> 4\u001b[0;31m mse = mean_squared_error(y_true=d['TTFG1MON Index After S.decomp'],\n\u001b[0m\u001b[1;32m      5\u001b[0m                    y_pred=d['TTFG1MON_Prediction'])\n\u001b[1;32m      6\u001b[0m \u001b[0;34m\u001b[0m\u001b[0m\n",
      "\u001b[0;31mNameError\u001b[0m: name 'd' is not defined"
     ]
    }
   ],
   "source": [
    "from sklearn.metrics import mean_absolute_error\n",
    "from sklearn.metrics  import mean_absolute_percentage_error\n",
    "\n",
    "mse = mean_squared_error(y_true=d['TTFG1MON Index After S.decomp'],\n",
    "                   y_pred=d['TTFG1MON_Prediction'])\n",
    "\n",
    "mae_score = mean_absolute_error(y_true=d['TTFG1MON Index After S.decomp'],\n",
    "                   y_pred=d['TTFG1MON_Prediction'])\n",
    "\n",
    "mape_score = mean_absolute_percentage_error(y_true=d['TTFG1MON Index After S.decomp'],\n",
    "                   y_pred=d['TTFG1MON_Prediction'])"
   ]
  },
  {
   "cell_type": "code",
   "execution_count": 41,
   "id": "eac19914",
   "metadata": {},
   "outputs": [
    {
     "ename": "NameError",
     "evalue": "name 'mape_score' is not defined",
     "output_type": "error",
     "traceback": [
      "\u001b[0;31m---------------------------------------------------------------------------\u001b[0m",
      "\u001b[0;31mNameError\u001b[0m                                 Traceback (most recent call last)",
      "\u001b[0;32m/var/folders/wv/znl2vtzn0150xwlyckjyk_kh0000gn/T/ipykernel_5328/802633379.py\u001b[0m in \u001b[0;36m<module>\u001b[0;34m\u001b[0m\n\u001b[0;32m----> 1\u001b[0;31m \u001b[0mprint\u001b[0m\u001b[0;34m(\u001b[0m\u001b[0;34mf\"The mean absolute percentage error is {mape_score}\"\u001b[0m\u001b[0;34m)\u001b[0m\u001b[0;34m\u001b[0m\u001b[0;34m\u001b[0m\u001b[0m\n\u001b[0m",
      "\u001b[0;31mNameError\u001b[0m: name 'mape_score' is not defined"
     ]
    }
   ],
   "source": [
    "print(f\"The mean absolute percentage error is {mape_score}\")"
   ]
  },
  {
   "cell_type": "markdown",
   "id": "1fd41534",
   "metadata": {},
   "source": [
    "## Deep-diving into best-worst months"
   ]
  },
  {
   "cell_type": "code",
   "execution_count": null,
   "id": "7ae95ca6",
   "metadata": {},
   "outputs": [],
   "source": [
    "print('p-value: ', adfuller(y)[1])"
   ]
  },
  {
   "cell_type": "code",
   "execution_count": null,
   "id": "3c85b911",
   "metadata": {},
   "outputs": [],
   "source": [
    "print('p-value: ', adfuller(y.diff(1).dropna())[1])"
   ]
  },
  {
   "cell_type": "code",
   "execution_count": null,
   "id": "d2d496af",
   "metadata": {},
   "outputs": [],
   "source": [
    "print('p-value: ', adfuller(y.diff(1).diff(1).fillna(0))[1])"
   ]
  },
  {
   "cell_type": "code",
   "execution_count": null,
   "id": "bdae74fa",
   "metadata": {
    "scrolled": false
   },
   "outputs": [],
   "source": [
    "from statsmodels.graphics.tsaplots import plot_acf, plot_pacf\n",
    "\n",
    "# Original Series\n",
    "fig, axes = plt.subplots(3, 2, figsize=(13,10))\n",
    "axes[0, 0].plot(y); axes[0, 0].set_title('Original Series')\n",
    "plot_acf(y, auto_ylims=True,ax=axes[0, 1])\n",
    "\n",
    "# 1st Differencing\n",
    "axes[1, 0].plot(y.diff()); axes[1, 0].set_title('1st Order Differencing')\n",
    "plot_acf(y.diff().dropna(), auto_ylims=True,ax=axes[1, 1])\n",
    "\n",
    "# 2nd Differencing\n",
    "axes[2, 0].plot(y.diff().diff()); axes[2, 0].set_title('2nd Order Differencing')\n",
    "plot_acf(y.diff().diff().dropna(), auto_ylims=True, ax=axes[2, 1])\n",
    "\n",
    "plt.tight_layout()"
   ]
  },
  {
   "cell_type": "code",
   "execution_count": null,
   "id": "46dfbe24",
   "metadata": {},
   "outputs": [],
   "source": [
    "differenced_rpi = y.diff(12).diff(12).dropna()\n",
    "RPI_DIF = pd.DataFrame(differenced_rpi)\n",
    "\n",
    "differenced_SPX = result_df['SPX Index'].diff().dropna()\n",
    "SPX_DIF  = pd.DataFrame(differenced_SPX)\n",
    "\n",
    "differenced_df = RPI_DIF.join(SPX_DIF)\n",
    "\n",
    "\n"
   ]
  },
  {
   "cell_type": "code",
   "execution_count": null,
   "id": "78b41ba6",
   "metadata": {},
   "outputs": [],
   "source": [
    "differenced_df['RPI_dif'] = differenced_df['RPI']"
   ]
  },
  {
   "cell_type": "code",
   "execution_count": null,
   "id": "5a46a2bd",
   "metadata": {},
   "outputs": [],
   "source": [
    "differenced_df['RPI'] = result_df['RPI']"
   ]
  },
  {
   "cell_type": "code",
   "execution_count": null,
   "id": "d645234e",
   "metadata": {},
   "outputs": [],
   "source": [
    "differenced_df"
   ]
  },
  {
   "cell_type": "code",
   "execution_count": null,
   "id": "26668445",
   "metadata": {},
   "outputs": [],
   "source": [
    "result_df.columns"
   ]
  },
  {
   "cell_type": "code",
   "execution_count": null,
   "id": "991a6da3",
   "metadata": {},
   "outputs": [],
   "source": [
    "def adf_and_diff(tseries):\n",
    "    \"\"\"\n",
    "    Takes in a series/dataframe with column specified and determines whether the time series needs to be stationary or not.\n",
    "    The function attempts to convert it to a stationary time-series by differencing.\n",
    "    It also tries to the minimize of orders for differencing. (Maximum 2nd-order in works).\n",
    "    \"\"\"\n",
    "    from statsmodels.tsa.stattools import adfuller\n",
    "    \n",
    "    p_value = adfuller(tseries)[1]\n",
    "    \n",
    "    differenced_series = tseries\n",
    "    \n",
    "      \n",
    "    while p_value >= 0.05:\n",
    "        \n",
    "        p_value = adfuller(differenced_series.diff(12).fillna(0))[1]\n",
    "        \n",
    "        differenced_series = differenced_series.diff(12).fillna(0)\n",
    "        \n",
    "        print(f'p value is reduced to {p_value}')\n",
    "        \n",
    "        print(\"Differenced\")\n",
    "        \n",
    "        \n",
    "            \n",
    "            \n",
    "            \n",
    "    return differenced_series\n",
    "\n",
    "    "
   ]
  },
  {
   "cell_type": "code",
   "execution_count": null,
   "id": "ab03e8c7",
   "metadata": {},
   "outputs": [],
   "source": [
    "def decomp(tseries):\n",
    "    \"\"\"\n",
    "    Takes in a series/dataframe performs seasonal decomposition on it\n",
    "    \n",
    "    \"\"\""
   ]
  },
  {
   "cell_type": "code",
   "execution_count": null,
   "id": "2e6d81db",
   "metadata": {},
   "outputs": [],
   "source": [
    "adf_and_diff(result_df['RPI'])"
   ]
  },
  {
   "cell_type": "code",
   "execution_count": null,
   "id": "7fa3175b",
   "metadata": {},
   "outputs": [],
   "source": [
    "result.resid.plot()"
   ]
  },
  {
   "cell_type": "code",
   "execution_count": null,
   "id": "cb758ae4",
   "metadata": {},
   "outputs": [],
   "source": [
    "result_df['RPI']"
   ]
  },
  {
   "cell_type": "code",
   "execution_count": null,
   "id": "e3636a60",
   "metadata": {},
   "outputs": [],
   "source": [
    "result_df['RPI']"
   ]
  },
  {
   "cell_type": "code",
   "execution_count": null,
   "id": "5c9e0cf8",
   "metadata": {
    "scrolled": false
   },
   "outputs": [],
   "source": [
    "from statsmodels.tsa.seasonal import seasonal_decompose\n",
    "\n",
    "result = seasonal_decompose(result_df['RPI'].dropna(0), model='multiplicable', period=12)"
   ]
  },
  {
   "cell_type": "code",
   "execution_count": null,
   "id": "af43c7e0",
   "metadata": {},
   "outputs": [],
   "source": [
    "result_df['RPI'].iloc[6:421]"
   ]
  },
  {
   "cell_type": "code",
   "execution_count": null,
   "id": "dfccda27",
   "metadata": {},
   "outputs": [],
   "source": [
    "result_df['RPI'].reset_index()"
   ]
  },
  {
   "cell_type": "code",
   "execution_count": null,
   "id": "57cecf08",
   "metadata": {},
   "outputs": [],
   "source": [
    "recomposed = result.resid.dropna()* result.trend.dropna()*result.seasonal.dropna().iloc[6:421]\n"
   ]
  },
  {
   "cell_type": "code",
   "execution_count": null,
   "id": "6e9262af",
   "metadata": {},
   "outputs": [],
   "source": [
    "result.seasonal*"
   ]
  },
  {
   "cell_type": "code",
   "execution_count": null,
   "id": "04602c93",
   "metadata": {},
   "outputs": [],
   "source": [
    "result_df['RPI'].plot()\n",
    "recomposed.plot()"
   ]
  },
  {
   "cell_type": "code",
   "execution_count": null,
   "id": "db0cee1d",
   "metadata": {},
   "outputs": [],
   "source": [
    "result.seasonal.dropna().iloc[6:421]"
   ]
  },
  {
   "cell_type": "code",
   "execution_count": null,
   "id": "2e543358",
   "metadata": {},
   "outputs": [],
   "source": [
    "adfuller(result.resid.dropna(0))[1]"
   ]
  },
  {
   "cell_type": "code",
   "execution_count": null,
   "id": "1eff19d2",
   "metadata": {},
   "outputs": [],
   "source": [
    "result_df.columns "
   ]
  },
  {
   "cell_type": "code",
   "execution_count": null,
   "id": "b11e425e",
   "metadata": {},
   "outputs": [],
   "source": [
    "adf_and_diff(result_df['GBPEUR Curncy'])"
   ]
  },
  {
   "cell_type": "code",
   "execution_count": null,
   "id": "19b747ca",
   "metadata": {
    "scrolled": false
   },
   "outputs": [],
   "source": [
    "adfuller(result_df['RPI'].diff(12).diff(12).fillna(0))[1]"
   ]
  },
  {
   "cell_type": "code",
   "execution_count": null,
   "id": "771a0489",
   "metadata": {},
   "outputs": [],
   "source": [
    "adfuller(result_df['RPI'].diff(12).diff(12).fillna(0))[1]"
   ]
  },
  {
   "cell_type": "code",
   "execution_count": null,
   "id": "b25b41ee",
   "metadata": {},
   "outputs": [],
   "source": [
    "result_df['RPI'].diff(12).diff(12).diff(12).dropna()"
   ]
  },
  {
   "cell_type": "markdown",
   "id": "af3d7a4d",
   "metadata": {},
   "source": [
    "# NHITS (Without exogenous features)"
   ]
  },
  {
   "cell_type": "code",
   "execution_count": 85,
   "id": "5e2155e2",
   "metadata": {},
   "outputs": [
    {
     "data": {
      "text/html": [
       "<div>\n",
       "<style scoped>\n",
       "    .dataframe tbody tr th:only-of-type {\n",
       "        vertical-align: middle;\n",
       "    }\n",
       "\n",
       "    .dataframe tbody tr th {\n",
       "        vertical-align: top;\n",
       "    }\n",
       "\n",
       "    .dataframe thead th {\n",
       "        text-align: right;\n",
       "    }\n",
       "</style>\n",
       "<table border=\"1\" class=\"dataframe\">\n",
       "  <thead>\n",
       "    <tr style=\"text-align: right;\">\n",
       "      <th></th>\n",
       "      <th>RPI</th>\n",
       "    </tr>\n",
       "    <tr>\n",
       "      <th>Date</th>\n",
       "      <th></th>\n",
       "    </tr>\n",
       "  </thead>\n",
       "  <tbody>\n",
       "    <tr>\n",
       "      <th>2009-01-01</th>\n",
       "      <td>210.1</td>\n",
       "    </tr>\n",
       "    <tr>\n",
       "      <th>2009-02-01</th>\n",
       "      <td>211.4</td>\n",
       "    </tr>\n",
       "    <tr>\n",
       "      <th>2009-03-01</th>\n",
       "      <td>211.3</td>\n",
       "    </tr>\n",
       "    <tr>\n",
       "      <th>2009-04-01</th>\n",
       "      <td>211.5</td>\n",
       "    </tr>\n",
       "    <tr>\n",
       "      <th>2009-05-01</th>\n",
       "      <td>212.8</td>\n",
       "    </tr>\n",
       "    <tr>\n",
       "      <th>...</th>\n",
       "      <td>...</td>\n",
       "    </tr>\n",
       "    <tr>\n",
       "      <th>2022-05-01</th>\n",
       "      <td>337.1</td>\n",
       "    </tr>\n",
       "    <tr>\n",
       "      <th>2022-06-01</th>\n",
       "      <td>340.0</td>\n",
       "    </tr>\n",
       "    <tr>\n",
       "      <th>2022-07-01</th>\n",
       "      <td>343.2</td>\n",
       "    </tr>\n",
       "    <tr>\n",
       "      <th>2022-08-01</th>\n",
       "      <td>NaN</td>\n",
       "    </tr>\n",
       "    <tr>\n",
       "      <th>2022-09-01</th>\n",
       "      <td>NaN</td>\n",
       "    </tr>\n",
       "  </tbody>\n",
       "</table>\n",
       "<p>165 rows × 1 columns</p>\n",
       "</div>"
      ],
      "text/plain": [
       "              RPI\n",
       "Date             \n",
       "2009-01-01  210.1\n",
       "2009-02-01  211.4\n",
       "2009-03-01  211.3\n",
       "2009-04-01  211.5\n",
       "2009-05-01  212.8\n",
       "...           ...\n",
       "2022-05-01  337.1\n",
       "2022-06-01  340.0\n",
       "2022-07-01  343.2\n",
       "2022-08-01    NaN\n",
       "2022-09-01    NaN\n",
       "\n",
       "[165 rows x 1 columns]"
      ]
     },
     "execution_count": 85,
     "metadata": {},
     "output_type": "execute_result"
    }
   ],
   "source": [
    "RPI_df = df[['RPI']]\n",
    "RPI_df"
   ]
  },
  {
   "cell_type": "code",
   "execution_count": 86,
   "id": "9709909e",
   "metadata": {},
   "outputs": [],
   "source": [
    "nhits_train = RPI_df.loc[:\"01-01-2020\"]\n",
    "nhits_test = RPI_df.loc[\"01-01-2020\":\"01-01-2021\"]"
   ]
  },
  {
   "cell_type": "code",
   "execution_count": 87,
   "id": "e943f549",
   "metadata": {},
   "outputs": [],
   "source": [
    "### Credits to Rob Mulla from Kaggle: https://www.kaggle.com/code/robikscube/tutorial-time-series-forecasting-with-xgboost\n",
    "def create_features(df, label=None):\n",
    "    \"\"\"\n",
    "    Creates time series features from datetime index\n",
    "    \"\"\"\n",
    "    df['date'] = df.index\n",
    "    df['hour'] = df['date'].dt.hour\n",
    "    df['dayofweek'] = df['date'].dt.dayofweek\n",
    "    df['quarter'] = df['date'].dt.quarter\n",
    "    df['month'] = df['date'].dt.month\n",
    "    df['year'] = df['date'].dt.year\n",
    "    df['dayofyear'] = df['date'].dt.dayofyear\n",
    "    df['dayofmonth'] = df['date'].dt.day\n",
    "    df['weekofyear'] = df['date'].dt.weekofyear\n",
    "    \n",
    "    X = df[['hour','dayofweek','quarter','month','year',\n",
    "           'dayofyear','dayofmonth','weekofyear']]\n",
    "    if label:\n",
    "        y = df[label]\n",
    "        return X, y\n",
    "    return X"
   ]
  },
  {
   "cell_type": "code",
   "execution_count": 88,
   "id": "25d7b24c",
   "metadata": {
    "scrolled": true
   },
   "outputs": [
    {
     "name": "stderr",
     "output_type": "stream",
     "text": [
      "/var/folders/wv/znl2vtzn0150xwlyckjyk_kh0000gn/T/ipykernel_99278/1243171025.py:6: SettingWithCopyWarning: \n",
      "A value is trying to be set on a copy of a slice from a DataFrame.\n",
      "Try using .loc[row_indexer,col_indexer] = value instead\n",
      "\n",
      "See the caveats in the documentation: https://pandas.pydata.org/pandas-docs/stable/user_guide/indexing.html#returning-a-view-versus-a-copy\n",
      "  df['date'] = df.index\n",
      "/var/folders/wv/znl2vtzn0150xwlyckjyk_kh0000gn/T/ipykernel_99278/1243171025.py:7: SettingWithCopyWarning: \n",
      "A value is trying to be set on a copy of a slice from a DataFrame.\n",
      "Try using .loc[row_indexer,col_indexer] = value instead\n",
      "\n",
      "See the caveats in the documentation: https://pandas.pydata.org/pandas-docs/stable/user_guide/indexing.html#returning-a-view-versus-a-copy\n",
      "  df['hour'] = df['date'].dt.hour\n",
      "/var/folders/wv/znl2vtzn0150xwlyckjyk_kh0000gn/T/ipykernel_99278/1243171025.py:8: SettingWithCopyWarning: \n",
      "A value is trying to be set on a copy of a slice from a DataFrame.\n",
      "Try using .loc[row_indexer,col_indexer] = value instead\n",
      "\n",
      "See the caveats in the documentation: https://pandas.pydata.org/pandas-docs/stable/user_guide/indexing.html#returning-a-view-versus-a-copy\n",
      "  df['dayofweek'] = df['date'].dt.dayofweek\n",
      "/var/folders/wv/znl2vtzn0150xwlyckjyk_kh0000gn/T/ipykernel_99278/1243171025.py:9: SettingWithCopyWarning: \n",
      "A value is trying to be set on a copy of a slice from a DataFrame.\n",
      "Try using .loc[row_indexer,col_indexer] = value instead\n",
      "\n",
      "See the caveats in the documentation: https://pandas.pydata.org/pandas-docs/stable/user_guide/indexing.html#returning-a-view-versus-a-copy\n",
      "  df['quarter'] = df['date'].dt.quarter\n",
      "/var/folders/wv/znl2vtzn0150xwlyckjyk_kh0000gn/T/ipykernel_99278/1243171025.py:10: SettingWithCopyWarning: \n",
      "A value is trying to be set on a copy of a slice from a DataFrame.\n",
      "Try using .loc[row_indexer,col_indexer] = value instead\n",
      "\n",
      "See the caveats in the documentation: https://pandas.pydata.org/pandas-docs/stable/user_guide/indexing.html#returning-a-view-versus-a-copy\n",
      "  df['month'] = df['date'].dt.month\n",
      "/var/folders/wv/znl2vtzn0150xwlyckjyk_kh0000gn/T/ipykernel_99278/1243171025.py:11: SettingWithCopyWarning: \n",
      "A value is trying to be set on a copy of a slice from a DataFrame.\n",
      "Try using .loc[row_indexer,col_indexer] = value instead\n",
      "\n",
      "See the caveats in the documentation: https://pandas.pydata.org/pandas-docs/stable/user_guide/indexing.html#returning-a-view-versus-a-copy\n",
      "  df['year'] = df['date'].dt.year\n",
      "/var/folders/wv/znl2vtzn0150xwlyckjyk_kh0000gn/T/ipykernel_99278/1243171025.py:12: SettingWithCopyWarning: \n",
      "A value is trying to be set on a copy of a slice from a DataFrame.\n",
      "Try using .loc[row_indexer,col_indexer] = value instead\n",
      "\n",
      "See the caveats in the documentation: https://pandas.pydata.org/pandas-docs/stable/user_guide/indexing.html#returning-a-view-versus-a-copy\n",
      "  df['dayofyear'] = df['date'].dt.dayofyear\n",
      "/var/folders/wv/znl2vtzn0150xwlyckjyk_kh0000gn/T/ipykernel_99278/1243171025.py:13: SettingWithCopyWarning: \n",
      "A value is trying to be set on a copy of a slice from a DataFrame.\n",
      "Try using .loc[row_indexer,col_indexer] = value instead\n",
      "\n",
      "See the caveats in the documentation: https://pandas.pydata.org/pandas-docs/stable/user_guide/indexing.html#returning-a-view-versus-a-copy\n",
      "  df['dayofmonth'] = df['date'].dt.day\n",
      "/var/folders/wv/znl2vtzn0150xwlyckjyk_kh0000gn/T/ipykernel_99278/1243171025.py:14: FutureWarning: Series.dt.weekofyear and Series.dt.week have been deprecated.  Please use Series.dt.isocalendar().week instead.\n",
      "  df['weekofyear'] = df['date'].dt.weekofyear\n",
      "/var/folders/wv/znl2vtzn0150xwlyckjyk_kh0000gn/T/ipykernel_99278/1243171025.py:14: SettingWithCopyWarning: \n",
      "A value is trying to be set on a copy of a slice from a DataFrame.\n",
      "Try using .loc[row_indexer,col_indexer] = value instead\n",
      "\n",
      "See the caveats in the documentation: https://pandas.pydata.org/pandas-docs/stable/user_guide/indexing.html#returning-a-view-versus-a-copy\n",
      "  df['weekofyear'] = df['date'].dt.weekofyear\n"
     ]
    }
   ],
   "source": [
    "X_train,y_train= create_features(nhits_train, label = 'RPI')\n",
    "X_test, y_test = create_features(nhits_test, label = 'RPI')"
   ]
  },
  {
   "cell_type": "code",
   "execution_count": 89,
   "id": "2e3a001e",
   "metadata": {},
   "outputs": [
    {
     "data": {
      "text/html": [
       "<div>\n",
       "<style scoped>\n",
       "    .dataframe tbody tr th:only-of-type {\n",
       "        vertical-align: middle;\n",
       "    }\n",
       "\n",
       "    .dataframe tbody tr th {\n",
       "        vertical-align: top;\n",
       "    }\n",
       "\n",
       "    .dataframe thead th {\n",
       "        text-align: right;\n",
       "    }\n",
       "</style>\n",
       "<table border=\"1\" class=\"dataframe\">\n",
       "  <thead>\n",
       "    <tr style=\"text-align: right;\">\n",
       "      <th></th>\n",
       "      <th>hour</th>\n",
       "      <th>dayofweek</th>\n",
       "      <th>quarter</th>\n",
       "      <th>month</th>\n",
       "      <th>year</th>\n",
       "      <th>dayofyear</th>\n",
       "      <th>dayofmonth</th>\n",
       "      <th>weekofyear</th>\n",
       "    </tr>\n",
       "    <tr>\n",
       "      <th>Date</th>\n",
       "      <th></th>\n",
       "      <th></th>\n",
       "      <th></th>\n",
       "      <th></th>\n",
       "      <th></th>\n",
       "      <th></th>\n",
       "      <th></th>\n",
       "      <th></th>\n",
       "    </tr>\n",
       "  </thead>\n",
       "  <tbody>\n",
       "    <tr>\n",
       "      <th>2009-01-01</th>\n",
       "      <td>0</td>\n",
       "      <td>3</td>\n",
       "      <td>1</td>\n",
       "      <td>1</td>\n",
       "      <td>2009</td>\n",
       "      <td>1</td>\n",
       "      <td>1</td>\n",
       "      <td>1</td>\n",
       "    </tr>\n",
       "    <tr>\n",
       "      <th>2009-02-01</th>\n",
       "      <td>0</td>\n",
       "      <td>6</td>\n",
       "      <td>1</td>\n",
       "      <td>2</td>\n",
       "      <td>2009</td>\n",
       "      <td>32</td>\n",
       "      <td>1</td>\n",
       "      <td>5</td>\n",
       "    </tr>\n",
       "    <tr>\n",
       "      <th>2009-03-01</th>\n",
       "      <td>0</td>\n",
       "      <td>6</td>\n",
       "      <td>1</td>\n",
       "      <td>3</td>\n",
       "      <td>2009</td>\n",
       "      <td>60</td>\n",
       "      <td>1</td>\n",
       "      <td>9</td>\n",
       "    </tr>\n",
       "    <tr>\n",
       "      <th>2009-04-01</th>\n",
       "      <td>0</td>\n",
       "      <td>2</td>\n",
       "      <td>2</td>\n",
       "      <td>4</td>\n",
       "      <td>2009</td>\n",
       "      <td>91</td>\n",
       "      <td>1</td>\n",
       "      <td>14</td>\n",
       "    </tr>\n",
       "    <tr>\n",
       "      <th>2009-05-01</th>\n",
       "      <td>0</td>\n",
       "      <td>4</td>\n",
       "      <td>2</td>\n",
       "      <td>5</td>\n",
       "      <td>2009</td>\n",
       "      <td>121</td>\n",
       "      <td>1</td>\n",
       "      <td>18</td>\n",
       "    </tr>\n",
       "    <tr>\n",
       "      <th>...</th>\n",
       "      <td>...</td>\n",
       "      <td>...</td>\n",
       "      <td>...</td>\n",
       "      <td>...</td>\n",
       "      <td>...</td>\n",
       "      <td>...</td>\n",
       "      <td>...</td>\n",
       "      <td>...</td>\n",
       "    </tr>\n",
       "    <tr>\n",
       "      <th>2019-09-01</th>\n",
       "      <td>0</td>\n",
       "      <td>6</td>\n",
       "      <td>3</td>\n",
       "      <td>9</td>\n",
       "      <td>2019</td>\n",
       "      <td>244</td>\n",
       "      <td>1</td>\n",
       "      <td>35</td>\n",
       "    </tr>\n",
       "    <tr>\n",
       "      <th>2019-10-01</th>\n",
       "      <td>0</td>\n",
       "      <td>1</td>\n",
       "      <td>4</td>\n",
       "      <td>10</td>\n",
       "      <td>2019</td>\n",
       "      <td>274</td>\n",
       "      <td>1</td>\n",
       "      <td>40</td>\n",
       "    </tr>\n",
       "    <tr>\n",
       "      <th>2019-11-01</th>\n",
       "      <td>0</td>\n",
       "      <td>4</td>\n",
       "      <td>4</td>\n",
       "      <td>11</td>\n",
       "      <td>2019</td>\n",
       "      <td>305</td>\n",
       "      <td>1</td>\n",
       "      <td>44</td>\n",
       "    </tr>\n",
       "    <tr>\n",
       "      <th>2019-12-01</th>\n",
       "      <td>0</td>\n",
       "      <td>6</td>\n",
       "      <td>4</td>\n",
       "      <td>12</td>\n",
       "      <td>2019</td>\n",
       "      <td>335</td>\n",
       "      <td>1</td>\n",
       "      <td>48</td>\n",
       "    </tr>\n",
       "    <tr>\n",
       "      <th>2020-01-01</th>\n",
       "      <td>0</td>\n",
       "      <td>2</td>\n",
       "      <td>1</td>\n",
       "      <td>1</td>\n",
       "      <td>2020</td>\n",
       "      <td>1</td>\n",
       "      <td>1</td>\n",
       "      <td>1</td>\n",
       "    </tr>\n",
       "  </tbody>\n",
       "</table>\n",
       "<p>133 rows × 8 columns</p>\n",
       "</div>"
      ],
      "text/plain": [
       "            hour  dayofweek  quarter  month  year  dayofyear  dayofmonth  \\\n",
       "Date                                                                       \n",
       "2009-01-01     0          3        1      1  2009          1           1   \n",
       "2009-02-01     0          6        1      2  2009         32           1   \n",
       "2009-03-01     0          6        1      3  2009         60           1   \n",
       "2009-04-01     0          2        2      4  2009         91           1   \n",
       "2009-05-01     0          4        2      5  2009        121           1   \n",
       "...          ...        ...      ...    ...   ...        ...         ...   \n",
       "2019-09-01     0          6        3      9  2019        244           1   \n",
       "2019-10-01     0          1        4     10  2019        274           1   \n",
       "2019-11-01     0          4        4     11  2019        305           1   \n",
       "2019-12-01     0          6        4     12  2019        335           1   \n",
       "2020-01-01     0          2        1      1  2020          1           1   \n",
       "\n",
       "            weekofyear  \n",
       "Date                    \n",
       "2009-01-01           1  \n",
       "2009-02-01           5  \n",
       "2009-03-01           9  \n",
       "2009-04-01          14  \n",
       "2009-05-01          18  \n",
       "...                ...  \n",
       "2019-09-01          35  \n",
       "2019-10-01          40  \n",
       "2019-11-01          44  \n",
       "2019-12-01          48  \n",
       "2020-01-01           1  \n",
       "\n",
       "[133 rows x 8 columns]"
      ]
     },
     "execution_count": 89,
     "metadata": {},
     "output_type": "execute_result"
    }
   ],
   "source": [
    "X_train"
   ]
  },
  {
   "cell_type": "code",
   "execution_count": 90,
   "id": "ee1cfea9",
   "metadata": {},
   "outputs": [],
   "source": [
    "y_train = pd.DataFrame({'RPI': y_train})"
   ]
  },
  {
   "cell_type": "code",
   "execution_count": 91,
   "id": "e2dbe78f",
   "metadata": {},
   "outputs": [
    {
     "data": {
      "text/html": [
       "<div>\n",
       "<style scoped>\n",
       "    .dataframe tbody tr th:only-of-type {\n",
       "        vertical-align: middle;\n",
       "    }\n",
       "\n",
       "    .dataframe tbody tr th {\n",
       "        vertical-align: top;\n",
       "    }\n",
       "\n",
       "    .dataframe thead th {\n",
       "        text-align: right;\n",
       "    }\n",
       "</style>\n",
       "<table border=\"1\" class=\"dataframe\">\n",
       "  <thead>\n",
       "    <tr style=\"text-align: right;\">\n",
       "      <th></th>\n",
       "      <th>RPI</th>\n",
       "    </tr>\n",
       "    <tr>\n",
       "      <th>Date</th>\n",
       "      <th></th>\n",
       "    </tr>\n",
       "  </thead>\n",
       "  <tbody>\n",
       "    <tr>\n",
       "      <th>2009-01-01</th>\n",
       "      <td>210.1</td>\n",
       "    </tr>\n",
       "    <tr>\n",
       "      <th>2009-02-01</th>\n",
       "      <td>211.4</td>\n",
       "    </tr>\n",
       "    <tr>\n",
       "      <th>2009-03-01</th>\n",
       "      <td>211.3</td>\n",
       "    </tr>\n",
       "    <tr>\n",
       "      <th>2009-04-01</th>\n",
       "      <td>211.5</td>\n",
       "    </tr>\n",
       "    <tr>\n",
       "      <th>2009-05-01</th>\n",
       "      <td>212.8</td>\n",
       "    </tr>\n",
       "    <tr>\n",
       "      <th>...</th>\n",
       "      <td>...</td>\n",
       "    </tr>\n",
       "    <tr>\n",
       "      <th>2019-09-01</th>\n",
       "      <td>291.0</td>\n",
       "    </tr>\n",
       "    <tr>\n",
       "      <th>2019-10-01</th>\n",
       "      <td>290.4</td>\n",
       "    </tr>\n",
       "    <tr>\n",
       "      <th>2019-11-01</th>\n",
       "      <td>291.0</td>\n",
       "    </tr>\n",
       "    <tr>\n",
       "      <th>2019-12-01</th>\n",
       "      <td>291.9</td>\n",
       "    </tr>\n",
       "    <tr>\n",
       "      <th>2020-01-01</th>\n",
       "      <td>290.6</td>\n",
       "    </tr>\n",
       "  </tbody>\n",
       "</table>\n",
       "<p>133 rows × 1 columns</p>\n",
       "</div>"
      ],
      "text/plain": [
       "              RPI\n",
       "Date             \n",
       "2009-01-01  210.1\n",
       "2009-02-01  211.4\n",
       "2009-03-01  211.3\n",
       "2009-04-01  211.5\n",
       "2009-05-01  212.8\n",
       "...           ...\n",
       "2019-09-01  291.0\n",
       "2019-10-01  290.4\n",
       "2019-11-01  291.0\n",
       "2019-12-01  291.9\n",
       "2020-01-01  290.6\n",
       "\n",
       "[133 rows x 1 columns]"
      ]
     },
     "execution_count": 91,
     "metadata": {},
     "output_type": "execute_result"
    }
   ],
   "source": [
    "y_train"
   ]
  },
  {
   "cell_type": "code",
   "execution_count": 94,
   "id": "cceb44b4",
   "metadata": {},
   "outputs": [
    {
     "data": {
      "text/html": [
       "<div>\n",
       "<style scoped>\n",
       "    .dataframe tbody tr th:only-of-type {\n",
       "        vertical-align: middle;\n",
       "    }\n",
       "\n",
       "    .dataframe tbody tr th {\n",
       "        vertical-align: top;\n",
       "    }\n",
       "\n",
       "    .dataframe thead th {\n",
       "        text-align: right;\n",
       "    }\n",
       "</style>\n",
       "<table border=\"1\" class=\"dataframe\">\n",
       "  <thead>\n",
       "    <tr style=\"text-align: right;\">\n",
       "      <th></th>\n",
       "      <th>RPI</th>\n",
       "      <th>date</th>\n",
       "      <th>hour</th>\n",
       "      <th>dayofweek</th>\n",
       "      <th>quarter</th>\n",
       "      <th>month</th>\n",
       "      <th>year</th>\n",
       "      <th>dayofyear</th>\n",
       "      <th>dayofmonth</th>\n",
       "      <th>weekofyear</th>\n",
       "    </tr>\n",
       "    <tr>\n",
       "      <th>Date</th>\n",
       "      <th></th>\n",
       "      <th></th>\n",
       "      <th></th>\n",
       "      <th></th>\n",
       "      <th></th>\n",
       "      <th></th>\n",
       "      <th></th>\n",
       "      <th></th>\n",
       "      <th></th>\n",
       "      <th></th>\n",
       "    </tr>\n",
       "  </thead>\n",
       "  <tbody>\n",
       "    <tr>\n",
       "      <th>2009-01-01</th>\n",
       "      <td>210.1</td>\n",
       "      <td>2009-01-01</td>\n",
       "      <td>0</td>\n",
       "      <td>3</td>\n",
       "      <td>1</td>\n",
       "      <td>1</td>\n",
       "      <td>2009</td>\n",
       "      <td>1</td>\n",
       "      <td>1</td>\n",
       "      <td>1</td>\n",
       "    </tr>\n",
       "    <tr>\n",
       "      <th>2009-02-01</th>\n",
       "      <td>211.4</td>\n",
       "      <td>2009-02-01</td>\n",
       "      <td>0</td>\n",
       "      <td>6</td>\n",
       "      <td>1</td>\n",
       "      <td>2</td>\n",
       "      <td>2009</td>\n",
       "      <td>32</td>\n",
       "      <td>1</td>\n",
       "      <td>5</td>\n",
       "    </tr>\n",
       "    <tr>\n",
       "      <th>2009-03-01</th>\n",
       "      <td>211.3</td>\n",
       "      <td>2009-03-01</td>\n",
       "      <td>0</td>\n",
       "      <td>6</td>\n",
       "      <td>1</td>\n",
       "      <td>3</td>\n",
       "      <td>2009</td>\n",
       "      <td>60</td>\n",
       "      <td>1</td>\n",
       "      <td>9</td>\n",
       "    </tr>\n",
       "    <tr>\n",
       "      <th>2009-04-01</th>\n",
       "      <td>211.5</td>\n",
       "      <td>2009-04-01</td>\n",
       "      <td>0</td>\n",
       "      <td>2</td>\n",
       "      <td>2</td>\n",
       "      <td>4</td>\n",
       "      <td>2009</td>\n",
       "      <td>91</td>\n",
       "      <td>1</td>\n",
       "      <td>14</td>\n",
       "    </tr>\n",
       "    <tr>\n",
       "      <th>2009-05-01</th>\n",
       "      <td>212.8</td>\n",
       "      <td>2009-05-01</td>\n",
       "      <td>0</td>\n",
       "      <td>4</td>\n",
       "      <td>2</td>\n",
       "      <td>5</td>\n",
       "      <td>2009</td>\n",
       "      <td>121</td>\n",
       "      <td>1</td>\n",
       "      <td>18</td>\n",
       "    </tr>\n",
       "    <tr>\n",
       "      <th>...</th>\n",
       "      <td>...</td>\n",
       "      <td>...</td>\n",
       "      <td>...</td>\n",
       "      <td>...</td>\n",
       "      <td>...</td>\n",
       "      <td>...</td>\n",
       "      <td>...</td>\n",
       "      <td>...</td>\n",
       "      <td>...</td>\n",
       "      <td>...</td>\n",
       "    </tr>\n",
       "    <tr>\n",
       "      <th>2019-09-01</th>\n",
       "      <td>291.0</td>\n",
       "      <td>2019-09-01</td>\n",
       "      <td>0</td>\n",
       "      <td>6</td>\n",
       "      <td>3</td>\n",
       "      <td>9</td>\n",
       "      <td>2019</td>\n",
       "      <td>244</td>\n",
       "      <td>1</td>\n",
       "      <td>35</td>\n",
       "    </tr>\n",
       "    <tr>\n",
       "      <th>2019-10-01</th>\n",
       "      <td>290.4</td>\n",
       "      <td>2019-10-01</td>\n",
       "      <td>0</td>\n",
       "      <td>1</td>\n",
       "      <td>4</td>\n",
       "      <td>10</td>\n",
       "      <td>2019</td>\n",
       "      <td>274</td>\n",
       "      <td>1</td>\n",
       "      <td>40</td>\n",
       "    </tr>\n",
       "    <tr>\n",
       "      <th>2019-11-01</th>\n",
       "      <td>291.0</td>\n",
       "      <td>2019-11-01</td>\n",
       "      <td>0</td>\n",
       "      <td>4</td>\n",
       "      <td>4</td>\n",
       "      <td>11</td>\n",
       "      <td>2019</td>\n",
       "      <td>305</td>\n",
       "      <td>1</td>\n",
       "      <td>44</td>\n",
       "    </tr>\n",
       "    <tr>\n",
       "      <th>2019-12-01</th>\n",
       "      <td>291.9</td>\n",
       "      <td>2019-12-01</td>\n",
       "      <td>0</td>\n",
       "      <td>6</td>\n",
       "      <td>4</td>\n",
       "      <td>12</td>\n",
       "      <td>2019</td>\n",
       "      <td>335</td>\n",
       "      <td>1</td>\n",
       "      <td>48</td>\n",
       "    </tr>\n",
       "    <tr>\n",
       "      <th>2020-01-01</th>\n",
       "      <td>290.6</td>\n",
       "      <td>2020-01-01</td>\n",
       "      <td>0</td>\n",
       "      <td>2</td>\n",
       "      <td>1</td>\n",
       "      <td>1</td>\n",
       "      <td>2020</td>\n",
       "      <td>1</td>\n",
       "      <td>1</td>\n",
       "      <td>1</td>\n",
       "    </tr>\n",
       "  </tbody>\n",
       "</table>\n",
       "<p>133 rows × 10 columns</p>\n",
       "</div>"
      ],
      "text/plain": [
       "              RPI       date  hour  dayofweek  quarter  month  year  \\\n",
       "Date                                                                  \n",
       "2009-01-01  210.1 2009-01-01     0          3        1      1  2009   \n",
       "2009-02-01  211.4 2009-02-01     0          6        1      2  2009   \n",
       "2009-03-01  211.3 2009-03-01     0          6        1      3  2009   \n",
       "2009-04-01  211.5 2009-04-01     0          2        2      4  2009   \n",
       "2009-05-01  212.8 2009-05-01     0          4        2      5  2009   \n",
       "...           ...        ...   ...        ...      ...    ...   ...   \n",
       "2019-09-01  291.0 2019-09-01     0          6        3      9  2019   \n",
       "2019-10-01  290.4 2019-10-01     0          1        4     10  2019   \n",
       "2019-11-01  291.0 2019-11-01     0          4        4     11  2019   \n",
       "2019-12-01  291.9 2019-12-01     0          6        4     12  2019   \n",
       "2020-01-01  290.6 2020-01-01     0          2        1      1  2020   \n",
       "\n",
       "            dayofyear  dayofmonth  weekofyear  \n",
       "Date                                           \n",
       "2009-01-01          1           1           1  \n",
       "2009-02-01         32           1           5  \n",
       "2009-03-01         60           1           9  \n",
       "2009-04-01         91           1          14  \n",
       "2009-05-01        121           1          18  \n",
       "...               ...         ...         ...  \n",
       "2019-09-01        244           1          35  \n",
       "2019-10-01        274           1          40  \n",
       "2019-11-01        305           1          44  \n",
       "2019-12-01        335           1          48  \n",
       "2020-01-01          1           1           1  \n",
       "\n",
       "[133 rows x 10 columns]"
      ]
     },
     "execution_count": 94,
     "metadata": {},
     "output_type": "execute_result"
    }
   ],
   "source": [
    "nhits_train"
   ]
  },
  {
   "cell_type": "code",
   "execution_count": 95,
   "id": "323c9ab4",
   "metadata": {},
   "outputs": [
    {
     "data": {
      "text/html": [
       "<div>\n",
       "<style scoped>\n",
       "    .dataframe tbody tr th:only-of-type {\n",
       "        vertical-align: middle;\n",
       "    }\n",
       "\n",
       "    .dataframe tbody tr th {\n",
       "        vertical-align: top;\n",
       "    }\n",
       "\n",
       "    .dataframe thead th {\n",
       "        text-align: right;\n",
       "    }\n",
       "</style>\n",
       "<table border=\"1\" class=\"dataframe\">\n",
       "  <thead>\n",
       "    <tr style=\"text-align: right;\">\n",
       "      <th></th>\n",
       "      <th>RPI</th>\n",
       "    </tr>\n",
       "    <tr>\n",
       "      <th>Date</th>\n",
       "      <th></th>\n",
       "    </tr>\n",
       "  </thead>\n",
       "  <tbody>\n",
       "    <tr>\n",
       "      <th>2009-07-01</th>\n",
       "      <td>0.998528</td>\n",
       "    </tr>\n",
       "    <tr>\n",
       "      <th>2009-08-01</th>\n",
       "      <td>0.997790</td>\n",
       "    </tr>\n",
       "    <tr>\n",
       "      <th>2009-09-01</th>\n",
       "      <td>0.998299</td>\n",
       "    </tr>\n",
       "    <tr>\n",
       "      <th>2009-10-01</th>\n",
       "      <td>0.998753</td>\n",
       "    </tr>\n",
       "    <tr>\n",
       "      <th>2009-11-01</th>\n",
       "      <td>0.998483</td>\n",
       "    </tr>\n",
       "    <tr>\n",
       "      <th>...</th>\n",
       "      <td>...</td>\n",
       "    </tr>\n",
       "    <tr>\n",
       "      <th>2019-03-01</th>\n",
       "      <td>0.994115</td>\n",
       "    </tr>\n",
       "    <tr>\n",
       "      <th>2019-04-01</th>\n",
       "      <td>0.999877</td>\n",
       "    </tr>\n",
       "    <tr>\n",
       "      <th>2019-05-01</th>\n",
       "      <td>1.001516</td>\n",
       "    </tr>\n",
       "    <tr>\n",
       "      <th>2019-06-01</th>\n",
       "      <td>1.002319</td>\n",
       "    </tr>\n",
       "    <tr>\n",
       "      <th>2019-07-01</th>\n",
       "      <td>1.002702</td>\n",
       "    </tr>\n",
       "  </tbody>\n",
       "</table>\n",
       "<p>121 rows × 1 columns</p>\n",
       "</div>"
      ],
      "text/plain": [
       "                 RPI\n",
       "Date                \n",
       "2009-07-01  0.998528\n",
       "2009-08-01  0.997790\n",
       "2009-09-01  0.998299\n",
       "2009-10-01  0.998753\n",
       "2009-11-01  0.998483\n",
       "...              ...\n",
       "2019-03-01  0.994115\n",
       "2019-04-01  0.999877\n",
       "2019-05-01  1.001516\n",
       "2019-06-01  1.002319\n",
       "2019-07-01  1.002702\n",
       "\n",
       "[121 rows x 1 columns]"
      ]
     },
     "execution_count": 95,
     "metadata": {},
     "output_type": "execute_result"
    }
   ],
   "source": [
    "from statsmodels.tsa.seasonal import seasonal_decompose\n",
    "\n",
    "train_decomp = seasonal_decompose(nhits_train[['RPI']], model = \"multiplicative\")\n",
    "\n",
    "pd.DataFrame({\"RPI\": train_decomp.resid.dropna()})"
   ]
  },
  {
   "cell_type": "code",
   "execution_count": 92,
   "id": "2ea0d119",
   "metadata": {},
   "outputs": [
    {
     "ename": "NameError",
     "evalue": "name 'nhits_train' is not defined",
     "output_type": "error",
     "traceback": [
      "\u001b[0;31m---------------------------------------------------------------------------\u001b[0m",
      "\u001b[0;31mNameError\u001b[0m                                 Traceback (most recent call last)",
      "\u001b[0;32m/var/folders/wv/znl2vtzn0150xwlyckjyk_kh0000gn/T/ipykernel_5328/700414387.py\u001b[0m in \u001b[0;36m<module>\u001b[0;34m\u001b[0m\n\u001b[0;32m----> 1\u001b[0;31m \u001b[0mnhits_train\u001b[0m\u001b[0;34m\u001b[0m\u001b[0;34m\u001b[0m\u001b[0m\n\u001b[0m",
      "\u001b[0;31mNameError\u001b[0m: name 'nhits_train' is not defined"
     ]
    }
   ],
   "source": [
    "nhits_train"
   ]
  },
  {
   "cell_type": "code",
   "execution_count": 97,
   "id": "1830281b",
   "metadata": {},
   "outputs": [
    {
     "data": {
      "text/html": [
       "<div>\n",
       "<style scoped>\n",
       "    .dataframe tbody tr th:only-of-type {\n",
       "        vertical-align: middle;\n",
       "    }\n",
       "\n",
       "    .dataframe tbody tr th {\n",
       "        vertical-align: top;\n",
       "    }\n",
       "\n",
       "    .dataframe thead th {\n",
       "        text-align: right;\n",
       "    }\n",
       "</style>\n",
       "<table border=\"1\" class=\"dataframe\">\n",
       "  <thead>\n",
       "    <tr style=\"text-align: right;\">\n",
       "      <th></th>\n",
       "      <th>RPI</th>\n",
       "      <th>date</th>\n",
       "      <th>hour</th>\n",
       "      <th>dayofweek</th>\n",
       "      <th>quarter</th>\n",
       "      <th>month</th>\n",
       "      <th>year</th>\n",
       "      <th>dayofyear</th>\n",
       "      <th>dayofmonth</th>\n",
       "      <th>weekofyear</th>\n",
       "    </tr>\n",
       "    <tr>\n",
       "      <th>Date</th>\n",
       "      <th></th>\n",
       "      <th></th>\n",
       "      <th></th>\n",
       "      <th></th>\n",
       "      <th></th>\n",
       "      <th></th>\n",
       "      <th></th>\n",
       "      <th></th>\n",
       "      <th></th>\n",
       "      <th></th>\n",
       "    </tr>\n",
       "  </thead>\n",
       "  <tbody>\n",
       "    <tr>\n",
       "      <th>2009-01-01</th>\n",
       "      <td>210.1</td>\n",
       "      <td>2009-01-01</td>\n",
       "      <td>0</td>\n",
       "      <td>3</td>\n",
       "      <td>1</td>\n",
       "      <td>1</td>\n",
       "      <td>2009</td>\n",
       "      <td>1</td>\n",
       "      <td>1</td>\n",
       "      <td>1</td>\n",
       "    </tr>\n",
       "    <tr>\n",
       "      <th>2009-02-01</th>\n",
       "      <td>211.4</td>\n",
       "      <td>2009-02-01</td>\n",
       "      <td>0</td>\n",
       "      <td>6</td>\n",
       "      <td>1</td>\n",
       "      <td>2</td>\n",
       "      <td>2009</td>\n",
       "      <td>32</td>\n",
       "      <td>1</td>\n",
       "      <td>5</td>\n",
       "    </tr>\n",
       "    <tr>\n",
       "      <th>2009-03-01</th>\n",
       "      <td>211.3</td>\n",
       "      <td>2009-03-01</td>\n",
       "      <td>0</td>\n",
       "      <td>6</td>\n",
       "      <td>1</td>\n",
       "      <td>3</td>\n",
       "      <td>2009</td>\n",
       "      <td>60</td>\n",
       "      <td>1</td>\n",
       "      <td>9</td>\n",
       "    </tr>\n",
       "    <tr>\n",
       "      <th>2009-04-01</th>\n",
       "      <td>211.5</td>\n",
       "      <td>2009-04-01</td>\n",
       "      <td>0</td>\n",
       "      <td>2</td>\n",
       "      <td>2</td>\n",
       "      <td>4</td>\n",
       "      <td>2009</td>\n",
       "      <td>91</td>\n",
       "      <td>1</td>\n",
       "      <td>14</td>\n",
       "    </tr>\n",
       "    <tr>\n",
       "      <th>2009-05-01</th>\n",
       "      <td>212.8</td>\n",
       "      <td>2009-05-01</td>\n",
       "      <td>0</td>\n",
       "      <td>4</td>\n",
       "      <td>2</td>\n",
       "      <td>5</td>\n",
       "      <td>2009</td>\n",
       "      <td>121</td>\n",
       "      <td>1</td>\n",
       "      <td>18</td>\n",
       "    </tr>\n",
       "    <tr>\n",
       "      <th>...</th>\n",
       "      <td>...</td>\n",
       "      <td>...</td>\n",
       "      <td>...</td>\n",
       "      <td>...</td>\n",
       "      <td>...</td>\n",
       "      <td>...</td>\n",
       "      <td>...</td>\n",
       "      <td>...</td>\n",
       "      <td>...</td>\n",
       "      <td>...</td>\n",
       "    </tr>\n",
       "    <tr>\n",
       "      <th>2019-09-01</th>\n",
       "      <td>291.0</td>\n",
       "      <td>2019-09-01</td>\n",
       "      <td>0</td>\n",
       "      <td>6</td>\n",
       "      <td>3</td>\n",
       "      <td>9</td>\n",
       "      <td>2019</td>\n",
       "      <td>244</td>\n",
       "      <td>1</td>\n",
       "      <td>35</td>\n",
       "    </tr>\n",
       "    <tr>\n",
       "      <th>2019-10-01</th>\n",
       "      <td>290.4</td>\n",
       "      <td>2019-10-01</td>\n",
       "      <td>0</td>\n",
       "      <td>1</td>\n",
       "      <td>4</td>\n",
       "      <td>10</td>\n",
       "      <td>2019</td>\n",
       "      <td>274</td>\n",
       "      <td>1</td>\n",
       "      <td>40</td>\n",
       "    </tr>\n",
       "    <tr>\n",
       "      <th>2019-11-01</th>\n",
       "      <td>291.0</td>\n",
       "      <td>2019-11-01</td>\n",
       "      <td>0</td>\n",
       "      <td>4</td>\n",
       "      <td>4</td>\n",
       "      <td>11</td>\n",
       "      <td>2019</td>\n",
       "      <td>305</td>\n",
       "      <td>1</td>\n",
       "      <td>44</td>\n",
       "    </tr>\n",
       "    <tr>\n",
       "      <th>2019-12-01</th>\n",
       "      <td>291.9</td>\n",
       "      <td>2019-12-01</td>\n",
       "      <td>0</td>\n",
       "      <td>6</td>\n",
       "      <td>4</td>\n",
       "      <td>12</td>\n",
       "      <td>2019</td>\n",
       "      <td>335</td>\n",
       "      <td>1</td>\n",
       "      <td>48</td>\n",
       "    </tr>\n",
       "    <tr>\n",
       "      <th>2020-01-01</th>\n",
       "      <td>290.6</td>\n",
       "      <td>2020-01-01</td>\n",
       "      <td>0</td>\n",
       "      <td>2</td>\n",
       "      <td>1</td>\n",
       "      <td>1</td>\n",
       "      <td>2020</td>\n",
       "      <td>1</td>\n",
       "      <td>1</td>\n",
       "      <td>1</td>\n",
       "    </tr>\n",
       "  </tbody>\n",
       "</table>\n",
       "<p>133 rows × 10 columns</p>\n",
       "</div>"
      ],
      "text/plain": [
       "              RPI       date  hour  dayofweek  quarter  month  year  \\\n",
       "Date                                                                  \n",
       "2009-01-01  210.1 2009-01-01     0          3        1      1  2009   \n",
       "2009-02-01  211.4 2009-02-01     0          6        1      2  2009   \n",
       "2009-03-01  211.3 2009-03-01     0          6        1      3  2009   \n",
       "2009-04-01  211.5 2009-04-01     0          2        2      4  2009   \n",
       "2009-05-01  212.8 2009-05-01     0          4        2      5  2009   \n",
       "...           ...        ...   ...        ...      ...    ...   ...   \n",
       "2019-09-01  291.0 2019-09-01     0          6        3      9  2019   \n",
       "2019-10-01  290.4 2019-10-01     0          1        4     10  2019   \n",
       "2019-11-01  291.0 2019-11-01     0          4        4     11  2019   \n",
       "2019-12-01  291.9 2019-12-01     0          6        4     12  2019   \n",
       "2020-01-01  290.6 2020-01-01     0          2        1      1  2020   \n",
       "\n",
       "            dayofyear  dayofmonth  weekofyear  \n",
       "Date                                           \n",
       "2009-01-01          1           1           1  \n",
       "2009-02-01         32           1           5  \n",
       "2009-03-01         60           1           9  \n",
       "2009-04-01         91           1          14  \n",
       "2009-05-01        121           1          18  \n",
       "...               ...         ...         ...  \n",
       "2019-09-01        244           1          35  \n",
       "2019-10-01        274           1          40  \n",
       "2019-11-01        305           1          44  \n",
       "2019-12-01        335           1          48  \n",
       "2020-01-01          1           1           1  \n",
       "\n",
       "[133 rows x 10 columns]"
      ]
     },
     "execution_count": 97,
     "metadata": {},
     "output_type": "execute_result"
    }
   ],
   "source": [
    "nhits_train[:\"2020-01-01\"]"
   ]
  },
  {
   "cell_type": "code",
   "execution_count": 91,
   "id": "a6684924",
   "metadata": {},
   "outputs": [
    {
     "ename": "NameError",
     "evalue": "name 'nhits_train' is not defined",
     "output_type": "error",
     "traceback": [
      "\u001b[0;31m---------------------------------------------------------------------------\u001b[0m",
      "\u001b[0;31mNameError\u001b[0m                                 Traceback (most recent call last)",
      "\u001b[0;32m/var/folders/wv/znl2vtzn0150xwlyckjyk_kh0000gn/T/ipykernel_5328/3568718367.py\u001b[0m in \u001b[0;36m<module>\u001b[0;34m\u001b[0m\n\u001b[1;32m      1\u001b[0m \u001b[0;32mfrom\u001b[0m \u001b[0mdarts\u001b[0m \u001b[0;32mimport\u001b[0m \u001b[0mTimeSeries\u001b[0m\u001b[0;34m\u001b[0m\u001b[0;34m\u001b[0m\u001b[0m\n\u001b[1;32m      2\u001b[0m \u001b[0;34m\u001b[0m\u001b[0m\n\u001b[0;32m----> 3\u001b[0;31m series1 = TimeSeries.from_dataframe(nhits_train.loc[:\"2019-01-01\"], value_cols = 'RPI',\\\n\u001b[0m\u001b[1;32m      4\u001b[0m                                    fill_missing_dates=True, freq=None)\n\u001b[1;32m      5\u001b[0m \u001b[0;34m\u001b[0m\u001b[0m\n",
      "\u001b[0;31mNameError\u001b[0m: name 'nhits_train' is not defined"
     ]
    }
   ],
   "source": [
    "from darts import TimeSeries\n",
    "\n",
    "series1 = TimeSeries.from_dataframe(nhits_train.loc[:\"2019-01-01\"], value_cols = 'RPI',\\\n",
    "                                   fill_missing_dates=True, freq=None)\n",
    "\n",
    "#series2 = TimeSeries.from_dataframe(y_train, value_cols = 'RPI',\\\n",
    "                                   #fill_missing_dates=True, freq=None)\n",
    "\n",
    "\n",
    "static_covs_single = pd.DataFrame(data={\"cont\": [1]})\n",
    "\n",
    "s1sc = series1.with_static_covariates(static_covs_single)\n",
    "\n",
    "#s2sc = series2.with_static_covariates(static_covs_single)\n",
    "\n",
    "from darts.models.forecasting.nhits import NHiTSModel as nhits\n",
    "\n",
    "\n",
    "model = nhits(input_chunk_length= 100, output_chunk_length = 1,num_stacks = 10, num_blocks = 1)\n",
    "\n",
    "model.fit([s1sc], epochs=50, verbose=True)\n"
   ]
  },
  {
   "cell_type": "code",
   "execution_count": 104,
   "id": "89b7dc7d",
   "metadata": {
    "scrolled": true
   },
   "outputs": [
    {
     "data": {
      "application/vnd.jupyter.widget-view+json": {
       "model_id": "06a41b5d76cd4912b168244dba9df857",
       "version_major": 2,
       "version_minor": 0
      },
      "text/plain": [
       "Predicting: 1it [00:00, ?it/s]"
      ]
     },
     "metadata": {},
     "output_type": "display_data"
    },
    {
     "data": {
      "text/plain": [
       "[<matplotlib.lines.Line2D at 0x15d2289d0>]"
      ]
     },
     "execution_count": 104,
     "metadata": {},
     "output_type": "execute_result"
    },
    {
     "data": {
      "image/png": "[encoded data removed]",
      "text/plain": [
       "<Figure size 432x288 with 1 Axes>"
      ]
     },
     "metadata": {},
     "output_type": "display_data"
    }
   ],
   "source": [
    "pred_ = model.predict(series=s1sc, n=15)\n",
    "\n",
    "\n",
    "pred_.plot()\n",
    "plt.plot(RPI_df.loc[:\"2019-01-01\"])"
   ]
  },
  {
   "cell_type": "code",
   "execution_count": 192,
   "id": "b8d6c203",
   "metadata": {},
   "outputs": [
    {
     "data": {
      "text/plain": [
       "Date\n",
       "2009-01-01    0.993957\n",
       "2009-02-01    0.998657\n",
       "2009-03-01    0.999391\n",
       "2009-04-01    1.002573\n",
       "2009-05-01    1.002618\n",
       "                ...   \n",
       "2019-09-01    1.001355\n",
       "2019-10-01    1.000149\n",
       "2019-11-01    0.998944\n",
       "2019-12-01    1.001359\n",
       "2020-01-01    0.993957\n",
       "Name: seasonal, Length: 133, dtype: float64"
      ]
     },
     "execution_count": 192,
     "metadata": {},
     "output_type": "execute_result"
    }
   ],
   "source": [
    "train_decomp.seasonal"
   ]
  },
  {
   "cell_type": "code",
   "execution_count": 44,
   "id": "54089f61",
   "metadata": {},
   "outputs": [
    {
     "data": {
      "text/plain": [
       "array(892.09102855)"
      ]
     },
     "execution_count": 44,
     "metadata": {},
     "output_type": "execute_result"
    }
   ],
   "source": [
    "#np.cov(np.reshape(series1.values(), newshape = (163,)))"
   ]
  },
  {
   "cell_type": "code",
   "execution_count": null,
   "id": "220a5be1",
   "metadata": {},
   "outputs": [],
   "source": [
    "## \"Undifferencing\" the time series.\n",
    "\n",
    "undiff_pred = pred_.pd_dataframe().cumsum().apply(lambda x: x+298.4)"
   ]
  },
  {
   "cell_type": "code",
   "execution_count": null,
   "id": "057fbd62",
   "metadata": {},
   "outputs": [],
   "source": [
    "plt.plot(differenced_df[4:-12]['RPI'])\n",
    "plt.plot(undiff_pred)"
   ]
  },
  {
   "cell_type": "code",
   "execution_count": null,
   "id": "f7cd4654",
   "metadata": {},
   "outputs": [],
   "source": []
  }
 ],
 "metadata": {
  "kernelspec": {
   "display_name": "Python 3 (ipykernel)",
   "language": "python",
   "name": "python3"
  },
  "language_info": {
   "codemirror_mode": {
    "name": "ipython",
    "version": 3
   },
   "file_extension": ".py",
   "mimetype": "text/x-python",
   "name": "python",
   "nbconvert_exporter": "python",
   "pygments_lexer": "ipython3",
   "version": "3.8.12"
  },
  "toc": {
   "base_numbering": 1,
   "nav_menu": {},
   "number_sections": true,
   "sideBar": true,
   "skip_h1_title": false,
   "title_cell": "Table of Contents",
   "title_sidebar": "Contents",
   "toc_cell": false,
   "toc_position": {},
   "toc_section_display": true,
   "toc_window_display": false
  }
 },
 "nbformat": 4,
 "nbformat_minor": 5
}
