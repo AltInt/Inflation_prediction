{
 "cells": [
  {
   "cell_type": "code",
   "execution_count": null,
   "id": "eb228b63",
   "metadata": {},
   "outputs": [],
   "source": [
    "import pandas as pd\n",
    "import numpy as np\n",
    "import matplotlib.pyplot as plt\n",
    "import seaborn as sns\n",
    "!pwd"
   ]
  },
  {
   "cell_type": "code",
   "execution_count": 3,
   "id": "fa660438",
   "metadata": {},
   "outputs": [
    {
     "name": "stdout",
     "output_type": "stream",
     "text": [
      "/home/nasonn/code/AltInt/Inflation_prediction/notebooks\r\n"
     ]
    }
   ],
   "source": [
    "!pwd"
   ]
  },
  {
   "cell_type": "code",
   "execution_count": 5,
   "id": "564b5359",
   "metadata": {},
   "outputs": [],
   "source": [
    "df_rpi_cpi = pd.read_csv(\"RPI_CPI.csv\")\n"
   ]
  },
  {
   "cell_type": "code",
   "execution_count": null,
   "id": "851fe341",
   "metadata": {},
   "outputs": [],
   "source": [
    "df_rpi_cpi['Date'] = pd.to_datetime(df_rpi_cpi['Date'], infer_datetime_format=True)"
   ]
  },
  {
   "cell_type": "code",
   "execution_count": null,
   "id": "d98269d0",
   "metadata": {},
   "outputs": [],
   "source": [
    "df = pd.read_csv('BloombergData-01a.csv')\n",
    "df"
   ]
  },
  {
   "cell_type": "code",
   "execution_count": null,
   "id": "ac3dc75d",
   "metadata": {},
   "outputs": [],
   "source": [
    "df = df.join(df_rpi_cpi)\n",
    "df"
   ]
  },
  {
   "cell_type": "code",
   "execution_count": null,
   "id": "544cd3b1",
   "metadata": {},
   "outputs": [],
   "source": [
    "##Converting dates to date- time objects\n",
    "columns_list = list(df.columns)\n",
    "for columns in columns_list:\n",
    "    if 'Date' in columns:\n",
    "        df[columns] = pd.to_datetime(df[columns], infer_datetime_format=True)"
   ]
  },
  {
   "cell_type": "code",
   "execution_count": null,
   "id": "238b11ad",
   "metadata": {},
   "outputs": [],
   "source": [
    "df.info()"
   ]
  },
  {
   "cell_type": "code",
   "execution_count": null,
   "id": "036e3378",
   "metadata": {},
   "outputs": [],
   "source": [
    "CO1_Comdty = df.groupby(pd.PeriodIndex(df['Date CO1 Comdty'], freq='M'))[['CO1 Comdty']].mean()\n",
    "CL1_Comdty = df.groupby(pd.PeriodIndex(df['Date CL1 Comdty'], freq='M'))[['CL1 Comdty']].mean()\n",
    "GBP_Curncy = df.groupby(pd.PeriodIndex(df['Date GBP Curncy'], freq='M'))[['GBP Curncy']].mean()\n",
    "GBPEUR_Curncy = df.groupby(pd.PeriodIndex(df['Date GBPEUR Curncy'], freq='M'))[['GBPEUR Curncy']].mean()\n",
    "UKX_Index = df.groupby(pd.PeriodIndex(df['Date UKX Index'], freq='M'))[['UKX Index']].mean()\n",
    "SPX_Index = df.groupby(pd.PeriodIndex(df['Date SPX Index'], freq='M'))[['SPX Index']].mean()          \n",
    "SX5E_Index = df.groupby(pd.PeriodIndex(df['Date SX5E Index'], freq='M'))[['SX5E Index']].mean()\n",
    "BPSW2_Curncy = df.groupby(pd.PeriodIndex(df['Date BPSW2 Curncy'], freq='M'))[['BPSW2 Curncy']].mean()\n",
    "BPSW10_Curncy = df.groupby(pd.PeriodIndex(df['Date BPSW10 Curncy'], freq='M'))[['BPSW10 Curncy']].mean()\n",
    "TTFG1MON_Index = df.groupby(pd.PeriodIndex(df['Date TTFG1MON Index'], freq='M'))[['TTFG1MON Index']].mean()\n",
    "RPI = df.groupby(pd.PeriodIndex(df['Date'], freq='M'))[['RPI']].mean()\n",
    "CPI = df.groupby(pd.PeriodIndex(df['Date'], freq='M'))[['CPI']].mean()"
   ]
  },
  {
   "cell_type": "code",
   "execution_count": null,
   "id": "35425ace",
   "metadata": {},
   "outputs": [],
   "source": [
    "df_list = [CO1_Comdty,CL1_Comdty,GBP_Curncy,GBPEUR_Curncy,UKX_Index,SPX_Index,SX5E_Index,TTFG1MON_Index, RPI, CPI]"
   ]
  },
  {
   "cell_type": "code",
   "execution_count": null,
   "id": "7bc08683",
   "metadata": {},
   "outputs": [],
   "source": [
    "### MAKING A HUGE DATASET BY JOINING ALL COLUMNS WITH KEY INDEX BEING DATE\n",
    "result_df = df_list[0]\n",
    "for i in range(len(df_list)-1):\n",
    "    if i<len(df_list):\n",
    "        result_df = result_df.join(df_list[i+1], how='inner')"
   ]
  },
  {
   "cell_type": "code",
   "execution_count": null,
   "id": "df702760",
   "metadata": {},
   "outputs": [],
   "source": [
    "##### NOTE WE ARE ONLY CONSIDERING DATA AFTER 2008. HENCE: 2009\n",
    "\n",
    "result_df = result_df[result_df.index>=\"2009-01\"]"
   ]
  },
  {
   "cell_type": "code",
   "execution_count": null,
   "id": "5c0cdcc0",
   "metadata": {},
   "outputs": [],
   "source": [
    "result_df"
   ]
  },
  {
   "cell_type": "code",
   "execution_count": null,
   "id": "a28b7a88",
   "metadata": {},
   "outputs": [],
   "source": [
    "#finding the correlation between the external features and RPI/CPI index.This will help to see which external features are\n",
    "# best to use in time series model\n",
    "corr_matrix = result_df.corr()\n",
    "sns.set_style(\"dark\")\n",
    "sns.heatmap(corr_matrix, annot=True,cmap = 'PiYG', vmin=-1.0, vmax = 1.0)"
   ]
  },
  {
   "cell_type": "code",
   "execution_count": null,
   "id": "f40ebef9",
   "metadata": {},
   "outputs": [],
   "source": [
    "### Converting result_df index into datetime64 for ease of use\n",
    "\n",
    "result_df.index = result_df.index.to_timestamp()"
   ]
  },
  {
   "cell_type": "code",
   "execution_count": null,
   "id": "80566c9c",
   "metadata": {
    "scrolled": false
   },
   "outputs": [],
   "source": [
    "result_df.index"
   ]
  },
  {
   "cell_type": "code",
   "execution_count": null,
   "id": "b2f361f2",
   "metadata": {},
   "outputs": [],
   "source": [
    "#### Converting the index values in GBP to standard units\n",
    "\n",
    "result_GBP_df = result_df.copy()\n",
    "\n",
    "result_GBP_df['CO1 Comdty'] = result_df['CO1 Comdty']/result_df['GBP Curncy']\n",
    "result_GBP_df['CL1 Comdty'] = result_df['CL1 Comdty']/result_df['GBP Curncy']\n",
    "result_GBP_df['TTFG1MON Index'] = result_df['TTFG1MON Index']/result_df['GBP Curncy']\n",
    "result_GBP_df['SPX Index'] = result_df['SPX Index']/result_df['GBP Curncy']\n",
    "\n",
    "result_GBP_df['SX5E Index'] = result_df['SX5E Index']/result_df['GBPEUR Curncy']\n",
    "\n",
    "result_GBP_df"
   ]
  },
  {
   "cell_type": "markdown",
   "id": "8ebe204c",
   "metadata": {},
   "source": [
    "# XGBOOST"
   ]
  },
  {
   "cell_type": "code",
   "execution_count": null,
   "id": "05639e82",
   "metadata": {},
   "outputs": [],
   "source": [
    "import seaborn as sns\n",
    "import matplotlib.pyplot as plt\n",
    "import xgboost as xgb\n",
    "from xgboost import plot_importance, plot_tree\n",
    "from sklearn.metrics import mean_squared_error, mean_absolute_error\n",
    "plt.style.use('seaborn-whitegrid')"
   ]
  },
  {
   "cell_type": "code",
   "execution_count": null,
   "id": "169ee63a",
   "metadata": {},
   "outputs": [],
   "source": [
    "### We are only considering time after the stock market crash. Hence, the \"split_date\"\n",
    "\n",
    "cutoff_date = \"2009-01-01\"\n",
    "XGB_df = result_GBP_df.loc[result_GBP_df.index >= cutoff_date].copy()"
   ]
  },
  {
   "cell_type": "code",
   "execution_count": null,
   "id": "6d016b24",
   "metadata": {},
   "outputs": [],
   "source": [
    "XGB_df"
   ]
  },
  {
   "cell_type": "code",
   "execution_count": null,
   "id": "a945171f",
   "metadata": {},
   "outputs": [],
   "source": [
    "_ = XGB_df.plot( figsize=(15,5), title='Time-series data of all index')\n",
    "plt.legend(loc='best')\n",
    "plt.yscale('log')"
   ]
  },
  {
   "cell_type": "markdown",
   "id": "ad4fcf90",
   "metadata": {},
   "source": [
    "## Train test split"
   ]
  },
  {
   "cell_type": "code",
   "execution_count": null,
   "id": "ece475bb",
   "metadata": {},
   "outputs": [],
   "source": [
    "XGB_train = XGB_df.iloc[:114]\n",
    "XGB_test = XGB_df.iloc[114:]"
   ]
  },
  {
   "cell_type": "code",
   "execution_count": null,
   "id": "59ce47b3",
   "metadata": {
    "scrolled": false
   },
   "outputs": [],
   "source": [
    "plt.plot(XGB_train)\n",
    "plt.plot(XGB_test)\n",
    "plt.yscale('log')"
   ]
  },
  {
   "cell_type": "code",
   "execution_count": null,
   "id": "603b8eae",
   "metadata": {},
   "outputs": [],
   "source": [
    "XGB_df['TTFG1MON Index'].plot()"
   ]
  },
  {
   "cell_type": "code",
   "execution_count": null,
   "id": "b017b6b6",
   "metadata": {},
   "outputs": [],
   "source": [
    "from statsmodels.tsa.seasonal import seasonal_decompose\n",
    "\n",
    "TTFG_decomp_train = seasonal_decompose(XGB_train['TTFG1MON Index'],model = 'multiplicative')\n",
    "TTFG_decomp_test = seasonal_decompose(XGB_test['TTFG1MON Index'],model = 'multiplicative')"
   ]
  },
  {
   "cell_type": "code",
   "execution_count": null,
   "id": "d5424e17",
   "metadata": {},
   "outputs": [],
   "source": [
    "TTFG_decomp_test.seasonal.loc[\"2019-01-01\":\"2022-01-01\"].shape"
   ]
  },
  {
   "cell_type": "code",
   "execution_count": null,
   "id": "d7d09b5f",
   "metadata": {
    "scrolled": false
   },
   "outputs": [],
   "source": [
    "from statsmodels.tsa.stattools import adfuller\n",
    "\n",
    "adfuller(TTFG_decomp_train.resid.dropna())"
   ]
  },
  {
   "cell_type": "code",
   "execution_count": null,
   "id": "108e87fb",
   "metadata": {},
   "outputs": [],
   "source": [
    "# TTFG_decomp_train.resid.dropna(inplace = True)\n",
    "# TTFG_decomp_test.resid.dropna(inplace = True)"
   ]
  },
  {
   "cell_type": "code",
   "execution_count": null,
   "id": "3c45128f",
   "metadata": {},
   "outputs": [],
   "source": [
    "### Credits to Rob Mulla from Kaggle: https://www.kaggle.com/code/robikscube/tutorial-time-series-forecasting-with-xgboost\n",
    "def create_features(df, label=None):\n",
    "    \"\"\"\n",
    "    Creates time series features from datetime index\n",
    "    \"\"\"\n",
    "    df['date'] = df.index\n",
    "    df['hour'] = df['date'].dt.hour\n",
    "    df['dayofweek'] = df['date'].dt.dayofweek\n",
    "    df['quarter'] = df['date'].dt.quarter\n",
    "    df['month'] = df['date'].dt.month\n",
    "    df['year'] = df['date'].dt.year\n",
    "    df['dayofyear'] = df['date'].dt.dayofyear\n",
    "    df['dayofmonth'] = df['date'].dt.day\n",
    "    df['weekofyear'] = df['date'].dt.weekofyear\n",
    "    \n",
    "    X = df[['hour','dayofweek','quarter','month','year',\n",
    "           'dayofyear','dayofmonth','weekofyear']]\n",
    "    if label:\n",
    "        y = df[label]\n",
    "        return X, y\n",
    "    return X"
   ]
  },
  {
   "cell_type": "code",
   "execution_count": null,
   "id": "021d9d05",
   "metadata": {
    "scrolled": false
   },
   "outputs": [],
   "source": [
    "X_train,y_train= create_features(pd.DataFrame(TTFG_decomp_train.resid), label='resid')\n",
    "X_test, y_test = create_features(pd.DataFrame(TTFG_decomp_test.resid), label='resid')"
   ]
  },
  {
   "cell_type": "code",
   "execution_count": null,
   "id": "62355435",
   "metadata": {},
   "outputs": [],
   "source": [
    "X_train"
   ]
  },
  {
   "cell_type": "code",
   "execution_count": null,
   "id": "7a419f80",
   "metadata": {},
   "outputs": [],
   "source": [
    "print(X_train.shape,y_train.shape,X_test.shape,y_test.shape)"
   ]
  },
  {
   "cell_type": "code",
   "execution_count": null,
   "id": "5207d9b5",
   "metadata": {},
   "outputs": [],
   "source": [
    "reg = xgb.XGBRegressor(n_estimators=1000)\n",
    "reg.fit(X_train, y_train,\n",
    "        eval_set=[(X_train, y_train), (X_test, y_test)],\n",
    "        early_stopping_rounds=50,\n",
    "       verbose=False)"
   ]
  },
  {
   "cell_type": "code",
   "execution_count": null,
   "id": "3c0460b9",
   "metadata": {},
   "outputs": [],
   "source": [
    "### Feature importance rank\n",
    "_ = plot_importance(reg, height=0.9)"
   ]
  },
  {
   "cell_type": "code",
   "execution_count": null,
   "id": "168c2ffa",
   "metadata": {},
   "outputs": [],
   "source": [
    "### Creating new Dframe for comparison of predicted values and actual values. (Both are decomposed)\n",
    "d = pd.DataFrame({'TTFG1MON Index After S.decomp': \\\n",
    "                  y_test\\\n",
    "                  *TTFG_decomp_test.seasonal.loc[\"2019-01-01\":\"2022-01-01\"] \\\n",
    "                  *TTFG_decomp_test.trend.loc[\"2019-01-01\":\"2022-01-01\"],\\\n",
    "                  'TTFG1MON_Prediction': \\\n",
    "                  reg.predict(X_test) \\\n",
    "                  *TTFG_decomp_test.seasonal.loc[\"2019-01-01\":\"2022-01-01\"] \\\n",
    "                  *TTFG_decomp_test.trend.loc[\"2019-01-01\":\"2022-01-01\"]})"
   ]
  },
  {
   "cell_type": "code",
   "execution_count": null,
   "id": "23ea83ca",
   "metadata": {},
   "outputs": [],
   "source": [
    "### Simple plot of 3 values \n",
    "# TTG1MON Index decomposed and recomposed\n",
    "# TTG1MON Predicted values from XGB_train\n",
    "# TTG1MON Index from the ORIGINAL DATASET\n",
    "\n",
    "d.plot(figsize=(13,7))\n",
    "XGB_test['TTFG1MON Index'].plot()\n",
    "plt.legend()\n",
    "plt.title(\"Plot of XGB model vs actual data for TTFG1MON Index\")\n",
    "plt.xlabel(\"Year\")\n",
    "plt.ylabel(\"Values\")"
   ]
  },
  {
   "cell_type": "code",
   "execution_count": null,
   "id": "b5446282",
   "metadata": {},
   "outputs": [],
   "source": [
    "### Proof trend*seasonal*resid is correct!\n",
    "XGB_test['TTFG1MON Index'].plot(figsize = (13,7))\n",
    "d['TTFG1MON Index After S.decomp'].plot()\n",
    "plt.legend()\n",
    "plt.xlabel(\"Year\")\n",
    "plt.ylabel(\"Values\")"
   ]
  },
  {
   "cell_type": "markdown",
   "id": "a0930ab4",
   "metadata": {},
   "source": [
    "## Looking closely at Predicted vs Actual"
   ]
  },
  {
   "cell_type": "code",
   "execution_count": null,
   "id": "1b49c8ba",
   "metadata": {},
   "outputs": [],
   "source": [
    "# Plotting\n",
    "f, ax = plt.subplots(1)\n",
    "f.set_figheight(5)\n",
    "f.set_figwidth(15)\n",
    "_ = d[['TTFG1MON Index After S.decomp','TTFG1MON_Prediction']].plot(ax=ax,\n",
    "                                              style=['-','.'])\n",
    "ax.set_xbound(lower='01-01-2019', upper='04-01-2020')\n",
    "plot = plt.suptitle('01-01-2019 to 04-01-2020 Forecast vs Actuals')"
   ]
  },
  {
   "cell_type": "markdown",
   "id": "1f9549d8",
   "metadata": {},
   "source": [
    "## Metrics for XGB_test"
   ]
  },
  {
   "cell_type": "code",
   "execution_count": null,
   "id": "f5affa45",
   "metadata": {},
   "outputs": [],
   "source": [
    "mean_squared_error(y_true=d['TTFG1MON Index After S.decomp'],\n",
    "                   y_pred=d['TTFG1MON_Prediction'])"
   ]
  },
  {
   "cell_type": "code",
   "execution_count": null,
   "id": "67f303b4",
   "metadata": {},
   "outputs": [],
   "source": []
  },
  {
   "cell_type": "code",
   "execution_count": null,
   "id": "d9c735ee",
   "metadata": {},
   "outputs": [],
   "source": []
  },
  {
   "cell_type": "code",
   "execution_count": null,
   "id": "7ae95ca6",
   "metadata": {},
   "outputs": [],
   "source": [
    "print('p-value: ', adfuller(y)[1])"
   ]
  },
  {
   "cell_type": "code",
   "execution_count": null,
   "id": "3c85b911",
   "metadata": {},
   "outputs": [],
   "source": [
    "print('p-value: ', adfuller(y.diff(1).dropna())[1])"
   ]
  },
  {
   "cell_type": "code",
   "execution_count": null,
   "id": "d2d496af",
   "metadata": {},
   "outputs": [],
   "source": [
    "print('p-value: ', adfuller(y.diff(1).diff(1).fillna(0))[1])"
   ]
  },
  {
   "cell_type": "code",
   "execution_count": null,
   "id": "bdae74fa",
   "metadata": {
    "scrolled": false
   },
   "outputs": [],
   "source": [
    "from statsmodels.graphics.tsaplots import plot_acf, plot_pacf\n",
    "\n",
    "# Original Series\n",
    "fig, axes = plt.subplots(3, 2, figsize=(13,10))\n",
    "axes[0, 0].plot(y); axes[0, 0].set_title('Original Series')\n",
    "plot_acf(y, auto_ylims=True,ax=axes[0, 1])\n",
    "\n",
    "# 1st Differencing\n",
    "axes[1, 0].plot(y.diff()); axes[1, 0].set_title('1st Order Differencing')\n",
    "plot_acf(y.diff().dropna(), auto_ylims=True,ax=axes[1, 1])\n",
    "\n",
    "# 2nd Differencing\n",
    "axes[2, 0].plot(y.diff().diff()); axes[2, 0].set_title('2nd Order Differencing')\n",
    "plot_acf(y.diff().diff().dropna(), auto_ylims=True, ax=axes[2, 1])\n",
    "\n",
    "plt.tight_layout()"
   ]
  },
  {
   "cell_type": "code",
   "execution_count": null,
   "id": "46dfbe24",
   "metadata": {},
   "outputs": [],
   "source": [
    "differenced_rpi = y.diff(12).diff(12).dropna()\n",
    "RPI_DIF = pd.DataFrame(differenced_rpi)\n",
    "\n",
    "differenced_SPX = result_df['SPX Index'].diff().dropna()\n",
    "SPX_DIF  = pd.DataFrame(differenced_SPX)\n",
    "\n",
    "differenced_df = RPI_DIF.join(SPX_DIF)\n",
    "\n",
    "\n"
   ]
  },
  {
   "cell_type": "code",
   "execution_count": null,
   "id": "71c5b78e",
   "metadata": {},
   "outputs": [],
   "source": [
    "differenced_df['RPI_dif'] = differenced_df['RPI']"
   ]
  },
  {
   "cell_type": "code",
   "execution_count": null,
   "id": "e1e410bd",
   "metadata": {},
   "outputs": [],
   "source": [
    "differenced_df['RPI'] = result_df['RPI']"
   ]
  },
  {
   "cell_type": "code",
   "execution_count": null,
   "id": "9cd46079",
   "metadata": {},
   "outputs": [],
   "source": [
    "differenced_df"
   ]
  },
  {
   "cell_type": "code",
   "execution_count": null,
   "id": "3f907114",
   "metadata": {},
   "outputs": [],
   "source": [
    "result_df.columns"
   ]
  },
  {
   "cell_type": "code",
   "execution_count": null,
   "id": "3215bc87",
   "metadata": {},
   "outputs": [],
   "source": [
    "def adf_and_diff(tseries):\n",
    "    \"\"\"\n",
    "    Takes in a series/dataframe with column specified and determines whether the time series needs to be stationary or not.\n",
    "    The function attempts to convert it to a stationary time-series by differencing.\n",
    "    It also tries to the minimize of orders for differencing. (Maximum 2nd-order in works).\n",
    "    \"\"\"\n",
    "    from statsmodels.tsa.stattools import adfuller\n",
    "    \n",
    "    p_value = adfuller(tseries)[1]\n",
    "    \n",
    "    differenced_series = tseries\n",
    "    \n",
    "      \n",
    "    while p_value >= 0.05:\n",
    "        \n",
    "        p_value = adfuller(differenced_series.diff(12).fillna(0))[1]\n",
    "        \n",
    "        differenced_series = differenced_series.diff(12).fillna(0)\n",
    "        \n",
    "        print(f'p value is reduced to {p_value}')\n",
    "        \n",
    "        print(\"Differenced\")\n",
    "        \n",
    "        \n",
    "            \n",
    "            \n",
    "            \n",
    "    return differenced_series\n",
    "\n",
    "    "
   ]
  },
  {
   "cell_type": "code",
   "execution_count": null,
   "id": "9cda851b",
   "metadata": {},
   "outputs": [],
   "source": [
    "def decomp(tseries):\n",
    "    \"\"\"\n",
    "    Takes in a series/dataframe performs seasonal decomposition on it\n",
    "    \n",
    "    \"\"\""
   ]
  },
  {
   "cell_type": "code",
   "execution_count": null,
   "id": "c5f43705",
   "metadata": {},
   "outputs": [],
   "source": [
    "adf_and_diff(result_df['RPI'])"
   ]
  },
  {
   "cell_type": "code",
   "execution_count": null,
   "id": "22035d49",
   "metadata": {},
   "outputs": [],
   "source": [
    "result.resid.plot()"
   ]
  },
  {
   "cell_type": "code",
   "execution_count": null,
   "id": "d20564b7",
   "metadata": {},
   "outputs": [],
   "source": [
    "result_df['RPI']"
   ]
  },
  {
   "cell_type": "code",
   "execution_count": null,
   "id": "cffb455e",
   "metadata": {},
   "outputs": [],
   "source": [
    "result_df['RPI']"
   ]
  },
  {
   "cell_type": "code",
   "execution_count": null,
   "id": "5a70c120",
   "metadata": {
    "scrolled": false
   },
   "outputs": [],
   "source": [
    "from statsmodels.tsa.seasonal import seasonal_decompose\n",
    "\n",
    "result = seasonal_decompose(result_df['RPI'].dropna(0), model='multiplicable', period=12)"
   ]
  },
  {
   "cell_type": "code",
   "execution_count": null,
   "id": "baf4a075",
   "metadata": {},
   "outputs": [],
   "source": [
    "result_df['RPI'].iloc[6:421]"
   ]
  },
  {
   "cell_type": "code",
   "execution_count": null,
   "id": "730c37da",
   "metadata": {},
   "outputs": [],
   "source": [
    "result_df['RPI'].reset_index()"
   ]
  },
  {
   "cell_type": "code",
   "execution_count": null,
   "id": "0f476050",
   "metadata": {},
   "outputs": [],
   "source": [
    "recomposed = result.resid.dropna()* result.trend.dropna()*result.seasonal.dropna().iloc[6:421]\n"
   ]
  },
  {
   "cell_type": "code",
   "execution_count": null,
   "id": "02970dd3",
   "metadata": {},
   "outputs": [],
   "source": [
    "result.seasonal*"
   ]
  },
  {
   "cell_type": "code",
   "execution_count": null,
   "id": "b892d975",
   "metadata": {},
   "outputs": [],
   "source": [
    "result_df['RPI'].plot()\n",
    "recomposed.plot()"
   ]
  },
  {
   "cell_type": "code",
   "execution_count": null,
   "id": "58c497b3",
   "metadata": {},
   "outputs": [],
   "source": [
    "result.seasonal.dropna().iloc[6:421]"
   ]
  },
  {
   "cell_type": "code",
   "execution_count": null,
   "id": "f095c4f1",
   "metadata": {},
   "outputs": [],
   "source": [
    "adfuller(result.resid.dropna(0))[1]"
   ]
  },
  {
   "cell_type": "code",
   "execution_count": null,
   "id": "0badc943",
   "metadata": {},
   "outputs": [],
   "source": [
    "result_df.columns "
   ]
  },
  {
   "cell_type": "code",
   "execution_count": null,
   "id": "a3bfb82a",
   "metadata": {},
   "outputs": [],
   "source": [
    "adf_and_diff(result_df['GBPEUR Curncy'])"
   ]
  },
  {
   "cell_type": "code",
   "execution_count": null,
   "id": "5ff931ae",
   "metadata": {
    "scrolled": false
   },
   "outputs": [],
   "source": [
    "adfuller(result_df['RPI'].diff(12).diff(12).fillna(0))[1]"
   ]
  },
  {
   "cell_type": "code",
   "execution_count": null,
   "id": "17ed1a25",
   "metadata": {},
   "outputs": [],
   "source": [
    "adfuller(result_df['RPI'].diff(12).diff(12).fillna(0))[1]"
   ]
  },
  {
   "cell_type": "code",
   "execution_count": null,
   "id": "d9900a4c",
   "metadata": {},
   "outputs": [],
   "source": [
    "result_df['RPI'].diff(12).diff(12).diff(12).dropna()"
   ]
  },
  {
   "cell_type": "markdown",
   "id": "af3d7a4d",
   "metadata": {},
   "source": [
    "# NHITS"
   ]
  },
  {
   "cell_type": "code",
   "execution_count": null,
   "id": "a6684924",
   "metadata": {},
   "outputs": [],
   "source": [
    "from darts import TimeSeries\n",
    "\n",
    "\n",
    "series1 = TimeSeries.from_dataframe(differenced_df.iloc[4:-12], value_cols = 'RPI_dif',\\\n",
    "                                   fill_missing_dates=True, freq=None)\n",
    "\n",
    "series2 = TimeSeries.from_dataframe(differenced_df.iloc[4:-12], value_cols = 'SPX Index',\\\n",
    "                                   fill_missing_dates=True, freq=None)\n",
    "\n"
   ]
  },
  {
   "cell_type": "code",
   "execution_count": null,
   "id": "3c822df9",
   "metadata": {
    "scrolled": true
   },
   "outputs": [],
   "source": [
    "static_covs_single = pd.DataFrame(data={\"cont\": [1]})\n",
    "\n",
    "s1sc = series1.with_static_covariates(static_covs_single)\n",
    "\n",
    "s2sc = series2.with_static_covariates(static_covs_single)\n"
   ]
  },
  {
   "cell_type": "code",
   "execution_count": null,
   "id": "9c0ee47b",
   "metadata": {
    "scrolled": false
   },
   "outputs": [],
   "source": [
    "from darts.models.forecasting.nhits import NHiTSModel as nhits\n",
    "\n",
    "\n",
    "model = nhits(input_chunk_length= 100, output_chunk_length = 1,num_stacks = 10, num_blocks = 1)\n",
    "\n",
    "model.fit([s1sc,s2sc], epochs=200, verbose=True)\n"
   ]
  },
  {
   "cell_type": "code",
   "execution_count": null,
   "id": "89b7dc7d",
   "metadata": {
    "scrolled": true
   },
   "outputs": [],
   "source": [
    "#static_covs_past = pd.DataFrame(data={\"cont\": [1], \"cat\": [3]})\n",
    "pred_ = model.predict(series=s1sc, n=14)"
   ]
  },
  {
   "cell_type": "code",
   "execution_count": null,
   "id": "6e6ccd22",
   "metadata": {
    "scrolled": true
   },
   "outputs": [],
   "source": [
    "pred_.plot()\n",
    "plt.plot(differenced_rpi[4:-12])\n"
   ]
  },
  {
   "cell_type": "code",
   "execution_count": null,
   "id": "b7623c51",
   "metadata": {},
   "outputs": [],
   "source": [
    "## \"Undifferencing\" the time series.\n",
    "\n",
    "undiff_pred = pred_.pd_dataframe().cumsum().apply(lambda x: x+298.4)"
   ]
  },
  {
   "cell_type": "code",
   "execution_count": null,
   "id": "401b5bb5",
   "metadata": {},
   "outputs": [],
   "source": [
    "plt.plot(differenced_df[4:-12]['RPI'])\n",
    "plt.plot(undiff_pred)"
   ]
  },
  {
   "cell_type": "code",
   "execution_count": null,
   "id": "f7cd4654",
   "metadata": {},
   "outputs": [],
   "source": []
  }
 ],
 "metadata": {
  "kernelspec": {
   "display_name": "Python 3 (ipykernel)",
   "language": "python",
   "name": "python3"
  },
  "language_info": {
   "codemirror_mode": {
    "name": "ipython",
    "version": 3
   },
   "file_extension": ".py",
   "mimetype": "text/x-python",
   "name": "python",
   "nbconvert_exporter": "python",
   "pygments_lexer": "ipython3",
   "version": "3.8.12"
  },
  "toc": {
   "base_numbering": 1,
   "nav_menu": {},
   "number_sections": true,
   "sideBar": true,
   "skip_h1_title": false,
   "title_cell": "Table of Contents",
   "title_sidebar": "Contents",
   "toc_cell": false,
   "toc_position": {},
   "toc_section_display": true,
   "toc_window_display": false
  }
 },
 "nbformat": 4,
 "nbformat_minor": 5
}
