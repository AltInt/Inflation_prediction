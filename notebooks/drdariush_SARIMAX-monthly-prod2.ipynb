{
 "cells": [
  {
   "cell_type": "markdown",
   "id": "320c4a03",
   "metadata": {},
   "source": [
    "### Import libraries, etc."
   ]
  },
  {
   "cell_type": "code",
   "execution_count": 1,
   "id": "32367782",
   "metadata": {},
   "outputs": [],
   "source": [
    "import pandas as pd\n",
    "import numpy as np\n",
    "import matplotlib.pyplot as plt"
   ]
  },
  {
   "cell_type": "code",
   "execution_count": 2,
   "id": "15b30e9d",
   "metadata": {},
   "outputs": [],
   "source": [
    "import statsmodels.api as sm"
   ]
  },
  {
   "cell_type": "code",
   "execution_count": 3,
   "id": "a6a91328",
   "metadata": {},
   "outputs": [],
   "source": [
    "%matplotlib inline\n",
    "%config InlineBackend.figure_format='retina'"
   ]
  },
  {
   "cell_type": "markdown",
   "id": "377e8c11",
   "metadata": {},
   "source": [
    "### Read in data"
   ]
  },
  {
   "cell_type": "code",
   "execution_count": 5,
   "id": "eb01d3fa",
   "metadata": {},
   "outputs": [],
   "source": [
    "path = '../data/final_df.csv'\n",
    "data = pd.read_csv(path)\n",
    "df = data.set_index('Date')\n",
    "df.index = pd.to_datetime(df.index)"
   ]
  },
  {
   "cell_type": "markdown",
   "id": "41ca45fa",
   "metadata": {},
   "source": [
    "### Convert to RPI only format I've used before"
   ]
  },
  {
   "cell_type": "code",
   "execution_count": 6,
   "id": "e378ba41",
   "metadata": {},
   "outputs": [],
   "source": [
    "df_RPI_CPI = df[['RPI', 'CPI']]\n",
    "df_RPI = df_RPI_CPI.drop('CPI', axis=1)\n",
    "df_RPI.index = pd.to_datetime(df_RPI.index)\n",
    "df_RPI['Date'] = df_RPI.index\n",
    "df_RPI.index = pd.RangeIndex(start=0, stop=len(df_RPI))"
   ]
  },
  {
   "cell_type": "markdown",
   "id": "50c6be7d",
   "metadata": {},
   "source": [
    "### Funciton to convert a number to yyyy-mm"
   ]
  },
  {
   "cell_type": "code",
   "execution_count": 7,
   "id": "5dbc6f13",
   "metadata": {},
   "outputs": [],
   "source": [
    "def mmyyyy(no_months):\n",
    "    yyyy = 2000 + no_months // 12\n",
    "    mm = no_months % 12\n",
    "    if mm == 0:\n",
    "        mm = 12\n",
    "    return f'{yyyy}-{\"{:02d}\".format(mm)}'"
   ]
  },
  {
   "cell_type": "markdown",
   "id": "3747cdb3",
   "metadata": {},
   "source": [
    "### Define DataFrame names for easy looping"
   ]
  },
  {
   "cell_type": "code",
   "execution_count": 8,
   "id": "3664e647",
   "metadata": {},
   "outputs": [],
   "source": [
    "dataframes = {}\n",
    "est_frames = {}\n",
    "\n",
    "for i in range(229):\n",
    "    months = 109 + i\n",
    "    start = mmyyyy(months)\n",
    "    end = mmyyyy(months+60)\n",
    "    dataframes[f'df_RPI_{start}_{end}'] = df_RPI[0*12+i:0*12+i+60]\n",
    "#     print(f'start = {start}, end = {end}')\n",
    "    start_test = mmyyyy(months+60)\n",
    "    end_test = mmyyyy(months+60+1)\n",
    "    dataframes[f'df_RPI_{start_test}_{end_test}'] = df_RPI[0*12+i+60:0*12+i+61]"
   ]
  },
  {
   "cell_type": "markdown",
   "id": "d5019441",
   "metadata": {},
   "source": [
    "### SARIMAX: train 5y periods to estimate the next month -- 2009 to current"
   ]
  },
  {
   "cell_type": "code",
   "execution_count": 9,
   "id": "79a090f9",
   "metadata": {
    "scrolled": true
   },
   "outputs": [
    {
     "name": "stderr",
     "output_type": "stream",
     "text": [
      "/home/amirel/.pyenv/versions/3.8.12/envs/lewagon2/lib/python3.8/site-packages/statsmodels/tsa/statespace/sarimax.py:966: UserWarning: Non-stationary starting autoregressive parameters found. Using zeros as starting parameters.\n",
      "  warn('Non-stationary starting autoregressive parameters'\n",
      "/home/amirel/.pyenv/versions/3.8.12/envs/lewagon2/lib/python3.8/site-packages/statsmodels/tsa/statespace/sarimax.py:978: UserWarning: Non-invertible starting MA parameters found. Using zeros as starting parameters.\n",
      "  warn('Non-invertible starting MA parameters found.'\n",
      "/home/amirel/.pyenv/versions/3.8.12/envs/lewagon2/lib/python3.8/site-packages/statsmodels/tsa/statespace/sarimax.py:866: UserWarning: Too few observations to estimate starting parameters for seasonal ARMA. All parameters except for variances will be set to zeros.\n",
      "  warn('Too few observations to estimate starting parameters%s.'\n",
      " This problem is unconstrained.\n"
     ]
    },
    {
     "name": "stdout",
     "output_type": "stream",
     "text": [
      "RUNNING THE L-BFGS-B CODE\n",
      "\n",
      "           * * *\n",
      "\n",
      "Machine precision = 2.220D-16\n",
      " N =            7     M =           10\n",
      "\n",
      "At X0         0 variables are exactly at the bounds\n",
      "\n",
      "At iterate    0    f=  2.34721D+01    |proj g|=  4.01729D+01\n",
      "\n",
      "At iterate    5    f=  1.77001D+00    |proj g|=  1.66591D-01\n",
      "\n",
      "At iterate   10    f=  1.61565D+00    |proj g|=  2.06563D-02\n",
      "\n",
      "At iterate   15    f=  1.60994D+00    |proj g|=  3.44157D-03\n",
      "\n",
      "At iterate   20    f=  1.60891D+00    |proj g|=  2.08340D-03\n",
      "\n",
      "At iterate   25    f=  1.60755D+00    |proj g|=  1.94875D-03\n",
      "\n",
      "At iterate   30    f=  1.60724D+00    |proj g|=  1.61747D-03\n",
      "\n",
      "At iterate   35    f=  1.60720D+00    |proj g|=  2.12614D-04\n",
      "\n",
      "At iterate   40    f=  1.60719D+00    |proj g|=  2.94513D-04\n",
      "\n",
      "At iterate   45    f=  1.60719D+00    |proj g|=  2.16298D-04\n",
      "\n",
      "At iterate   50    f=  1.60719D+00    |proj g|=  1.12245D-04\n",
      "\n",
      "           * * *\n",
      "\n",
      "Tit   = total number of iterations\n",
      "Tnf   = total number of function evaluations\n",
      "Tnint = total number of segments explored during Cauchy searches\n",
      "Skip  = number of BFGS updates skipped\n",
      "Nact  = number of active bounds at final generalized Cauchy point\n",
      "Projg = norm of the final projected gradient\n",
      "F     = final function value\n",
      "\n",
      "           * * *\n",
      "\n",
      "   N    Tit     Tnf  Tnint  Skip  Nact     Projg        F\n",
      "    7     50     63      1     0     0   1.122D-04   1.607D+00\n",
      "  F =   1.6071909544922187     \n",
      "\n",
      "STOP: TOTAL NO. of ITERATIONS REACHED LIMIT                 \n"
     ]
    },
    {
     "name": "stderr",
     "output_type": "stream",
     "text": [
      "/home/amirel/.pyenv/versions/3.8.12/envs/lewagon2/lib/python3.8/site-packages/statsmodels/base/model.py:604: ConvergenceWarning: Maximum Likelihood optimization failed to converge. Check mle_retvals\n",
      "  warnings.warn(\"Maximum Likelihood optimization failed to \"\n",
      "/home/amirel/.pyenv/versions/3.8.12/envs/lewagon2/lib/python3.8/site-packages/statsmodels/tsa/statespace/sarimax.py:966: UserWarning: Non-stationary starting autoregressive parameters found. Using zeros as starting parameters.\n",
      "  warn('Non-stationary starting autoregressive parameters'\n",
      "/home/amirel/.pyenv/versions/3.8.12/envs/lewagon2/lib/python3.8/site-packages/statsmodels/tsa/statespace/sarimax.py:978: UserWarning: Non-invertible starting MA parameters found. Using zeros as starting parameters.\n",
      "  warn('Non-invertible starting MA parameters found.'\n",
      "/home/amirel/.pyenv/versions/3.8.12/envs/lewagon2/lib/python3.8/site-packages/statsmodels/tsa/statespace/sarimax.py:866: UserWarning: Too few observations to estimate starting parameters for seasonal ARMA. All parameters except for variances will be set to zeros.\n",
      "  warn('Too few observations to estimate starting parameters%s.'\n",
      " This problem is unconstrained.\n"
     ]
    },
    {
     "name": "stdout",
     "output_type": "stream",
     "text": [
      "RUNNING THE L-BFGS-B CODE\n",
      "\n",
      "           * * *\n",
      "\n",
      "Machine precision = 2.220D-16\n",
      " N =            7     M =           10\n",
      "\n",
      "At X0         0 variables are exactly at the bounds\n",
      "\n",
      "At iterate    0    f=  2.72672D+01    |proj g|=  4.73661D+01\n",
      "\n",
      "At iterate    5    f=  1.79600D+00    |proj g|=  1.94292D-01\n",
      "\n",
      "At iterate   10    f=  1.62037D+00    |proj g|=  9.87172D-03\n",
      "\n",
      "At iterate   15    f=  1.61267D+00    |proj g|=  3.24348D-03\n",
      "\n",
      "At iterate   20    f=  1.61195D+00    |proj g|=  1.55197D-03\n",
      "\n",
      "At iterate   25    f=  1.61118D+00    |proj g|=  4.14396D-03\n",
      "\n",
      "At iterate   30    f=  1.61031D+00    |proj g|=  5.36370D-03\n",
      "\n",
      "At iterate   35    f=  1.61019D+00    |proj g|=  1.89428D-04\n",
      "\n",
      "At iterate   40    f=  1.61015D+00    |proj g|=  4.88563D-04\n",
      "\n",
      "At iterate   45    f=  1.61015D+00    |proj g|=  2.77357D-04\n",
      "\n",
      "           * * *\n",
      "\n",
      "Tit   = total number of iterations\n",
      "Tnf   = total number of function evaluations\n",
      "Tnint = total number of segments explored during Cauchy searches\n",
      "Skip  = number of BFGS updates skipped\n",
      "Nact  = number of active bounds at final generalized Cauchy point\n",
      "Projg = norm of the final projected gradient\n",
      "F     = final function value\n",
      "\n",
      "           * * *\n",
      "\n",
      "   N    Tit     Tnf  Tnint  Skip  Nact     Projg        F\n",
      "    7     45     62      1     0     0   2.774D-04   1.610D+00\n",
      "  F =   1.6101502702734232     \n",
      "\n",
      "CONVERGENCE: REL_REDUCTION_OF_F_<=_FACTR*EPSMCH             \n",
      "RUNNING THE L-BFGS-B CODE\n",
      "\n",
      "           * * *\n",
      "\n",
      "Machine precision = 2.220D-16\n",
      " N =            7     M =           10\n",
      "\n",
      "At X0         0 variables are exactly at the bounds\n",
      "\n",
      "At iterate    0    f=  1.26467D+02    |proj g|=  2.62208D+02\n",
      "\n",
      "At iterate    5    f=  2.01635D+00    |proj g|=  5.70640D-01\n",
      "\n",
      "At iterate   10    f=  1.64217D+00    |proj g|=  2.71277D-02\n"
     ]
    },
    {
     "name": "stderr",
     "output_type": "stream",
     "text": [
      "\n",
      " Warning:  more than 10 function and gradient\n",
      "   evaluations in the last line search.  Termination\n",
      "   may possibly be caused by a bad search direction.\n",
      "/home/amirel/.pyenv/versions/3.8.12/envs/lewagon2/lib/python3.8/site-packages/statsmodels/tsa/statespace/sarimax.py:966: UserWarning: Non-stationary starting autoregressive parameters found. Using zeros as starting parameters.\n",
      "  warn('Non-stationary starting autoregressive parameters'\n",
      "/home/amirel/.pyenv/versions/3.8.12/envs/lewagon2/lib/python3.8/site-packages/statsmodels/tsa/statespace/sarimax.py:866: UserWarning: Too few observations to estimate starting parameters for seasonal ARMA. All parameters except for variances will be set to zeros.\n",
      "  warn('Too few observations to estimate starting parameters%s.'\n",
      " This problem is unconstrained.\n"
     ]
    },
    {
     "name": "stdout",
     "output_type": "stream",
     "text": [
      "\n",
      "At iterate   15    f=  1.61800D+00    |proj g|=  4.13791D-03\n",
      "\n",
      "At iterate   20    f=  1.61694D+00    |proj g|=  1.50886D-03\n",
      "\n",
      "At iterate   25    f=  1.61597D+00    |proj g|=  5.59692D-03\n",
      "\n",
      "At iterate   30    f=  1.61476D+00    |proj g|=  8.96169D-04\n",
      "\n",
      "At iterate   35    f=  1.61470D+00    |proj g|=  1.92634D-03\n",
      "\n",
      "At iterate   40    f=  1.61464D+00    |proj g|=  1.10284D-03\n",
      "\n",
      "At iterate   45    f=  1.61463D+00    |proj g|=  2.43683D-04\n",
      "\n",
      "At iterate   50    f=  1.61463D+00    |proj g|=  6.88580D-05\n",
      "\n",
      "           * * *\n",
      "\n",
      "Tit   = total number of iterations\n",
      "Tnf   = total number of function evaluations\n",
      "Tnint = total number of segments explored during Cauchy searches\n",
      "Skip  = number of BFGS updates skipped\n",
      "Nact  = number of active bounds at final generalized Cauchy point\n",
      "Projg = norm of the final projected gradient\n",
      "F     = final function value\n",
      "\n",
      "           * * *\n",
      "\n",
      "   N    Tit     Tnf  Tnint  Skip  Nact     Projg        F\n",
      "    7     50     57      1     0     0   6.886D-05   1.615D+00\n",
      "  F =   1.6146265724539011     \n",
      "\n",
      "STOP: TOTAL NO. of ITERATIONS REACHED LIMIT                 \n"
     ]
    },
    {
     "name": "stderr",
     "output_type": "stream",
     "text": [
      "/home/amirel/.pyenv/versions/3.8.12/envs/lewagon2/lib/python3.8/site-packages/statsmodels/base/model.py:604: ConvergenceWarning: Maximum Likelihood optimization failed to converge. Check mle_retvals\n",
      "  warnings.warn(\"Maximum Likelihood optimization failed to \"\n",
      "/home/amirel/.pyenv/versions/3.8.12/envs/lewagon2/lib/python3.8/site-packages/statsmodels/tsa/statespace/sarimax.py:966: UserWarning: Non-stationary starting autoregressive parameters found. Using zeros as starting parameters.\n",
      "  warn('Non-stationary starting autoregressive parameters'\n",
      "/home/amirel/.pyenv/versions/3.8.12/envs/lewagon2/lib/python3.8/site-packages/statsmodels/tsa/statespace/sarimax.py:866: UserWarning: Too few observations to estimate starting parameters for seasonal ARMA. All parameters except for variances will be set to zeros.\n",
      "  warn('Too few observations to estimate starting parameters%s.'\n",
      " This problem is unconstrained.\n"
     ]
    },
    {
     "name": "stdout",
     "output_type": "stream",
     "text": [
      "RUNNING THE L-BFGS-B CODE\n",
      "\n",
      "           * * *\n",
      "\n",
      "Machine precision = 2.220D-16\n",
      " N =            7     M =           10\n",
      "\n",
      "At X0         0 variables are exactly at the bounds\n",
      "\n",
      "At iterate    0    f=  1.60441D+02    |proj g|=  3.29745D+02\n",
      "\n",
      "At iterate    5    f=  2.09986D+00    |proj g|=  7.13156D-01\n",
      "\n",
      "At iterate   10    f=  1.66170D+00    |proj g|=  3.97078D-02\n",
      "\n",
      "At iterate   15    f=  1.62940D+00    |proj g|=  8.45658D-03\n",
      "\n",
      "At iterate   20    f=  1.62768D+00    |proj g|=  1.13096D-03\n",
      "\n",
      "At iterate   25    f=  1.62592D+00    |proj g|=  9.42376D-03\n",
      "\n",
      "At iterate   30    f=  1.62519D+00    |proj g|=  6.65615D-04\n",
      "\n",
      "At iterate   35    f=  1.62507D+00    |proj g|=  7.98344D-04\n",
      "\n",
      "At iterate   40    f=  1.62505D+00    |proj g|=  3.07184D-04\n",
      "\n",
      "At iterate   45    f=  1.62505D+00    |proj g|=  2.97245D-05\n",
      "\n",
      "           * * *\n",
      "\n",
      "Tit   = total number of iterations\n",
      "Tnf   = total number of function evaluations\n",
      "Tnint = total number of segments explored during Cauchy searches\n",
      "Skip  = number of BFGS updates skipped\n",
      "Nact  = number of active bounds at final generalized Cauchy point\n",
      "Projg = norm of the final projected gradient\n",
      "F     = final function value\n",
      "\n",
      "           * * *\n",
      "\n",
      "   N    Tit     Tnf  Tnint  Skip  Nact     Projg        F\n",
      "    7     46     71      2     0     0   2.281D-05   1.625D+00\n",
      "  F =   1.6250475386235863     \n",
      "\n",
      "CONVERGENCE: REL_REDUCTION_OF_F_<=_FACTR*EPSMCH             \n"
     ]
    },
    {
     "name": "stderr",
     "output_type": "stream",
     "text": [
      "\n",
      " Bad direction in the line search;\n",
      "   refresh the lbfgs memory and restart the iteration.\n"
     ]
    }
   ],
   "source": [
    "mape_list = []\n",
    "YOY_error_0_list = []\n",
    "YOY_actual0_list = []\n",
    "\n",
    "for i in range(100, 104):\n",
    "    months = 109 + i\n",
    "    \n",
    "    start = mmyyyy(months)\n",
    "    end = mmyyyy(months+60)\n",
    "    df5y = dataframes[f'df_RPI_{start}_{end}']\n",
    "    \n",
    "    start_test = mmyyyy(months+60)\n",
    "    end_test = mmyyyy(months+60+1)\n",
    "    df5y1m = dataframes[f'df_RPI_{start_test}_{end_test}']\n",
    "    \n",
    "    model=sm.tsa.statespace.SARIMAX(df5y['RPI'],order=(2, 0, 1),seasonal_order=(1,1,2,12))\n",
    "    results=model.fit()\n",
    "\n",
    "    abc = results.predict(start=60,end=61,dynamic=True)\n",
    "    aaa = pd.DataFrame(abc)\n",
    "\n",
    "    mape = 0\n",
    "    YOY_error_0 = 0\n",
    "\n",
    "    YOY_error_0_list.append(pd.DataFrame(aaa['predicted_mean']).iloc[0]['predicted_mean']/df5y.iloc[48]['RPI'] - df5y1m.iloc[0]['RPI']/df5y.iloc[48]['RPI'])\n",
    "    YOY_actual0_list.append(df5y1m.iloc[0]['RPI']/df5y.iloc[48]['RPI'] - 1)"
   ]
  },
  {
   "cell_type": "code",
   "execution_count": 10,
   "id": "9f845f1a",
   "metadata": {},
   "outputs": [],
   "source": [
    "dfdfdf = pd.DataFrame(YOY_error_0_list)"
   ]
  },
  {
   "cell_type": "code",
   "execution_count": 11,
   "id": "a9f89970",
   "metadata": {},
   "outputs": [
    {
     "data": {
      "image/png": "[encoded data removed]",
      "text/plain": [
       "<Figure size 640x480 with 1 Axes>"
      ]
     },
     "metadata": {
      "image/png": {
       "height": 413,
       "width": 586
      }
     },
     "output_type": "display_data"
    }
   ],
   "source": [
    "dfdfdf.plot();"
   ]
  },
  {
   "cell_type": "code",
   "execution_count": 12,
   "id": "c6fec07b",
   "metadata": {},
   "outputs": [
    {
     "data": {
      "image/png": "[encoded data removed]",
      "text/plain": [
       "<Figure size 640x480 with 1 Axes>"
      ]
     },
     "metadata": {
      "image/png": {
       "height": 413,
       "width": 550
      }
     },
     "output_type": "display_data"
    }
   ],
   "source": [
    "plt.hist(dfdfdf);"
   ]
  },
  {
   "cell_type": "code",
   "execution_count": 13,
   "id": "600d3c53",
   "metadata": {},
   "outputs": [
    {
     "data": {
      "text/plain": [
       "345.7"
      ]
     },
     "execution_count": 13,
     "metadata": {},
     "output_type": "execute_result"
    }
   ],
   "source": [
    "dm_prediction = round(aaa['predicted_mean'].iloc[0], 1)\n",
    "dm_prediction"
   ]
  },
  {
   "cell_type": "code",
   "execution_count": 14,
   "id": "1b629b9d",
   "metadata": {},
   "outputs": [
    {
     "name": "stdout",
     "output_type": "stream",
     "text": [
      "Estimated RPI for 2022-08-01 00:00:00 = 345.7\n"
     ]
    }
   ],
   "source": [
    "print(f\"Estimated RPI for {df_RPI['Date'].iloc[aaa.index[0]]} = {round(aaa['predicted_mean'].iloc[0], 1)}\")"
   ]
  },
  {
   "cell_type": "code",
   "execution_count": 15,
   "id": "6419ef1a",
   "metadata": {},
   "outputs": [
    {
     "data": {
      "text/plain": [
       "163    345.712855\n",
       "dtype: float64"
      ]
     },
     "execution_count": 15,
     "metadata": {},
     "output_type": "execute_result"
    }
   ],
   "source": [
    "results.predict(start=60)"
   ]
  },
  {
   "cell_type": "code",
   "execution_count": 16,
   "id": "db1d43fa",
   "metadata": {},
   "outputs": [],
   "source": [
    "results.save(\"sarimax-monthly.pickle\")"
   ]
  },
  {
   "cell_type": "code",
   "execution_count": 19,
   "id": "e82cc65d",
   "metadata": {},
   "outputs": [],
   "source": [
    "import pickle"
   ]
  },
  {
   "cell_type": "code",
   "execution_count": 23,
   "id": "1fdb4ae9",
   "metadata": {},
   "outputs": [],
   "source": [
    "model = pickle.load(open('../data/sarimax-monthly.pickle', 'rb'))"
   ]
  },
  {
   "cell_type": "code",
   "execution_count": 24,
   "id": "6384db80",
   "metadata": {},
   "outputs": [
    {
     "data": {
      "text/plain": [
       "163    345.711563\n",
       "dtype: float64"
      ]
     },
     "execution_count": 24,
     "metadata": {},
     "output_type": "execute_result"
    }
   ],
   "source": [
    "model.predict(start = 60)"
   ]
  },
  {
   "cell_type": "code",
   "execution_count": null,
   "id": "56c86cf4",
   "metadata": {},
   "outputs": [],
   "source": []
  }
 ],
 "metadata": {
  "kernelspec": {
   "display_name": "Python 3 (ipykernel)",
   "language": "python",
   "name": "python3"
  },
  "language_info": {
   "codemirror_mode": {
    "name": "ipython",
    "version": 3
   },
   "file_extension": ".py",
   "mimetype": "text/x-python",
   "name": "python",
   "nbconvert_exporter": "python",
   "pygments_lexer": "ipython3",
   "version": "3.8.12"
  },
  "toc": {
   "base_numbering": 1,
   "nav_menu": {},
   "number_sections": false,
   "sideBar": true,
   "skip_h1_title": true,
   "title_cell": "Table of Contents",
   "title_sidebar": "Contents",
   "toc_cell": false,
   "toc_position": {},
   "toc_section_display": true,
   "toc_window_display": false
  },
  "vscode": {
   "interpreter": {
    "hash": "82c0c222e273d43c27f89e1f3d2c766e9f1083db6834c3e75da4bdb1a08c18fe"
   }
  }
 },
 "nbformat": 4,
 "nbformat_minor": 5
}
